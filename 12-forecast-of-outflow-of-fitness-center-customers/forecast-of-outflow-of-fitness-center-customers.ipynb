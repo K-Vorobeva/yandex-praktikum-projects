{
 "cells": [
  {
   "cell_type": "markdown",
   "metadata": {},
   "source": [
    "# Прогноз оттока клиентов фитнес-центра"
   ]
  },
  {
   "cell_type": "markdown",
   "metadata": {},
   "source": [
    "Сеть фитнес-центров «Культурист-датасаентист» разрабатывает стратегию взаимодействия с клиентами на основе аналитических данных.\n",
    "\n",
    "Распространённая проблема фитнес-клубов и других сервисов — отток клиентов.Для фитнес-центра можно считать, что клиент попал в отток, если за последний месяц ни разу не посетил спортзал. Конечно, не исключено, что он уехал на Бали и по приезде обязательно продолжит ходить на фитнес. Однако чаще бывает наоборот. Если клиент начал новую жизнь с понедельника, немного походил в спортзал, а потом пропал — скорее всего, он не вернётся.\n",
    "\n",
    "Чтобы бороться с оттоком, отдел по работе с клиентами «Культуриста-датасаентиста» перевёл в электронный вид множество клиентских анкет. Наша задача — провести анализ и подготовить план действий по удержанию клиентов.\n",
    "\n",
    "Проект включает в себя:\n",
    "\n",
    "- Предобработку данных\n",
    "- Исследовательский анализ данных:\n",
    "- Построение модели прогнозирования оттока клиентов\n",
    "- Кластеризацию клиентов\n",
    "\n",
    "В результате анализа, моделирования прогноза оттока икластеризации пользователей определены признаки, влияющие на отток клиентов и сформулированы рекомендации для их удержания."
   ]
  },
  {
   "cell_type": "markdown",
   "metadata": {},
   "source": [
    "## Загрузка данных"
   ]
  },
  {
   "cell_type": "markdown",
   "metadata": {},
   "source": [
    "Загрузка библиотек"
   ]
  },
  {
   "cell_type": "code",
   "execution_count": 1,
   "metadata": {
    "scrolled": true
   },
   "outputs": [
    {
     "name": "stdout",
     "output_type": "stream",
     "text": [
      "Defaulting to user installation because normal site-packages is not writeable\n",
      "Collecting seaborn\n",
      "  Downloading seaborn-0.11.2-py3-none-any.whl (292 kB)\n",
      "\u001b[K     |████████████████████████████████| 292 kB 1.2 MB/s eta 0:00:01\n",
      "\u001b[?25hRequirement already satisfied, skipping upgrade: pandas>=0.23 in /opt/conda/lib/python3.7/site-packages (from seaborn) (0.25.1)\n",
      "Requirement already satisfied, skipping upgrade: numpy>=1.15 in /opt/conda/lib/python3.7/site-packages (from seaborn) (1.19.5)\n",
      "Requirement already satisfied, skipping upgrade: scipy>=1.0 in /opt/conda/lib/python3.7/site-packages (from seaborn) (1.4.1)\n",
      "Requirement already satisfied, skipping upgrade: matplotlib>=2.2 in /opt/conda/lib/python3.7/site-packages (from seaborn) (3.1.0)\n",
      "Requirement already satisfied, skipping upgrade: pytz>=2017.2 in /opt/conda/lib/python3.7/site-packages (from pandas>=0.23->seaborn) (2021.1)\n",
      "Requirement already satisfied, skipping upgrade: python-dateutil>=2.6.1 in /opt/conda/lib/python3.7/site-packages (from pandas>=0.23->seaborn) (2.8.1)\n",
      "Requirement already satisfied, skipping upgrade: pyparsing!=2.0.4,!=2.1.2,!=2.1.6,>=2.0.1 in /opt/conda/lib/python3.7/site-packages (from matplotlib>=2.2->seaborn) (2.4.7)\n",
      "Requirement already satisfied, skipping upgrade: kiwisolver>=1.0.1 in /opt/conda/lib/python3.7/site-packages (from matplotlib>=2.2->seaborn) (1.3.1)\n",
      "Requirement already satisfied, skipping upgrade: cycler>=0.10 in /opt/conda/lib/python3.7/site-packages (from matplotlib>=2.2->seaborn) (0.10.0)\n",
      "Requirement already satisfied, skipping upgrade: six>=1.5 in /opt/conda/lib/python3.7/site-packages (from python-dateutil>=2.6.1->pandas>=0.23->seaborn) (1.15.0)\n",
      "Installing collected packages: seaborn\n",
      "Successfully installed seaborn-0.11.2\n"
     ]
    }
   ],
   "source": [
    "!pip install -U seaborn"
   ]
  },
  {
   "cell_type": "code",
   "execution_count": 2,
   "metadata": {},
   "outputs": [],
   "source": [
    "import pandas as pd\n",
    "import numpy as np\n",
    "\n",
    "import matplotlib.pyplot as plt\n",
    "import seaborn as sns\n",
    "import plotly.express as px\n",
    "import plotly.graph_objects as go\n",
    "\n",
    "from sklearn.model_selection import train_test_split\n",
    "from sklearn.linear_model import LogisticRegression\n",
    "from sklearn.ensemble import RandomForestClassifier\n",
    "from sklearn.metrics import accuracy_score, precision_score, recall_score\n",
    "from sklearn.preprocessing import StandardScaler\n",
    "from scipy.cluster.hierarchy import dendrogram, linkage\n",
    "from sklearn.cluster import KMeans\n",
    "\n",
    "import warnings\n",
    "warnings.filterwarnings(\"ignore\")"
   ]
  },
  {
   "cell_type": "markdown",
   "metadata": {},
   "source": [
    "Загрузка данных:"
   ]
  },
  {
   "cell_type": "code",
   "execution_count": 3,
   "metadata": {},
   "outputs": [],
   "source": [
    "data = pd.read_csv('/datasets/gym_churn.csv')"
   ]
  },
  {
   "cell_type": "markdown",
   "metadata": {},
   "source": [
    "Выведем 5 случайных строк(в транспонированном виде) и общую информацию о данных:"
   ]
  },
  {
   "cell_type": "code",
   "execution_count": 4,
   "metadata": {},
   "outputs": [
    {
     "data": {
      "text/html": [
       "<div>\n",
       "<style scoped>\n",
       "    .dataframe tbody tr th:only-of-type {\n",
       "        vertical-align: middle;\n",
       "    }\n",
       "\n",
       "    .dataframe tbody tr th {\n",
       "        vertical-align: top;\n",
       "    }\n",
       "\n",
       "    .dataframe thead th {\n",
       "        text-align: right;\n",
       "    }\n",
       "</style>\n",
       "<table border=\"1\" class=\"dataframe\">\n",
       "  <thead>\n",
       "    <tr style=\"text-align: right;\">\n",
       "      <th></th>\n",
       "      <th>2833</th>\n",
       "      <th>440</th>\n",
       "      <th>3908</th>\n",
       "      <th>3357</th>\n",
       "      <th>2467</th>\n",
       "    </tr>\n",
       "  </thead>\n",
       "  <tbody>\n",
       "    <tr>\n",
       "      <td>gender</td>\n",
       "      <td>0.000000</td>\n",
       "      <td>1.000000</td>\n",
       "      <td>1.000000</td>\n",
       "      <td>0.000000</td>\n",
       "      <td>0.000000</td>\n",
       "    </tr>\n",
       "    <tr>\n",
       "      <td>Near_Location</td>\n",
       "      <td>1.000000</td>\n",
       "      <td>1.000000</td>\n",
       "      <td>1.000000</td>\n",
       "      <td>1.000000</td>\n",
       "      <td>1.000000</td>\n",
       "    </tr>\n",
       "    <tr>\n",
       "      <td>Partner</td>\n",
       "      <td>0.000000</td>\n",
       "      <td>0.000000</td>\n",
       "      <td>0.000000</td>\n",
       "      <td>1.000000</td>\n",
       "      <td>0.000000</td>\n",
       "    </tr>\n",
       "    <tr>\n",
       "      <td>Promo_friends</td>\n",
       "      <td>0.000000</td>\n",
       "      <td>0.000000</td>\n",
       "      <td>0.000000</td>\n",
       "      <td>0.000000</td>\n",
       "      <td>0.000000</td>\n",
       "    </tr>\n",
       "    <tr>\n",
       "      <td>Phone</td>\n",
       "      <td>1.000000</td>\n",
       "      <td>1.000000</td>\n",
       "      <td>1.000000</td>\n",
       "      <td>1.000000</td>\n",
       "      <td>1.000000</td>\n",
       "    </tr>\n",
       "    <tr>\n",
       "      <td>Contract_period</td>\n",
       "      <td>1.000000</td>\n",
       "      <td>1.000000</td>\n",
       "      <td>1.000000</td>\n",
       "      <td>1.000000</td>\n",
       "      <td>1.000000</td>\n",
       "    </tr>\n",
       "    <tr>\n",
       "      <td>Group_visits</td>\n",
       "      <td>1.000000</td>\n",
       "      <td>0.000000</td>\n",
       "      <td>0.000000</td>\n",
       "      <td>0.000000</td>\n",
       "      <td>0.000000</td>\n",
       "    </tr>\n",
       "    <tr>\n",
       "      <td>Age</td>\n",
       "      <td>29.000000</td>\n",
       "      <td>27.000000</td>\n",
       "      <td>21.000000</td>\n",
       "      <td>31.000000</td>\n",
       "      <td>29.000000</td>\n",
       "    </tr>\n",
       "    <tr>\n",
       "      <td>Avg_additional_charges_total</td>\n",
       "      <td>5.711843</td>\n",
       "      <td>106.921928</td>\n",
       "      <td>232.306539</td>\n",
       "      <td>69.834474</td>\n",
       "      <td>165.918840</td>\n",
       "    </tr>\n",
       "    <tr>\n",
       "      <td>Month_to_end_contract</td>\n",
       "      <td>1.000000</td>\n",
       "      <td>1.000000</td>\n",
       "      <td>1.000000</td>\n",
       "      <td>1.000000</td>\n",
       "      <td>1.000000</td>\n",
       "    </tr>\n",
       "    <tr>\n",
       "      <td>Lifetime</td>\n",
       "      <td>2.000000</td>\n",
       "      <td>10.000000</td>\n",
       "      <td>0.000000</td>\n",
       "      <td>3.000000</td>\n",
       "      <td>1.000000</td>\n",
       "    </tr>\n",
       "    <tr>\n",
       "      <td>Avg_class_frequency_total</td>\n",
       "      <td>0.667697</td>\n",
       "      <td>1.447118</td>\n",
       "      <td>0.322621</td>\n",
       "      <td>1.649349</td>\n",
       "      <td>2.470409</td>\n",
       "    </tr>\n",
       "    <tr>\n",
       "      <td>Avg_class_frequency_current_month</td>\n",
       "      <td>0.564066</td>\n",
       "      <td>1.628643</td>\n",
       "      <td>0.788173</td>\n",
       "      <td>1.745266</td>\n",
       "      <td>2.495465</td>\n",
       "    </tr>\n",
       "    <tr>\n",
       "      <td>Churn</td>\n",
       "      <td>0.000000</td>\n",
       "      <td>0.000000</td>\n",
       "      <td>1.000000</td>\n",
       "      <td>0.000000</td>\n",
       "      <td>0.000000</td>\n",
       "    </tr>\n",
       "  </tbody>\n",
       "</table>\n",
       "</div>"
      ],
      "text/plain": [
       "                                        2833        440         3908  \\\n",
       "gender                              0.000000    1.000000    1.000000   \n",
       "Near_Location                       1.000000    1.000000    1.000000   \n",
       "Partner                             0.000000    0.000000    0.000000   \n",
       "Promo_friends                       0.000000    0.000000    0.000000   \n",
       "Phone                               1.000000    1.000000    1.000000   \n",
       "Contract_period                     1.000000    1.000000    1.000000   \n",
       "Group_visits                        1.000000    0.000000    0.000000   \n",
       "Age                                29.000000   27.000000   21.000000   \n",
       "Avg_additional_charges_total        5.711843  106.921928  232.306539   \n",
       "Month_to_end_contract               1.000000    1.000000    1.000000   \n",
       "Lifetime                            2.000000   10.000000    0.000000   \n",
       "Avg_class_frequency_total           0.667697    1.447118    0.322621   \n",
       "Avg_class_frequency_current_month   0.564066    1.628643    0.788173   \n",
       "Churn                               0.000000    0.000000    1.000000   \n",
       "\n",
       "                                        3357        2467  \n",
       "gender                              0.000000    0.000000  \n",
       "Near_Location                       1.000000    1.000000  \n",
       "Partner                             1.000000    0.000000  \n",
       "Promo_friends                       0.000000    0.000000  \n",
       "Phone                               1.000000    1.000000  \n",
       "Contract_period                     1.000000    1.000000  \n",
       "Group_visits                        0.000000    0.000000  \n",
       "Age                                31.000000   29.000000  \n",
       "Avg_additional_charges_total       69.834474  165.918840  \n",
       "Month_to_end_contract               1.000000    1.000000  \n",
       "Lifetime                            3.000000    1.000000  \n",
       "Avg_class_frequency_total           1.649349    2.470409  \n",
       "Avg_class_frequency_current_month   1.745266    2.495465  \n",
       "Churn                               0.000000    0.000000  "
      ]
     },
     "execution_count": 4,
     "metadata": {},
     "output_type": "execute_result"
    }
   ],
   "source": [
    "data.sample(5).T"
   ]
  },
  {
   "cell_type": "code",
   "execution_count": 5,
   "metadata": {
    "scrolled": true
   },
   "outputs": [
    {
     "name": "stdout",
     "output_type": "stream",
     "text": [
      "<class 'pandas.core.frame.DataFrame'>\n",
      "RangeIndex: 4000 entries, 0 to 3999\n",
      "Data columns (total 14 columns):\n",
      "gender                               4000 non-null int64\n",
      "Near_Location                        4000 non-null int64\n",
      "Partner                              4000 non-null int64\n",
      "Promo_friends                        4000 non-null int64\n",
      "Phone                                4000 non-null int64\n",
      "Contract_period                      4000 non-null int64\n",
      "Group_visits                         4000 non-null int64\n",
      "Age                                  4000 non-null int64\n",
      "Avg_additional_charges_total         4000 non-null float64\n",
      "Month_to_end_contract                4000 non-null float64\n",
      "Lifetime                             4000 non-null int64\n",
      "Avg_class_frequency_total            4000 non-null float64\n",
      "Avg_class_frequency_current_month    4000 non-null float64\n",
      "Churn                                4000 non-null int64\n",
      "dtypes: float64(4), int64(10)\n",
      "memory usage: 437.6 KB\n"
     ]
    }
   ],
   "source": [
    "data.info()"
   ]
  },
  {
   "cell_type": "markdown",
   "metadata": {},
   "source": [
    "Имеем 4000 записей, пропущенных значений нет. Вседанные имеют числовое значение. Данные разбиты на 14 колонок:\n",
    "\n",
    "- 'Churn' — факт оттока в текущем месяце;\n",
    "\n",
    "Текущие поля в датасете:\n",
    "\n",
    "Данные клиента за предыдущий до проверки факта оттока месяц:\n",
    "\n",
    "- 'gender' — пол;\n",
    "- 'Near_Location' — проживание или работа в районе, где находится фитнес-центр;\n",
    "- 'Partner' — сотрудник компании-партнёра клуба (сотрудничество с компаниями, чьи сотрудники могут получать скидки на абонемент — в таком случае фитнес-центр хранит информацию о работодателе клиента);\n",
    "- Promo_friends — факт первоначальной записи в рамках акции «приведи друга» (использовал промо-код от знакомого при оплате первого абонемента);\n",
    "- 'Phone' — наличие контактного телефона;\n",
    "- 'Age' — возраст;\n",
    "- 'Lifetime' — время с момента первого обращения в фитнес-центр (в месяцах).\n",
    "\n",
    "Информация на основе журнала посещений, покупок и информация о текущем статусе абонемента клиента:\n",
    "\n",
    "- 'Contract_period' — длительность текущего действующего абонемента (месяц, 3 месяца, 6 месяцев, год);\n",
    "- 'Month_to_end_contract' — срок до окончания текущего действующего абонемента (в месяцах);\n",
    "- 'Group_visits' — факт посещения групповых занятий;\n",
    "- 'Avg_class_frequency_total' — средняя частота посещений в неделю за все время с начала действия абонемента;\n",
    "- 'Avg_class_frequency_current_month' — средняя частота посещений в неделю за предыдущий месяц;\n",
    "- 'Avg_additional_charges_total' — суммарная выручка от других услуг фитнес-центра: кафе, спорт-товары, косметический и массажный салон."
   ]
  },
  {
   "cell_type": "markdown",
   "metadata": {},
   "source": [
    "### Предобработка данных"
   ]
  },
  {
   "cell_type": "markdown",
   "metadata": {},
   "source": [
    "Приведем названия колонок к нижнему регистру:"
   ]
  },
  {
   "cell_type": "code",
   "execution_count": 6,
   "metadata": {},
   "outputs": [],
   "source": [
    "data.columns = [i.lower() for i in list(data.columns)]"
   ]
  },
  {
   "cell_type": "markdown",
   "metadata": {},
   "source": [
    "Присвоим тип bool данным, находящимся в колонках `gender, near_location, partner, promo_friends, phone, group_visits, churn'`:"
   ]
  },
  {
   "cell_type": "code",
   "execution_count": 7,
   "metadata": {},
   "outputs": [],
   "source": [
    "data[['gender', 'near_location', 'partner', 'promo_friends', 'phone', 'group_visits', 'churn']] = (\n",
    "    data[['gender', 'near_location', 'partner', 'promo_friends', 'phone', 'group_visits', 'churn']].astype(np.bool))"
   ]
  },
  {
   "cell_type": "markdown",
   "metadata": {},
   "source": [
    "Для данных в колонках `avg_additional_charges_total, avg_class_frequency_total, avg_class_frequency_current_mont` присвоим тип float32, в колонках `age, month_to_end_contract, lifetime`, `contract_period` - uint8, "
   ]
  },
  {
   "cell_type": "code",
   "execution_count": 8,
   "metadata": {},
   "outputs": [],
   "source": [
    "data[['avg_additional_charges_total', 'avg_class_frequency_total', 'avg_class_frequency_current_month']] = data[\n",
    "    ['avg_additional_charges_total', 'avg_class_frequency_total', 'avg_class_frequency_current_month']].astype(np.float32)\n",
    "\n",
    "data[['age', 'month_to_end_contract', 'lifetime']] = data[['age', 'month_to_end_contract', 'lifetime']].astype(np.uint8)"
   ]
  },
  {
   "cell_type": "markdown",
   "metadata": {},
   "source": [
    "Выведем общую информацию о данных:"
   ]
  },
  {
   "cell_type": "code",
   "execution_count": 9,
   "metadata": {},
   "outputs": [
    {
     "name": "stdout",
     "output_type": "stream",
     "text": [
      "<class 'pandas.core.frame.DataFrame'>\n",
      "RangeIndex: 4000 entries, 0 to 3999\n",
      "Data columns (total 14 columns):\n",
      "gender                               4000 non-null bool\n",
      "near_location                        4000 non-null bool\n",
      "partner                              4000 non-null bool\n",
      "promo_friends                        4000 non-null bool\n",
      "phone                                4000 non-null bool\n",
      "contract_period                      4000 non-null int64\n",
      "group_visits                         4000 non-null bool\n",
      "age                                  4000 non-null uint8\n",
      "avg_additional_charges_total         4000 non-null float32\n",
      "month_to_end_contract                4000 non-null uint8\n",
      "lifetime                             4000 non-null uint8\n",
      "avg_class_frequency_total            4000 non-null float32\n",
      "avg_class_frequency_current_month    4000 non-null float32\n",
      "churn                                4000 non-null bool\n",
      "dtypes: bool(7), float32(3), int64(1), uint8(3)\n",
      "memory usage: 117.3 KB\n"
     ]
    }
   ],
   "source": [
    "data.info()"
   ]
  },
  {
   "cell_type": "markdown",
   "metadata": {},
   "source": [
    "Проверка на дубликаты:"
   ]
  },
  {
   "cell_type": "code",
   "execution_count": 10,
   "metadata": {},
   "outputs": [
    {
     "data": {
      "text/plain": [
       "0"
      ]
     },
     "execution_count": 10,
     "metadata": {},
     "output_type": "execute_result"
    }
   ],
   "source": [
    "data.duplicated().sum()"
   ]
  },
  {
   "cell_type": "markdown",
   "metadata": {},
   "source": [
    "**Вывод:**\n",
    "\n",
    "- Данные содержат 4000 записей, без пропущенныхзначений и дубликатов. \n",
    "- Оптимизированы названия колонок и типы значений.\n"
   ]
  },
  {
   "cell_type": "markdown",
   "metadata": {},
   "source": [
    "## Исследовательский анализ данных"
   ]
  },
  {
   "cell_type": "markdown",
   "metadata": {},
   "source": [
    "Рассмотрим распределение значений признаков в датасете:"
   ]
  },
  {
   "cell_type": "code",
   "execution_count": 11,
   "metadata": {},
   "outputs": [
    {
     "data": {
      "text/html": [
       "<div>\n",
       "<style scoped>\n",
       "    .dataframe tbody tr th:only-of-type {\n",
       "        vertical-align: middle;\n",
       "    }\n",
       "\n",
       "    .dataframe tbody tr th {\n",
       "        vertical-align: top;\n",
       "    }\n",
       "\n",
       "    .dataframe thead th {\n",
       "        text-align: right;\n",
       "    }\n",
       "</style>\n",
       "<table border=\"1\" class=\"dataframe\">\n",
       "  <thead>\n",
       "    <tr style=\"text-align: right;\">\n",
       "      <th></th>\n",
       "      <th>count</th>\n",
       "      <th>mean</th>\n",
       "      <th>std</th>\n",
       "      <th>min</th>\n",
       "      <th>25%</th>\n",
       "      <th>50%</th>\n",
       "      <th>75%</th>\n",
       "      <th>max</th>\n",
       "    </tr>\n",
       "  </thead>\n",
       "  <tbody>\n",
       "    <tr>\n",
       "      <td>contract_period</td>\n",
       "      <td>4000.0</td>\n",
       "      <td>4.681250</td>\n",
       "      <td>4.549706</td>\n",
       "      <td>1.000000</td>\n",
       "      <td>1.000000</td>\n",
       "      <td>1.000000</td>\n",
       "      <td>6.000000</td>\n",
       "      <td>12.000000</td>\n",
       "    </tr>\n",
       "    <tr>\n",
       "      <td>age</td>\n",
       "      <td>4000.0</td>\n",
       "      <td>29.184250</td>\n",
       "      <td>3.258367</td>\n",
       "      <td>18.000000</td>\n",
       "      <td>27.000000</td>\n",
       "      <td>29.000000</td>\n",
       "      <td>31.000000</td>\n",
       "      <td>41.000000</td>\n",
       "    </tr>\n",
       "    <tr>\n",
       "      <td>avg_additional_charges_total</td>\n",
       "      <td>4000.0</td>\n",
       "      <td>146.943726</td>\n",
       "      <td>96.355606</td>\n",
       "      <td>0.148205</td>\n",
       "      <td>68.868832</td>\n",
       "      <td>136.220161</td>\n",
       "      <td>210.949619</td>\n",
       "      <td>552.590759</td>\n",
       "    </tr>\n",
       "    <tr>\n",
       "      <td>month_to_end_contract</td>\n",
       "      <td>4000.0</td>\n",
       "      <td>4.322750</td>\n",
       "      <td>4.191297</td>\n",
       "      <td>1.000000</td>\n",
       "      <td>1.000000</td>\n",
       "      <td>1.000000</td>\n",
       "      <td>6.000000</td>\n",
       "      <td>12.000000</td>\n",
       "    </tr>\n",
       "    <tr>\n",
       "      <td>lifetime</td>\n",
       "      <td>4000.0</td>\n",
       "      <td>3.724750</td>\n",
       "      <td>3.749267</td>\n",
       "      <td>0.000000</td>\n",
       "      <td>1.000000</td>\n",
       "      <td>3.000000</td>\n",
       "      <td>5.000000</td>\n",
       "      <td>31.000000</td>\n",
       "    </tr>\n",
       "    <tr>\n",
       "      <td>avg_class_frequency_total</td>\n",
       "      <td>4000.0</td>\n",
       "      <td>1.879020</td>\n",
       "      <td>0.972245</td>\n",
       "      <td>0.000000</td>\n",
       "      <td>1.180875</td>\n",
       "      <td>1.832768</td>\n",
       "      <td>2.536078</td>\n",
       "      <td>6.023668</td>\n",
       "    </tr>\n",
       "    <tr>\n",
       "      <td>avg_class_frequency_current_month</td>\n",
       "      <td>4000.0</td>\n",
       "      <td>1.767052</td>\n",
       "      <td>1.052906</td>\n",
       "      <td>0.000000</td>\n",
       "      <td>0.963003</td>\n",
       "      <td>1.719574</td>\n",
       "      <td>2.510336</td>\n",
       "      <td>6.146783</td>\n",
       "    </tr>\n",
       "  </tbody>\n",
       "</table>\n",
       "</div>"
      ],
      "text/plain": [
       "                                    count        mean        std        min  \\\n",
       "contract_period                    4000.0    4.681250   4.549706   1.000000   \n",
       "age                                4000.0   29.184250   3.258367  18.000000   \n",
       "avg_additional_charges_total       4000.0  146.943726  96.355606   0.148205   \n",
       "month_to_end_contract              4000.0    4.322750   4.191297   1.000000   \n",
       "lifetime                           4000.0    3.724750   3.749267   0.000000   \n",
       "avg_class_frequency_total          4000.0    1.879020   0.972245   0.000000   \n",
       "avg_class_frequency_current_month  4000.0    1.767052   1.052906   0.000000   \n",
       "\n",
       "                                         25%         50%         75%  \\\n",
       "contract_period                     1.000000    1.000000    6.000000   \n",
       "age                                27.000000   29.000000   31.000000   \n",
       "avg_additional_charges_total       68.868832  136.220161  210.949619   \n",
       "month_to_end_contract               1.000000    1.000000    6.000000   \n",
       "lifetime                            1.000000    3.000000    5.000000   \n",
       "avg_class_frequency_total           1.180875    1.832768    2.536078   \n",
       "avg_class_frequency_current_month   0.963003    1.719574    2.510336   \n",
       "\n",
       "                                          max  \n",
       "contract_period                     12.000000  \n",
       "age                                 41.000000  \n",
       "avg_additional_charges_total       552.590759  \n",
       "month_to_end_contract               12.000000  \n",
       "lifetime                            31.000000  \n",
       "avg_class_frequency_total            6.023668  \n",
       "avg_class_frequency_current_month    6.146783  "
      ]
     },
     "execution_count": 11,
     "metadata": {},
     "output_type": "execute_result"
    }
   ],
   "source": [
    "data.describe().T"
   ]
  },
  {
   "cell_type": "markdown",
   "metadata": {},
   "source": [
    "Далее будем называть клиентов, не попавших в отток Надёжными клиентами. Сгруппируем данные по факту оттока и найдём средние величины:"
   ]
  },
  {
   "cell_type": "code",
   "execution_count": 12,
   "metadata": {
    "scrolled": true
   },
   "outputs": [
    {
     "data": {
      "text/html": [
       "<div>\n",
       "<style scoped>\n",
       "    .dataframe tbody tr th:only-of-type {\n",
       "        vertical-align: middle;\n",
       "    }\n",
       "\n",
       "    .dataframe tbody tr th {\n",
       "        vertical-align: top;\n",
       "    }\n",
       "\n",
       "    .dataframe thead th {\n",
       "        text-align: right;\n",
       "    }\n",
       "</style>\n",
       "<table border=\"1\" class=\"dataframe\">\n",
       "  <thead>\n",
       "    <tr style=\"text-align: right;\">\n",
       "      <th>churn</th>\n",
       "      <th>Надёжные клиенты</th>\n",
       "      <th>Клиенты в оттоке</th>\n",
       "    </tr>\n",
       "  </thead>\n",
       "  <tbody>\n",
       "    <tr>\n",
       "      <td>gender</td>\n",
       "      <td>0.510037</td>\n",
       "      <td>0.510839</td>\n",
       "    </tr>\n",
       "    <tr>\n",
       "      <td>near_location</td>\n",
       "      <td>0.873086</td>\n",
       "      <td>0.768143</td>\n",
       "    </tr>\n",
       "    <tr>\n",
       "      <td>partner</td>\n",
       "      <td>0.534195</td>\n",
       "      <td>0.355325</td>\n",
       "    </tr>\n",
       "    <tr>\n",
       "      <td>promo_friends</td>\n",
       "      <td>0.353522</td>\n",
       "      <td>0.183789</td>\n",
       "    </tr>\n",
       "    <tr>\n",
       "      <td>phone</td>\n",
       "      <td>0.903709</td>\n",
       "      <td>0.902922</td>\n",
       "    </tr>\n",
       "    <tr>\n",
       "      <td>contract_period</td>\n",
       "      <td>5.747193</td>\n",
       "      <td>1.728558</td>\n",
       "    </tr>\n",
       "    <tr>\n",
       "      <td>group_visits</td>\n",
       "      <td>0.464103</td>\n",
       "      <td>0.268615</td>\n",
       "    </tr>\n",
       "    <tr>\n",
       "      <td>age</td>\n",
       "      <td>29.976523</td>\n",
       "      <td>26.989632</td>\n",
       "    </tr>\n",
       "    <tr>\n",
       "      <td>avg_additional_charges_total</td>\n",
       "      <td>158.445709</td>\n",
       "      <td>115.082901</td>\n",
       "    </tr>\n",
       "    <tr>\n",
       "      <td>month_to_end_contract</td>\n",
       "      <td>5.283089</td>\n",
       "      <td>1.662582</td>\n",
       "    </tr>\n",
       "    <tr>\n",
       "      <td>lifetime</td>\n",
       "      <td>4.711807</td>\n",
       "      <td>0.990575</td>\n",
       "    </tr>\n",
       "    <tr>\n",
       "      <td>avg_class_frequency_total</td>\n",
       "      <td>2.024876</td>\n",
       "      <td>1.474995</td>\n",
       "    </tr>\n",
       "    <tr>\n",
       "      <td>avg_class_frequency_current_month</td>\n",
       "      <td>2.027882</td>\n",
       "      <td>1.044546</td>\n",
       "    </tr>\n",
       "  </tbody>\n",
       "</table>\n",
       "</div>"
      ],
      "text/plain": [
       "churn                              Надёжные клиенты  Клиенты в оттоке\n",
       "gender                                     0.510037          0.510839\n",
       "near_location                              0.873086          0.768143\n",
       "partner                                    0.534195          0.355325\n",
       "promo_friends                              0.353522          0.183789\n",
       "phone                                      0.903709          0.902922\n",
       "contract_period                            5.747193          1.728558\n",
       "group_visits                               0.464103          0.268615\n",
       "age                                       29.976523         26.989632\n",
       "avg_additional_charges_total             158.445709        115.082901\n",
       "month_to_end_contract                      5.283089          1.662582\n",
       "lifetime                                   4.711807          0.990575\n",
       "avg_class_frequency_total                  2.024876          1.474995\n",
       "avg_class_frequency_current_month          2.027882          1.044546"
      ]
     },
     "execution_count": 12,
     "metadata": {},
     "output_type": "execute_result"
    }
   ],
   "source": [
    "data.groupby('churn').mean().T.rename(columns={False:'Надёжные клиенты', True:'Клиенты в оттоке'})"
   ]
  },
  {
   "cell_type": "markdown",
   "metadata": {},
   "source": [
    "Клиенты в оттоке тратят меньше чем надёжные и чаще выбирают короткие абонементы. Построим диаграммы распределения значений признаков для надёжных клиентов и ушедших в отток:"
   ]
  },
  {
   "cell_type": "code",
   "execution_count": 13,
   "metadata": {},
   "outputs": [],
   "source": [
    "list_bool = [\n",
    "    'churn',\n",
    "    'gender', \n",
    "    'near_location', \n",
    "    'partner', \n",
    "    'promo_friends', \n",
    "    'phone', \n",
    "    'group_visits', \n",
    "    'contract_period'\n",
    "]\n",
    "\n",
    "list_num = [\n",
    "    'age', \n",
    "    'avg_additional_charges_total',\n",
    "    'month_to_end_contract', \n",
    "    'lifetime', \n",
    "    'avg_class_frequency_total',\n",
    "    'avg_class_frequency_current_month'\n",
    "]"
   ]
  },
  {
   "cell_type": "code",
   "execution_count": 14,
   "metadata": {
    "scrolled": true
   },
   "outputs": [
    {
     "data": {
      "text/plain": [
       "<Figure size 432x216 with 0 Axes>"
      ]
     },
     "metadata": {},
     "output_type": "display_data"
    },
    {
     "data": {
      "image/png": "[encoded data removed]",
      "text/plain": [
       "<Figure size 360x360 with 1 Axes>"
      ]
     },
     "metadata": {
      "needs_background": "light"
     },
     "output_type": "display_data"
    },
    {
     "data": {
      "text/plain": [
       "<Figure size 432x216 with 0 Axes>"
      ]
     },
     "metadata": {},
     "output_type": "display_data"
    },
    {
     "data": {
      "image/png": "[encoded data removed]",
      "text/plain": [
       "<Figure size 360x360 with 1 Axes>"
      ]
     },
     "metadata": {
      "needs_background": "light"
     },
     "output_type": "display_data"
    },
    {
     "data": {
      "text/plain": [
       "<Figure size 432x216 with 0 Axes>"
      ]
     },
     "metadata": {},
     "output_type": "display_data"
    },
    {
     "data": {
      "image/png": "[encoded data removed]",
      "text/plain": [
       "<Figure size 360x360 with 1 Axes>"
      ]
     },
     "metadata": {
      "needs_background": "light"
     },
     "output_type": "display_data"
    },
    {
     "data": {
      "text/plain": [
       "<Figure size 432x216 with 0 Axes>"
      ]
     },
     "metadata": {},
     "output_type": "display_data"
    },
    {
     "data": {
      "image/png": "[encoded data removed]",
      "text/plain": [
       "<Figure size 360x360 with 1 Axes>"
      ]
     },
     "metadata": {
      "needs_background": "light"
     },
     "output_type": "display_data"
    },
    {
     "data": {
      "text/plain": [
       "<Figure size 432x216 with 0 Axes>"
      ]
     },
     "metadata": {},
     "output_type": "display_data"
    },
    {
     "data": {
      "image/png": "[encoded data removed]",
      "text/plain": [
       "<Figure size 360x360 with 1 Axes>"
      ]
     },
     "metadata": {
      "needs_background": "light"
     },
     "output_type": "display_data"
    },
    {
     "data": {
      "text/plain": [
       "<Figure size 432x216 with 0 Axes>"
      ]
     },
     "metadata": {},
     "output_type": "display_data"
    },
    {
     "data": {
      "image/png": "[encoded data removed]",
      "text/plain": [
       "<Figure size 360x360 with 1 Axes>"
      ]
     },
     "metadata": {
      "needs_background": "light"
     },
     "output_type": "display_data"
    },
    {
     "data": {
      "text/plain": [
       "<Figure size 432x216 with 0 Axes>"
      ]
     },
     "metadata": {},
     "output_type": "display_data"
    },
    {
     "data": {
      "image/png": "[encoded data removed]",
      "text/plain": [
       "<Figure size 360x360 with 1 Axes>"
      ]
     },
     "metadata": {
      "needs_background": "light"
     },
     "output_type": "display_data"
    }
   ],
   "source": [
    "for i in list_bool:\n",
    "    if i == 'churn':\n",
    "        continue\n",
    "    plt.figure(figsize = (6, 3))\n",
    "    sns.catplot(i, hue='churn', data = data[list_bool], kind='count', legend=False, palette=\"husl\")\n",
    "    plt.legend(labels = ('Надёжные', 'В оттоке'))\n",
    "    plt.title('Распределение для признака ' + i)\n",
    "    plt.show()\n",
    "    "
   ]
  },
  {
   "cell_type": "code",
   "execution_count": 15,
   "metadata": {
    "scrolled": true
   },
   "outputs": [
    {
     "data": {
      "image/png": "[encoded data removed]",
      "text/plain": [
       "<Figure size 432x216 with 1 Axes>"
      ]
     },
     "metadata": {
      "needs_background": "light"
     },
     "output_type": "display_data"
    },
    {
     "data": {
      "image/png": "[encoded data removed]",
      "text/plain": [
       "<Figure size 432x216 with 1 Axes>"
      ]
     },
     "metadata": {
      "needs_background": "light"
     },
     "output_type": "display_data"
    },
    {
     "data": {
      "image/png": "[encoded data removed]",
      "text/plain": [
       "<Figure size 432x216 with 1 Axes>"
      ]
     },
     "metadata": {
      "needs_background": "light"
     },
     "output_type": "display_data"
    },
    {
     "data": {
      "image/png": "[encoded data removed]",
      "text/plain": [
       "<Figure size 432x216 with 1 Axes>"
      ]
     },
     "metadata": {
      "needs_background": "light"
     },
     "output_type": "display_data"
    },
    {
     "data": {
      "image/png": "[encoded data removed]",
      "text/plain": [
       "<Figure size 432x216 with 1 Axes>"
      ]
     },
     "metadata": {
      "needs_background": "light"
     },
     "output_type": "display_data"
    },
    {
     "data": {
      "image/png": "[encoded data removed]",
      "text/plain": [
       "<Figure size 432x216 with 1 Axes>"
      ]
     },
     "metadata": {
      "needs_background": "light"
     },
     "output_type": "display_data"
    }
   ],
   "source": [
    "for i in list_num:\n",
    "    plt.figure(figsize=(6, 3))\n",
    "    sns.distplot(data.query('~churn')[i])\n",
    "    sns.distplot(data.query('churn')[i], color = 'r')\n",
    "    plt.legend(labels = ('Надёжные', 'В оттоке'))\n",
    "    plt.title('Распределение для признака ' + i)\n",
    "    plt.show()"
   ]
  },
  {
   "cell_type": "markdown",
   "metadata": {},
   "source": [
    "Разберём влияние признаков, ориентируясь на характер распредделения:\n",
    "\n",
    "Мы видим, что распределение полов для двух групп приблизительно одинаково - вероятно этот признак не влияет на отток клиентов. Также не оказывает влияния наличе контактного телефона.\n",
    "\n",
    "Сравним остальные средние показатели. Надёжные клиенты, по сравнению с теми кто ушел в отток, в среднем немного старше (30 лет и 27 лет), больше тратят на дополнительные услуги (158.4 и 115.1), их занятия более регулярные и они чаще посещают групповые занятия. \n",
    "\n",
    "Среди клиентов в оттоке меньше тех, кто воспользовался скидкой от работодателя или друга, а так же больше клиентов, не проживающих и  не работающих в районе фитнес-клуба. Они чаще покупают абонименты на месяц.\n",
    "\n",
    "Среди клиентов в оттоке много новых клиентов. "
   ]
  },
  {
   "cell_type": "code",
   "execution_count": 16,
   "metadata": {
    "scrolled": true
   },
   "outputs": [
    {
     "data": {
      "text/plain": [
       "1"
      ]
     },
     "execution_count": 16,
     "metadata": {},
     "output_type": "execute_result"
    }
   ],
   "source": [
    "data.query('churn')['month_to_end_contract'].mode()[0]"
   ]
  },
  {
   "cell_type": "code",
   "execution_count": 17,
   "metadata": {},
   "outputs": [
    {
     "data": {
      "text/plain": [
       "1"
      ]
     },
     "execution_count": 17,
     "metadata": {},
     "output_type": "execute_result"
    }
   ],
   "source": [
    "data.query('~churn')['month_to_end_contract'].mode()[0]"
   ]
  },
  {
   "cell_type": "markdown",
   "metadata": {},
   "source": [
    "Для обеих групп среднее значение `month_to_end_contract` по моде равно 1 месяцу."
   ]
  },
  {
   "cell_type": "markdown",
   "metadata": {},
   "source": [
    "Предварительно, мы можем сказать, что \"типичные\" клиенты в оттоке покупают абонемент на один месяц, причем не по партнерской программе для работаделей или \"друзей\" членов клуба, а, вероятно, за полную стоимость. В течении этого месяца они редко посещают групповые занятия и реже пользуются дополнительными услугами. Посещение клуба нерегулярное, часто после покупки абонемента клиент вообще не посещает клуб и уходит в отток.  "
   ]
  },
  {
   "cell_type": "markdown",
   "metadata": {},
   "source": [
    "Построим матрицу корреляций и отобразим её с помощью тепловой карты:"
   ]
  },
  {
   "cell_type": "code",
   "execution_count": 18,
   "metadata": {},
   "outputs": [
    {
     "data": {
      "image/png": "[encoded data removed]",
      "text/plain": [
       "<Figure size 864x864 with 2 Axes>"
      ]
     },
     "metadata": {
      "needs_background": "light"
     },
     "output_type": "display_data"
    }
   ],
   "source": [
    "cm = data.corr()\n",
    "\n",
    "plt.figure(figsize = (12, 12))\n",
    "sns.heatmap(cm, annot = True, square=True)\n",
    "plt.show()"
   ]
  },
  {
   "cell_type": "markdown",
   "metadata": {},
   "source": [
    "Мы видим, что ожидаемо высокие значения коэффициента корреляции у пары признаков о среднем числе посещений в неделю за весь период и последний месяц, а также пары длительность абонемента/срок до окончания абонемента. "
   ]
  },
  {
   "cell_type": "markdown",
   "metadata": {},
   "source": [
    "**Вывод:**\n",
    "\n",
    "Построив для признаков диаграммы распределения и матрицу корреляции, найдя средние значения мы можем сказать, что \"типичные\" клиенты в оттоке покупают абонемент на один месяц, причем не по партнерской программе для работаделей или \"друзей\" членов клуба, а, вероятно, за полную стоимость. В течении этого месяца они редко посещают групповые занятия и реже пользуются дополнительными услугами. Посещение клуба нерегулярное, часто после покупки абонемента клиент вообще не посещает клуб и уходит в отток."
   ]
  },
  {
   "cell_type": "markdown",
   "metadata": {},
   "source": [
    "## Построение модели прогнозирования оттока клиентов"
   ]
  },
  {
   "cell_type": "markdown",
   "metadata": {},
   "source": [
    "Разделим данные на целевой переменную и признаки:"
   ]
  },
  {
   "cell_type": "code",
   "execution_count": 19,
   "metadata": {},
   "outputs": [],
   "source": [
    "X = data.drop('churn', axis=1)\n",
    "y = data['churn']"
   ]
  },
  {
   "cell_type": "markdown",
   "metadata": {},
   "source": [
    "Разделим данные на обучающую и валидационную выборки:"
   ]
  },
  {
   "cell_type": "code",
   "execution_count": 20,
   "metadata": {},
   "outputs": [],
   "source": [
    "X_train, X_test, y_train, y_test = train_test_split(X, y, test_size=0.2, random_state=0)"
   ]
  },
  {
   "cell_type": "markdown",
   "metadata": {},
   "source": [
    "Обучим модель на train-выборке двумя способами: логистической регрессией и случайным лесом:"
   ]
  },
  {
   "cell_type": "code",
   "execution_count": 21,
   "metadata": {},
   "outputs": [],
   "source": [
    "lr_model = LogisticRegression(random_state=0)\n",
    "lr_model.fit(X_train, y_train)\n",
    "\n",
    "rf_model = RandomForestClassifier(n_estimators = 100, random_state = 0)\n",
    "rf_model.fit(X_train, y_train)\n",
    "\n",
    "lr_pred = lr_model.predict(X_test)\n",
    "tree_pred = rf_model.predict(X_test)"
   ]
  },
  {
   "cell_type": "markdown",
   "metadata": {},
   "source": [
    "Оценим метрики accuracy, precision и recall для обеих моделей на валидационной выборке:"
   ]
  },
  {
   "cell_type": "code",
   "execution_count": 22,
   "metadata": {},
   "outputs": [
    {
     "name": "stdout",
     "output_type": "stream",
     "text": [
      "Метрики для модели логистической регрессии:\n",
      "\tAccuracy: 0.93\n",
      "\tPrecision: 0.86\n",
      "\tRecall: 0.83\n",
      "Метрики для модели случайного леса:\n",
      "\tAccuracy: 0.92\n",
      "\tPrecision: 0.84\n",
      "\tRecall: 0.82\n"
     ]
    }
   ],
   "source": [
    "def print_all_metrics(y_true, y_pred, title='Метрики классификации'):\n",
    "    print(title)\n",
    "    print('\\tAccuracy: {:.2f}'.format(accuracy_score(y_true, y_pred)))\n",
    "    print('\\tPrecision: {:.2f}'.format(precision_score(y_true, y_pred)))\n",
    "    print('\\tRecall: {:.2f}'.format(recall_score(y_true, y_pred)))\n",
    "    \n",
    "print_all_metrics(y_test, lr_pred, title='Метрики для модели логистической регрессии:')\n",
    "print_all_metrics(y_test, tree_pred, title='Метрики для модели случайного леса:')"
   ]
  },
  {
   "cell_type": "markdown",
   "metadata": {},
   "source": [
    "Лучше себя показала модель логистической регрессии. Расмотрим важности признаков для модели:"
   ]
  },
  {
   "cell_type": "code",
   "execution_count": 23,
   "metadata": {},
   "outputs": [
    {
     "data": {
      "text/html": [
       "<div>\n",
       "<style scoped>\n",
       "    .dataframe tbody tr th:only-of-type {\n",
       "        vertical-align: middle;\n",
       "    }\n",
       "\n",
       "    .dataframe tbody tr th {\n",
       "        vertical-align: top;\n",
       "    }\n",
       "\n",
       "    .dataframe thead th {\n",
       "        text-align: right;\n",
       "    }\n",
       "</style>\n",
       "<table border=\"1\" class=\"dataframe\">\n",
       "  <thead>\n",
       "    <tr style=\"text-align: right;\">\n",
       "      <th></th>\n",
       "      <th>feature</th>\n",
       "      <th>coef</th>\n",
       "    </tr>\n",
       "  </thead>\n",
       "  <tbody>\n",
       "    <tr>\n",
       "      <td>0</td>\n",
       "      <td>avg_class_frequency_current_month</td>\n",
       "      <td>-4.059492</td>\n",
       "    </tr>\n",
       "    <tr>\n",
       "      <td>1</td>\n",
       "      <td>lifetime</td>\n",
       "      <td>-0.961920</td>\n",
       "    </tr>\n",
       "    <tr>\n",
       "      <td>2</td>\n",
       "      <td>group_visits</td>\n",
       "      <td>-0.687158</td>\n",
       "    </tr>\n",
       "    <tr>\n",
       "      <td>3</td>\n",
       "      <td>promo_friends</td>\n",
       "      <td>-0.494967</td>\n",
       "    </tr>\n",
       "    <tr>\n",
       "      <td>4</td>\n",
       "      <td>age</td>\n",
       "      <td>-0.176409</td>\n",
       "    </tr>\n",
       "    <tr>\n",
       "      <td>5</td>\n",
       "      <td>contract_period</td>\n",
       "      <td>-0.174077</td>\n",
       "    </tr>\n",
       "    <tr>\n",
       "      <td>6</td>\n",
       "      <td>month_to_end_contract</td>\n",
       "      <td>-0.081565</td>\n",
       "    </tr>\n",
       "    <tr>\n",
       "      <td>7</td>\n",
       "      <td>partner</td>\n",
       "      <td>-0.053407</td>\n",
       "    </tr>\n",
       "    <tr>\n",
       "      <td>8</td>\n",
       "      <td>avg_additional_charges_total</td>\n",
       "      <td>-0.004613</td>\n",
       "    </tr>\n",
       "    <tr>\n",
       "      <td>9</td>\n",
       "      <td>near_location</td>\n",
       "      <td>0.021204</td>\n",
       "    </tr>\n",
       "    <tr>\n",
       "      <td>10</td>\n",
       "      <td>gender</td>\n",
       "      <td>0.059032</td>\n",
       "    </tr>\n",
       "    <tr>\n",
       "      <td>11</td>\n",
       "      <td>phone</td>\n",
       "      <td>0.562882</td>\n",
       "    </tr>\n",
       "    <tr>\n",
       "      <td>12</td>\n",
       "      <td>avg_class_frequency_total</td>\n",
       "      <td>3.373995</td>\n",
       "    </tr>\n",
       "  </tbody>\n",
       "</table>\n",
       "</div>"
      ],
      "text/plain": [
       "                              feature      coef\n",
       "0   avg_class_frequency_current_month -4.059492\n",
       "1                            lifetime -0.961920\n",
       "2                        group_visits -0.687158\n",
       "3                       promo_friends -0.494967\n",
       "4                                 age -0.176409\n",
       "5                     contract_period -0.174077\n",
       "6               month_to_end_contract -0.081565\n",
       "7                             partner -0.053407\n",
       "8        avg_additional_charges_total -0.004613\n",
       "9                       near_location  0.021204\n",
       "10                             gender  0.059032\n",
       "11                              phone  0.562882\n",
       "12          avg_class_frequency_total  3.373995"
      ]
     },
     "execution_count": 23,
     "metadata": {},
     "output_type": "execute_result"
    }
   ],
   "source": [
    "log_reg = pd.DataFrame({'feature' : X_train.columns, 'coef' : lr_model.coef_[0]})\n",
    "log_reg.sort_values(by='coef', ascending=True).reset_index(drop=True)"
   ]
  },
  {
   "cell_type": "markdown",
   "metadata": {},
   "source": [
    "Мы видим, что больше всего на отток клиентов влияет их среднее значение числа посещений клуба в неделю."
   ]
  },
  {
   "cell_type": "markdown",
   "metadata": {},
   "source": [
    "**Вывод:**\n",
    "Лучше показала себя модель логистической регрессии."
   ]
  },
  {
   "cell_type": "markdown",
   "metadata": {},
   "source": [
    "## Кластеризация клиентов"
   ]
  },
  {
   "cell_type": "markdown",
   "metadata": {},
   "source": [
    "Стандартизируем матрицу признаков:"
   ]
  },
  {
   "cell_type": "code",
   "execution_count": 24,
   "metadata": {},
   "outputs": [],
   "source": [
    "scaler = StandardScaler()\n",
    "X_st = scaler.fit_transform(X)"
   ]
  },
  {
   "cell_type": "markdown",
   "metadata": {},
   "source": [
    "Построим матрицу расстояний функцией linkage() на стандартизованной матрице признаков и нарисуем дендрограмму:"
   ]
  },
  {
   "cell_type": "code",
   "execution_count": 25,
   "metadata": {},
   "outputs": [
    {
     "data": {
      "image/png": "[encoded data removed]",
      "text/plain": [
       "<Figure size 1080x720 with 1 Axes>"
      ]
     },
     "metadata": {
      "needs_background": "light"
     },
     "output_type": "display_data"
    }
   ],
   "source": [
    "linked = linkage(X_st, method = 'ward')\n",
    "plt.figure(figsize=(15, 10))  \n",
    "dendrogram(linked, orientation='top')\n",
    "plt.show()"
   ]
  },
  {
   "cell_type": "markdown",
   "metadata": {},
   "source": [
    "Предложенное оптимальное число кластеров 4."
   ]
  },
  {
   "cell_type": "markdown",
   "metadata": {},
   "source": [
    "Обучим модель кластеризации на основании алгоритма K-Means и спрогнозируем кластеры клиентов. Число кластеров примем равным пяти по условию задания n=5:"
   ]
  },
  {
   "cell_type": "code",
   "execution_count": 26,
   "metadata": {},
   "outputs": [],
   "source": [
    "km = KMeans(n_clusters = 5, random_state=0)\n",
    "labels = km.fit_predict(X_st)"
   ]
  },
  {
   "cell_type": "markdown",
   "metadata": {},
   "source": [
    "Добавим в данные столбец с индексами кластеров:"
   ]
  },
  {
   "cell_type": "code",
   "execution_count": 27,
   "metadata": {},
   "outputs": [],
   "source": [
    "data['claster_km'] = labels"
   ]
  },
  {
   "cell_type": "markdown",
   "metadata": {},
   "source": [
    "Посмотрим на средние значения признаков для кластеров:"
   ]
  },
  {
   "cell_type": "code",
   "execution_count": 28,
   "metadata": {},
   "outputs": [
    {
     "data": {
      "text/html": [
       "<div>\n",
       "<style scoped>\n",
       "    .dataframe tbody tr th:only-of-type {\n",
       "        vertical-align: middle;\n",
       "    }\n",
       "\n",
       "    .dataframe tbody tr th {\n",
       "        vertical-align: top;\n",
       "    }\n",
       "\n",
       "    .dataframe thead th {\n",
       "        text-align: right;\n",
       "    }\n",
       "</style>\n",
       "<table border=\"1\" class=\"dataframe\">\n",
       "  <thead>\n",
       "    <tr style=\"text-align: right;\">\n",
       "      <th>claster_km</th>\n",
       "      <th>0</th>\n",
       "      <th>1</th>\n",
       "      <th>2</th>\n",
       "      <th>3</th>\n",
       "      <th>4</th>\n",
       "    </tr>\n",
       "  </thead>\n",
       "  <tbody>\n",
       "    <tr>\n",
       "      <td>gender</td>\n",
       "      <td>0.502473</td>\n",
       "      <td>0.522078</td>\n",
       "      <td>0.495050</td>\n",
       "      <td>0.485737</td>\n",
       "      <td>0.560335</td>\n",
       "    </tr>\n",
       "    <tr>\n",
       "      <td>near_location</td>\n",
       "      <td>0.959446</td>\n",
       "      <td>0.862338</td>\n",
       "      <td>0.000000</td>\n",
       "      <td>1.000000</td>\n",
       "      <td>0.976105</td>\n",
       "    </tr>\n",
       "    <tr>\n",
       "      <td>partner</td>\n",
       "      <td>0.783383</td>\n",
       "      <td>0.470130</td>\n",
       "      <td>0.463366</td>\n",
       "      <td>0.350238</td>\n",
       "      <td>0.356033</td>\n",
       "    </tr>\n",
       "    <tr>\n",
       "      <td>promo_friends</td>\n",
       "      <td>0.574679</td>\n",
       "      <td>0.306494</td>\n",
       "      <td>0.079208</td>\n",
       "      <td>0.240095</td>\n",
       "      <td>0.229391</td>\n",
       "    </tr>\n",
       "    <tr>\n",
       "      <td>phone</td>\n",
       "      <td>1.000000</td>\n",
       "      <td>0.000000</td>\n",
       "      <td>1.000000</td>\n",
       "      <td>1.000000</td>\n",
       "      <td>0.998805</td>\n",
       "    </tr>\n",
       "    <tr>\n",
       "      <td>contract_period</td>\n",
       "      <td>10.884273</td>\n",
       "      <td>4.787013</td>\n",
       "      <td>2.352475</td>\n",
       "      <td>1.948494</td>\n",
       "      <td>2.665472</td>\n",
       "    </tr>\n",
       "    <tr>\n",
       "      <td>group_visits</td>\n",
       "      <td>0.543027</td>\n",
       "      <td>0.425974</td>\n",
       "      <td>0.215842</td>\n",
       "      <td>0.341521</td>\n",
       "      <td>0.473118</td>\n",
       "    </tr>\n",
       "    <tr>\n",
       "      <td>age</td>\n",
       "      <td>29.980218</td>\n",
       "      <td>29.301299</td>\n",
       "      <td>28.477228</td>\n",
       "      <td>28.167987</td>\n",
       "      <td>30.127838</td>\n",
       "    </tr>\n",
       "    <tr>\n",
       "      <td>avg_additional_charges_total</td>\n",
       "      <td>160.706970</td>\n",
       "      <td>143.957657</td>\n",
       "      <td>135.457504</td>\n",
       "      <td>131.622208</td>\n",
       "      <td>161.724258</td>\n",
       "    </tr>\n",
       "    <tr>\n",
       "      <td>month_to_end_contract</td>\n",
       "      <td>9.950544</td>\n",
       "      <td>4.475325</td>\n",
       "      <td>2.198020</td>\n",
       "      <td>1.856577</td>\n",
       "      <td>2.455197</td>\n",
       "    </tr>\n",
       "    <tr>\n",
       "      <td>lifetime</td>\n",
       "      <td>4.738872</td>\n",
       "      <td>3.924675</td>\n",
       "      <td>2.809901</td>\n",
       "      <td>2.440571</td>\n",
       "      <td>4.896057</td>\n",
       "    </tr>\n",
       "    <tr>\n",
       "      <td>avg_class_frequency_total</td>\n",
       "      <td>1.983305</td>\n",
       "      <td>1.847220</td>\n",
       "      <td>1.660461</td>\n",
       "      <td>1.247634</td>\n",
       "      <td>2.851531</td>\n",
       "    </tr>\n",
       "    <tr>\n",
       "      <td>avg_class_frequency_current_month</td>\n",
       "      <td>1.976225</td>\n",
       "      <td>1.716369</td>\n",
       "      <td>1.477324</td>\n",
       "      <td>1.012983</td>\n",
       "      <td>2.849473</td>\n",
       "    </tr>\n",
       "  </tbody>\n",
       "</table>\n",
       "</div>"
      ],
      "text/plain": [
       "claster_km                                  0           1           2  \\\n",
       "gender                               0.502473    0.522078    0.495050   \n",
       "near_location                        0.959446    0.862338    0.000000   \n",
       "partner                              0.783383    0.470130    0.463366   \n",
       "promo_friends                        0.574679    0.306494    0.079208   \n",
       "phone                                1.000000    0.000000    1.000000   \n",
       "contract_period                     10.884273    4.787013    2.352475   \n",
       "group_visits                         0.543027    0.425974    0.215842   \n",
       "age                                 29.980218   29.301299   28.477228   \n",
       "avg_additional_charges_total       160.706970  143.957657  135.457504   \n",
       "month_to_end_contract                9.950544    4.475325    2.198020   \n",
       "lifetime                             4.738872    3.924675    2.809901   \n",
       "avg_class_frequency_total            1.983305    1.847220    1.660461   \n",
       "avg_class_frequency_current_month    1.976225    1.716369    1.477324   \n",
       "\n",
       "claster_km                                  3           4  \n",
       "gender                               0.485737    0.560335  \n",
       "near_location                        1.000000    0.976105  \n",
       "partner                              0.350238    0.356033  \n",
       "promo_friends                        0.240095    0.229391  \n",
       "phone                                1.000000    0.998805  \n",
       "contract_period                      1.948494    2.665472  \n",
       "group_visits                         0.341521    0.473118  \n",
       "age                                 28.167987   30.127838  \n",
       "avg_additional_charges_total       131.622208  161.724258  \n",
       "month_to_end_contract                1.856577    2.455197  \n",
       "lifetime                             2.440571    4.896057  \n",
       "avg_class_frequency_total            1.247634    2.851531  \n",
       "avg_class_frequency_current_month    1.012983    2.849473  "
      ]
     },
     "execution_count": 28,
     "metadata": {},
     "output_type": "execute_result"
    }
   ],
   "source": [
    "data.drop('churn', axis=1).groupby('claster_km').mean().T"
   ]
  },
  {
   "cell_type": "markdown",
   "metadata": {},
   "source": [
    "Отметим, что\n",
    "\n",
    "- Гендерное распределение, возраст.\n",
    "- Признак принадлежности к локации клуба наиболее характерен для кластера \"3\", и минималендля кластера \"2\".\n",
    "- Больше всего скидкой для партнеров или \"друзей\" воспользовались в кластере \"0\"\n",
    "- В кластер \"1\" выделены клиенты без контактного телефона\n",
    "- В кластере \"0\" наибольшее число посещения групповых занятий, минимальное в кластере \"2\"\n",
    "- На дополниительные услуги больше потратили в кластерах \"4\" и \"0\"\n",
    "- Самые частые тренировки в неделю в кластере \"4\", самые редкие - в кластере \"3\"\n"
   ]
  },
  {
   "cell_type": "markdown",
   "metadata": {},
   "source": [
    "Построим распределения признаков по кластерам:"
   ]
  },
  {
   "cell_type": "code",
   "execution_count": 29,
   "metadata": {},
   "outputs": [],
   "source": [
    "list_bool = [\n",
    "    'claster_km',\n",
    "    'gender',\n",
    "    'near_location',\n",
    "    'partner',\n",
    "    'promo_friends',\n",
    "    'phone',\n",
    "    'group_visits',\n",
    "    'contract_period'\n",
    "]"
   ]
  },
  {
   "cell_type": "code",
   "execution_count": 30,
   "metadata": {
    "scrolled": true
   },
   "outputs": [
    {
     "data": {
      "text/plain": [
       "<Figure size 432x216 with 0 Axes>"
      ]
     },
     "metadata": {},
     "output_type": "display_data"
    },
    {
     "data": {
      "image/png": "[encoded data removed]",
      "text/plain": [
       "<Figure size 360x360 with 1 Axes>"
      ]
     },
     "metadata": {
      "needs_background": "light"
     },
     "output_type": "display_data"
    },
    {
     "data": {
      "text/plain": [
       "<Figure size 432x216 with 0 Axes>"
      ]
     },
     "metadata": {},
     "output_type": "display_data"
    },
    {
     "data": {
      "image/png": "[encoded data removed]",
      "text/plain": [
       "<Figure size 360x360 with 1 Axes>"
      ]
     },
     "metadata": {
      "needs_background": "light"
     },
     "output_type": "display_data"
    },
    {
     "data": {
      "text/plain": [
       "<Figure size 432x216 with 0 Axes>"
      ]
     },
     "metadata": {},
     "output_type": "display_data"
    },
    {
     "data": {
      "image/png": "[encoded data removed]",
      "text/plain": [
       "<Figure size 360x360 with 1 Axes>"
      ]
     },
     "metadata": {
      "needs_background": "light"
     },
     "output_type": "display_data"
    },
    {
     "data": {
      "text/plain": [
       "<Figure size 432x216 with 0 Axes>"
      ]
     },
     "metadata": {},
     "output_type": "display_data"
    },
    {
     "data": {
      "image/png": "[encoded data removed]",
      "text/plain": [
       "<Figure size 360x360 with 1 Axes>"
      ]
     },
     "metadata": {
      "needs_background": "light"
     },
     "output_type": "display_data"
    },
    {
     "data": {
      "text/plain": [
       "<Figure size 432x216 with 0 Axes>"
      ]
     },
     "metadata": {},
     "output_type": "display_data"
    },
    {
     "data": {
      "image/png": "[encoded data removed]",
      "text/plain": [
       "<Figure size 360x360 with 1 Axes>"
      ]
     },
     "metadata": {
      "needs_background": "light"
     },
     "output_type": "display_data"
    },
    {
     "data": {
      "text/plain": [
       "<Figure size 432x216 with 0 Axes>"
      ]
     },
     "metadata": {},
     "output_type": "display_data"
    },
    {
     "data": {
      "image/png": "[encoded data removed]",
      "text/plain": [
       "<Figure size 360x360 with 1 Axes>"
      ]
     },
     "metadata": {
      "needs_background": "light"
     },
     "output_type": "display_data"
    },
    {
     "data": {
      "text/plain": [
       "<Figure size 432x216 with 0 Axes>"
      ]
     },
     "metadata": {},
     "output_type": "display_data"
    },
    {
     "data": {
      "image/png": "[encoded data removed]",
      "text/plain": [
       "<Figure size 360x360 with 1 Axes>"
      ]
     },
     "metadata": {
      "needs_background": "light"
     },
     "output_type": "display_data"
    }
   ],
   "source": [
    "for i in list_bool:\n",
    "    if i == 'claster_km':\n",
    "        continue\n",
    "    plt.figure(figsize = (6, 3))\n",
    "    sns.catplot(i, hue='claster_km', data = data[list_bool], kind='count', legend=False, palette=\"husl\")\n",
    "    plt.legend(labels = ('0', '1', '2', '3', '4'))\n",
    "    plt.title('Распределение для признака ' + i)\n",
    "    plt.show()"
   ]
  },
  {
   "cell_type": "code",
   "execution_count": 31,
   "metadata": {
    "scrolled": true
   },
   "outputs": [
    {
     "data": {
      "image/png": "[encoded data removed]",
      "text/plain": [
       "<Figure size 864x288 with 1 Axes>"
      ]
     },
     "metadata": {
      "needs_background": "light"
     },
     "output_type": "display_data"
    },
    {
     "data": {
      "image/png": "[encoded data removed]",
      "text/plain": [
       "<Figure size 864x288 with 1 Axes>"
      ]
     },
     "metadata": {
      "needs_background": "light"
     },
     "output_type": "display_data"
    },
    {
     "data": {
      "image/png": "[encoded data removed]",
      "text/plain": [
       "<Figure size 864x288 with 1 Axes>"
      ]
     },
     "metadata": {
      "needs_background": "light"
     },
     "output_type": "display_data"
    },
    {
     "data": {
      "image/png": "[encoded data removed]",
      "text/plain": [
       "<Figure size 864x288 with 1 Axes>"
      ]
     },
     "metadata": {
      "needs_background": "light"
     },
     "output_type": "display_data"
    },
    {
     "data": {
      "image/png": "[encoded data removed]",
      "text/plain": [
       "<Figure size 864x288 with 1 Axes>"
      ]
     },
     "metadata": {
      "needs_background": "light"
     },
     "output_type": "display_data"
    },
    {
     "data": {
      "image/png": "[encoded data removed]",
      "text/plain": [
       "<Figure size 864x288 with 1 Axes>"
      ]
     },
     "metadata": {
      "needs_background": "light"
     },
     "output_type": "display_data"
    }
   ],
   "source": [
    "for i in list_num:\n",
    "    plt.figure(figsize = (12, 4))\n",
    "    plt.title(i)\n",
    "    for j in range(0,5):\n",
    "        sns.distplot(data.query('claster_km == @j')[i],\n",
    "                    hist=False,\n",
    "                    rug=True,\n",
    "                    kde_kws={'label':'Кластер'+ str(i)})\n",
    "        plt.legend(labels = ('0', '1', '2', '3', '4'))\n",
    "    plt.title('Распределение для признака ' + i)\n",
    "    plt.show"
   ]
  },
  {
   "cell_type": "markdown",
   "metadata": {},
   "source": [
    "Отметим характерные черты клиентов по кластерам:\n",
    "\n",
    "**\"0\"**:\n",
    "\n",
    "- Пользуются партнерскими программами\n",
    "- Посещают групповые занятия чаще\n",
    "- Чаще Приобретают абонемент на 12 месяцев\n",
    "- В среднем старше\n",
    "- Среднее число тренировок в неделю 2\n",
    "\n",
    "**\"1\"**:\n",
    "\n",
    "- Не имеют контактного телефона\n",
    "- Среднее число тренировок в неделю (за весь период) - 1.8\n",
    "- Среднее число тренировок в неделю (за последний месяц) - 1.7\n",
    "\n",
    "**\"2\"**:\n",
    "\n",
    "- Не живут и не работают в районе клуба\n",
    "- Среднее число тренировок в неделю (за весь период) - 1.7\n",
    "- Среднее число тренировок в неделю (за последний месяц) - 1.4\n",
    "\n",
    "**\"3\"**:\n",
    "\n",
    "- В среднем моложе\n",
    "- Малыйсрок до окончания абонемента\n",
    "- Новые клиенты\n",
    "- Среднее число тренировок в неделю (за весь период)  - 1.2\n",
    "- Среднее число тренировок в неделю (за последний месяц) - 1\n",
    "\n",
    "**\"4\"**:\n",
    "\n",
    "- Среднее число тренировок в неделю - 2.8\n",
    "- Посещают групповые часто, но реже чем в кластере \"1\""
   ]
  },
  {
   "cell_type": "markdown",
   "metadata": {},
   "source": [
    "Посмотрим, как распределены доли клиентов в оттоке среди кластеров:"
   ]
  },
  {
   "cell_type": "code",
   "execution_count": 32,
   "metadata": {},
   "outputs": [
    {
     "data": {
      "text/html": [
       "<style  type=\"text/css\" >\n",
       "</style><table id=\"T_0dd41b46_6668_11ec_bb5d_02420a393aa3\" ><thead>    <tr>        <th class=\"blank level0\" ></th>        <th class=\"col_heading level0 col0\" >churn</th>    </tr>    <tr>        <th class=\"index_name level0\" >claster_km</th>        <th class=\"blank\" ></th>    </tr></thead><tbody>\n",
       "                <tr>\n",
       "                        <th id=\"T_0dd41b46_6668_11ec_bb5d_02420a393aa3level0_row0\" class=\"row_heading level0 row0\" >3</th>\n",
       "                        <td id=\"T_0dd41b46_6668_11ec_bb5d_02420a393aa3row0_col0\" class=\"data row0 col0\" >51%</td>\n",
       "            </tr>\n",
       "            <tr>\n",
       "                        <th id=\"T_0dd41b46_6668_11ec_bb5d_02420a393aa3level0_row1\" class=\"row_heading level0 row1\" >2</th>\n",
       "                        <td id=\"T_0dd41b46_6668_11ec_bb5d_02420a393aa3row1_col0\" class=\"data row1 col0\" >44%</td>\n",
       "            </tr>\n",
       "            <tr>\n",
       "                        <th id=\"T_0dd41b46_6668_11ec_bb5d_02420a393aa3level0_row2\" class=\"row_heading level0 row2\" >1</th>\n",
       "                        <td id=\"T_0dd41b46_6668_11ec_bb5d_02420a393aa3row2_col0\" class=\"data row2 col0\" >27%</td>\n",
       "            </tr>\n",
       "            <tr>\n",
       "                        <th id=\"T_0dd41b46_6668_11ec_bb5d_02420a393aa3level0_row3\" class=\"row_heading level0 row3\" >4</th>\n",
       "                        <td id=\"T_0dd41b46_6668_11ec_bb5d_02420a393aa3row3_col0\" class=\"data row3 col0\" >7%</td>\n",
       "            </tr>\n",
       "            <tr>\n",
       "                        <th id=\"T_0dd41b46_6668_11ec_bb5d_02420a393aa3level0_row4\" class=\"row_heading level0 row4\" >0</th>\n",
       "                        <td id=\"T_0dd41b46_6668_11ec_bb5d_02420a393aa3row4_col0\" class=\"data row4 col0\" >3%</td>\n",
       "            </tr>\n",
       "    </tbody></table>"
      ],
      "text/plain": [
       "<pandas.io.formats.style.Styler at 0x7f24af5426d0>"
      ]
     },
     "execution_count": 32,
     "metadata": {},
     "output_type": "execute_result"
    }
   ],
   "source": [
    "data.groupby('claster_km').agg({'churn':'mean'}).sort_values('churn', ascending=False).style.format({'churn': '{:.0%}'})"
   ]
  },
  {
   "cell_type": "markdown",
   "metadata": {},
   "source": [
    "Наибольший процент оттока в кластере \"3\" - 51% и кластере \"2\" - 44%. Наиболее надёжный кластер \"0\" - всего 2% клиентов ушли в отток, еще один надёжный кластер \"4\" - в отток ушли 7% клиентов.\n",
    "\n",
    "Соотнеся эти данные с распределелением признакаков, можно сказать, что на отток клиентов влияет регулярность посещений (в надёжных кластерах - не реже 2х раз в неделю) и посещение групповых занятий. Так же влияет длительность абонемента и возможность его приобретения по партнерской программе."
   ]
  },
  {
   "cell_type": "markdown",
   "metadata": {},
   "source": [
    "**Выводы:**\n",
    "\n",
    "Мы разделили клиентов на 5 кластеров и получили для этих кластеров характерные отличия, а также выделили кластеры \"в оттоке\" и \"надёжные\". Соотнеся эти данные с распределелением признакаков, можно сказать, что на отток клиентов влияет регулярность посещений (в надёжных кластерах - не реже 2х раз в неделю) и посещение групповых занятий. Так же влияет длительность абонемента и возможность его приобретения по партнерской программе."
   ]
  },
  {
   "cell_type": "markdown",
   "metadata": {},
   "source": [
    "## Выводы и рекомендации"
   ]
  },
  {
   "cell_type": "markdown",
   "metadata": {},
   "source": [
    "**Выводы:**\n",
    "\n",
    "По результатам исследовательского анализа данных мы сделали предположение, что клиенты \"в оттоке\" покупают абонемент на один месяц, причем не по партнерской программе для работаделей или \"друзей\" членов клуба, а, вероятно, за полную стоимость. В течении этого месяца они редко посещают групповые занятия и реже пользуются дополнительными услугами. Посещение клуба нерегулярное, часто после покупки абонемента клиент вообще не посещает клуб и уходит в отток.\n",
    "\n",
    "Для построения модели прогнозирования оттока клиентов мы обучили модели методами логистической регрессии и случайного леса. На основании метрик на валидационной выборке лучше себя показала модель обученная методом логистической регрессии.\n",
    "\n",
    "На основании алгоритка K-Means спрогнозированы 5 кластеов клиентов (\"0\", \"1\", \"2\", \"3\", \"4\"). Характерные черты признаков:\n",
    "\n",
    "**\"0\"**:\n",
    "\n",
    "- Пользуются партнерскими программами\n",
    "- Посещают групповые занятия чаще\n",
    "- Чаще Приобретают абонемент на 12 месяцев\n",
    "- В среднем старше\n",
    "- Среднее число тренировок в неделю 2\n",
    "\n",
    "**\"1\"**:\n",
    "\n",
    "- Не имеют контактного телефона\n",
    "- Среднее число тренировок в неделю (за весь период) - 1.8\n",
    "- Среднее число тренировок в неделю (за последний месяц) - 1.7\n",
    "\n",
    "**\"2\"**:\n",
    "\n",
    "- Не живут и не работают в районе клуба\n",
    "- Среднее число тренировок в неделю (за весь период) - 1.7\n",
    "- Среднее число тренировок в неделю (за последний месяц) - 1.4\n",
    "\n",
    "**\"3\"**:\n",
    "\n",
    "- В среднем моложе\n",
    "- Малыйсрок до окончания абонемента\n",
    "- Новые клиенты\n",
    "- Среднее число тренировок в неделю (за весь период)  - 1.2\n",
    "- Среднее число тренировок в неделю (за последний месяц) - 1\n",
    "\n",
    "**\"4\"**:\n",
    "\n",
    "- Среднее число тренировок в неделю - 2.8\n",
    "- Посещают групповые часто, но реже чем в кластере \"1\"\n",
    "\n",
    "Наибольший процент оттока в кластере \"3\" - 51% и кластере \"2\" - 44%. Наиболее надёжный кластер \"0\" - всего 2% клиентов ушли в отток, еще один надёжный кластер \"4\" - в отток ушли 7% клиентов.\n",
    "\n",
    "Соотнеся эти данные с распределелением признакаков, можно сказать, что на отток клиентов влияет регулярность посещений (в надёжных кластерах - не реже 2х раз в неделю) и посещение групповых занятий. Так же влияет длительность абонемента и возможность его приобретения по партнерской программе.\n",
    "\n",
    "**Рекомендации**:\n",
    "\n",
    "- Вызвать у новых клиентов с короткими абонементами дополнительную лояльность. Например сделать скидку на персональную тренировку или платное групповое занятие.  \n",
    "- Стимулировать посещение фитнес-центров на уровне не реже 2 раз в неделю, например скидками на дополнительные услуги (хорошо тренеруешься - подари себе массаж по приятной цене)\n",
    "- Поппуляризировать групповые тренировки\n",
    "\n",
    "\n"
   ]
  }
 ],
 "metadata": {
  "ExecuteTimeLog": [
   {
    "duration": 982,
    "start_time": "2021-12-23T11:35:45.371Z"
   },
   {
    "duration": 76,
    "start_time": "2021-12-23T11:36:08.191Z"
   },
   {
    "duration": 28,
    "start_time": "2021-12-23T11:36:13.992Z"
   },
   {
    "duration": 16,
    "start_time": "2021-12-23T11:36:19.016Z"
   },
   {
    "duration": 11,
    "start_time": "2021-12-23T11:36:47.364Z"
   },
   {
    "duration": 93,
    "start_time": "2021-12-23T11:37:58.731Z"
   },
   {
    "duration": 16,
    "start_time": "2021-12-23T11:38:38.925Z"
   },
   {
    "duration": 369,
    "start_time": "2021-12-23T11:46:46.165Z"
   },
   {
    "duration": 6,
    "start_time": "2021-12-23T11:46:56.159Z"
   },
   {
    "duration": 259,
    "start_time": "2021-12-23T11:47:13.512Z"
   },
   {
    "duration": 361,
    "start_time": "2021-12-23T11:47:20.704Z"
   },
   {
    "duration": 6,
    "start_time": "2021-12-23T11:47:31.515Z"
   },
   {
    "duration": 4,
    "start_time": "2021-12-23T11:49:01.516Z"
   },
   {
    "duration": 6,
    "start_time": "2021-12-23T11:49:13.435Z"
   },
   {
    "duration": 482,
    "start_time": "2021-12-23T11:49:21.367Z"
   },
   {
    "duration": 4,
    "start_time": "2021-12-23T11:49:45.539Z"
   },
   {
    "duration": 6,
    "start_time": "2021-12-23T11:49:48.249Z"
   },
   {
    "duration": 5,
    "start_time": "2021-12-23T11:50:05.160Z"
   },
   {
    "duration": 6,
    "start_time": "2021-12-23T11:50:06.631Z"
   },
   {
    "duration": 26,
    "start_time": "2021-12-23T11:50:31.542Z"
   },
   {
    "duration": 4,
    "start_time": "2021-12-23T11:50:36.074Z"
   },
   {
    "duration": 6,
    "start_time": "2021-12-23T11:50:38.200Z"
   },
   {
    "duration": 5,
    "start_time": "2021-12-23T11:50:44.899Z"
   },
   {
    "duration": 6,
    "start_time": "2021-12-23T11:50:46.820Z"
   },
   {
    "duration": 5,
    "start_time": "2021-12-23T11:52:11.457Z"
   },
   {
    "duration": 4,
    "start_time": "2021-12-23T11:55:52.647Z"
   },
   {
    "duration": 6319,
    "start_time": "2021-12-23T11:56:53.122Z"
   },
   {
    "duration": 4,
    "start_time": "2021-12-23T11:57:15.969Z"
   },
   {
    "duration": 6,
    "start_time": "2021-12-23T11:57:17.977Z"
   },
   {
    "duration": 6573,
    "start_time": "2021-12-23T11:57:21.701Z"
   },
   {
    "duration": 10,
    "start_time": "2021-12-23T11:57:46.691Z"
   },
   {
    "duration": 13,
    "start_time": "2021-12-23T11:57:55.640Z"
   },
   {
    "duration": 263,
    "start_time": "2021-12-23T11:58:34.846Z"
   },
   {
    "duration": 49,
    "start_time": "2021-12-23T11:58:52.753Z"
   },
   {
    "duration": 26,
    "start_time": "2021-12-23T12:02:59.844Z"
   },
   {
    "duration": 17,
    "start_time": "2021-12-23T12:03:06.781Z"
   },
   {
    "duration": 279,
    "start_time": "2021-12-23T12:10:05.370Z"
   },
   {
    "duration": 47,
    "start_time": "2021-12-23T12:10:24.419Z"
   },
   {
    "duration": 17,
    "start_time": "2021-12-23T12:10:51.058Z"
   },
   {
    "duration": 293,
    "start_time": "2021-12-23T12:14:08.136Z"
   },
   {
    "duration": 34,
    "start_time": "2021-12-23T12:14:18.864Z"
   },
   {
    "duration": 19,
    "start_time": "2021-12-23T12:14:48.963Z"
   },
   {
    "duration": 17,
    "start_time": "2021-12-23T12:28:26.364Z"
   },
   {
    "duration": 7511,
    "start_time": "2021-12-23T12:29:44.533Z"
   },
   {
    "duration": 4,
    "start_time": "2021-12-23T12:29:56.623Z"
   },
   {
    "duration": 32,
    "start_time": "2021-12-23T12:29:56.631Z"
   },
   {
    "duration": 19,
    "start_time": "2021-12-23T12:29:56.666Z"
   },
   {
    "duration": 10,
    "start_time": "2021-12-23T12:29:56.688Z"
   },
   {
    "duration": 5,
    "start_time": "2021-12-23T12:29:56.702Z"
   },
   {
    "duration": 8,
    "start_time": "2021-12-23T12:29:56.710Z"
   },
   {
    "duration": 51,
    "start_time": "2021-12-23T12:29:56.720Z"
   },
   {
    "duration": 51,
    "start_time": "2021-12-23T12:30:00.490Z"
   },
   {
    "duration": 69,
    "start_time": "2021-12-23T12:30:08.608Z"
   },
   {
    "duration": 25,
    "start_time": "2021-12-23T12:30:13.398Z"
   },
   {
    "duration": 47,
    "start_time": "2021-12-23T12:31:30.910Z"
   },
   {
    "duration": 377,
    "start_time": "2021-12-23T12:40:52.775Z"
   },
   {
    "duration": 15,
    "start_time": "2021-12-23T12:41:25.757Z"
   },
   {
    "duration": 16,
    "start_time": "2021-12-23T12:41:31.690Z"
   },
   {
    "duration": 45,
    "start_time": "2021-12-23T12:41:35.807Z"
   },
   {
    "duration": 13,
    "start_time": "2021-12-23T12:41:49.391Z"
   },
   {
    "duration": 10,
    "start_time": "2021-12-23T12:41:55.645Z"
   },
   {
    "duration": 4,
    "start_time": "2021-12-23T12:42:09.636Z"
   },
   {
    "duration": 31,
    "start_time": "2021-12-23T12:42:09.643Z"
   },
   {
    "duration": 16,
    "start_time": "2021-12-23T12:42:09.677Z"
   },
   {
    "duration": 10,
    "start_time": "2021-12-23T12:42:09.696Z"
   },
   {
    "duration": 4,
    "start_time": "2021-12-23T12:42:09.708Z"
   },
   {
    "duration": 11,
    "start_time": "2021-12-23T12:42:09.715Z"
   },
   {
    "duration": 44,
    "start_time": "2021-12-23T12:42:09.728Z"
   },
   {
    "duration": 19,
    "start_time": "2021-12-23T12:42:09.776Z"
   },
   {
    "duration": 12,
    "start_time": "2021-12-23T12:42:09.797Z"
   },
   {
    "duration": 72,
    "start_time": "2021-12-23T12:42:09.811Z"
   },
   {
    "duration": 10,
    "start_time": "2021-12-23T12:42:09.885Z"
   },
   {
    "duration": 12,
    "start_time": "2021-12-23T12:44:57.216Z"
   },
   {
    "duration": 43,
    "start_time": "2021-12-23T12:50:36.863Z"
   },
   {
    "duration": 266,
    "start_time": "2021-12-23T14:57:03.032Z"
   },
   {
    "duration": 276,
    "start_time": "2021-12-23T14:57:52.079Z"
   },
   {
    "duration": 14,
    "start_time": "2021-12-23T14:58:53.969Z"
   },
   {
    "duration": 10,
    "start_time": "2021-12-23T14:59:13.054Z"
   },
   {
    "duration": 10,
    "start_time": "2021-12-23T14:59:47.417Z"
   },
   {
    "duration": 870,
    "start_time": "2021-12-23T15:04:11.383Z"
   },
   {
    "duration": 26,
    "start_time": "2021-12-23T15:04:12.256Z"
   },
   {
    "duration": 31,
    "start_time": "2021-12-23T15:04:12.285Z"
   },
   {
    "duration": 17,
    "start_time": "2021-12-23T15:04:12.320Z"
   },
   {
    "duration": 6,
    "start_time": "2021-12-23T15:04:12.340Z"
   },
   {
    "duration": 8,
    "start_time": "2021-12-23T15:04:12.368Z"
   },
   {
    "duration": 13,
    "start_time": "2021-12-23T15:04:12.379Z"
   },
   {
    "duration": 27,
    "start_time": "2021-12-23T15:04:12.395Z"
   },
   {
    "duration": 50,
    "start_time": "2021-12-23T15:04:12.425Z"
   },
   {
    "duration": 23,
    "start_time": "2021-12-23T15:04:12.478Z"
   },
   {
    "duration": 12,
    "start_time": "2021-12-23T15:04:12.504Z"
   },
   {
    "duration": 69,
    "start_time": "2021-12-23T15:04:12.519Z"
   },
   {
    "duration": 27,
    "start_time": "2021-12-23T15:04:31.462Z"
   },
   {
    "duration": 399,
    "start_time": "2021-12-23T15:04:42.469Z"
   },
   {
    "duration": 19,
    "start_time": "2021-12-23T15:05:38.591Z"
   },
   {
    "duration": 14,
    "start_time": "2021-12-23T15:05:39.717Z"
   },
   {
    "duration": 10,
    "start_time": "2021-12-23T15:05:40.528Z"
   },
   {
    "duration": 108,
    "start_time": "2021-12-23T15:09:53.697Z"
   },
   {
    "duration": 297,
    "start_time": "2021-12-23T15:13:28.112Z"
   },
   {
    "duration": 784,
    "start_time": "2021-12-23T15:16:00.700Z"
   },
   {
    "duration": 312,
    "start_time": "2021-12-23T15:20:00.578Z"
   },
   {
    "duration": 249,
    "start_time": "2021-12-23T15:21:10.292Z"
   },
   {
    "duration": 356,
    "start_time": "2021-12-23T15:31:50.998Z"
   },
   {
    "duration": 330,
    "start_time": "2021-12-23T15:32:13.630Z"
   },
   {
    "duration": 439,
    "start_time": "2021-12-23T15:32:44.055Z"
   },
   {
    "duration": 6254,
    "start_time": "2021-12-23T15:33:43.444Z"
   },
   {
    "duration": 297,
    "start_time": "2021-12-23T15:34:54.148Z"
   },
   {
    "duration": 4586,
    "start_time": "2021-12-23T15:36:37.594Z"
   },
   {
    "duration": 4473,
    "start_time": "2021-12-23T15:36:49.806Z"
   },
   {
    "duration": 549,
    "start_time": "2021-12-23T15:37:02.274Z"
   },
   {
    "duration": 4,
    "start_time": "2021-12-23T15:38:03.857Z"
   },
   {
    "duration": 256,
    "start_time": "2021-12-23T15:38:21.623Z"
   },
   {
    "duration": 310,
    "start_time": "2021-12-23T15:38:29.194Z"
   },
   {
    "duration": 301,
    "start_time": "2021-12-23T15:39:39.355Z"
   },
   {
    "duration": 280,
    "start_time": "2021-12-23T15:39:46.169Z"
   },
   {
    "duration": 276,
    "start_time": "2021-12-23T15:42:23.582Z"
   },
   {
    "duration": 115,
    "start_time": "2021-12-23T15:43:14.565Z"
   },
   {
    "duration": 3593,
    "start_time": "2021-12-23T15:43:20.473Z"
   },
   {
    "duration": 287,
    "start_time": "2021-12-23T15:43:34.543Z"
   },
   {
    "duration": 840,
    "start_time": "2021-12-23T15:44:12.914Z"
   },
   {
    "duration": 4271,
    "start_time": "2021-12-23T15:44:13.757Z"
   },
   {
    "duration": 29,
    "start_time": "2021-12-23T15:44:18.032Z"
   },
   {
    "duration": 22,
    "start_time": "2021-12-23T15:44:18.068Z"
   },
   {
    "duration": 12,
    "start_time": "2021-12-23T15:44:18.093Z"
   },
   {
    "duration": 6,
    "start_time": "2021-12-23T15:44:18.108Z"
   },
   {
    "duration": 8,
    "start_time": "2021-12-23T15:44:18.117Z"
   },
   {
    "duration": 12,
    "start_time": "2021-12-23T15:44:18.170Z"
   },
   {
    "duration": 22,
    "start_time": "2021-12-23T15:44:18.185Z"
   },
   {
    "duration": 15,
    "start_time": "2021-12-23T15:44:18.209Z"
   },
   {
    "duration": 12,
    "start_time": "2021-12-23T15:44:18.266Z"
   },
   {
    "duration": 14,
    "start_time": "2021-12-23T15:44:18.281Z"
   },
   {
    "duration": 82,
    "start_time": "2021-12-23T15:44:18.297Z"
   },
   {
    "duration": 18,
    "start_time": "2021-12-23T15:44:18.383Z"
   },
   {
    "duration": 13,
    "start_time": "2021-12-23T15:44:18.404Z"
   },
   {
    "duration": 49,
    "start_time": "2021-12-23T15:44:18.420Z"
   },
   {
    "duration": 462,
    "start_time": "2021-12-23T15:44:18.471Z"
   },
   {
    "duration": 574,
    "start_time": "2021-12-23T15:44:18.935Z"
   },
   {
    "duration": 461,
    "start_time": "2021-12-23T15:44:19.512Z"
   },
   {
    "duration": 624,
    "start_time": "2021-12-23T15:45:39.750Z"
   },
   {
    "duration": 367,
    "start_time": "2021-12-23T15:46:03.505Z"
   },
   {
    "duration": 559,
    "start_time": "2021-12-23T15:46:12.102Z"
   },
   {
    "duration": 1138,
    "start_time": "2021-12-23T15:46:29.657Z"
   },
   {
    "duration": 424,
    "start_time": "2021-12-23T15:46:52.681Z"
   },
   {
    "duration": 2708,
    "start_time": "2021-12-23T15:49:24.519Z"
   },
   {
    "duration": 800,
    "start_time": "2021-12-23T15:50:00.196Z"
   },
   {
    "duration": 677,
    "start_time": "2021-12-23T15:51:39.465Z"
   },
   {
    "duration": 797,
    "start_time": "2021-12-23T15:52:12.042Z"
   },
   {
    "duration": 667,
    "start_time": "2021-12-23T15:53:12.647Z"
   },
   {
    "duration": 439,
    "start_time": "2021-12-23T15:58:13.211Z"
   },
   {
    "duration": 429,
    "start_time": "2021-12-23T15:58:37.093Z"
   },
   {
    "duration": 254,
    "start_time": "2021-12-25T10:25:50.924Z"
   },
   {
    "duration": 49084,
    "start_time": "2021-12-25T10:25:57.361Z"
   },
   {
    "duration": 46,
    "start_time": "2021-12-25T10:26:46.447Z"
   },
   {
    "duration": 15,
    "start_time": "2021-12-25T10:26:46.496Z"
   },
   {
    "duration": 9,
    "start_time": "2021-12-25T10:26:46.513Z"
   },
   {
    "duration": 9,
    "start_time": "2021-12-25T10:26:46.524Z"
   },
   {
    "duration": 15,
    "start_time": "2021-12-25T10:26:46.535Z"
   },
   {
    "duration": 14,
    "start_time": "2021-12-25T10:26:46.552Z"
   },
   {
    "duration": 8,
    "start_time": "2021-12-25T10:26:46.568Z"
   },
   {
    "duration": 19,
    "start_time": "2021-12-25T10:26:46.578Z"
   },
   {
    "duration": 8,
    "start_time": "2021-12-25T10:26:46.598Z"
   },
   {
    "duration": 28,
    "start_time": "2021-12-25T10:26:46.607Z"
   },
   {
    "duration": 12,
    "start_time": "2021-12-25T10:26:46.636Z"
   },
   {
    "duration": 3,
    "start_time": "2021-12-25T10:26:48.403Z"
   },
   {
    "duration": 12838,
    "start_time": "2021-12-25T10:26:49.415Z"
   },
   {
    "duration": 23,
    "start_time": "2021-12-25T10:27:02.256Z"
   },
   {
    "duration": 21,
    "start_time": "2021-12-25T10:27:05.127Z"
   },
   {
    "duration": 12,
    "start_time": "2021-12-25T10:27:06.283Z"
   },
   {
    "duration": 8,
    "start_time": "2021-12-25T10:27:11.849Z"
   },
   {
    "duration": 3,
    "start_time": "2021-12-25T10:27:14.209Z"
   },
   {
    "duration": 7,
    "start_time": "2021-12-25T10:27:14.964Z"
   },
   {
    "duration": 14,
    "start_time": "2021-12-25T10:27:15.479Z"
   },
   {
    "duration": 8,
    "start_time": "2021-12-25T10:27:16.254Z"
   },
   {
    "duration": 7,
    "start_time": "2021-12-25T10:27:16.653Z"
   },
   {
    "duration": 8,
    "start_time": "2021-12-25T10:27:17.534Z"
   },
   {
    "duration": 27,
    "start_time": "2021-12-25T10:27:19.670Z"
   },
   {
    "duration": 12,
    "start_time": "2021-12-25T10:27:28.888Z"
   },
   {
    "duration": 240,
    "start_time": "2021-12-25T10:27:37.676Z"
   },
   {
    "duration": 6,
    "start_time": "2021-12-25T10:27:45.200Z"
   },
   {
    "duration": 5,
    "start_time": "2021-12-25T10:28:08.404Z"
   },
   {
    "duration": 171,
    "start_time": "2021-12-25T10:28:38.660Z"
   },
   {
    "duration": 200,
    "start_time": "2021-12-25T10:28:46.345Z"
   },
   {
    "duration": 350,
    "start_time": "2021-12-25T10:30:39.126Z"
   },
   {
    "duration": 105000,
    "start_time": "2021-12-25T10:30:46.471Z"
   },
   {
    "duration": 187,
    "start_time": "2021-12-25T10:33:00.390Z"
   },
   {
    "duration": 215,
    "start_time": "2021-12-25T10:33:17.443Z"
   },
   {
    "duration": 1038,
    "start_time": "2021-12-25T10:33:47.844Z"
   },
   {
    "duration": 23,
    "start_time": "2021-12-25T10:33:51.698Z"
   },
   {
    "duration": 14,
    "start_time": "2021-12-25T10:33:52.310Z"
   },
   {
    "duration": 8,
    "start_time": "2021-12-25T10:33:52.481Z"
   },
   {
    "duration": 4,
    "start_time": "2021-12-25T10:33:53.049Z"
   },
   {
    "duration": 7,
    "start_time": "2021-12-25T10:33:53.349Z"
   },
   {
    "duration": 13,
    "start_time": "2021-12-25T10:33:53.628Z"
   },
   {
    "duration": 8,
    "start_time": "2021-12-25T10:33:54.065Z"
   },
   {
    "duration": 7,
    "start_time": "2021-12-25T10:33:54.376Z"
   },
   {
    "duration": 8,
    "start_time": "2021-12-25T10:33:55.634Z"
   },
   {
    "duration": 28,
    "start_time": "2021-12-25T10:33:57.371Z"
   },
   {
    "duration": 12,
    "start_time": "2021-12-25T10:33:58.465Z"
   },
   {
    "duration": 6,
    "start_time": "2021-12-25T10:34:00.204Z"
   },
   {
    "duration": 292,
    "start_time": "2021-12-25T10:34:00.737Z"
   },
   {
    "duration": 175,
    "start_time": "2021-12-25T10:34:01.334Z"
   },
   {
    "duration": 53443,
    "start_time": "2021-12-25T10:34:40.503Z"
   },
   {
    "duration": 964,
    "start_time": "2021-12-25T10:35:33.948Z"
   },
   {
    "duration": 22,
    "start_time": "2021-12-25T10:35:34.914Z"
   },
   {
    "duration": 13,
    "start_time": "2021-12-25T10:35:34.938Z"
   },
   {
    "duration": 8,
    "start_time": "2021-12-25T10:35:34.953Z"
   },
   {
    "duration": 3,
    "start_time": "2021-12-25T10:35:34.963Z"
   },
   {
    "duration": 8,
    "start_time": "2021-12-25T10:35:34.967Z"
   },
   {
    "duration": 25,
    "start_time": "2021-12-25T10:35:34.977Z"
   },
   {
    "duration": 7,
    "start_time": "2021-12-25T10:35:35.004Z"
   },
   {
    "duration": 6,
    "start_time": "2021-12-25T10:35:35.013Z"
   },
   {
    "duration": 7,
    "start_time": "2021-12-25T10:35:35.020Z"
   },
   {
    "duration": 27,
    "start_time": "2021-12-25T10:35:35.029Z"
   },
   {
    "duration": 42,
    "start_time": "2021-12-25T10:35:35.057Z"
   },
   {
    "duration": 5,
    "start_time": "2021-12-25T10:35:35.101Z"
   },
   {
    "duration": 1448,
    "start_time": "2021-12-25T10:35:35.107Z"
   },
   {
    "duration": 266,
    "start_time": "2021-12-25T10:35:36.556Z"
   },
   {
    "duration": 6,
    "start_time": "2021-12-25T10:35:36.824Z"
   },
   {
    "duration": 6,
    "start_time": "2021-12-25T10:35:36.832Z"
   },
   {
    "duration": 1561,
    "start_time": "2021-12-25T10:36:14.178Z"
   },
   {
    "duration": 2413,
    "start_time": "2021-12-25T10:36:43.910Z"
   },
   {
    "duration": 6862,
    "start_time": "2021-12-25T10:42:43.405Z"
   },
   {
    "duration": 5216,
    "start_time": "2021-12-25T10:43:17.959Z"
   },
   {
    "duration": 4971,
    "start_time": "2021-12-25T10:43:36.789Z"
   },
   {
    "duration": 3,
    "start_time": "2021-12-25T10:53:32.798Z"
   },
   {
    "duration": 4768,
    "start_time": "2021-12-25T10:53:39.640Z"
   },
   {
    "duration": 1407,
    "start_time": "2021-12-25T11:20:48.895Z"
   },
   {
    "duration": 1275,
    "start_time": "2021-12-25T11:21:26.820Z"
   },
   {
    "duration": 1485,
    "start_time": "2021-12-25T11:21:40.058Z"
   },
   {
    "duration": 92,
    "start_time": "2021-12-25T11:22:38.150Z"
   },
   {
    "duration": 1326,
    "start_time": "2021-12-25T11:22:43.811Z"
   },
   {
    "duration": 1440,
    "start_time": "2021-12-25T11:22:58.287Z"
   },
   {
    "duration": 1416,
    "start_time": "2021-12-25T11:23:37.432Z"
   },
   {
    "duration": 4,
    "start_time": "2021-12-25T11:54:16.849Z"
   },
   {
    "duration": 260,
    "start_time": "2021-12-25T11:55:15.422Z"
   },
   {
    "duration": 146,
    "start_time": "2021-12-25T11:55:41.456Z"
   },
   {
    "duration": 7,
    "start_time": "2021-12-25T11:55:46.591Z"
   },
   {
    "duration": 16,
    "start_time": "2021-12-25T11:58:00.814Z"
   },
   {
    "duration": 21,
    "start_time": "2021-12-25T11:58:52.145Z"
   },
   {
    "duration": 4,
    "start_time": "2021-12-25T11:59:21.729Z"
   },
   {
    "duration": 220,
    "start_time": "2021-12-25T12:06:47.585Z"
   },
   {
    "duration": 568,
    "start_time": "2021-12-25T12:07:11.849Z"
   },
   {
    "duration": 440,
    "start_time": "2021-12-25T12:07:34.452Z"
   },
   {
    "duration": 186,
    "start_time": "2021-12-25T12:07:37.239Z"
   },
   {
    "duration": 176,
    "start_time": "2021-12-25T12:08:02.634Z"
   },
   {
    "duration": 12,
    "start_time": "2021-12-25T12:08:26.664Z"
   },
   {
    "duration": 781,
    "start_time": "2021-12-25T12:09:49.728Z"
   },
   {
    "duration": 12,
    "start_time": "2021-12-25T12:09:52.750Z"
   },
   {
    "duration": 454,
    "start_time": "2021-12-25T12:10:02.943Z"
   },
   {
    "duration": 11,
    "start_time": "2021-12-25T12:10:05.214Z"
   },
   {
    "duration": 3,
    "start_time": "2021-12-25T12:40:03.897Z"
   },
   {
    "duration": 13,
    "start_time": "2021-12-25T12:41:49.652Z"
   },
   {
    "duration": 4,
    "start_time": "2021-12-25T12:45:01.426Z"
   },
   {
    "duration": 17,
    "start_time": "2021-12-25T12:46:46.960Z"
   },
   {
    "duration": 68814,
    "start_time": "2021-12-25T12:47:39.448Z"
   },
   {
    "duration": 15,
    "start_time": "2021-12-25T12:54:58.390Z"
   },
   {
    "duration": 201,
    "start_time": "2021-12-25T12:56:18.567Z"
   },
   {
    "duration": 1242,
    "start_time": "2021-12-25T12:56:26.054Z"
   },
   {
    "duration": 192,
    "start_time": "2021-12-25T12:57:29.502Z"
   },
   {
    "duration": 4,
    "start_time": "2021-12-25T12:59:09.060Z"
   },
   {
    "duration": 3,
    "start_time": "2021-12-25T12:59:29.806Z"
   },
   {
    "duration": 4,
    "start_time": "2021-12-25T12:59:51.036Z"
   },
   {
    "duration": 4,
    "start_time": "2021-12-25T12:59:57.413Z"
   },
   {
    "duration": 11,
    "start_time": "2021-12-25T13:01:53.883Z"
   },
   {
    "duration": 13,
    "start_time": "2021-12-25T13:02:02.352Z"
   },
   {
    "duration": 88530,
    "start_time": "2021-12-25T13:02:11.501Z"
   },
   {
    "duration": 1284,
    "start_time": "2021-12-25T13:03:59.713Z"
   },
   {
    "duration": 4,
    "start_time": "2021-12-25T13:04:03.111Z"
   },
   {
    "duration": 24,
    "start_time": "2021-12-25T13:05:38.164Z"
   },
   {
    "duration": 14,
    "start_time": "2021-12-25T13:05:43.282Z"
   },
   {
    "duration": 8160,
    "start_time": "2021-12-25T13:13:22.014Z"
   },
   {
    "duration": 70,
    "start_time": "2021-12-25T13:13:47.407Z"
   },
   {
    "duration": 8728,
    "start_time": "2021-12-25T13:13:57.967Z"
   },
   {
    "duration": 6,
    "start_time": "2021-12-25T13:22:10.516Z"
   },
   {
    "duration": 3,
    "start_time": "2021-12-25T13:27:01.853Z"
   },
   {
    "duration": 4748,
    "start_time": "2021-12-25T13:28:07.738Z"
   },
   {
    "duration": 6328,
    "start_time": "2021-12-25T13:28:25.795Z"
   },
   {
    "duration": 61,
    "start_time": "2021-12-25T13:30:32.409Z"
   },
   {
    "duration": 5955,
    "start_time": "2021-12-25T13:30:37.623Z"
   },
   {
    "duration": 6561,
    "start_time": "2021-12-25T13:35:49.587Z"
   },
   {
    "duration": 6348,
    "start_time": "2021-12-25T13:36:01.517Z"
   },
   {
    "duration": 6155,
    "start_time": "2021-12-25T13:37:20.004Z"
   },
   {
    "duration": 6018,
    "start_time": "2021-12-25T13:38:03.732Z"
   },
   {
    "duration": 6180,
    "start_time": "2021-12-25T13:38:26.813Z"
   },
   {
    "duration": 3919,
    "start_time": "2021-12-25T13:48:11.702Z"
   },
   {
    "duration": 5475,
    "start_time": "2021-12-25T13:51:23.931Z"
   },
   {
    "duration": 5506,
    "start_time": "2021-12-25T13:51:45.451Z"
   },
   {
    "duration": 364,
    "start_time": "2021-12-25T13:56:29.139Z"
   },
   {
    "duration": 6135,
    "start_time": "2021-12-25T13:58:59.769Z"
   },
   {
    "duration": 5,
    "start_time": "2021-12-25T14:00:58.487Z"
   },
   {
    "duration": 5797,
    "start_time": "2021-12-25T14:08:17.820Z"
   },
   {
    "duration": 664,
    "start_time": "2021-12-25T14:09:19.263Z"
   },
   {
    "duration": 15,
    "start_time": "2021-12-25T14:10:17.640Z"
   },
   {
    "duration": 64,
    "start_time": "2021-12-25T14:32:55.469Z"
   },
   {
    "duration": 4849,
    "start_time": "2021-12-25T14:32:59.684Z"
   },
   {
    "duration": 4779,
    "start_time": "2021-12-25T14:33:16.583Z"
   },
   {
    "duration": 6119,
    "start_time": "2021-12-25T14:34:55.101Z"
   },
   {
    "duration": 631,
    "start_time": "2021-12-25T14:43:18.882Z"
   },
   {
    "duration": 643,
    "start_time": "2021-12-25T14:43:30.783Z"
   },
   {
    "duration": 5793,
    "start_time": "2021-12-25T14:44:45.160Z"
   },
   {
    "duration": 5683,
    "start_time": "2021-12-25T14:45:12.450Z"
   },
   {
    "duration": 663,
    "start_time": "2021-12-25T14:47:43.002Z"
   },
   {
    "duration": 5385,
    "start_time": "2021-12-25T14:49:39.967Z"
   },
   {
    "duration": 5466,
    "start_time": "2021-12-25T14:51:05.902Z"
   },
   {
    "duration": 387,
    "start_time": "2021-12-25T14:54:48.368Z"
   },
   {
    "duration": 5632,
    "start_time": "2021-12-25T14:55:22.040Z"
   },
   {
    "duration": 5367,
    "start_time": "2021-12-25T14:55:38.296Z"
   },
   {
    "duration": 5381,
    "start_time": "2021-12-25T14:57:41.074Z"
   },
   {
    "duration": 5523,
    "start_time": "2021-12-25T14:58:25.814Z"
   },
   {
    "duration": 5257,
    "start_time": "2021-12-25T15:39:38.741Z"
   },
   {
    "duration": 5221,
    "start_time": "2021-12-25T15:41:07.937Z"
   },
   {
    "duration": 433,
    "start_time": "2021-12-25T15:42:51.064Z"
   },
   {
    "duration": 5478,
    "start_time": "2021-12-25T15:43:57.437Z"
   },
   {
    "duration": 5911,
    "start_time": "2021-12-25T15:46:57.106Z"
   },
   {
    "duration": 5439,
    "start_time": "2021-12-25T15:48:53.708Z"
   },
   {
    "duration": 12,
    "start_time": "2021-12-25T15:50:41.857Z"
   },
   {
    "duration": 297,
    "start_time": "2021-12-25T15:54:40.593Z"
   },
   {
    "duration": 13,
    "start_time": "2021-12-25T15:54:52.282Z"
   },
   {
    "duration": 9,
    "start_time": "2021-12-25T15:55:55.782Z"
   },
   {
    "duration": 27505,
    "start_time": "2021-12-25T16:19:01.328Z"
   },
   {
    "duration": 287,
    "start_time": "2021-12-26T10:39:36.757Z"
   },
   {
    "duration": 267,
    "start_time": "2021-12-26T10:39:39.286Z"
   },
   {
    "duration": 3235,
    "start_time": "2021-12-26T10:39:44.140Z"
   },
   {
    "duration": 1498,
    "start_time": "2021-12-26T10:39:51.130Z"
   },
   {
    "duration": 23,
    "start_time": "2021-12-26T10:39:53.764Z"
   },
   {
    "duration": 14,
    "start_time": "2021-12-26T10:39:55.060Z"
   },
   {
    "duration": 10,
    "start_time": "2021-12-26T10:39:55.524Z"
   },
   {
    "duration": 3,
    "start_time": "2021-12-26T10:39:57.157Z"
   },
   {
    "duration": 6,
    "start_time": "2021-12-26T10:39:58.984Z"
   },
   {
    "duration": 13,
    "start_time": "2021-12-26T10:39:59.991Z"
   },
   {
    "duration": 8,
    "start_time": "2021-12-26T10:40:10.902Z"
   },
   {
    "duration": 7,
    "start_time": "2021-12-26T10:40:12.310Z"
   },
   {
    "duration": 9,
    "start_time": "2021-12-26T10:40:14.034Z"
   },
   {
    "duration": 25,
    "start_time": "2021-12-26T10:40:17.151Z"
   },
   {
    "duration": 11,
    "start_time": "2021-12-26T10:40:28.358Z"
   },
   {
    "duration": 12,
    "start_time": "2021-12-26T10:41:27.957Z"
   },
   {
    "duration": 13,
    "start_time": "2021-12-26T10:41:38.779Z"
   },
   {
    "duration": 7173,
    "start_time": "2021-12-26T10:49:46.679Z"
   },
   {
    "duration": 4259,
    "start_time": "2021-12-26T10:51:22.330Z"
   },
   {
    "duration": 3656,
    "start_time": "2021-12-26T10:53:30.391Z"
   },
   {
    "duration": 3916,
    "start_time": "2021-12-26T10:58:00.782Z"
   },
   {
    "duration": 3054,
    "start_time": "2021-12-26T10:59:32.978Z"
   },
   {
    "duration": 3107,
    "start_time": "2021-12-26T11:03:29.647Z"
   },
   {
    "duration": 477,
    "start_time": "2021-12-26T11:03:40.545Z"
   },
   {
    "duration": 3488,
    "start_time": "2021-12-26T11:03:44.337Z"
   },
   {
    "duration": 3236,
    "start_time": "2021-12-26T11:03:55.853Z"
   },
   {
    "duration": 3671,
    "start_time": "2021-12-26T11:04:02.313Z"
   },
   {
    "duration": 3576,
    "start_time": "2021-12-26T11:05:17.588Z"
   },
   {
    "duration": 4,
    "start_time": "2021-12-26T11:06:12.334Z"
   },
   {
    "duration": 111,
    "start_time": "2021-12-26T11:06:36.575Z"
   },
   {
    "duration": 2956,
    "start_time": "2021-12-26T11:06:41.255Z"
   },
   {
    "duration": 3435,
    "start_time": "2021-12-26T11:08:29.910Z"
   },
   {
    "duration": 259,
    "start_time": "2021-12-26T11:13:06.984Z"
   },
   {
    "duration": 5870,
    "start_time": "2021-12-26T11:13:24.519Z"
   },
   {
    "duration": 2113,
    "start_time": "2021-12-26T11:13:52.477Z"
   },
   {
    "duration": 243,
    "start_time": "2021-12-26T11:23:11.694Z"
   },
   {
    "duration": 7,
    "start_time": "2021-12-26T11:23:23.454Z"
   },
   {
    "duration": 7,
    "start_time": "2021-12-26T11:23:23.655Z"
   },
   {
    "duration": 1291,
    "start_time": "2021-12-26T11:23:24.638Z"
   },
   {
    "duration": 5,
    "start_time": "2021-12-26T11:23:29.317Z"
   },
   {
    "duration": 6,
    "start_time": "2021-12-26T11:23:31.422Z"
   },
   {
    "duration": 434,
    "start_time": "2021-12-26T11:23:32.813Z"
   },
   {
    "duration": 14,
    "start_time": "2021-12-26T11:23:34.940Z"
   },
   {
    "duration": 9,
    "start_time": "2021-12-26T11:23:41.788Z"
   },
   {
    "duration": 11,
    "start_time": "2021-12-26T11:24:16.223Z"
   },
   {
    "duration": 10,
    "start_time": "2021-12-26T11:24:27.340Z"
   },
   {
    "duration": 297,
    "start_time": "2021-12-26T11:25:01.785Z"
   },
   {
    "duration": 9,
    "start_time": "2021-12-26T11:25:10.821Z"
   },
   {
    "duration": 258,
    "start_time": "2021-12-26T11:33:34.695Z"
   },
   {
    "duration": 269,
    "start_time": "2021-12-26T11:35:28.850Z"
   },
   {
    "duration": 256,
    "start_time": "2021-12-26T11:36:31.470Z"
   },
   {
    "duration": 261,
    "start_time": "2021-12-26T11:37:10.581Z"
   },
   {
    "duration": 249,
    "start_time": "2021-12-26T11:37:36.708Z"
   },
   {
    "duration": 241,
    "start_time": "2021-12-26T11:39:08.811Z"
   },
   {
    "duration": 3,
    "start_time": "2021-12-26T11:39:20.279Z"
   },
   {
    "duration": 3,
    "start_time": "2021-12-26T11:39:28.720Z"
   },
   {
    "duration": 252,
    "start_time": "2021-12-26T11:39:37.673Z"
   },
   {
    "duration": 4,
    "start_time": "2021-12-26T11:40:03.958Z"
   },
   {
    "duration": 5,
    "start_time": "2021-12-26T11:40:04.641Z"
   },
   {
    "duration": 449,
    "start_time": "2021-12-26T11:40:05.001Z"
   },
   {
    "duration": 11,
    "start_time": "2021-12-26T11:40:05.452Z"
   },
   {
    "duration": 12,
    "start_time": "2021-12-26T11:40:06.026Z"
   },
   {
    "duration": 77615,
    "start_time": "2021-12-26T11:40:06.363Z"
   },
   {
    "duration": 1263,
    "start_time": "2021-12-26T11:41:23.980Z"
   },
   {
    "duration": 4,
    "start_time": "2021-12-26T11:41:25.244Z"
   },
   {
    "duration": 19,
    "start_time": "2021-12-26T11:41:25.249Z"
   },
   {
    "duration": 3,
    "start_time": "2021-12-26T11:41:25.269Z"
   },
   {
    "duration": 300,
    "start_time": "2021-12-26T11:41:32.683Z"
   },
   {
    "duration": 5829,
    "start_time": "2021-12-26T11:44:48.023Z"
   },
   {
    "duration": 4,
    "start_time": "2021-12-26T11:45:20.673Z"
   },
   {
    "duration": 2,
    "start_time": "2021-12-26T11:45:56.429Z"
   },
   {
    "duration": 4937,
    "start_time": "2021-12-26T11:45:59.479Z"
   },
   {
    "duration": 1997,
    "start_time": "2021-12-26T11:47:00.116Z"
   },
   {
    "duration": 1898,
    "start_time": "2021-12-26T11:47:32.597Z"
   },
   {
    "duration": 6736,
    "start_time": "2021-12-26T11:47:56.336Z"
   },
   {
    "duration": 3,
    "start_time": "2021-12-26T11:48:55.382Z"
   },
   {
    "duration": 2245,
    "start_time": "2021-12-26T11:48:59.333Z"
   },
   {
    "duration": 3178,
    "start_time": "2021-12-26T11:49:12.118Z"
   },
   {
    "duration": 5107,
    "start_time": "2021-12-26T11:49:51.766Z"
   },
   {
    "duration": 2,
    "start_time": "2021-12-26T11:50:09.525Z"
   },
   {
    "duration": 4786,
    "start_time": "2021-12-26T11:50:11.129Z"
   },
   {
    "duration": 3291,
    "start_time": "2021-12-26T11:53:51.239Z"
   },
   {
    "duration": 268,
    "start_time": "2021-12-26T11:54:26.578Z"
   },
   {
    "duration": 295,
    "start_time": "2021-12-26T11:54:37.014Z"
   },
   {
    "duration": 3,
    "start_time": "2021-12-26T11:54:46.826Z"
   },
   {
    "duration": 2,
    "start_time": "2021-12-26T11:54:50.923Z"
   },
   {
    "duration": 3565,
    "start_time": "2021-12-26T11:54:53.048Z"
   },
   {
    "duration": 3,
    "start_time": "2021-12-26T11:56:00.790Z"
   },
   {
    "duration": 2,
    "start_time": "2021-12-26T11:56:05.973Z"
   },
   {
    "duration": 3441,
    "start_time": "2021-12-26T11:56:16.354Z"
   },
   {
    "duration": 1437,
    "start_time": "2021-12-26T11:56:40.577Z"
   },
   {
    "duration": 6975,
    "start_time": "2021-12-26T11:59:52.408Z"
   },
   {
    "duration": 21,
    "start_time": "2021-12-26T12:00:06.542Z"
   },
   {
    "duration": 11,
    "start_time": "2021-12-26T12:00:07.063Z"
   },
   {
    "duration": 7,
    "start_time": "2021-12-26T12:00:07.229Z"
   },
   {
    "duration": 3,
    "start_time": "2021-12-26T12:00:07.911Z"
   },
   {
    "duration": 7,
    "start_time": "2021-12-26T12:00:08.882Z"
   },
   {
    "duration": 2197,
    "start_time": "2021-12-26T12:00:19.435Z"
   },
   {
    "duration": 1554,
    "start_time": "2021-12-26T12:00:21.634Z"
   },
   {
    "duration": 21,
    "start_time": "2021-12-26T12:00:23.190Z"
   },
   {
    "duration": 14,
    "start_time": "2021-12-26T12:00:23.584Z"
   },
   {
    "duration": 7,
    "start_time": "2021-12-26T12:00:27.721Z"
   },
   {
    "duration": 3,
    "start_time": "2021-12-26T12:00:31.586Z"
   },
   {
    "duration": 7,
    "start_time": "2021-12-26T12:00:33.016Z"
   },
   {
    "duration": 4,
    "start_time": "2021-12-26T12:00:36.812Z"
   },
   {
    "duration": 11,
    "start_time": "2021-12-26T12:00:49.692Z"
   },
   {
    "duration": 9,
    "start_time": "2021-12-26T12:00:51.620Z"
   },
   {
    "duration": 10,
    "start_time": "2021-12-26T12:00:58.695Z"
   },
   {
    "duration": 28,
    "start_time": "2021-12-26T12:01:03.722Z"
   },
   {
    "duration": 13,
    "start_time": "2021-12-26T12:01:11.113Z"
   },
   {
    "duration": 3,
    "start_time": "2021-12-26T12:01:43.053Z"
   },
   {
    "duration": 388,
    "start_time": "2021-12-26T12:01:45.542Z"
   },
   {
    "duration": 3,
    "start_time": "2021-12-26T12:02:11.387Z"
   },
   {
    "duration": 2612,
    "start_time": "2021-12-26T12:02:14.533Z"
   },
   {
    "duration": 2338,
    "start_time": "2021-12-26T12:02:35.003Z"
   },
   {
    "duration": 2039,
    "start_time": "2021-12-26T12:02:37.343Z"
   },
   {
    "duration": 7,
    "start_time": "2021-12-26T12:02:47.297Z"
   },
   {
    "duration": 8,
    "start_time": "2021-12-26T12:02:47.763Z"
   },
   {
    "duration": 1159,
    "start_time": "2021-12-26T12:02:53.941Z"
   },
   {
    "duration": 5,
    "start_time": "2021-12-26T12:03:11.686Z"
   },
   {
    "duration": 6,
    "start_time": "2021-12-26T12:03:12.748Z"
   },
   {
    "duration": 496,
    "start_time": "2021-12-26T12:03:14.048Z"
   },
   {
    "duration": 12,
    "start_time": "2021-12-26T12:03:15.950Z"
   },
   {
    "duration": 10,
    "start_time": "2021-12-26T12:03:19.893Z"
   },
   {
    "duration": 75933,
    "start_time": "2021-12-26T12:03:21.445Z"
   },
   {
    "duration": 1250,
    "start_time": "2021-12-26T12:05:18.399Z"
   },
   {
    "duration": 4,
    "start_time": "2021-12-26T12:05:20.936Z"
   },
   {
    "duration": 15,
    "start_time": "2021-12-26T12:05:23.104Z"
   },
   {
    "duration": 3,
    "start_time": "2021-12-26T12:05:50.630Z"
   },
   {
    "duration": 453,
    "start_time": "2021-12-26T12:05:51.610Z"
   },
   {
    "duration": 3,
    "start_time": "2021-12-26T12:06:07.774Z"
   },
   {
    "duration": 2855,
    "start_time": "2021-12-26T12:06:09.636Z"
   },
   {
    "duration": 2573,
    "start_time": "2021-12-26T12:06:57.149Z"
   },
   {
    "duration": 1700,
    "start_time": "2021-12-26T12:06:59.724Z"
   },
   {
    "duration": 542,
    "start_time": "2021-12-26T12:07:08.988Z"
   },
   {
    "duration": 2250,
    "start_time": "2021-12-26T12:07:54.132Z"
   },
   {
    "duration": 1362,
    "start_time": "2021-12-26T12:07:56.384Z"
   },
   {
    "duration": 22,
    "start_time": "2021-12-26T12:07:57.748Z"
   },
   {
    "duration": 14,
    "start_time": "2021-12-26T12:07:57.771Z"
   },
   {
    "duration": 8,
    "start_time": "2021-12-26T12:07:57.786Z"
   },
   {
    "duration": 4,
    "start_time": "2021-12-26T12:07:57.795Z"
   },
   {
    "duration": 8,
    "start_time": "2021-12-26T12:07:57.800Z"
   },
   {
    "duration": 12,
    "start_time": "2021-12-26T12:07:57.811Z"
   },
   {
    "duration": 7,
    "start_time": "2021-12-26T12:07:59.439Z"
   },
   {
    "duration": 9,
    "start_time": "2021-12-26T12:08:02.450Z"
   },
   {
    "duration": 32,
    "start_time": "2021-12-26T12:08:04.156Z"
   },
   {
    "duration": 12,
    "start_time": "2021-12-26T12:08:07.416Z"
   },
   {
    "duration": 3,
    "start_time": "2021-12-26T12:08:10.604Z"
   },
   {
    "duration": 2604,
    "start_time": "2021-12-26T12:08:11.473Z"
   },
   {
    "duration": 1890,
    "start_time": "2021-12-26T12:08:14.079Z"
   },
   {
    "duration": 7,
    "start_time": "2021-12-26T12:08:21.744Z"
   },
   {
    "duration": 8,
    "start_time": "2021-12-26T12:08:23.204Z"
   },
   {
    "duration": 1336,
    "start_time": "2021-12-26T12:08:25.233Z"
   },
   {
    "duration": 4,
    "start_time": "2021-12-26T12:08:44.131Z"
   },
   {
    "duration": 6,
    "start_time": "2021-12-26T12:08:45.069Z"
   },
   {
    "duration": 520,
    "start_time": "2021-12-26T12:08:45.721Z"
   },
   {
    "duration": 10,
    "start_time": "2021-12-26T12:08:46.514Z"
   },
   {
    "duration": 10,
    "start_time": "2021-12-26T12:08:48.164Z"
   },
   {
    "duration": 76041,
    "start_time": "2021-12-26T12:08:48.988Z"
   },
   {
    "duration": 1414,
    "start_time": "2021-12-26T12:10:39.928Z"
   },
   {
    "duration": 4,
    "start_time": "2021-12-26T12:10:41.343Z"
   },
   {
    "duration": 15,
    "start_time": "2021-12-26T12:11:02.229Z"
   },
   {
    "duration": 2,
    "start_time": "2021-12-26T12:11:05.834Z"
   },
   {
    "duration": 2612,
    "start_time": "2021-12-26T12:11:06.494Z"
   },
   {
    "duration": 1483,
    "start_time": "2021-12-26T12:11:12.589Z"
   },
   {
    "duration": 605,
    "start_time": "2021-12-26T12:11:34.943Z"
   },
   {
    "duration": 1352,
    "start_time": "2021-12-26T12:28:40.494Z"
   },
   {
    "duration": 4,
    "start_time": "2021-12-26T12:28:45.662Z"
   },
   {
    "duration": 19,
    "start_time": "2021-12-26T12:28:47.261Z"
   },
   {
    "duration": 3,
    "start_time": "2021-12-26T12:28:50.945Z"
   },
   {
    "duration": 2967,
    "start_time": "2021-12-26T12:28:51.738Z"
   },
   {
    "duration": 648,
    "start_time": "2021-12-26T12:32:11.356Z"
   },
   {
    "duration": 5140,
    "start_time": "2021-12-26T12:33:41.445Z"
   },
   {
    "duration": 23,
    "start_time": "2021-12-26T12:43:00.690Z"
   },
   {
    "duration": 10,
    "start_time": "2021-12-26T12:43:01.294Z"
   },
   {
    "duration": 7,
    "start_time": "2021-12-26T12:43:01.606Z"
   },
   {
    "duration": 4,
    "start_time": "2021-12-26T12:43:02.628Z"
   },
   {
    "duration": 7,
    "start_time": "2021-12-26T12:43:03.183Z"
   },
   {
    "duration": 10,
    "start_time": "2021-12-26T12:43:04.765Z"
   },
   {
    "duration": 7,
    "start_time": "2021-12-26T12:43:06.356Z"
   },
   {
    "duration": 9,
    "start_time": "2021-12-26T12:43:08.043Z"
   },
   {
    "duration": 28,
    "start_time": "2021-12-26T12:43:09.817Z"
   },
   {
    "duration": 3,
    "start_time": "2021-12-26T12:44:48.266Z"
   },
   {
    "duration": 2406,
    "start_time": "2021-12-26T12:44:49.842Z"
   },
   {
    "duration": 2021,
    "start_time": "2021-12-26T12:45:59.378Z"
   },
   {
    "duration": 4,
    "start_time": "2021-12-26T12:57:48.849Z"
   },
   {
    "duration": 5,
    "start_time": "2021-12-26T12:57:49.901Z"
   },
   {
    "duration": 442,
    "start_time": "2021-12-26T12:57:51.700Z"
   },
   {
    "duration": 11,
    "start_time": "2021-12-26T12:57:54.855Z"
   },
   {
    "duration": 271,
    "start_time": "2021-12-26T13:00:04.127Z"
   },
   {
    "duration": 257,
    "start_time": "2021-12-26T13:01:02.248Z"
   },
   {
    "duration": 10,
    "start_time": "2021-12-26T13:01:08.061Z"
   },
   {
    "duration": 11,
    "start_time": "2021-12-26T13:07:35.847Z"
   },
   {
    "duration": 78695,
    "start_time": "2021-12-26T13:07:38.073Z"
   },
   {
    "duration": 1453,
    "start_time": "2021-12-26T13:09:06.295Z"
   },
   {
    "duration": 92,
    "start_time": "2021-12-26T13:09:07.750Z"
   },
   {
    "duration": 14,
    "start_time": "2021-12-26T13:09:08.669Z"
   },
   {
    "duration": 4,
    "start_time": "2021-12-26T13:16:03.704Z"
   },
   {
    "duration": 2700,
    "start_time": "2021-12-26T13:16:05.889Z"
   },
   {
    "duration": 4466,
    "start_time": "2021-12-26T13:16:16.881Z"
   },
   {
    "duration": 4750,
    "start_time": "2021-12-26T13:16:56.265Z"
   },
   {
    "duration": 5179,
    "start_time": "2021-12-26T13:17:08.006Z"
   },
   {
    "duration": 8,
    "start_time": "2021-12-26T13:17:35.470Z"
   },
   {
    "duration": 2457,
    "start_time": "2021-12-26T14:02:58.818Z"
   },
   {
    "duration": 1550,
    "start_time": "2021-12-26T14:03:01.278Z"
   },
   {
    "duration": 24,
    "start_time": "2021-12-26T14:03:07.410Z"
   },
   {
    "duration": 15,
    "start_time": "2021-12-26T14:03:07.734Z"
   },
   {
    "duration": 15,
    "start_time": "2021-12-26T14:03:07.841Z"
   },
   {
    "duration": 4,
    "start_time": "2021-12-26T14:03:08.441Z"
   },
   {
    "duration": 6,
    "start_time": "2021-12-26T14:03:08.751Z"
   },
   {
    "duration": 8,
    "start_time": "2021-12-26T14:03:09.055Z"
   },
   {
    "duration": 8,
    "start_time": "2021-12-26T14:03:09.367Z"
   },
   {
    "duration": 8,
    "start_time": "2021-12-26T14:03:09.729Z"
   },
   {
    "duration": 27,
    "start_time": "2021-12-26T14:03:10.404Z"
   },
   {
    "duration": 12,
    "start_time": "2021-12-26T14:03:10.734Z"
   },
   {
    "duration": 3,
    "start_time": "2021-12-26T14:03:11.061Z"
   },
   {
    "duration": 2655,
    "start_time": "2021-12-26T14:03:11.247Z"
   },
   {
    "duration": 1979,
    "start_time": "2021-12-26T14:03:13.904Z"
   },
   {
    "duration": 6,
    "start_time": "2021-12-26T14:03:15.885Z"
   },
   {
    "duration": 5,
    "start_time": "2021-12-26T14:03:15.893Z"
   },
   {
    "duration": 1255,
    "start_time": "2021-12-26T14:03:15.900Z"
   },
   {
    "duration": 5,
    "start_time": "2021-12-26T14:03:17.157Z"
   },
   {
    "duration": 14,
    "start_time": "2021-12-26T14:03:17.163Z"
   },
   {
    "duration": 470,
    "start_time": "2021-12-26T14:03:17.179Z"
   },
   {
    "duration": 10,
    "start_time": "2021-12-26T14:03:17.651Z"
   },
   {
    "duration": 9,
    "start_time": "2021-12-26T14:03:17.663Z"
   },
   {
    "duration": 11,
    "start_time": "2021-12-26T14:03:17.674Z"
   },
   {
    "duration": 78451,
    "start_time": "2021-12-26T14:03:17.686Z"
   },
   {
    "duration": 1403,
    "start_time": "2021-12-26T14:04:36.141Z"
   },
   {
    "duration": 5,
    "start_time": "2021-12-26T14:04:37.546Z"
   },
   {
    "duration": 102,
    "start_time": "2021-12-26T14:04:37.554Z"
   },
   {
    "duration": 3,
    "start_time": "2021-12-26T14:04:37.658Z"
   },
   {
    "duration": 2768,
    "start_time": "2021-12-26T14:04:37.662Z"
   },
   {
    "duration": 5180,
    "start_time": "2021-12-26T14:04:40.432Z"
   },
   {
    "duration": 453,
    "start_time": "2021-12-26T14:04:45.614Z"
   },
   {
    "duration": 198056,
    "start_time": "2021-12-26T16:11:33.990Z"
   },
   {
    "duration": 63466,
    "start_time": "2021-12-26T16:14:52.049Z"
   },
   {
    "duration": 23,
    "start_time": "2021-12-26T16:15:55.518Z"
   },
   {
    "duration": 21,
    "start_time": "2021-12-26T16:15:55.544Z"
   },
   {
    "duration": 10,
    "start_time": "2021-12-26T16:15:55.567Z"
   },
   {
    "duration": 6,
    "start_time": "2021-12-26T16:15:55.580Z"
   },
   {
    "duration": 41,
    "start_time": "2021-12-26T16:15:55.588Z"
   },
   {
    "duration": 12,
    "start_time": "2021-12-26T16:15:55.632Z"
   },
   {
    "duration": 10,
    "start_time": "2021-12-26T16:15:55.648Z"
   },
   {
    "duration": 11,
    "start_time": "2021-12-26T16:15:55.661Z"
   },
   {
    "duration": 87,
    "start_time": "2021-12-26T16:15:55.675Z"
   },
   {
    "duration": 19,
    "start_time": "2021-12-26T16:15:55.764Z"
   },
   {
    "duration": 3,
    "start_time": "2021-12-26T16:15:55.785Z"
   },
   {
    "duration": 3715,
    "start_time": "2021-12-26T16:15:55.791Z"
   },
   {
    "duration": 3284,
    "start_time": "2021-12-26T16:15:59.508Z"
   },
   {
    "duration": 10,
    "start_time": "2021-12-26T16:16:02.794Z"
   },
   {
    "duration": 9,
    "start_time": "2021-12-26T16:16:02.823Z"
   },
   {
    "duration": 1972,
    "start_time": "2021-12-26T16:16:02.834Z"
   },
   {
    "duration": 16,
    "start_time": "2021-12-26T16:16:04.809Z"
   },
   {
    "duration": 11,
    "start_time": "2021-12-26T16:16:04.827Z"
   },
   {
    "duration": 783,
    "start_time": "2021-12-26T16:16:04.840Z"
   },
   {
    "duration": 20,
    "start_time": "2021-12-26T16:16:05.626Z"
   },
   {
    "duration": 13,
    "start_time": "2021-12-26T16:16:05.648Z"
   },
   {
    "duration": 30,
    "start_time": "2021-12-26T16:16:05.663Z"
   },
   {
    "duration": 135827,
    "start_time": "2021-12-26T16:16:05.696Z"
   },
   {
    "duration": 1897,
    "start_time": "2021-12-26T16:18:21.526Z"
   },
   {
    "duration": 4,
    "start_time": "2021-12-26T16:18:23.428Z"
   },
   {
    "duration": 22,
    "start_time": "2021-12-26T16:18:23.435Z"
   },
   {
    "duration": 4,
    "start_time": "2021-12-26T16:18:23.460Z"
   },
   {
    "duration": 4094,
    "start_time": "2021-12-26T16:18:23.466Z"
   },
   {
    "duration": 7782,
    "start_time": "2021-12-26T16:18:27.563Z"
   },
   {
    "duration": 248286,
    "start_time": "2021-12-26T16:18:35.348Z"
   }
  ],
  "kernelspec": {
   "display_name": "Python 3",
   "language": "python",
   "name": "python3"
  },
  "language_info": {
   "codemirror_mode": {
    "name": "ipython",
    "version": 3
   },
   "file_extension": ".py",
   "mimetype": "text/x-python",
   "name": "python",
   "nbconvert_exporter": "python",
   "pygments_lexer": "ipython3",
   "version": "3.8.8"
  },
  "toc": {
   "base_numbering": 1,
   "nav_menu": {},
   "number_sections": true,
   "sideBar": true,
   "skip_h1_title": true,
   "title_cell": "Table of Contents",
   "title_sidebar": "Contents",
   "toc_cell": false,
   "toc_position": {
    "height": "calc(100% - 180px)",
    "left": "10px",
    "top": "150px",
    "width": "192.528px"
   },
   "toc_section_display": true,
   "toc_window_display": false
  }
 },
 "nbformat": 4,
 "nbformat_minor": 4
}
