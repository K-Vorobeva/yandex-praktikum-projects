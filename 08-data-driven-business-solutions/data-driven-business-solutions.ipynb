{
 "cells": [
  {
   "cell_type": "markdown",
   "metadata": {},
   "source": [
    "# Принятие решений в бизнесе на основе данных"
   ]
  },
  {
   "cell_type": "markdown",
   "metadata": {},
   "source": [
    "В крупном интренет-магазине необходимо приоритизировать список гипотез для увеличения выручки, запустить A/B-тест и проанализировать результаты. Данные для приоретизации включают в себя краткое описание гипотез и параметры. Данные для анализа A/B-теста получены за август 2019 года и включают в себя данные о продажах и посещениях сайта.\n",
    "\n",
    "\n",
    "Приоритизация выполнена фреймворками ICE и RICE.\n",
    "\n",
    "Анализ A/B-теста включает в себя:\n",
    "- построение графиков кумулятивных метрик (выручка, конверсия, средний чек)\n",
    "- сравнение кумулятивных метрик по группам\n",
    "- определение аномального поведения покупателей и фильтрацию данных\n",
    "- опредление статистической значимости различий в конверсии между группами по \"сырым\" и \"очищенным\" данным\n",
    "- опредление статистической значимости различий в среднем чеке заказа между группами по \"сырым\" и \"очищенным\" данным\n",
    "- определение успешности A/B-теста\n"
   ]
  },
  {
   "cell_type": "markdown",
   "metadata": {},
   "source": [
    "## Предобработка данных"
   ]
  },
  {
   "cell_type": "markdown",
   "metadata": {},
   "source": [
    "Загрузка библиотек"
   ]
  },
  {
   "cell_type": "code",
   "execution_count": 1,
   "metadata": {},
   "outputs": [],
   "source": [
    "import pandas as pd\n",
    "import numpy as np\n",
    "import matplotlib.pyplot as plt\n",
    "import scipy.stats as stats\n",
    "from pandas.plotting import register_matplotlib_converters\n",
    "register_matplotlib_converters()"
   ]
  },
  {
   "cell_type": "markdown",
   "metadata": {},
   "source": [
    "Загрузка данных"
   ]
  },
  {
   "cell_type": "code",
   "execution_count": 2,
   "metadata": {},
   "outputs": [],
   "source": [
    "hypothesis = pd.read_csv('/datasets/hypothesis.csv')\n",
    "orders = pd.read_csv('/datasets/orders.csv', parse_dates=['date'])\n",
    "visitors = pd.read_csv('/datasets/visitors.csv', parse_dates=['date'])"
   ]
  },
  {
   "cell_type": "markdown",
   "metadata": {},
   "source": [
    "Выведем общую информацию об `hypothesis`:"
   ]
  },
  {
   "cell_type": "code",
   "execution_count": 3,
   "metadata": {},
   "outputs": [
    {
     "name": "stdout",
     "output_type": "stream",
     "text": [
      "<class 'pandas.core.frame.DataFrame'>\n",
      "RangeIndex: 9 entries, 0 to 8\n",
      "Data columns (total 5 columns):\n",
      "Hypothesis    9 non-null object\n",
      "Reach         9 non-null int64\n",
      "Impact        9 non-null int64\n",
      "Confidence    9 non-null int64\n",
      "Efforts       9 non-null int64\n",
      "dtypes: int64(4), object(1)\n",
      "memory usage: 488.0+ bytes\n"
     ]
    },
    {
     "data": {
      "text/html": [
       "<div>\n",
       "<style scoped>\n",
       "    .dataframe tbody tr th:only-of-type {\n",
       "        vertical-align: middle;\n",
       "    }\n",
       "\n",
       "    .dataframe tbody tr th {\n",
       "        vertical-align: top;\n",
       "    }\n",
       "\n",
       "    .dataframe thead th {\n",
       "        text-align: right;\n",
       "    }\n",
       "</style>\n",
       "<table border=\"1\" class=\"dataframe\">\n",
       "  <thead>\n",
       "    <tr style=\"text-align: right;\">\n",
       "      <th></th>\n",
       "      <th>Hypothesis</th>\n",
       "      <th>Reach</th>\n",
       "      <th>Impact</th>\n",
       "      <th>Confidence</th>\n",
       "      <th>Efforts</th>\n",
       "    </tr>\n",
       "  </thead>\n",
       "  <tbody>\n",
       "    <tr>\n",
       "      <td>0</td>\n",
       "      <td>Добавить два новых канала привлечения трафика, что позволит привлекать на 30% больше пользователей</td>\n",
       "      <td>3</td>\n",
       "      <td>10</td>\n",
       "      <td>8</td>\n",
       "      <td>6</td>\n",
       "    </tr>\n",
       "    <tr>\n",
       "      <td>1</td>\n",
       "      <td>Запустить собственную службу доставки, что сократит срок доставки заказов</td>\n",
       "      <td>2</td>\n",
       "      <td>5</td>\n",
       "      <td>4</td>\n",
       "      <td>10</td>\n",
       "    </tr>\n",
       "    <tr>\n",
       "      <td>2</td>\n",
       "      <td>Добавить блоки рекомендаций товаров на сайт интернет магазина, чтобы повысить конверсию и средний чек заказа</td>\n",
       "      <td>8</td>\n",
       "      <td>3</td>\n",
       "      <td>7</td>\n",
       "      <td>3</td>\n",
       "    </tr>\n",
       "    <tr>\n",
       "      <td>3</td>\n",
       "      <td>Изменить структура категорий, что увеличит конверсию, т.к. пользователи быстрее найдут нужный товар</td>\n",
       "      <td>8</td>\n",
       "      <td>3</td>\n",
       "      <td>3</td>\n",
       "      <td>8</td>\n",
       "    </tr>\n",
       "    <tr>\n",
       "      <td>4</td>\n",
       "      <td>Изменить цвет фона главной страницы, чтобы увеличить вовлеченность пользователей</td>\n",
       "      <td>3</td>\n",
       "      <td>1</td>\n",
       "      <td>1</td>\n",
       "      <td>1</td>\n",
       "    </tr>\n",
       "    <tr>\n",
       "      <td>5</td>\n",
       "      <td>Добавить страницу отзывов клиентов о магазине, что позволит увеличить количество заказов</td>\n",
       "      <td>3</td>\n",
       "      <td>2</td>\n",
       "      <td>2</td>\n",
       "      <td>3</td>\n",
       "    </tr>\n",
       "    <tr>\n",
       "      <td>6</td>\n",
       "      <td>Показать на главной странице баннеры с актуальными акциями и распродажами, чтобы увеличить конверсию</td>\n",
       "      <td>5</td>\n",
       "      <td>3</td>\n",
       "      <td>8</td>\n",
       "      <td>3</td>\n",
       "    </tr>\n",
       "    <tr>\n",
       "      <td>7</td>\n",
       "      <td>Добавить форму подписки на все основные страницы, чтобы собрать базу клиентов для email-рассылок</td>\n",
       "      <td>10</td>\n",
       "      <td>7</td>\n",
       "      <td>8</td>\n",
       "      <td>5</td>\n",
       "    </tr>\n",
       "    <tr>\n",
       "      <td>8</td>\n",
       "      <td>Запустить акцию, дающую скидку на товар в день рождения</td>\n",
       "      <td>1</td>\n",
       "      <td>9</td>\n",
       "      <td>9</td>\n",
       "      <td>5</td>\n",
       "    </tr>\n",
       "  </tbody>\n",
       "</table>\n",
       "</div>"
      ],
      "text/plain": [
       "                                                                                                     Hypothesis  \\\n",
       "0            Добавить два новых канала привлечения трафика, что позволит привлекать на 30% больше пользователей   \n",
       "1                                     Запустить собственную службу доставки, что сократит срок доставки заказов   \n",
       "2  Добавить блоки рекомендаций товаров на сайт интернет магазина, чтобы повысить конверсию и средний чек заказа   \n",
       "3           Изменить структура категорий, что увеличит конверсию, т.к. пользователи быстрее найдут нужный товар   \n",
       "4                              Изменить цвет фона главной страницы, чтобы увеличить вовлеченность пользователей   \n",
       "5                      Добавить страницу отзывов клиентов о магазине, что позволит увеличить количество заказов   \n",
       "6          Показать на главной странице баннеры с актуальными акциями и распродажами, чтобы увеличить конверсию   \n",
       "7              Добавить форму подписки на все основные страницы, чтобы собрать базу клиентов для email-рассылок   \n",
       "8                                                       Запустить акцию, дающую скидку на товар в день рождения   \n",
       "\n",
       "   Reach  Impact  Confidence  Efforts  \n",
       "0      3      10           8        6  \n",
       "1      2       5           4       10  \n",
       "2      8       3           7        3  \n",
       "3      8       3           3        8  \n",
       "4      3       1           1        1  \n",
       "5      3       2           2        3  \n",
       "6      5       3           8        3  \n",
       "7     10       7           8        5  \n",
       "8      1       9           9        5  "
      ]
     },
     "execution_count": 3,
     "metadata": {},
     "output_type": "execute_result"
    }
   ],
   "source": [
    "hypothesis.info()\n",
    "pd.set_option('display.max_columns', 5)  \n",
    "pd.options.display.max_colwidth = 150  \n",
    "hypothesis"
   ]
  },
  {
   "cell_type": "markdown",
   "metadata": {},
   "source": [
    "Таблица содержит 5 столбцов - краткое описание гипотезы и значения параметров:\n",
    "- Reach — охват пользователей по 10-балльной шкале;\n",
    "- Impact — влияние на пользователей по 10-балльной шкале;\n",
    "- Confidence — уверенность в гипотезе по 10-балльной шкале;\n",
    "- Efforts — затраты ресурсов на проверку гипотезы по 10-балльной шкале. Чем больше значение Efforts, тем дороже проверка гипотезы.\n",
    "\n",
    "Приведем заголовки столбцов к нижнему регистру:"
   ]
  },
  {
   "cell_type": "code",
   "execution_count": 4,
   "metadata": {},
   "outputs": [],
   "source": [
    "hypothesis.columns = [i.lower() for i in list(hypothesis.columns)]"
   ]
  },
  {
   "cell_type": "markdown",
   "metadata": {},
   "source": [
    "Выведем общую информацию и 5 случайных строк `orders`: "
   ]
  },
  {
   "cell_type": "code",
   "execution_count": 5,
   "metadata": {},
   "outputs": [
    {
     "name": "stdout",
     "output_type": "stream",
     "text": [
      "<class 'pandas.core.frame.DataFrame'>\n",
      "RangeIndex: 1197 entries, 0 to 1196\n",
      "Data columns (total 5 columns):\n",
      "transactionId    1197 non-null int64\n",
      "visitorId        1197 non-null int64\n",
      "date             1197 non-null datetime64[ns]\n",
      "revenue          1197 non-null int64\n",
      "group            1197 non-null object\n",
      "dtypes: datetime64[ns](1), int64(3), object(1)\n",
      "memory usage: 46.9+ KB\n"
     ]
    },
    {
     "data": {
      "text/html": [
       "<div>\n",
       "<style scoped>\n",
       "    .dataframe tbody tr th:only-of-type {\n",
       "        vertical-align: middle;\n",
       "    }\n",
       "\n",
       "    .dataframe tbody tr th {\n",
       "        vertical-align: top;\n",
       "    }\n",
       "\n",
       "    .dataframe thead th {\n",
       "        text-align: right;\n",
       "    }\n",
       "</style>\n",
       "<table border=\"1\" class=\"dataframe\">\n",
       "  <thead>\n",
       "    <tr style=\"text-align: right;\">\n",
       "      <th></th>\n",
       "      <th>transactionId</th>\n",
       "      <th>visitorId</th>\n",
       "      <th>date</th>\n",
       "      <th>revenue</th>\n",
       "      <th>group</th>\n",
       "    </tr>\n",
       "  </thead>\n",
       "  <tbody>\n",
       "    <tr>\n",
       "      <td>519</td>\n",
       "      <td>4152028361</td>\n",
       "      <td>352377175</td>\n",
       "      <td>2019-08-26</td>\n",
       "      <td>390</td>\n",
       "      <td>A</td>\n",
       "    </tr>\n",
       "    <tr>\n",
       "      <td>278</td>\n",
       "      <td>412824526</td>\n",
       "      <td>1455861274</td>\n",
       "      <td>2019-08-02</td>\n",
       "      <td>12680</td>\n",
       "      <td>B</td>\n",
       "    </tr>\n",
       "    <tr>\n",
       "      <td>902</td>\n",
       "      <td>1243954217</td>\n",
       "      <td>467975735</td>\n",
       "      <td>2019-08-27</td>\n",
       "      <td>160</td>\n",
       "      <td>A</td>\n",
       "    </tr>\n",
       "    <tr>\n",
       "      <td>336</td>\n",
       "      <td>3745550734</td>\n",
       "      <td>1703949673</td>\n",
       "      <td>2019-08-25</td>\n",
       "      <td>8000</td>\n",
       "      <td>B</td>\n",
       "    </tr>\n",
       "    <tr>\n",
       "      <td>731</td>\n",
       "      <td>3568733367</td>\n",
       "      <td>1206072200</td>\n",
       "      <td>2019-08-30</td>\n",
       "      <td>2590</td>\n",
       "      <td>B</td>\n",
       "    </tr>\n",
       "  </tbody>\n",
       "</table>\n",
       "</div>"
      ],
      "text/plain": [
       "     transactionId   visitorId       date  revenue group\n",
       "519     4152028361   352377175 2019-08-26      390     A\n",
       "278      412824526  1455861274 2019-08-02    12680     B\n",
       "902     1243954217   467975735 2019-08-27      160     A\n",
       "336     3745550734  1703949673 2019-08-25     8000     B\n",
       "731     3568733367  1206072200 2019-08-30     2590     B"
      ]
     },
     "execution_count": 5,
     "metadata": {},
     "output_type": "execute_result"
    }
   ],
   "source": [
    "orders.info()\n",
    "orders.sample(5)"
   ]
  },
  {
   "cell_type": "markdown",
   "metadata": {},
   "source": [
    "Таблица `orders` содержит информацию о заказах пользователя, соостоит из 1197 строк и 5 столбцов:\n",
    "\n",
    "- transactionId — идентификатор заказа;\n",
    "- visitorId — идентификатор пользователя, совершившего заказ;\n",
    "- date — дата, когда был совершён заказ;\n",
    "- revenue — выручка заказа;\n",
    "- group — группа A/B-теста, в которую попал заказ.\n",
    "\n",
    "Приведем заголовки столбцов к нижнему регистру:"
   ]
  },
  {
   "cell_type": "code",
   "execution_count": 6,
   "metadata": {},
   "outputs": [],
   "source": [
    "orders.columns = ['transaction_id', 'visitor_id', 'date', 'revenue', 'group']"
   ]
  },
  {
   "cell_type": "markdown",
   "metadata": {},
   "source": [
    "Данные не содержат пропущенных значений. Выполним проверку на дубликаты:"
   ]
  },
  {
   "cell_type": "code",
   "execution_count": 7,
   "metadata": {},
   "outputs": [
    {
     "name": "stdout",
     "output_type": "stream",
     "text": [
      "Данные не содержат дубликатов\n"
     ]
    }
   ],
   "source": [
    "if orders.duplicated().sum() == 0:\n",
    "    print('Данные не содержат дубликатов')\n",
    "else:\n",
    "    print('Число дубликатов', orders.duplicated().sum())"
   ]
  },
  {
   "cell_type": "markdown",
   "metadata": {},
   "source": [
    "Проверим, не содержат ли данные пользователей, попавших в обе группы:"
   ]
  },
  {
   "cell_type": "code",
   "execution_count": 8,
   "metadata": {},
   "outputs": [
    {
     "name": "stdout",
     "output_type": "stream",
     "text": [
      "Всего пользователей в A/B тесте 1031\n",
      "Пользователей, попавших в обе группы 58\n",
      "Записей об активности пользователей, попавших в обе группы 181\n"
     ]
    }
   ],
   "source": [
    "p = orders.groupby('visitor_id').agg({'group':'nunique'}).reset_index()\n",
    "p.columns = ['visitor_id', 'n_group']\n",
    "orders_new = orders.merge(p, left_on = 'visitor_id', right_on = 'visitor_id')\n",
    "\n",
    "print('Всего пользователей в A/B тесте', orders['visitor_id'].nunique())\n",
    "print('Пользователей, попавших в обе группы', orders_new[orders_new['n_group'] == 2]['visitor_id'].nunique())\n",
    "print(\n",
    "    'Записей об активности пользователей, попавших в обе группы', \n",
    "    orders_new[orders_new['n_group'] == 2]['visitor_id'].count()\n",
    ")"
   ]
  },
  {
   "cell_type": "markdown",
   "metadata": {},
   "source": [
    "Число покупателей, попавших в обе группы составляет ~6% от общего числа покупателей, но число записей об их заказах составляет ~15% от общих данных.\n",
    "\n",
    "Если удалить этих пользователей, то могут возникнуть искажения при расчете конверсии, так что обратим внимание разработчиков на эту проблему."
   ]
  },
  {
   "cell_type": "markdown",
   "metadata": {},
   "source": [
    "Оценим временной промежуток:"
   ]
  },
  {
   "cell_type": "code",
   "execution_count": 9,
   "metadata": {},
   "outputs": [
    {
     "name": "stdout",
     "output_type": "stream",
     "text": [
      "2019-08-01 00:00:00 2019-08-31 00:00:00\n"
     ]
    }
   ],
   "source": [
    "print(orders['date'].min(), orders['date'].max())"
   ]
  },
  {
   "cell_type": "markdown",
   "metadata": {},
   "source": [
    "Выведем общую информацию и 5 случайных строк 'visitors':"
   ]
  },
  {
   "cell_type": "code",
   "execution_count": 10,
   "metadata": {
    "scrolled": true
   },
   "outputs": [
    {
     "name": "stdout",
     "output_type": "stream",
     "text": [
      "<class 'pandas.core.frame.DataFrame'>\n",
      "RangeIndex: 62 entries, 0 to 61\n",
      "Data columns (total 3 columns):\n",
      "date        62 non-null datetime64[ns]\n",
      "group       62 non-null object\n",
      "visitors    62 non-null int64\n",
      "dtypes: datetime64[ns](1), int64(1), object(1)\n",
      "memory usage: 1.6+ KB\n"
     ]
    },
    {
     "data": {
      "text/html": [
       "<div>\n",
       "<style scoped>\n",
       "    .dataframe tbody tr th:only-of-type {\n",
       "        vertical-align: middle;\n",
       "    }\n",
       "\n",
       "    .dataframe tbody tr th {\n",
       "        vertical-align: top;\n",
       "    }\n",
       "\n",
       "    .dataframe thead th {\n",
       "        text-align: right;\n",
       "    }\n",
       "</style>\n",
       "<table border=\"1\" class=\"dataframe\">\n",
       "  <thead>\n",
       "    <tr style=\"text-align: right;\">\n",
       "      <th></th>\n",
       "      <th>date</th>\n",
       "      <th>group</th>\n",
       "      <th>visitors</th>\n",
       "    </tr>\n",
       "  </thead>\n",
       "  <tbody>\n",
       "    <tr>\n",
       "      <td>32</td>\n",
       "      <td>2019-08-02</td>\n",
       "      <td>B</td>\n",
       "      <td>581</td>\n",
       "    </tr>\n",
       "    <tr>\n",
       "      <td>60</td>\n",
       "      <td>2019-08-30</td>\n",
       "      <td>B</td>\n",
       "      <td>490</td>\n",
       "    </tr>\n",
       "    <tr>\n",
       "      <td>13</td>\n",
       "      <td>2019-08-14</td>\n",
       "      <td>A</td>\n",
       "      <td>735</td>\n",
       "    </tr>\n",
       "    <tr>\n",
       "      <td>17</td>\n",
       "      <td>2019-08-18</td>\n",
       "      <td>A</td>\n",
       "      <td>668</td>\n",
       "    </tr>\n",
       "    <tr>\n",
       "      <td>6</td>\n",
       "      <td>2019-08-07</td>\n",
       "      <td>A</td>\n",
       "      <td>644</td>\n",
       "    </tr>\n",
       "  </tbody>\n",
       "</table>\n",
       "</div>"
      ],
      "text/plain": [
       "         date group  visitors\n",
       "32 2019-08-02     B       581\n",
       "60 2019-08-30     B       490\n",
       "13 2019-08-14     A       735\n",
       "17 2019-08-18     A       668\n",
       "6  2019-08-07     A       644"
      ]
     },
     "execution_count": 10,
     "metadata": {},
     "output_type": "execute_result"
    }
   ],
   "source": [
    "visitors.info()\n",
    "visitors.sample(5)"
   ]
  },
  {
   "cell_type": "markdown",
   "metadata": {},
   "source": [
    "Таблица содержит 62 строки и состоит из 3 столбцов:\n",
    "\n",
    "- date — дата;\n",
    "- group — группа A/B-теста;\n",
    "- visitors — количество пользователей в указанную дату в указанной группе A/B-теста"
   ]
  },
  {
   "cell_type": "markdown",
   "metadata": {},
   "source": [
    "Данные не содержат пропущенных значений. Выполним проверку на дубликаты:"
   ]
  },
  {
   "cell_type": "code",
   "execution_count": 11,
   "metadata": {},
   "outputs": [
    {
     "name": "stdout",
     "output_type": "stream",
     "text": [
      "Данные не содержат дубликатов\n"
     ]
    }
   ],
   "source": [
    "if visitors.duplicated().sum() == 0:\n",
    "    print('Данные не содержат дубликатов')\n",
    "else:\n",
    "    print('Число дубликатов', visitors.duplicated().sum())"
   ]
  },
  {
   "cell_type": "markdown",
   "metadata": {},
   "source": [
    "Оценим временной промежуток:"
   ]
  },
  {
   "cell_type": "code",
   "execution_count": 12,
   "metadata": {},
   "outputs": [
    {
     "name": "stdout",
     "output_type": "stream",
     "text": [
      "2019-08-01 00:00:00 2019-08-31 00:00:00\n"
     ]
    }
   ],
   "source": [
    "print(visitors['date'].min(), visitors['date'].max())"
   ]
  },
  {
   "cell_type": "markdown",
   "metadata": {},
   "source": [
    "**Вывод:**\n",
    "\n",
    "Типы данных соответствуют значениям, данные не имеют пропущенных значений и дубликатов. Временные промежутки наблюдений в таблицах `orders` и `visitors` совпадают - с 1 по 31 августа 2019 года. В таблицах `hypothesis и orders` заголовки столбцов приведены к нижнему ригистру. В данных о заказах пользователей обнаружено 58 покупателей, попавших в обе группы тестирования, что составляет 6% от общего числа уникальных покупателей."
   ]
  },
  {
   "cell_type": "markdown",
   "metadata": {},
   "source": [
    "## Приотеризация гипотез"
   ]
  },
  {
   "cell_type": "markdown",
   "metadata": {},
   "source": [
    "Применим фреймворк ICE для приотеризации гипотез, отсортируем по убыванию приоритета:"
   ]
  },
  {
   "cell_type": "code",
   "execution_count": 13,
   "metadata": {
    "scrolled": true
   },
   "outputs": [
    {
     "data": {
      "text/html": [
       "<style  type=\"text/css\" >\n",
       "    #T_17d7e4d0_3bb9_11ec_944e_02420a39301drow0_col1 {\n",
       "            background-color:  #023858;\n",
       "            color:  #f1f1f1;\n",
       "        }    #T_17d7e4d0_3bb9_11ec_944e_02420a39301drow1_col1 {\n",
       "            background-color:  #05659f;\n",
       "            color:  #f1f1f1;\n",
       "        }    #T_17d7e4d0_3bb9_11ec_944e_02420a39301drow2_col1 {\n",
       "            background-color:  #2484ba;\n",
       "            color:  #000000;\n",
       "        }    #T_17d7e4d0_3bb9_11ec_944e_02420a39301drow3_col1 {\n",
       "            background-color:  #84b0d3;\n",
       "            color:  #000000;\n",
       "        }    #T_17d7e4d0_3bb9_11ec_944e_02420a39301drow4_col1 {\n",
       "            background-color:  #9ebad9;\n",
       "            color:  #000000;\n",
       "        }    #T_17d7e4d0_3bb9_11ec_944e_02420a39301drow5_col1 {\n",
       "            background-color:  #f5eff6;\n",
       "            color:  #000000;\n",
       "        }    #T_17d7e4d0_3bb9_11ec_944e_02420a39301drow6_col1 {\n",
       "            background-color:  #fcf4fa;\n",
       "            color:  #000000;\n",
       "        }    #T_17d7e4d0_3bb9_11ec_944e_02420a39301drow7_col1 {\n",
       "            background-color:  #fef6fa;\n",
       "            color:  #000000;\n",
       "        }    #T_17d7e4d0_3bb9_11ec_944e_02420a39301drow8_col1 {\n",
       "            background-color:  #fff7fb;\n",
       "            color:  #000000;\n",
       "        }</style><table id=\"T_17d7e4d0_3bb9_11ec_944e_02420a39301d\" ><thead>    <tr>        <th class=\"blank level0\" ></th>        <th class=\"col_heading level0 col0\" >hypothesis</th>        <th class=\"col_heading level0 col1\" >ice</th>    </tr></thead><tbody>\n",
       "                <tr>\n",
       "                        <th id=\"T_17d7e4d0_3bb9_11ec_944e_02420a39301dlevel0_row0\" class=\"row_heading level0 row0\" >8</th>\n",
       "                        <td id=\"T_17d7e4d0_3bb9_11ec_944e_02420a39301drow0_col0\" class=\"data row0 col0\" >Запустить акцию, дающую скидку на товар в день рождения</td>\n",
       "                        <td id=\"T_17d7e4d0_3bb9_11ec_944e_02420a39301drow0_col1\" class=\"data row0 col1\" >16.2</td>\n",
       "            </tr>\n",
       "            <tr>\n",
       "                        <th id=\"T_17d7e4d0_3bb9_11ec_944e_02420a39301dlevel0_row1\" class=\"row_heading level0 row1\" >0</th>\n",
       "                        <td id=\"T_17d7e4d0_3bb9_11ec_944e_02420a39301drow1_col0\" class=\"data row1 col0\" >Добавить два новых канала привлечения трафика, что позволит привлекать на 30% больше пользователей</td>\n",
       "                        <td id=\"T_17d7e4d0_3bb9_11ec_944e_02420a39301drow1_col1\" class=\"data row1 col1\" >13.33</td>\n",
       "            </tr>\n",
       "            <tr>\n",
       "                        <th id=\"T_17d7e4d0_3bb9_11ec_944e_02420a39301dlevel0_row2\" class=\"row_heading level0 row2\" >7</th>\n",
       "                        <td id=\"T_17d7e4d0_3bb9_11ec_944e_02420a39301drow2_col0\" class=\"data row2 col0\" >Добавить форму подписки на все основные страницы, чтобы собрать базу клиентов для email-рассылок</td>\n",
       "                        <td id=\"T_17d7e4d0_3bb9_11ec_944e_02420a39301drow2_col1\" class=\"data row2 col1\" >11.2</td>\n",
       "            </tr>\n",
       "            <tr>\n",
       "                        <th id=\"T_17d7e4d0_3bb9_11ec_944e_02420a39301dlevel0_row3\" class=\"row_heading level0 row3\" >6</th>\n",
       "                        <td id=\"T_17d7e4d0_3bb9_11ec_944e_02420a39301drow3_col0\" class=\"data row3 col0\" >Показать на главной странице баннеры с актуальными акциями и распродажами, чтобы увеличить конверсию</td>\n",
       "                        <td id=\"T_17d7e4d0_3bb9_11ec_944e_02420a39301drow3_col1\" class=\"data row3 col1\" >8</td>\n",
       "            </tr>\n",
       "            <tr>\n",
       "                        <th id=\"T_17d7e4d0_3bb9_11ec_944e_02420a39301dlevel0_row4\" class=\"row_heading level0 row4\" >2</th>\n",
       "                        <td id=\"T_17d7e4d0_3bb9_11ec_944e_02420a39301drow4_col0\" class=\"data row4 col0\" >Добавить блоки рекомендаций товаров на сайт интернет магазина, чтобы повысить конверсию и средний чек заказа</td>\n",
       "                        <td id=\"T_17d7e4d0_3bb9_11ec_944e_02420a39301drow4_col1\" class=\"data row4 col1\" >7</td>\n",
       "            </tr>\n",
       "            <tr>\n",
       "                        <th id=\"T_17d7e4d0_3bb9_11ec_944e_02420a39301dlevel0_row5\" class=\"row_heading level0 row5\" >1</th>\n",
       "                        <td id=\"T_17d7e4d0_3bb9_11ec_944e_02420a39301drow5_col0\" class=\"data row5 col0\" >Запустить собственную службу доставки, что сократит срок доставки заказов</td>\n",
       "                        <td id=\"T_17d7e4d0_3bb9_11ec_944e_02420a39301drow5_col1\" class=\"data row5 col1\" >2</td>\n",
       "            </tr>\n",
       "            <tr>\n",
       "                        <th id=\"T_17d7e4d0_3bb9_11ec_944e_02420a39301dlevel0_row6\" class=\"row_heading level0 row6\" >5</th>\n",
       "                        <td id=\"T_17d7e4d0_3bb9_11ec_944e_02420a39301drow6_col0\" class=\"data row6 col0\" >Добавить страницу отзывов клиентов о магазине, что позволит увеличить количество заказов</td>\n",
       "                        <td id=\"T_17d7e4d0_3bb9_11ec_944e_02420a39301drow6_col1\" class=\"data row6 col1\" >1.33</td>\n",
       "            </tr>\n",
       "            <tr>\n",
       "                        <th id=\"T_17d7e4d0_3bb9_11ec_944e_02420a39301dlevel0_row7\" class=\"row_heading level0 row7\" >3</th>\n",
       "                        <td id=\"T_17d7e4d0_3bb9_11ec_944e_02420a39301drow7_col0\" class=\"data row7 col0\" >Изменить структура категорий, что увеличит конверсию, т.к. пользователи быстрее найдут нужный товар</td>\n",
       "                        <td id=\"T_17d7e4d0_3bb9_11ec_944e_02420a39301drow7_col1\" class=\"data row7 col1\" >1.12</td>\n",
       "            </tr>\n",
       "            <tr>\n",
       "                        <th id=\"T_17d7e4d0_3bb9_11ec_944e_02420a39301dlevel0_row8\" class=\"row_heading level0 row8\" >4</th>\n",
       "                        <td id=\"T_17d7e4d0_3bb9_11ec_944e_02420a39301drow8_col0\" class=\"data row8 col0\" >Изменить цвет фона главной страницы, чтобы увеличить вовлеченность пользователей</td>\n",
       "                        <td id=\"T_17d7e4d0_3bb9_11ec_944e_02420a39301drow8_col1\" class=\"data row8 col1\" >1</td>\n",
       "            </tr>\n",
       "    </tbody></table>"
      ],
      "text/plain": [
       "<pandas.io.formats.style.Styler at 0x7f40514baed0>"
      ]
     },
     "execution_count": 13,
     "metadata": {},
     "output_type": "execute_result"
    }
   ],
   "source": [
    "hypothesis['ice'] = round(hypothesis['impact'] * hypothesis['confidence'] / hypothesis['efforts'], 2)\n",
    "\n",
    "hypothesis = hypothesis.sort_values(by='ice', ascending = False)\n",
    "\n",
    "hypothesis[['hypothesis','ice']].style.background_gradient(axis=0, subset='ice')"
   ]
  },
  {
   "cell_type": "markdown",
   "metadata": {},
   "source": [
    "Три гипотезы, получившие наибольший приоритет:\n",
    "- Запустить акцию, дающую скидку на товар в день рождения\n",
    "- Добавить два новых канала привлечения трафика, что позволит привлекать на 30% больше пользователей\n",
    "- Добавить форму подписки на все основные страницы, чтобы собрать базу клиентов для email-рассылок\n",
    "\n",
    "\n",
    "Применим фреймворк RICE для приотеризации гипотез, отсортируем по убыванию приоритета:"
   ]
  },
  {
   "cell_type": "code",
   "execution_count": 14,
   "metadata": {
    "scrolled": true
   },
   "outputs": [
    {
     "data": {
      "text/html": [
       "<style  type=\"text/css\" >\n",
       "    #T_17df3d02_3bb9_11ec_944e_02420a39301drow0_col1 {\n",
       "            background-color:  #2484ba;\n",
       "            color:  #000000;\n",
       "        }    #T_17df3d02_3bb9_11ec_944e_02420a39301drow0_col2 {\n",
       "            background-color:  #800026;\n",
       "            color:  #f1f1f1;\n",
       "        }    #T_17df3d02_3bb9_11ec_944e_02420a39301drow1_col1 {\n",
       "            background-color:  #9ebad9;\n",
       "            color:  #000000;\n",
       "        }    #T_17df3d02_3bb9_11ec_944e_02420a39301drow1_col2 {\n",
       "            background-color:  #fd913e;\n",
       "            color:  #000000;\n",
       "        }    #T_17df3d02_3bb9_11ec_944e_02420a39301drow2_col1 {\n",
       "            background-color:  #05659f;\n",
       "            color:  #f1f1f1;\n",
       "        }    #T_17df3d02_3bb9_11ec_944e_02420a39301drow2_col2 {\n",
       "            background-color:  #febe59;\n",
       "            color:  #000000;\n",
       "        }    #T_17df3d02_3bb9_11ec_944e_02420a39301drow3_col1 {\n",
       "            background-color:  #84b0d3;\n",
       "            color:  #000000;\n",
       "        }    #T_17df3d02_3bb9_11ec_944e_02420a39301drow3_col2 {\n",
       "            background-color:  #febe59;\n",
       "            color:  #000000;\n",
       "        }    #T_17df3d02_3bb9_11ec_944e_02420a39301drow4_col1 {\n",
       "            background-color:  #023858;\n",
       "            color:  #f1f1f1;\n",
       "        }    #T_17df3d02_3bb9_11ec_944e_02420a39301drow4_col2 {\n",
       "            background-color:  #ffeda1;\n",
       "            color:  #000000;\n",
       "        }    #T_17df3d02_3bb9_11ec_944e_02420a39301drow5_col1 {\n",
       "            background-color:  #fef6fa;\n",
       "            color:  #000000;\n",
       "        }    #T_17df3d02_3bb9_11ec_944e_02420a39301drow5_col2 {\n",
       "            background-color:  #fff7b9;\n",
       "            color:  #000000;\n",
       "        }    #T_17df3d02_3bb9_11ec_944e_02420a39301drow6_col1 {\n",
       "            background-color:  #f5eff6;\n",
       "            color:  #000000;\n",
       "        }    #T_17df3d02_3bb9_11ec_944e_02420a39301drow6_col2 {\n",
       "            background-color:  #fffec9;\n",
       "            color:  #000000;\n",
       "        }    #T_17df3d02_3bb9_11ec_944e_02420a39301drow7_col1 {\n",
       "            background-color:  #fcf4fa;\n",
       "            color:  #000000;\n",
       "        }    #T_17df3d02_3bb9_11ec_944e_02420a39301drow7_col2 {\n",
       "            background-color:  #fffec9;\n",
       "            color:  #000000;\n",
       "        }    #T_17df3d02_3bb9_11ec_944e_02420a39301drow8_col1 {\n",
       "            background-color:  #fff7fb;\n",
       "            color:  #000000;\n",
       "        }    #T_17df3d02_3bb9_11ec_944e_02420a39301drow8_col2 {\n",
       "            background-color:  #ffffcc;\n",
       "            color:  #000000;\n",
       "        }</style><table id=\"T_17df3d02_3bb9_11ec_944e_02420a39301d\" ><thead>    <tr>        <th class=\"blank level0\" ></th>        <th class=\"col_heading level0 col0\" >hypothesis</th>        <th class=\"col_heading level0 col1\" >ice</th>        <th class=\"col_heading level0 col2\" >rice</th>    </tr></thead><tbody>\n",
       "                <tr>\n",
       "                        <th id=\"T_17df3d02_3bb9_11ec_944e_02420a39301dlevel0_row0\" class=\"row_heading level0 row0\" >7</th>\n",
       "                        <td id=\"T_17df3d02_3bb9_11ec_944e_02420a39301drow0_col0\" class=\"data row0 col0\" >Добавить форму подписки на все основные страницы, чтобы собрать базу клиентов для email-рассылок</td>\n",
       "                        <td id=\"T_17df3d02_3bb9_11ec_944e_02420a39301drow0_col1\" class=\"data row0 col1\" >11.2</td>\n",
       "                        <td id=\"T_17df3d02_3bb9_11ec_944e_02420a39301drow0_col2\" class=\"data row0 col2\" >112</td>\n",
       "            </tr>\n",
       "            <tr>\n",
       "                        <th id=\"T_17df3d02_3bb9_11ec_944e_02420a39301dlevel0_row1\" class=\"row_heading level0 row1\" >2</th>\n",
       "                        <td id=\"T_17df3d02_3bb9_11ec_944e_02420a39301drow1_col0\" class=\"data row1 col0\" >Добавить блоки рекомендаций товаров на сайт интернет магазина, чтобы повысить конверсию и средний чек заказа</td>\n",
       "                        <td id=\"T_17df3d02_3bb9_11ec_944e_02420a39301drow1_col1\" class=\"data row1 col1\" >7</td>\n",
       "                        <td id=\"T_17df3d02_3bb9_11ec_944e_02420a39301drow1_col2\" class=\"data row1 col2\" >56</td>\n",
       "            </tr>\n",
       "            <tr>\n",
       "                        <th id=\"T_17df3d02_3bb9_11ec_944e_02420a39301dlevel0_row2\" class=\"row_heading level0 row2\" >0</th>\n",
       "                        <td id=\"T_17df3d02_3bb9_11ec_944e_02420a39301drow2_col0\" class=\"data row2 col0\" >Добавить два новых канала привлечения трафика, что позволит привлекать на 30% больше пользователей</td>\n",
       "                        <td id=\"T_17df3d02_3bb9_11ec_944e_02420a39301drow2_col1\" class=\"data row2 col1\" >13.33</td>\n",
       "                        <td id=\"T_17df3d02_3bb9_11ec_944e_02420a39301drow2_col2\" class=\"data row2 col2\" >40</td>\n",
       "            </tr>\n",
       "            <tr>\n",
       "                        <th id=\"T_17df3d02_3bb9_11ec_944e_02420a39301dlevel0_row3\" class=\"row_heading level0 row3\" >6</th>\n",
       "                        <td id=\"T_17df3d02_3bb9_11ec_944e_02420a39301drow3_col0\" class=\"data row3 col0\" >Показать на главной странице баннеры с актуальными акциями и распродажами, чтобы увеличить конверсию</td>\n",
       "                        <td id=\"T_17df3d02_3bb9_11ec_944e_02420a39301drow3_col1\" class=\"data row3 col1\" >8</td>\n",
       "                        <td id=\"T_17df3d02_3bb9_11ec_944e_02420a39301drow3_col2\" class=\"data row3 col2\" >40</td>\n",
       "            </tr>\n",
       "            <tr>\n",
       "                        <th id=\"T_17df3d02_3bb9_11ec_944e_02420a39301dlevel0_row4\" class=\"row_heading level0 row4\" >8</th>\n",
       "                        <td id=\"T_17df3d02_3bb9_11ec_944e_02420a39301drow4_col0\" class=\"data row4 col0\" >Запустить акцию, дающую скидку на товар в день рождения</td>\n",
       "                        <td id=\"T_17df3d02_3bb9_11ec_944e_02420a39301drow4_col1\" class=\"data row4 col1\" >16.2</td>\n",
       "                        <td id=\"T_17df3d02_3bb9_11ec_944e_02420a39301drow4_col2\" class=\"data row4 col2\" >16.2</td>\n",
       "            </tr>\n",
       "            <tr>\n",
       "                        <th id=\"T_17df3d02_3bb9_11ec_944e_02420a39301dlevel0_row5\" class=\"row_heading level0 row5\" >3</th>\n",
       "                        <td id=\"T_17df3d02_3bb9_11ec_944e_02420a39301drow5_col0\" class=\"data row5 col0\" >Изменить структура категорий, что увеличит конверсию, т.к. пользователи быстрее найдут нужный товар</td>\n",
       "                        <td id=\"T_17df3d02_3bb9_11ec_944e_02420a39301drow5_col1\" class=\"data row5 col1\" >1.12</td>\n",
       "                        <td id=\"T_17df3d02_3bb9_11ec_944e_02420a39301drow5_col2\" class=\"data row5 col2\" >9</td>\n",
       "            </tr>\n",
       "            <tr>\n",
       "                        <th id=\"T_17df3d02_3bb9_11ec_944e_02420a39301dlevel0_row6\" class=\"row_heading level0 row6\" >1</th>\n",
       "                        <td id=\"T_17df3d02_3bb9_11ec_944e_02420a39301drow6_col0\" class=\"data row6 col0\" >Запустить собственную службу доставки, что сократит срок доставки заказов</td>\n",
       "                        <td id=\"T_17df3d02_3bb9_11ec_944e_02420a39301drow6_col1\" class=\"data row6 col1\" >2</td>\n",
       "                        <td id=\"T_17df3d02_3bb9_11ec_944e_02420a39301drow6_col2\" class=\"data row6 col2\" >4</td>\n",
       "            </tr>\n",
       "            <tr>\n",
       "                        <th id=\"T_17df3d02_3bb9_11ec_944e_02420a39301dlevel0_row7\" class=\"row_heading level0 row7\" >5</th>\n",
       "                        <td id=\"T_17df3d02_3bb9_11ec_944e_02420a39301drow7_col0\" class=\"data row7 col0\" >Добавить страницу отзывов клиентов о магазине, что позволит увеличить количество заказов</td>\n",
       "                        <td id=\"T_17df3d02_3bb9_11ec_944e_02420a39301drow7_col1\" class=\"data row7 col1\" >1.33</td>\n",
       "                        <td id=\"T_17df3d02_3bb9_11ec_944e_02420a39301drow7_col2\" class=\"data row7 col2\" >4</td>\n",
       "            </tr>\n",
       "            <tr>\n",
       "                        <th id=\"T_17df3d02_3bb9_11ec_944e_02420a39301dlevel0_row8\" class=\"row_heading level0 row8\" >4</th>\n",
       "                        <td id=\"T_17df3d02_3bb9_11ec_944e_02420a39301drow8_col0\" class=\"data row8 col0\" >Изменить цвет фона главной страницы, чтобы увеличить вовлеченность пользователей</td>\n",
       "                        <td id=\"T_17df3d02_3bb9_11ec_944e_02420a39301drow8_col1\" class=\"data row8 col1\" >1</td>\n",
       "                        <td id=\"T_17df3d02_3bb9_11ec_944e_02420a39301drow8_col2\" class=\"data row8 col2\" >3</td>\n",
       "            </tr>\n",
       "    </tbody></table>"
      ],
      "text/plain": [
       "<pandas.io.formats.style.Styler at 0x7f405147ccd0>"
      ]
     },
     "execution_count": 14,
     "metadata": {},
     "output_type": "execute_result"
    }
   ],
   "source": [
    "hypothesis['rice'] = round(hypothesis['reach'] * hypothesis['impact'] * hypothesis['confidence'] / hypothesis['efforts'], 2)\n",
    "pd.options.display.max_colwidth = 150\n",
    "(hypothesis[['hypothesis','ice', 'rice']]\n",
    " .sort_values(by='rice', ascending = False)\n",
    " .style.background_gradient(axis=0, subset='rice', cmap='YlOrRd').background_gradient(axis=0, subset='ice'))"
   ]
  },
  {
   "cell_type": "markdown",
   "metadata": {},
   "source": [
    "При применении фреймворка RICE В приоритете оказываются гипотезы:\n",
    "- Добавить форму подписки на все основные страницы, чтобы собрать базу клиентов для email-рассылок\t\n",
    "- Добавить блоки рекомендаций товаров на сайт интернет магазина, чтобы повысить конверсию и средний чек заказа\n",
    "- Добавить два новых канала привлечения трафика, что позволит привлекать на 30% больше пользователей\n",
    "- Показать на главной странице баннеры с актуальными акциями и распродажами, чтобы увеличить конверсию\n",
    "\n",
    "Существенную разницу вносит параметр React - для гипотезы, о скидке в день рождения, охват мизерный и оценен в 1 балл, а для гипотезы о новой форме подписки имеет максимальное значение в 10 баллов.  "
   ]
  },
  {
   "cell_type": "markdown",
   "metadata": {},
   "source": [
    "**Вывод**\n",
    "\n",
    "Фреймворк ICE не учитывает параметр React(охват пользователей), что объясняет существенную разницу при приотеризации гипотез методом RICE. Наибольший приоритет присвоен гипотезе **\"Добавить форму подписки на все основные страницы, чтобы собрать базу клиентов для email-рассылок\"**."
   ]
  },
  {
   "cell_type": "markdown",
   "metadata": {},
   "source": [
    "## Анализ A/B тестов"
   ]
  },
  {
   "cell_type": "markdown",
   "metadata": {},
   "source": [
    "Получим агрегированные кумулятивные данные по дням о посетителях и заказах. Создадим спикок уникальных пар значений дат и групп:"
   ]
  },
  {
   "cell_type": "code",
   "execution_count": 15,
   "metadata": {},
   "outputs": [],
   "source": [
    "dates_groups = orders[['date', 'group']].drop_duplicates()"
   ]
  },
  {
   "cell_type": "markdown",
   "metadata": {},
   "source": [
    "Получаем агрегированные кумулятивные по дням данные о заказах:"
   ]
  },
  {
   "cell_type": "code",
   "execution_count": 16,
   "metadata": {},
   "outputs": [],
   "source": [
    "ordersAggregated =dates_groups.apply(\n",
    "    lambda x: orders[np.logical_and(orders['date'] <= x['date'], orders['group'] == x['group'])]\n",
    "    .agg(\n",
    "        {\n",
    "            'date' : 'max',\n",
    "            'group' : 'max',\n",
    "            'transaction_id' : pd.Series.nunique,\n",
    "            'visitor_id' : pd.Series.nunique,\n",
    "            'revenue' : 'sum'\n",
    "        }\n",
    "    ), axis=1).sort_values(by=['date','group'])"
   ]
  },
  {
   "cell_type": "markdown",
   "metadata": {},
   "source": [
    "Получаем агрегированные кумулятивные по дням данные о посетителях интернет-магазина:"
   ]
  },
  {
   "cell_type": "code",
   "execution_count": 17,
   "metadata": {},
   "outputs": [],
   "source": [
    "visitorsAggregated = dates_groups.apply(\n",
    "    lambda x: visitors[np.logical_and(visitors['date'] <= x['date'], visitors['group'] == x['group'])]\n",
    "    .agg(\n",
    "        {\n",
    "            'date' : 'max', \n",
    "            'group' : 'max', \n",
    "            'visitors' : 'sum'\n",
    "        }\n",
    "    ), axis=1).sort_values(by=['date','group'])"
   ]
  },
  {
   "cell_type": "markdown",
   "metadata": {},
   "source": [
    "Объединяем кумулятивные данные в одной таблице и присваиваем ее столбцам понятные названия:"
   ]
  },
  {
   "cell_type": "code",
   "execution_count": 18,
   "metadata": {},
   "outputs": [],
   "source": [
    "cumulativeData = ordersAggregated.merge(\n",
    "    visitorsAggregated,\n",
    "    left_on = ['date', 'group'],\n",
    "    right_on = ['date', 'group']\n",
    ")\n",
    "\n",
    "cumulativeData.columns=['date', 'group', 'orders', 'buyers', 'revenue', 'visitors']"
   ]
  },
  {
   "cell_type": "markdown",
   "metadata": {},
   "source": [
    "### Кумулятивная выручка"
   ]
  },
  {
   "cell_type": "markdown",
   "metadata": {},
   "source": [
    "Построим график кумулятивной выручки по группам по дням:"
   ]
  },
  {
   "cell_type": "code",
   "execution_count": 19,
   "metadata": {},
   "outputs": [
    {
     "data": {
      "text/plain": [
       "<function matplotlib.pyplot.show(*args, **kw)>"
      ]
     },
     "execution_count": 19,
     "metadata": {},
     "output_type": "execute_result"
    },
    {
     "data": {
      "image/png": "[encoded data removed]",
      "text/plain": [
       "<Figure size 936x360 with 1 Axes>"
      ]
     },
     "metadata": {
      "needs_background": "light"
     },
     "output_type": "display_data"
    }
   ],
   "source": [
    "cumulativeRevenueA = cumulativeData.query('group == \"A\"')[['date','revenue', 'orders']]\n",
    "cumulativeRevenueB = cumulativeData.query('group == \"B\"')[['date','revenue', 'orders']]\n",
    "\n",
    "\n",
    "plt.figure(figsize =(13,5))\n",
    "plt.plot(cumulativeRevenueA['date'], cumulativeRevenueA['revenue'], label='A')\n",
    "plt.plot(cumulativeRevenueB['date'], cumulativeRevenueB['revenue'], label='B')\n",
    "plt.annotate('скачок', xy=('2019-08-17', 2800000), xytext=('2019-08-10', 3500000),\n",
    "            arrowprops=dict(facecolor='g'))\n",
    "plt.annotate('отрыв', xy=('2019-08-05', 800000), xytext=('2019-08-05', 2000000),\n",
    "            arrowprops=dict(facecolor='g')) \n",
    "plt.title('График кумулятивной выручки по группам, с 01.08.2019 по 31.08.2019')\n",
    "plt.ylabel('Выручка, руб.')\n",
    "plt.xlabel('Дата')\n",
    "plt.legend()\n",
    "plt.show"
   ]
  },
  {
   "cell_type": "markdown",
   "metadata": {},
   "source": [
    "Выручка в обеих группах растёт, но для группы В характерен резкий скачок. Это может сигнализировать о всплеске числа заказов или появлении очень дорого заказа."
   ]
  },
  {
   "cell_type": "markdown",
   "metadata": {},
   "source": [
    "### Кумулятивный средний чек"
   ]
  },
  {
   "cell_type": "markdown",
   "metadata": {},
   "source": [
    "Построим график кумулятивного среднего чека по группам. Разделим кумулятивную выручку на кумулятивное число заказов:"
   ]
  },
  {
   "cell_type": "code",
   "execution_count": 20,
   "metadata": {},
   "outputs": [
    {
     "data": {
      "text/plain": [
       "<function matplotlib.pyplot.show(*args, **kw)>"
      ]
     },
     "execution_count": 20,
     "metadata": {},
     "output_type": "execute_result"
    },
    {
     "data": {
      "image/png": "[encoded data removed]",
      "text/plain": [
       "<Figure size 936x360 with 1 Axes>"
      ]
     },
     "metadata": {
      "needs_background": "light"
     },
     "output_type": "display_data"
    }
   ],
   "source": [
    "plt.figure(figsize =(13,5))\n",
    "plt.plot(cumulativeRevenueA['date'], cumulativeRevenueA['revenue']/cumulativeRevenueA['orders'], label='A')\n",
    "plt.plot(cumulativeRevenueB['date'], cumulativeRevenueB['revenue']/cumulativeRevenueB['orders'], label='B')\n",
    "plt.annotate('скачок', xy=('2019-08-18', 7100), xytext=('2019-08-13', 8000),\n",
    "            arrowprops=dict(facecolor='g'))\n",
    "plt.title('График кумулятивного среднего чека по группам, с 01.08.2019 по 31.08.2019')\n",
    "plt.ylabel('Средний чек, руб.')\n",
    "plt.xlabel('Дата')\n",
    "plt.legend()\n",
    "plt.show"
   ]
  },
  {
   "cell_type": "markdown",
   "metadata": {},
   "source": [
    "Для группы А график среднего чека становится равномерным к концу теста, для группы В наблюдаем ростс качок суммы среднего чека, но затем график становится равномерным. Вероятно, был совершена аномально-дорогая покупка, что повлияло на кумулятивный средний чек."
   ]
  },
  {
   "cell_type": "markdown",
   "metadata": {},
   "source": [
    "Построим график относительного изменения кумулятивного среднего чека в группах А и В:"
   ]
  },
  {
   "cell_type": "code",
   "execution_count": 21,
   "metadata": {},
   "outputs": [
    {
     "data": {
      "text/plain": [
       "<function matplotlib.pyplot.show(*args, **kw)>"
      ]
     },
     "execution_count": 21,
     "metadata": {},
     "output_type": "execute_result"
    },
    {
     "data": {
      "image/png": "[encoded data removed]",
      "text/plain": [
       "<Figure size 936x360 with 1 Axes>"
      ]
     },
     "metadata": {
      "needs_background": "light"
     },
     "output_type": "display_data"
    }
   ],
   "source": [
    "mergedCumulativeRevenue = cumulativeRevenueA.merge(\n",
    "    cumulativeRevenueB, \n",
    "    left_on='date', \n",
    "    right_on='date', \n",
    "    how='left', \n",
    "    suffixes=['A', 'B'])\n",
    "\n",
    "plt.figure(figsize =(13,5))\n",
    "plt.plot(\n",
    "    mergedCumulativeRevenue['date'], \n",
    "    (mergedCumulativeRevenue['revenueB']/mergedCumulativeRevenue['ordersB'])\n",
    "    /(mergedCumulativeRevenue['revenueA']/mergedCumulativeRevenue['ordersA'])-1\n",
    ")\n",
    "plt.axhline(y=0, color='black', linestyle='--') \n",
    "plt.title('Относительное изменение кумулятивного среднего чека в группах А и В, с 01.08.2019 по 31.08.2019')\n",
    "plt.xlabel('Дата')\n",
    "plt.show"
   ]
  },
  {
   "cell_type": "markdown",
   "metadata": {},
   "source": [
    "Резкие скачки на графике свидетельствуют о наличии выбросов в значениях среднего чека - были совершены аномальные заказы."
   ]
  },
  {
   "cell_type": "markdown",
   "metadata": {},
   "source": [
    "### Кумулятивная конверсия"
   ]
  },
  {
   "cell_type": "markdown",
   "metadata": {},
   "source": [
    "Построим график кумулятивной конверсии по группам:"
   ]
  },
  {
   "cell_type": "code",
   "execution_count": 22,
   "metadata": {},
   "outputs": [
    {
     "data": {
      "text/plain": [
       "<function matplotlib.pyplot.show(*args, **kw)>"
      ]
     },
     "execution_count": 22,
     "metadata": {},
     "output_type": "execute_result"
    },
    {
     "data": {
      "image/png": "[encoded data removed]",
      "text/plain": [
       "<Figure size 936x360 with 1 Axes>"
      ]
     },
     "metadata": {
      "needs_background": "light"
     },
     "output_type": "display_data"
    }
   ],
   "source": [
    "cumulativeData['conversion'] = cumulativeData['orders']/cumulativeData['visitors']\n",
    "\n",
    "cumulativeDataA = cumulativeData[cumulativeData['group']=='A']\n",
    "cumulativeDataB = cumulativeData[cumulativeData['group']=='B']\n",
    "\n",
    "plt.figure(figsize =(13,5))\n",
    "plt.plot(cumulativeDataA['date'], cumulativeDataA['conversion'], label='A')\n",
    "plt.plot(cumulativeDataB['date'], cumulativeDataB['conversion'], label='B')\n",
    "plt.annotate('отрыв', xy=('2019-08-05 16:00:00', 0.0325), xytext=('2019-08-06', 0.036),\n",
    "            arrowprops=dict(facecolor='r')) \n",
    "plt.title('Кумулятивная конверсия по группам, с 01.08.2019 по 31.08.2019')\n",
    "plt.ylabel('Конверсия')\n",
    "plt.xlabel('Дата')\n",
    "plt.legend()\n",
    "plt.show"
   ]
  },
  {
   "cell_type": "markdown",
   "metadata": {},
   "source": [
    "Графики несиметричные, но если в начале теста мы наблюдали рост и падение конверсии в обеих группах, то после конверсия группы А начала падение, а конверсия группы В рост. Конверсия групппы А установилась около значения(0.03) ниже, чем значение(0.034), около которого установилось значение группы В."
   ]
  },
  {
   "cell_type": "markdown",
   "metadata": {},
   "source": [
    "Построим графики относительного изменения кумулятивной конверсии группы B к группе A:"
   ]
  },
  {
   "cell_type": "code",
   "execution_count": 23,
   "metadata": {},
   "outputs": [
    {
     "data": {
      "text/plain": [
       "<function matplotlib.pyplot.show(*args, **kw)>"
      ]
     },
     "execution_count": 23,
     "metadata": {},
     "output_type": "execute_result"
    },
    {
     "data": {
      "image/png": "[encoded data removed]",
      "text/plain": [
       "<Figure size 936x360 with 1 Axes>"
      ]
     },
     "metadata": {
      "needs_background": "light"
     },
     "output_type": "display_data"
    }
   ],
   "source": [
    "mergedCumulativeConversions = cumulativeDataA.merge(\n",
    "    cumulativeDataB, \n",
    "    left_on='date', \n",
    "    right_on='date', \n",
    "    how='left', \n",
    "    suffixes=['A', 'B'])\n",
    "\n",
    "plt.figure(figsize =(13,5))\n",
    "plt.plot(\n",
    "    mergedCumulativeConversions['date'], \n",
    "    (mergedCumulativeConversions['conversionB']/mergedCumulativeConversions['conversionA'])-1\n",
    ")\n",
    "plt.axhline(y=0, color='black', linestyle='--')\n",
    "plt.axhline(y=0.1, color='grey', linestyle='--')\n",
    "plt.title('Относительное изменение кумулятивной конверсии группы B к группе A, с 01.08.2019 по 31.08.2019')\n",
    "plt.xlabel('Дата')\n",
    "plt.show"
   ]
  },
  {
   "cell_type": "markdown",
   "metadata": {},
   "source": [
    "Конверсия группы В почти с самого начала лучше относительно группы А, к концу теста прирост конверсии начинает фиксироваться около значения в 10%."
   ]
  },
  {
   "cell_type": "markdown",
   "metadata": {},
   "source": [
    "### Определение аномальных значений"
   ]
  },
  {
   "cell_type": "markdown",
   "metadata": {},
   "source": [
    "Построим точечный график числа заказов по пользователям:"
   ]
  },
  {
   "cell_type": "code",
   "execution_count": 24,
   "metadata": {
    "scrolled": true
   },
   "outputs": [
    {
     "data": {
      "text/plain": [
       "<function matplotlib.pyplot.show(*args, **kw)>"
      ]
     },
     "execution_count": 24,
     "metadata": {},
     "output_type": "execute_result"
    },
    {
     "data": {
      "image/png": "[encoded data removed]",
      "text/plain": [
       "<Figure size 432x288 with 1 Axes>"
      ]
     },
     "metadata": {
      "needs_background": "light"
     },
     "output_type": "display_data"
    }
   ],
   "source": [
    "ordersByUsers = (\n",
    "    orders.drop(['group', 'revenue', 'date'], axis=1)\n",
    "    .groupby('visitor_id', as_index=False)\n",
    "    .agg({'transaction_id': pd.Series.nunique})\n",
    ")\n",
    "ordersByUsers.columns = ['user_id', 'orders']\n",
    "\n",
    "x_values = pd.Series(range(0,len(ordersByUsers)))\n",
    "\n",
    "plt.scatter(x_values, ordersByUsers['orders'])\n",
    "plt.title('Распределение числа заказов по пользователям, с 01.08.2019 по 31.08.2019')\n",
    "plt.xlabel('Номер наблюдения')\n",
    "plt.ylabel('Число заказаов')\n",
    "plt.show"
   ]
  },
  {
   "cell_type": "markdown",
   "metadata": {},
   "source": [
    "Построим точечный график стоимоти заказов:"
   ]
  },
  {
   "cell_type": "code",
   "execution_count": 25,
   "metadata": {},
   "outputs": [
    {
     "data": {
      "text/plain": [
       "<function matplotlib.pyplot.show(*args, **kw)>"
      ]
     },
     "execution_count": 25,
     "metadata": {},
     "output_type": "execute_result"
    },
    {
     "data": {
      "image/png": "[encoded data removed]",
      "text/plain": [
       "<Figure size 432x288 with 1 Axes>"
      ]
     },
     "metadata": {
      "needs_background": "light"
     },
     "output_type": "display_data"
    }
   ],
   "source": [
    "x_values = pd.Series(range(0,len(orders['revenue'])))\n",
    "plt.scatter(x_values, orders['revenue'])\n",
    "plt.title('Распределение стоимости заказов, с 01.08.2019 по 31.08.2019')\n",
    "plt.xlabel('Номер наблюдения')\n",
    "plt.ylabel('Стоимоть, руб.')\n",
    "plt.show"
   ]
  },
  {
   "cell_type": "markdown",
   "metadata": {},
   "source": [
    "Большинство пользователей сделали один заказ. Но число пользователей с числом заказов 2 тоже велико. Что касается стоимости заказов,большинство пользователей не выходит за стоимоть 100000(рублей?), но на графике фиксируются аномальные суммы (вероятно те самые заказы, которые мы предполагали ранее). Для определения границ аномального поведения пользователей, посчитаем 95-й и 99-й перцентели:"
   ]
  },
  {
   "cell_type": "code",
   "execution_count": 26,
   "metadata": {},
   "outputs": [
    {
     "name": "stdout",
     "output_type": "stream",
     "text": [
      "Перцентели числа заказов: 95 - 2, 99 - 4\n",
      "Перцентели суммы заказа: 95 - 28000, 99 - 58233\n"
     ]
    }
   ],
   "source": [
    "percentile = np.percentile(ordersByUsers['orders'], [95, 99])\n",
    "print('Перцентели числа заказов: 95 - {:.0f}, 99 - {:.0f}'.format(percentile[0], percentile[1]))\n",
    "\n",
    "percentile = np.percentile(orders['revenue'], [95, 99])\n",
    "print('Перцентели суммы заказа: 95 - {:.0f}, 99 - {:.0f}'.format(percentile[0], percentile[1]))\n"
   ]
  },
  {
   "cell_type": "markdown",
   "metadata": {},
   "source": [
    "Только 5% пользователей совершают более одного заказа и только 1% пользователей совершают 4 и более заказов. ЧТо касается суммы заказа, то не более 5% процентов заказов дороже 28000 рублей и не более 1% превышают сумму в 58233 рубля.\n",
    "\n",
    "Определим границу аномальных значений:\n",
    "\n",
    "- сумма заказа: 50000 рублей (отсеим от 1 до 5% заказов с наибольшей стоимостью)\n",
    "- число заказов: 3 (отсеим 1% пользователей с наибольшим числом заказов)"
   ]
  },
  {
   "cell_type": "markdown",
   "metadata": {},
   "source": [
    "### Определение статистической значимости \"сырых\" данных"
   ]
  },
  {
   "cell_type": "markdown",
   "metadata": {},
   "source": [
    "Посчитаем статистическую значимость различий в конверсии между группами по «сырым» данным. \n",
    "\n",
    "Нулевая гипотеза - между конверсиями групп А и В нет статистически значимых различий. Альтернативная гипотеза - между конверсиями групп А и В есть статистически значимые различия.\n",
    "\n",
    "Зададим уровень критической значимости 5%. Для оценки уровня значимости применим U-критерий Манна — Уитни."
   ]
  },
  {
   "cell_type": "code",
   "execution_count": 27,
   "metadata": {},
   "outputs": [
    {
     "name": "stdout",
     "output_type": "stream",
     "text": [
      "Количество посетителей в группе А 18736\n",
      "Количество покупателей в группе А 503\n",
      "Количество покупок в группе А 557 \n",
      "\n",
      "Количество посетителей в группе B 18916\n",
      "Количество покупателей в группе B 586\n",
      "Количество покупок в группе B 640 \n",
      "\n",
      "U-test = 0.017\n",
      "Отвергаем нулевую гипотезу, между конверсиями групп А и В есть статистически значимые различия\n",
      "Относительный прирост конверсии группы B к A 13.8%\n"
     ]
    }
   ],
   "source": [
    "ordersByUsersA = (\n",
    "    orders[orders['group'] == 'A']\n",
    "    .groupby('visitor_id', as_index=False)\n",
    "    .agg({'transaction_id':'nunique'})\n",
    ")\n",
    "ordersByUsersA.columns = ['user_id', 'orders']\n",
    "ordersByUsersB = (\n",
    "    orders[orders['group'] == 'B']\n",
    "    .groupby('visitor_id', as_index=False)\n",
    "    .agg({'transaction_id':'nunique'})\n",
    ")\n",
    "ordersByUsersB.columns = ['user_id', 'orders']\n",
    "\n",
    "sampleA = (\n",
    "    pd.concat(\n",
    "        [\n",
    "            ordersByUsersA['orders'], \n",
    "            pd.Series(\n",
    "                0, index=np.arange(\n",
    "                    visitors[visitors['group'] == 'A']['visitors'].sum() - len(ordersByUsersA)\n",
    "                                  ),\n",
    "                name='orders'\n",
    "            )\n",
    "        ],\n",
    "        axis=0\n",
    "    )\n",
    ")\n",
    "sampleB = (\n",
    "    pd.concat(\n",
    "        [\n",
    "            ordersByUsersB['orders'], \n",
    "            pd.Series(\n",
    "                0, index=np.arange(\n",
    "                    visitors[visitors['group'] == 'B']['visitors'].sum() - len(ordersByUsersB)\n",
    "                                  ),\n",
    "                name='orders'\n",
    "            )\n",
    "        ],\n",
    "        axis=0\n",
    "    )\n",
    ")\n",
    "alpha = 0.05\n",
    "utest = stats.mannwhitneyu(sampleA, sampleB, alternative='two-sided')[1]\n",
    "\n",
    "print('Количество посетителей в группе А {}'.format(len(sampleA)))\n",
    "print('Количество покупателей в группе А {}'.format(len(ordersByUsersA)))\n",
    "print('Количество покупок в группе А {} \\n'.format(sampleA.sum()))\n",
    "print('Количество посетителей в группе B {}'.format(len(sampleB)))\n",
    "print('Количество покупателей в группе B {}'.format(len(ordersByUsersB)))\n",
    "print('Количество покупок в группе B {} \\n'.format(sampleB.sum()))\n",
    "print('U-test = {:.3f}'.format(utest))\n",
    "if (utest < alpha):\n",
    "    print('Отвергаем нулевую гипотезу, между конверсиями групп А и В есть статистически значимые различия')\n",
    "else:\n",
    "    print(\"Не получилось отвергнуть нулевую гипотезу, между конверсиями групп А и В нет статистически значимых различий\")\n",
    "\n",
    "print(\"Относительный прирост конверсии группы B к A {0:.1%}\".format(sampleB.mean() / sampleA.mean() - 1))"
   ]
  },
  {
   "cell_type": "markdown",
   "metadata": {},
   "source": [
    "Посчитаем статистическую значимость различий в среднем чеке заказа между группами по «сырым» данным. \n",
    "\n",
    "Нулевая гипотеза - между значениями среднего чека заказа групп А и В нет статистически значимых различий. Альтернативная гипотеза - между значениями среднего чека заказа групп А и В есть статистически значимые различия.\n",
    "\n",
    "Зададим уровень критической значимости 5%. Для оценки уровня значимости применим U-критерий Манна — Уитни."
   ]
  },
  {
   "cell_type": "code",
   "execution_count": 28,
   "metadata": {},
   "outputs": [
    {
     "name": "stdout",
     "output_type": "stream",
     "text": [
      "U-test = 0.729\n",
      "Не получилось отвергнуть нулевую гипотезу, между значениями среднего чека групп А и В нет статистически значимых различий\n",
      "Относительный прирост среднего чека группы B к A 25.9%\n"
     ]
    }
   ],
   "source": [
    "utest = stats.mannwhitneyu(\n",
    "    orders[orders['group']=='A']['revenue'], \n",
    "    orders[orders['group']=='B']['revenue'], \n",
    "    alternative='two-sided'\n",
    ")[1]\n",
    "print('U-test = {:.3f}'.format(utest))\n",
    "if (utest < alpha):\n",
    "    print('Отвергаем нулевую гипотезу, между значениями среднего чека групп А и В есть статистически значимые различия')\n",
    "else:\n",
    "    print('Не получилось отвергнуть нулевую гипотезу, между значениями среднего чека групп А и В нет статистически значимых различий')\n",
    "print(\"Относительный прирост среднего чека группы B к A {0:.1%}\"\n",
    "      .format(orders[orders['group']=='B']['revenue'].mean()/orders[orders['group']=='A']['revenue'].mean()-1))\n"
   ]
  },
  {
   "cell_type": "markdown",
   "metadata": {},
   "source": [
    "### Определение статистической значимости \"очищенных\" данных"
   ]
  },
  {
   "cell_type": "markdown",
   "metadata": {},
   "source": [
    "Посчитаем статистическую значимость различий в конверсии между группами по «очищенным» данным. \n",
    "\n",
    "Нулевая гипотеза - между конверсиями групп А и В нет статистически значимых различий. Альтернативная гипотеза - между конверсиями групп А и В есть статистически значимые различия.\n",
    "\n",
    "Зададим уровень критической значимости 5%. Для оценки уровня значимости применим U-критерий Манна — Уитни."
   ]
  },
  {
   "cell_type": "code",
   "execution_count": 29,
   "metadata": {},
   "outputs": [
    {
     "name": "stdout",
     "output_type": "stream",
     "text": [
      "U-test = 0.011\n",
      "Отвергаем нулевую гипотезу, между конверсиями групп А и В есть статистически значимые различия\n",
      "Относительный прирост конверсии группы B к A 15.8%\n"
     ]
    }
   ],
   "source": [
    "usersWithManyOrders = pd.concat(\n",
    "    [\n",
    "        ordersByUsersA[ordersByUsersA['orders'] > 3]['user_id'],\n",
    "        ordersByUsersB[ordersByUsersB['orders'] > 3]['user_id'],\n",
    "    ],\n",
    "    axis=0,\n",
    ")\n",
    "usersWithExpensiveOrders = orders[orders['revenue'] > 50000]['visitor_id']\n",
    "\n",
    "abnormalUsers = (\n",
    "    pd.concat([usersWithManyOrders, usersWithExpensiveOrders], axis=0)\n",
    "    .drop_duplicates()\n",
    "    .sort_values()\n",
    ")\n",
    "\n",
    "sampleAFiltered = pd.concat(\n",
    "    [\n",
    "        ordersByUsersA[\n",
    "            np.logical_not(ordersByUsersA['user_id'].isin(abnormalUsers))\n",
    "        ]['orders'],\n",
    "        pd.Series(\n",
    "            0,\n",
    "            index=np.arange(\n",
    "                visitors[visitors['group'] == 'A']['visitors'].sum() - len(ordersByUsersA['orders'])\n",
    "            ),\n",
    "            name='orders',\n",
    "        ),\n",
    "    ],\n",
    "    axis=0,\n",
    ")\n",
    "\n",
    "sampleBFiltered = pd.concat(\n",
    "    [\n",
    "        ordersByUsersB[\n",
    "            np.logical_not(ordersByUsersB['user_id'].isin(abnormalUsers))\n",
    "        ]['orders'],\n",
    "        pd.Series(\n",
    "            0,\n",
    "            index=np.arange(\n",
    "                visitors[visitors['group'] == 'B']['visitors'].sum() - len(ordersByUsersB['orders'])\n",
    "            ),\n",
    "            name='orders',\n",
    "        ),\n",
    "    ],\n",
    "    axis=0\n",
    ")\n",
    "utest = stats.mannwhitneyu(sampleAFiltered, sampleBFiltered,alternative='two-sided')[1]\n",
    "print('U-test = {:.3f}'.format(utest))\n",
    "if (utest < alpha):\n",
    "    print('Отвергаем нулевую гипотезу, между конверсиями групп А и В есть статистически значимые различия')\n",
    "else:\n",
    "    print('Не получилось отвергнуть нулевую гипотезу, между конверсиями групп А и В нет статистически значимых различий')\n",
    "\n",
    "print(\n",
    "    'Относительный прирост конверсии группы B к A {0:.1%}'\n",
    "    .format(sampleBFiltered.mean() / sampleAFiltered.mean() - 1))"
   ]
  },
  {
   "cell_type": "markdown",
   "metadata": {},
   "source": [
    "Посчитаем статистическую значимость различий в среднем чеке заказа между группами по «очищенным» данным. \n",
    "\n",
    "Нулевая гипотеза - между значениями среднего чека заказа групп А и В нет статистически значимых различий. Альтернативная гипотеза - между значениями среднего чека заказа групп А и В есть статистически значимые различия.\n",
    "\n",
    "Зададим уровень критической значимости 5%. Для оценки уровня значимости применим U-критерий Манна — Уитни."
   ]
  },
  {
   "cell_type": "code",
   "execution_count": 30,
   "metadata": {},
   "outputs": [
    {
     "name": "stdout",
     "output_type": "stream",
     "text": [
      "U-test = 0.819\n",
      "Не получилось отвергнуть нулевую гипотезу, между значениями среднего чека групп А и В нет статистически значимых различий\n",
      "Относительный прирост среднего чека группы B к A 2.4%\n"
     ]
    }
   ],
   "source": [
    "utest = stats.mannwhitneyu(\n",
    "    orders[\n",
    "        np.logical_and(\n",
    "            orders['group'] == 'A',\n",
    "            np.logical_not(\n",
    "                orders['visitor_id'].isin(abnormalUsers)\n",
    "            )\n",
    "        )\n",
    "    ]['revenue'],\n",
    "    orders[\n",
    "        np.logical_and(\n",
    "            orders['group'] == 'B',\n",
    "            np.logical_not(\n",
    "                orders['visitor_id'].isin(abnormalUsers)\n",
    "            )\n",
    "        )\n",
    "    ]['revenue'], alternative='two-sided')[1]\n",
    "print('U-test = {:.3f}'.format(utest))\n",
    "if (utest < alpha):\n",
    "    print('Отвергаем нулевую гипотезу, между значениями среднего чека групп А и В есть статистически значимые различия')\n",
    "else:\n",
    "    print('Не получилось отвергнуть нулевую гипотезу, между значениями среднего чека групп А и В нет статистически значимых различий')\n",
    "print(\"Относительный прирост среднего чека группы B к A {0:.1%}\"\n",
    "      .format(\n",
    "        orders[\n",
    "            np.logical_and(\n",
    "                orders['group'] == 'B',\n",
    "                np.logical_not(orders['visitor_id'].isin(abnormalUsers)),\n",
    "            )\n",
    "        ]['revenue'].mean()\n",
    "        / orders[\n",
    "            np.logical_and(\n",
    "                orders['group'] == 'A',\n",
    "                np.logical_not(orders['visitor_id'].isin(abnormalUsers)),\n",
    "            )\n",
    "        ]['revenue'].mean()\n",
    "        - 1\n",
    "    )\n",
    ")"
   ]
  },
  {
   "cell_type": "markdown",
   "metadata": {},
   "source": [
    "**Вывод:**\n",
    "После очистки данных различия в конверсии групп А и В имеет статистическое значение. Относительный прирост конверсии группы В к конверсии к группе составил 15.8%. Между значениями среднего чека групп А и В нет статистически значимых различий. Относительный прирост среднего чека группы B к A 2.4%\n",
    "\n",
    "Можно сделать вывод, что пользователи группы В покупают чаще, но средний чек не отличается от покупателей из группы А. Полученный результат имеет статистическое значение, тест следует остановить и зафиксировать победу группы В."
   ]
  },
  {
   "cell_type": "markdown",
   "metadata": {},
   "source": [
    "## Общий вывод"
   ]
  },
  {
   "cell_type": "markdown",
   "metadata": {},
   "source": [
    "Для увеличения выручки крупного интернет-магазина подготовленный список гипотез приоритизирован фреймворками ICE и RICE. Разница в приритете гипотез различными фреймворками объясняется учетом параметра Reach.\n",
    "\n",
    "**Наибольший приоритет присвоен гипотезе 7 - Добавить форму подписки на все основные страницы, чтобы собрать базу клиентов для email-рассылок**.\n",
    "\n",
    "Временной период проведения A/B-теста с 1 по 31 августа 2019 года. Данные содержат информацию о заказах и о посещении сайта по группам. В данных о заказах обнаружено 58 покупателей, попавшие в обе группы тестирования. Всего в тестировании зафиксировано 1031 уникальный покупатель.\n",
    "\n",
    "Для определения успешности теста построены графики кумулятивных метрик по группам тестирования. На графике кумулятивной выручки видно, что выручка в обеих группах растёт, но для группы В характерен резкий скачок. Это сигнализирует о всплеске числа заказов или появлении очень дорого заказа.\n",
    "\n",
    "Для группы А график среднего чека становится равномерным к концу теста, для группы В наблюдаем ростс качок суммы среднего чека, но затем график становится равномерным. Вероятно, был совершена аномально-дорогая покупка, что повлияло на кумулятивный средний чек.\n",
    "\n",
    "Резкие скачки на графике относительного изменения средного чека группы В к группе А свидетельствуют о наличии выбросов в значениях среднего чека - были совершены аномальные заказы.\n",
    "\n",
    "Графики кумулятивной конверсии по группам тестирования несиметричные, но если в начале теста мы наблюдали рост и падение конверсии в обеих группах, то после конверсия группы А начала падение, а конверсия группы В рост. Конверсия групппы А установилась около значения(0.03) ниже, чем значение(0.034), около которого установилось значение группы В.\n",
    "\n",
    "Конверсия группы В почти с самого начала лучше относительно группы А, к концу теста прирост конверсии начинает фиксироваться около значения в 10%.\n",
    "\n",
    "Чтобы определить исключить аномальное поведение пользователей, построены точечные графики числа покупок на пользователя и суммы заказа. Большинство пользователей сделали один заказ. Но число пользователей с числом заказов 2 тоже велико. Что касается стоимости заказов, большинство пользователей не выходит за стоимоть 100000 рублей. Граница аномальных значений:\n",
    "\n",
    "- сумма заказа: 50000 рублей (отсеим от 1 до 5% заказов с наибольшей стоимостью)\n",
    "- число заказов: 3 (отсеим 1% пользователей с наибольшим числом заказов)\n",
    "\n",
    "Результаты проверки статистической значимости для \"сырых\" данных:\n",
    "\n",
    "Между конверсиями групп А и В есть статистически значимые различия, относительный прирост конверсии группы B к A 15.8%. Между значениями среднего чека групп А и В нет статистически значимых различий, относительный прирост среднего чека группы B к A 25.9%.\n",
    "\n",
    "Результаты проверки статистической значимости для \"очищенных\" данных:\n",
    "\n",
    "Между конверсиями групп А и В есть статистически значимые различия, Относительный прирост конверсии группы B к A 15.8%. Между значениями среднего чека групп А и В нет статистически значимых различий, относительный прирост среднего чека группы B к A 2.4%.\n",
    "\n",
    "Можно сделать вывод, что пользователи группы В покупают чаще, но средний чек не отличается от покупателей из группы А. Полученный результат имеет статистическое значение, **тест следует остановить и зафиксировать победу группы В**."
   ]
  }
 ],
 "metadata": {
  "ExecuteTimeLog": [
   {
    "duration": 658,
    "start_time": "2021-10-31T08:26:19.091Z"
   },
   {
    "duration": 31,
    "start_time": "2021-10-31T08:31:55.246Z"
   },
   {
    "duration": 64,
    "start_time": "2021-11-01T08:49:05.056Z"
   },
   {
    "duration": 615,
    "start_time": "2021-11-01T08:49:13.206Z"
   },
   {
    "duration": 34,
    "start_time": "2021-11-01T08:49:14.279Z"
   },
   {
    "duration": 5,
    "start_time": "2021-11-01T08:51:45.339Z"
   },
   {
    "duration": 374,
    "start_time": "2021-11-01T08:52:02.704Z"
   },
   {
    "duration": 440,
    "start_time": "2021-11-01T08:52:18.008Z"
   },
   {
    "duration": 364,
    "start_time": "2021-11-01T08:55:12.683Z"
   },
   {
    "duration": 4,
    "start_time": "2021-11-01T08:55:34.289Z"
   },
   {
    "duration": 5,
    "start_time": "2021-11-01T08:56:15.217Z"
   },
   {
    "duration": 8,
    "start_time": "2021-11-01T08:56:26.032Z"
   },
   {
    "duration": 9974,
    "start_time": "2021-11-01T08:57:00.656Z"
   },
   {
    "duration": 9,
    "start_time": "2021-11-01T08:57:19.262Z"
   },
   {
    "duration": 8,
    "start_time": "2021-11-01T08:57:27.430Z"
   },
   {
    "duration": 6,
    "start_time": "2021-11-01T08:57:45.110Z"
   },
   {
    "duration": 3,
    "start_time": "2021-11-01T08:57:55.685Z"
   },
   {
    "duration": 16,
    "start_time": "2021-11-01T09:03:42.651Z"
   },
   {
    "duration": 10,
    "start_time": "2021-11-01T09:05:33.648Z"
   },
   {
    "duration": 10,
    "start_time": "2021-11-01T09:05:52.911Z"
   },
   {
    "duration": 8990,
    "start_time": "2021-11-01T09:10:52.148Z"
   },
   {
    "duration": 9068,
    "start_time": "2021-11-01T09:11:21.220Z"
   },
   {
    "duration": 5,
    "start_time": "2021-11-01T09:12:12.635Z"
   },
   {
    "duration": 11,
    "start_time": "2021-11-01T09:15:46.412Z"
   },
   {
    "duration": 5,
    "start_time": "2021-11-01T09:17:13.920Z"
   },
   {
    "duration": 383,
    "start_time": "2021-11-01T09:36:33.342Z"
   },
   {
    "duration": 373,
    "start_time": "2021-11-01T09:36:48.277Z"
   },
   {
    "duration": 75,
    "start_time": "2021-11-01T09:37:43.492Z"
   },
   {
    "duration": 17,
    "start_time": "2021-11-01T09:40:35.429Z"
   },
   {
    "duration": 7,
    "start_time": "2021-11-01T09:44:37.599Z"
   },
   {
    "duration": 164,
    "start_time": "2021-11-01T09:44:55.446Z"
   },
   {
    "duration": 121,
    "start_time": "2021-11-01T09:45:21.805Z"
   },
   {
    "duration": 7,
    "start_time": "2021-11-01T09:46:30.035Z"
   },
   {
    "duration": 117,
    "start_time": "2021-11-01T09:48:15.872Z"
   },
   {
    "duration": 11,
    "start_time": "2021-11-01T09:48:37.471Z"
   },
   {
    "duration": 72,
    "start_time": "2021-11-01T09:49:07.792Z"
   },
   {
    "duration": 11,
    "start_time": "2021-11-01T09:49:29.293Z"
   },
   {
    "duration": 70,
    "start_time": "2021-11-01T09:50:28.860Z"
   },
   {
    "duration": 6,
    "start_time": "2021-11-01T09:52:28.807Z"
   },
   {
    "duration": 128,
    "start_time": "2021-11-01T10:40:16.733Z"
   },
   {
    "duration": 3,
    "start_time": "2021-11-01T10:40:21.894Z"
   },
   {
    "duration": 67,
    "start_time": "2021-11-01T10:40:21.899Z"
   },
   {
    "duration": 11,
    "start_time": "2021-11-01T10:40:21.968Z"
   },
   {
    "duration": 4,
    "start_time": "2021-11-01T10:40:21.981Z"
   },
   {
    "duration": 14,
    "start_time": "2021-11-01T10:40:21.987Z"
   },
   {
    "duration": 6,
    "start_time": "2021-11-01T10:40:22.003Z"
   },
   {
    "duration": 12,
    "start_time": "2021-11-01T10:40:22.011Z"
   },
   {
    "duration": 4,
    "start_time": "2021-11-01T10:40:22.025Z"
   },
   {
    "duration": 55,
    "start_time": "2021-11-01T10:40:22.031Z"
   },
   {
    "duration": 13,
    "start_time": "2021-11-01T10:40:22.088Z"
   },
   {
    "duration": 5,
    "start_time": "2021-11-01T10:40:22.103Z"
   },
   {
    "duration": 378,
    "start_time": "2021-11-01T10:45:24.100Z"
   },
   {
    "duration": 13,
    "start_time": "2021-11-01T10:45:41.337Z"
   },
   {
    "duration": 648,
    "start_time": "2021-11-01T10:55:21.776Z"
   },
   {
    "duration": 10878,
    "start_time": "2021-11-01T10:55:39.708Z"
   },
   {
    "duration": 7,
    "start_time": "2021-11-01T10:56:21.167Z"
   },
   {
    "duration": 230,
    "start_time": "2021-11-01T10:57:00.472Z"
   },
   {
    "duration": 4,
    "start_time": "2021-11-01T10:58:56.372Z"
   },
   {
    "duration": 4,
    "start_time": "2021-11-01T10:59:20.149Z"
   },
   {
    "duration": 8,
    "start_time": "2021-11-01T10:59:33.477Z"
   },
   {
    "duration": 216,
    "start_time": "2021-11-01T10:59:55.706Z"
   },
   {
    "duration": 687,
    "start_time": "2021-11-01T11:03:39.883Z"
   },
   {
    "duration": 354,
    "start_time": "2021-11-01T11:03:55.529Z"
   },
   {
    "duration": 814,
    "start_time": "2021-11-01T11:06:49.120Z"
   },
   {
    "duration": 370,
    "start_time": "2021-11-01T11:08:13.990Z"
   },
   {
    "duration": 7,
    "start_time": "2021-11-01T11:12:18.446Z"
   },
   {
    "duration": 210,
    "start_time": "2021-11-01T11:12:50.288Z"
   },
   {
    "duration": 162,
    "start_time": "2021-11-01T11:13:23.835Z"
   },
   {
    "duration": 8,
    "start_time": "2021-11-01T11:14:02.981Z"
   },
   {
    "duration": 226,
    "start_time": "2021-11-01T11:16:51.644Z"
   },
   {
    "duration": 258,
    "start_time": "2021-11-01T11:17:04.438Z"
   },
   {
    "duration": 586,
    "start_time": "2021-11-01T11:21:18.971Z"
   },
   {
    "duration": 296,
    "start_time": "2021-11-01T11:21:54.907Z"
   },
   {
    "duration": 264,
    "start_time": "2021-11-01T11:22:04.023Z"
   },
   {
    "duration": 241,
    "start_time": "2021-11-01T11:22:14.389Z"
   },
   {
    "duration": 20,
    "start_time": "2021-11-01T11:25:58.427Z"
   },
   {
    "duration": 21,
    "start_time": "2021-11-01T11:26:04.496Z"
   },
   {
    "duration": 5,
    "start_time": "2021-11-01T11:27:12.624Z"
   },
   {
    "duration": 4,
    "start_time": "2021-11-01T11:27:56.662Z"
   },
   {
    "duration": 170,
    "start_time": "2021-11-01T11:29:06.305Z"
   },
   {
    "duration": 252,
    "start_time": "2021-11-01T11:32:08.697Z"
   },
   {
    "duration": 265,
    "start_time": "2021-11-01T11:32:40.721Z"
   },
   {
    "duration": 278,
    "start_time": "2021-11-01T11:32:52.567Z"
   },
   {
    "duration": 266,
    "start_time": "2021-11-01T11:35:39.152Z"
   },
   {
    "duration": 277,
    "start_time": "2021-11-01T11:43:26.603Z"
   },
   {
    "duration": 359,
    "start_time": "2021-11-01T11:44:40.010Z"
   },
   {
    "duration": 265,
    "start_time": "2021-11-01T11:50:48.506Z"
   },
   {
    "duration": 404,
    "start_time": "2021-11-01T11:58:33.941Z"
   },
   {
    "duration": 232,
    "start_time": "2021-11-01T11:59:38.021Z"
   },
   {
    "duration": 236,
    "start_time": "2021-11-01T12:01:04.135Z"
   },
   {
    "duration": 373,
    "start_time": "2021-11-01T12:01:12.470Z"
   },
   {
    "duration": 346,
    "start_time": "2021-11-01T12:02:47.123Z"
   },
   {
    "duration": 2874,
    "start_time": "2021-11-01T12:05:26.050Z"
   },
   {
    "duration": 12,
    "start_time": "2021-11-01T12:07:47.377Z"
   },
   {
    "duration": 8972,
    "start_time": "2021-11-01T12:08:39.810Z"
   },
   {
    "duration": 375,
    "start_time": "2021-11-01T12:09:49.630Z"
   },
   {
    "duration": 287,
    "start_time": "2021-11-01T12:14:25.131Z"
   },
   {
    "duration": 336,
    "start_time": "2021-11-01T12:15:25.107Z"
   },
   {
    "duration": 201,
    "start_time": "2021-11-01T12:28:09.273Z"
   },
   {
    "duration": 5,
    "start_time": "2021-11-01T12:28:22.826Z"
   },
   {
    "duration": 4,
    "start_time": "2021-11-01T12:29:45.710Z"
   },
   {
    "duration": 378,
    "start_time": "2021-11-01T12:30:01.601Z"
   },
   {
    "duration": 5,
    "start_time": "2021-11-01T12:31:29.697Z"
   },
   {
    "duration": 4,
    "start_time": "2021-11-01T12:31:45.819Z"
   },
   {
    "duration": 4,
    "start_time": "2021-11-01T12:32:27.850Z"
   },
   {
    "duration": 5,
    "start_time": "2021-11-01T12:32:37.784Z"
   },
   {
    "duration": 6,
    "start_time": "2021-11-01T12:33:08.324Z"
   },
   {
    "duration": 8882,
    "start_time": "2021-11-01T12:50:50.948Z"
   },
   {
    "duration": 273,
    "start_time": "2021-11-01T12:51:51.730Z"
   },
   {
    "duration": 8716,
    "start_time": "2021-11-01T12:57:54.042Z"
   },
   {
    "duration": 748,
    "start_time": "2021-11-01T12:58:38.677Z"
   },
   {
    "duration": 446,
    "start_time": "2021-11-01T13:02:52.660Z"
   },
   {
    "duration": 388,
    "start_time": "2021-11-01T13:03:03.216Z"
   },
   {
    "duration": 112,
    "start_time": "2021-11-01T14:54:10.774Z"
   },
   {
    "duration": 112,
    "start_time": "2021-11-01T14:54:18.489Z"
   },
   {
    "duration": 14,
    "start_time": "2021-11-01T14:54:32.239Z"
   },
   {
    "duration": 15,
    "start_time": "2021-11-01T14:55:41.345Z"
   },
   {
    "duration": 16,
    "start_time": "2021-11-01T14:56:09.000Z"
   },
   {
    "duration": 18,
    "start_time": "2021-11-01T14:56:39.452Z"
   },
   {
    "duration": 24,
    "start_time": "2021-11-01T15:05:06.262Z"
   },
   {
    "duration": 25,
    "start_time": "2021-11-01T15:07:00.572Z"
   },
   {
    "duration": 24,
    "start_time": "2021-11-01T15:07:10.173Z"
   },
   {
    "duration": 22,
    "start_time": "2021-11-01T15:08:58.498Z"
   },
   {
    "duration": 27,
    "start_time": "2021-11-01T15:20:02.805Z"
   },
   {
    "duration": 123,
    "start_time": "2021-11-01T15:21:39.632Z"
   },
   {
    "duration": 23,
    "start_time": "2021-11-01T15:22:03.010Z"
   },
   {
    "duration": 21,
    "start_time": "2021-11-01T15:22:51.222Z"
   },
   {
    "duration": 20,
    "start_time": "2021-11-01T15:23:36.910Z"
   },
   {
    "duration": 122,
    "start_time": "2021-11-01T15:37:42.368Z"
   },
   {
    "duration": 24,
    "start_time": "2021-11-01T15:37:51.268Z"
   },
   {
    "duration": 32,
    "start_time": "2021-11-01T15:38:03.314Z"
   },
   {
    "duration": 25,
    "start_time": "2021-11-01T15:38:18.287Z"
   },
   {
    "duration": 24,
    "start_time": "2021-11-01T15:39:22.004Z"
   },
   {
    "duration": 25,
    "start_time": "2021-11-01T15:40:06.633Z"
   },
   {
    "duration": 27,
    "start_time": "2021-11-01T15:40:25.128Z"
   },
   {
    "duration": 25,
    "start_time": "2021-11-01T15:40:34.935Z"
   },
   {
    "duration": 12,
    "start_time": "2021-11-01T15:44:27.547Z"
   },
   {
    "duration": 28,
    "start_time": "2021-11-01T15:46:05.901Z"
   },
   {
    "duration": 28,
    "start_time": "2021-11-01T15:46:13.343Z"
   },
   {
    "duration": 11,
    "start_time": "2021-11-01T15:58:59.912Z"
   },
   {
    "duration": 419,
    "start_time": "2021-11-01T16:00:16.031Z"
   },
   {
    "duration": 26,
    "start_time": "2021-11-01T16:00:30.779Z"
   },
   {
    "duration": 11,
    "start_time": "2021-11-01T16:01:14.330Z"
   },
   {
    "duration": 10,
    "start_time": "2021-11-01T16:01:52.215Z"
   },
   {
    "duration": 27,
    "start_time": "2021-11-01T16:09:42.424Z"
   },
   {
    "duration": 8,
    "start_time": "2021-11-01T16:09:59.898Z"
   },
   {
    "duration": 11076,
    "start_time": "2021-11-01T16:14:36.892Z"
   },
   {
    "duration": 9440,
    "start_time": "2021-11-01T16:15:02.096Z"
   },
   {
    "duration": 8624,
    "start_time": "2021-11-01T16:15:51.706Z"
   },
   {
    "duration": 23,
    "start_time": "2021-11-01T16:16:30.205Z"
   },
   {
    "duration": 22,
    "start_time": "2021-11-01T16:17:34.974Z"
   },
   {
    "duration": 9277,
    "start_time": "2021-11-01T16:28:53.194Z"
   },
   {
    "duration": 17,
    "start_time": "2021-11-01T16:29:40.488Z"
   },
   {
    "duration": 7,
    "start_time": "2021-11-01T16:42:36.504Z"
   },
   {
    "duration": 15,
    "start_time": "2021-11-01T16:43:27.511Z"
   },
   {
    "duration": 14,
    "start_time": "2021-11-01T16:43:50.618Z"
   },
   {
    "duration": 6,
    "start_time": "2021-11-01T16:45:12.309Z"
   },
   {
    "duration": 5,
    "start_time": "2021-11-01T16:45:21.871Z"
   },
   {
    "duration": 5,
    "start_time": "2021-11-01T16:45:41.710Z"
   },
   {
    "duration": 20,
    "start_time": "2021-11-01T16:46:43.286Z"
   },
   {
    "duration": 10,
    "start_time": "2021-11-01T16:52:50.116Z"
   },
   {
    "duration": 21,
    "start_time": "2021-11-01T16:54:38.264Z"
   },
   {
    "duration": 20,
    "start_time": "2021-11-01T16:55:31.438Z"
   },
   {
    "duration": 22,
    "start_time": "2021-11-01T16:56:09.523Z"
   },
   {
    "duration": 16,
    "start_time": "2021-11-01T16:56:16.912Z"
   },
   {
    "duration": 16,
    "start_time": "2021-11-01T16:56:39.005Z"
   },
   {
    "duration": 16,
    "start_time": "2021-11-01T16:57:16.425Z"
   },
   {
    "duration": 21,
    "start_time": "2021-11-01T16:57:26.338Z"
   },
   {
    "duration": 16,
    "start_time": "2021-11-01T17:00:45.877Z"
   },
   {
    "duration": 15,
    "start_time": "2021-11-01T17:01:09.958Z"
   },
   {
    "duration": 14,
    "start_time": "2021-11-01T17:01:33.874Z"
   },
   {
    "duration": 123,
    "start_time": "2021-11-01T17:03:59.150Z"
   },
   {
    "duration": 15,
    "start_time": "2021-11-01T17:04:12.095Z"
   },
   {
    "duration": 16,
    "start_time": "2021-11-01T17:05:56.200Z"
   },
   {
    "duration": 9,
    "start_time": "2021-11-01T18:21:54.400Z"
   },
   {
    "duration": 9,
    "start_time": "2021-11-01T18:22:09.114Z"
   },
   {
    "duration": 373,
    "start_time": "2021-11-01T18:23:47.015Z"
   },
   {
    "duration": 117,
    "start_time": "2021-11-01T18:24:21.784Z"
   },
   {
    "duration": 546,
    "start_time": "2021-11-01T18:24:33.190Z"
   },
   {
    "duration": 7,
    "start_time": "2021-11-01T18:25:52.846Z"
   },
   {
    "duration": 7,
    "start_time": "2021-11-01T18:26:15.981Z"
   },
   {
    "duration": 7,
    "start_time": "2021-11-01T18:26:22.068Z"
   },
   {
    "duration": 6,
    "start_time": "2021-11-01T18:27:35.083Z"
   },
   {
    "duration": 6,
    "start_time": "2021-11-01T18:39:29.140Z"
   },
   {
    "duration": 6,
    "start_time": "2021-11-01T18:39:34.389Z"
   },
   {
    "duration": 6,
    "start_time": "2021-11-01T18:39:38.620Z"
   },
   {
    "duration": 15,
    "start_time": "2021-11-01T18:40:40.605Z"
   },
   {
    "duration": 271,
    "start_time": "2021-11-01T18:45:16.630Z"
   },
   {
    "duration": 255,
    "start_time": "2021-11-01T18:45:43.739Z"
   },
   {
    "duration": 391,
    "start_time": "2021-11-01T18:46:09.162Z"
   },
   {
    "duration": 368,
    "start_time": "2021-11-01T18:46:38.591Z"
   },
   {
    "duration": 416,
    "start_time": "2021-11-01T18:51:07.716Z"
   },
   {
    "duration": 424,
    "start_time": "2021-11-01T18:51:39.285Z"
   },
   {
    "duration": 288,
    "start_time": "2021-11-01T18:52:12.711Z"
   },
   {
    "duration": 410,
    "start_time": "2021-11-01T18:52:38.477Z"
   },
   {
    "duration": 438,
    "start_time": "2021-11-01T18:52:46.065Z"
   },
   {
    "duration": 341,
    "start_time": "2021-11-01T18:52:52.427Z"
   },
   {
    "duration": 282,
    "start_time": "2021-11-01T18:52:58.964Z"
   },
   {
    "duration": 437,
    "start_time": "2021-11-01T18:53:04.911Z"
   },
   {
    "duration": 251,
    "start_time": "2021-11-01T18:53:12.069Z"
   },
   {
    "duration": 257,
    "start_time": "2021-11-01T18:53:18.330Z"
   },
   {
    "duration": 3,
    "start_time": "2021-11-01T18:57:19.966Z"
   },
   {
    "duration": 63,
    "start_time": "2021-11-01T18:57:19.971Z"
   },
   {
    "duration": 11,
    "start_time": "2021-11-01T18:57:20.036Z"
   },
   {
    "duration": 5,
    "start_time": "2021-11-01T18:57:20.049Z"
   },
   {
    "duration": 28,
    "start_time": "2021-11-01T18:57:20.056Z"
   },
   {
    "duration": 8,
    "start_time": "2021-11-01T18:57:20.085Z"
   },
   {
    "duration": 16,
    "start_time": "2021-11-01T18:57:20.095Z"
   },
   {
    "duration": 21,
    "start_time": "2021-11-01T18:57:20.114Z"
   },
   {
    "duration": 12,
    "start_time": "2021-11-01T18:57:20.137Z"
   },
   {
    "duration": 28,
    "start_time": "2021-11-01T18:57:20.151Z"
   },
   {
    "duration": 20,
    "start_time": "2021-11-01T18:57:20.181Z"
   },
   {
    "duration": 16,
    "start_time": "2021-11-01T18:57:20.203Z"
   },
   {
    "duration": 15,
    "start_time": "2021-11-01T18:57:20.221Z"
   },
   {
    "duration": 25,
    "start_time": "2021-11-01T18:57:20.237Z"
   },
   {
    "duration": 17,
    "start_time": "2021-11-01T18:57:20.264Z"
   },
   {
    "duration": 228,
    "start_time": "2021-11-01T18:57:20.283Z"
   },
   {
    "duration": 163,
    "start_time": "2021-11-01T18:57:20.513Z"
   },
   {
    "duration": 6,
    "start_time": "2021-11-01T18:57:20.678Z"
   },
   {
    "duration": 282,
    "start_time": "2021-11-01T18:57:20.688Z"
   },
   {
    "duration": 271,
    "start_time": "2021-11-01T18:57:20.972Z"
   },
   {
    "duration": 384,
    "start_time": "2021-11-01T18:57:21.245Z"
   },
   {
    "duration": 302,
    "start_time": "2021-11-01T18:57:21.631Z"
   },
   {
    "duration": 398,
    "start_time": "2021-11-01T18:57:21.936Z"
   },
   {
    "duration": 444,
    "start_time": "2021-11-01T18:57:22.336Z"
   },
   {
    "duration": 316,
    "start_time": "2021-11-01T18:57:22.782Z"
   },
   {
    "duration": 7,
    "start_time": "2021-11-01T18:57:23.101Z"
   },
   {
    "duration": 43,
    "start_time": "2021-11-01T18:57:23.111Z"
   },
   {
    "duration": 31,
    "start_time": "2021-11-01T18:57:23.156Z"
   },
   {
    "duration": 40,
    "start_time": "2021-11-01T18:57:23.189Z"
   },
   {
    "duration": 42,
    "start_time": "2021-11-01T18:57:23.231Z"
   },
   {
    "duration": 1166,
    "start_time": "2021-11-01T18:57:42.072Z"
   },
   {
    "duration": 62,
    "start_time": "2021-11-01T18:57:43.241Z"
   },
   {
    "duration": 15,
    "start_time": "2021-11-01T18:57:43.305Z"
   },
   {
    "duration": 4,
    "start_time": "2021-11-01T18:57:43.321Z"
   },
   {
    "duration": 15,
    "start_time": "2021-11-01T18:57:43.326Z"
   },
   {
    "duration": 3,
    "start_time": "2021-11-01T18:57:43.343Z"
   },
   {
    "duration": 12,
    "start_time": "2021-11-01T18:57:43.347Z"
   },
   {
    "duration": 16,
    "start_time": "2021-11-01T18:57:43.377Z"
   },
   {
    "duration": 4,
    "start_time": "2021-11-01T18:57:43.395Z"
   },
   {
    "duration": 25,
    "start_time": "2021-11-01T18:57:43.401Z"
   },
   {
    "duration": 12,
    "start_time": "2021-11-01T18:57:43.428Z"
   },
   {
    "duration": 37,
    "start_time": "2021-11-01T18:57:43.441Z"
   },
   {
    "duration": 31,
    "start_time": "2021-11-01T18:57:43.480Z"
   },
   {
    "duration": 16,
    "start_time": "2021-11-01T18:57:43.513Z"
   },
   {
    "duration": 8,
    "start_time": "2021-11-01T18:57:43.531Z"
   },
   {
    "duration": 227,
    "start_time": "2021-11-01T18:57:43.541Z"
   },
   {
    "duration": 173,
    "start_time": "2021-11-01T18:57:43.770Z"
   },
   {
    "duration": 8,
    "start_time": "2021-11-01T18:57:43.946Z"
   },
   {
    "duration": 323,
    "start_time": "2021-11-01T18:57:43.956Z"
   },
   {
    "duration": 274,
    "start_time": "2021-11-01T18:57:44.281Z"
   },
   {
    "duration": 417,
    "start_time": "2021-11-01T18:57:44.556Z"
   },
   {
    "duration": 299,
    "start_time": "2021-11-01T18:57:44.974Z"
   },
   {
    "duration": 373,
    "start_time": "2021-11-01T18:57:45.279Z"
   },
   {
    "duration": 425,
    "start_time": "2021-11-01T18:57:45.655Z"
   },
   {
    "duration": 325,
    "start_time": "2021-11-01T18:57:46.082Z"
   },
   {
    "duration": 6,
    "start_time": "2021-11-01T18:57:46.410Z"
   },
   {
    "duration": 30,
    "start_time": "2021-11-01T18:57:46.418Z"
   },
   {
    "duration": 38,
    "start_time": "2021-11-01T18:57:46.451Z"
   },
   {
    "duration": 23,
    "start_time": "2021-11-01T18:57:46.491Z"
   },
   {
    "duration": 15,
    "start_time": "2021-11-01T18:57:46.516Z"
   },
   {
    "duration": 1492,
    "start_time": "2021-11-01T19:34:59.426Z"
   },
   {
    "duration": 64,
    "start_time": "2021-11-01T19:35:00.922Z"
   },
   {
    "duration": 22,
    "start_time": "2021-11-01T19:35:00.990Z"
   },
   {
    "duration": 13,
    "start_time": "2021-11-01T19:35:01.014Z"
   },
   {
    "duration": 40,
    "start_time": "2021-11-01T19:35:01.029Z"
   },
   {
    "duration": 9,
    "start_time": "2021-11-01T19:35:01.071Z"
   },
   {
    "duration": 22,
    "start_time": "2021-11-01T19:35:01.082Z"
   },
   {
    "duration": 23,
    "start_time": "2021-11-01T19:35:01.108Z"
   },
   {
    "duration": 34,
    "start_time": "2021-11-01T19:35:01.134Z"
   },
   {
    "duration": 26,
    "start_time": "2021-11-01T19:35:01.171Z"
   },
   {
    "duration": 20,
    "start_time": "2021-11-01T19:35:01.199Z"
   },
   {
    "duration": 21,
    "start_time": "2021-11-01T19:35:01.222Z"
   },
   {
    "duration": 66,
    "start_time": "2021-11-01T19:35:01.245Z"
   },
   {
    "duration": 20,
    "start_time": "2021-11-01T19:35:01.314Z"
   },
   {
    "duration": 36,
    "start_time": "2021-11-01T19:35:01.336Z"
   },
   {
    "duration": 378,
    "start_time": "2021-11-01T19:35:01.375Z"
   },
   {
    "duration": 285,
    "start_time": "2021-11-01T19:35:01.756Z"
   },
   {
    "duration": 23,
    "start_time": "2021-11-01T19:35:02.044Z"
   },
   {
    "duration": 459,
    "start_time": "2021-11-01T19:35:02.071Z"
   },
   {
    "duration": 444,
    "start_time": "2021-11-01T19:35:02.533Z"
   },
   {
    "duration": 511,
    "start_time": "2021-11-01T19:35:02.979Z"
   },
   {
    "duration": 452,
    "start_time": "2021-11-01T19:35:03.493Z"
   },
   {
    "duration": 536,
    "start_time": "2021-11-01T19:35:03.949Z"
   },
   {
    "duration": 592,
    "start_time": "2021-11-01T19:35:04.488Z"
   },
   {
    "duration": 415,
    "start_time": "2021-11-01T19:35:05.083Z"
   },
   {
    "duration": 8,
    "start_time": "2021-11-01T19:35:05.500Z"
   },
   {
    "duration": 59,
    "start_time": "2021-11-01T19:35:05.510Z"
   },
   {
    "duration": 16,
    "start_time": "2021-11-01T19:35:05.571Z"
   },
   {
    "duration": 29,
    "start_time": "2021-11-01T19:35:05.589Z"
   },
   {
    "duration": 55,
    "start_time": "2021-11-01T19:35:05.621Z"
   },
   {
    "duration": 127,
    "start_time": "2021-11-01T19:37:21.079Z"
   },
   {
    "duration": 591,
    "start_time": "2021-11-02T06:26:25.533Z"
   },
   {
    "duration": 1520,
    "start_time": "2021-11-02T06:26:30.561Z"
   },
   {
    "duration": 68,
    "start_time": "2021-11-02T06:26:32.683Z"
   },
   {
    "duration": 11,
    "start_time": "2021-11-02T06:26:34.705Z"
   },
   {
    "duration": 25,
    "start_time": "2021-11-02T06:27:14.353Z"
   },
   {
    "duration": 17,
    "start_time": "2021-11-02T06:28:38.354Z"
   },
   {
    "duration": 15,
    "start_time": "2021-11-02T06:28:54.630Z"
   },
   {
    "duration": 17,
    "start_time": "2021-11-02T06:29:15.159Z"
   },
   {
    "duration": 1474,
    "start_time": "2021-11-02T06:29:30.709Z"
   },
   {
    "duration": 72,
    "start_time": "2021-11-02T06:29:33.152Z"
   },
   {
    "duration": 23,
    "start_time": "2021-11-02T06:29:36.967Z"
   },
   {
    "duration": 17,
    "start_time": "2021-11-02T06:29:45.897Z"
   },
   {
    "duration": 17,
    "start_time": "2021-11-02T06:29:56.520Z"
   },
   {
    "duration": 21,
    "start_time": "2021-11-02T06:30:05.006Z"
   },
   {
    "duration": 1533,
    "start_time": "2021-11-02T06:30:16.150Z"
   },
   {
    "duration": 68,
    "start_time": "2021-11-02T06:30:19.398Z"
   },
   {
    "duration": 22,
    "start_time": "2021-11-02T06:30:21.461Z"
   },
   {
    "duration": 19,
    "start_time": "2021-11-02T06:34:44.897Z"
   },
   {
    "duration": 17,
    "start_time": "2021-11-02T06:34:49.085Z"
   },
   {
    "duration": 18,
    "start_time": "2021-11-02T06:34:56.074Z"
   },
   {
    "duration": 17,
    "start_time": "2021-11-02T06:35:00.602Z"
   },
   {
    "duration": 11215,
    "start_time": "2021-11-02T06:37:06.308Z"
   },
   {
    "duration": 4,
    "start_time": "2021-11-02T06:37:27.179Z"
   },
   {
    "duration": 70,
    "start_time": "2021-11-02T06:37:27.186Z"
   },
   {
    "duration": 17,
    "start_time": "2021-11-02T06:37:27.258Z"
   },
   {
    "duration": 5,
    "start_time": "2021-11-02T06:37:27.278Z"
   },
   {
    "duration": 23,
    "start_time": "2021-11-02T06:37:27.285Z"
   },
   {
    "duration": 4,
    "start_time": "2021-11-02T06:37:27.310Z"
   },
   {
    "duration": 8,
    "start_time": "2021-11-02T06:37:27.317Z"
   },
   {
    "duration": 22,
    "start_time": "2021-11-02T06:37:27.327Z"
   },
   {
    "duration": 6,
    "start_time": "2021-11-02T06:37:27.351Z"
   },
   {
    "duration": 56,
    "start_time": "2021-11-02T06:37:27.359Z"
   },
   {
    "duration": 9,
    "start_time": "2021-11-02T06:37:27.417Z"
   },
   {
    "duration": 11,
    "start_time": "2021-11-02T06:37:27.429Z"
   },
   {
    "duration": 30,
    "start_time": "2021-11-02T06:37:33.440Z"
   },
   {
    "duration": 18,
    "start_time": "2021-11-02T06:39:27.597Z"
   },
   {
    "duration": 9,
    "start_time": "2021-11-02T06:50:55.779Z"
   },
   {
    "duration": 9687,
    "start_time": "2021-11-02T06:51:02.507Z"
   },
   {
    "duration": 10026,
    "start_time": "2021-11-02T06:51:27.724Z"
   },
   {
    "duration": 10674,
    "start_time": "2021-11-02T06:51:41.768Z"
   },
   {
    "duration": 4,
    "start_time": "2021-11-02T06:51:58.294Z"
   },
   {
    "duration": 72,
    "start_time": "2021-11-02T06:51:58.303Z"
   },
   {
    "duration": 17,
    "start_time": "2021-11-02T06:51:58.378Z"
   },
   {
    "duration": 23,
    "start_time": "2021-11-02T06:51:58.398Z"
   },
   {
    "duration": 21,
    "start_time": "2021-11-02T06:51:58.423Z"
   },
   {
    "duration": 7,
    "start_time": "2021-11-02T06:51:58.447Z"
   },
   {
    "duration": 12,
    "start_time": "2021-11-02T06:51:58.456Z"
   },
   {
    "duration": 38,
    "start_time": "2021-11-02T06:51:58.471Z"
   },
   {
    "duration": 6,
    "start_time": "2021-11-02T06:51:58.511Z"
   },
   {
    "duration": 16,
    "start_time": "2021-11-02T06:51:58.521Z"
   },
   {
    "duration": 8,
    "start_time": "2021-11-02T06:51:58.540Z"
   },
   {
    "duration": 8,
    "start_time": "2021-11-02T06:51:58.550Z"
   },
   {
    "duration": 16,
    "start_time": "2021-11-02T06:52:01.617Z"
   },
   {
    "duration": 427,
    "start_time": "2021-11-02T06:58:09.837Z"
   },
   {
    "duration": 1131,
    "start_time": "2021-11-02T06:58:43.903Z"
   },
   {
    "duration": 401,
    "start_time": "2021-11-02T06:59:48.761Z"
   },
   {
    "duration": 18,
    "start_time": "2021-11-02T07:01:42.218Z"
   },
   {
    "duration": 25,
    "start_time": "2021-11-02T07:03:58.728Z"
   },
   {
    "duration": 28,
    "start_time": "2021-11-02T07:04:05.421Z"
   },
   {
    "duration": 26,
    "start_time": "2021-11-02T07:04:20.419Z"
   },
   {
    "duration": 512,
    "start_time": "2021-11-02T07:04:53.718Z"
   },
   {
    "duration": 1401,
    "start_time": "2021-11-02T07:04:59.915Z"
   },
   {
    "duration": 70,
    "start_time": "2021-11-02T07:05:01.319Z"
   },
   {
    "duration": 22,
    "start_time": "2021-11-02T07:05:01.392Z"
   },
   {
    "duration": 16,
    "start_time": "2021-11-02T07:05:01.417Z"
   },
   {
    "duration": 34,
    "start_time": "2021-11-02T07:05:01.436Z"
   },
   {
    "duration": 21,
    "start_time": "2021-11-02T07:05:01.473Z"
   },
   {
    "duration": 35,
    "start_time": "2021-11-02T07:05:01.496Z"
   },
   {
    "duration": 40,
    "start_time": "2021-11-02T07:05:01.535Z"
   },
   {
    "duration": 17,
    "start_time": "2021-11-02T07:05:01.578Z"
   },
   {
    "duration": 31,
    "start_time": "2021-11-02T07:05:01.597Z"
   },
   {
    "duration": 19,
    "start_time": "2021-11-02T07:05:01.631Z"
   },
   {
    "duration": 15,
    "start_time": "2021-11-02T07:05:01.653Z"
   },
   {
    "duration": 1125,
    "start_time": "2021-11-02T07:09:37.538Z"
   },
   {
    "duration": 22,
    "start_time": "2021-11-02T07:10:07.859Z"
   },
   {
    "duration": 52,
    "start_time": "2021-11-02T07:10:16.655Z"
   },
   {
    "duration": 367,
    "start_time": "2021-11-02T07:11:31.593Z"
   },
   {
    "duration": 382,
    "start_time": "2021-11-02T07:16:56.289Z"
   },
   {
    "duration": 420,
    "start_time": "2021-11-02T07:17:12.946Z"
   },
   {
    "duration": 378,
    "start_time": "2021-11-02T07:17:55.837Z"
   },
   {
    "duration": 34,
    "start_time": "2021-11-02T07:18:49.743Z"
   },
   {
    "duration": 29,
    "start_time": "2021-11-02T07:19:40.729Z"
   },
   {
    "duration": 22,
    "start_time": "2021-11-02T07:19:45.767Z"
   },
   {
    "duration": 128,
    "start_time": "2021-11-02T07:21:48.964Z"
   },
   {
    "duration": 1014,
    "start_time": "2021-11-02T07:22:08.486Z"
   },
   {
    "duration": 965,
    "start_time": "2021-11-02T07:22:31.100Z"
   },
   {
    "duration": 383,
    "start_time": "2021-11-02T07:22:46.599Z"
   },
   {
    "duration": 457,
    "start_time": "2021-11-02T07:23:42.219Z"
   },
   {
    "duration": 46,
    "start_time": "2021-11-02T07:24:15.420Z"
   },
   {
    "duration": 364,
    "start_time": "2021-11-02T07:26:32.139Z"
   },
   {
    "duration": 372,
    "start_time": "2021-11-02T07:27:25.768Z"
   },
   {
    "duration": 498,
    "start_time": "2021-11-02T07:29:18.227Z"
   },
   {
    "duration": 374,
    "start_time": "2021-11-02T07:29:28.731Z"
   },
   {
    "duration": 372,
    "start_time": "2021-11-02T07:29:38.502Z"
   },
   {
    "duration": 366,
    "start_time": "2021-11-02T07:29:56.074Z"
   },
   {
    "duration": 45,
    "start_time": "2021-11-02T07:30:04.404Z"
   },
   {
    "duration": 23,
    "start_time": "2021-11-02T07:30:46.178Z"
   },
   {
    "duration": 364,
    "start_time": "2021-11-02T07:31:36.310Z"
   },
   {
    "duration": 375,
    "start_time": "2021-11-02T07:31:51.683Z"
   },
   {
    "duration": 4,
    "start_time": "2021-11-02T07:32:13.246Z"
   },
   {
    "duration": 66,
    "start_time": "2021-11-02T07:32:13.256Z"
   },
   {
    "duration": 17,
    "start_time": "2021-11-02T07:32:13.325Z"
   },
   {
    "duration": 5,
    "start_time": "2021-11-02T07:32:13.345Z"
   },
   {
    "duration": 21,
    "start_time": "2021-11-02T07:32:13.352Z"
   },
   {
    "duration": 4,
    "start_time": "2021-11-02T07:32:13.375Z"
   },
   {
    "duration": 8,
    "start_time": "2021-11-02T07:32:13.401Z"
   },
   {
    "duration": 24,
    "start_time": "2021-11-02T07:32:13.412Z"
   },
   {
    "duration": 5,
    "start_time": "2021-11-02T07:32:13.439Z"
   },
   {
    "duration": 56,
    "start_time": "2021-11-02T07:32:13.447Z"
   },
   {
    "duration": 11,
    "start_time": "2021-11-02T07:32:13.505Z"
   },
   {
    "duration": 14,
    "start_time": "2021-11-02T07:32:13.518Z"
   },
   {
    "duration": 375,
    "start_time": "2021-11-02T07:32:21.495Z"
   },
   {
    "duration": 443,
    "start_time": "2021-11-02T07:32:35.333Z"
   },
   {
    "duration": 387,
    "start_time": "2021-11-02T07:32:49.677Z"
   },
   {
    "duration": 4,
    "start_time": "2021-11-02T07:32:54.479Z"
   },
   {
    "duration": 74,
    "start_time": "2021-11-02T07:32:54.486Z"
   },
   {
    "duration": 18,
    "start_time": "2021-11-02T07:32:54.563Z"
   },
   {
    "duration": 6,
    "start_time": "2021-11-02T07:32:54.583Z"
   },
   {
    "duration": 23,
    "start_time": "2021-11-02T07:32:54.591Z"
   },
   {
    "duration": 3,
    "start_time": "2021-11-02T07:32:54.616Z"
   },
   {
    "duration": 10,
    "start_time": "2021-11-02T07:32:54.623Z"
   },
   {
    "duration": 22,
    "start_time": "2021-11-02T07:32:54.636Z"
   },
   {
    "duration": 42,
    "start_time": "2021-11-02T07:32:54.661Z"
   },
   {
    "duration": 19,
    "start_time": "2021-11-02T07:32:54.706Z"
   },
   {
    "duration": 8,
    "start_time": "2021-11-02T07:32:54.729Z"
   },
   {
    "duration": 8,
    "start_time": "2021-11-02T07:32:54.740Z"
   },
   {
    "duration": 24,
    "start_time": "2021-11-02T07:32:57.346Z"
   },
   {
    "duration": 31,
    "start_time": "2021-11-02T07:33:12.836Z"
   },
   {
    "duration": 32,
    "start_time": "2021-11-02T07:33:17.805Z"
   },
   {
    "duration": 415,
    "start_time": "2021-11-02T07:33:36.435Z"
   },
   {
    "duration": 380,
    "start_time": "2021-11-02T07:33:47.741Z"
   },
   {
    "duration": 22,
    "start_time": "2021-11-02T07:34:03.228Z"
   },
   {
    "duration": 406,
    "start_time": "2021-11-02T07:34:45.110Z"
   },
   {
    "duration": 382,
    "start_time": "2021-11-02T07:34:51.936Z"
   },
   {
    "duration": 1440,
    "start_time": "2021-11-02T07:35:56.692Z"
   },
   {
    "duration": 25,
    "start_time": "2021-11-02T07:36:20.520Z"
   },
   {
    "duration": 22,
    "start_time": "2021-11-02T07:36:47.694Z"
   },
   {
    "duration": 23,
    "start_time": "2021-11-02T07:36:56.050Z"
   },
   {
    "duration": 23,
    "start_time": "2021-11-02T07:37:02.263Z"
   },
   {
    "duration": 25,
    "start_time": "2021-11-02T07:41:14.600Z"
   },
   {
    "duration": 140,
    "start_time": "2021-11-02T07:41:31.040Z"
   },
   {
    "duration": 130,
    "start_time": "2021-11-02T07:41:38.744Z"
   },
   {
    "duration": 34,
    "start_time": "2021-11-02T07:41:45.136Z"
   },
   {
    "duration": 35,
    "start_time": "2021-11-02T07:42:37.142Z"
   },
   {
    "duration": 39,
    "start_time": "2021-11-02T07:50:19.889Z"
   },
   {
    "duration": 384,
    "start_time": "2021-11-02T07:50:46.186Z"
   },
   {
    "duration": 4,
    "start_time": "2021-11-02T07:51:20.462Z"
   },
   {
    "duration": 68,
    "start_time": "2021-11-02T07:51:20.469Z"
   },
   {
    "duration": 17,
    "start_time": "2021-11-02T07:51:20.540Z"
   },
   {
    "duration": 11,
    "start_time": "2021-11-02T07:51:20.560Z"
   },
   {
    "duration": 22,
    "start_time": "2021-11-02T07:51:20.573Z"
   },
   {
    "duration": 4,
    "start_time": "2021-11-02T07:51:20.600Z"
   },
   {
    "duration": 17,
    "start_time": "2021-11-02T07:51:20.607Z"
   },
   {
    "duration": 22,
    "start_time": "2021-11-02T07:51:20.627Z"
   },
   {
    "duration": 5,
    "start_time": "2021-11-02T07:51:20.651Z"
   },
   {
    "duration": 16,
    "start_time": "2021-11-02T07:51:20.701Z"
   },
   {
    "duration": 9,
    "start_time": "2021-11-02T07:51:20.719Z"
   },
   {
    "duration": 8,
    "start_time": "2021-11-02T07:51:20.730Z"
   },
   {
    "duration": 70,
    "start_time": "2021-11-02T07:51:20.740Z"
   },
   {
    "duration": 37,
    "start_time": "2021-11-02T07:51:24.019Z"
   },
   {
    "duration": 35,
    "start_time": "2021-11-02T07:51:29.021Z"
   },
   {
    "duration": 38,
    "start_time": "2021-11-02T07:53:41.121Z"
   },
   {
    "duration": 21,
    "start_time": "2021-11-02T07:55:03.079Z"
   },
   {
    "duration": 20,
    "start_time": "2021-11-02T07:55:20.065Z"
   },
   {
    "duration": 19,
    "start_time": "2021-11-02T07:55:32.022Z"
   },
   {
    "duration": 20,
    "start_time": "2021-11-02T07:56:17.157Z"
   },
   {
    "duration": 131,
    "start_time": "2021-11-02T08:02:52.491Z"
   },
   {
    "duration": 125,
    "start_time": "2021-11-02T08:03:30.168Z"
   },
   {
    "duration": 5,
    "start_time": "2021-11-02T08:04:12.630Z"
   },
   {
    "duration": 384,
    "start_time": "2021-11-02T08:04:24.157Z"
   },
   {
    "duration": 7,
    "start_time": "2021-11-02T08:04:28.004Z"
   },
   {
    "duration": 70,
    "start_time": "2021-11-02T08:04:28.015Z"
   },
   {
    "duration": 22,
    "start_time": "2021-11-02T08:04:28.089Z"
   },
   {
    "duration": 4,
    "start_time": "2021-11-02T08:04:28.115Z"
   },
   {
    "duration": 20,
    "start_time": "2021-11-02T08:04:28.122Z"
   },
   {
    "duration": 4,
    "start_time": "2021-11-02T08:04:28.144Z"
   },
   {
    "duration": 52,
    "start_time": "2021-11-02T08:04:28.151Z"
   },
   {
    "duration": 26,
    "start_time": "2021-11-02T08:04:28.208Z"
   },
   {
    "duration": 6,
    "start_time": "2021-11-02T08:04:28.236Z"
   },
   {
    "duration": 18,
    "start_time": "2021-11-02T08:04:28.244Z"
   },
   {
    "duration": 12,
    "start_time": "2021-11-02T08:04:28.301Z"
   },
   {
    "duration": 7,
    "start_time": "2021-11-02T08:04:28.317Z"
   },
   {
    "duration": 24,
    "start_time": "2021-11-02T08:04:28.327Z"
   },
   {
    "duration": 85,
    "start_time": "2021-11-02T08:04:28.354Z"
   },
   {
    "duration": 7,
    "start_time": "2021-11-02T08:04:28.442Z"
   },
   {
    "duration": 417,
    "start_time": "2021-11-02T08:04:28.452Z"
   },
   {
    "duration": 302,
    "start_time": "2021-11-02T08:04:28.871Z"
   },
   {
    "duration": 14,
    "start_time": "2021-11-02T08:04:29.176Z"
   },
   {
    "duration": 490,
    "start_time": "2021-11-02T08:04:33.569Z"
   },
   {
    "duration": 225,
    "start_time": "2021-11-02T08:05:22.725Z"
   },
   {
    "duration": 600,
    "start_time": "2021-11-02T08:06:00.617Z"
   },
   {
    "duration": 387,
    "start_time": "2021-11-02T08:08:11.162Z"
   },
   {
    "duration": 166,
    "start_time": "2021-11-02T08:08:28.472Z"
   },
   {
    "duration": 578,
    "start_time": "2021-11-02T08:08:34.142Z"
   },
   {
    "duration": 525,
    "start_time": "2021-11-02T08:09:08.903Z"
   },
   {
    "duration": 598,
    "start_time": "2021-11-02T08:09:23.080Z"
   },
   {
    "duration": 503,
    "start_time": "2021-11-02T08:09:30.132Z"
   },
   {
    "duration": 519,
    "start_time": "2021-11-02T08:09:37.107Z"
   },
   {
    "duration": 519,
    "start_time": "2021-11-02T08:09:47.767Z"
   },
   {
    "duration": 513,
    "start_time": "2021-11-02T08:09:54.787Z"
   },
   {
    "duration": 552,
    "start_time": "2021-11-02T08:10:01.687Z"
   },
   {
    "duration": 4,
    "start_time": "2021-11-02T08:21:17.600Z"
   },
   {
    "duration": 115,
    "start_time": "2021-11-02T08:21:17.607Z"
   },
   {
    "duration": 17,
    "start_time": "2021-11-02T08:21:17.725Z"
   },
   {
    "duration": 5,
    "start_time": "2021-11-02T08:21:17.745Z"
   },
   {
    "duration": 22,
    "start_time": "2021-11-02T08:21:17.752Z"
   },
   {
    "duration": 10,
    "start_time": "2021-11-02T08:21:17.800Z"
   },
   {
    "duration": 10,
    "start_time": "2021-11-02T08:21:17.814Z"
   },
   {
    "duration": 27,
    "start_time": "2021-11-02T08:21:17.828Z"
   },
   {
    "duration": 6,
    "start_time": "2021-11-02T08:21:17.857Z"
   },
   {
    "duration": 18,
    "start_time": "2021-11-02T08:21:17.902Z"
   },
   {
    "duration": 10,
    "start_time": "2021-11-02T08:21:17.922Z"
   },
   {
    "duration": 7,
    "start_time": "2021-11-02T08:21:17.935Z"
   },
   {
    "duration": 75,
    "start_time": "2021-11-02T08:21:17.944Z"
   },
   {
    "duration": 38,
    "start_time": "2021-11-02T08:21:18.022Z"
   },
   {
    "duration": 38,
    "start_time": "2021-11-02T08:21:18.062Z"
   },
   {
    "duration": 373,
    "start_time": "2021-11-02T08:21:18.103Z"
   },
   {
    "duration": 283,
    "start_time": "2021-11-02T08:21:18.478Z"
   },
   {
    "duration": 9,
    "start_time": "2021-11-02T08:21:18.763Z"
   },
   {
    "duration": 578,
    "start_time": "2021-11-02T08:21:18.777Z"
   },
   {
    "duration": 501,
    "start_time": "2021-11-02T08:21:19.359Z"
   },
   {
    "duration": 587,
    "start_time": "2021-11-02T08:21:19.863Z"
   },
   {
    "duration": 459,
    "start_time": "2021-11-02T08:21:20.453Z"
   },
   {
    "duration": 610,
    "start_time": "2021-11-02T08:21:20.915Z"
   },
   {
    "duration": 607,
    "start_time": "2021-11-02T08:21:21.528Z"
   },
   {
    "duration": 431,
    "start_time": "2021-11-02T08:21:22.137Z"
   },
   {
    "duration": 8,
    "start_time": "2021-11-02T08:21:22.571Z"
   },
   {
    "duration": 497,
    "start_time": "2021-11-02T08:21:22.582Z"
   },
   {
    "duration": -141,
    "start_time": "2021-11-02T08:21:23.222Z"
   },
   {
    "duration": -152,
    "start_time": "2021-11-02T08:21:23.235Z"
   },
   {
    "duration": -165,
    "start_time": "2021-11-02T08:21:23.250Z"
   },
   {
    "duration": 36,
    "start_time": "2021-11-02T08:22:26.600Z"
   },
   {
    "duration": 16,
    "start_time": "2021-11-02T08:24:05.545Z"
   },
   {
    "duration": 33,
    "start_time": "2021-11-02T08:24:22.766Z"
   },
   {
    "duration": 24,
    "start_time": "2021-11-02T08:24:34.265Z"
   },
   {
    "duration": 23,
    "start_time": "2021-11-02T08:25:03.870Z"
   },
   {
    "duration": 22,
    "start_time": "2021-11-02T08:25:14.045Z"
   },
   {
    "duration": 38,
    "start_time": "2021-11-02T08:28:53.991Z"
   },
   {
    "duration": 37,
    "start_time": "2021-11-02T08:29:14.204Z"
   },
   {
    "duration": 491,
    "start_time": "2021-11-02T08:41:54.835Z"
   },
   {
    "duration": 513,
    "start_time": "2021-11-02T08:42:03.787Z"
   },
   {
    "duration": 497,
    "start_time": "2021-11-02T08:42:16.883Z"
   },
   {
    "duration": 541,
    "start_time": "2021-11-02T08:42:47.541Z"
   },
   {
    "duration": 501,
    "start_time": "2021-11-02T08:42:58.022Z"
   },
   {
    "duration": 503,
    "start_time": "2021-11-02T08:43:14.042Z"
   },
   {
    "duration": 517,
    "start_time": "2021-11-02T08:43:28.090Z"
   },
   {
    "duration": 1401,
    "start_time": "2021-11-02T08:44:27.228Z"
   },
   {
    "duration": 87,
    "start_time": "2021-11-02T08:44:28.632Z"
   },
   {
    "duration": 21,
    "start_time": "2021-11-02T08:44:28.722Z"
   },
   {
    "duration": 4,
    "start_time": "2021-11-02T08:44:28.746Z"
   },
   {
    "duration": 21,
    "start_time": "2021-11-02T08:44:28.752Z"
   },
   {
    "duration": 8,
    "start_time": "2021-11-02T08:44:28.775Z"
   },
   {
    "duration": 20,
    "start_time": "2021-11-02T08:44:28.785Z"
   },
   {
    "duration": 28,
    "start_time": "2021-11-02T08:44:28.809Z"
   },
   {
    "duration": 5,
    "start_time": "2021-11-02T08:44:28.840Z"
   },
   {
    "duration": 18,
    "start_time": "2021-11-02T08:44:28.848Z"
   },
   {
    "duration": 7,
    "start_time": "2021-11-02T08:44:28.900Z"
   },
   {
    "duration": 19,
    "start_time": "2021-11-02T08:44:28.909Z"
   },
   {
    "duration": 743,
    "start_time": "2021-11-02T08:44:28.931Z"
   },
   {
    "duration": 44,
    "start_time": "2021-11-02T08:44:29.677Z"
   },
   {
    "duration": 16,
    "start_time": "2021-11-02T08:44:29.723Z"
   },
   {
    "duration": 375,
    "start_time": "2021-11-02T08:44:29.741Z"
   },
   {
    "duration": 293,
    "start_time": "2021-11-02T08:44:30.118Z"
   },
   {
    "duration": 10,
    "start_time": "2021-11-02T08:44:30.413Z"
   },
   {
    "duration": 617,
    "start_time": "2021-11-02T08:44:30.425Z"
   },
   {
    "duration": 505,
    "start_time": "2021-11-02T08:44:31.045Z"
   },
   {
    "duration": 600,
    "start_time": "2021-11-02T08:44:31.552Z"
   },
   {
    "duration": 612,
    "start_time": "2021-11-02T08:44:32.155Z"
   },
   {
    "duration": 532,
    "start_time": "2021-11-02T08:44:32.772Z"
   },
   {
    "duration": 614,
    "start_time": "2021-11-02T08:44:33.306Z"
   },
   {
    "duration": 515,
    "start_time": "2021-11-02T08:44:33.924Z"
   },
   {
    "duration": 7,
    "start_time": "2021-11-02T08:44:34.441Z"
   },
   {
    "duration": 56,
    "start_time": "2021-11-02T08:44:34.450Z"
   },
   {
    "duration": 15,
    "start_time": "2021-11-02T08:44:34.508Z"
   },
   {
    "duration": 32,
    "start_time": "2021-11-02T08:44:34.525Z"
   },
   {
    "duration": 54,
    "start_time": "2021-11-02T08:44:34.559Z"
   }
  ],
  "kernelspec": {
   "display_name": "Python 3",
   "language": "python",
   "name": "python3"
  },
  "language_info": {
   "codemirror_mode": {
    "name": "ipython",
    "version": 3
   },
   "file_extension": ".py",
   "mimetype": "text/x-python",
   "name": "python",
   "nbconvert_exporter": "python",
   "pygments_lexer": "ipython3",
   "version": "3.8.8"
  },
  "toc": {
   "base_numbering": 1,
   "nav_menu": {},
   "number_sections": true,
   "sideBar": true,
   "skip_h1_title": true,
   "title_cell": "Table of Contents",
   "title_sidebar": "Contents",
   "toc_cell": false,
   "toc_position": {
    "height": "calc(100% - 180px)",
    "left": "10px",
    "top": "150px",
    "width": "284.225px"
   },
   "toc_section_display": true,
   "toc_window_display": true
  }
 },
 "nbformat": 4,
 "nbformat_minor": 4
}
