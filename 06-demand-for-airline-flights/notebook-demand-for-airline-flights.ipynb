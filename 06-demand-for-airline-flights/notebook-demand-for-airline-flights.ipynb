{
 "cells": [
  {
   "cell_type": "markdown",
   "metadata": {},
   "source": [
    "# Аналитика в авиакомпании"
   ]
  },
  {
   "cell_type": "markdown",
   "metadata": {},
   "source": [
    "В результате предварительного парсинга и SQL-запросов данные об авиарейсах компании F9 сформированы в двух таблицах. \n",
    "\n",
    "Первая содержит модели самолетов и количество рейсов, совершенных для каждой модели в сентябре 2018 года. Вторая таблица содержит список городов и среднее число рейсов, прибывающих в город за день в августе 2018 года.\n",
    "\n",
    "Определим популярные модели самолетов, как распределено число полётов в зависимости от города назначения и топ-10 городов по числу рейсов.  "
   ]
  },
  {
   "cell_type": "markdown",
   "metadata": {},
   "source": [
    "## Загрузка и обзор данных"
   ]
  },
  {
   "cell_type": "markdown",
   "metadata": {},
   "source": [
    "Загрузка необходимых библиотек"
   ]
  },
  {
   "cell_type": "code",
   "execution_count": 1,
   "metadata": {},
   "outputs": [],
   "source": [
    "import pandas as pd\n",
    "import matplotlib.pyplot as plt"
   ]
  },
  {
   "cell_type": "markdown",
   "metadata": {},
   "source": [
    "Загрузка данных, обзор и вывод таблицы:"
   ]
  },
  {
   "cell_type": "code",
   "execution_count": 2,
   "metadata": {},
   "outputs": [
    {
     "name": "stdout",
     "output_type": "stream",
     "text": [
      "<class 'pandas.core.frame.DataFrame'>\n",
      "RangeIndex: 8 entries, 0 to 7\n",
      "Data columns (total 2 columns):\n",
      " #   Column          Non-Null Count  Dtype \n",
      "---  ------          --------------  ----- \n",
      " 0   model           8 non-null      object\n",
      " 1   flights_amount  8 non-null      int64 \n",
      "dtypes: int64(1), object(1)\n",
      "memory usage: 256.0+ bytes\n"
     ]
    }
   ],
   "source": [
    "aircrafts = pd.read_csv('datasets/query_1.csv')\n",
    "aircrafts.info()"
   ]
  },
  {
   "cell_type": "code",
   "execution_count": 3,
   "metadata": {},
   "outputs": [
    {
     "data": {
      "text/html": [
       "<div>\n",
       "<style scoped>\n",
       "    .dataframe tbody tr th:only-of-type {\n",
       "        vertical-align: middle;\n",
       "    }\n",
       "\n",
       "    .dataframe tbody tr th {\n",
       "        vertical-align: top;\n",
       "    }\n",
       "\n",
       "    .dataframe thead th {\n",
       "        text-align: right;\n",
       "    }\n",
       "</style>\n",
       "<table border=\"1\" class=\"dataframe\">\n",
       "  <thead>\n",
       "    <tr style=\"text-align: right;\">\n",
       "      <th></th>\n",
       "      <th>model</th>\n",
       "      <th>flights_amount</th>\n",
       "    </tr>\n",
       "  </thead>\n",
       "  <tbody>\n",
       "    <tr>\n",
       "      <th>0</th>\n",
       "      <td>Airbus A319-100</td>\n",
       "      <td>607</td>\n",
       "    </tr>\n",
       "    <tr>\n",
       "      <th>1</th>\n",
       "      <td>Airbus A321-200</td>\n",
       "      <td>960</td>\n",
       "    </tr>\n",
       "    <tr>\n",
       "      <th>2</th>\n",
       "      <td>Boeing 737-300</td>\n",
       "      <td>630</td>\n",
       "    </tr>\n",
       "    <tr>\n",
       "      <th>3</th>\n",
       "      <td>Boeing 767-300</td>\n",
       "      <td>600</td>\n",
       "    </tr>\n",
       "    <tr>\n",
       "      <th>4</th>\n",
       "      <td>Boeing 777-300</td>\n",
       "      <td>300</td>\n",
       "    </tr>\n",
       "    <tr>\n",
       "      <th>5</th>\n",
       "      <td>Bombardier CRJ-200</td>\n",
       "      <td>4446</td>\n",
       "    </tr>\n",
       "    <tr>\n",
       "      <th>6</th>\n",
       "      <td>Cessna 208 Caravan</td>\n",
       "      <td>4557</td>\n",
       "    </tr>\n",
       "    <tr>\n",
       "      <th>7</th>\n",
       "      <td>Sukhoi SuperJet-100</td>\n",
       "      <td>4185</td>\n",
       "    </tr>\n",
       "  </tbody>\n",
       "</table>\n",
       "</div>"
      ],
      "text/plain": [
       "                 model  flights_amount\n",
       "0      Airbus A319-100             607\n",
       "1      Airbus A321-200             960\n",
       "2       Boeing 737-300             630\n",
       "3       Boeing 767-300             600\n",
       "4       Boeing 777-300             300\n",
       "5   Bombardier CRJ-200            4446\n",
       "6   Cessna 208 Caravan            4557\n",
       "7  Sukhoi SuperJet-100            4185"
      ]
     },
     "execution_count": 3,
     "metadata": {},
     "output_type": "execute_result"
    }
   ],
   "source": [
    "aircrafts"
   ]
  },
  {
   "cell_type": "markdown",
   "metadata": {},
   "source": [
    "Таблица состоит  из двух стоблбцов  - модель самолёта и число полётов. Таблица содержит 8 строк, пустых значений нет, типы данных корректные."
   ]
  },
  {
   "cell_type": "code",
   "execution_count": 4,
   "metadata": {},
   "outputs": [
    {
     "name": "stdout",
     "output_type": "stream",
     "text": [
      "<class 'pandas.core.frame.DataFrame'>\n",
      "RangeIndex: 101 entries, 0 to 100\n",
      "Data columns (total 2 columns):\n",
      " #   Column           Non-Null Count  Dtype  \n",
      "---  ------           --------------  -----  \n",
      " 0   city             101 non-null    object \n",
      " 1   average_flights  101 non-null    float64\n",
      "dtypes: float64(1), object(1)\n",
      "memory usage: 1.7+ KB\n"
     ]
    }
   ],
   "source": [
    "cities = pd.read_csv('datasets/query_3.csv')\n",
    "cities.info()"
   ]
  },
  {
   "cell_type": "code",
   "execution_count": 5,
   "metadata": {},
   "outputs": [
    {
     "data": {
      "text/html": [
       "<div>\n",
       "<style scoped>\n",
       "    .dataframe tbody tr th:only-of-type {\n",
       "        vertical-align: middle;\n",
       "    }\n",
       "\n",
       "    .dataframe tbody tr th {\n",
       "        vertical-align: top;\n",
       "    }\n",
       "\n",
       "    .dataframe thead th {\n",
       "        text-align: right;\n",
       "    }\n",
       "</style>\n",
       "<table border=\"1\" class=\"dataframe\">\n",
       "  <thead>\n",
       "    <tr style=\"text-align: right;\">\n",
       "      <th></th>\n",
       "      <th>city</th>\n",
       "      <th>average_flights</th>\n",
       "    </tr>\n",
       "  </thead>\n",
       "  <tbody>\n",
       "    <tr>\n",
       "      <th>39</th>\n",
       "      <td>Магнитогорск</td>\n",
       "      <td>4.000000</td>\n",
       "    </tr>\n",
       "    <tr>\n",
       "      <th>94</th>\n",
       "      <td>Челябинск</td>\n",
       "      <td>6.709677</td>\n",
       "    </tr>\n",
       "    <tr>\n",
       "      <th>69</th>\n",
       "      <td>Самара</td>\n",
       "      <td>3.000000</td>\n",
       "    </tr>\n",
       "    <tr>\n",
       "      <th>85</th>\n",
       "      <td>Урай</td>\n",
       "      <td>2.000000</td>\n",
       "    </tr>\n",
       "    <tr>\n",
       "      <th>47</th>\n",
       "      <td>Нарьян-Мар</td>\n",
       "      <td>2.612903</td>\n",
       "    </tr>\n",
       "    <tr>\n",
       "      <th>17</th>\n",
       "      <td>Геленджик</td>\n",
       "      <td>2.590909</td>\n",
       "    </tr>\n",
       "    <tr>\n",
       "      <th>44</th>\n",
       "      <td>Мурманск</td>\n",
       "      <td>2.000000</td>\n",
       "    </tr>\n",
       "    <tr>\n",
       "      <th>74</th>\n",
       "      <td>Сочи</td>\n",
       "      <td>9.612903</td>\n",
       "    </tr>\n",
       "    <tr>\n",
       "      <th>2</th>\n",
       "      <td>Анапа</td>\n",
       "      <td>2.161290</td>\n",
       "    </tr>\n",
       "    <tr>\n",
       "      <th>65</th>\n",
       "      <td>Петропавловск-Камчатский</td>\n",
       "      <td>1.000000</td>\n",
       "    </tr>\n",
       "  </tbody>\n",
       "</table>\n",
       "</div>"
      ],
      "text/plain": [
       "                        city  average_flights\n",
       "39              Магнитогорск         4.000000\n",
       "94                 Челябинск         6.709677\n",
       "69                    Самара         3.000000\n",
       "85                      Урай         2.000000\n",
       "47                Нарьян-Мар         2.612903\n",
       "17                 Геленджик         2.590909\n",
       "44                  Мурманск         2.000000\n",
       "74                      Сочи         9.612903\n",
       "2                      Анапа         2.161290\n",
       "65  Петропавловск-Камчатский         1.000000"
      ]
     },
     "execution_count": 5,
     "metadata": {},
     "output_type": "execute_result"
    }
   ],
   "source": [
    "cities.sample(10)"
   ]
  },
  {
   "cell_type": "markdown",
   "metadata": {},
   "source": [
    "Таблица состоит из двух столбцов  - название города и среднее число рейсов, прибывающих в город за день. Таблица содержит 101 строку, пустых значений нет, типы данных корректные. Проверим данные на дубликаты"
   ]
  },
  {
   "cell_type": "code",
   "execution_count": 6,
   "metadata": {},
   "outputs": [
    {
     "data": {
      "text/plain": [
       "0"
      ]
     },
     "execution_count": 6,
     "metadata": {},
     "output_type": "execute_result"
    }
   ],
   "source": [
    "cities.duplicated().sum()"
   ]
  },
  {
   "cell_type": "markdown",
   "metadata": {},
   "source": [
    "Дубликатов не обнаружено."
   ]
  },
  {
   "cell_type": "markdown",
   "metadata": {},
   "source": [
    "**Вывод:**\n",
    "\n",
    "Полученные данные представлены в корректном виде, пропусков и дубликатов нет, можно переходить к анализу."
   ]
  },
  {
   "cell_type": "markdown",
   "metadata": {},
   "source": [
    "## Анализ данных"
   ]
  },
  {
   "cell_type": "markdown",
   "metadata": {},
   "source": [
    "### Зависимость числа рейсов, от модели самолёта"
   ]
  },
  {
   "cell_type": "markdown",
   "metadata": {},
   "source": [
    "Определим, на каких самолётах чаще совершали рейсы в августе 2018 года, построим график распределения числа рейсов в зависимости от модели самолета:"
   ]
  },
  {
   "cell_type": "code",
   "execution_count": 7,
   "metadata": {},
   "outputs": [
    {
     "data": {
      "image/png": "[encoded data removed]",
      "text/plain": [
       "<Figure size 864x288 with 1 Axes>"
      ]
     },
     "metadata": {
      "needs_background": "light"
     },
     "output_type": "display_data"
    }
   ],
   "source": [
    "aircrafts.sort_values(by = 'flights_amount', ascending = False).plot(x= 'model', y = 'flights_amount', kind = 'bar', figsize = (12, 4), legend=False)\n",
    "\n",
    "plt.ylabel('Число полётов')\n",
    "plt.xlabel('Модель')\n",
    "plt.title(\n",
    "    \"\"\"Распределение числа рейсов в зависимости от модели самолёта,\n",
    "    август 2018\"\"\")\n",
    "plt.show()"
   ]
  },
  {
   "cell_type": "markdown",
   "metadata": {},
   "source": [
    "**Вывод:**\n",
    "\n",
    "В августе 2018 года, основная часть рейсов совершена на самолетах моделей Cessna 208 Caravan, Bombardier CRJ-200 и Sukhoi SuperJet-100. Вероятно, эти модели, обладая малой пассажировместимостью, совершали более короткие, но частые рейсы."
   ]
  },
  {
   "cell_type": "markdown",
   "metadata": {},
   "source": [
    "### Топ-10 городов по количеству рейсов"
   ]
  },
  {
   "cell_type": "markdown",
   "metadata": {},
   "source": [
    "Построим график распределения числа рейсов по городам:"
   ]
  },
  {
   "cell_type": "code",
   "execution_count": 8,
   "metadata": {},
   "outputs": [
    {
     "data": {
      "image/png": "[encoded data removed]",
      "text/plain": [
       "<Figure size 1296x288 with 1 Axes>"
      ]
     },
     "metadata": {
      "needs_background": "light"
     },
     "output_type": "display_data"
    }
   ],
   "source": [
    "cities.sort_values(by = 'average_flights', ascending = False).plot(\n",
    "    x= 'city', \n",
    "    y = 'average_flights', \n",
    "    kind = 'bar', \n",
    "    figsize = (18, 4),\n",
    "    legend=False\n",
    ")\n",
    "\n",
    "plt.ylabel('Число рейсов')\n",
    "plt.xlabel('Город')\n",
    "plt.title(\n",
    "    \"\"\"Распределение числа рейсов в зависимости от города,\n",
    "    август 2018\"\"\")\n",
    "plt.show()"
   ]
  },
  {
   "cell_type": "markdown",
   "metadata": {},
   "source": [
    "Выберем топ-10 городов по количеству рейсов:"
   ]
  },
  {
   "cell_type": "code",
   "execution_count": 9,
   "metadata": {},
   "outputs": [
    {
     "data": {
      "text/html": [
       "<div>\n",
       "<style scoped>\n",
       "    .dataframe tbody tr th:only-of-type {\n",
       "        vertical-align: middle;\n",
       "    }\n",
       "\n",
       "    .dataframe tbody tr th {\n",
       "        vertical-align: top;\n",
       "    }\n",
       "\n",
       "    .dataframe thead th {\n",
       "        text-align: right;\n",
       "    }\n",
       "</style>\n",
       "<table border=\"1\" class=\"dataframe\">\n",
       "  <thead>\n",
       "    <tr style=\"text-align: right;\">\n",
       "      <th></th>\n",
       "      <th>city</th>\n",
       "      <th>average_flights</th>\n",
       "    </tr>\n",
       "  </thead>\n",
       "  <tbody>\n",
       "    <tr>\n",
       "      <th>0</th>\n",
       "      <td>Москва</td>\n",
       "      <td>130.0</td>\n",
       "    </tr>\n",
       "    <tr>\n",
       "      <th>1</th>\n",
       "      <td>Санкт-Петербург</td>\n",
       "      <td>31.0</td>\n",
       "    </tr>\n",
       "    <tr>\n",
       "      <th>2</th>\n",
       "      <td>Новосибирск</td>\n",
       "      <td>17.0</td>\n",
       "    </tr>\n",
       "    <tr>\n",
       "      <th>3</th>\n",
       "      <td>Красноярск</td>\n",
       "      <td>12.0</td>\n",
       "    </tr>\n",
       "    <tr>\n",
       "      <th>4</th>\n",
       "      <td>Екатеринбург</td>\n",
       "      <td>11.0</td>\n",
       "    </tr>\n",
       "    <tr>\n",
       "      <th>5</th>\n",
       "      <td>Ростов-на-Дону</td>\n",
       "      <td>10.0</td>\n",
       "    </tr>\n",
       "    <tr>\n",
       "      <th>6</th>\n",
       "      <td>Пермь</td>\n",
       "      <td>10.0</td>\n",
       "    </tr>\n",
       "    <tr>\n",
       "      <th>7</th>\n",
       "      <td>Брянск</td>\n",
       "      <td>10.0</td>\n",
       "    </tr>\n",
       "    <tr>\n",
       "      <th>8</th>\n",
       "      <td>Сочи</td>\n",
       "      <td>10.0</td>\n",
       "    </tr>\n",
       "    <tr>\n",
       "      <th>9</th>\n",
       "      <td>Ульяновск</td>\n",
       "      <td>10.0</td>\n",
       "    </tr>\n",
       "  </tbody>\n",
       "</table>\n",
       "</div>"
      ],
      "text/plain": [
       "              city  average_flights\n",
       "0           Москва            130.0\n",
       "1  Санкт-Петербург             31.0\n",
       "2      Новосибирск             17.0\n",
       "3       Красноярск             12.0\n",
       "4     Екатеринбург             11.0\n",
       "5   Ростов-на-Дону             10.0\n",
       "6            Пермь             10.0\n",
       "7           Брянск             10.0\n",
       "8             Сочи             10.0\n",
       "9        Ульяновск             10.0"
      ]
     },
     "execution_count": 9,
     "metadata": {},
     "output_type": "execute_result"
    }
   ],
   "source": [
    "city_top10 = cities.sort_values(by = 'average_flights', ascending = False).head(10).reset_index(drop=True)\n",
    "city_top10['average_flights'] = city_top10['average_flights'].round()\n",
    "city_top10"
   ]
  },
  {
   "cell_type": "code",
   "execution_count": 11,
   "metadata": {},
   "outputs": [
    {
     "data": {
      "image/png": "[encoded data removed]",
      "text/plain": [
       "<Figure size 1296x288 with 1 Axes>"
      ]
     },
     "metadata": {
      "needs_background": "light"
     },
     "output_type": "display_data"
    }
   ],
   "source": [
    "city_top10.plot(\n",
    "    x= 'city', \n",
    "    y = 'average_flights', \n",
    "    kind = 'bar', \n",
    "    figsize = (18, 4),\n",
    "    legend=False\n",
    ")\n",
    "\n",
    "plt.ylabel('Число рейсов')\n",
    "plt.xlabel('Город')\n",
    "plt.title(\n",
    "    \"\"\"Топ-10 городов по числу рейсов в день,\n",
    "    август 2018\"\"\")\n",
    "plt.show()"
   ]
  },
  {
   "cell_type": "markdown",
   "metadata": {},
   "source": [
    "**Вывод:**\n",
    "\n",
    "В топ-10 городов по числу совершенных рейсов вошли:\n",
    "- Москва\n",
    "- Санкт-Петербург\n",
    "- Новосибирск\n",
    "- Красноярск\n",
    "- Екатеринбург\n",
    "- Ростов-на-Дону\n",
    "- Пермь\n",
    "- Брянск\n",
    "- Сочи\n",
    "- Ульяновск\n",
    "\n",
    "Первое место ожидаемо занимает Москва. Помимо статуса столицы и самого крупного населения по стране, Москва имеет большее число аэропортов. В среднем, Москва принимала в августе 2018 года 130 рейсов в день. На втором месте Санкт-Петербург (31), следом Новосибирск (17) Замыкает рейтинг Ульяновск - в среднем 10 рейсов в день, что на 120 меньше, чем у Москвы."
   ]
  },
  {
   "cell_type": "markdown",
   "metadata": {},
   "source": [
    "## Общий вывод"
   ]
  },
  {
   "cell_type": "markdown",
   "metadata": {},
   "source": [
    "Данные, сформированные в результате парсинга и SQL-запросов представлены в корректном виде, без пропущенных значений и дубликатов.\n",
    "\n",
    "По полученным данным построены графики распределения числа рейсов в зависимости от модели самолета и города прибытия. Определены города с наибольшим средним числом рейсов в день в августе 2018 года.\n",
    "\n",
    "В августе 2018 года, основная часть рейсов совершена на самолетах моделей Cessna 208 Caravan, Bombardier CRJ-200 и Sukhoi SuperJet-100. Вероятно, эти модели, обладая малой пассажировместимостью, совершали более короткие, но частые рейсы.\n",
    "\n",
    "Первое место по числу совершенных рейсов занимает Москва. Помимо статуса столицы и самого крупного населения по стране, Москва имеет большее число аэропортов. В среднем, Москва принимала в августе 2018 года почти 130 рейсов в день (129.8). На втором месте Санкт-Петербург (31.2), следом Новосибирск (17.3) Замыкает рейтинг Ульяновск - в среднем 9.5 рейсов в день, что на 120 меньше, чем у Москвы."
   ]
  }
 ],
 "metadata": {
  "ExecuteTimeLog": [
   {
    "duration": 528,
    "start_time": "2021-10-04T12:29:03.425Z"
   },
   {
    "duration": 17,
    "start_time": "2021-10-04T12:30:11.415Z"
   },
   {
    "duration": 12,
    "start_time": "2021-10-04T12:30:17.366Z"
   },
   {
    "duration": 20,
    "start_time": "2021-10-04T12:30:28.173Z"
   },
   {
    "duration": 16,
    "start_time": "2021-10-04T12:31:24.557Z"
   },
   {
    "duration": 22,
    "start_time": "2021-10-04T12:31:31.172Z"
   },
   {
    "duration": 19,
    "start_time": "2021-10-04T12:48:01.345Z"
   },
   {
    "duration": 7,
    "start_time": "2021-10-04T12:48:10.165Z"
   },
   {
    "duration": 19,
    "start_time": "2021-10-04T12:50:45.385Z"
   },
   {
    "duration": 8,
    "start_time": "2021-10-04T12:51:08.208Z"
   },
   {
    "duration": 6,
    "start_time": "2021-10-04T12:53:35.955Z"
   },
   {
    "duration": 6,
    "start_time": "2021-10-04T12:53:42.091Z"
   },
   {
    "duration": 66,
    "start_time": "2021-10-04T12:58:06.548Z"
   },
   {
    "duration": 9,
    "start_time": "2021-10-04T12:58:23.020Z"
   },
   {
    "duration": 9,
    "start_time": "2021-10-04T12:59:01.946Z"
   },
   {
    "duration": 9,
    "start_time": "2021-10-04T12:59:18.946Z"
   },
   {
    "duration": 70,
    "start_time": "2021-10-04T13:09:17.617Z"
   },
   {
    "duration": 227,
    "start_time": "2021-10-04T13:10:45.068Z"
   },
   {
    "duration": 241,
    "start_time": "2021-10-04T13:12:21.945Z"
   },
   {
    "duration": 212,
    "start_time": "2021-10-04T13:12:43.976Z"
   },
   {
    "duration": 530,
    "start_time": "2021-10-04T13:12:53.121Z"
   },
   {
    "duration": 241,
    "start_time": "2021-10-04T13:12:57.392Z"
   },
   {
    "duration": 241,
    "start_time": "2021-10-04T13:13:50.831Z"
   },
   {
    "duration": 185,
    "start_time": "2021-10-04T13:13:55.688Z"
   },
   {
    "duration": 202,
    "start_time": "2021-10-04T13:14:03.887Z"
   },
   {
    "duration": 190,
    "start_time": "2021-10-04T13:17:00.129Z"
   },
   {
    "duration": 19,
    "start_time": "2021-10-04T13:18:19.693Z"
   },
   {
    "duration": 223,
    "start_time": "2021-10-04T13:20:32.715Z"
   },
   {
    "duration": 217,
    "start_time": "2021-10-04T13:20:57.473Z"
   },
   {
    "duration": 1502,
    "start_time": "2021-10-04T16:52:47.398Z"
   },
   {
    "duration": 253,
    "start_time": "2021-10-04T16:55:56.622Z"
   },
   {
    "duration": 255,
    "start_time": "2021-10-04T16:57:41.219Z"
   },
   {
    "duration": 218,
    "start_time": "2021-10-04T17:19:14.604Z"
   },
   {
    "duration": 629,
    "start_time": "2021-10-04T17:25:45.388Z"
   },
   {
    "duration": 20,
    "start_time": "2021-10-04T17:25:46.018Z"
   },
   {
    "duration": 11,
    "start_time": "2021-10-04T17:25:46.040Z"
   },
   {
    "duration": 18,
    "start_time": "2021-10-04T17:25:46.052Z"
   },
   {
    "duration": 7,
    "start_time": "2021-10-04T17:25:46.072Z"
   },
   {
    "duration": 18,
    "start_time": "2021-10-04T17:25:46.081Z"
   },
   {
    "duration": 230,
    "start_time": "2021-10-04T17:25:46.101Z"
   },
   {
    "duration": 1495,
    "start_time": "2021-10-04T17:25:46.333Z"
   },
   {
    "duration": 9,
    "start_time": "2021-10-04T17:25:47.830Z"
   },
   {
    "duration": 325,
    "start_time": "2021-10-04T17:25:47.841Z"
   }
  ],
  "kernelspec": {
   "display_name": "Python 3",
   "language": "python",
   "name": "python3"
  },
  "language_info": {
   "codemirror_mode": {
    "name": "ipython",
    "version": 3
   },
   "file_extension": ".py",
   "mimetype": "text/x-python",
   "name": "python",
   "nbconvert_exporter": "python",
   "pygments_lexer": "ipython3",
   "version": "3.8.8"
  },
  "toc": {
   "base_numbering": 1,
   "nav_menu": {},
   "number_sections": true,
   "sideBar": true,
   "skip_h1_title": true,
   "title_cell": "Table of Contents",
   "title_sidebar": "Contents",
   "toc_cell": false,
   "toc_position": {},
   "toc_section_display": true,
   "toc_window_display": false
  }
 },
 "nbformat": 4,
 "nbformat_minor": 4
}
