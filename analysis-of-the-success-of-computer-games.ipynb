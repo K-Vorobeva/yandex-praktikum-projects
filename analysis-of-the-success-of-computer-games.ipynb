{
 "cells": [
  {
   "cell_type": "markdown",
   "metadata": {},
   "source": [
    "# Определение успешности компьютерных игр"
   ]
  },
  {
   "cell_type": "markdown",
   "metadata": {},
   "source": [
    "Магазин Стримчик продаёт видео-игры по всему миру. Нужно выявить определяющие успешность игры закономерности - влияет ли на продажу жанр игры,игровая платформа и регион пользователя. Это позволит сделать ставку на потенциально популярный продукт и спланировать рекламные кампании.\n",
    "\n",
    "Из открытых источников доступны исторические данные  до 2016 года (за 2016 год данные могут быть не полными) о продажах игр, оценки пользователей и экспертов, жанры и платформы. Данные могут содержать пропуски.\n",
    "\n",
    "Исследовательский анализ данных включает в себя:\n",
    "\n",
    "- обзор и предобработку данных\n",
    "- определение актуального периода для дальнейшего исследования\n",
    "- определение потенциально-прибыльных плаьформ\n",
    "- опредеделение потенциально-прибыльных жанров\n",
    "- определение предпочтений игроков, в зависимости от региона (североамериканский, европейский, японский)\n",
    "- проверка гипотезы о влияниииплатформы на пользовательский рейтинг\n",
    "- проверка гипотезы о влиянии жанра игры на пользовательский рейтинг\n"
   ]
  },
  {
   "cell_type": "markdown",
   "metadata": {},
   "source": [
    "## Загрузка и обзор данных"
   ]
  },
  {
   "cell_type": "markdown",
   "metadata": {},
   "source": [
    "Загрузка необходимых библиотек:"
   ]
  },
  {
   "cell_type": "code",
   "execution_count": 1,
   "metadata": {},
   "outputs": [],
   "source": [
    "import pandas as pd\n",
    "import numpy as np\n",
    "import matplotlib.pyplot as plt\n",
    "import scipy.stats as st\n",
    "import matplotlib.ticker as ticker\n",
    "import seaborn as sns\n",
    "import warnings\n",
    "warnings.filterwarnings(\"ignore\", category=Warning)"
   ]
  },
  {
   "cell_type": "markdown",
   "metadata": {},
   "source": [
    "Откроем данные, выведем 5 случайных строк, выведем общую информацию по таблице и проверим на аномалии методом describe:"
   ]
  },
  {
   "cell_type": "code",
   "execution_count": 2,
   "metadata": {},
   "outputs": [
    {
     "name": "stdout",
     "output_type": "stream",
     "text": [
      "<class 'pandas.core.frame.DataFrame'>\n",
      "RangeIndex: 16715 entries, 0 to 16714\n",
      "Data columns (total 11 columns):\n",
      "Name               16713 non-null object\n",
      "Platform           16715 non-null object\n",
      "Year_of_Release    16446 non-null float64\n",
      "Genre              16713 non-null object\n",
      "NA_sales           16715 non-null float64\n",
      "EU_sales           16715 non-null float64\n",
      "JP_sales           16715 non-null float64\n",
      "Other_sales        16715 non-null float64\n",
      "Critic_Score       8137 non-null float64\n",
      "User_Score         10014 non-null object\n",
      "Rating             9949 non-null object\n",
      "dtypes: float64(6), object(5)\n",
      "memory usage: 1.4+ MB\n"
     ]
    },
    {
     "data": {
      "text/html": [
       "<div>\n",
       "<style scoped>\n",
       "    .dataframe tbody tr th:only-of-type {\n",
       "        vertical-align: middle;\n",
       "    }\n",
       "\n",
       "    .dataframe tbody tr th {\n",
       "        vertical-align: top;\n",
       "    }\n",
       "\n",
       "    .dataframe thead th {\n",
       "        text-align: right;\n",
       "    }\n",
       "</style>\n",
       "<table border=\"1\" class=\"dataframe\">\n",
       "  <thead>\n",
       "    <tr style=\"text-align: right;\">\n",
       "      <th></th>\n",
       "      <th>count</th>\n",
       "      <th>mean</th>\n",
       "      <th>std</th>\n",
       "      <th>min</th>\n",
       "      <th>25%</th>\n",
       "      <th>50%</th>\n",
       "      <th>75%</th>\n",
       "      <th>max</th>\n",
       "    </tr>\n",
       "  </thead>\n",
       "  <tbody>\n",
       "    <tr>\n",
       "      <td>Year_of_Release</td>\n",
       "      <td>16446.0</td>\n",
       "      <td>2006.484616</td>\n",
       "      <td>5.877050</td>\n",
       "      <td>1980.0</td>\n",
       "      <td>2003.0</td>\n",
       "      <td>2007.00</td>\n",
       "      <td>2010.00</td>\n",
       "      <td>2016.00</td>\n",
       "    </tr>\n",
       "    <tr>\n",
       "      <td>NA_sales</td>\n",
       "      <td>16715.0</td>\n",
       "      <td>0.263377</td>\n",
       "      <td>0.813604</td>\n",
       "      <td>0.0</td>\n",
       "      <td>0.0</td>\n",
       "      <td>0.08</td>\n",
       "      <td>0.24</td>\n",
       "      <td>41.36</td>\n",
       "    </tr>\n",
       "    <tr>\n",
       "      <td>EU_sales</td>\n",
       "      <td>16715.0</td>\n",
       "      <td>0.145060</td>\n",
       "      <td>0.503339</td>\n",
       "      <td>0.0</td>\n",
       "      <td>0.0</td>\n",
       "      <td>0.02</td>\n",
       "      <td>0.11</td>\n",
       "      <td>28.96</td>\n",
       "    </tr>\n",
       "    <tr>\n",
       "      <td>JP_sales</td>\n",
       "      <td>16715.0</td>\n",
       "      <td>0.077617</td>\n",
       "      <td>0.308853</td>\n",
       "      <td>0.0</td>\n",
       "      <td>0.0</td>\n",
       "      <td>0.00</td>\n",
       "      <td>0.04</td>\n",
       "      <td>10.22</td>\n",
       "    </tr>\n",
       "    <tr>\n",
       "      <td>Other_sales</td>\n",
       "      <td>16715.0</td>\n",
       "      <td>0.047342</td>\n",
       "      <td>0.186731</td>\n",
       "      <td>0.0</td>\n",
       "      <td>0.0</td>\n",
       "      <td>0.01</td>\n",
       "      <td>0.03</td>\n",
       "      <td>10.57</td>\n",
       "    </tr>\n",
       "    <tr>\n",
       "      <td>Critic_Score</td>\n",
       "      <td>8137.0</td>\n",
       "      <td>68.967679</td>\n",
       "      <td>13.938165</td>\n",
       "      <td>13.0</td>\n",
       "      <td>60.0</td>\n",
       "      <td>71.00</td>\n",
       "      <td>79.00</td>\n",
       "      <td>98.00</td>\n",
       "    </tr>\n",
       "  </tbody>\n",
       "</table>\n",
       "</div>"
      ],
      "text/plain": [
       "                   count         mean        std     min     25%      50%  \\\n",
       "Year_of_Release  16446.0  2006.484616   5.877050  1980.0  2003.0  2007.00   \n",
       "NA_sales         16715.0     0.263377   0.813604     0.0     0.0     0.08   \n",
       "EU_sales         16715.0     0.145060   0.503339     0.0     0.0     0.02   \n",
       "JP_sales         16715.0     0.077617   0.308853     0.0     0.0     0.00   \n",
       "Other_sales      16715.0     0.047342   0.186731     0.0     0.0     0.01   \n",
       "Critic_Score      8137.0    68.967679  13.938165    13.0    60.0    71.00   \n",
       "\n",
       "                     75%      max  \n",
       "Year_of_Release  2010.00  2016.00  \n",
       "NA_sales            0.24    41.36  \n",
       "EU_sales            0.11    28.96  \n",
       "JP_sales            0.04    10.22  \n",
       "Other_sales         0.03    10.57  \n",
       "Critic_Score       79.00    98.00  "
      ]
     },
     "execution_count": 2,
     "metadata": {},
     "output_type": "execute_result"
    }
   ],
   "source": [
    "data = pd.read_csv('/datasets/games.csv')\n",
    "data.info()\n",
    "data.describe().T"
   ]
  },
  {
   "cell_type": "code",
   "execution_count": 3,
   "metadata": {
    "scrolled": true
   },
   "outputs": [
    {
     "data": {
      "text/html": [
       "<div>\n",
       "<style scoped>\n",
       "    .dataframe tbody tr th:only-of-type {\n",
       "        vertical-align: middle;\n",
       "    }\n",
       "\n",
       "    .dataframe tbody tr th {\n",
       "        vertical-align: top;\n",
       "    }\n",
       "\n",
       "    .dataframe thead th {\n",
       "        text-align: right;\n",
       "    }\n",
       "</style>\n",
       "<table border=\"1\" class=\"dataframe\">\n",
       "  <thead>\n",
       "    <tr style=\"text-align: right;\">\n",
       "      <th></th>\n",
       "      <th>Name</th>\n",
       "      <th>Platform</th>\n",
       "      <th>Year_of_Release</th>\n",
       "      <th>Genre</th>\n",
       "      <th>NA_sales</th>\n",
       "      <th>EU_sales</th>\n",
       "      <th>JP_sales</th>\n",
       "      <th>Other_sales</th>\n",
       "      <th>Critic_Score</th>\n",
       "      <th>User_Score</th>\n",
       "      <th>Rating</th>\n",
       "    </tr>\n",
       "  </thead>\n",
       "  <tbody>\n",
       "    <tr>\n",
       "      <td>1868</td>\n",
       "      <td>GRID</td>\n",
       "      <td>PS3</td>\n",
       "      <td>2008.0</td>\n",
       "      <td>Racing</td>\n",
       "      <td>0.31</td>\n",
       "      <td>0.56</td>\n",
       "      <td>0.03</td>\n",
       "      <td>0.20</td>\n",
       "      <td>87.0</td>\n",
       "      <td>8.1</td>\n",
       "      <td>E</td>\n",
       "    </tr>\n",
       "    <tr>\n",
       "      <td>13994</td>\n",
       "      <td>Ski-Doo Snowmobile Challenge</td>\n",
       "      <td>X360</td>\n",
       "      <td>2009.0</td>\n",
       "      <td>Racing</td>\n",
       "      <td>0.03</td>\n",
       "      <td>0.00</td>\n",
       "      <td>0.00</td>\n",
       "      <td>0.00</td>\n",
       "      <td>NaN</td>\n",
       "      <td>tbd</td>\n",
       "      <td>E</td>\n",
       "    </tr>\n",
       "    <tr>\n",
       "      <td>13006</td>\n",
       "      <td>UEFA Champions League 2006-2007</td>\n",
       "      <td>X360</td>\n",
       "      <td>2007.0</td>\n",
       "      <td>Sports</td>\n",
       "      <td>0.04</td>\n",
       "      <td>0.01</td>\n",
       "      <td>0.00</td>\n",
       "      <td>0.00</td>\n",
       "      <td>72.0</td>\n",
       "      <td>8.2</td>\n",
       "      <td>E</td>\n",
       "    </tr>\n",
       "    <tr>\n",
       "      <td>13464</td>\n",
       "      <td>Root Letter</td>\n",
       "      <td>PSV</td>\n",
       "      <td>2016.0</td>\n",
       "      <td>Adventure</td>\n",
       "      <td>0.00</td>\n",
       "      <td>0.03</td>\n",
       "      <td>0.01</td>\n",
       "      <td>0.01</td>\n",
       "      <td>78.0</td>\n",
       "      <td>7.8</td>\n",
       "      <td>M</td>\n",
       "    </tr>\n",
       "    <tr>\n",
       "      <td>14740</td>\n",
       "      <td>Mega Minis Volume 2</td>\n",
       "      <td>PSP</td>\n",
       "      <td>2011.0</td>\n",
       "      <td>Misc</td>\n",
       "      <td>0.00</td>\n",
       "      <td>0.02</td>\n",
       "      <td>0.00</td>\n",
       "      <td>0.01</td>\n",
       "      <td>NaN</td>\n",
       "      <td>NaN</td>\n",
       "      <td>NaN</td>\n",
       "    </tr>\n",
       "  </tbody>\n",
       "</table>\n",
       "</div>"
      ],
      "text/plain": [
       "                                  Name Platform  Year_of_Release      Genre  \\\n",
       "1868                              GRID      PS3           2008.0     Racing   \n",
       "13994     Ski-Doo Snowmobile Challenge     X360           2009.0     Racing   \n",
       "13006  UEFA Champions League 2006-2007     X360           2007.0     Sports   \n",
       "13464                      Root Letter      PSV           2016.0  Adventure   \n",
       "14740              Mega Minis Volume 2      PSP           2011.0       Misc   \n",
       "\n",
       "       NA_sales  EU_sales  JP_sales  Other_sales  Critic_Score User_Score  \\\n",
       "1868       0.31      0.56      0.03         0.20          87.0        8.1   \n",
       "13994      0.03      0.00      0.00         0.00           NaN        tbd   \n",
       "13006      0.04      0.01      0.00         0.00          72.0        8.2   \n",
       "13464      0.00      0.03      0.01         0.01          78.0        7.8   \n",
       "14740      0.00      0.02      0.00         0.01           NaN        NaN   \n",
       "\n",
       "      Rating  \n",
       "1868       E  \n",
       "13994      E  \n",
       "13006      E  \n",
       "13464      M  \n",
       "14740    NaN  "
      ]
     },
     "execution_count": 3,
     "metadata": {},
     "output_type": "execute_result"
    }
   ],
   "source": [
    "data.sample(5)"
   ]
  },
  {
   "cell_type": "markdown",
   "metadata": {},
   "source": [
    "**Вывод:**"
   ]
  },
  {
   "cell_type": "markdown",
   "metadata": {},
   "source": [
    "Проведём предварительный анализ. Таблица содержит 16715 строк и разбита на 11 столбцов:\n",
    "\n",
    "- Name — название игры\n",
    "- Platform — платформа\n",
    "- Year_of_Release — год выпуска\n",
    "- Genre — жанр игры\n",
    "- NA_sales — продажи в Северной Америке (миллионы проданных копий)\n",
    "- EU_sales — продажи в Европе (миллионы проданных копий)\n",
    "- JP_sales — продажи в Японии (миллионы проданных копий)\n",
    "- Other_sales — продажи в других странах (миллионы проданных копий)\n",
    "- Critic_Score — оценка критиков (максимум 100)\n",
    "- User_Score — оценка пользователей (максимум 10)\n",
    "- Rating — рейтинг от организации ESRB\n",
    "\n",
    "Таблица содержит информацию о продажах и рейтинге для игр, выпущенных с 1980 по 2016 год. \n",
    "\n",
    "Перед анализом необходима предобработка даннных:\n",
    "\n",
    "- названия столбцов превести к нижнему регистру\n",
    "- разобраться, в причине возникновения пропусков и пути избавления от них\n",
    "- оптимизировать типы данных\n"
   ]
  },
  {
   "cell_type": "markdown",
   "metadata": {},
   "source": [
    "## Предобработка даных:"
   ]
  },
  {
   "cell_type": "markdown",
   "metadata": {},
   "source": [
    "Приведем названия столбцов к нижнему регистру:"
   ]
  },
  {
   "cell_type": "code",
   "execution_count": 4,
   "metadata": {
    "scrolled": true
   },
   "outputs": [],
   "source": [
    "data.columns = [i.lower() for i in list(data.columns)]"
   ]
  },
  {
   "cell_type": "markdown",
   "metadata": {},
   "source": [
    "Обработаем пропуски. Наши данные взяты из открытых источников, каких - не уточняется. Поэтому пустые значения объясняются неполнотой данных в источниках. подсчитаем количество пропусков по столбцам:"
   ]
  },
  {
   "cell_type": "code",
   "execution_count": 5,
   "metadata": {},
   "outputs": [
    {
     "data": {
      "text/plain": [
       "name                  2\n",
       "platform              0\n",
       "year_of_release     269\n",
       "genre                 2\n",
       "na_sales              0\n",
       "eu_sales              0\n",
       "jp_sales              0\n",
       "other_sales           0\n",
       "critic_score       8578\n",
       "user_score         6701\n",
       "rating             6766\n",
       "dtype: int64"
      ]
     },
     "execution_count": 5,
     "metadata": {},
     "output_type": "execute_result"
    }
   ],
   "source": [
    "data.isna().sum()"
   ]
  },
  {
   "cell_type": "markdown",
   "metadata": {},
   "source": [
    "Выведем строки с пропусками в столбце Name:"
   ]
  },
  {
   "cell_type": "code",
   "execution_count": 6,
   "metadata": {
    "scrolled": true
   },
   "outputs": [
    {
     "data": {
      "text/html": [
       "<div>\n",
       "<style scoped>\n",
       "    .dataframe tbody tr th:only-of-type {\n",
       "        vertical-align: middle;\n",
       "    }\n",
       "\n",
       "    .dataframe tbody tr th {\n",
       "        vertical-align: top;\n",
       "    }\n",
       "\n",
       "    .dataframe thead th {\n",
       "        text-align: right;\n",
       "    }\n",
       "</style>\n",
       "<table border=\"1\" class=\"dataframe\">\n",
       "  <thead>\n",
       "    <tr style=\"text-align: right;\">\n",
       "      <th></th>\n",
       "      <th>name</th>\n",
       "      <th>platform</th>\n",
       "      <th>year_of_release</th>\n",
       "      <th>genre</th>\n",
       "      <th>na_sales</th>\n",
       "      <th>eu_sales</th>\n",
       "      <th>jp_sales</th>\n",
       "      <th>other_sales</th>\n",
       "      <th>critic_score</th>\n",
       "      <th>user_score</th>\n",
       "      <th>rating</th>\n",
       "    </tr>\n",
       "  </thead>\n",
       "  <tbody>\n",
       "    <tr>\n",
       "      <td>659</td>\n",
       "      <td>NaN</td>\n",
       "      <td>GEN</td>\n",
       "      <td>1993.0</td>\n",
       "      <td>NaN</td>\n",
       "      <td>1.78</td>\n",
       "      <td>0.53</td>\n",
       "      <td>0.00</td>\n",
       "      <td>0.08</td>\n",
       "      <td>NaN</td>\n",
       "      <td>NaN</td>\n",
       "      <td>NaN</td>\n",
       "    </tr>\n",
       "    <tr>\n",
       "      <td>14244</td>\n",
       "      <td>NaN</td>\n",
       "      <td>GEN</td>\n",
       "      <td>1993.0</td>\n",
       "      <td>NaN</td>\n",
       "      <td>0.00</td>\n",
       "      <td>0.00</td>\n",
       "      <td>0.03</td>\n",
       "      <td>0.00</td>\n",
       "      <td>NaN</td>\n",
       "      <td>NaN</td>\n",
       "      <td>NaN</td>\n",
       "    </tr>\n",
       "  </tbody>\n",
       "</table>\n",
       "</div>"
      ],
      "text/plain": [
       "      name platform  year_of_release genre  na_sales  eu_sales  jp_sales  \\\n",
       "659    NaN      GEN           1993.0   NaN      1.78      0.53      0.00   \n",
       "14244  NaN      GEN           1993.0   NaN      0.00      0.00      0.03   \n",
       "\n",
       "       other_sales  critic_score user_score rating  \n",
       "659           0.08           NaN        NaN    NaN  \n",
       "14244         0.00           NaN        NaN    NaN  "
      ]
     },
     "execution_count": 6,
     "metadata": {},
     "output_type": "execute_result"
    }
   ],
   "source": [
    "data.loc[data['name'].isna()]"
   ]
  },
  {
   "cell_type": "markdown",
   "metadata": {},
   "source": [
    "Видим, что эти строки содержат пропуски не только в столбце name,  но и в столбцах жанра и рейтинга. В дальнейшем нам важно определить, как влияет на коммерческий успех игр их жанр и рейтинг. Эти две строки по этим параметром абсолютно неинформативны, поэтому избавимся от них. Это действие разрешит и проблему пропусков в столбце `genre`:"
   ]
  },
  {
   "cell_type": "code",
   "execution_count": 7,
   "metadata": {},
   "outputs": [],
   "source": [
    "data = data.dropna(subset=['name']).reset_index(drop=True)"
   ]
  },
  {
   "cell_type": "markdown",
   "metadata": {},
   "source": [
    "Рассмотрим строки с пропусками в столбце `year_of_release`:"
   ]
  },
  {
   "cell_type": "code",
   "execution_count": 8,
   "metadata": {},
   "outputs": [
    {
     "data": {
      "text/html": [
       "<div>\n",
       "<style scoped>\n",
       "    .dataframe tbody tr th:only-of-type {\n",
       "        vertical-align: middle;\n",
       "    }\n",
       "\n",
       "    .dataframe tbody tr th {\n",
       "        vertical-align: top;\n",
       "    }\n",
       "\n",
       "    .dataframe thead th {\n",
       "        text-align: right;\n",
       "    }\n",
       "</style>\n",
       "<table border=\"1\" class=\"dataframe\">\n",
       "  <thead>\n",
       "    <tr style=\"text-align: right;\">\n",
       "      <th></th>\n",
       "      <th>name</th>\n",
       "      <th>platform</th>\n",
       "      <th>year_of_release</th>\n",
       "      <th>genre</th>\n",
       "      <th>na_sales</th>\n",
       "      <th>eu_sales</th>\n",
       "      <th>jp_sales</th>\n",
       "      <th>other_sales</th>\n",
       "      <th>critic_score</th>\n",
       "      <th>user_score</th>\n",
       "      <th>rating</th>\n",
       "    </tr>\n",
       "  </thead>\n",
       "  <tbody>\n",
       "    <tr>\n",
       "      <td>183</td>\n",
       "      <td>Madden NFL 2004</td>\n",
       "      <td>PS2</td>\n",
       "      <td>NaN</td>\n",
       "      <td>Sports</td>\n",
       "      <td>4.26</td>\n",
       "      <td>0.26</td>\n",
       "      <td>0.01</td>\n",
       "      <td>0.71</td>\n",
       "      <td>94.0</td>\n",
       "      <td>8.5</td>\n",
       "      <td>E</td>\n",
       "    </tr>\n",
       "    <tr>\n",
       "      <td>377</td>\n",
       "      <td>FIFA Soccer 2004</td>\n",
       "      <td>PS2</td>\n",
       "      <td>NaN</td>\n",
       "      <td>Sports</td>\n",
       "      <td>0.59</td>\n",
       "      <td>2.36</td>\n",
       "      <td>0.04</td>\n",
       "      <td>0.51</td>\n",
       "      <td>84.0</td>\n",
       "      <td>6.4</td>\n",
       "      <td>E</td>\n",
       "    </tr>\n",
       "    <tr>\n",
       "      <td>456</td>\n",
       "      <td>LEGO Batman: The Videogame</td>\n",
       "      <td>Wii</td>\n",
       "      <td>NaN</td>\n",
       "      <td>Action</td>\n",
       "      <td>1.80</td>\n",
       "      <td>0.97</td>\n",
       "      <td>0.00</td>\n",
       "      <td>0.29</td>\n",
       "      <td>74.0</td>\n",
       "      <td>7.9</td>\n",
       "      <td>E10+</td>\n",
       "    </tr>\n",
       "    <tr>\n",
       "      <td>475</td>\n",
       "      <td>wwe Smackdown vs. Raw 2006</td>\n",
       "      <td>PS2</td>\n",
       "      <td>NaN</td>\n",
       "      <td>Fighting</td>\n",
       "      <td>1.57</td>\n",
       "      <td>1.02</td>\n",
       "      <td>0.00</td>\n",
       "      <td>0.41</td>\n",
       "      <td>NaN</td>\n",
       "      <td>NaN</td>\n",
       "      <td>NaN</td>\n",
       "    </tr>\n",
       "    <tr>\n",
       "      <td>609</td>\n",
       "      <td>Space Invaders</td>\n",
       "      <td>2600</td>\n",
       "      <td>NaN</td>\n",
       "      <td>Shooter</td>\n",
       "      <td>2.36</td>\n",
       "      <td>0.14</td>\n",
       "      <td>0.00</td>\n",
       "      <td>0.03</td>\n",
       "      <td>NaN</td>\n",
       "      <td>NaN</td>\n",
       "      <td>NaN</td>\n",
       "    </tr>\n",
       "    <tr>\n",
       "      <td>...</td>\n",
       "      <td>...</td>\n",
       "      <td>...</td>\n",
       "      <td>...</td>\n",
       "      <td>...</td>\n",
       "      <td>...</td>\n",
       "      <td>...</td>\n",
       "      <td>...</td>\n",
       "      <td>...</td>\n",
       "      <td>...</td>\n",
       "      <td>...</td>\n",
       "      <td>...</td>\n",
       "    </tr>\n",
       "    <tr>\n",
       "      <td>16371</td>\n",
       "      <td>PDC World Championship Darts 2008</td>\n",
       "      <td>PSP</td>\n",
       "      <td>NaN</td>\n",
       "      <td>Sports</td>\n",
       "      <td>0.01</td>\n",
       "      <td>0.00</td>\n",
       "      <td>0.00</td>\n",
       "      <td>0.00</td>\n",
       "      <td>43.0</td>\n",
       "      <td>tbd</td>\n",
       "      <td>E10+</td>\n",
       "    </tr>\n",
       "    <tr>\n",
       "      <td>16403</td>\n",
       "      <td>Freaky Flyers</td>\n",
       "      <td>GC</td>\n",
       "      <td>NaN</td>\n",
       "      <td>Racing</td>\n",
       "      <td>0.01</td>\n",
       "      <td>0.00</td>\n",
       "      <td>0.00</td>\n",
       "      <td>0.00</td>\n",
       "      <td>69.0</td>\n",
       "      <td>6.5</td>\n",
       "      <td>T</td>\n",
       "    </tr>\n",
       "    <tr>\n",
       "      <td>16446</td>\n",
       "      <td>Inversion</td>\n",
       "      <td>PC</td>\n",
       "      <td>NaN</td>\n",
       "      <td>Shooter</td>\n",
       "      <td>0.01</td>\n",
       "      <td>0.00</td>\n",
       "      <td>0.00</td>\n",
       "      <td>0.00</td>\n",
       "      <td>59.0</td>\n",
       "      <td>6.7</td>\n",
       "      <td>M</td>\n",
       "    </tr>\n",
       "    <tr>\n",
       "      <td>16456</td>\n",
       "      <td>Hakuouki: Shinsengumi Kitan</td>\n",
       "      <td>PS3</td>\n",
       "      <td>NaN</td>\n",
       "      <td>Adventure</td>\n",
       "      <td>0.01</td>\n",
       "      <td>0.00</td>\n",
       "      <td>0.00</td>\n",
       "      <td>0.00</td>\n",
       "      <td>NaN</td>\n",
       "      <td>NaN</td>\n",
       "      <td>NaN</td>\n",
       "    </tr>\n",
       "    <tr>\n",
       "      <td>16520</td>\n",
       "      <td>Virtua Quest</td>\n",
       "      <td>GC</td>\n",
       "      <td>NaN</td>\n",
       "      <td>Role-Playing</td>\n",
       "      <td>0.01</td>\n",
       "      <td>0.00</td>\n",
       "      <td>0.00</td>\n",
       "      <td>0.00</td>\n",
       "      <td>55.0</td>\n",
       "      <td>5.5</td>\n",
       "      <td>T</td>\n",
       "    </tr>\n",
       "  </tbody>\n",
       "</table>\n",
       "<p>269 rows × 11 columns</p>\n",
       "</div>"
      ],
      "text/plain": [
       "                                    name platform  year_of_release  \\\n",
       "183                      Madden NFL 2004      PS2              NaN   \n",
       "377                     FIFA Soccer 2004      PS2              NaN   \n",
       "456           LEGO Batman: The Videogame      Wii              NaN   \n",
       "475           wwe Smackdown vs. Raw 2006      PS2              NaN   \n",
       "609                       Space Invaders     2600              NaN   \n",
       "...                                  ...      ...              ...   \n",
       "16371  PDC World Championship Darts 2008      PSP              NaN   \n",
       "16403                      Freaky Flyers       GC              NaN   \n",
       "16446                          Inversion       PC              NaN   \n",
       "16456        Hakuouki: Shinsengumi Kitan      PS3              NaN   \n",
       "16520                       Virtua Quest       GC              NaN   \n",
       "\n",
       "              genre  na_sales  eu_sales  jp_sales  other_sales  critic_score  \\\n",
       "183          Sports      4.26      0.26      0.01         0.71          94.0   \n",
       "377          Sports      0.59      2.36      0.04         0.51          84.0   \n",
       "456          Action      1.80      0.97      0.00         0.29          74.0   \n",
       "475        Fighting      1.57      1.02      0.00         0.41           NaN   \n",
       "609         Shooter      2.36      0.14      0.00         0.03           NaN   \n",
       "...             ...       ...       ...       ...          ...           ...   \n",
       "16371        Sports      0.01      0.00      0.00         0.00          43.0   \n",
       "16403        Racing      0.01      0.00      0.00         0.00          69.0   \n",
       "16446       Shooter      0.01      0.00      0.00         0.00          59.0   \n",
       "16456     Adventure      0.01      0.00      0.00         0.00           NaN   \n",
       "16520  Role-Playing      0.01      0.00      0.00         0.00          55.0   \n",
       "\n",
       "      user_score rating  \n",
       "183          8.5      E  \n",
       "377          6.4      E  \n",
       "456          7.9   E10+  \n",
       "475          NaN    NaN  \n",
       "609          NaN    NaN  \n",
       "...          ...    ...  \n",
       "16371        tbd   E10+  \n",
       "16403        6.5      T  \n",
       "16446        6.7      M  \n",
       "16456        NaN    NaN  \n",
       "16520        5.5      T  \n",
       "\n",
       "[269 rows x 11 columns]"
      ]
     },
     "execution_count": 8,
     "metadata": {},
     "output_type": "execute_result"
    }
   ],
   "source": [
    "data.loc[data['year_of_release'].isna()]"
   ]
  },
  {
   "cell_type": "markdown",
   "metadata": {},
   "source": [
    "Некоторые игры содержат в своём названии дату, но нет уверенности, что эта дата соответсвует году релиза, ведь по такой логике, для игры Battlefield 1942 год релиза следует указать как 1942. Строк с пропущенными значениями релиза менее 2%, поэтому избавимся от них, изменим тип данных столбца:"
   ]
  },
  {
   "cell_type": "code",
   "execution_count": 9,
   "metadata": {
    "scrolled": true
   },
   "outputs": [],
   "source": [
    "data = data.dropna(subset=['year_of_release']).reset_index(drop=True)\n",
    "data['year_of_release'] = data['year_of_release'].astype(np.uint16)"
   ]
  },
  {
   "cell_type": "markdown",
   "metadata": {},
   "source": [
    "Рассмотрим пустые значения в столбце `critic_score`. Вероятно, наш источник данных сайт-агрегатор  Metacritic.com, и если игра не имеет рейтинга критиков, её вероятно, просто нет на этом сайте. Самая низкая оценка, полученная нами методом describe  - 13, присвоим пустым значениям -1 (это будет маркер отсутствия оценки). Шкала ооценки критиков целочисленная, присвоим данным в этом столбце тип int8:"
   ]
  },
  {
   "cell_type": "code",
   "execution_count": 10,
   "metadata": {},
   "outputs": [],
   "source": [
    "data['critic_score'] = data['critic_score'].fillna(-1).astype(np.int8)"
   ]
  },
  {
   "cell_type": "markdown",
   "metadata": {},
   "source": [
    "Рассмотрим пустые значения в столбце `user_score`. Вероятно, наш источник также  Metacritic.com, но раздел User Score. Рассмотрим, какие значения принимают данные в этом столбце:"
   ]
  },
  {
   "cell_type": "code",
   "execution_count": 11,
   "metadata": {},
   "outputs": [
    {
     "data": {
      "text/plain": [
       "array(['8', nan, '8.3', '8.5', '6.6', '8.4', '8.6', '7.7', '6.3', '7.4',\n",
       "       '8.2', '9', '7.9', '8.1', '8.7', '7.1', '3.4', '5.3', '4.8', '3.2',\n",
       "       '8.9', '6.4', '7.8', '7.5', '2.6', '7.2', '9.2', '7', '7.3', '4.3',\n",
       "       '7.6', '5.7', '5', '9.1', '6.5', 'tbd', '8.8', '6.9', '9.4', '6.8',\n",
       "       '6.1', '6.7', '5.4', '4', '4.9', '4.5', '9.3', '6.2', '4.2', '6',\n",
       "       '3.7', '4.1', '5.8', '5.6', '5.5', '4.4', '4.6', '5.9', '3.9',\n",
       "       '3.1', '2.9', '5.2', '3.3', '4.7', '5.1', '3.5', '2.5', '1.9', '3',\n",
       "       '2.7', '2.2', '2', '9.5', '2.1', '3.6', '2.8', '1.8', '3.8', '0',\n",
       "       '1.6', '9.6', '2.4', '1.7', '1.1', '0.3', '1.5', '0.7', '1.2',\n",
       "       '2.3', '0.5', '1.3', '0.2', '0.6', '1.4', '0.9', '1', '9.7'],\n",
       "      dtype=object)"
      ]
     },
     "execution_count": 11,
     "metadata": {},
     "output_type": "execute_result"
    }
   ],
   "source": [
    "data['user_score'].unique()"
   ]
  },
  {
   "cell_type": "markdown",
   "metadata": {},
   "source": [
    "Среди рейтинга пользователей встречается оценка 0 и значение tbd - To Be Determined (подлежит определению), что можно интерпретировать как пропущенное значение. Посчитаем число строк со значением tbd и 0:\n"
   ]
  },
  {
   "cell_type": "code",
   "execution_count": 12,
   "metadata": {},
   "outputs": [
    {
     "name": "stdout",
     "output_type": "stream",
     "text": [
      "tbd - 2376\n",
      "0 - 1\n"
     ]
    }
   ],
   "source": [
    "print('tbd -', data.query('user_score == \"tbd\"')['user_score'].count())\n",
    "print('0 -', data.query('user_score == \"0\"')['user_score'].count())"
   ]
  },
  {
   "cell_type": "markdown",
   "metadata": {},
   "source": [
    "Всего одна игра оказалась оценена пользователями в 0 баллов. Выясним, что это за игра и нет ли здесь ошибки?"
   ]
  },
  {
   "cell_type": "code",
   "execution_count": 13,
   "metadata": {},
   "outputs": [
    {
     "data": {
      "text/html": [
       "<div>\n",
       "<style scoped>\n",
       "    .dataframe tbody tr th:only-of-type {\n",
       "        vertical-align: middle;\n",
       "    }\n",
       "\n",
       "    .dataframe tbody tr th {\n",
       "        vertical-align: top;\n",
       "    }\n",
       "\n",
       "    .dataframe thead th {\n",
       "        text-align: right;\n",
       "    }\n",
       "</style>\n",
       "<table border=\"1\" class=\"dataframe\">\n",
       "  <thead>\n",
       "    <tr style=\"text-align: right;\">\n",
       "      <th></th>\n",
       "      <th>name</th>\n",
       "      <th>platform</th>\n",
       "      <th>year_of_release</th>\n",
       "      <th>genre</th>\n",
       "      <th>na_sales</th>\n",
       "      <th>eu_sales</th>\n",
       "      <th>jp_sales</th>\n",
       "      <th>other_sales</th>\n",
       "      <th>critic_score</th>\n",
       "      <th>user_score</th>\n",
       "      <th>rating</th>\n",
       "    </tr>\n",
       "  </thead>\n",
       "  <tbody>\n",
       "    <tr>\n",
       "      <td>2797</td>\n",
       "      <td>My Little Pony: Pinkie Pie's Party</td>\n",
       "      <td>DS</td>\n",
       "      <td>2008</td>\n",
       "      <td>Adventure</td>\n",
       "      <td>0.66</td>\n",
       "      <td>0.0</td>\n",
       "      <td>0.0</td>\n",
       "      <td>0.06</td>\n",
       "      <td>-1</td>\n",
       "      <td>0</td>\n",
       "      <td>E</td>\n",
       "    </tr>\n",
       "  </tbody>\n",
       "</table>\n",
       "</div>"
      ],
      "text/plain": [
       "                                    name platform  year_of_release      genre  \\\n",
       "2797  My Little Pony: Pinkie Pie's Party       DS             2008  Adventure   \n",
       "\n",
       "      na_sales  eu_sales  jp_sales  other_sales  critic_score user_score  \\\n",
       "2797      0.66       0.0       0.0         0.06            -1          0   \n",
       "\n",
       "     rating  \n",
       "2797      E  "
      ]
     },
     "execution_count": 13,
     "metadata": {},
     "output_type": "execute_result"
    }
   ],
   "source": [
    "data.query('user_score == \"0\"')"
   ]
  },
  {
   "cell_type": "markdown",
   "metadata": {},
   "source": [
    "В 2021 году на сайте Metacritic.com игра до сих пор имеет статус tbd для оценки критиков, в то время как до 2016 года есть всего одна оценка пользователя, равная 0 баллов из 10. Заполним пропуски значением -1 (как маркер отсутствия оценки пользователей), присвоим данным тип float:"
   ]
  },
  {
   "cell_type": "code",
   "execution_count": 14,
   "metadata": {},
   "outputs": [
    {
     "data": {
      "text/html": [
       "<div>\n",
       "<style scoped>\n",
       "    .dataframe tbody tr th:only-of-type {\n",
       "        vertical-align: middle;\n",
       "    }\n",
       "\n",
       "    .dataframe tbody tr th {\n",
       "        vertical-align: top;\n",
       "    }\n",
       "\n",
       "    .dataframe thead th {\n",
       "        text-align: right;\n",
       "    }\n",
       "</style>\n",
       "<table border=\"1\" class=\"dataframe\">\n",
       "  <thead>\n",
       "    <tr style=\"text-align: right;\">\n",
       "      <th></th>\n",
       "      <th>name</th>\n",
       "      <th>platform</th>\n",
       "      <th>year_of_release</th>\n",
       "      <th>genre</th>\n",
       "      <th>na_sales</th>\n",
       "      <th>eu_sales</th>\n",
       "      <th>jp_sales</th>\n",
       "      <th>other_sales</th>\n",
       "      <th>critic_score</th>\n",
       "      <th>user_score</th>\n",
       "      <th>rating</th>\n",
       "    </tr>\n",
       "  </thead>\n",
       "  <tbody>\n",
       "    <tr>\n",
       "      <td>0</td>\n",
       "      <td>Wii Sports</td>\n",
       "      <td>Wii</td>\n",
       "      <td>2006</td>\n",
       "      <td>Sports</td>\n",
       "      <td>41.36</td>\n",
       "      <td>28.96</td>\n",
       "      <td>3.77</td>\n",
       "      <td>8.45</td>\n",
       "      <td>76</td>\n",
       "      <td>8.0</td>\n",
       "      <td>E</td>\n",
       "    </tr>\n",
       "    <tr>\n",
       "      <td>1</td>\n",
       "      <td>Super Mario Bros.</td>\n",
       "      <td>NES</td>\n",
       "      <td>1985</td>\n",
       "      <td>Platform</td>\n",
       "      <td>29.08</td>\n",
       "      <td>3.58</td>\n",
       "      <td>6.81</td>\n",
       "      <td>0.77</td>\n",
       "      <td>-1</td>\n",
       "      <td>-1.0</td>\n",
       "      <td>NaN</td>\n",
       "    </tr>\n",
       "    <tr>\n",
       "      <td>2</td>\n",
       "      <td>Mario Kart Wii</td>\n",
       "      <td>Wii</td>\n",
       "      <td>2008</td>\n",
       "      <td>Racing</td>\n",
       "      <td>15.68</td>\n",
       "      <td>12.76</td>\n",
       "      <td>3.79</td>\n",
       "      <td>3.29</td>\n",
       "      <td>82</td>\n",
       "      <td>8.3</td>\n",
       "      <td>E</td>\n",
       "    </tr>\n",
       "    <tr>\n",
       "      <td>3</td>\n",
       "      <td>Wii Sports Resort</td>\n",
       "      <td>Wii</td>\n",
       "      <td>2009</td>\n",
       "      <td>Sports</td>\n",
       "      <td>15.61</td>\n",
       "      <td>10.93</td>\n",
       "      <td>3.28</td>\n",
       "      <td>2.95</td>\n",
       "      <td>80</td>\n",
       "      <td>8.0</td>\n",
       "      <td>E</td>\n",
       "    </tr>\n",
       "    <tr>\n",
       "      <td>4</td>\n",
       "      <td>Pokemon Red/Pokemon Blue</td>\n",
       "      <td>GB</td>\n",
       "      <td>1996</td>\n",
       "      <td>Role-Playing</td>\n",
       "      <td>11.27</td>\n",
       "      <td>8.89</td>\n",
       "      <td>10.22</td>\n",
       "      <td>1.00</td>\n",
       "      <td>-1</td>\n",
       "      <td>-1.0</td>\n",
       "      <td>NaN</td>\n",
       "    </tr>\n",
       "    <tr>\n",
       "      <td>...</td>\n",
       "      <td>...</td>\n",
       "      <td>...</td>\n",
       "      <td>...</td>\n",
       "      <td>...</td>\n",
       "      <td>...</td>\n",
       "      <td>...</td>\n",
       "      <td>...</td>\n",
       "      <td>...</td>\n",
       "      <td>...</td>\n",
       "      <td>...</td>\n",
       "      <td>...</td>\n",
       "    </tr>\n",
       "    <tr>\n",
       "      <td>16439</td>\n",
       "      <td>Samurai Warriors: Sanada Maru</td>\n",
       "      <td>PS3</td>\n",
       "      <td>2016</td>\n",
       "      <td>Action</td>\n",
       "      <td>0.00</td>\n",
       "      <td>0.00</td>\n",
       "      <td>0.01</td>\n",
       "      <td>0.00</td>\n",
       "      <td>-1</td>\n",
       "      <td>-1.0</td>\n",
       "      <td>NaN</td>\n",
       "    </tr>\n",
       "    <tr>\n",
       "      <td>16440</td>\n",
       "      <td>LMA Manager 2007</td>\n",
       "      <td>X360</td>\n",
       "      <td>2006</td>\n",
       "      <td>Sports</td>\n",
       "      <td>0.00</td>\n",
       "      <td>0.01</td>\n",
       "      <td>0.00</td>\n",
       "      <td>0.00</td>\n",
       "      <td>-1</td>\n",
       "      <td>-1.0</td>\n",
       "      <td>NaN</td>\n",
       "    </tr>\n",
       "    <tr>\n",
       "      <td>16441</td>\n",
       "      <td>Haitaka no Psychedelica</td>\n",
       "      <td>PSV</td>\n",
       "      <td>2016</td>\n",
       "      <td>Adventure</td>\n",
       "      <td>0.00</td>\n",
       "      <td>0.00</td>\n",
       "      <td>0.01</td>\n",
       "      <td>0.00</td>\n",
       "      <td>-1</td>\n",
       "      <td>-1.0</td>\n",
       "      <td>NaN</td>\n",
       "    </tr>\n",
       "    <tr>\n",
       "      <td>16442</td>\n",
       "      <td>Spirits &amp; Spells</td>\n",
       "      <td>GBA</td>\n",
       "      <td>2003</td>\n",
       "      <td>Platform</td>\n",
       "      <td>0.01</td>\n",
       "      <td>0.00</td>\n",
       "      <td>0.00</td>\n",
       "      <td>0.00</td>\n",
       "      <td>-1</td>\n",
       "      <td>-1.0</td>\n",
       "      <td>NaN</td>\n",
       "    </tr>\n",
       "    <tr>\n",
       "      <td>16443</td>\n",
       "      <td>Winning Post 8 2016</td>\n",
       "      <td>PSV</td>\n",
       "      <td>2016</td>\n",
       "      <td>Simulation</td>\n",
       "      <td>0.00</td>\n",
       "      <td>0.00</td>\n",
       "      <td>0.01</td>\n",
       "      <td>0.00</td>\n",
       "      <td>-1</td>\n",
       "      <td>-1.0</td>\n",
       "      <td>NaN</td>\n",
       "    </tr>\n",
       "  </tbody>\n",
       "</table>\n",
       "<p>16444 rows × 11 columns</p>\n",
       "</div>"
      ],
      "text/plain": [
       "                                name platform  year_of_release         genre  \\\n",
       "0                         Wii Sports      Wii             2006        Sports   \n",
       "1                  Super Mario Bros.      NES             1985      Platform   \n",
       "2                     Mario Kart Wii      Wii             2008        Racing   \n",
       "3                  Wii Sports Resort      Wii             2009        Sports   \n",
       "4           Pokemon Red/Pokemon Blue       GB             1996  Role-Playing   \n",
       "...                              ...      ...              ...           ...   \n",
       "16439  Samurai Warriors: Sanada Maru      PS3             2016        Action   \n",
       "16440               LMA Manager 2007     X360             2006        Sports   \n",
       "16441        Haitaka no Psychedelica      PSV             2016     Adventure   \n",
       "16442               Spirits & Spells      GBA             2003      Platform   \n",
       "16443            Winning Post 8 2016      PSV             2016    Simulation   \n",
       "\n",
       "       na_sales  eu_sales  jp_sales  other_sales  critic_score  user_score  \\\n",
       "0         41.36     28.96      3.77         8.45            76         8.0   \n",
       "1         29.08      3.58      6.81         0.77            -1        -1.0   \n",
       "2         15.68     12.76      3.79         3.29            82         8.3   \n",
       "3         15.61     10.93      3.28         2.95            80         8.0   \n",
       "4         11.27      8.89     10.22         1.00            -1        -1.0   \n",
       "...         ...       ...       ...          ...           ...         ...   \n",
       "16439      0.00      0.00      0.01         0.00            -1        -1.0   \n",
       "16440      0.00      0.01      0.00         0.00            -1        -1.0   \n",
       "16441      0.00      0.00      0.01         0.00            -1        -1.0   \n",
       "16442      0.01      0.00      0.00         0.00            -1        -1.0   \n",
       "16443      0.00      0.00      0.01         0.00            -1        -1.0   \n",
       "\n",
       "      rating  \n",
       "0          E  \n",
       "1        NaN  \n",
       "2          E  \n",
       "3          E  \n",
       "4        NaN  \n",
       "...      ...  \n",
       "16439    NaN  \n",
       "16440    NaN  \n",
       "16441    NaN  \n",
       "16442    NaN  \n",
       "16443    NaN  \n",
       "\n",
       "[16444 rows x 11 columns]"
      ]
     },
     "execution_count": 14,
     "metadata": {},
     "output_type": "execute_result"
    }
   ],
   "source": [
    "data['user_score'] = data['user_score'].fillna(-1)\n",
    "data.loc[data['user_score'] == 'tbd', 'user_score'] = -1\n",
    "data['user_score'] = data['user_score'].astype(float)\n",
    "data\n"
   ]
  },
  {
   "cell_type": "markdown",
   "metadata": {},
   "source": [
    "Посмотрим, какой рейтинг ESRB игр в наших данных:      "
   ]
  },
  {
   "cell_type": "code",
   "execution_count": 15,
   "metadata": {},
   "outputs": [
    {
     "data": {
      "text/plain": [
       "E       3921\n",
       "T       2905\n",
       "M       1536\n",
       "E10+    1393\n",
       "EC         8\n",
       "K-A        3\n",
       "AO         1\n",
       "RP         1\n",
       "Name: rating, dtype: int64"
      ]
     },
     "execution_count": 15,
     "metadata": {},
     "output_type": "execute_result"
    }
   ],
   "source": [
    "data['rating'].value_counts()\n"
   ]
  },
  {
   "cell_type": "markdown",
   "metadata": {},
   "source": [
    "Больше всего игр с рейтингом Е(«Everyone») — «Для всех» с 6 лет, «T» («Teen») — «Подросткам» от 13 лет, «M» («Mature») — «Для взрослых» от 17 лет, «E10+» («Everyone 10 and older») — «Для всех от 10 лет и старше». Разберемся с малочисленными категориями: «EC» («Early childhood») — «Для детей младшего возраста» от 3 лет, «K-A» - тоже что и «E»для игр выпущенных до 1996 года, «AO» («Adults Only 18+») - рейтинг «Только для взрослых» является предметом многочисленных дискуссий, так как накладывает серьёзные ограничения на продажи игры.\n",
    "\n",
    "Категория «RP» - («Rating Pending») — «Рейтинг ожидается»: Продукт был отправлен в ESRB и ожидает присвоения рейтинга. Это обозначение похоже по смыслу на tbd, используем его для заполнения пропущенных значений."
   ]
  },
  {
   "cell_type": "code",
   "execution_count": 16,
   "metadata": {
    "scrolled": true
   },
   "outputs": [],
   "source": [
    "data['rating'] = data['rating'].fillna('RP')"
   ]
  },
  {
   "cell_type": "markdown",
   "metadata": {},
   "source": [
    "Избавимся от микро-категории К-А, присвоив современное значение E:"
   ]
  },
  {
   "cell_type": "code",
   "execution_count": 17,
   "metadata": {},
   "outputs": [],
   "source": [
    "data.loc[data['rating'] == 'K-A','rating'] = 'E'"
   ]
  },
  {
   "cell_type": "markdown",
   "metadata": {},
   "source": [
    "Посчитаем суммарные продажи:"
   ]
  },
  {
   "cell_type": "code",
   "execution_count": 18,
   "metadata": {},
   "outputs": [],
   "source": [
    "data['total_sales'] = data.apply(lambda row: sum(row[['na_sales','eu_sales','jp_sales','other_sales']]),axis =1)"
   ]
  },
  {
   "cell_type": "code",
   "execution_count": 19,
   "metadata": {},
   "outputs": [
    {
     "data": {
      "text/plain": [
       "Index(['name', 'platform', 'year_of_release', 'genre', 'na_sales', 'eu_sales',\n",
       "       'jp_sales', 'other_sales', 'critic_score', 'user_score', 'rating',\n",
       "       'total_sales'],\n",
       "      dtype='object')"
      ]
     },
     "execution_count": 19,
     "metadata": {},
     "output_type": "execute_result"
    }
   ],
   "source": [
    "data.columns"
   ]
  },
  {
   "cell_type": "markdown",
   "metadata": {},
   "source": [
    "**Вывод:**\n",
    "\n",
    "Названия столбцов приведены к нижнему регистру. Удалены строки с пропусками в столбцах `name, year_of_release, genre`. Обнаруженные пропуски в столбцах `critic_score` и `user_score` заполнены маркером -1, в столбце `rating` пропуски заполнены значением «RP» - («Rating Pending») — «Рейтинг ожидается», типы данных оптимизированы. Сумма продаж для каждой игры подссчитана и добавлена в таблицу. "
   ]
  },
  {
   "cell_type": "markdown",
   "metadata": {},
   "source": [
    "## Анализ данных"
   ]
  },
  {
   "cell_type": "markdown",
   "metadata": {},
   "source": [
    "### Определение актуального периода"
   ]
  },
  {
   "cell_type": "markdown",
   "metadata": {},
   "source": [
    "Определим, как менялось число релизов по годам:"
   ]
  },
  {
   "cell_type": "code",
   "execution_count": 20,
   "metadata": {
    "scrolled": true
   },
   "outputs": [
    {
     "data": {
      "image/png": "[encoded data removed]",
      "text/plain": [
       "<Figure size 1080x288 with 1 Axes>"
      ]
     },
     "metadata": {
      "needs_background": "light"
     },
     "output_type": "display_data"
    }
   ],
   "source": [
    "relese = data.groupby('year_of_release').agg({'name':'count'})\n",
    "\n",
    "relese.plot(y = 'name', kind = 'bar', figsize = (15,4))\n",
    "\n",
    "plt.ylabel('Количество релизов (шт)', fontsize=18)\n",
    "plt.xlabel('Год', fontsize=18)\n",
    "plt.title(\n",
    "    \"\"\"Изменение числа релизов видео-игр 1980-2016 гг.\"\"\",\n",
    "    fontsize=18\n",
    ")\n",
    "plt.show()"
   ]
  },
  {
   "cell_type": "markdown",
   "metadata": {},
   "source": [
    "Как видно из диаграммы, пик производства новых игр приходится на 2008-2009 года, а с 2011 года начался резкий спад. "
   ]
  },
  {
   "cell_type": "markdown",
   "metadata": {},
   "source": [
    "Определим наиболее успешные платформы:"
   ]
  },
  {
   "cell_type": "code",
   "execution_count": 21,
   "metadata": {},
   "outputs": [
    {
     "data": {
      "image/png": "[encoded data removed]",
      "text/plain": [
       "<Figure size 1080x288 with 1 Axes>"
      ]
     },
     "metadata": {
      "needs_background": "light"
     },
     "output_type": "display_data"
    }
   ],
   "source": [
    "top_platforms = data.groupby('platform').agg({'total_sales':'sum'}).sort_values(by = 'total_sales', ascending = False)\n",
    "top_platforms.plot(y = 'total_sales', kind = 'bar', figsize = (15,4))\n",
    "plt.title(\n",
    "    \"\"\"Распределение числа проданных копий игр по платформам\"\"\",\n",
    "    fontsize=18\n",
    ")\n",
    "plt.ylabel('Число копий (млн. шт.)', fontsize=18)\n",
    "plt.xlabel('Платформа', fontsize=18)\n",
    "plt.show()"
   ]
  },
  {
   "cell_type": "markdown",
   "metadata": {},
   "source": [
    "Если ограничить выборку 6 явными лидерами, то в анализ не войдет относительно новая платформа PS4, поэтому ограничим выборку первыми 9 платформами (платформы GBA и PSP близки по числу проданых копий к PS4):"
   ]
  },
  {
   "cell_type": "code",
   "execution_count": 22,
   "metadata": {},
   "outputs": [],
   "source": [
    "top_platforms = top_platforms.head(9)"
   ]
  },
  {
   "cell_type": "markdown",
   "metadata": {},
   "source": [
    "Посмотрим, как распределялась их прибль в течение времени:"
   ]
  },
  {
   "cell_type": "code",
   "execution_count": 23,
   "metadata": {},
   "outputs": [],
   "source": [
    "top_platforms_relase = data.query('platform in @top_platforms.index').pivot_table(\n",
    "    index='year_of_release',\n",
    "    columns = 'platform',\n",
    "    values = 'total_sales',\n",
    "    aggfunc = 'sum'\n",
    ")"
   ]
  },
  {
   "cell_type": "code",
   "execution_count": 24,
   "metadata": {},
   "outputs": [
    {
     "data": {
      "image/png": "[encoded data removed]",
      "text/plain": [
       "<Figure size 1080x360 with 1 Axes>"
      ]
     },
     "metadata": {
      "needs_background": "light"
     },
     "output_type": "display_data"
    }
   ],
   "source": [
    "fig, ax = plt.subplots(figsize = (15,5))\n",
    "ax.plot(top_platforms_relase)\n",
    "ax.xaxis.set_major_locator(ticker.MultipleLocator(1))\n",
    "plt.ylabel('Число копий (млн. шт.)', fontsize=18)\n",
    "plt.xlim(1993, 2016)\n",
    "plt.xlabel('Год', fontsize=18)\n",
    "plt.title(\n",
    "    \"\"\"Продажи видео-игр для 9 наиболее популярных платформ\"\"\",\n",
    "    fontsize=18\n",
    ")\n",
    "ax.legend(top_platforms_relase)\n",
    "plt.show()"
   ]
  },
  {
   "cell_type": "markdown",
   "metadata": {},
   "source": [
    "Sony безусловный лидер рынка - в топ-9 вошло 5 платформ их производства. Судя по графику, век платформ скоротечен и в среднем составляет 10 лет. Так же мы видим, что в 2013 году вышла последняя успешная платформа. На основании этого, выберем актуальный период в отрезке с 2013 по 2016 год:"
   ]
  },
  {
   "cell_type": "code",
   "execution_count": 25,
   "metadata": {},
   "outputs": [],
   "source": [
    "actual_data = data.query('year_of_release >= 2013')"
   ]
  },
  {
   "cell_type": "markdown",
   "metadata": {},
   "source": [
    "**Вывод:**\n",
    "\n",
    "Как видно из диаграммы, пик производства новых игр приходится на 2008-2009 года, а с 2011 года начался резкий спад. Среди платформ, по числу проданных копий, лидирует PS2. В целом, можно сказать что производитель Sony безусловный лидер рынка - в топ-9 вошло 5 платформ их производства.  Век платформ скоротечен и в среднем составляет 10 лет. Так же мы видим, что в 2013 году вышла последняя успешная платформа - PS4. На основании этого, актуальный период для дальнейшего анализа определим с 2013 по 2016 год."
   ]
  },
  {
   "cell_type": "markdown",
   "metadata": {},
   "source": [
    "### Определение потенциально прибыльных платформ"
   ]
  },
  {
   "cell_type": "markdown",
   "metadata": {},
   "source": [
    "Получим сводную таблицу продаж по годам для выбранного периода:"
   ]
  },
  {
   "cell_type": "code",
   "execution_count": 26,
   "metadata": {},
   "outputs": [],
   "source": [
    "actual_platform = actual_data.pivot_table(\n",
    "    index='year_of_release',\n",
    "    columns = 'platform',\n",
    "    values = 'total_sales',\n",
    "    aggfunc = 'sum'\n",
    ")"
   ]
  },
  {
   "cell_type": "code",
   "execution_count": 27,
   "metadata": {},
   "outputs": [
    {
     "data": {
      "image/png": "[encoded data removed]",
      "text/plain": [
       "<Figure size 1080x504 with 1 Axes>"
      ]
     },
     "metadata": {
      "needs_background": "light"
     },
     "output_type": "display_data"
    }
   ],
   "source": [
    "fig, ax = plt.subplots(figsize = (15, 7))\n",
    "ax.plot(actual_platform)\n",
    "ax.xaxis.set_major_locator(ticker.MultipleLocator(1))\n",
    "plt.ylabel('Число копий (млн. шт.)', fontsize=18)\n",
    "plt.xlabel('Год', fontsize=18)\n",
    "plt.title(\n",
    "    \"\"\"Продажи видео-игр для различных платформ,\n",
    "    с 2013 по 2016 год\"\"\",\n",
    "    fontsize=18\n",
    ")\n",
    "ax.legend(actual_platform, loc='upper left')\n",
    "plt.show()"
   ]
  },
  {
   "cell_type": "markdown",
   "metadata": {},
   "source": [
    "Выход нового поколения платформ сильно влияет на продажи - PS4 приходит на смену PS3, WiiU сменяет Wii, XOne сменяет X360. Покупатели любят не только новинки среди игр, но и среди платформ, поэтому перспективными будем считать платформы PS4, XOne, WiiU. Пользователи PC покупают не так активны в покупках и чаще пользуются \"пиратскими\" копиями."
   ]
  },
  {
   "cell_type": "markdown",
   "metadata": {},
   "source": [
    "Построим диаграмму размаха:"
   ]
  },
  {
   "cell_type": "code",
   "execution_count": 28,
   "metadata": {},
   "outputs": [
    {
     "data": {
      "image/png": "[encoded data removed]",
      "text/plain": [
       "<Figure size 1080x504 with 1 Axes>"
      ]
     },
     "metadata": {
      "needs_background": "light"
     },
     "output_type": "display_data"
    }
   ],
   "source": [
    "fig, ax = plt.subplots(figsize = (15, 7))\n",
    "fig = sns.boxplot(x=actual_data['platform'], \n",
    "            y=actual_data['total_sales'],\n",
    "            ax=ax\n",
    "            )\n",
    "ax.set(xlabel='Платформа', ylabel= 'Число копий (млн. шт.)')\n",
    "ax.set(title = '''Диаграмма размаха числа проданных копий в зависимости от платформы,\n",
    "       2013-2016 гг.''')\n",
    "ax.set_ylim(0, 2)\n",
    "plt.show()"
   ]
  },
  {
   "cell_type": "markdown",
   "metadata": {},
   "source": [
    "Значения, попадающие между первым и третьим квартилем, наиболее равномерно распределены для платформы DS, для остальных платформ медиана смещена к первому квартилю, данные о продажах имеют положительную скошенность. Лидеры по продажам копий - платформы X360, Wii, PS4, XOne, WiiU, учитывая, что за 2016 год данные не окончательные, это соответствует нашему предположению об перспективных платформах."
   ]
  },
  {
   "cell_type": "markdown",
   "metadata": {},
   "source": [
    "**Вывод:**\n",
    "\n",
    "Выход нового поколения платформ сильно влияет на продажи - PS4 приходит на смену PS3, WiiU сменяет Wii, XOne сменяет X360. Для определенного актуального периода, лидеры по продажам копий - платформы X360, Wii, PS4, XOne, WiiU. Покупатели любят не только новинки среди игр, но и среди платформ, поэтому перспективными будем считать платформы PS4, XOne, WiiU. Пользователи PC не так активны в покупках и чаще пользуются \"пиратскими\" копиями."
   ]
  },
  {
   "cell_type": "markdown",
   "metadata": {},
   "source": [
    "### Влияние отзывов критиков и оценок игроков на продажи"
   ]
  },
  {
   "cell_type": "markdown",
   "metadata": {},
   "source": [
    "Оценим влияние на продажии оценок пользователей и критиков на примере PS4, исключив игры без рейтинга:"
   ]
  },
  {
   "cell_type": "code",
   "execution_count": 29,
   "metadata": {},
   "outputs": [],
   "source": [
    "data_ps = actual_data.query('platform == \"PS4\" and critic_score != -1 and user_score != -1')"
   ]
  },
  {
   "cell_type": "markdown",
   "metadata": {},
   "source": [
    "Построим диаграмму рассеяния и посчитаем корреляцию:"
   ]
  },
  {
   "cell_type": "code",
   "execution_count": 30,
   "metadata": {},
   "outputs": [
    {
     "name": "stdout",
     "output_type": "stream",
     "text": [
      "Корреляция между отзывами критиков  и продажами - 0.40589480145836687\n"
     ]
    },
    {
     "data": {
      "image/png": "[encoded data removed]",
      "text/plain": [
       "<Figure size 432x288 with 1 Axes>"
      ]
     },
     "metadata": {
      "needs_background": "light"
     },
     "output_type": "display_data"
    }
   ],
   "source": [
    "ax = plt.subplot()\n",
    "plt.scatter(data_ps['critic_score'], \n",
    "            data_ps['total_sales']\n",
    "            )\n",
    "ax.set(xlabel='Рейтинг', ylabel= 'Число копий (млн. шт.)')\n",
    "ax.set(title = '''Зависимость продаж от отзывов критиков для платформы PS4,\n",
    "       2013-2016 гг.''')\n",
    "\n",
    "print('Корреляция между отзывами критиков  и продажами -', data_ps['critic_score'].corr(data_ps['total_sales']))\n"
   ]
  },
  {
   "cell_type": "code",
   "execution_count": 31,
   "metadata": {},
   "outputs": [
    {
     "name": "stdout",
     "output_type": "stream",
     "text": [
      "Корреляция между отзывами игроков и продажами - -0.03362497596528878\n"
     ]
    },
    {
     "data": {
      "image/png": "[encoded data removed]",
      "text/plain": [
       "<Figure size 432x288 with 1 Axes>"
      ]
     },
     "metadata": {
      "needs_background": "light"
     },
     "output_type": "display_data"
    }
   ],
   "source": [
    "ax = plt.subplot()\n",
    "plt.scatter(data_ps['user_score'], \n",
    "            data_ps['total_sales']\n",
    "            )\n",
    "ax.set(xlabel='Рейтинг', ylabel= 'Число копий (млн. шт.)')\n",
    "ax.set(title = '''Зависимость продаж игр от отзыва игроков для платформы PS4,\n",
    "       2013-2016 гг.''')\n",
    "\n",
    "print('Корреляция между отзывами игроков и продажами -', data_ps['user_score'].corr(data_ps['total_sales']))"
   ]
  },
  {
   "cell_type": "markdown",
   "metadata": {},
   "source": [
    "Корреляция между отзывами критиков и продажами 0.4 - слабая положительная, между продажами и отзывами игроков -0.03 - очень слабая отрицательная. Вероятно, сами игроки больше доверяют мнению критиков при покупке игр."
   ]
  },
  {
   "cell_type": "code",
   "execution_count": 32,
   "metadata": {},
   "outputs": [
    {
     "name": "stdout",
     "output_type": "stream",
     "text": [
      "PS3\n",
      "Корреляция между отзывами игроков и продажами  - 0.02269094327112414\n",
      "Корреляция между отзывами критиков и продажами - 0.33380663565061736\n",
      "\n",
      "X360\n",
      "Корреляция между отзывами игроков и продажами  - -0.006238179532306317\n",
      "Корреляция между отзывами критиков и продажами - 0.3503445460228664\n",
      "\n",
      "PS4\n",
      "Корреляция между отзывами игроков и продажами  - -0.03362497596528878\n",
      "Корреляция между отзывами критиков и продажами - 0.40589480145836687\n",
      "\n",
      "3DS\n",
      "Корреляция между отзывами игроков и продажами  - 0.2729904366942444\n",
      "Корреляция между отзывами критиков и продажами - 0.3392349287853147\n",
      "\n",
      "XOne\n",
      "Корреляция между отзывами игроков и продажами  - -0.09400318326920852\n",
      "Корреляция между отзывами критиков и продажами - 0.41042203561296375\n",
      "\n",
      "WiiU\n",
      "Корреляция между отзывами игроков и продажами  - 0.40869174384926477\n",
      "Корреляция между отзывами критиков и продажами - 0.37950449899784144\n",
      "\n",
      "Wii\n",
      "Корреляция между отзывами игроков и продажами  - nan\n",
      "Корреляция между отзывами критиков и продажами - nan\n",
      "\n",
      "PC\n",
      "Корреляция между отзывами игроков и продажами  - -0.10923502736171779\n",
      "Корреляция между отзывами критиков и продажами - 0.19412407903472956\n",
      "\n",
      "PSV\n",
      "Корреляция между отзывами игроков и продажами  - 0.2654782720509426\n",
      "Корреляция между отзывами критиков и продажами - 0.2540997021864078\n",
      "\n",
      "DS\n",
      "Корреляция между отзывами игроков и продажами  - nan\n",
      "Корреляция между отзывами критиков и продажами - nan\n",
      "\n",
      "PSP\n",
      "Корреляция между отзывами игроков и продажами  - nan\n",
      "Корреляция между отзывами критиков и продажами - nan\n",
      "\n"
     ]
    }
   ],
   "source": [
    "score_actual_data = actual_data.query('critic_score != -1 and user_score != -1')\n",
    "for platform in list(actual_data['platform'].unique()):\n",
    "    user_corr = score_actual_data.query('platform == @platform')['user_score'].corr(score_actual_data['total_sales'])\n",
    "    critic_corr = score_actual_data.query('platform == @platform')['critic_score'].corr(score_actual_data['total_sales'])\n",
    "    print(platform)\n",
    "    print('Корреляция между отзывами игроков и продажами  -', user_corr)\n",
    "    print('Корреляция между отзывами критиков и продажами -', critic_corr)\n",
    "    print()"
   ]
  },
  {
   "cell_type": "markdown",
   "metadata": {},
   "source": [
    "Для платформ PS4, PS3, X360, XOne, PC отзывы критиков влияют на продажи сильнее, чем оценка пользователей, а для платформ 3DS, WiiU и PSV влияние соизмеримо.  "
   ]
  },
  {
   "cell_type": "markdown",
   "metadata": {},
   "source": [
    "**Вывод:**\n",
    "\n",
    "Отзывы критиков имеют большее влияние на продажи, чем отзывы игроков. Вероятно, сами игроки больше доверяют мнению критиков при покупке игр."
   ]
  },
  {
   "cell_type": "markdown",
   "metadata": {},
   "source": [
    "### Определение прибыльных жанров"
   ]
  },
  {
   "cell_type": "markdown",
   "metadata": {},
   "source": [
    "Оценим распределение игр по жанрам:"
   ]
  },
  {
   "cell_type": "code",
   "execution_count": 33,
   "metadata": {
    "scrolled": true
   },
   "outputs": [
    {
     "data": {
      "image/png": "[encoded data removed]",
      "text/plain": [
       "<Figure size 720x288 with 1 Axes>"
      ]
     },
     "metadata": {
      "needs_background": "light"
     },
     "output_type": "display_data"
    }
   ],
   "source": [
    "actual_data['genre']\n",
    "top_genre = actual_data.groupby('genre').agg({'name':'count'}).sort_values(by = 'name', ascending = False)\n",
    "top_genre.plot(y = 'name', kind = 'bar', figsize = (10,4), legend = False)\n",
    "plt.title(\n",
    "    \"\"\"Распределение игр по жнрам, релизы 2013-2016 гг.\"\"\"\n",
    ")\n",
    "plt.ylabel('Число игр')\n",
    "plt.xlabel('Жанр')\n",
    "\n",
    "plt.show()"
   ]
  },
  {
   "cell_type": "markdown",
   "metadata": {},
   "source": [
    "В выбранном нами периоде 2013-2016 гг. наибольшее число релизов приходится на игры жанра Action, а наименьшее - на жанр Puzzle. Посмотрим, как на распределение продаж по жанрам:"
   ]
  },
  {
   "cell_type": "code",
   "execution_count": 34,
   "metadata": {},
   "outputs": [
    {
     "data": {
      "image/png": "[encoded data removed]",
      "text/plain": [
       "<Figure size 720x288 with 1 Axes>"
      ]
     },
     "metadata": {
      "needs_background": "light"
     },
     "output_type": "display_data"
    }
   ],
   "source": [
    "top_genre_sales = actual_data.groupby('genre').agg({'total_sales':'sum'}).sort_values(by = 'total_sales', ascending = False)\n",
    "top_genre_sales.plot(y = 'total_sales', kind = 'bar', figsize = (10,4), legend = False)\n",
    "plt.title(\n",
    "    \"\"\"Продажи игр по жанрам, релизы 2013-2016 гг.\"\"\"\n",
    ")\n",
    "plt.ylabel('Число проданных копий (млн. шт.)')\n",
    "plt.xlabel('Жанр')\n",
    "\n",
    "plt.show()"
   ]
  },
  {
   "cell_type": "markdown",
   "metadata": {},
   "source": [
    "Жанр Action по прежнему лидирует, по числу проданных копий, за ним следует Shooter. Жанр Adventure спустился к хвосту, а замыкают список игры жанров Strategy и Puzzle. Посмотрим на средние показатели:"
   ]
  },
  {
   "cell_type": "code",
   "execution_count": 35,
   "metadata": {
    "scrolled": true
   },
   "outputs": [
    {
     "data": {
      "image/png": "[encoded data removed]",
      "text/plain": [
       "<Figure size 1080x360 with 1 Axes>"
      ]
     },
     "metadata": {
      "needs_background": "light"
     },
     "output_type": "display_data"
    }
   ],
   "source": [
    "fig, ax = plt.subplots(figsize = (15, 5))\n",
    "fig = sns.boxplot(x=actual_data['genre'], \n",
    "            y=actual_data['total_sales'],\n",
    "            ax=ax\n",
    "            )\n",
    "ax.set(xlabel='Жанр', ylabel= 'Число копий (млн. шт.)')\n",
    "ax.set(title = '''Диаграмма размаха числа проданных копий в зависимости от жанра,\n",
    "       2013-2016 гг.''')\n",
    "ax.set_ylim(0, 3.5)\n",
    "plt.show()"
   ]
  },
  {
   "cell_type": "markdown",
   "metadata": {},
   "source": [
    "Наибольшие средние показатели у игр жанра Shooter, также к успешным относятся игры жанра Sports. Хоть число игр-платформеров не велико, средние показатели по продажам приближаются к спортивным. Тиражи копий жанра Action не высокие, но в целом жарн имеет высокие продажи за счет количества выпускаемых игр. Плохо продаются игры жанров Adventure."
   ]
  },
  {
   "cell_type": "markdown",
   "metadata": {},
   "source": [
    "**Вывод:**\n",
    "\n",
    "Выделим жанры с высокими продажами: Shooter, Sports, Platform и Action.\n",
    "Наибольшие средние показатели у игр жанра Shooter, также к успешным относятся игры жанра Sports. Хоть число игр-платформеров не велико, средние показатели по продажам приближаются к спортивным. Тиражи копий жанра Action не высокие, но в целом жарн имеет высокие продажи за счет количества выпускаемых игр. Плохо продаются игры жанров Adventure. Игр жанра Puzzle выпускают меньше всего и интерес к ним со стороны покупателя низок. \n"
   ]
  },
  {
   "cell_type": "markdown",
   "metadata": {},
   "source": [
    "## Портрет пользователя региона"
   ]
  },
  {
   "cell_type": "markdown",
   "metadata": {},
   "source": [
    "Определим предпочтения игроков в платформам для различных регионов - Североамериканского, Европейского и Японского:"
   ]
  },
  {
   "cell_type": "code",
   "execution_count": 36,
   "metadata": {},
   "outputs": [
    {
     "data": {
      "image/png": "[encoded data removed]",
      "text/plain": [
       "<Figure size 576x288 with 1 Axes>"
      ]
     },
     "metadata": {
      "needs_background": "light"
     },
     "output_type": "display_data"
    }
   ],
   "source": [
    "top_platforms_na = actual_data.groupby('platform').agg(\n",
    "    {'na_sales':'sum'}).sort_values(by = 'na_sales', ascending = False).head(5)\n",
    "top_platforms_eu = actual_data.groupby('platform').agg(\n",
    "    {'eu_sales':'sum'}).sort_values(by = 'eu_sales', ascending = False).head(5)\n",
    "top_platforms_jp = actual_data.groupby('platform').agg(\n",
    "    {'jp_sales':'sum'}).sort_values(by = 'jp_sales', ascending = False).head(5)\n",
    "\n",
    "fig, ax = plt.subplots(figsize=(8, 4))\n",
    "ax.bar(width= 0.4, x= top_platforms_na.index, height = top_platforms_na['na_sales'], label = 'NA')\n",
    "ax.bar(align='edge',width= 0.4, x= top_platforms_eu.index, height = top_platforms_eu['eu_sales'], label = 'EU')\n",
    "ax.bar(align='edge', width= -0.4, x= top_platforms_jp.index, height = top_platforms_jp['jp_sales'], label = 'JP')\n",
    "\n",
    "plt.title(\"\"\"Распределение продаж игр по топ-5 платформам в зависимости от региона, 2013-2016 гг.\"\"\"\n",
    ")\n",
    "plt.ylabel('Число копий (млн. шт.)')\n",
    "plt.xlabel('Платформа')\n",
    "ax.legend()\n",
    "plt.show()"
   ]
  },
  {
   "cell_type": "markdown",
   "metadata": {},
   "source": [
    "Вкусы игроков североамериканского и европейского регионов схожи - на первом месте PS4, а замыкает Топ-5 платформа 3DS. Но есть и различия - платформы X360 и XOne в Северной Америке популярнее, чем в Европе, где PS3 на втором месте. Предпочтения японцев совсем другие - на первом месте 3DS, PS3 на третьем, а PS4 и вовсе четвертая в рейтинге. При этом платформы PSV(3 в рейтинге японцев) и WiiU и вовсе не вошли в Топ-5 американцев и европейцев.\n",
    "\n",
    "Посмотрим, как менялись продажи заактуальный период:"
   ]
  },
  {
   "cell_type": "code",
   "execution_count": 37,
   "metadata": {},
   "outputs": [
    {
     "data": {
      "image/png": "[encoded data removed]",
      "text/plain": [
       "<Figure size 648x216 with 1 Axes>"
      ]
     },
     "metadata": {
      "needs_background": "light"
     },
     "output_type": "display_data"
    },
    {
     "data": {
      "image/png": "[encoded data removed]",
      "text/plain": [
       "<Figure size 648x216 with 1 Axes>"
      ]
     },
     "metadata": {
      "needs_background": "light"
     },
     "output_type": "display_data"
    },
    {
     "data": {
      "image/png": "[encoded data removed]",
      "text/plain": [
       "<Figure size 648x216 with 1 Axes>"
      ]
     },
     "metadata": {
      "needs_background": "light"
     },
     "output_type": "display_data"
    }
   ],
   "source": [
    "actual_platform_na = actual_data.query('platform in @top_platforms_na.index').pivot_table(\n",
    "    index='year_of_release',\n",
    "    columns = 'platform',\n",
    "    values = 'na_sales',\n",
    "    aggfunc = 'sum'\n",
    ")\n",
    "\n",
    "fig, ax = plt.subplots(figsize = (9, 3))\n",
    "ax.plot(actual_platform_na)\n",
    "ax.xaxis.set_major_locator(ticker.MultipleLocator(1))\n",
    "plt.ylabel('Число копий (млн. шт.)')\n",
    "plt.xlabel('Год')\n",
    "plt.title(\n",
    "    \"\"\"Продажи видео-игр для топ-5 платформ Северной Aмерики,\n",
    "    с 2013 по 2016 год\"\"\"\n",
    ")\n",
    "ax.legend(actual_platform_na, loc='upper left')\n",
    "plt.show()\n",
    "\n",
    "actual_platform_eu = actual_data.query('platform in @top_platforms_eu.index').pivot_table(\n",
    "    index='year_of_release',\n",
    "    columns = 'platform',\n",
    "    values = 'eu_sales',\n",
    "    aggfunc = 'sum'\n",
    ")\n",
    "\n",
    "fig, ax = plt.subplots(figsize = (9, 3))\n",
    "ax.plot(actual_platform_eu)\n",
    "ax.xaxis.set_major_locator(ticker.MultipleLocator(1))\n",
    "plt.ylabel('Число копий (млн. шт.)')\n",
    "plt.xlabel('Год')\n",
    "plt.title(\n",
    "    \"\"\"Продажи видео-игр для топ-5 платформ Европейского региона,\n",
    "    с 2013 по 2016 год\"\"\"\n",
    ")\n",
    "ax.legend(actual_platform_eu, loc='upper left')\n",
    "plt.show()\n",
    "\n",
    "actual_platform_jp = actual_data.query('platform in @top_platforms_jp.index').pivot_table(\n",
    "    index='year_of_release',\n",
    "    columns = 'platform',\n",
    "    values = 'jp_sales',\n",
    "    aggfunc = 'sum'\n",
    ")\n",
    "\n",
    "fig, ax = plt.subplots(figsize = (9, 3))\n",
    "ax.plot(actual_platform_jp)\n",
    "ax.xaxis.set_major_locator(ticker.MultipleLocator(1))\n",
    "plt.ylabel('Число копий (млн. шт.)')\n",
    "plt.xlabel('Год')\n",
    "plt.title(\n",
    "    \"\"\"Продажи видео-игр для топ-5 платформ Японского региона,\n",
    "    с 2013 по 2016 год\"\"\"\n",
    ")\n",
    "ax.legend(actual_platform_jp, loc='upper left')\n",
    "plt.show()"
   ]
  },
  {
   "cell_type": "markdown",
   "metadata": {},
   "source": [
    "XOne и PS4 набирают обороты по всем регионам, а интерес к 3DS снижается даже в Японии, хотя продажи по прежнему велики. Игры для устаревающих X360, PSV, PS3 ожидаемо продаются хуже. WiiU, которую мы включили в список перспективных платформ, развивается в Японии.\n",
    "\n",
    "Определим доли для топ-5 платформ по регионамсреди всех продаж. Североамериканский Регион:"
   ]
  },
  {
   "cell_type": "code",
   "execution_count": 38,
   "metadata": {},
   "outputs": [
    {
     "data": {
      "text/html": [
       "<style  type=\"text/css\" >\n",
       "</style><table id=\"T_340ac6be_178c_11ec_a5bd_02420a398d67\" ><thead>    <tr>        <th class=\"blank level0\" ></th>        <th class=\"col_heading level0 col0\" >na_sales</th>        <th class=\"col_heading level0 col1\" >ratio</th>    </tr>    <tr>        <th class=\"index_name level0\" >platform</th>        <th class=\"blank\" ></th>        <th class=\"blank\" ></th>    </tr></thead><tbody>\n",
       "                <tr>\n",
       "                        <th id=\"T_340ac6be_178c_11ec_a5bd_02420a398d67level0_row0\" class=\"row_heading level0 row0\" >PS4</th>\n",
       "                        <td id=\"T_340ac6be_178c_11ec_a5bd_02420a398d67row0_col0\" class=\"data row0 col0\" >108.74</td>\n",
       "                        <td id=\"T_340ac6be_178c_11ec_a5bd_02420a398d67row0_col1\" class=\"data row0 col1\" >24.84%</td>\n",
       "            </tr>\n",
       "            <tr>\n",
       "                        <th id=\"T_340ac6be_178c_11ec_a5bd_02420a398d67level0_row1\" class=\"row_heading level0 row1\" >XOne</th>\n",
       "                        <td id=\"T_340ac6be_178c_11ec_a5bd_02420a398d67row1_col0\" class=\"data row1 col0\" >93.12</td>\n",
       "                        <td id=\"T_340ac6be_178c_11ec_a5bd_02420a398d67row1_col1\" class=\"data row1 col1\" >21.27%</td>\n",
       "            </tr>\n",
       "            <tr>\n",
       "                        <th id=\"T_340ac6be_178c_11ec_a5bd_02420a398d67level0_row2\" class=\"row_heading level0 row2\" >X360</th>\n",
       "                        <td id=\"T_340ac6be_178c_11ec_a5bd_02420a398d67row2_col0\" class=\"data row2 col0\" >81.66</td>\n",
       "                        <td id=\"T_340ac6be_178c_11ec_a5bd_02420a398d67row2_col1\" class=\"data row2 col1\" >18.66%</td>\n",
       "            </tr>\n",
       "            <tr>\n",
       "                        <th id=\"T_340ac6be_178c_11ec_a5bd_02420a398d67level0_row3\" class=\"row_heading level0 row3\" >PS3</th>\n",
       "                        <td id=\"T_340ac6be_178c_11ec_a5bd_02420a398d67row3_col0\" class=\"data row3 col0\" >63.5</td>\n",
       "                        <td id=\"T_340ac6be_178c_11ec_a5bd_02420a398d67row3_col1\" class=\"data row3 col1\" >14.51%</td>\n",
       "            </tr>\n",
       "            <tr>\n",
       "                        <th id=\"T_340ac6be_178c_11ec_a5bd_02420a398d67level0_row4\" class=\"row_heading level0 row4\" >3DS</th>\n",
       "                        <td id=\"T_340ac6be_178c_11ec_a5bd_02420a398d67row4_col0\" class=\"data row4 col0\" >38.2</td>\n",
       "                        <td id=\"T_340ac6be_178c_11ec_a5bd_02420a398d67row4_col1\" class=\"data row4 col1\" >8.73%</td>\n",
       "            </tr>\n",
       "    </tbody></table>"
      ],
      "text/plain": [
       "<pandas.io.formats.style.Styler at 0x7fb690157290>"
      ]
     },
     "execution_count": 38,
     "metadata": {},
     "output_type": "execute_result"
    }
   ],
   "source": [
    "top_platforms_na['ratio'] = top_platforms_na['na_sales']/ actual_data['na_sales'].sum()\n",
    "top_platforms_na = top_platforms_na.style.format({'ratio': '{:.2%}'})\n",
    "top_platforms_na"
   ]
  },
  {
   "cell_type": "markdown",
   "metadata": {},
   "source": [
    "Европейский регион:"
   ]
  },
  {
   "cell_type": "code",
   "execution_count": 39,
   "metadata": {},
   "outputs": [
    {
     "data": {
      "text/html": [
       "<style  type=\"text/css\" >\n",
       "</style><table id=\"T_340ec12e_178c_11ec_a5bd_02420a398d67\" ><thead>    <tr>        <th class=\"blank level0\" ></th>        <th class=\"col_heading level0 col0\" >eu_sales</th>        <th class=\"col_heading level0 col1\" >ratio</th>    </tr>    <tr>        <th class=\"index_name level0\" >platform</th>        <th class=\"blank\" ></th>        <th class=\"blank\" ></th>    </tr></thead><tbody>\n",
       "                <tr>\n",
       "                        <th id=\"T_340ec12e_178c_11ec_a5bd_02420a398d67level0_row0\" class=\"row_heading level0 row0\" >PS4</th>\n",
       "                        <td id=\"T_340ec12e_178c_11ec_a5bd_02420a398d67row0_col0\" class=\"data row0 col0\" >141.09</td>\n",
       "                        <td id=\"T_340ec12e_178c_11ec_a5bd_02420a398d67row0_col1\" class=\"data row0 col1\" >35.97%</td>\n",
       "            </tr>\n",
       "            <tr>\n",
       "                        <th id=\"T_340ec12e_178c_11ec_a5bd_02420a398d67level0_row1\" class=\"row_heading level0 row1\" >PS3</th>\n",
       "                        <td id=\"T_340ec12e_178c_11ec_a5bd_02420a398d67row1_col0\" class=\"data row1 col0\" >67.81</td>\n",
       "                        <td id=\"T_340ec12e_178c_11ec_a5bd_02420a398d67row1_col1\" class=\"data row1 col1\" >17.29%</td>\n",
       "            </tr>\n",
       "            <tr>\n",
       "                        <th id=\"T_340ec12e_178c_11ec_a5bd_02420a398d67level0_row2\" class=\"row_heading level0 row2\" >XOne</th>\n",
       "                        <td id=\"T_340ec12e_178c_11ec_a5bd_02420a398d67row2_col0\" class=\"data row2 col0\" >51.59</td>\n",
       "                        <td id=\"T_340ec12e_178c_11ec_a5bd_02420a398d67row2_col1\" class=\"data row2 col1\" >13.15%</td>\n",
       "            </tr>\n",
       "            <tr>\n",
       "                        <th id=\"T_340ec12e_178c_11ec_a5bd_02420a398d67level0_row3\" class=\"row_heading level0 row3\" >X360</th>\n",
       "                        <td id=\"T_340ec12e_178c_11ec_a5bd_02420a398d67row3_col0\" class=\"data row3 col0\" >42.52</td>\n",
       "                        <td id=\"T_340ec12e_178c_11ec_a5bd_02420a398d67row3_col1\" class=\"data row3 col1\" >10.84%</td>\n",
       "            </tr>\n",
       "            <tr>\n",
       "                        <th id=\"T_340ec12e_178c_11ec_a5bd_02420a398d67level0_row4\" class=\"row_heading level0 row4\" >3DS</th>\n",
       "                        <td id=\"T_340ec12e_178c_11ec_a5bd_02420a398d67row4_col0\" class=\"data row4 col0\" >30.96</td>\n",
       "                        <td id=\"T_340ec12e_178c_11ec_a5bd_02420a398d67row4_col1\" class=\"data row4 col1\" >7.89%</td>\n",
       "            </tr>\n",
       "    </tbody></table>"
      ],
      "text/plain": [
       "<pandas.io.formats.style.Styler at 0x7fb690157090>"
      ]
     },
     "execution_count": 39,
     "metadata": {},
     "output_type": "execute_result"
    }
   ],
   "source": [
    "top_platforms_eu['ratio'] = top_platforms_eu['eu_sales']/ actual_data['eu_sales'].sum()\n",
    "top_platforms_eu = top_platforms_eu.style.format({'ratio': '{:.2%}'})\n",
    "top_platforms_eu"
   ]
  },
  {
   "cell_type": "markdown",
   "metadata": {},
   "source": [
    "Японский регион:"
   ]
  },
  {
   "cell_type": "code",
   "execution_count": 40,
   "metadata": {},
   "outputs": [
    {
     "data": {
      "text/html": [
       "<style  type=\"text/css\" >\n",
       "</style><table id=\"T_34121a04_178c_11ec_a5bd_02420a398d67\" ><thead>    <tr>        <th class=\"blank level0\" ></th>        <th class=\"col_heading level0 col0\" >jp_sales</th>        <th class=\"col_heading level0 col1\" >ratio</th>    </tr>    <tr>        <th class=\"index_name level0\" >platform</th>        <th class=\"blank\" ></th>        <th class=\"blank\" ></th>    </tr></thead><tbody>\n",
       "                <tr>\n",
       "                        <th id=\"T_34121a04_178c_11ec_a5bd_02420a398d67level0_row0\" class=\"row_heading level0 row0\" >3DS</th>\n",
       "                        <td id=\"T_34121a04_178c_11ec_a5bd_02420a398d67row0_col0\" class=\"data row0 col0\" >67.81</td>\n",
       "                        <td id=\"T_34121a04_178c_11ec_a5bd_02420a398d67row0_col1\" class=\"data row0 col1\" >48.17%</td>\n",
       "            </tr>\n",
       "            <tr>\n",
       "                        <th id=\"T_34121a04_178c_11ec_a5bd_02420a398d67level0_row1\" class=\"row_heading level0 row1\" >PS3</th>\n",
       "                        <td id=\"T_34121a04_178c_11ec_a5bd_02420a398d67row1_col0\" class=\"data row1 col0\" >23.35</td>\n",
       "                        <td id=\"T_34121a04_178c_11ec_a5bd_02420a398d67row1_col1\" class=\"data row1 col1\" >16.59%</td>\n",
       "            </tr>\n",
       "            <tr>\n",
       "                        <th id=\"T_34121a04_178c_11ec_a5bd_02420a398d67level0_row2\" class=\"row_heading level0 row2\" >PSV</th>\n",
       "                        <td id=\"T_34121a04_178c_11ec_a5bd_02420a398d67row2_col0\" class=\"data row2 col0\" >18.59</td>\n",
       "                        <td id=\"T_34121a04_178c_11ec_a5bd_02420a398d67row2_col1\" class=\"data row2 col1\" >13.21%</td>\n",
       "            </tr>\n",
       "            <tr>\n",
       "                        <th id=\"T_34121a04_178c_11ec_a5bd_02420a398d67level0_row3\" class=\"row_heading level0 row3\" >PS4</th>\n",
       "                        <td id=\"T_34121a04_178c_11ec_a5bd_02420a398d67row3_col0\" class=\"data row3 col0\" >15.96</td>\n",
       "                        <td id=\"T_34121a04_178c_11ec_a5bd_02420a398d67row3_col1\" class=\"data row3 col1\" >11.34%</td>\n",
       "            </tr>\n",
       "            <tr>\n",
       "                        <th id=\"T_34121a04_178c_11ec_a5bd_02420a398d67level0_row4\" class=\"row_heading level0 row4\" >WiiU</th>\n",
       "                        <td id=\"T_34121a04_178c_11ec_a5bd_02420a398d67row4_col0\" class=\"data row4 col0\" >10.88</td>\n",
       "                        <td id=\"T_34121a04_178c_11ec_a5bd_02420a398d67row4_col1\" class=\"data row4 col1\" >7.73%</td>\n",
       "            </tr>\n",
       "    </tbody></table>"
      ],
      "text/plain": [
       "<pandas.io.formats.style.Styler at 0x7fb69014ced0>"
      ]
     },
     "execution_count": 40,
     "metadata": {},
     "output_type": "execute_result"
    }
   ],
   "source": [
    "top_platforms_jp['ratio'] = top_platforms_jp['jp_sales']/ actual_data['jp_sales'].sum()\n",
    "top_platforms_jp = top_platforms_jp.style.format({'ratio': '{:.2%}'})\n",
    "top_platforms_jp"
   ]
  },
  {
   "cell_type": "markdown",
   "metadata": {},
   "source": [
    "3DS, занимающая в Европе и Северной Америке менее 10 % рынка, в Японии неоспоримый лидер - почти половина всех продаж. PS4 в Америке заняла четверть рынка, в Европе треть. "
   ]
  },
  {
   "cell_type": "markdown",
   "metadata": {},
   "source": [
    "Определим популярные жанры по регионам:"
   ]
  },
  {
   "cell_type": "code",
   "execution_count": 41,
   "metadata": {},
   "outputs": [
    {
     "data": {
      "image/png": "[encoded data removed]",
      "text/plain": [
       "<Figure size 576x288 with 1 Axes>"
      ]
     },
     "metadata": {
      "needs_background": "light"
     },
     "output_type": "display_data"
    }
   ],
   "source": [
    "top_genre_na = actual_data.groupby('genre').agg(\n",
    "    {'na_sales':'sum'}).sort_values(by = 'na_sales', ascending = False).head(5)\n",
    "top_genre_eu = actual_data.groupby('genre').agg(\n",
    "    {'eu_sales':'sum'}).sort_values(by = 'eu_sales', ascending = False).head(5)\n",
    "top_genre_jp = actual_data.groupby('genre').agg(\n",
    "    {'jp_sales':'sum'}).sort_values(by = 'jp_sales', ascending = False).head(5)\n",
    "\n",
    "fig, ax = plt.subplots(figsize=(8, 4))\n",
    "ax.bar(width= 0.4, x= top_genre_na.index, height = top_genre_na['na_sales'], label = 'NA')\n",
    "ax.bar(align='edge',width= 0.4, x= top_genre_eu.index, height = top_genre_eu['eu_sales'], label = 'EU')\n",
    "ax.bar(align='edge', width= -0.4, x= top_genre_jp.index, height = top_genre_jp['jp_sales'], label = 'JP')\n",
    "\n",
    "plt.title(\"\"\"Распределение продаж игр по топ-5 жанрам в зависимости от региона, 2013-2016 гг.\"\"\"\n",
    ")\n",
    "plt.ylabel('Число копий (млн. шт.)')\n",
    "plt.xlabel('Платформа')\n",
    "ax.legend()\n",
    "plt.show()"
   ]
  },
  {
   "cell_type": "code",
   "execution_count": 42,
   "metadata": {},
   "outputs": [
    {
     "data": {
      "text/html": [
       "<style  type=\"text/css\" >\n",
       "</style><table id=\"T_345bc974_178c_11ec_a5bd_02420a398d67\" ><thead>    <tr>        <th class=\"blank level0\" ></th>        <th class=\"col_heading level0 col0\" >na_sales</th>        <th class=\"col_heading level0 col1\" >ratio</th>    </tr>    <tr>        <th class=\"index_name level0\" >genre</th>        <th class=\"blank\" ></th>        <th class=\"blank\" ></th>    </tr></thead><tbody>\n",
       "                <tr>\n",
       "                        <th id=\"T_345bc974_178c_11ec_a5bd_02420a398d67level0_row0\" class=\"row_heading level0 row0\" >Action</th>\n",
       "                        <td id=\"T_345bc974_178c_11ec_a5bd_02420a398d67row0_col0\" class=\"data row0 col0\" >126.05</td>\n",
       "                        <td id=\"T_345bc974_178c_11ec_a5bd_02420a398d67row0_col1\" class=\"data row0 col1\" >28.80%</td>\n",
       "            </tr>\n",
       "            <tr>\n",
       "                        <th id=\"T_345bc974_178c_11ec_a5bd_02420a398d67level0_row1\" class=\"row_heading level0 row1\" >Shooter</th>\n",
       "                        <td id=\"T_345bc974_178c_11ec_a5bd_02420a398d67row1_col0\" class=\"data row1 col0\" >109.74</td>\n",
       "                        <td id=\"T_345bc974_178c_11ec_a5bd_02420a398d67row1_col1\" class=\"data row1 col1\" >25.07%</td>\n",
       "            </tr>\n",
       "            <tr>\n",
       "                        <th id=\"T_345bc974_178c_11ec_a5bd_02420a398d67level0_row2\" class=\"row_heading level0 row2\" >Sports</th>\n",
       "                        <td id=\"T_345bc974_178c_11ec_a5bd_02420a398d67row2_col0\" class=\"data row2 col0\" >65.27</td>\n",
       "                        <td id=\"T_345bc974_178c_11ec_a5bd_02420a398d67row2_col1\" class=\"data row2 col1\" >14.91%</td>\n",
       "            </tr>\n",
       "            <tr>\n",
       "                        <th id=\"T_345bc974_178c_11ec_a5bd_02420a398d67level0_row3\" class=\"row_heading level0 row3\" >Role-Playing</th>\n",
       "                        <td id=\"T_345bc974_178c_11ec_a5bd_02420a398d67row3_col0\" class=\"data row3 col0\" >46.4</td>\n",
       "                        <td id=\"T_345bc974_178c_11ec_a5bd_02420a398d67row3_col1\" class=\"data row3 col1\" >10.60%</td>\n",
       "            </tr>\n",
       "            <tr>\n",
       "                        <th id=\"T_345bc974_178c_11ec_a5bd_02420a398d67level0_row4\" class=\"row_heading level0 row4\" >Misc</th>\n",
       "                        <td id=\"T_345bc974_178c_11ec_a5bd_02420a398d67row4_col0\" class=\"data row4 col0\" >27.49</td>\n",
       "                        <td id=\"T_345bc974_178c_11ec_a5bd_02420a398d67row4_col1\" class=\"data row4 col1\" >6.28%</td>\n",
       "            </tr>\n",
       "    </tbody></table>"
      ],
      "text/plain": [
       "<pandas.io.formats.style.Styler at 0x7fb685c48650>"
      ]
     },
     "execution_count": 42,
     "metadata": {},
     "output_type": "execute_result"
    }
   ],
   "source": [
    "top_genre_na['ratio'] = top_genre_na['na_sales']/ actual_data['na_sales'].sum()\n",
    "top_genre_na = top_genre_na.style.format({'ratio': '{:.2%}'})\n",
    "top_genre_na"
   ]
  },
  {
   "cell_type": "code",
   "execution_count": 43,
   "metadata": {},
   "outputs": [
    {
     "data": {
      "text/html": [
       "<style  type=\"text/css\" >\n",
       "</style><table id=\"T_345e4db6_178c_11ec_a5bd_02420a398d67\" ><thead>    <tr>        <th class=\"blank level0\" ></th>        <th class=\"col_heading level0 col0\" >eu_sales</th>        <th class=\"col_heading level0 col1\" >ratio</th>    </tr>    <tr>        <th class=\"index_name level0\" >genre</th>        <th class=\"blank\" ></th>        <th class=\"blank\" ></th>    </tr></thead><tbody>\n",
       "                <tr>\n",
       "                        <th id=\"T_345e4db6_178c_11ec_a5bd_02420a398d67level0_row0\" class=\"row_heading level0 row0\" >Action</th>\n",
       "                        <td id=\"T_345e4db6_178c_11ec_a5bd_02420a398d67row0_col0\" class=\"data row0 col0\" >118.13</td>\n",
       "                        <td id=\"T_345e4db6_178c_11ec_a5bd_02420a398d67row0_col1\" class=\"data row0 col1\" >30.12%</td>\n",
       "            </tr>\n",
       "            <tr>\n",
       "                        <th id=\"T_345e4db6_178c_11ec_a5bd_02420a398d67level0_row1\" class=\"row_heading level0 row1\" >Shooter</th>\n",
       "                        <td id=\"T_345e4db6_178c_11ec_a5bd_02420a398d67row1_col0\" class=\"data row1 col0\" >87.86</td>\n",
       "                        <td id=\"T_345e4db6_178c_11ec_a5bd_02420a398d67row1_col1\" class=\"data row1 col1\" >22.40%</td>\n",
       "            </tr>\n",
       "            <tr>\n",
       "                        <th id=\"T_345e4db6_178c_11ec_a5bd_02420a398d67level0_row2\" class=\"row_heading level0 row2\" >Sports</th>\n",
       "                        <td id=\"T_345e4db6_178c_11ec_a5bd_02420a398d67row2_col0\" class=\"data row2 col0\" >60.52</td>\n",
       "                        <td id=\"T_345e4db6_178c_11ec_a5bd_02420a398d67row2_col1\" class=\"data row2 col1\" >15.43%</td>\n",
       "            </tr>\n",
       "            <tr>\n",
       "                        <th id=\"T_345e4db6_178c_11ec_a5bd_02420a398d67level0_row3\" class=\"row_heading level0 row3\" >Role-Playing</th>\n",
       "                        <td id=\"T_345e4db6_178c_11ec_a5bd_02420a398d67row3_col0\" class=\"data row3 col0\" >36.97</td>\n",
       "                        <td id=\"T_345e4db6_178c_11ec_a5bd_02420a398d67row3_col1\" class=\"data row3 col1\" >9.43%</td>\n",
       "            </tr>\n",
       "            <tr>\n",
       "                        <th id=\"T_345e4db6_178c_11ec_a5bd_02420a398d67level0_row4\" class=\"row_heading level0 row4\" >Racing</th>\n",
       "                        <td id=\"T_345e4db6_178c_11ec_a5bd_02420a398d67row4_col0\" class=\"data row4 col0\" >20.19</td>\n",
       "                        <td id=\"T_345e4db6_178c_11ec_a5bd_02420a398d67row4_col1\" class=\"data row4 col1\" >5.15%</td>\n",
       "            </tr>\n",
       "    </tbody></table>"
      ],
      "text/plain": [
       "<pandas.io.formats.style.Styler at 0x7fb68fd6c590>"
      ]
     },
     "execution_count": 43,
     "metadata": {},
     "output_type": "execute_result"
    }
   ],
   "source": [
    "top_genre_eu['ratio'] = top_genre_eu['eu_sales']/ actual_data['eu_sales'].sum()\n",
    "top_genre_eu = top_genre_eu.style.format({'ratio': '{:.2%}'})\n",
    "top_genre_eu"
   ]
  },
  {
   "cell_type": "code",
   "execution_count": 44,
   "metadata": {},
   "outputs": [
    {
     "data": {
      "text/html": [
       "<style  type=\"text/css\" >\n",
       "</style><table id=\"T_3461e6ce_178c_11ec_a5bd_02420a398d67\" ><thead>    <tr>        <th class=\"blank level0\" ></th>        <th class=\"col_heading level0 col0\" >jp_sales</th>        <th class=\"col_heading level0 col1\" >ratio</th>    </tr>    <tr>        <th class=\"index_name level0\" >genre</th>        <th class=\"blank\" ></th>        <th class=\"blank\" ></th>    </tr></thead><tbody>\n",
       "                <tr>\n",
       "                        <th id=\"T_3461e6ce_178c_11ec_a5bd_02420a398d67level0_row0\" class=\"row_heading level0 row0\" >Role-Playing</th>\n",
       "                        <td id=\"T_3461e6ce_178c_11ec_a5bd_02420a398d67row0_col0\" class=\"data row0 col0\" >51.04</td>\n",
       "                        <td id=\"T_3461e6ce_178c_11ec_a5bd_02420a398d67row0_col1\" class=\"data row0 col1\" >36.26%</td>\n",
       "            </tr>\n",
       "            <tr>\n",
       "                        <th id=\"T_3461e6ce_178c_11ec_a5bd_02420a398d67level0_row1\" class=\"row_heading level0 row1\" >Action</th>\n",
       "                        <td id=\"T_3461e6ce_178c_11ec_a5bd_02420a398d67row1_col0\" class=\"data row1 col0\" >40.49</td>\n",
       "                        <td id=\"T_3461e6ce_178c_11ec_a5bd_02420a398d67row1_col1\" class=\"data row1 col1\" >28.76%</td>\n",
       "            </tr>\n",
       "            <tr>\n",
       "                        <th id=\"T_3461e6ce_178c_11ec_a5bd_02420a398d67level0_row2\" class=\"row_heading level0 row2\" >Misc</th>\n",
       "                        <td id=\"T_3461e6ce_178c_11ec_a5bd_02420a398d67row2_col0\" class=\"data row2 col0\" >9.2</td>\n",
       "                        <td id=\"T_3461e6ce_178c_11ec_a5bd_02420a398d67row2_col1\" class=\"data row2 col1\" >6.54%</td>\n",
       "            </tr>\n",
       "            <tr>\n",
       "                        <th id=\"T_3461e6ce_178c_11ec_a5bd_02420a398d67level0_row3\" class=\"row_heading level0 row3\" >Fighting</th>\n",
       "                        <td id=\"T_3461e6ce_178c_11ec_a5bd_02420a398d67row3_col0\" class=\"data row3 col0\" >7.65</td>\n",
       "                        <td id=\"T_3461e6ce_178c_11ec_a5bd_02420a398d67row3_col1\" class=\"data row3 col1\" >5.43%</td>\n",
       "            </tr>\n",
       "            <tr>\n",
       "                        <th id=\"T_3461e6ce_178c_11ec_a5bd_02420a398d67level0_row4\" class=\"row_heading level0 row4\" >Shooter</th>\n",
       "                        <td id=\"T_3461e6ce_178c_11ec_a5bd_02420a398d67row4_col0\" class=\"data row4 col0\" >6.61</td>\n",
       "                        <td id=\"T_3461e6ce_178c_11ec_a5bd_02420a398d67row4_col1\" class=\"data row4 col1\" >4.70%</td>\n",
       "            </tr>\n",
       "    </tbody></table>"
      ],
      "text/plain": [
       "<pandas.io.formats.style.Styler at 0x7fb685a04290>"
      ]
     },
     "execution_count": 44,
     "metadata": {},
     "output_type": "execute_result"
    }
   ],
   "source": [
    "top_genre_jp['ratio'] = top_genre_jp['jp_sales']/ actual_data['jp_sales'].sum()\n",
    "top_genre_jp = top_genre_jp.style.format({'ratio': '{:.2%}'})\n",
    "top_genre_jp"
   ]
  },
  {
   "cell_type": "markdown",
   "metadata": {},
   "source": [
    "Вкусы Европейцев и Североамериканцев опять сходятся - наибольший интерес вызывают игры жанра Action, затем Shooter, Sports и RolePlaing. В Европе список замыкает жанр Racing, а в Северной Америке - Misc.\n",
    "\n",
    "Японцы на первое место поставили жанр RolePlaing - более 36% от общего числа продаж. На втором месте Action, затем Misc, Fighting и Shooter. В топ-5 не вошли спортивные игры.\n",
    "\n",
    "Определим, как влияет на продажи рейтинг ESBR:"
   ]
  },
  {
   "cell_type": "code",
   "execution_count": 45,
   "metadata": {},
   "outputs": [
    {
     "data": {
      "text/html": [
       "<style  type=\"text/css\" >\n",
       "</style><table id=\"T_346ccd1e_178c_11ec_a5bd_02420a398d67\" ><thead>    <tr>        <th class=\"blank level0\" ></th>        <th class=\"col_heading level0 col0\" >eu_ratio</th>        <th class=\"col_heading level0 col1\" >eu_sales</th>        <th class=\"col_heading level0 col2\" >jp_ratio</th>        <th class=\"col_heading level0 col3\" >jp_sales</th>        <th class=\"col_heading level0 col4\" >na_ratio</th>        <th class=\"col_heading level0 col5\" >na_sales</th>    </tr>    <tr>        <th class=\"index_name level0\" >rating</th>        <th class=\"blank\" ></th>        <th class=\"blank\" ></th>        <th class=\"blank\" ></th>        <th class=\"blank\" ></th>        <th class=\"blank\" ></th>        <th class=\"blank\" ></th>    </tr></thead><tbody>\n",
       "                <tr>\n",
       "                        <th id=\"T_346ccd1e_178c_11ec_a5bd_02420a398d67level0_row0\" class=\"row_heading level0 row0\" >E</th>\n",
       "                        <td id=\"T_346ccd1e_178c_11ec_a5bd_02420a398d67row0_col0\" class=\"data row0 col0\" >21.25%,</td>\n",
       "                        <td id=\"T_346ccd1e_178c_11ec_a5bd_02420a398d67row0_col1\" class=\"data row0 col1\" >83.36</td>\n",
       "                        <td id=\"T_346ccd1e_178c_11ec_a5bd_02420a398d67row0_col2\" class=\"data row0 col2\" >10.75%</td>\n",
       "                        <td id=\"T_346ccd1e_178c_11ec_a5bd_02420a398d67row0_col3\" class=\"data row0 col3\" >15.14</td>\n",
       "                        <td id=\"T_346ccd1e_178c_11ec_a5bd_02420a398d67row0_col4\" class=\"data row0 col4\" >18.06%</td>\n",
       "                        <td id=\"T_346ccd1e_178c_11ec_a5bd_02420a398d67row0_col5\" class=\"data row0 col5\" >79.05</td>\n",
       "            </tr>\n",
       "            <tr>\n",
       "                        <th id=\"T_346ccd1e_178c_11ec_a5bd_02420a398d67level0_row1\" class=\"row_heading level0 row1\" >E10+</th>\n",
       "                        <td id=\"T_346ccd1e_178c_11ec_a5bd_02420a398d67row1_col0\" class=\"data row1 col0\" >10.88%,</td>\n",
       "                        <td id=\"T_346ccd1e_178c_11ec_a5bd_02420a398d67row1_col1\" class=\"data row1 col1\" >42.69</td>\n",
       "                        <td id=\"T_346ccd1e_178c_11ec_a5bd_02420a398d67row1_col2\" class=\"data row1 col2\" >4.18%</td>\n",
       "                        <td id=\"T_346ccd1e_178c_11ec_a5bd_02420a398d67row1_col3\" class=\"data row1 col3\" >5.89</td>\n",
       "                        <td id=\"T_346ccd1e_178c_11ec_a5bd_02420a398d67row1_col4\" class=\"data row1 col4\" >12.39%</td>\n",
       "                        <td id=\"T_346ccd1e_178c_11ec_a5bd_02420a398d67row1_col5\" class=\"data row1 col5\" >54.24</td>\n",
       "            </tr>\n",
       "            <tr>\n",
       "                        <th id=\"T_346ccd1e_178c_11ec_a5bd_02420a398d67level0_row2\" class=\"row_heading level0 row2\" >M</th>\n",
       "                        <td id=\"T_346ccd1e_178c_11ec_a5bd_02420a398d67row2_col0\" class=\"data row2 col0\" >37.05%,</td>\n",
       "                        <td id=\"T_346ccd1e_178c_11ec_a5bd_02420a398d67row2_col1\" class=\"data row2 col1\" >145.32</td>\n",
       "                        <td id=\"T_346ccd1e_178c_11ec_a5bd_02420a398d67row2_col2\" class=\"data row2 col2\" >10.02%</td>\n",
       "                        <td id=\"T_346ccd1e_178c_11ec_a5bd_02420a398d67row2_col3\" class=\"data row2 col3\" >14.11</td>\n",
       "                        <td id=\"T_346ccd1e_178c_11ec_a5bd_02420a398d67row2_col4\" class=\"data row2 col4\" >37.74%</td>\n",
       "                        <td id=\"T_346ccd1e_178c_11ec_a5bd_02420a398d67row2_col5\" class=\"data row2 col5\" >165.21</td>\n",
       "            </tr>\n",
       "            <tr>\n",
       "                        <th id=\"T_346ccd1e_178c_11ec_a5bd_02420a398d67level0_row3\" class=\"row_heading level0 row3\" >RP</th>\n",
       "                        <td id=\"T_346ccd1e_178c_11ec_a5bd_02420a398d67row3_col0\" class=\"data row3 col0\" >20.12%,</td>\n",
       "                        <td id=\"T_346ccd1e_178c_11ec_a5bd_02420a398d67row3_col1\" class=\"data row3 col1\" >78.91</td>\n",
       "                        <td id=\"T_346ccd1e_178c_11ec_a5bd_02420a398d67row3_col2\" class=\"data row3 col2\" >60.41%</td>\n",
       "                        <td id=\"T_346ccd1e_178c_11ec_a5bd_02420a398d67row3_col3\" class=\"data row3 col3\" >85.05</td>\n",
       "                        <td id=\"T_346ccd1e_178c_11ec_a5bd_02420a398d67row3_col4\" class=\"data row3 col4\" >20.43%</td>\n",
       "                        <td id=\"T_346ccd1e_178c_11ec_a5bd_02420a398d67row3_col5\" class=\"data row3 col5\" >89.42</td>\n",
       "            </tr>\n",
       "            <tr>\n",
       "                        <th id=\"T_346ccd1e_178c_11ec_a5bd_02420a398d67level0_row4\" class=\"row_heading level0 row4\" >T</th>\n",
       "                        <td id=\"T_346ccd1e_178c_11ec_a5bd_02420a398d67row4_col0\" class=\"data row4 col0\" >10.70%,</td>\n",
       "                        <td id=\"T_346ccd1e_178c_11ec_a5bd_02420a398d67row4_col1\" class=\"data row4 col1\" >41.95</td>\n",
       "                        <td id=\"T_346ccd1e_178c_11ec_a5bd_02420a398d67row4_col2\" class=\"data row4 col2\" >14.63%</td>\n",
       "                        <td id=\"T_346ccd1e_178c_11ec_a5bd_02420a398d67row4_col3\" class=\"data row4 col3\" >20.59</td>\n",
       "                        <td id=\"T_346ccd1e_178c_11ec_a5bd_02420a398d67row4_col4\" class=\"data row4 col4\" >11.38%</td>\n",
       "                        <td id=\"T_346ccd1e_178c_11ec_a5bd_02420a398d67row4_col5\" class=\"data row4 col5\" >49.79</td>\n",
       "            </tr>\n",
       "    </tbody></table>"
      ],
      "text/plain": [
       "<pandas.io.formats.style.Styler at 0x7fb6876ab050>"
      ]
     },
     "execution_count": 45,
     "metadata": {},
     "output_type": "execute_result"
    }
   ],
   "source": [
    "rating_region_sales = actual_data.groupby('rating').agg(\n",
    "    {'na_sales':'sum'}).sort_values(by = 'na_sales', ascending = False).head(5)\n",
    "\n",
    "rating_region_sales = actual_data.pivot_table(\n",
    "    index='rating', \n",
    "    values=['na_sales','eu_sales', 'jp_sales'],\n",
    "    aggfunc={'na_sales' : ['sum', 'count'],\n",
    "             'eu_sales' : ['sum', 'count'],\n",
    "             'jp_sales' : ['sum', 'count']}\n",
    ")\n",
    "\n",
    "rating_region_sales.columns = ['eu_ratio','eu_sales', 'jp_ratio', 'jp_sales', 'na_ratio','na_sales']\n",
    "rating_region_sales['eu_ratio'] = rating_region_sales['eu_sales']/ actual_data['eu_sales'].sum()\n",
    "rating_region_sales['jp_ratio'] = rating_region_sales['jp_sales']/ actual_data['jp_sales'].sum()\n",
    "rating_region_sales['na_ratio'] = rating_region_sales['na_sales']/ actual_data['na_sales'].sum()\n",
    "\n",
    "rating_region_sales = rating_region_sales.style.format({'eu_ratio': '{:.2%},',\n",
    "                                                       'jp_ratio': '{:.2%}',\n",
    "                                                        'na_ratio': '{:.2%}'})\n",
    "rating_region_sales\n"
   ]
  },
  {
   "cell_type": "markdown",
   "metadata": {},
   "source": [
    "Не смотря на то, что в Европе существует своё агенство присвоения возрастного рейтинга (PEGI), доли продаж схожи с долями продаж для Североамериканского региона. Игроки отдают своё предпочтение взрослым играм (37% продаж), возможно, что высокий возрастной рейтинг вызывает дополнительный интерес, так как игры для всех(Е) и без оценки(RP) имеют приблизительно одинаковый уровень ~20%, а выделенные в отдельные категории игры E10+ и T(от 10 лет и от 13 лет) в сумме также дадут ~20%.\n",
    "\n",
    "Японский рынок показывает абсолютно другое распределение - 60% проданных игр не имели оценки ESRB, что объясняется наличием собственной системой возрастного рейтинга CERO. Тем не менее, 15% проданных копий - игры для подростков, 11% - игры для всех, 10 % - игры для взрослых и всего 4% продаж игр для детей от 10 лет.\n"
   ]
  },
  {
   "cell_type": "markdown",
   "metadata": {},
   "source": [
    "**Вывод:** Предпочтения пользователей по регионам.\n",
    "\n",
    "Североамериканский регион. Топ-5 игровых платформ: PS4, XOne, PS3, X360, 3DS. В период с 2013 по 2016гг. интерес к играм на PS3 и X360 падает в связи с выходом обновленных платформ PS4 и XOne. Топ-5 жанров: Action, Shooter, Sports, RolePlaing, Misc. По возрастному рейтингу ESBR 38% проданных игр категории М, игры с рейтингом E - 18%, E10+ - 12%, T - 11 %. Доля продаж игр без оценки возрастного рейтинга - 20%.\n",
    "\n",
    "Европейский регион: Топ-5 игровых платформ: PS4, PS3, XOne, X360, 3DS. В период с 2013 по 2016гг. интерес к играм на PS3 и X360 падает в связи с выходом обновленных платформ PS4 и XOne. Топ-5 жанров: Action, Shooter, Sports, RolePlaing, Racing. По возрастному рейтингу ESBR 37% проданных игр категории М, игры с рейтингом E - 21%, E10+ - 11%, T - 11 %. Доля продаж игр без оценки возрастного рейтинга - 20%.\n",
    "\n",
    "Японский регион: Топ-5 игровых платформ:  3DS, PS3, PSV, PS4, WiiU. В период с 2013 по 2016гг. Топ-5 жанров:  RolePlaing, Action, Misc, Fighting, Shooter. По возрастному рейтингу ESBR доля продаж игр без оценки - 60%. "
   ]
  },
  {
   "cell_type": "markdown",
   "metadata": {},
   "source": [
    "## Проверка гипотез"
   ]
  },
  {
   "cell_type": "markdown",
   "metadata": {},
   "source": [
    "### Влияние платформы на пользовательский рейтинг"
   ]
  },
  {
   "cell_type": "markdown",
   "metadata": {},
   "source": [
    "Сформулируем нулевую гипотезу: Средние пользовательские рейтинги платформ Xbox One и PC равны. \n",
    "\n",
    "Альтернативная гипотеза: Средний пользовательский рейтинг платформы Xbox One отличается от среднего пользовательского рейтинга платформы PC.\n",
    "\n",
    "Сформируем выборки, исключив игры без пользовательской оценки:"
   ]
  },
  {
   "cell_type": "code",
   "execution_count": 46,
   "metadata": {},
   "outputs": [],
   "source": [
    "xone = actual_data.query('platform == \"XOne\" and user_score != -1')['user_score']\n",
    "pc = actual_data.query('platform == \"PC\" and user_score != -1')['user_score']"
   ]
  },
  {
   "cell_type": "markdown",
   "metadata": {},
   "source": [
    "Посчитаем средние значения и дисперсию:"
   ]
  },
  {
   "cell_type": "code",
   "execution_count": 47,
   "metadata": {},
   "outputs": [
    {
     "name": "stdout",
     "output_type": "stream",
     "text": [
      "Среднее значение пользовательского рейтинга платформы Xbox One 6.521428571428572\n",
      "Дисперсия 1.8965188383045526\n",
      "Среднее значение пользовательского рейтинга платформы PC 6.2696774193548395\n",
      "Дисперсия 3.016306347554631\n"
     ]
    }
   ],
   "source": [
    "print('Среднее значение пользовательского рейтинга платформы Xbox One',np.mean(xone))\n",
    "print('Дисперсия', np.var(xone))\n",
    "print('Среднее значение пользовательского рейтинга платформы PC', np.mean(pc))\n",
    "print('Дисперсия', np.var(pc))"
   ]
  },
  {
   "cell_type": "markdown",
   "metadata": {},
   "source": [
    "Дисперсия наших выборок отличается. Зададим уровень критической значимости 5%. Достоверность результата- 95%."
   ]
  },
  {
   "cell_type": "code",
   "execution_count": 48,
   "metadata": {},
   "outputs": [
    {
     "name": "stdout",
     "output_type": "stream",
     "text": [
      "P-value: 0.14759594013430463\n",
      "Не получилось отвергнуть нулевую гипотезу\n"
     ]
    }
   ],
   "source": [
    "alpha = 0.05\n",
    "results = st.ttest_ind(xone, pc, equal_var = False)\n",
    "print('P-value:', results.pvalue)\n",
    "\n",
    "if (results.pvalue < alpha):\n",
    "    print(\"Отвергаем нулевую гипотезу\")\n",
    "else:\n",
    "    print(\"Не получилось отвергнуть нулевую гипотезу\")"
   ]
  },
  {
   "cell_type": "markdown",
   "metadata": {},
   "source": [
    "Вероятность случайного совпадения средних значений пользовательских рейтингов для платформ PC и Xone велика, поэтому не получилось отвергнуть нулевую гипотезу. "
   ]
  },
  {
   "cell_type": "markdown",
   "metadata": {},
   "source": [
    "**Вывод:**\n",
    "\n",
    "Средние пользовательские рейтинги платформ Xbox One и PC равны"
   ]
  },
  {
   "cell_type": "markdown",
   "metadata": {},
   "source": [
    "### Влияние жанра на пользовательский рейтинг"
   ]
  },
  {
   "cell_type": "markdown",
   "metadata": {},
   "source": [
    "Сформулируем нулевую гипотезу: Средние пользовательские рейтинги жанров Action и Sports равны. \n",
    "\n",
    "Альтернативная гипотеза: Средние пользовательские рейтинги жанра Action отличаются от средних пользовательских рейтингов жанра Sports.\n",
    "\n",
    "Сформируем выборки, исключив игры без пользовательской оценки:"
   ]
  },
  {
   "cell_type": "code",
   "execution_count": 49,
   "metadata": {},
   "outputs": [],
   "source": [
    "action = actual_data.query('genre == \"Action\" and user_score != -1')['user_score']\n",
    "sports = actual_data.query('genre == \"Sports\" and user_score != -1')['user_score']"
   ]
  },
  {
   "cell_type": "markdown",
   "metadata": {},
   "source": [
    "Посчитаем средние значения и дисперсию:"
   ]
  },
  {
   "cell_type": "code",
   "execution_count": 50,
   "metadata": {},
   "outputs": [
    {
     "name": "stdout",
     "output_type": "stream",
     "text": [
      "Среднее значение пользовательского рейтинга игр жанра Action 6.837532133676092\n",
      "Дисперсия 1.7648124186332366\n",
      "Среднее значение пользовательского рейтинга игр жанра Sports 5.238124999999999\n",
      "Дисперсия 3.160733984375\n"
     ]
    }
   ],
   "source": [
    "print('Среднее значение пользовательского рейтинга игр жанра Action',np.mean(action))\n",
    "print('Дисперсия', np.var(action))\n",
    "print('Среднее значение пользовательского рейтинга игр жанра Sports', np.mean(sports))\n",
    "print('Дисперсия', np.var(sports))"
   ]
  },
  {
   "cell_type": "markdown",
   "metadata": {},
   "source": [
    "Дисперсия наших выборок отличается. Зададим уровень критической значимости 5%. Достоверность результата- 95%."
   ]
  },
  {
   "cell_type": "code",
   "execution_count": 51,
   "metadata": {},
   "outputs": [
    {
     "name": "stdout",
     "output_type": "stream",
     "text": [
      "P-value: 1.4460039700704315e-20\n",
      "Отвергаем нулевую гипотезу\n"
     ]
    }
   ],
   "source": [
    "alpha = 0.05\n",
    "results = st.ttest_ind(action, sports, equal_var = False)\n",
    "print('P-value:', results.pvalue)\n",
    "\n",
    "if (results.pvalue < alpha):\n",
    "    print(\"Отвергаем нулевую гипотезу\")\n",
    "else:\n",
    "    print(\"Не получилось отвергнуть нулевую гипотезу\")"
   ]
  },
  {
   "cell_type": "markdown",
   "metadata": {},
   "source": [
    "Случайная вероятность совпадения пользовательских рейтингов для жанров игр Action и Sports чрезвачайно мала, следовательно отвергаем нулевую гипотезу."
   ]
  },
  {
   "cell_type": "markdown",
   "metadata": {},
   "source": [
    "**Вывод:**\n",
    "Средний пользовательский рейтинг игр жанра Action отличается от среднего пользовательского рейтинга игр жанра Sports. "
   ]
  },
  {
   "cell_type": "markdown",
   "metadata": {},
   "source": [
    "## Общий вывод"
   ]
  },
  {
   "cell_type": "markdown",
   "metadata": {},
   "source": [
    "Был проведен исследовательский анализ данных для прогноза успешности продажкомпьютерных игр. Данные получены из открытых источников.\n",
    "\n",
    "Обнаруженные в данных строки с пустыми значениями в столбцах с названием игры, жанром и годом релиза удалены. Пустые значения в столбцах с рейтингом критиков и пользователей заполнены значением -1. Пустые значения в столбце с возрастным рейтингом заполнены значением RP. Типы данных оптимизированы. В таблицу добавлена общее число продаж копий игры.\n",
    "\n",
    "Пик производства игр пришелся на 2008-2009 гг., а с 2011 года наблюдается спад числа релизов. Самыми успешными платформами, по числу проданных копий игр, являются  платформы производства Sony - в топ-9 входит 5 платформ этого производдителя. Наибольшее число копий игр продано для платформы PS2. Последняяуспешная платформа выпущенна в 2013 году - PS4. Среднее \"время жизни\" платформ - 10 лет.\n",
    "\n",
    "**Определен актуальный период данных для прогноза успешности продаж видео-игр:с 2013 по 2016 гг.** \n",
    "\n",
    "Выход нового поколения платформ сильно влияет на продажи - PS4 приходит на смену PS3, WiiU сменяет Wii, XOne сменяет X360. Покупатели любят не только новинки среди игр, но и среди платформ, поэтому перспективными будем считать платформы PS4, XOne, WiiU. Пользователи PC покупают не так активны в покупках и чаще пользуются \"пиратскими\" копиями.\n",
    "\n",
    "Отзывы критиков имеют большее влияние на продажи, чем отзывы игроков. Вероятно, сами игроки больше доверяют мнению критиков при покупке игр.\n",
    "\n",
    "Выделены жанры с высокими продажами: Shooter, Sports, Platform и Action.\n",
    "Наибольшие средние показатели у игр жанра Shooter, также к успешным относятся игры жанра Sports. Хоть число игр-платформеров не велико, средние показатели по продажам приближаются к спортивным. Тиражи копий жанра Action не высокие, но в целом жарн имеет высокие продажи за счет количества выпускаемых игр. Плохо продаются игры жанров Adventure. Игр жанра Puzzle выпускают меньше всего и интерес к ним со стороны покупателя низок.\n",
    "\n",
    "Анализ позволил сформировать предпочтения игроков, в зависимости от региона:\n",
    "\n",
    "**Североамериканский регион:** Топ-5 игровых платформ: PS4, XOne, PS3, X360, 3DS. В период с 2013 по 2016гг. интерес к играм на PS3 и X360 падает в связи с выходом обновленных платформ PS4 и XOne. Топ-5 жанров: Action, Shooter, Sports, RolePlaing, Misc. По возрастному рейтингу ESBR 38% проданных игр категории М, игры с рейтингом E - 18%, E10+ - 12%, T - 11 %. Доля продаж игр без оценки возрастного рейтинга - 20%.\n",
    "\n",
    "**Европейский регион:** Топ-5 игровых платформ: PS4, PS3, XOne, X360, 3DS. В период с 2013 по 2016гг. интерес к играм на PS3 и X360 падает в связи с выходом обновленных платформ PS4 и XOne. Топ-5 жанров: Action, Shooter, Sports, RolePlaing, Racing. По возрастному рейтингу ESBR 37% проданных игр категории М, игры с рейтингом E - 21%, E10+ - 11%, T - 11 %. Доля продаж игр без оценки возрастного рейтинга - 20%.\n",
    "\n",
    "**Японский регион:** Топ-5 игровых платформ:  3DS, PS3, PSV, PS4, WiiU. В период с 2013 по 2016гг. Топ-5 жанров:  RolePlaing, Action, Misc, Fighting, Shooter. По возрастному рейтингу ESBR доля продаж игр без оценки - 60%. \n",
    "\n",
    "Средние пользовательские рейтинги платформ Xbox One и PC равны.\n",
    "\n",
    "Средний пользовательский рейтинг игр жанра Action отличается от среднего пользовательского рейтинга игр жанра Sports. \n"
   ]
  }
 ],
 "metadata": {
  "ExecuteTimeLog": [
   {
    "duration": 414,
    "start_time": "2021-09-09T11:12:43.055Z"
   },
   {
    "duration": 694,
    "start_time": "2021-09-09T11:12:46.537Z"
   },
   {
    "duration": 75,
    "start_time": "2021-09-09T11:12:47.261Z"
   },
   {
    "duration": 12,
    "start_time": "2021-09-09T11:13:00.475Z"
   },
   {
    "duration": 55,
    "start_time": "2021-09-09T11:18:51.625Z"
   },
   {
    "duration": 11,
    "start_time": "2021-09-09T11:19:00.600Z"
   },
   {
    "duration": 54,
    "start_time": "2021-09-09T11:20:04.025Z"
   },
   {
    "duration": 13,
    "start_time": "2021-09-09T11:20:05.398Z"
   },
   {
    "duration": 4,
    "start_time": "2021-09-09T11:21:46.889Z"
   },
   {
    "duration": 1138,
    "start_time": "2021-09-09T11:22:18.587Z"
   },
   {
    "duration": 763,
    "start_time": "2021-09-09T11:23:53.225Z"
   },
   {
    "duration": 1219,
    "start_time": "2021-09-09T11:24:10.775Z"
   },
   {
    "duration": 122,
    "start_time": "2021-09-09T11:25:22.476Z"
   },
   {
    "duration": 5,
    "start_time": "2021-09-09T11:25:30.236Z"
   },
   {
    "duration": 55,
    "start_time": "2021-09-09T11:27:58.545Z"
   },
   {
    "duration": 11,
    "start_time": "2021-09-09T11:28:07.438Z"
   },
   {
    "duration": 4,
    "start_time": "2021-09-09T11:28:21.204Z"
   },
   {
    "duration": 5,
    "start_time": "2021-09-09T11:37:25.683Z"
   },
   {
    "duration": 119,
    "start_time": "2021-09-09T11:41:09.807Z"
   },
   {
    "duration": 439,
    "start_time": "2021-09-09T11:41:55.564Z"
   },
   {
    "duration": 1547,
    "start_time": "2021-09-09T11:42:36.256Z"
   },
   {
    "duration": 713,
    "start_time": "2021-09-09T11:43:07.860Z"
   },
   {
    "duration": 2,
    "start_time": "2021-09-09T11:43:28.108Z"
   },
   {
    "duration": 391,
    "start_time": "2021-09-09T11:43:32.675Z"
   },
   {
    "duration": 22,
    "start_time": "2021-09-09T11:45:08.795Z"
   },
   {
    "duration": 8,
    "start_time": "2021-09-09T11:48:01.410Z"
   },
   {
    "duration": 837,
    "start_time": "2021-09-09T11:48:12.728Z"
   },
   {
    "duration": 374,
    "start_time": "2021-09-09T11:49:02.568Z"
   },
   {
    "duration": 12,
    "start_time": "2021-09-09T11:50:54.213Z"
   },
   {
    "duration": 5,
    "start_time": "2021-09-09T11:55:27.855Z"
   },
   {
    "duration": 8,
    "start_time": "2021-09-09T11:57:38.069Z"
   },
   {
    "duration": 372,
    "start_time": "2021-09-09T11:59:50.941Z"
   },
   {
    "duration": 10,
    "start_time": "2021-09-09T12:01:00.502Z"
   },
   {
    "duration": 23,
    "start_time": "2021-09-09T12:01:08.740Z"
   },
   {
    "duration": 26,
    "start_time": "2021-09-09T12:01:34.015Z"
   },
   {
    "duration": 1190,
    "start_time": "2021-09-09T12:02:09.004Z"
   },
   {
    "duration": 444,
    "start_time": "2021-09-09T12:02:14.446Z"
   },
   {
    "duration": 24,
    "start_time": "2021-09-09T12:11:01.102Z"
   },
   {
    "duration": 379,
    "start_time": "2021-09-09T15:56:46.043Z"
   },
   {
    "duration": 605,
    "start_time": "2021-09-09T15:56:51.015Z"
   },
   {
    "duration": 58,
    "start_time": "2021-09-09T15:56:51.622Z"
   },
   {
    "duration": 9,
    "start_time": "2021-09-09T15:56:51.682Z"
   },
   {
    "duration": 28,
    "start_time": "2021-09-09T15:56:51.693Z"
   },
   {
    "duration": 5,
    "start_time": "2021-09-09T15:56:53.715Z"
   },
   {
    "duration": 364,
    "start_time": "2021-09-09T15:56:56.612Z"
   },
   {
    "duration": 10,
    "start_time": "2021-09-09T15:57:03.850Z"
   },
   {
    "duration": 3,
    "start_time": "2021-09-09T16:01:43.301Z"
   },
   {
    "duration": 13,
    "start_time": "2021-09-09T16:05:01.783Z"
   },
   {
    "duration": 359,
    "start_time": "2021-09-09T16:15:39.876Z"
   },
   {
    "duration": 368,
    "start_time": "2021-09-09T16:16:06.886Z"
   },
   {
    "duration": 27,
    "start_time": "2021-09-09T16:16:49.459Z"
   },
   {
    "duration": 11,
    "start_time": "2021-09-09T16:17:40.927Z"
   },
   {
    "duration": 8,
    "start_time": "2021-09-09T16:18:42.593Z"
   },
   {
    "duration": 462,
    "start_time": "2021-09-10T06:52:09.667Z"
   },
   {
    "duration": 601,
    "start_time": "2021-09-10T06:52:17.391Z"
   },
   {
    "duration": 67,
    "start_time": "2021-09-10T06:52:19.179Z"
   },
   {
    "duration": 64,
    "start_time": "2021-09-10T06:53:28.160Z"
   },
   {
    "duration": 30,
    "start_time": "2021-09-10T06:53:32.814Z"
   },
   {
    "duration": 70,
    "start_time": "2021-09-10T06:54:02.337Z"
   },
   {
    "duration": 13,
    "start_time": "2021-09-10T06:54:03.682Z"
   },
   {
    "duration": 4,
    "start_time": "2021-09-10T07:09:41.350Z"
   },
   {
    "duration": 13,
    "start_time": "2021-09-10T07:16:17.257Z"
   },
   {
    "duration": 12,
    "start_time": "2021-09-10T07:17:13.247Z"
   },
   {
    "duration": 2008,
    "start_time": "2021-09-10T07:18:54.028Z"
   },
   {
    "duration": 2214,
    "start_time": "2021-09-10T07:20:00.637Z"
   },
   {
    "duration": 666,
    "start_time": "2021-09-10T07:21:16.479Z"
   },
   {
    "duration": 855,
    "start_time": "2021-09-10T07:22:13.203Z"
   },
   {
    "duration": 215,
    "start_time": "2021-09-10T07:22:30.996Z"
   },
   {
    "duration": 11,
    "start_time": "2021-09-10T07:23:22.776Z"
   },
   {
    "duration": 9,
    "start_time": "2021-09-10T07:23:29.710Z"
   },
   {
    "duration": 167,
    "start_time": "2021-09-10T07:25:11.667Z"
   },
   {
    "duration": 9,
    "start_time": "2021-09-10T07:25:26.013Z"
   },
   {
    "duration": 14,
    "start_time": "2021-09-10T07:25:49.956Z"
   },
   {
    "duration": 12,
    "start_time": "2021-09-10T07:26:04.990Z"
   },
   {
    "duration": 19,
    "start_time": "2021-09-10T07:27:30.391Z"
   },
   {
    "duration": 6,
    "start_time": "2021-09-10T07:29:14.912Z"
   },
   {
    "duration": 6,
    "start_time": "2021-09-10T07:29:36.396Z"
   },
   {
    "duration": 31,
    "start_time": "2021-09-10T07:35:33.340Z"
   },
   {
    "duration": 7,
    "start_time": "2021-09-10T07:35:59.149Z"
   },
   {
    "duration": 8,
    "start_time": "2021-09-10T07:38:37.067Z"
   },
   {
    "duration": 8,
    "start_time": "2021-09-10T07:38:47.444Z"
   },
   {
    "duration": 7,
    "start_time": "2021-09-10T07:39:25.347Z"
   },
   {
    "duration": 6,
    "start_time": "2021-09-10T07:39:40.651Z"
   },
   {
    "duration": 6,
    "start_time": "2021-09-10T07:39:49.209Z"
   },
   {
    "duration": 7,
    "start_time": "2021-09-10T07:39:56.946Z"
   },
   {
    "duration": 9,
    "start_time": "2021-09-10T07:41:34.104Z"
   },
   {
    "duration": 7,
    "start_time": "2021-09-10T07:41:45.529Z"
   },
   {
    "duration": 8,
    "start_time": "2021-09-10T07:42:12.507Z"
   },
   {
    "duration": 8,
    "start_time": "2021-09-10T07:42:25.682Z"
   },
   {
    "duration": 8,
    "start_time": "2021-09-10T07:45:12.894Z"
   },
   {
    "duration": 16,
    "start_time": "2021-09-10T07:45:35.501Z"
   },
   {
    "duration": 8,
    "start_time": "2021-09-10T07:49:01.128Z"
   },
   {
    "duration": 7,
    "start_time": "2021-09-10T07:51:38.739Z"
   },
   {
    "duration": 19,
    "start_time": "2021-09-10T07:51:48.033Z"
   },
   {
    "duration": 405,
    "start_time": "2021-09-10T07:52:16.271Z"
   },
   {
    "duration": 354,
    "start_time": "2021-09-10T07:52:28.600Z"
   },
   {
    "duration": 475,
    "start_time": "2021-09-10T07:53:08.703Z"
   },
   {
    "duration": 340,
    "start_time": "2021-09-10T07:53:41.295Z"
   },
   {
    "duration": 28,
    "start_time": "2021-09-10T07:53:56.281Z"
   },
   {
    "duration": 14,
    "start_time": "2021-09-10T07:54:47.160Z"
   },
   {
    "duration": 13,
    "start_time": "2021-09-10T07:54:54.823Z"
   },
   {
    "duration": 1829,
    "start_time": "2021-09-10T07:56:30.240Z"
   },
   {
    "duration": 3,
    "start_time": "2021-09-10T07:56:47.742Z"
   },
   {
    "duration": 78,
    "start_time": "2021-09-10T07:56:47.747Z"
   },
   {
    "duration": 12,
    "start_time": "2021-09-10T07:56:47.827Z"
   },
   {
    "duration": 14,
    "start_time": "2021-09-10T07:56:47.841Z"
   },
   {
    "duration": 12,
    "start_time": "2021-09-10T07:56:47.857Z"
   },
   {
    "duration": 22,
    "start_time": "2021-09-10T07:56:47.871Z"
   },
   {
    "duration": 12,
    "start_time": "2021-09-10T07:56:47.895Z"
   },
   {
    "duration": 19,
    "start_time": "2021-09-10T07:56:47.909Z"
   },
   {
    "duration": 5,
    "start_time": "2021-09-10T07:56:52.129Z"
   },
   {
    "duration": 12,
    "start_time": "2021-09-10T07:57:01.310Z"
   },
   {
    "duration": 9,
    "start_time": "2021-09-10T08:04:02.778Z"
   },
   {
    "duration": 19,
    "start_time": "2021-09-10T08:14:06.562Z"
   },
   {
    "duration": 4,
    "start_time": "2021-09-10T08:15:22.005Z"
   },
   {
    "duration": 6,
    "start_time": "2021-09-10T08:29:19.027Z"
   },
   {
    "duration": 345,
    "start_time": "2021-09-10T08:29:29.722Z"
   },
   {
    "duration": 407,
    "start_time": "2021-09-10T08:29:44.168Z"
   },
   {
    "duration": 340,
    "start_time": "2021-09-10T08:30:22.441Z"
   },
   {
    "duration": 417,
    "start_time": "2021-09-10T08:31:06.420Z"
   },
   {
    "duration": 327,
    "start_time": "2021-09-10T08:31:23.505Z"
   },
   {
    "duration": 7,
    "start_time": "2021-09-10T08:31:43.692Z"
   },
   {
    "duration": 11,
    "start_time": "2021-09-10T08:32:37.037Z"
   },
   {
    "duration": 14,
    "start_time": "2021-09-10T08:32:50.987Z"
   },
   {
    "duration": 7,
    "start_time": "2021-09-10T08:37:58.186Z"
   },
   {
    "duration": 5,
    "start_time": "2021-09-10T08:38:12.434Z"
   },
   {
    "duration": 14,
    "start_time": "2021-09-10T08:39:50.639Z"
   },
   {
    "duration": 12,
    "start_time": "2021-09-10T08:40:15.138Z"
   },
   {
    "duration": 13,
    "start_time": "2021-09-10T08:41:27.012Z"
   },
   {
    "duration": 2,
    "start_time": "2021-09-10T08:55:03.241Z"
   },
   {
    "duration": 76,
    "start_time": "2021-09-10T08:55:03.246Z"
   },
   {
    "duration": 13,
    "start_time": "2021-09-10T08:55:03.324Z"
   },
   {
    "duration": 8,
    "start_time": "2021-09-10T08:55:03.339Z"
   },
   {
    "duration": 16,
    "start_time": "2021-09-10T08:55:03.349Z"
   },
   {
    "duration": 26,
    "start_time": "2021-09-10T08:55:03.367Z"
   },
   {
    "duration": 23,
    "start_time": "2021-09-10T08:55:03.395Z"
   },
   {
    "duration": 19,
    "start_time": "2021-09-10T08:55:03.419Z"
   },
   {
    "duration": 19,
    "start_time": "2021-09-10T08:55:03.441Z"
   },
   {
    "duration": 13,
    "start_time": "2021-09-10T08:55:14.263Z"
   },
   {
    "duration": 5,
    "start_time": "2021-09-10T08:55:16.614Z"
   },
   {
    "duration": 7,
    "start_time": "2021-09-10T08:55:19.522Z"
   },
   {
    "duration": 11,
    "start_time": "2021-09-10T08:55:24.409Z"
   },
   {
    "duration": 13,
    "start_time": "2021-09-10T08:55:26.736Z"
   },
   {
    "duration": 33,
    "start_time": "2021-09-10T08:59:33.148Z"
   },
   {
    "duration": 20,
    "start_time": "2021-09-10T08:59:40.511Z"
   },
   {
    "duration": 12,
    "start_time": "2021-09-10T09:00:14.053Z"
   },
   {
    "duration": 8,
    "start_time": "2021-09-10T11:10:18.868Z"
   },
   {
    "duration": 2,
    "start_time": "2021-09-10T11:11:39.651Z"
   },
   {
    "duration": 81,
    "start_time": "2021-09-10T11:11:39.655Z"
   },
   {
    "duration": 13,
    "start_time": "2021-09-10T11:11:39.738Z"
   },
   {
    "duration": 7,
    "start_time": "2021-09-10T11:11:39.753Z"
   },
   {
    "duration": 12,
    "start_time": "2021-09-10T11:11:39.761Z"
   },
   {
    "duration": 14,
    "start_time": "2021-09-10T11:11:39.792Z"
   },
   {
    "duration": 11,
    "start_time": "2021-09-10T11:11:39.808Z"
   },
   {
    "duration": 22,
    "start_time": "2021-09-10T11:11:39.822Z"
   },
   {
    "duration": 12,
    "start_time": "2021-09-10T11:11:39.846Z"
   },
   {
    "duration": 34,
    "start_time": "2021-09-10T11:11:39.860Z"
   },
   {
    "duration": 8,
    "start_time": "2021-09-10T11:11:39.896Z"
   },
   {
    "duration": 16,
    "start_time": "2021-09-10T11:11:39.906Z"
   },
   {
    "duration": 13,
    "start_time": "2021-09-10T11:11:39.924Z"
   },
   {
    "duration": 19,
    "start_time": "2021-09-10T11:11:39.938Z"
   },
   {
    "duration": 8,
    "start_time": "2021-09-10T11:11:42.601Z"
   },
   {
    "duration": 3,
    "start_time": "2021-09-10T11:12:04.876Z"
   },
   {
    "duration": 79,
    "start_time": "2021-09-10T11:12:04.881Z"
   },
   {
    "duration": 13,
    "start_time": "2021-09-10T11:12:04.962Z"
   },
   {
    "duration": 11,
    "start_time": "2021-09-10T11:12:04.976Z"
   },
   {
    "duration": 23,
    "start_time": "2021-09-10T11:12:04.988Z"
   },
   {
    "duration": 19,
    "start_time": "2021-09-10T11:12:05.013Z"
   },
   {
    "duration": 18,
    "start_time": "2021-09-10T11:12:05.034Z"
   },
   {
    "duration": 26,
    "start_time": "2021-09-10T11:12:05.054Z"
   },
   {
    "duration": 14,
    "start_time": "2021-09-10T11:12:05.082Z"
   },
   {
    "duration": 17,
    "start_time": "2021-09-10T11:12:07.303Z"
   },
   {
    "duration": 35,
    "start_time": "2021-09-10T11:12:36.247Z"
   },
   {
    "duration": 10,
    "start_time": "2021-09-10T11:12:43.708Z"
   },
   {
    "duration": 28,
    "start_time": "2021-09-10T11:13:05.524Z"
   },
   {
    "duration": 7,
    "start_time": "2021-09-10T11:13:09.365Z"
   },
   {
    "duration": 10,
    "start_time": "2021-09-10T11:14:19.757Z"
   },
   {
    "duration": 22,
    "start_time": "2021-09-10T11:14:25.003Z"
   },
   {
    "duration": 3,
    "start_time": "2021-09-10T11:15:12.762Z"
   },
   {
    "duration": 80,
    "start_time": "2021-09-10T11:15:12.767Z"
   },
   {
    "duration": 15,
    "start_time": "2021-09-10T11:15:12.850Z"
   },
   {
    "duration": 6566,
    "start_time": "2021-09-10T11:15:17.334Z"
   },
   {
    "duration": 10,
    "start_time": "2021-09-10T11:15:31.250Z"
   },
   {
    "duration": 6957,
    "start_time": "2021-09-10T11:15:44.807Z"
   },
   {
    "duration": 9,
    "start_time": "2021-09-10T11:15:55.891Z"
   },
   {
    "duration": 4,
    "start_time": "2021-09-10T11:16:06.663Z"
   },
   {
    "duration": 11,
    "start_time": "2021-09-10T11:16:08.347Z"
   },
   {
    "duration": 13,
    "start_time": "2021-09-10T11:16:12.322Z"
   },
   {
    "duration": 12,
    "start_time": "2021-09-10T11:16:13.813Z"
   },
   {
    "duration": 21,
    "start_time": "2021-09-10T11:16:20.630Z"
   },
   {
    "duration": 15,
    "start_time": "2021-09-10T11:17:24.959Z"
   },
   {
    "duration": 5,
    "start_time": "2021-09-10T11:17:26.468Z"
   },
   {
    "duration": 6,
    "start_time": "2021-09-10T11:17:33.905Z"
   },
   {
    "duration": 13,
    "start_time": "2021-09-10T11:17:37.949Z"
   },
   {
    "duration": 16,
    "start_time": "2021-09-10T11:17:41.678Z"
   },
   {
    "duration": 33,
    "start_time": "2021-09-10T11:19:33.468Z"
   },
   {
    "duration": 24,
    "start_time": "2021-09-10T11:19:50.283Z"
   },
   {
    "duration": 26,
    "start_time": "2021-09-10T11:20:20.220Z"
   },
   {
    "duration": 8,
    "start_time": "2021-09-10T11:20:44.759Z"
   },
   {
    "duration": 286,
    "start_time": "2021-09-10T11:21:02.475Z"
   },
   {
    "duration": 86,
    "start_time": "2021-09-10T11:21:37.689Z"
   },
   {
    "duration": 12,
    "start_time": "2021-09-10T11:21:47.020Z"
   },
   {
    "duration": 5,
    "start_time": "2021-09-10T11:22:11.350Z"
   },
   {
    "duration": 27,
    "start_time": "2021-09-10T11:22:32.726Z"
   },
   {
    "duration": 15,
    "start_time": "2021-09-10T11:22:39.994Z"
   },
   {
    "duration": 29,
    "start_time": "2021-09-10T11:22:49.599Z"
   },
   {
    "duration": 3,
    "start_time": "2021-09-10T11:23:09.682Z"
   },
   {
    "duration": 79,
    "start_time": "2021-09-10T11:23:09.687Z"
   },
   {
    "duration": 13,
    "start_time": "2021-09-10T11:23:09.768Z"
   },
   {
    "duration": 5,
    "start_time": "2021-09-10T11:23:11.766Z"
   },
   {
    "duration": 4,
    "start_time": "2021-09-10T11:23:33.879Z"
   },
   {
    "duration": 10,
    "start_time": "2021-09-10T11:23:36.293Z"
   },
   {
    "duration": 14,
    "start_time": "2021-09-10T11:24:30.730Z"
   },
   {
    "duration": 11,
    "start_time": "2021-09-10T11:24:37.249Z"
   },
   {
    "duration": 22,
    "start_time": "2021-09-10T11:24:40.202Z"
   },
   {
    "duration": 14,
    "start_time": "2021-09-10T11:24:56.487Z"
   },
   {
    "duration": 5,
    "start_time": "2021-09-10T11:25:16.238Z"
   },
   {
    "duration": 6,
    "start_time": "2021-09-10T11:25:27.545Z"
   },
   {
    "duration": 6,
    "start_time": "2021-09-10T11:25:37.592Z"
   },
   {
    "duration": 11,
    "start_time": "2021-09-10T11:25:42.553Z"
   },
   {
    "duration": 14,
    "start_time": "2021-09-10T11:25:44.487Z"
   },
   {
    "duration": 288,
    "start_time": "2021-09-10T11:26:29.805Z"
   },
   {
    "duration": 28,
    "start_time": "2021-09-10T11:27:52.724Z"
   },
   {
    "duration": 6,
    "start_time": "2021-09-10T11:27:57.890Z"
   },
   {
    "duration": 7,
    "start_time": "2021-09-10T11:28:38.903Z"
   },
   {
    "duration": 13,
    "start_time": "2021-09-10T11:30:52.855Z"
   },
   {
    "duration": 16,
    "start_time": "2021-09-10T11:31:53.982Z"
   },
   {
    "duration": 14,
    "start_time": "2021-09-10T11:32:30.288Z"
   },
   {
    "duration": 13,
    "start_time": "2021-09-10T11:41:44.770Z"
   },
   {
    "duration": 14,
    "start_time": "2021-09-10T11:43:49.098Z"
   },
   {
    "duration": 22,
    "start_time": "2021-09-10T11:45:36.713Z"
   },
   {
    "duration": 3,
    "start_time": "2021-09-10T11:46:43.845Z"
   },
   {
    "duration": 78,
    "start_time": "2021-09-10T11:46:43.850Z"
   },
   {
    "duration": 12,
    "start_time": "2021-09-10T11:46:43.930Z"
   },
   {
    "duration": 6,
    "start_time": "2021-09-10T11:46:43.944Z"
   },
   {
    "duration": 12,
    "start_time": "2021-09-10T11:46:43.952Z"
   },
   {
    "duration": 28,
    "start_time": "2021-09-10T11:46:43.966Z"
   },
   {
    "duration": 15,
    "start_time": "2021-09-10T11:46:43.996Z"
   },
   {
    "duration": 19,
    "start_time": "2021-09-10T11:46:44.013Z"
   },
   {
    "duration": 14,
    "start_time": "2021-09-10T11:46:44.033Z"
   },
   {
    "duration": 4,
    "start_time": "2021-09-10T11:46:44.048Z"
   },
   {
    "duration": 6,
    "start_time": "2021-09-10T11:46:44.053Z"
   },
   {
    "duration": 38,
    "start_time": "2021-09-10T11:46:44.061Z"
   },
   {
    "duration": 17,
    "start_time": "2021-09-10T11:46:44.101Z"
   },
   {
    "duration": 24,
    "start_time": "2021-09-10T11:46:44.120Z"
   },
   {
    "duration": 6,
    "start_time": "2021-09-10T11:46:44.146Z"
   },
   {
    "duration": 44,
    "start_time": "2021-09-10T11:46:44.153Z"
   },
   {
    "duration": 21,
    "start_time": "2021-09-10T11:48:17.831Z"
   },
   {
    "duration": 5,
    "start_time": "2021-09-10T11:52:16.284Z"
   },
   {
    "duration": 9,
    "start_time": "2021-09-10T11:54:10.042Z"
   },
   {
    "duration": 11,
    "start_time": "2021-09-10T11:54:15.276Z"
   },
   {
    "duration": 10,
    "start_time": "2021-09-10T12:15:48.829Z"
   },
   {
    "duration": 17,
    "start_time": "2021-09-10T12:21:56.089Z"
   },
   {
    "duration": 15,
    "start_time": "2021-09-10T12:22:08.860Z"
   },
   {
    "duration": 4,
    "start_time": "2021-09-10T12:22:09.232Z"
   },
   {
    "duration": 7,
    "start_time": "2021-09-10T12:22:09.527Z"
   },
   {
    "duration": 11,
    "start_time": "2021-09-10T12:22:09.817Z"
   },
   {
    "duration": 13,
    "start_time": "2021-09-10T12:22:10.124Z"
   },
   {
    "duration": 21,
    "start_time": "2021-09-10T12:22:10.449Z"
   },
   {
    "duration": 7,
    "start_time": "2021-09-10T12:22:10.755Z"
   },
   {
    "duration": 4,
    "start_time": "2021-09-10T12:22:11.089Z"
   },
   {
    "duration": 6,
    "start_time": "2021-09-10T12:22:21.589Z"
   },
   {
    "duration": 8,
    "start_time": "2021-09-10T12:22:22.121Z"
   },
   {
    "duration": 10,
    "start_time": "2021-09-10T12:22:22.679Z"
   },
   {
    "duration": 2,
    "start_time": "2021-09-10T12:22:40.906Z"
   },
   {
    "duration": 75,
    "start_time": "2021-09-10T12:22:40.910Z"
   },
   {
    "duration": 13,
    "start_time": "2021-09-10T12:22:40.986Z"
   },
   {
    "duration": 6,
    "start_time": "2021-09-10T12:22:41.001Z"
   },
   {
    "duration": 12,
    "start_time": "2021-09-10T12:22:41.008Z"
   },
   {
    "duration": 13,
    "start_time": "2021-09-10T12:22:41.021Z"
   },
   {
    "duration": 11,
    "start_time": "2021-09-10T12:22:41.036Z"
   },
   {
    "duration": 50,
    "start_time": "2021-09-10T12:22:41.050Z"
   },
   {
    "duration": 17,
    "start_time": "2021-09-10T12:22:41.103Z"
   },
   {
    "duration": 5,
    "start_time": "2021-09-10T12:22:41.122Z"
   },
   {
    "duration": 7,
    "start_time": "2021-09-10T12:22:41.128Z"
   },
   {
    "duration": 16,
    "start_time": "2021-09-10T12:22:41.137Z"
   },
   {
    "duration": 37,
    "start_time": "2021-09-10T12:22:41.155Z"
   },
   {
    "duration": 25,
    "start_time": "2021-09-10T12:22:41.194Z"
   },
   {
    "duration": 6,
    "start_time": "2021-09-10T12:22:45.615Z"
   },
   {
    "duration": 4,
    "start_time": "2021-09-10T12:22:54.664Z"
   },
   {
    "duration": 7,
    "start_time": "2021-09-10T12:22:55.838Z"
   },
   {
    "duration": 7,
    "start_time": "2021-09-10T12:22:56.780Z"
   },
   {
    "duration": 5871,
    "start_time": "2021-09-10T12:32:06.323Z"
   },
   {
    "duration": 5826,
    "start_time": "2021-09-10T12:32:25.379Z"
   },
   {
    "duration": 299,
    "start_time": "2021-09-10T12:35:31.732Z"
   },
   {
    "duration": 215,
    "start_time": "2021-09-10T12:36:05.102Z"
   },
   {
    "duration": 250,
    "start_time": "2021-09-10T12:36:32.140Z"
   },
   {
    "duration": 6,
    "start_time": "2021-09-10T12:36:42.068Z"
   },
   {
    "duration": 251,
    "start_time": "2021-09-10T12:37:19.300Z"
   },
   {
    "duration": 210,
    "start_time": "2021-09-10T12:37:36.190Z"
   },
   {
    "duration": 164,
    "start_time": "2021-09-10T12:37:50.152Z"
   },
   {
    "duration": 349,
    "start_time": "2021-09-10T12:38:09.821Z"
   },
   {
    "duration": 261,
    "start_time": "2021-09-10T12:38:22.035Z"
   },
   {
    "duration": 162,
    "start_time": "2021-09-10T12:38:29.599Z"
   },
   {
    "duration": 194,
    "start_time": "2021-09-10T12:38:42.447Z"
   },
   {
    "duration": 645,
    "start_time": "2021-09-10T12:39:42.178Z"
   },
   {
    "duration": 5591,
    "start_time": "2021-09-13T06:43:54.739Z"
   },
   {
    "duration": 3207,
    "start_time": "2021-09-13T06:44:51.409Z"
   },
   {
    "duration": 86,
    "start_time": "2021-09-13T06:44:54.619Z"
   },
   {
    "duration": 16,
    "start_time": "2021-09-13T06:44:54.708Z"
   },
   {
    "duration": 15,
    "start_time": "2021-09-13T06:44:54.727Z"
   },
   {
    "duration": 12,
    "start_time": "2021-09-13T06:44:54.745Z"
   },
   {
    "duration": 30,
    "start_time": "2021-09-13T06:44:54.759Z"
   },
   {
    "duration": 12,
    "start_time": "2021-09-13T06:44:54.790Z"
   },
   {
    "duration": 23,
    "start_time": "2021-09-13T06:44:54.805Z"
   },
   {
    "duration": 18,
    "start_time": "2021-09-13T06:44:54.830Z"
   },
   {
    "duration": 5,
    "start_time": "2021-09-13T06:44:54.849Z"
   },
   {
    "duration": 7,
    "start_time": "2021-09-13T06:44:54.877Z"
   },
   {
    "duration": 16,
    "start_time": "2021-09-13T06:44:54.886Z"
   },
   {
    "duration": 16,
    "start_time": "2021-09-13T06:44:54.904Z"
   },
   {
    "duration": 68,
    "start_time": "2021-09-13T06:44:54.922Z"
   },
   {
    "duration": 9,
    "start_time": "2021-09-13T06:44:54.992Z"
   },
   {
    "duration": 9,
    "start_time": "2021-09-13T06:44:55.003Z"
   },
   {
    "duration": 25,
    "start_time": "2021-09-13T06:44:55.014Z"
   },
   {
    "duration": 18,
    "start_time": "2021-09-13T06:44:55.041Z"
   },
   {
    "duration": 23,
    "start_time": "2021-09-13T06:44:55.061Z"
   },
   {
    "duration": 6925,
    "start_time": "2021-09-13T06:44:55.085Z"
   },
   {
    "duration": 999,
    "start_time": "2021-09-13T06:45:02.012Z"
   },
   {
    "duration": 275,
    "start_time": "2021-09-13T06:46:56.261Z"
   },
   {
    "duration": 377,
    "start_time": "2021-09-13T06:49:09.265Z"
   },
   {
    "duration": 366,
    "start_time": "2021-09-13T06:50:28.238Z"
   },
   {
    "duration": 10,
    "start_time": "2021-09-13T06:50:36.485Z"
   },
   {
    "duration": 578,
    "start_time": "2021-09-13T06:50:50.491Z"
   },
   {
    "duration": 604,
    "start_time": "2021-09-13T06:51:03.526Z"
   },
   {
    "duration": 24,
    "start_time": "2021-09-13T06:51:27.796Z"
   },
   {
    "duration": 385,
    "start_time": "2021-09-13T06:51:40.354Z"
   },
   {
    "duration": 351,
    "start_time": "2021-09-13T06:51:45.993Z"
   },
   {
    "duration": 13,
    "start_time": "2021-09-13T06:52:22.047Z"
   },
   {
    "duration": 612,
    "start_time": "2021-09-13T06:52:26.292Z"
   },
   {
    "duration": 378,
    "start_time": "2021-09-13T06:53:13.553Z"
   },
   {
    "duration": 180,
    "start_time": "2021-09-13T06:53:32.990Z"
   },
   {
    "duration": 12,
    "start_time": "2021-09-13T06:55:18.215Z"
   },
   {
    "duration": 405,
    "start_time": "2021-09-13T06:55:56.895Z"
   },
   {
    "duration": 532,
    "start_time": "2021-09-13T06:56:10.237Z"
   },
   {
    "duration": 678,
    "start_time": "2021-09-13T06:56:23.059Z"
   },
   {
    "duration": 593,
    "start_time": "2021-09-13T06:56:51.422Z"
   },
   {
    "duration": 504,
    "start_time": "2021-09-13T06:57:07.476Z"
   },
   {
    "duration": 1081,
    "start_time": "2021-09-13T06:59:14.563Z"
   },
   {
    "duration": 509,
    "start_time": "2021-09-13T07:02:03.407Z"
   },
   {
    "duration": 10,
    "start_time": "2021-09-13T07:05:45.303Z"
   },
   {
    "duration": 12,
    "start_time": "2021-09-13T07:07:19.665Z"
   },
   {
    "duration": 12,
    "start_time": "2021-09-13T07:10:02.261Z"
   },
   {
    "duration": 21,
    "start_time": "2021-09-13T07:11:17.103Z"
   },
   {
    "duration": 18,
    "start_time": "2021-09-13T07:11:26.338Z"
   },
   {
    "duration": 375,
    "start_time": "2021-09-13T07:12:53.263Z"
   },
   {
    "duration": 7,
    "start_time": "2021-09-13T07:13:11.441Z"
   },
   {
    "duration": 11,
    "start_time": "2021-09-13T07:13:30.287Z"
   },
   {
    "duration": 12,
    "start_time": "2021-09-13T07:13:47.219Z"
   },
   {
    "duration": 11,
    "start_time": "2021-09-13T07:15:19.542Z"
   },
   {
    "duration": 13,
    "start_time": "2021-09-13T07:15:52.367Z"
   },
   {
    "duration": 10688,
    "start_time": "2021-09-13T07:16:47.065Z"
   },
   {
    "duration": 363,
    "start_time": "2021-09-13T07:17:15.496Z"
   },
   {
    "duration": 557,
    "start_time": "2021-09-13T07:17:26.572Z"
   },
   {
    "duration": 275,
    "start_time": "2021-09-13T07:19:09.345Z"
   },
   {
    "duration": 447,
    "start_time": "2021-09-13T07:19:19.259Z"
   },
   {
    "duration": 13,
    "start_time": "2021-09-13T07:25:20.279Z"
   },
   {
    "duration": 12,
    "start_time": "2021-09-13T07:28:15.652Z"
   },
   {
    "duration": 24,
    "start_time": "2021-09-13T07:36:16.469Z"
   },
   {
    "duration": 74,
    "start_time": "2021-09-13T07:36:28.989Z"
   },
   {
    "duration": 26,
    "start_time": "2021-09-13T07:37:03.262Z"
   },
   {
    "duration": 38,
    "start_time": "2021-09-13T07:37:09.678Z"
   },
   {
    "duration": 25,
    "start_time": "2021-09-13T07:37:15.292Z"
   },
   {
    "duration": 191,
    "start_time": "2021-09-13T07:37:41.240Z"
   },
   {
    "duration": 25,
    "start_time": "2021-09-13T07:37:55.124Z"
   },
   {
    "duration": 11,
    "start_time": "2021-09-13T07:38:20.347Z"
   },
   {
    "duration": 26,
    "start_time": "2021-09-13T07:38:22.165Z"
   },
   {
    "duration": 10367,
    "start_time": "2021-09-13T07:40:10.926Z"
   },
   {
    "duration": 402,
    "start_time": "2021-09-13T07:44:13.805Z"
   },
   {
    "duration": 64,
    "start_time": "2021-09-13T07:44:20.602Z"
   },
   {
    "duration": 138,
    "start_time": "2021-09-13T07:44:46.028Z"
   },
   {
    "duration": 1441,
    "start_time": "2021-09-13T07:44:51.966Z"
   },
   {
    "duration": 31,
    "start_time": "2021-09-13T07:45:54.457Z"
   },
   {
    "duration": 128,
    "start_time": "2021-09-13T07:46:34.573Z"
   },
   {
    "duration": 269,
    "start_time": "2021-09-13T07:46:38.947Z"
   },
   {
    "duration": 17,
    "start_time": "2021-09-13T07:50:19.861Z"
   },
   {
    "duration": 11,
    "start_time": "2021-09-13T07:50:29.948Z"
   },
   {
    "duration": 271,
    "start_time": "2021-09-13T07:53:18.880Z"
   },
   {
    "duration": 283,
    "start_time": "2021-09-13T07:53:41.182Z"
   },
   {
    "duration": 328,
    "start_time": "2021-09-13T07:53:57.106Z"
   },
   {
    "duration": 283,
    "start_time": "2021-09-13T07:54:12.628Z"
   },
   {
    "duration": 292,
    "start_time": "2021-09-13T07:55:45.481Z"
   },
   {
    "duration": 392,
    "start_time": "2021-09-13T07:55:53.020Z"
   },
   {
    "duration": 382,
    "start_time": "2021-09-13T07:56:07.452Z"
   },
   {
    "duration": 4192,
    "start_time": "2021-09-13T07:56:12.940Z"
   },
   {
    "duration": 80,
    "start_time": "2021-09-13T07:56:17.134Z"
   },
   {
    "duration": 14,
    "start_time": "2021-09-13T07:56:17.216Z"
   },
   {
    "duration": 8,
    "start_time": "2021-09-13T07:56:17.232Z"
   },
   {
    "duration": 22,
    "start_time": "2021-09-13T07:56:17.242Z"
   },
   {
    "duration": 20,
    "start_time": "2021-09-13T07:56:17.266Z"
   },
   {
    "duration": 11,
    "start_time": "2021-09-13T07:56:17.288Z"
   },
   {
    "duration": 23,
    "start_time": "2021-09-13T07:56:17.302Z"
   },
   {
    "duration": 17,
    "start_time": "2021-09-13T07:56:17.327Z"
   },
   {
    "duration": 31,
    "start_time": "2021-09-13T07:56:17.346Z"
   },
   {
    "duration": 5,
    "start_time": "2021-09-13T07:56:17.379Z"
   },
   {
    "duration": 22,
    "start_time": "2021-09-13T07:56:17.386Z"
   },
   {
    "duration": 18,
    "start_time": "2021-09-13T07:56:17.410Z"
   },
   {
    "duration": 48,
    "start_time": "2021-09-13T07:56:17.430Z"
   },
   {
    "duration": 7,
    "start_time": "2021-09-13T07:56:17.480Z"
   },
   {
    "duration": 16,
    "start_time": "2021-09-13T07:56:17.489Z"
   },
   {
    "duration": 21,
    "start_time": "2021-09-13T07:56:17.507Z"
   },
   {
    "duration": 24,
    "start_time": "2021-09-13T07:56:17.530Z"
   },
   {
    "duration": 21,
    "start_time": "2021-09-13T07:56:17.555Z"
   },
   {
    "duration": 6561,
    "start_time": "2021-09-13T07:56:17.578Z"
   },
   {
    "duration": 511,
    "start_time": "2021-09-13T07:56:24.141Z"
   },
   {
    "duration": 22,
    "start_time": "2021-09-13T07:56:24.653Z"
   },
   {
    "duration": 287,
    "start_time": "2021-09-13T07:57:23.962Z"
   },
   {
    "duration": 360,
    "start_time": "2021-09-13T07:57:35.475Z"
   },
   {
    "duration": 2885,
    "start_time": "2021-09-13T07:57:46.673Z"
   },
   {
    "duration": 83,
    "start_time": "2021-09-13T07:57:49.561Z"
   },
   {
    "duration": 14,
    "start_time": "2021-09-13T07:57:49.647Z"
   },
   {
    "duration": 16,
    "start_time": "2021-09-13T07:57:49.663Z"
   },
   {
    "duration": 12,
    "start_time": "2021-09-13T07:57:49.681Z"
   },
   {
    "duration": 15,
    "start_time": "2021-09-13T07:57:49.695Z"
   },
   {
    "duration": 12,
    "start_time": "2021-09-13T07:57:49.712Z"
   },
   {
    "duration": 56,
    "start_time": "2021-09-13T07:57:49.727Z"
   },
   {
    "duration": 16,
    "start_time": "2021-09-13T07:57:49.785Z"
   },
   {
    "duration": 4,
    "start_time": "2021-09-13T07:57:49.803Z"
   },
   {
    "duration": 6,
    "start_time": "2021-09-13T07:57:49.809Z"
   },
   {
    "duration": 12,
    "start_time": "2021-09-13T07:57:49.817Z"
   },
   {
    "duration": 14,
    "start_time": "2021-09-13T07:57:49.830Z"
   },
   {
    "duration": 28,
    "start_time": "2021-09-13T07:57:49.877Z"
   },
   {
    "duration": 7,
    "start_time": "2021-09-13T07:57:49.907Z"
   },
   {
    "duration": 6,
    "start_time": "2021-09-13T07:57:49.916Z"
   },
   {
    "duration": 9,
    "start_time": "2021-09-13T07:57:49.924Z"
   },
   {
    "duration": 8,
    "start_time": "2021-09-13T07:57:49.935Z"
   },
   {
    "duration": 40,
    "start_time": "2021-09-13T07:57:49.945Z"
   },
   {
    "duration": 7498,
    "start_time": "2021-09-13T07:57:49.986Z"
   },
   {
    "duration": 562,
    "start_time": "2021-09-13T07:57:57.486Z"
   },
   {
    "duration": 14,
    "start_time": "2021-09-13T07:57:58.050Z"
   },
   {
    "duration": 22,
    "start_time": "2021-09-13T07:57:58.079Z"
   },
   {
    "duration": 21,
    "start_time": "2021-09-13T07:58:09.046Z"
   },
   {
    "duration": 288,
    "start_time": "2021-09-13T07:58:10.032Z"
   },
   {
    "duration": 251,
    "start_time": "2021-09-13T07:58:20.830Z"
   },
   {
    "duration": 435,
    "start_time": "2021-09-13T08:01:03.452Z"
   },
   {
    "duration": 454,
    "start_time": "2021-09-13T08:01:32.577Z"
   },
   {
    "duration": 294,
    "start_time": "2021-09-13T08:01:58.185Z"
   },
   {
    "duration": 316,
    "start_time": "2021-09-13T08:06:46.336Z"
   },
   {
    "duration": 391,
    "start_time": "2021-09-13T08:07:21.711Z"
   },
   {
    "duration": 324,
    "start_time": "2021-09-13T08:08:08.557Z"
   },
   {
    "duration": 329,
    "start_time": "2021-09-13T08:08:18.725Z"
   },
   {
    "duration": 687,
    "start_time": "2021-09-13T08:10:24.899Z"
   },
   {
    "duration": 853,
    "start_time": "2021-09-13T08:10:50.316Z"
   },
   {
    "duration": 544,
    "start_time": "2021-09-13T08:11:37.377Z"
   },
   {
    "duration": 672,
    "start_time": "2021-09-13T08:14:07.000Z"
   },
   {
    "duration": 367,
    "start_time": "2021-09-13T08:14:17.423Z"
   },
   {
    "duration": 11,
    "start_time": "2021-09-13T08:15:46.187Z"
   },
   {
    "duration": 20,
    "start_time": "2021-09-13T08:15:52.182Z"
   },
   {
    "duration": 367,
    "start_time": "2021-09-13T08:15:52.698Z"
   },
   {
    "duration": 4,
    "start_time": "2021-09-13T08:16:31.984Z"
   },
   {
    "duration": 193,
    "start_time": "2021-09-13T08:18:34.892Z"
   },
   {
    "duration": 641,
    "start_time": "2021-09-13T08:19:08.699Z"
   },
   {
    "duration": 277,
    "start_time": "2021-09-13T08:19:18.625Z"
   },
   {
    "duration": 307,
    "start_time": "2021-09-13T08:19:29.313Z"
   },
   {
    "duration": 498,
    "start_time": "2021-09-13T08:20:57.093Z"
   },
   {
    "duration": 448,
    "start_time": "2021-09-13T08:23:28.092Z"
   },
   {
    "duration": 441,
    "start_time": "2021-09-13T08:24:04.486Z"
   },
   {
    "duration": 447,
    "start_time": "2021-09-13T08:24:09.929Z"
   },
   {
    "duration": 462,
    "start_time": "2021-09-13T08:24:19.957Z"
   },
   {
    "duration": 314,
    "start_time": "2021-09-13T08:24:49.375Z"
   },
   {
    "duration": 497,
    "start_time": "2021-09-13T08:25:14.337Z"
   },
   {
    "duration": 628,
    "start_time": "2021-09-13T08:25:27.210Z"
   },
   {
    "duration": 8,
    "start_time": "2021-09-13T08:30:46.426Z"
   },
   {
    "duration": 3,
    "start_time": "2021-09-13T08:30:56.530Z"
   },
   {
    "duration": 21,
    "start_time": "2021-09-13T08:30:58.932Z"
   },
   {
    "duration": 314,
    "start_time": "2021-09-13T08:31:01.453Z"
   },
   {
    "duration": 315,
    "start_time": "2021-09-13T08:31:17.812Z"
   },
   {
    "duration": 316,
    "start_time": "2021-09-13T08:31:38.534Z"
   },
   {
    "duration": 385,
    "start_time": "2021-09-13T08:32:07.872Z"
   },
   {
    "duration": 369,
    "start_time": "2021-09-13T08:32:17.741Z"
   },
   {
    "duration": 4,
    "start_time": "2021-09-13T08:33:57.928Z"
   },
   {
    "duration": 19,
    "start_time": "2021-09-13T08:33:59.432Z"
   },
   {
    "duration": 355,
    "start_time": "2021-09-13T08:34:00.254Z"
   },
   {
    "duration": 357,
    "start_time": "2021-09-13T08:34:05.333Z"
   },
   {
    "duration": 173,
    "start_time": "2021-09-13T08:40:15.710Z"
   },
   {
    "duration": 7,
    "start_time": "2021-09-13T08:40:28.541Z"
   },
   {
    "duration": 15,
    "start_time": "2021-09-13T08:41:26.794Z"
   },
   {
    "duration": 443,
    "start_time": "2021-09-13T08:41:43.096Z"
   },
   {
    "duration": 26,
    "start_time": "2021-09-13T08:42:00.928Z"
   },
   {
    "duration": 7,
    "start_time": "2021-09-13T08:42:12.940Z"
   },
   {
    "duration": 30,
    "start_time": "2021-09-13T08:42:13.544Z"
   },
   {
    "duration": 345,
    "start_time": "2021-09-13T08:42:14.890Z"
   },
   {
    "duration": 308,
    "start_time": "2021-09-13T08:42:24.658Z"
   },
   {
    "duration": 16,
    "start_time": "2021-09-13T08:43:09.632Z"
   },
   {
    "duration": 278,
    "start_time": "2021-09-13T08:45:05.373Z"
   },
   {
    "duration": 288,
    "start_time": "2021-09-13T08:45:12.479Z"
   },
   {
    "duration": 414,
    "start_time": "2021-09-13T08:45:31.168Z"
   },
   {
    "duration": 16,
    "start_time": "2021-09-13T08:47:35.365Z"
   },
   {
    "duration": 288,
    "start_time": "2021-09-13T08:47:35.973Z"
   },
   {
    "duration": 33,
    "start_time": "2021-09-13T08:51:54.060Z"
   },
   {
    "duration": 501,
    "start_time": "2021-09-13T08:52:13.827Z"
   },
   {
    "duration": 546,
    "start_time": "2021-09-13T08:52:32.531Z"
   },
   {
    "duration": 552,
    "start_time": "2021-09-13T08:54:32.401Z"
   },
   {
    "duration": 283,
    "start_time": "2021-09-13T08:54:49.783Z"
   },
   {
    "duration": 386,
    "start_time": "2021-09-13T08:55:08.459Z"
   },
   {
    "duration": 313,
    "start_time": "2021-09-13T08:55:28.444Z"
   },
   {
    "duration": 340,
    "start_time": "2021-09-13T08:55:39.318Z"
   },
   {
    "duration": 326,
    "start_time": "2021-09-13T08:56:17.773Z"
   },
   {
    "duration": 356,
    "start_time": "2021-09-13T08:56:33.227Z"
   },
   {
    "duration": 401,
    "start_time": "2021-09-13T08:56:42.543Z"
   },
   {
    "duration": 7,
    "start_time": "2021-09-13T09:02:13.299Z"
   },
   {
    "duration": 26,
    "start_time": "2021-09-13T09:02:16.482Z"
   },
   {
    "duration": 345,
    "start_time": "2021-09-13T09:02:17.094Z"
   },
   {
    "duration": 6,
    "start_time": "2021-09-13T09:06:03.895Z"
   },
   {
    "duration": 25,
    "start_time": "2021-09-13T09:06:04.917Z"
   },
   {
    "duration": 317,
    "start_time": "2021-09-13T09:06:06.988Z"
   },
   {
    "duration": 317,
    "start_time": "2021-09-13T09:06:18.793Z"
   },
   {
    "duration": 315,
    "start_time": "2021-09-13T09:06:37.835Z"
   },
   {
    "duration": 304,
    "start_time": "2021-09-14T07:19:22.176Z"
   },
   {
    "duration": 1374,
    "start_time": "2021-09-14T07:19:27.526Z"
   },
   {
    "duration": 99,
    "start_time": "2021-09-14T07:19:28.902Z"
   },
   {
    "duration": 20,
    "start_time": "2021-09-14T07:19:29.004Z"
   },
   {
    "duration": 4,
    "start_time": "2021-09-14T07:19:29.027Z"
   },
   {
    "duration": 12,
    "start_time": "2021-09-14T07:19:29.061Z"
   },
   {
    "duration": 19,
    "start_time": "2021-09-14T07:19:29.076Z"
   },
   {
    "duration": 15,
    "start_time": "2021-09-14T07:19:29.097Z"
   },
   {
    "duration": 62,
    "start_time": "2021-09-14T07:19:29.115Z"
   },
   {
    "duration": 13,
    "start_time": "2021-09-14T07:19:31.894Z"
   },
   {
    "duration": 6,
    "start_time": "2021-09-14T07:21:37.724Z"
   },
   {
    "duration": 7,
    "start_time": "2021-09-14T07:21:38.739Z"
   },
   {
    "duration": 20,
    "start_time": "2021-09-14T07:21:40.585Z"
   },
   {
    "duration": 21,
    "start_time": "2021-09-14T07:21:44.995Z"
   },
   {
    "duration": 42,
    "start_time": "2021-09-14T07:22:00.090Z"
   },
   {
    "duration": 10,
    "start_time": "2021-09-14T07:22:12.609Z"
   },
   {
    "duration": 6,
    "start_time": "2021-09-14T07:22:17.733Z"
   },
   {
    "duration": 9,
    "start_time": "2021-09-14T07:22:18.968Z"
   },
   {
    "duration": 9,
    "start_time": "2021-09-14T07:22:19.807Z"
   },
   {
    "duration": 10762,
    "start_time": "2021-09-14T07:22:50.987Z"
   },
   {
    "duration": 776,
    "start_time": "2021-09-14T07:23:11.579Z"
   },
   {
    "duration": 747,
    "start_time": "2021-09-14T07:23:20.961Z"
   },
   {
    "duration": 634,
    "start_time": "2021-09-14T07:23:28.151Z"
   },
   {
    "duration": 643,
    "start_time": "2021-09-14T07:23:37.312Z"
   },
   {
    "duration": 674,
    "start_time": "2021-09-14T07:23:49.960Z"
   },
   {
    "duration": 542,
    "start_time": "2021-09-14T07:24:01.630Z"
   },
   {
    "duration": 4,
    "start_time": "2021-09-14T07:25:57.126Z"
   },
   {
    "duration": 27,
    "start_time": "2021-09-14T07:26:00.442Z"
   },
   {
    "duration": 511,
    "start_time": "2021-09-14T07:26:02.877Z"
   },
   {
    "duration": 8,
    "start_time": "2021-09-14T07:28:02.642Z"
   },
   {
    "duration": 35,
    "start_time": "2021-09-14T07:28:10.726Z"
   },
   {
    "duration": 20,
    "start_time": "2021-09-14T07:28:19.649Z"
   },
   {
    "duration": 451,
    "start_time": "2021-09-14T07:28:20.717Z"
   },
   {
    "duration": 274,
    "start_time": "2021-09-14T07:45:08.896Z"
   },
   {
    "duration": 6608,
    "start_time": "2021-09-14T07:45:53.479Z"
   },
   {
    "duration": 446,
    "start_time": "2021-09-14T07:47:11.534Z"
   },
   {
    "duration": 287,
    "start_time": "2021-09-14T07:47:18.325Z"
   },
   {
    "duration": 242,
    "start_time": "2021-09-14T07:47:42.296Z"
   },
   {
    "duration": 265,
    "start_time": "2021-09-14T07:47:51.910Z"
   },
   {
    "duration": 6,
    "start_time": "2021-09-14T07:47:57.421Z"
   },
   {
    "duration": 20,
    "start_time": "2021-09-14T07:48:06.865Z"
   },
   {
    "duration": 6474,
    "start_time": "2021-09-14T07:48:37.093Z"
   },
   {
    "duration": 14,
    "start_time": "2021-09-14T07:48:55.451Z"
   },
   {
    "duration": 16,
    "start_time": "2021-09-14T07:54:04.842Z"
   },
   {
    "duration": 637,
    "start_time": "2021-09-14T07:54:25.549Z"
   },
   {
    "duration": 709,
    "start_time": "2021-09-14T07:56:25.039Z"
   },
   {
    "duration": 739,
    "start_time": "2021-09-14T07:57:05.043Z"
   },
   {
    "duration": 196,
    "start_time": "2021-09-14T07:58:43.534Z"
   },
   {
    "duration": 697,
    "start_time": "2021-09-14T07:59:52.919Z"
   },
   {
    "duration": 461,
    "start_time": "2021-09-14T08:01:56.581Z"
   },
   {
    "duration": 838,
    "start_time": "2021-09-14T08:02:55.991Z"
   },
   {
    "duration": 719,
    "start_time": "2021-09-14T08:03:07.348Z"
   },
   {
    "duration": 1117,
    "start_time": "2021-09-14T08:03:43.311Z"
   },
   {
    "duration": 1165,
    "start_time": "2021-09-14T08:06:56.664Z"
   },
   {
    "duration": 1225,
    "start_time": "2021-09-14T08:07:06.913Z"
   },
   {
    "duration": 1119,
    "start_time": "2021-09-14T08:07:25.045Z"
   },
   {
    "duration": 93,
    "start_time": "2021-09-14T08:08:49.694Z"
   },
   {
    "duration": 1087,
    "start_time": "2021-09-14T08:09:16.236Z"
   },
   {
    "duration": 1350,
    "start_time": "2021-09-14T08:09:59.068Z"
   },
   {
    "duration": 1192,
    "start_time": "2021-09-14T08:10:22.147Z"
   },
   {
    "duration": 1108,
    "start_time": "2021-09-14T08:10:41.262Z"
   },
   {
    "duration": 1508,
    "start_time": "2021-09-14T08:11:12.259Z"
   },
   {
    "duration": 100,
    "start_time": "2021-09-14T08:12:18.922Z"
   },
   {
    "duration": 1380,
    "start_time": "2021-09-14T08:12:27.752Z"
   },
   {
    "duration": 1659,
    "start_time": "2021-09-14T08:12:51.613Z"
   },
   {
    "duration": 1099,
    "start_time": "2021-09-14T08:14:29.538Z"
   },
   {
    "duration": 1301,
    "start_time": "2021-09-14T08:15:11.781Z"
   },
   {
    "duration": 1351,
    "start_time": "2021-09-14T08:16:08.681Z"
   },
   {
    "duration": 948,
    "start_time": "2021-09-14T08:16:54.293Z"
   },
   {
    "duration": 1045,
    "start_time": "2021-09-14T08:17:05.119Z"
   },
   {
    "duration": 973,
    "start_time": "2021-09-14T08:17:19.124Z"
   },
   {
    "duration": 1078,
    "start_time": "2021-09-14T08:17:37.716Z"
   },
   {
    "duration": 1182,
    "start_time": "2021-09-14T08:18:01.661Z"
   },
   {
    "duration": 1072,
    "start_time": "2021-09-14T08:18:12.393Z"
   },
   {
    "duration": 1076,
    "start_time": "2021-09-14T08:19:14.697Z"
   },
   {
    "duration": 1097,
    "start_time": "2021-09-14T08:19:25.577Z"
   },
   {
    "duration": 1032,
    "start_time": "2021-09-14T08:19:46.520Z"
   },
   {
    "duration": 1173,
    "start_time": "2021-09-14T08:19:58.369Z"
   },
   {
    "duration": 1056,
    "start_time": "2021-09-14T08:20:06.703Z"
   },
   {
    "duration": 1086,
    "start_time": "2021-09-14T08:20:55.260Z"
   },
   {
    "duration": 1032,
    "start_time": "2021-09-14T08:21:06.239Z"
   },
   {
    "duration": 1072,
    "start_time": "2021-09-14T08:21:16.447Z"
   },
   {
    "duration": 648,
    "start_time": "2021-09-14T08:21:48.165Z"
   },
   {
    "duration": 611,
    "start_time": "2021-09-14T08:22:52.206Z"
   },
   {
    "duration": 710,
    "start_time": "2021-09-14T08:23:38.368Z"
   },
   {
    "duration": 620,
    "start_time": "2021-09-14T08:23:59.684Z"
   },
   {
    "duration": 866,
    "start_time": "2021-09-14T08:24:48.460Z"
   },
   {
    "duration": 827,
    "start_time": "2021-09-14T08:24:58.922Z"
   },
   {
    "duration": 986,
    "start_time": "2021-09-14T08:25:09.307Z"
   },
   {
    "duration": 699,
    "start_time": "2021-09-14T08:25:19.031Z"
   },
   {
    "duration": 848,
    "start_time": "2021-09-14T08:25:36.899Z"
   },
   {
    "duration": 868,
    "start_time": "2021-09-14T08:26:01.112Z"
   },
   {
    "duration": 613,
    "start_time": "2021-09-14T08:26:06.461Z"
   },
   {
    "duration": 891,
    "start_time": "2021-09-14T08:27:00.033Z"
   },
   {
    "duration": 861,
    "start_time": "2021-09-14T08:27:38.983Z"
   },
   {
    "duration": 1005,
    "start_time": "2021-09-14T08:27:51.332Z"
   },
   {
    "duration": 857,
    "start_time": "2021-09-14T08:28:03.138Z"
   },
   {
    "duration": 637,
    "start_time": "2021-09-14T08:28:54.876Z"
   },
   {
    "duration": 667,
    "start_time": "2021-09-14T08:29:20.306Z"
   },
   {
    "duration": 669,
    "start_time": "2021-09-14T08:30:29.620Z"
   },
   {
    "duration": 654,
    "start_time": "2021-09-14T08:31:17.177Z"
   },
   {
    "duration": 827,
    "start_time": "2021-09-14T08:31:25.458Z"
   },
   {
    "duration": 650,
    "start_time": "2021-09-14T08:31:33.548Z"
   },
   {
    "duration": 256,
    "start_time": "2021-09-14T09:11:52.473Z"
   },
   {
    "duration": 254,
    "start_time": "2021-09-14T09:13:03.953Z"
   },
   {
    "duration": 9,
    "start_time": "2021-09-14T09:16:21.592Z"
   },
   {
    "duration": 312,
    "start_time": "2021-09-14T09:17:04.306Z"
   },
   {
    "duration": 538,
    "start_time": "2021-09-14T09:18:32.678Z"
   },
   {
    "duration": 100,
    "start_time": "2021-09-14T09:19:14.861Z"
   },
   {
    "duration": 1027,
    "start_time": "2021-09-14T09:19:25.868Z"
   },
   {
    "duration": 1058,
    "start_time": "2021-09-14T09:20:20.566Z"
   },
   {
    "duration": 511,
    "start_time": "2021-09-14T09:23:03.971Z"
   },
   {
    "duration": 104,
    "start_time": "2021-09-14T09:23:57.430Z"
   },
   {
    "duration": 765,
    "start_time": "2021-09-14T09:24:04.201Z"
   },
   {
    "duration": 792,
    "start_time": "2021-09-14T09:24:25.345Z"
   },
   {
    "duration": 776,
    "start_time": "2021-09-14T09:24:36.999Z"
   },
   {
    "duration": 557,
    "start_time": "2021-09-14T09:24:43.038Z"
   },
   {
    "duration": 899,
    "start_time": "2021-09-14T09:24:55.148Z"
   },
   {
    "duration": 555,
    "start_time": "2021-09-14T09:25:04.241Z"
   },
   {
    "duration": 593,
    "start_time": "2021-09-14T09:25:27.869Z"
   },
   {
    "duration": 844,
    "start_time": "2021-09-14T09:25:40.739Z"
   },
   {
    "duration": 772,
    "start_time": "2021-09-14T09:25:52.582Z"
   },
   {
    "duration": 770,
    "start_time": "2021-09-14T09:27:04.403Z"
   },
   {
    "duration": 773,
    "start_time": "2021-09-14T09:27:35.423Z"
   },
   {
    "duration": 885,
    "start_time": "2021-09-14T09:27:42.402Z"
   },
   {
    "duration": 299,
    "start_time": "2021-09-14T09:27:58.221Z"
   },
   {
    "duration": 743,
    "start_time": "2021-09-14T09:28:23.420Z"
   },
   {
    "duration": 480,
    "start_time": "2021-09-14T09:28:31.328Z"
   },
   {
    "duration": 474,
    "start_time": "2021-09-14T09:28:41.058Z"
   },
   {
    "duration": 492,
    "start_time": "2021-09-14T09:28:56.959Z"
   },
   {
    "duration": 856,
    "start_time": "2021-09-14T09:29:04.337Z"
   },
   {
    "duration": 889,
    "start_time": "2021-09-14T09:29:22.664Z"
   },
   {
    "duration": 802,
    "start_time": "2021-09-14T09:29:30.673Z"
   },
   {
    "duration": 541,
    "start_time": "2021-09-14T09:29:49.585Z"
   },
   {
    "duration": 482,
    "start_time": "2021-09-14T09:30:01.399Z"
   },
   {
    "duration": 807,
    "start_time": "2021-09-14T09:30:10.239Z"
   },
   {
    "duration": 736,
    "start_time": "2021-09-14T09:30:18.626Z"
   },
   {
    "duration": 788,
    "start_time": "2021-09-14T09:30:27.576Z"
   },
   {
    "duration": 816,
    "start_time": "2021-09-14T09:30:33.348Z"
   },
   {
    "duration": 458,
    "start_time": "2021-09-14T09:30:42.206Z"
   },
   {
    "duration": 791,
    "start_time": "2021-09-14T09:30:56.442Z"
   },
   {
    "duration": 769,
    "start_time": "2021-09-14T09:31:56.665Z"
   },
   {
    "duration": 4229,
    "start_time": "2021-09-14T09:32:17.986Z"
   },
   {
    "duration": 742,
    "start_time": "2021-09-14T09:33:15.580Z"
   },
   {
    "duration": 596,
    "start_time": "2021-09-14T09:33:24.860Z"
   },
   {
    "duration": 2753,
    "start_time": "2021-09-14T09:34:40.572Z"
   },
   {
    "duration": 2504,
    "start_time": "2021-09-14T09:35:14.881Z"
   },
   {
    "duration": 2214,
    "start_time": "2021-09-14T09:35:25.354Z"
   },
   {
    "duration": 7020,
    "start_time": "2021-09-14T09:35:38.558Z"
   },
   {
    "duration": 609,
    "start_time": "2021-09-14T09:36:31.137Z"
   },
   {
    "duration": 431,
    "start_time": "2021-09-14T09:36:56.522Z"
   },
   {
    "duration": 425,
    "start_time": "2021-09-14T09:38:21.282Z"
   },
   {
    "duration": 442,
    "start_time": "2021-09-14T09:39:39.980Z"
   },
   {
    "duration": 417,
    "start_time": "2021-09-14T09:43:45.518Z"
   },
   {
    "duration": 413,
    "start_time": "2021-09-14T09:43:47.613Z"
   },
   {
    "duration": 89,
    "start_time": "2021-09-14T09:49:01.037Z"
   },
   {
    "duration": 7,
    "start_time": "2021-09-14T09:49:10.997Z"
   },
   {
    "duration": 456,
    "start_time": "2021-09-14T09:49:11.742Z"
   },
   {
    "duration": 463,
    "start_time": "2021-09-14T09:49:12.307Z"
   },
   {
    "duration": 10,
    "start_time": "2021-09-14T09:49:45.638Z"
   },
   {
    "duration": 453,
    "start_time": "2021-09-14T09:49:46.331Z"
   },
   {
    "duration": 413,
    "start_time": "2021-09-14T09:49:46.795Z"
   },
   {
    "duration": 11,
    "start_time": "2021-09-14T09:50:30.730Z"
   },
   {
    "duration": 409,
    "start_time": "2021-09-14T09:50:31.686Z"
   },
   {
    "duration": 431,
    "start_time": "2021-09-14T09:50:32.326Z"
   },
   {
    "duration": 7107,
    "start_time": "2021-09-14T09:56:57.154Z"
   },
   {
    "duration": 97,
    "start_time": "2021-09-14T09:59:39.964Z"
   },
   {
    "duration": 285,
    "start_time": "2021-09-14T10:00:15.495Z"
   },
   {
    "duration": 277,
    "start_time": "2021-09-14T10:00:40.523Z"
   },
   {
    "duration": 653,
    "start_time": "2021-09-14T10:00:51.791Z"
   },
   {
    "duration": 260,
    "start_time": "2021-09-14T10:02:42.872Z"
   },
   {
    "duration": 6,
    "start_time": "2021-09-14T10:04:46.378Z"
   },
   {
    "duration": 6,
    "start_time": "2021-09-14T10:04:55.378Z"
   },
   {
    "duration": 107,
    "start_time": "2021-09-14T10:07:32.171Z"
   },
   {
    "duration": 267,
    "start_time": "2021-09-14T10:09:52.001Z"
   },
   {
    "duration": 84,
    "start_time": "2021-09-14T10:10:19.488Z"
   },
   {
    "duration": 83,
    "start_time": "2021-09-14T10:11:17.607Z"
   },
   {
    "duration": 102,
    "start_time": "2021-09-14T10:12:02.289Z"
   },
   {
    "duration": 88,
    "start_time": "2021-09-14T10:12:27.439Z"
   },
   {
    "duration": 103,
    "start_time": "2021-09-14T10:14:59.404Z"
   },
   {
    "duration": 6417,
    "start_time": "2021-09-14T10:27:01.352Z"
   },
   {
    "duration": 430,
    "start_time": "2021-09-14T10:27:16.064Z"
   },
   {
    "duration": 880,
    "start_time": "2021-09-14T10:28:18.863Z"
   },
   {
    "duration": 394,
    "start_time": "2021-09-14T10:28:48.907Z"
   },
   {
    "duration": 331,
    "start_time": "2021-09-14T10:29:06.634Z"
   },
   {
    "duration": 361,
    "start_time": "2021-09-14T10:29:21.823Z"
   },
   {
    "duration": 369,
    "start_time": "2021-09-14T10:29:59.309Z"
   },
   {
    "duration": 2385,
    "start_time": "2021-09-14T10:32:00.577Z"
   },
   {
    "duration": 385,
    "start_time": "2021-09-14T10:32:23.449Z"
   },
   {
    "duration": 357,
    "start_time": "2021-09-14T10:33:30.083Z"
   },
   {
    "duration": 359,
    "start_time": "2021-09-14T10:34:08.156Z"
   },
   {
    "duration": 363,
    "start_time": "2021-09-14T10:34:16.068Z"
   },
   {
    "duration": 692,
    "start_time": "2021-09-14T10:35:09.284Z"
   },
   {
    "duration": 691,
    "start_time": "2021-09-14T10:35:21.412Z"
   },
   {
    "duration": 835,
    "start_time": "2021-09-14T10:35:38.441Z"
   },
   {
    "duration": 701,
    "start_time": "2021-09-14T10:35:55.332Z"
   },
   {
    "duration": 347,
    "start_time": "2021-09-14T10:36:30.818Z"
   },
   {
    "duration": 9,
    "start_time": "2021-09-14T10:40:54.732Z"
   },
   {
    "duration": 354,
    "start_time": "2021-09-14T10:43:15.040Z"
   },
   {
    "duration": 717,
    "start_time": "2021-09-14T10:47:50.419Z"
   },
   {
    "duration": 716,
    "start_time": "2021-09-14T10:51:28.701Z"
   },
   {
    "duration": 729,
    "start_time": "2021-09-14T10:51:44.482Z"
   },
   {
    "duration": 888,
    "start_time": "2021-09-14T10:55:32.481Z"
   },
   {
    "duration": 10972,
    "start_time": "2021-09-14T11:01:32.306Z"
   },
   {
    "duration": 303,
    "start_time": "2021-09-14T11:01:46.049Z"
   },
   {
    "duration": 6,
    "start_time": "2021-09-14T11:01:49.793Z"
   },
   {
    "duration": 11,
    "start_time": "2021-09-14T11:13:11.477Z"
   },
   {
    "duration": 392,
    "start_time": "2021-09-14T11:13:16.802Z"
   },
   {
    "duration": 354,
    "start_time": "2021-09-14T11:15:49.491Z"
   },
   {
    "duration": 355,
    "start_time": "2021-09-14T11:15:50.171Z"
   },
   {
    "duration": 24,
    "start_time": "2021-09-14T11:24:32.530Z"
   },
   {
    "duration": 670,
    "start_time": "2021-09-14T11:37:00.621Z"
   },
   {
    "duration": 669,
    "start_time": "2021-09-14T11:37:06.116Z"
   },
   {
    "duration": 4,
    "start_time": "2021-09-14T11:40:33.361Z"
   },
   {
    "duration": 101,
    "start_time": "2021-09-14T11:40:33.369Z"
   },
   {
    "duration": 22,
    "start_time": "2021-09-14T11:40:33.473Z"
   },
   {
    "duration": 7,
    "start_time": "2021-09-14T11:40:33.498Z"
   },
   {
    "duration": 28,
    "start_time": "2021-09-14T11:40:33.506Z"
   },
   {
    "duration": 43,
    "start_time": "2021-09-14T11:40:33.536Z"
   },
   {
    "duration": 17,
    "start_time": "2021-09-14T11:40:33.582Z"
   },
   {
    "duration": 37,
    "start_time": "2021-09-14T11:40:33.601Z"
   },
   {
    "duration": 29,
    "start_time": "2021-09-14T11:40:33.641Z"
   },
   {
    "duration": 5,
    "start_time": "2021-09-14T11:40:33.672Z"
   },
   {
    "duration": 11,
    "start_time": "2021-09-14T11:40:33.679Z"
   },
   {
    "duration": 24,
    "start_time": "2021-09-14T11:40:33.692Z"
   },
   {
    "duration": 52,
    "start_time": "2021-09-14T11:40:33.718Z"
   },
   {
    "duration": 48,
    "start_time": "2021-09-14T11:40:33.772Z"
   },
   {
    "duration": 9,
    "start_time": "2021-09-14T11:40:33.823Z"
   },
   {
    "duration": 25,
    "start_time": "2021-09-14T11:40:33.834Z"
   },
   {
    "duration": 28,
    "start_time": "2021-09-14T11:40:33.862Z"
   },
   {
    "duration": 11560,
    "start_time": "2021-09-14T11:40:33.893Z"
   },
   {
    "duration": 8,
    "start_time": "2021-09-14T11:40:45.455Z"
   },
   {
    "duration": 663,
    "start_time": "2021-09-14T11:40:45.466Z"
   },
   {
    "duration": 743,
    "start_time": "2021-09-14T11:40:46.131Z"
   },
   {
    "duration": 3,
    "start_time": "2021-09-14T11:40:46.877Z"
   },
   {
    "duration": 32,
    "start_time": "2021-09-14T11:40:46.883Z"
   },
   {
    "duration": 553,
    "start_time": "2021-09-14T11:40:46.918Z"
   },
   {
    "duration": 11,
    "start_time": "2021-09-14T11:40:47.474Z"
   },
   {
    "duration": 21,
    "start_time": "2021-09-14T11:40:47.488Z"
   },
   {
    "duration": 508,
    "start_time": "2021-09-14T11:40:47.512Z"
   },
   {
    "duration": 678,
    "start_time": "2021-09-14T11:40:48.024Z"
   },
   {
    "duration": 11,
    "start_time": "2021-09-14T11:40:48.706Z"
   },
   {
    "duration": 469,
    "start_time": "2021-09-14T11:40:48.719Z"
   },
   {
    "duration": 424,
    "start_time": "2021-09-14T11:40:49.191Z"
   },
   {
    "duration": 124,
    "start_time": "2021-09-14T11:40:49.618Z"
   },
   {
    "duration": 402,
    "start_time": "2021-09-14T11:40:49.744Z"
   },
   {
    "duration": 371,
    "start_time": "2021-09-14T11:40:50.148Z"
   },
   {
    "duration": 648,
    "start_time": "2021-09-14T11:40:50.521Z"
   },
   {
    "duration": 481,
    "start_time": "2021-09-14T11:40:59.723Z"
   },
   {
    "duration": 451,
    "start_time": "2021-09-14T11:42:11.923Z"
   },
   {
    "duration": 19,
    "start_time": "2021-09-14T11:45:31.747Z"
   },
   {
    "duration": 283,
    "start_time": "2021-09-14T11:48:26.946Z"
   },
   {
    "duration": 466,
    "start_time": "2021-09-14T11:48:40.076Z"
   },
   {
    "duration": 5,
    "start_time": "2021-09-14T11:50:57.615Z"
   },
   {
    "duration": 14,
    "start_time": "2021-09-14T11:51:39.258Z"
   },
   {
    "duration": 478,
    "start_time": "2021-09-14T11:51:45.252Z"
   },
   {
    "duration": 20,
    "start_time": "2021-09-14T11:52:15.590Z"
   },
   {
    "duration": 19,
    "start_time": "2021-09-14T11:52:33.162Z"
   },
   {
    "duration": 23,
    "start_time": "2021-09-14T11:53:58.255Z"
   },
   {
    "duration": 403,
    "start_time": "2021-09-14T11:53:59.720Z"
   },
   {
    "duration": 84,
    "start_time": "2021-09-14T11:55:13.958Z"
   },
   {
    "duration": 392,
    "start_time": "2021-09-14T11:55:54.718Z"
   },
   {
    "duration": 410,
    "start_time": "2021-09-14T11:57:49.042Z"
   },
   {
    "duration": 370,
    "start_time": "2021-09-14T11:57:56.510Z"
   },
   {
    "duration": 337,
    "start_time": "2021-09-14T11:58:20.400Z"
   },
   {
    "duration": 343,
    "start_time": "2021-09-14T11:58:29.574Z"
   },
   {
    "duration": 324,
    "start_time": "2021-09-14T11:58:40.493Z"
   },
   {
    "duration": 399,
    "start_time": "2021-09-14T11:59:00.876Z"
   },
   {
    "duration": 272,
    "start_time": "2021-09-14T12:02:55.928Z"
   },
   {
    "duration": 281,
    "start_time": "2021-09-14T12:03:35.538Z"
   },
   {
    "duration": 86,
    "start_time": "2021-09-14T12:06:55.659Z"
   },
   {
    "duration": 1129,
    "start_time": "2021-09-14T12:08:35.177Z"
   },
   {
    "duration": 363,
    "start_time": "2021-09-14T12:09:04.682Z"
   },
   {
    "duration": 390,
    "start_time": "2021-09-14T12:09:32.936Z"
   },
   {
    "duration": 415,
    "start_time": "2021-09-15T15:11:53.925Z"
   },
   {
    "duration": 1458,
    "start_time": "2021-09-15T15:12:02.258Z"
   },
   {
    "duration": 100,
    "start_time": "2021-09-15T15:12:03.719Z"
   },
   {
    "duration": 19,
    "start_time": "2021-09-15T15:12:03.822Z"
   },
   {
    "duration": 6,
    "start_time": "2021-09-15T15:12:03.856Z"
   },
   {
    "duration": 18,
    "start_time": "2021-09-15T15:12:03.865Z"
   },
   {
    "duration": 23,
    "start_time": "2021-09-15T15:12:03.886Z"
   },
   {
    "duration": 47,
    "start_time": "2021-09-15T15:12:03.912Z"
   },
   {
    "duration": 30,
    "start_time": "2021-09-15T15:12:03.963Z"
   },
   {
    "duration": 15,
    "start_time": "2021-09-15T15:12:03.997Z"
   },
   {
    "duration": 5,
    "start_time": "2021-09-15T15:12:04.015Z"
   },
   {
    "duration": 36,
    "start_time": "2021-09-15T15:12:04.023Z"
   },
   {
    "duration": 21,
    "start_time": "2021-09-15T15:12:04.062Z"
   },
   {
    "duration": 20,
    "start_time": "2021-09-15T15:12:04.085Z"
   },
   {
    "duration": 73,
    "start_time": "2021-09-15T15:12:04.107Z"
   },
   {
    "duration": 10,
    "start_time": "2021-09-15T15:12:04.182Z"
   },
   {
    "duration": 10,
    "start_time": "2021-09-15T15:12:04.195Z"
   },
   {
    "duration": 12,
    "start_time": "2021-09-15T15:12:04.208Z"
   },
   {
    "duration": 11002,
    "start_time": "2021-09-15T15:12:04.223Z"
   },
   {
    "duration": 6,
    "start_time": "2021-09-15T15:12:15.227Z"
   },
   {
    "duration": 631,
    "start_time": "2021-09-15T15:12:15.235Z"
   },
   {
    "duration": 727,
    "start_time": "2021-09-15T15:12:15.868Z"
   },
   {
    "duration": 5,
    "start_time": "2021-09-15T15:12:16.598Z"
   },
   {
    "duration": 62,
    "start_time": "2021-09-15T15:12:16.611Z"
   },
   {
    "duration": 529,
    "start_time": "2021-09-15T15:12:16.676Z"
   },
   {
    "duration": 8,
    "start_time": "2021-09-15T15:12:17.207Z"
   },
   {
    "duration": 41,
    "start_time": "2021-09-15T15:12:17.218Z"
   },
   {
    "duration": 465,
    "start_time": "2021-09-15T15:12:17.262Z"
   },
   {
    "duration": 664,
    "start_time": "2021-09-15T15:12:17.730Z"
   },
   {
    "duration": 10,
    "start_time": "2021-09-15T15:12:18.396Z"
   },
   {
    "duration": 519,
    "start_time": "2021-09-15T15:12:18.408Z"
   },
   {
    "duration": 440,
    "start_time": "2021-09-15T15:12:18.929Z"
   },
   {
    "duration": 118,
    "start_time": "2021-09-15T15:12:19.371Z"
   },
   {
    "duration": 366,
    "start_time": "2021-09-15T15:12:19.492Z"
   },
   {
    "duration": 366,
    "start_time": "2021-09-15T15:12:19.860Z"
   },
   {
    "duration": 629,
    "start_time": "2021-09-15T15:12:20.228Z"
   },
   {
    "duration": 17,
    "start_time": "2021-09-15T15:12:25.801Z"
   },
   {
    "duration": 429,
    "start_time": "2021-09-15T15:13:38.556Z"
   },
   {
    "duration": 1170,
    "start_time": "2021-09-15T15:16:20.365Z"
   },
   {
    "duration": 17,
    "start_time": "2021-09-15T15:19:01.646Z"
   },
   {
    "duration": 344,
    "start_time": "2021-09-15T15:20:59.897Z"
   },
   {
    "duration": 337,
    "start_time": "2021-09-15T15:21:19.593Z"
   },
   {
    "duration": 17,
    "start_time": "2021-09-15T15:24:19.841Z"
   },
   {
    "duration": 8304,
    "start_time": "2021-09-15T15:24:21.166Z"
   },
   {
    "duration": 751,
    "start_time": "2021-09-15T15:31:02.329Z"
   },
   {
    "duration": 343,
    "start_time": "2021-09-15T15:36:26.720Z"
   },
   {
    "duration": 23,
    "start_time": "2021-09-15T15:36:42.688Z"
   },
   {
    "duration": 373,
    "start_time": "2021-09-15T15:37:26.466Z"
   },
   {
    "duration": 542,
    "start_time": "2021-09-15T15:37:51.737Z"
   },
   {
    "duration": 950,
    "start_time": "2021-09-15T15:39:41.537Z"
   },
   {
    "duration": 238,
    "start_time": "2021-09-15T15:41:30.401Z"
   },
   {
    "duration": 8913,
    "start_time": "2021-09-15T15:41:59.026Z"
   },
   {
    "duration": 361,
    "start_time": "2021-09-15T15:42:16.316Z"
   },
   {
    "duration": 543,
    "start_time": "2021-09-15T15:45:03.142Z"
   },
   {
    "duration": 285,
    "start_time": "2021-09-15T15:47:47.986Z"
   },
   {
    "duration": 298,
    "start_time": "2021-09-15T15:48:35.046Z"
   },
   {
    "duration": 129,
    "start_time": "2021-09-15T15:49:10.338Z"
   },
   {
    "duration": 175,
    "start_time": "2021-09-15T15:49:49.769Z"
   },
   {
    "duration": 731,
    "start_time": "2021-09-15T15:50:23.111Z"
   },
   {
    "duration": 1475,
    "start_time": "2021-09-16T09:25:43.800Z"
   },
   {
    "duration": 104,
    "start_time": "2021-09-16T09:25:45.278Z"
   },
   {
    "duration": 21,
    "start_time": "2021-09-16T09:25:45.385Z"
   },
   {
    "duration": 11,
    "start_time": "2021-09-16T09:25:45.409Z"
   },
   {
    "duration": 17,
    "start_time": "2021-09-16T09:25:45.423Z"
   },
   {
    "duration": 41,
    "start_time": "2021-09-16T09:25:45.443Z"
   },
   {
    "duration": 17,
    "start_time": "2021-09-16T09:25:45.487Z"
   },
   {
    "duration": 39,
    "start_time": "2021-09-16T09:25:45.509Z"
   },
   {
    "duration": 33,
    "start_time": "2021-09-16T09:25:45.552Z"
   },
   {
    "duration": 6,
    "start_time": "2021-09-16T09:25:45.587Z"
   },
   {
    "duration": 13,
    "start_time": "2021-09-16T09:25:45.595Z"
   },
   {
    "duration": 22,
    "start_time": "2021-09-16T09:25:45.611Z"
   },
   {
    "duration": 19,
    "start_time": "2021-09-16T09:25:45.636Z"
   },
   {
    "duration": 59,
    "start_time": "2021-09-16T09:25:45.658Z"
   },
   {
    "duration": 10,
    "start_time": "2021-09-16T09:25:45.720Z"
   },
   {
    "duration": 14,
    "start_time": "2021-09-16T09:25:45.732Z"
   },
   {
    "duration": 40,
    "start_time": "2021-09-16T09:25:45.749Z"
   },
   {
    "duration": 11044,
    "start_time": "2021-09-16T09:25:45.791Z"
   },
   {
    "duration": 5,
    "start_time": "2021-09-16T09:25:56.838Z"
   },
   {
    "duration": 659,
    "start_time": "2021-09-16T09:25:56.845Z"
   },
   {
    "duration": 645,
    "start_time": "2021-09-16T09:25:57.506Z"
   },
   {
    "duration": 4,
    "start_time": "2021-09-16T09:25:58.153Z"
   },
   {
    "duration": 41,
    "start_time": "2021-09-16T09:25:58.161Z"
   },
   {
    "duration": 548,
    "start_time": "2021-09-16T09:25:58.205Z"
   },
   {
    "duration": 7,
    "start_time": "2021-09-16T09:25:58.756Z"
   },
   {
    "duration": 34,
    "start_time": "2021-09-16T09:25:58.766Z"
   },
   {
    "duration": 504,
    "start_time": "2021-09-16T09:25:58.802Z"
   },
   {
    "duration": 697,
    "start_time": "2021-09-16T09:25:59.308Z"
   },
   {
    "duration": 9,
    "start_time": "2021-09-16T09:26:00.008Z"
   },
   {
    "duration": 503,
    "start_time": "2021-09-16T09:26:00.019Z"
   },
   {
    "duration": 429,
    "start_time": "2021-09-16T09:26:00.525Z"
   },
   {
    "duration": 109,
    "start_time": "2021-09-16T09:26:00.956Z"
   },
   {
    "duration": 535,
    "start_time": "2021-09-16T09:26:01.084Z"
   },
   {
    "duration": 509,
    "start_time": "2021-09-16T09:26:01.622Z"
   },
   {
    "duration": 667,
    "start_time": "2021-09-16T09:26:02.134Z"
   },
   {
    "duration": 7,
    "start_time": "2021-09-16T09:29:42.601Z"
   },
   {
    "duration": 411,
    "start_time": "2021-09-16T09:36:54.482Z"
   },
   {
    "duration": 6,
    "start_time": "2021-09-16T09:37:03.813Z"
   },
   {
    "duration": 261,
    "start_time": "2021-09-16T09:37:06.461Z"
   },
   {
    "duration": 112,
    "start_time": "2021-09-16T09:37:41.847Z"
   },
   {
    "duration": 14,
    "start_time": "2021-09-16T09:38:00.165Z"
   },
   {
    "duration": 266,
    "start_time": "2021-09-16T09:38:56.608Z"
   },
   {
    "duration": 561,
    "start_time": "2021-09-16T09:39:04.554Z"
   },
   {
    "duration": 8,
    "start_time": "2021-09-16T09:39:30.396Z"
   },
   {
    "duration": 19,
    "start_time": "2021-09-16T09:39:32.132Z"
   },
   {
    "duration": 7,
    "start_time": "2021-09-16T09:41:23.332Z"
   },
   {
    "duration": 505,
    "start_time": "2021-09-16T09:41:23.815Z"
   },
   {
    "duration": 637,
    "start_time": "2021-09-16T09:44:46.211Z"
   },
   {
    "duration": 301,
    "start_time": "2021-09-16T09:45:07.352Z"
   },
   {
    "duration": 283,
    "start_time": "2021-09-16T09:45:21.141Z"
   },
   {
    "duration": 15,
    "start_time": "2021-09-16T09:45:28.269Z"
   },
   {
    "duration": 310,
    "start_time": "2021-09-16T09:46:20.872Z"
   },
   {
    "duration": 278,
    "start_time": "2021-09-16T09:46:47.022Z"
   },
   {
    "duration": 281,
    "start_time": "2021-09-16T09:47:36.675Z"
   },
   {
    "duration": 307,
    "start_time": "2021-09-16T09:47:45.530Z"
   },
   {
    "duration": 298,
    "start_time": "2021-09-16T09:48:06.852Z"
   },
   {
    "duration": 364,
    "start_time": "2021-09-16T09:48:10.976Z"
   },
   {
    "duration": 50,
    "start_time": "2021-09-16T09:48:12.566Z"
   },
   {
    "duration": 928,
    "start_time": "2021-09-16T09:48:50.522Z"
   },
   {
    "duration": 416,
    "start_time": "2021-09-16T09:49:12.951Z"
   },
   {
    "duration": 295,
    "start_time": "2021-09-16T09:49:16.940Z"
   },
   {
    "duration": 5,
    "start_time": "2021-09-16T09:49:28.211Z"
   },
   {
    "duration": 104,
    "start_time": "2021-09-16T09:49:28.218Z"
   },
   {
    "duration": 20,
    "start_time": "2021-09-16T09:49:28.325Z"
   },
   {
    "duration": 43,
    "start_time": "2021-09-16T09:49:28.347Z"
   },
   {
    "duration": 22,
    "start_time": "2021-09-16T09:49:28.392Z"
   },
   {
    "duration": 22,
    "start_time": "2021-09-16T09:49:28.417Z"
   },
   {
    "duration": 12,
    "start_time": "2021-09-16T09:49:28.444Z"
   },
   {
    "duration": 50,
    "start_time": "2021-09-16T09:49:28.459Z"
   },
   {
    "duration": 20,
    "start_time": "2021-09-16T09:49:28.512Z"
   },
   {
    "duration": 9,
    "start_time": "2021-09-16T09:49:28.535Z"
   },
   {
    "duration": 11,
    "start_time": "2021-09-16T09:49:28.546Z"
   },
   {
    "duration": 33,
    "start_time": "2021-09-16T09:49:28.560Z"
   },
   {
    "duration": 20,
    "start_time": "2021-09-16T09:49:28.596Z"
   },
   {
    "duration": 66,
    "start_time": "2021-09-16T09:49:28.618Z"
   },
   {
    "duration": 9,
    "start_time": "2021-09-16T09:49:28.686Z"
   },
   {
    "duration": 20,
    "start_time": "2021-09-16T09:49:28.698Z"
   },
   {
    "duration": 21,
    "start_time": "2021-09-16T09:49:28.720Z"
   },
   {
    "duration": 11271,
    "start_time": "2021-09-16T09:49:28.743Z"
   },
   {
    "duration": 5,
    "start_time": "2021-09-16T09:49:40.019Z"
   },
   {
    "duration": 644,
    "start_time": "2021-09-16T09:49:40.027Z"
   },
   {
    "duration": 579,
    "start_time": "2021-09-16T09:49:40.674Z"
   },
   {
    "duration": 4,
    "start_time": "2021-09-16T09:49:41.255Z"
   },
   {
    "duration": 42,
    "start_time": "2021-09-16T09:49:41.261Z"
   },
   {
    "duration": 540,
    "start_time": "2021-09-16T09:49:41.306Z"
   },
   {
    "duration": 7,
    "start_time": "2021-09-16T09:49:41.848Z"
   },
   {
    "duration": 39,
    "start_time": "2021-09-16T09:49:41.858Z"
   },
   {
    "duration": 477,
    "start_time": "2021-09-16T09:49:41.899Z"
   },
   {
    "duration": 713,
    "start_time": "2021-09-16T09:49:42.383Z"
   },
   {
    "duration": 10,
    "start_time": "2021-09-16T09:49:43.098Z"
   },
   {
    "duration": 472,
    "start_time": "2021-09-16T09:49:43.110Z"
   },
   {
    "duration": 526,
    "start_time": "2021-09-16T09:49:43.585Z"
   },
   {
    "duration": 124,
    "start_time": "2021-09-16T09:49:44.115Z"
   },
   {
    "duration": 376,
    "start_time": "2021-09-16T09:49:44.241Z"
   },
   {
    "duration": 366,
    "start_time": "2021-09-16T09:49:44.620Z"
   },
   {
    "duration": 661,
    "start_time": "2021-09-16T09:49:44.989Z"
   },
   {
    "duration": 5,
    "start_time": "2021-09-16T09:49:45.652Z"
   },
   {
    "duration": 264,
    "start_time": "2021-09-16T09:49:45.660Z"
   },
   {
    "duration": 428,
    "start_time": "2021-09-16T09:49:45.927Z"
   },
   {
    "duration": 426,
    "start_time": "2021-09-16T09:49:50.298Z"
   },
   {
    "duration": 11,
    "start_time": "2021-09-16T09:49:51.688Z"
   },
   {
    "duration": 262,
    "start_time": "2021-09-16T09:53:24.036Z"
   },
   {
    "duration": 465,
    "start_time": "2021-09-16T09:54:26.432Z"
   },
   {
    "duration": 11,
    "start_time": "2021-09-16T09:55:21.491Z"
   },
   {
    "duration": 257,
    "start_time": "2021-09-16T09:57:00.287Z"
   },
   {
    "duration": 506,
    "start_time": "2021-09-16T09:57:41.377Z"
   },
   {
    "duration": 12,
    "start_time": "2021-09-16T09:58:03.216Z"
   },
   {
    "duration": 847,
    "start_time": "2021-09-16T09:59:41.055Z"
   },
   {
    "duration": 313,
    "start_time": "2021-09-16T09:59:53.598Z"
   },
   {
    "duration": 633,
    "start_time": "2021-09-16T10:13:58.790Z"
   },
   {
    "duration": 518,
    "start_time": "2021-09-16T10:16:08.264Z"
   },
   {
    "duration": 608,
    "start_time": "2021-09-16T10:19:38.657Z"
   },
   {
    "duration": 308,
    "start_time": "2021-09-16T10:19:49.550Z"
   },
   {
    "duration": 262,
    "start_time": "2021-09-16T10:23:24.507Z"
   },
   {
    "duration": 104,
    "start_time": "2021-09-16T10:24:13.191Z"
   },
   {
    "duration": 306,
    "start_time": "2021-09-16T10:24:21.100Z"
   },
   {
    "duration": 315,
    "start_time": "2021-09-16T10:25:10.413Z"
   },
   {
    "duration": 637,
    "start_time": "2021-09-16T10:25:21.948Z"
   },
   {
    "duration": 270,
    "start_time": "2021-09-16T10:28:08.043Z"
   },
   {
    "duration": 269,
    "start_time": "2021-09-16T10:28:27.504Z"
   },
   {
    "duration": 245,
    "start_time": "2021-09-16T10:29:05.767Z"
   },
   {
    "duration": 352,
    "start_time": "2021-09-16T10:30:47.454Z"
   },
   {
    "duration": 854,
    "start_time": "2021-09-16T10:31:31.441Z"
   },
   {
    "duration": 354,
    "start_time": "2021-09-16T10:32:24.619Z"
   },
   {
    "duration": 305,
    "start_time": "2021-09-16T10:34:40.284Z"
   },
   {
    "duration": 325,
    "start_time": "2021-09-16T10:34:55.004Z"
   },
   {
    "duration": 317,
    "start_time": "2021-09-16T10:35:04.093Z"
   },
   {
    "duration": 590,
    "start_time": "2021-09-16T10:38:17.572Z"
   },
   {
    "duration": 609,
    "start_time": "2021-09-16T10:40:23.828Z"
   },
   {
    "duration": 548,
    "start_time": "2021-09-16T10:41:00.809Z"
   },
   {
    "duration": 337,
    "start_time": "2021-09-16T10:42:29.455Z"
   },
   {
    "duration": 448,
    "start_time": "2021-09-16T10:42:46.177Z"
   },
   {
    "duration": 474,
    "start_time": "2021-09-16T10:43:06.558Z"
   },
   {
    "duration": 368,
    "start_time": "2021-09-16T10:43:21.084Z"
   },
   {
    "duration": 361,
    "start_time": "2021-09-16T10:44:28.821Z"
   },
   {
    "duration": 471,
    "start_time": "2021-09-16T10:47:54.758Z"
   },
   {
    "duration": 256,
    "start_time": "2021-09-16T10:48:30.562Z"
   },
   {
    "duration": 291,
    "start_time": "2021-09-16T10:49:03.364Z"
   },
   {
    "duration": 288,
    "start_time": "2021-09-16T10:49:10.161Z"
   },
   {
    "duration": 1079,
    "start_time": "2021-09-16T10:50:52.406Z"
   },
   {
    "duration": 939,
    "start_time": "2021-09-16T10:51:38.017Z"
   },
   {
    "duration": 98,
    "start_time": "2021-09-16T10:55:00.941Z"
   },
   {
    "duration": 94,
    "start_time": "2021-09-16T10:55:10.738Z"
   },
   {
    "duration": 356,
    "start_time": "2021-09-16T10:56:25.947Z"
   },
   {
    "duration": 573,
    "start_time": "2021-09-16T10:56:52.462Z"
   },
   {
    "duration": 325,
    "start_time": "2021-09-16T10:57:16.812Z"
   },
   {
    "duration": 14,
    "start_time": "2021-09-16T11:13:14.235Z"
   },
   {
    "duration": 427,
    "start_time": "2021-09-16T11:13:49.449Z"
   },
   {
    "duration": 245,
    "start_time": "2021-09-16T11:14:08.555Z"
   },
   {
    "duration": 261,
    "start_time": "2021-09-16T11:14:09.694Z"
   },
   {
    "duration": 273,
    "start_time": "2021-09-16T11:15:12.734Z"
   },
   {
    "duration": 301,
    "start_time": "2021-09-16T11:15:16.753Z"
   },
   {
    "duration": 239,
    "start_time": "2021-09-16T11:15:46.409Z"
   },
   {
    "duration": 4,
    "start_time": "2021-09-16T11:16:38.297Z"
   },
   {
    "duration": 128,
    "start_time": "2021-09-16T11:16:38.305Z"
   },
   {
    "duration": 47,
    "start_time": "2021-09-16T11:16:38.436Z"
   },
   {
    "duration": 6,
    "start_time": "2021-09-16T11:16:38.492Z"
   },
   {
    "duration": 22,
    "start_time": "2021-09-16T11:16:38.500Z"
   },
   {
    "duration": 26,
    "start_time": "2021-09-16T11:16:38.524Z"
   },
   {
    "duration": 40,
    "start_time": "2021-09-16T11:16:38.554Z"
   },
   {
    "duration": 33,
    "start_time": "2021-09-16T11:16:38.598Z"
   },
   {
    "duration": 17,
    "start_time": "2021-09-16T11:16:38.634Z"
   },
   {
    "duration": 31,
    "start_time": "2021-09-16T11:16:38.653Z"
   },
   {
    "duration": 9,
    "start_time": "2021-09-16T11:16:38.687Z"
   },
   {
    "duration": 20,
    "start_time": "2021-09-16T11:16:38.699Z"
   },
   {
    "duration": 29,
    "start_time": "2021-09-16T11:16:38.721Z"
   },
   {
    "duration": 75,
    "start_time": "2021-09-16T11:16:38.752Z"
   },
   {
    "duration": 10,
    "start_time": "2021-09-16T11:16:38.830Z"
   },
   {
    "duration": 41,
    "start_time": "2021-09-16T11:16:38.843Z"
   },
   {
    "duration": 14,
    "start_time": "2021-09-16T11:16:38.887Z"
   },
   {
    "duration": 11639,
    "start_time": "2021-09-16T11:16:38.904Z"
   },
   {
    "duration": 6,
    "start_time": "2021-09-16T11:16:50.548Z"
   },
   {
    "duration": 797,
    "start_time": "2021-09-16T11:16:50.557Z"
   },
   {
    "duration": 614,
    "start_time": "2021-09-16T11:16:51.357Z"
   },
   {
    "duration": 10,
    "start_time": "2021-09-16T11:16:51.974Z"
   },
   {
    "duration": 30,
    "start_time": "2021-09-16T11:16:51.987Z"
   },
   {
    "duration": 782,
    "start_time": "2021-09-16T11:16:52.019Z"
   },
   {
    "duration": -1557,
    "start_time": "2021-09-16T11:16:54.361Z"
   },
   {
    "duration": -1567,
    "start_time": "2021-09-16T11:16:54.372Z"
   },
   {
    "duration": -1578,
    "start_time": "2021-09-16T11:16:54.384Z"
   },
   {
    "duration": -1586,
    "start_time": "2021-09-16T11:16:54.394Z"
   },
   {
    "duration": -1595,
    "start_time": "2021-09-16T11:16:54.404Z"
   },
   {
    "duration": -1605,
    "start_time": "2021-09-16T11:16:54.416Z"
   },
   {
    "duration": -1617,
    "start_time": "2021-09-16T11:16:54.429Z"
   },
   {
    "duration": -1626,
    "start_time": "2021-09-16T11:16:54.440Z"
   },
   {
    "duration": -1634,
    "start_time": "2021-09-16T11:16:54.450Z"
   },
   {
    "duration": -1662,
    "start_time": "2021-09-16T11:16:54.479Z"
   },
   {
    "duration": -1672,
    "start_time": "2021-09-16T11:16:54.491Z"
   },
   {
    "duration": -1683,
    "start_time": "2021-09-16T11:16:54.503Z"
   },
   {
    "duration": -1690,
    "start_time": "2021-09-16T11:16:54.512Z"
   },
   {
    "duration": 284,
    "start_time": "2021-09-16T11:17:04.547Z"
   },
   {
    "duration": 255,
    "start_time": "2021-09-16T11:17:05.910Z"
   },
   {
    "duration": 254,
    "start_time": "2021-09-16T11:17:06.607Z"
   },
   {
    "duration": 252,
    "start_time": "2021-09-16T11:17:24.365Z"
   },
   {
    "duration": 395,
    "start_time": "2021-09-16T11:17:36.163Z"
   },
   {
    "duration": 375,
    "start_time": "2021-09-16T11:17:49.344Z"
   },
   {
    "duration": 13,
    "start_time": "2021-09-16T11:17:54.318Z"
   },
   {
    "duration": 10,
    "start_time": "2021-09-16T11:18:11.929Z"
   },
   {
    "duration": 260,
    "start_time": "2021-09-16T11:18:21.066Z"
   },
   {
    "duration": 401,
    "start_time": "2021-09-16T11:18:33.669Z"
   },
   {
    "duration": 14,
    "start_time": "2021-09-16T11:18:38.689Z"
   },
   {
    "duration": 10,
    "start_time": "2021-09-16T11:18:44.240Z"
   },
   {
    "duration": 10,
    "start_time": "2021-09-16T11:18:48.642Z"
   },
   {
    "duration": 10,
    "start_time": "2021-09-16T11:18:50.865Z"
   },
   {
    "duration": 466,
    "start_time": "2021-09-16T11:27:00.093Z"
   },
   {
    "duration": 10,
    "start_time": "2021-09-16T11:27:51.070Z"
   },
   {
    "duration": 11,
    "start_time": "2021-09-16T11:28:24.815Z"
   },
   {
    "duration": 10,
    "start_time": "2021-09-16T11:28:53.969Z"
   },
   {
    "duration": 37,
    "start_time": "2021-09-16T11:39:48.780Z"
   },
   {
    "duration": 43,
    "start_time": "2021-09-16T11:41:21.694Z"
   },
   {
    "duration": 34,
    "start_time": "2021-09-16T11:41:30.618Z"
   },
   {
    "duration": 431,
    "start_time": "2021-09-16T11:42:58.972Z"
   },
   {
    "duration": 41,
    "start_time": "2021-09-16T11:43:05.298Z"
   },
   {
    "duration": 46,
    "start_time": "2021-09-16T11:44:20.256Z"
   },
   {
    "duration": 53,
    "start_time": "2021-09-16T11:46:10.575Z"
   },
   {
    "duration": 309,
    "start_time": "2021-09-16T11:47:11.402Z"
   },
   {
    "duration": 101,
    "start_time": "2021-09-16T11:47:24.700Z"
   },
   {
    "duration": 49,
    "start_time": "2021-09-16T11:48:38.973Z"
   },
   {
    "duration": 4,
    "start_time": "2021-09-16T12:10:41.261Z"
   },
   {
    "duration": 130,
    "start_time": "2021-09-16T12:10:41.268Z"
   },
   {
    "duration": 20,
    "start_time": "2021-09-16T12:10:41.401Z"
   },
   {
    "duration": 10,
    "start_time": "2021-09-16T12:10:41.424Z"
   },
   {
    "duration": 49,
    "start_time": "2021-09-16T12:10:41.437Z"
   },
   {
    "duration": 22,
    "start_time": "2021-09-16T12:10:41.489Z"
   },
   {
    "duration": 15,
    "start_time": "2021-09-16T12:10:41.516Z"
   },
   {
    "duration": 66,
    "start_time": "2021-09-16T12:10:41.534Z"
   },
   {
    "duration": 16,
    "start_time": "2021-09-16T12:10:41.603Z"
   },
   {
    "duration": 6,
    "start_time": "2021-09-16T12:10:41.621Z"
   },
   {
    "duration": 13,
    "start_time": "2021-09-16T12:10:41.630Z"
   },
   {
    "duration": 53,
    "start_time": "2021-09-16T12:10:41.645Z"
   },
   {
    "duration": 22,
    "start_time": "2021-09-16T12:10:41.702Z"
   },
   {
    "duration": 73,
    "start_time": "2021-09-16T12:10:41.727Z"
   },
   {
    "duration": 10,
    "start_time": "2021-09-16T12:10:41.803Z"
   },
   {
    "duration": 11,
    "start_time": "2021-09-16T12:10:41.815Z"
   },
   {
    "duration": 12,
    "start_time": "2021-09-16T12:10:41.829Z"
   },
   {
    "duration": 11610,
    "start_time": "2021-09-16T12:10:41.843Z"
   },
   {
    "duration": 5,
    "start_time": "2021-09-16T12:10:53.457Z"
   },
   {
    "duration": 708,
    "start_time": "2021-09-16T12:10:53.465Z"
   },
   {
    "duration": 598,
    "start_time": "2021-09-16T12:10:54.184Z"
   },
   {
    "duration": 4,
    "start_time": "2021-09-16T12:10:54.789Z"
   },
   {
    "duration": 48,
    "start_time": "2021-09-16T12:10:54.797Z"
   },
   {
    "duration": 759,
    "start_time": "2021-09-16T12:10:54.848Z"
   },
   {
    "duration": -1466,
    "start_time": "2021-09-16T12:10:57.075Z"
   },
   {
    "duration": -1480,
    "start_time": "2021-09-16T12:10:57.091Z"
   },
   {
    "duration": -1512,
    "start_time": "2021-09-16T12:10:57.124Z"
   },
   {
    "duration": -1523,
    "start_time": "2021-09-16T12:10:57.137Z"
   },
   {
    "duration": -1533,
    "start_time": "2021-09-16T12:10:57.148Z"
   },
   {
    "duration": -1544,
    "start_time": "2021-09-16T12:10:57.160Z"
   },
   {
    "duration": -1553,
    "start_time": "2021-09-16T12:10:57.171Z"
   },
   {
    "duration": -1565,
    "start_time": "2021-09-16T12:10:57.184Z"
   },
   {
    "duration": -1578,
    "start_time": "2021-09-16T12:10:57.198Z"
   },
   {
    "duration": -1587,
    "start_time": "2021-09-16T12:10:57.208Z"
   },
   {
    "duration": -1617,
    "start_time": "2021-09-16T12:10:57.240Z"
   },
   {
    "duration": -1627,
    "start_time": "2021-09-16T12:10:57.251Z"
   },
   {
    "duration": 929,
    "start_time": "2021-09-16T12:11:03.824Z"
   },
   {
    "duration": 564,
    "start_time": "2021-09-16T12:18:58.108Z"
   },
   {
    "duration": 8,
    "start_time": "2021-09-16T12:19:01.723Z"
   },
   {
    "duration": 21,
    "start_time": "2021-09-16T12:19:02.314Z"
   },
   {
    "duration": 701,
    "start_time": "2021-09-16T12:19:02.459Z"
   },
   {
    "duration": 497,
    "start_time": "2021-09-16T12:19:09.434Z"
   },
   {
    "duration": 816,
    "start_time": "2021-09-16T12:19:14.362Z"
   },
   {
    "duration": 11,
    "start_time": "2021-09-16T12:19:20.036Z"
   },
   {
    "duration": 456,
    "start_time": "2021-09-16T12:19:20.942Z"
   },
   {
    "duration": 446,
    "start_time": "2021-09-16T12:19:21.401Z"
   },
   {
    "duration": 114,
    "start_time": "2021-09-16T12:19:28.459Z"
   },
   {
    "duration": 377,
    "start_time": "2021-09-16T12:19:43.744Z"
   },
   {
    "duration": 371,
    "start_time": "2021-09-16T12:19:49.629Z"
   },
   {
    "duration": 691,
    "start_time": "2021-09-16T12:19:53.393Z"
   },
   {
    "duration": 379,
    "start_time": "2021-09-16T12:20:02.722Z"
   },
   {
    "duration": 1036,
    "start_time": "2021-09-16T12:20:08.778Z"
   },
   {
    "duration": 270,
    "start_time": "2021-09-16T12:33:36.606Z"
   },
   {
    "duration": 15,
    "start_time": "2021-09-16T12:34:27.530Z"
   },
   {
    "duration": 7,
    "start_time": "2021-09-16T12:35:22.717Z"
   },
   {
    "duration": 18,
    "start_time": "2021-09-16T12:44:22.481Z"
   },
   {
    "duration": 7,
    "start_time": "2021-09-16T12:44:46.950Z"
   },
   {
    "duration": 8,
    "start_time": "2021-09-16T12:49:37.043Z"
   },
   {
    "duration": 106,
    "start_time": "2021-09-16T12:51:55.606Z"
   },
   {
    "duration": 11,
    "start_time": "2021-09-16T12:52:51.885Z"
   },
   {
    "duration": 5,
    "start_time": "2021-09-16T13:24:45.640Z"
   },
   {
    "duration": 111,
    "start_time": "2021-09-16T13:24:45.648Z"
   },
   {
    "duration": 26,
    "start_time": "2021-09-16T13:24:45.787Z"
   },
   {
    "duration": 8,
    "start_time": "2021-09-16T13:24:45.816Z"
   },
   {
    "duration": 29,
    "start_time": "2021-09-16T13:24:45.826Z"
   },
   {
    "duration": 47,
    "start_time": "2021-09-16T13:24:45.858Z"
   },
   {
    "duration": 20,
    "start_time": "2021-09-16T13:24:45.908Z"
   },
   {
    "duration": 30,
    "start_time": "2021-09-16T13:24:45.932Z"
   },
   {
    "duration": 19,
    "start_time": "2021-09-16T13:24:45.984Z"
   },
   {
    "duration": 7,
    "start_time": "2021-09-16T13:24:46.005Z"
   },
   {
    "duration": 9,
    "start_time": "2021-09-16T13:24:46.015Z"
   },
   {
    "duration": 73,
    "start_time": "2021-09-16T13:24:46.027Z"
   },
   {
    "duration": 19,
    "start_time": "2021-09-16T13:24:46.103Z"
   },
   {
    "duration": 60,
    "start_time": "2021-09-16T13:24:46.124Z"
   },
   {
    "duration": 12,
    "start_time": "2021-09-16T13:24:46.187Z"
   },
   {
    "duration": 8,
    "start_time": "2021-09-16T13:24:46.202Z"
   },
   {
    "duration": 15,
    "start_time": "2021-09-16T13:24:46.213Z"
   },
   {
    "duration": 13299,
    "start_time": "2021-09-16T13:24:46.231Z"
   },
   {
    "duration": 5,
    "start_time": "2021-09-16T13:24:59.535Z"
   },
   {
    "duration": 734,
    "start_time": "2021-09-16T13:24:59.543Z"
   },
   {
    "duration": -1354,
    "start_time": "2021-09-16T13:25:01.637Z"
   },
   {
    "duration": -1390,
    "start_time": "2021-09-16T13:25:01.675Z"
   },
   {
    "duration": -1418,
    "start_time": "2021-09-16T13:25:01.706Z"
   },
   {
    "duration": -1435,
    "start_time": "2021-09-16T13:25:01.725Z"
   },
   {
    "duration": -1445,
    "start_time": "2021-09-16T13:25:01.737Z"
   },
   {
    "duration": -1454,
    "start_time": "2021-09-16T13:25:01.749Z"
   },
   {
    "duration": -1463,
    "start_time": "2021-09-16T13:25:01.760Z"
   },
   {
    "duration": -1475,
    "start_time": "2021-09-16T13:25:01.774Z"
   },
   {
    "duration": -1484,
    "start_time": "2021-09-16T13:25:01.785Z"
   },
   {
    "duration": -1495,
    "start_time": "2021-09-16T13:25:01.797Z"
   },
   {
    "duration": -1544,
    "start_time": "2021-09-16T13:25:01.848Z"
   },
   {
    "duration": -1557,
    "start_time": "2021-09-16T13:25:01.862Z"
   },
   {
    "duration": -1581,
    "start_time": "2021-09-16T13:25:01.888Z"
   },
   {
    "duration": -1593,
    "start_time": "2021-09-16T13:25:01.901Z"
   },
   {
    "duration": -1627,
    "start_time": "2021-09-16T13:25:01.937Z"
   },
   {
    "duration": -1629,
    "start_time": "2021-09-16T13:25:01.941Z"
   },
   {
    "duration": -1632,
    "start_time": "2021-09-16T13:25:01.945Z"
   },
   {
    "duration": -1634,
    "start_time": "2021-09-16T13:25:01.949Z"
   },
   {
    "duration": -1637,
    "start_time": "2021-09-16T13:25:01.953Z"
   },
   {
    "duration": -1642,
    "start_time": "2021-09-16T13:25:01.960Z"
   },
   {
    "duration": -1645,
    "start_time": "2021-09-16T13:25:01.964Z"
   },
   {
    "duration": -1647,
    "start_time": "2021-09-16T13:25:01.968Z"
   },
   {
    "duration": -1650,
    "start_time": "2021-09-16T13:25:01.972Z"
   },
   {
    "duration": -1652,
    "start_time": "2021-09-16T13:25:01.976Z"
   },
   {
    "duration": -1596,
    "start_time": "2021-09-16T13:25:01.979Z"
   },
   {
    "duration": -1599,
    "start_time": "2021-09-16T13:25:01.984Z"
   },
   {
    "duration": -1600,
    "start_time": "2021-09-16T13:25:01.988Z"
   },
   {
    "duration": -1602,
    "start_time": "2021-09-16T13:25:01.992Z"
   },
   {
    "duration": -1603,
    "start_time": "2021-09-16T13:25:01.996Z"
   },
   {
    "duration": -1605,
    "start_time": "2021-09-16T13:25:02.000Z"
   },
   {
    "duration": -1607,
    "start_time": "2021-09-16T13:25:02.004Z"
   },
   {
    "duration": 1605,
    "start_time": "2021-09-16T13:25:13.970Z"
   },
   {
    "duration": 129,
    "start_time": "2021-09-16T13:25:18.655Z"
   },
   {
    "duration": 24,
    "start_time": "2021-09-16T13:25:18.787Z"
   },
   {
    "duration": 124,
    "start_time": "2021-09-16T13:25:18.814Z"
   },
   {
    "duration": 15,
    "start_time": "2021-09-16T13:25:18.941Z"
   },
   {
    "duration": 19,
    "start_time": "2021-09-16T13:25:18.958Z"
   },
   {
    "duration": 24,
    "start_time": "2021-09-16T13:25:18.980Z"
   },
   {
    "duration": 39,
    "start_time": "2021-09-16T13:25:19.007Z"
   },
   {
    "duration": 12,
    "start_time": "2021-09-16T13:25:19.050Z"
   },
   {
    "duration": 23,
    "start_time": "2021-09-16T13:25:19.065Z"
   },
   {
    "duration": 18,
    "start_time": "2021-09-16T13:25:19.091Z"
   },
   {
    "duration": 47,
    "start_time": "2021-09-16T13:25:19.111Z"
   },
   {
    "duration": 24,
    "start_time": "2021-09-16T13:25:19.160Z"
   },
   {
    "duration": 58,
    "start_time": "2021-09-16T13:25:19.187Z"
   },
   {
    "duration": 12,
    "start_time": "2021-09-16T13:25:19.247Z"
   },
   {
    "duration": 27,
    "start_time": "2021-09-16T13:25:19.261Z"
   },
   {
    "duration": 14,
    "start_time": "2021-09-16T13:25:19.291Z"
   },
   {
    "duration": 14002,
    "start_time": "2021-09-16T13:25:19.307Z"
   },
   {
    "duration": 6,
    "start_time": "2021-09-16T13:25:33.312Z"
   },
   {
    "duration": 694,
    "start_time": "2021-09-16T13:25:33.320Z"
   },
   {
    "duration": 813,
    "start_time": "2021-09-16T13:25:34.016Z"
   },
   {
    "duration": 3,
    "start_time": "2021-09-16T13:25:34.832Z"
   },
   {
    "duration": 70,
    "start_time": "2021-09-16T13:25:34.838Z"
   },
   {
    "duration": 585,
    "start_time": "2021-09-16T13:25:34.913Z"
   },
   {
    "duration": 8,
    "start_time": "2021-09-16T13:25:35.502Z"
   },
   {
    "duration": 43,
    "start_time": "2021-09-16T13:25:35.512Z"
   },
   {
    "duration": 501,
    "start_time": "2021-09-16T13:25:35.558Z"
   },
   {
    "duration": 731,
    "start_time": "2021-09-16T13:25:36.062Z"
   },
   {
    "duration": 10,
    "start_time": "2021-09-16T13:25:36.796Z"
   },
   {
    "duration": 529,
    "start_time": "2021-09-16T13:25:36.809Z"
   },
   {
    "duration": 471,
    "start_time": "2021-09-16T13:25:37.340Z"
   },
   {
    "duration": 139,
    "start_time": "2021-09-16T13:25:37.814Z"
   },
   {
    "duration": 412,
    "start_time": "2021-09-16T13:25:37.956Z"
   },
   {
    "duration": 378,
    "start_time": "2021-09-16T13:25:38.382Z"
   },
   {
    "duration": 700,
    "start_time": "2021-09-16T13:25:38.763Z"
   },
   {
    "duration": 397,
    "start_time": "2021-09-16T13:25:39.465Z"
   },
   {
    "duration": 932,
    "start_time": "2021-09-16T13:25:39.864Z"
   },
   {
    "duration": 833,
    "start_time": "2021-09-16T13:25:40.798Z"
   },
   {
    "duration": 11,
    "start_time": "2021-09-16T13:25:41.634Z"
   },
   {
    "duration": 26,
    "start_time": "2021-09-16T13:25:41.647Z"
   },
   {
    "duration": 403,
    "start_time": "2021-09-16T13:25:41.687Z"
   },
   {
    "duration": 14,
    "start_time": "2021-09-16T13:25:42.093Z"
   },
   {
    "duration": 10,
    "start_time": "2021-09-16T13:25:42.110Z"
   },
   {
    "duration": 14,
    "start_time": "2021-09-16T13:25:42.122Z"
   },
   {
    "duration": 92,
    "start_time": "2021-09-16T13:25:42.139Z"
   },
   {
    "duration": 13,
    "start_time": "2021-09-16T13:25:42.233Z"
   },
   {
    "duration": 39,
    "start_time": "2021-09-16T13:25:42.249Z"
   },
   {
    "duration": 18,
    "start_time": "2021-09-16T13:25:42.292Z"
   },
   {
    "duration": 14,
    "start_time": "2021-09-16T13:25:42.313Z"
   },
   {
    "duration": 10,
    "start_time": "2021-09-16T13:25:42.330Z"
   },
   {
    "duration": 14,
    "start_time": "2021-09-16T13:25:42.343Z"
   },
   {
    "duration": 1560,
    "start_time": "2021-09-16T13:28:22.855Z"
   },
   {
    "duration": 113,
    "start_time": "2021-09-16T13:28:24.419Z"
   },
   {
    "duration": 21,
    "start_time": "2021-09-16T13:28:24.536Z"
   },
   {
    "duration": 25,
    "start_time": "2021-09-16T13:28:24.560Z"
   },
   {
    "duration": 20,
    "start_time": "2021-09-16T13:28:24.588Z"
   },
   {
    "duration": 23,
    "start_time": "2021-09-16T13:28:24.611Z"
   },
   {
    "duration": 23,
    "start_time": "2021-09-16T13:28:24.636Z"
   },
   {
    "duration": 54,
    "start_time": "2021-09-16T13:28:24.663Z"
   },
   {
    "duration": 12,
    "start_time": "2021-09-16T13:28:24.720Z"
   },
   {
    "duration": 10,
    "start_time": "2021-09-16T13:28:24.735Z"
   },
   {
    "duration": 35,
    "start_time": "2021-09-16T13:28:24.748Z"
   },
   {
    "duration": 23,
    "start_time": "2021-09-16T13:28:24.788Z"
   },
   {
    "duration": 39,
    "start_time": "2021-09-16T13:28:24.814Z"
   },
   {
    "duration": 65,
    "start_time": "2021-09-16T13:28:24.856Z"
   },
   {
    "duration": 10,
    "start_time": "2021-09-16T13:28:24.923Z"
   },
   {
    "duration": 13,
    "start_time": "2021-09-16T13:28:24.936Z"
   },
   {
    "duration": 33,
    "start_time": "2021-09-16T13:28:24.952Z"
   },
   {
    "duration": 12163,
    "start_time": "2021-09-16T13:28:24.988Z"
   },
   {
    "duration": 5,
    "start_time": "2021-09-16T13:28:37.154Z"
   },
   {
    "duration": 680,
    "start_time": "2021-09-16T13:28:37.161Z"
   },
   {
    "duration": 617,
    "start_time": "2021-09-16T13:28:37.843Z"
   },
   {
    "duration": 3,
    "start_time": "2021-09-16T13:28:38.463Z"
   },
   {
    "duration": 33,
    "start_time": "2021-09-16T13:28:38.485Z"
   },
   {
    "duration": 684,
    "start_time": "2021-09-16T13:28:38.521Z"
   },
   {
    "duration": 8,
    "start_time": "2021-09-16T13:28:39.207Z"
   },
   {
    "duration": 31,
    "start_time": "2021-09-16T13:28:39.217Z"
   },
   {
    "duration": 505,
    "start_time": "2021-09-16T13:28:39.250Z"
   },
   {
    "duration": 1465,
    "start_time": "2021-09-16T13:28:39.757Z"
   },
   {
    "duration": 10,
    "start_time": "2021-09-16T13:28:41.225Z"
   },
   {
    "duration": 574,
    "start_time": "2021-09-16T13:28:41.238Z"
   },
   {
    "duration": 431,
    "start_time": "2021-09-16T13:28:41.814Z"
   },
   {
    "duration": 120,
    "start_time": "2021-09-16T13:28:42.247Z"
   },
   {
    "duration": 414,
    "start_time": "2021-09-16T13:28:42.370Z"
   },
   {
    "duration": 380,
    "start_time": "2021-09-16T13:28:42.786Z"
   },
   {
    "duration": 694,
    "start_time": "2021-09-16T13:28:43.168Z"
   },
   {
    "duration": 392,
    "start_time": "2021-09-16T13:28:43.865Z"
   },
   {
    "duration": 940,
    "start_time": "2021-09-16T13:28:44.260Z"
   },
   {
    "duration": 1902,
    "start_time": "2021-09-16T13:28:45.203Z"
   },
   {
    "duration": 11,
    "start_time": "2021-09-16T13:28:47.108Z"
   },
   {
    "duration": 19,
    "start_time": "2021-09-16T13:28:47.122Z"
   },
   {
    "duration": 407,
    "start_time": "2021-09-16T13:28:47.144Z"
   },
   {
    "duration": 10,
    "start_time": "2021-09-16T13:28:47.553Z"
   },
   {
    "duration": 35,
    "start_time": "2021-09-16T13:28:47.566Z"
   },
   {
    "duration": 10,
    "start_time": "2021-09-16T13:28:47.604Z"
   },
   {
    "duration": 70,
    "start_time": "2021-09-16T13:28:47.617Z"
   },
   {
    "duration": 18,
    "start_time": "2021-09-16T13:28:47.691Z"
   },
   {
    "duration": 18,
    "start_time": "2021-09-16T13:28:47.712Z"
   },
   {
    "duration": 16,
    "start_time": "2021-09-16T13:28:47.732Z"
   },
   {
    "duration": 45,
    "start_time": "2021-09-16T13:28:47.750Z"
   },
   {
    "duration": 13,
    "start_time": "2021-09-16T13:28:47.798Z"
   },
   {
    "duration": 27,
    "start_time": "2021-09-16T13:28:47.813Z"
   },
   {
    "duration": 1619,
    "start_time": "2021-09-17T07:52:05.455Z"
   },
   {
    "duration": 107,
    "start_time": "2021-09-17T07:52:07.077Z"
   },
   {
    "duration": 20,
    "start_time": "2021-09-17T07:52:07.187Z"
   },
   {
    "duration": 4,
    "start_time": "2021-09-17T07:52:07.210Z"
   },
   {
    "duration": 14,
    "start_time": "2021-09-17T07:52:07.217Z"
   },
   {
    "duration": 55,
    "start_time": "2021-09-17T07:52:07.233Z"
   },
   {
    "duration": 16,
    "start_time": "2021-09-17T07:52:07.291Z"
   },
   {
    "duration": 32,
    "start_time": "2021-09-17T07:52:07.313Z"
   },
   {
    "duration": 11,
    "start_time": "2021-09-17T07:52:07.384Z"
   },
   {
    "duration": 6,
    "start_time": "2021-09-17T07:52:07.398Z"
   },
   {
    "duration": 8,
    "start_time": "2021-09-17T07:52:07.407Z"
   },
   {
    "duration": 26,
    "start_time": "2021-09-17T07:52:07.417Z"
   },
   {
    "duration": 50,
    "start_time": "2021-09-17T07:52:07.446Z"
   },
   {
    "duration": 45,
    "start_time": "2021-09-17T07:52:07.499Z"
   },
   {
    "duration": 10,
    "start_time": "2021-09-17T07:52:07.547Z"
   },
   {
    "duration": 28,
    "start_time": "2021-09-17T07:52:07.559Z"
   },
   {
    "duration": 16,
    "start_time": "2021-09-17T07:52:07.591Z"
   },
   {
    "duration": 11760,
    "start_time": "2021-09-17T07:52:07.611Z"
   },
   {
    "duration": 9,
    "start_time": "2021-09-17T07:52:19.374Z"
   },
   {
    "duration": 667,
    "start_time": "2021-09-17T07:52:19.386Z"
   },
   {
    "duration": 586,
    "start_time": "2021-09-17T07:52:20.056Z"
   },
   {
    "duration": 4,
    "start_time": "2021-09-17T07:52:20.645Z"
   },
   {
    "duration": 46,
    "start_time": "2021-09-17T07:52:20.658Z"
   },
   {
    "duration": 561,
    "start_time": "2021-09-17T07:52:20.708Z"
   },
   {
    "duration": 10,
    "start_time": "2021-09-17T07:52:21.283Z"
   },
   {
    "duration": 28,
    "start_time": "2021-09-17T07:52:21.296Z"
   },
   {
    "duration": 505,
    "start_time": "2021-09-17T07:52:21.327Z"
   },
   {
    "duration": 721,
    "start_time": "2021-09-17T07:52:21.834Z"
   },
   {
    "duration": 10,
    "start_time": "2021-09-17T07:52:22.557Z"
   },
   {
    "duration": 546,
    "start_time": "2021-09-17T07:52:22.581Z"
   },
   {
    "duration": 415,
    "start_time": "2021-09-17T07:52:23.129Z"
   },
   {
    "duration": 113,
    "start_time": "2021-09-17T07:52:23.546Z"
   },
   {
    "duration": 380,
    "start_time": "2021-09-17T07:52:23.662Z"
   },
   {
    "duration": 369,
    "start_time": "2021-09-17T07:52:24.044Z"
   },
   {
    "duration": 691,
    "start_time": "2021-09-17T07:52:24.416Z"
   },
   {
    "duration": 382,
    "start_time": "2021-09-17T07:52:25.110Z"
   },
   {
    "duration": 912,
    "start_time": "2021-09-17T07:52:25.494Z"
   },
   {
    "duration": 1367,
    "start_time": "2021-09-17T07:52:26.408Z"
   },
   {
    "duration": 16,
    "start_time": "2021-09-17T07:52:27.779Z"
   },
   {
    "duration": 17,
    "start_time": "2021-09-17T07:52:27.798Z"
   },
   {
    "duration": 467,
    "start_time": "2021-09-17T07:52:27.818Z"
   },
   {
    "duration": 10,
    "start_time": "2021-09-17T07:52:28.288Z"
   },
   {
    "duration": 13,
    "start_time": "2021-09-17T07:52:28.301Z"
   },
   {
    "duration": 21,
    "start_time": "2021-09-17T07:52:28.317Z"
   },
   {
    "duration": 70,
    "start_time": "2021-09-17T07:52:28.341Z"
   },
   {
    "duration": 14,
    "start_time": "2021-09-17T07:52:28.413Z"
   },
   {
    "duration": 15,
    "start_time": "2021-09-17T07:52:28.429Z"
   },
   {
    "duration": 37,
    "start_time": "2021-09-17T07:52:28.447Z"
   },
   {
    "duration": 24,
    "start_time": "2021-09-17T07:52:28.487Z"
   },
   {
    "duration": 12,
    "start_time": "2021-09-17T07:52:28.513Z"
   },
   {
    "duration": 20,
    "start_time": "2021-09-17T07:52:28.527Z"
   },
   {
    "duration": 17,
    "start_time": "2021-09-17T09:17:40.261Z"
   },
   {
    "duration": 16,
    "start_time": "2021-09-17T09:17:48.820Z"
   },
   {
    "duration": 16,
    "start_time": "2021-09-17T09:17:58.660Z"
   }
  ],
  "kernelspec": {
   "display_name": "Python 3",
   "language": "python",
   "name": "python3"
  },
  "language_info": {
   "codemirror_mode": {
    "name": "ipython",
    "version": 3
   },
   "file_extension": ".py",
   "mimetype": "text/x-python",
   "name": "python",
   "nbconvert_exporter": "python",
   "pygments_lexer": "ipython3",
   "version": "3.8.8"
  },
  "toc": {
   "base_numbering": 1,
   "nav_menu": {},
   "number_sections": true,
   "sideBar": true,
   "skip_h1_title": true,
   "title_cell": "Table of Contents",
   "title_sidebar": "Contents",
   "toc_cell": false,
   "toc_position": {
    "height": "calc(100% - 180px)",
    "left": "10px",
    "top": "150px",
    "width": "322.725px"
   },
   "toc_section_display": true,
   "toc_window_display": true
  }
 },
 "nbformat": 4,
 "nbformat_minor": 4
}
