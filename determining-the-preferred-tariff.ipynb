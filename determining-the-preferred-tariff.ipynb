{
 "cells": [
  {
   "cell_type": "markdown",
   "metadata": {},
   "source": [
    "# Определение перспективного тарифа для телеком компании"
   ]
  },
  {
   "cell_type": "markdown",
   "metadata": {},
   "source": [
    "В нашем распоряжении данные 500 пользователей «Мегалайна»: кто они, откуда, каким тарифом пользуются, сколько звонков и сообщений каждый отправил за 2018 год. Нужно проанализировать поведение клиентов и сделать вывод — какой тариф лучше. Нам предстоит сделать предварительный анализ тарифов на небольшой выборке клиентов. \n",
    "Клиентам предлагают два тарифных плана: «Смарт» и «Ультра». Чтобы скорректировать рекламный бюджет, коммерческий департамент хочет понять, какой тариф приносит больше денег.\n",
    "\n",
    "Исследовательский анализ данных включает в себя:\n",
    "\n",
    "- предобработку данных\n",
    "- дополненительные расчеты\n",
    "- анализ факторов, влияющих на выручку\n",
    "- проверка гипотезы о влиянии тарифа на среднюю выручку\n",
    "- проверка гипотезы о влиянии региона на среднюю выручку\n"
   ]
  },
  {
   "cell_type": "markdown",
   "metadata": {},
   "source": [
    "## Загрузка файлов с данными и изучение общей информации"
   ]
  },
  {
   "cell_type": "markdown",
   "metadata": {},
   "source": [
    "Загрузка необходимых библиотек:"
   ]
  },
  {
   "cell_type": "code",
   "execution_count": 1,
   "metadata": {},
   "outputs": [],
   "source": [
    "import pandas as pd\n",
    "import matplotlib.pyplot as plt\n",
    "import numpy as np\n",
    "from scipy import stats as st\n",
    "from math import ceil\n",
    "import warnings\n",
    "warnings.filterwarnings(\"ignore\", category=Warning)"
   ]
  },
  {
   "cell_type": "markdown",
   "metadata": {},
   "source": [
    "Загрузка таблиц:"
   ]
  },
  {
   "cell_type": "code",
   "execution_count": 2,
   "metadata": {},
   "outputs": [],
   "source": [
    "calls_data = pd.read_csv('/datasets/calls.csv', parse_dates=['call_date'])\n",
    "internet_data = pd.read_csv('/datasets/internet.csv', index_col=0, parse_dates=['session_date'])\n",
    "messages_data = pd.read_csv('/datasets/messages.csv', parse_dates=['message_date'])\n",
    "tariffs_data = pd.read_csv('/datasets/tariffs.csv')\n",
    "users_data = pd.read_csv('/datasets/users.csv', parse_dates=['churn_date', 'reg_date'])"
   ]
  },
  {
   "cell_type": "markdown",
   "metadata": {},
   "source": [
    "Перед предварительной обработкой и анализом данных обозначим политику Мегалайн:\n",
    "\n",
    "«Мегалайн» всегда округляет вверх значения минут и мегабайтов. Если пользователь проговорил всего 1 секунду, в тарифе засчитывается целая минута.\n",
    "\n",
    "Для веб-трафика отдельные сессии не считаются. Вместо этого общая сумма за месяц округляется в бо́льшую сторону. Если абонент использует 1025 мегабайт в этом месяце, с него возьмут плату за 2 гигабайта."
   ]
  },
  {
   "cell_type": "markdown",
   "metadata": {},
   "source": [
    "### Данные о звонках"
   ]
  },
  {
   "cell_type": "markdown",
   "metadata": {},
   "source": [
    "Получим общую информацию о звонках, выведем 5 верхних строк таблицы calls_data:"
   ]
  },
  {
   "cell_type": "code",
   "execution_count": 3,
   "metadata": {
    "scrolled": true
   },
   "outputs": [
    {
     "name": "stdout",
     "output_type": "stream",
     "text": [
      "<class 'pandas.core.frame.DataFrame'>\n",
      "RangeIndex: 202607 entries, 0 to 202606\n",
      "Data columns (total 4 columns):\n",
      "id           202607 non-null object\n",
      "call_date    202607 non-null datetime64[ns]\n",
      "duration     202607 non-null float64\n",
      "user_id      202607 non-null int64\n",
      "dtypes: datetime64[ns](1), float64(1), int64(1), object(1)\n",
      "memory usage: 6.2+ MB\n",
      "None\n"
     ]
    },
    {
     "data": {
      "text/html": [
       "<div>\n",
       "<style scoped>\n",
       "    .dataframe tbody tr th:only-of-type {\n",
       "        vertical-align: middle;\n",
       "    }\n",
       "\n",
       "    .dataframe tbody tr th {\n",
       "        vertical-align: top;\n",
       "    }\n",
       "\n",
       "    .dataframe thead th {\n",
       "        text-align: right;\n",
       "    }\n",
       "</style>\n",
       "<table border=\"1\" class=\"dataframe\">\n",
       "  <thead>\n",
       "    <tr style=\"text-align: right;\">\n",
       "      <th></th>\n",
       "      <th>id</th>\n",
       "      <th>call_date</th>\n",
       "      <th>duration</th>\n",
       "      <th>user_id</th>\n",
       "    </tr>\n",
       "  </thead>\n",
       "  <tbody>\n",
       "    <tr>\n",
       "      <td>0</td>\n",
       "      <td>1000_0</td>\n",
       "      <td>2018-07-25</td>\n",
       "      <td>0.00</td>\n",
       "      <td>1000</td>\n",
       "    </tr>\n",
       "    <tr>\n",
       "      <td>1</td>\n",
       "      <td>1000_1</td>\n",
       "      <td>2018-08-17</td>\n",
       "      <td>0.00</td>\n",
       "      <td>1000</td>\n",
       "    </tr>\n",
       "    <tr>\n",
       "      <td>2</td>\n",
       "      <td>1000_2</td>\n",
       "      <td>2018-06-11</td>\n",
       "      <td>2.85</td>\n",
       "      <td>1000</td>\n",
       "    </tr>\n",
       "    <tr>\n",
       "      <td>3</td>\n",
       "      <td>1000_3</td>\n",
       "      <td>2018-09-21</td>\n",
       "      <td>13.80</td>\n",
       "      <td>1000</td>\n",
       "    </tr>\n",
       "    <tr>\n",
       "      <td>4</td>\n",
       "      <td>1000_4</td>\n",
       "      <td>2018-12-15</td>\n",
       "      <td>5.18</td>\n",
       "      <td>1000</td>\n",
       "    </tr>\n",
       "  </tbody>\n",
       "</table>\n",
       "</div>"
      ],
      "text/plain": [
       "       id  call_date  duration  user_id\n",
       "0  1000_0 2018-07-25      0.00     1000\n",
       "1  1000_1 2018-08-17      0.00     1000\n",
       "2  1000_2 2018-06-11      2.85     1000\n",
       "3  1000_3 2018-09-21     13.80     1000\n",
       "4  1000_4 2018-12-15      5.18     1000"
      ]
     },
     "execution_count": 3,
     "metadata": {},
     "output_type": "execute_result"
    }
   ],
   "source": [
    "print(calls_data.info())\n",
    "calls_data.head() "
   ]
  },
  {
   "cell_type": "markdown",
   "metadata": {},
   "source": [
    "В данных обнаружены звонки с нулевой продолжительностью. Нулями обозначены пропущенные звонки, поэтому их не нужно удалять. посчитаем число таких звонков:"
   ]
  },
  {
   "cell_type": "code",
   "execution_count": 4,
   "metadata": {},
   "outputs": [
    {
     "data": {
      "text/plain": [
       "39613"
      ]
     },
     "execution_count": 4,
     "metadata": {},
     "output_type": "execute_result"
    }
   ],
   "source": [
    "len(calls_data.query('duration == 0'))"
   ]
  },
  {
   "cell_type": "markdown",
   "metadata": {},
   "source": [
    "Округлим вверх продолжительность звонков:"
   ]
  },
  {
   "cell_type": "code",
   "execution_count": 5,
   "metadata": {},
   "outputs": [],
   "source": [
    "calls_data['duration'] = calls_data['duration'].apply(ceil)"
   ]
  },
  {
   "cell_type": "markdown",
   "metadata": {},
   "source": [
    "Посчитаем количество абонентов (пользователей) совершавших звонки:"
   ]
  },
  {
   "cell_type": "code",
   "execution_count": 6,
   "metadata": {},
   "outputs": [
    {
     "data": {
      "text/plain": [
       "492"
      ]
     },
     "execution_count": 6,
     "metadata": {},
     "output_type": "execute_result"
    }
   ],
   "source": [
    "len(calls_data['user_id'].unique())"
   ]
  },
  {
   "cell_type": "markdown",
   "metadata": {},
   "source": [
    "Восемь абонентов из нашей выборки не совершали звонки."
   ]
  },
  {
   "cell_type": "markdown",
   "metadata": {},
   "source": [
    "### Данные об интернет сессиях"
   ]
  },
  {
   "cell_type": "markdown",
   "metadata": {},
   "source": [
    "Получим общую информацию об интернет-сессиях абонентов, выведем 5 верхних строк таблицы internet_data:"
   ]
  },
  {
   "cell_type": "code",
   "execution_count": 7,
   "metadata": {},
   "outputs": [
    {
     "name": "stdout",
     "output_type": "stream",
     "text": [
      "<class 'pandas.core.frame.DataFrame'>\n",
      "Int64Index: 149396 entries, 0 to 149395\n",
      "Data columns (total 4 columns):\n",
      "id              149396 non-null object\n",
      "mb_used         149396 non-null float64\n",
      "session_date    149396 non-null datetime64[ns]\n",
      "user_id         149396 non-null int64\n",
      "dtypes: datetime64[ns](1), float64(1), int64(1), object(1)\n",
      "memory usage: 5.7+ MB\n",
      "None\n"
     ]
    },
    {
     "data": {
      "text/html": [
       "<div>\n",
       "<style scoped>\n",
       "    .dataframe tbody tr th:only-of-type {\n",
       "        vertical-align: middle;\n",
       "    }\n",
       "\n",
       "    .dataframe tbody tr th {\n",
       "        vertical-align: top;\n",
       "    }\n",
       "\n",
       "    .dataframe thead th {\n",
       "        text-align: right;\n",
       "    }\n",
       "</style>\n",
       "<table border=\"1\" class=\"dataframe\">\n",
       "  <thead>\n",
       "    <tr style=\"text-align: right;\">\n",
       "      <th></th>\n",
       "      <th>id</th>\n",
       "      <th>mb_used</th>\n",
       "      <th>session_date</th>\n",
       "      <th>user_id</th>\n",
       "    </tr>\n",
       "  </thead>\n",
       "  <tbody>\n",
       "    <tr>\n",
       "      <td>0</td>\n",
       "      <td>1000_0</td>\n",
       "      <td>112.95</td>\n",
       "      <td>2018-11-25</td>\n",
       "      <td>1000</td>\n",
       "    </tr>\n",
       "    <tr>\n",
       "      <td>1</td>\n",
       "      <td>1000_1</td>\n",
       "      <td>1052.81</td>\n",
       "      <td>2018-09-07</td>\n",
       "      <td>1000</td>\n",
       "    </tr>\n",
       "    <tr>\n",
       "      <td>2</td>\n",
       "      <td>1000_2</td>\n",
       "      <td>1197.26</td>\n",
       "      <td>2018-06-25</td>\n",
       "      <td>1000</td>\n",
       "    </tr>\n",
       "    <tr>\n",
       "      <td>3</td>\n",
       "      <td>1000_3</td>\n",
       "      <td>550.27</td>\n",
       "      <td>2018-08-22</td>\n",
       "      <td>1000</td>\n",
       "    </tr>\n",
       "    <tr>\n",
       "      <td>4</td>\n",
       "      <td>1000_4</td>\n",
       "      <td>302.56</td>\n",
       "      <td>2018-09-24</td>\n",
       "      <td>1000</td>\n",
       "    </tr>\n",
       "  </tbody>\n",
       "</table>\n",
       "</div>"
      ],
      "text/plain": [
       "       id  mb_used session_date  user_id\n",
       "0  1000_0   112.95   2018-11-25     1000\n",
       "1  1000_1  1052.81   2018-09-07     1000\n",
       "2  1000_2  1197.26   2018-06-25     1000\n",
       "3  1000_3   550.27   2018-08-22     1000\n",
       "4  1000_4   302.56   2018-09-24     1000"
      ]
     },
     "execution_count": 7,
     "metadata": {},
     "output_type": "execute_result"
    }
   ],
   "source": [
    "print(internet_data.info())\n",
    "internet_data.head() "
   ]
  },
  {
   "cell_type": "markdown",
   "metadata": {},
   "source": [
    "Посчитаем количество абонентов совершавших интернет-сессии:"
   ]
  },
  {
   "cell_type": "code",
   "execution_count": 8,
   "metadata": {},
   "outputs": [
    {
     "data": {
      "text/plain": [
       "497"
      ]
     },
     "execution_count": 8,
     "metadata": {},
     "output_type": "execute_result"
    }
   ],
   "source": [
    "len(internet_data['user_id'].unique())"
   ]
  },
  {
   "cell_type": "markdown",
   "metadata": {},
   "source": [
    "Три пользователя не пользовались интернетом. Посчитаем число сессий с объёмом использованного трафика равного 0:"
   ]
  },
  {
   "cell_type": "code",
   "execution_count": 9,
   "metadata": {},
   "outputs": [
    {
     "data": {
      "text/plain": [
       "19598"
      ]
     },
     "execution_count": 9,
     "metadata": {},
     "output_type": "execute_result"
    }
   ],
   "source": [
    "len(internet_data.query('mb_used == 0'))"
   ]
  },
  {
   "cell_type": "markdown",
   "metadata": {},
   "source": [
    "В 19598 случаях Мегалайн регистрировал интернет сессии без использования трафика. Такая ситуация возможна, если устройство пользователя постояно находится в режиме передачи данных, но при этом пользователь не тратит ресурсы в активном или фоновом режиме, а интернет-сессия в Мегалайне имеет определенные временные рамки и в течении времени происходит перерегистрация в сети, без использования траффика. Следует уточнить эти данные у оператора."
   ]
  },
  {
   "cell_type": "markdown",
   "metadata": {},
   "source": [
    "### Данные о сообщениях"
   ]
  },
  {
   "cell_type": "markdown",
   "metadata": {},
   "source": [
    "Получим общую информацию о сообщениях абонентов, выведем 5 верхних строк таблицы messages_data:"
   ]
  },
  {
   "cell_type": "code",
   "execution_count": 10,
   "metadata": {},
   "outputs": [
    {
     "name": "stdout",
     "output_type": "stream",
     "text": [
      "<class 'pandas.core.frame.DataFrame'>\n",
      "RangeIndex: 123036 entries, 0 to 123035\n",
      "Data columns (total 3 columns):\n",
      "id              123036 non-null object\n",
      "message_date    123036 non-null datetime64[ns]\n",
      "user_id         123036 non-null int64\n",
      "dtypes: datetime64[ns](1), int64(1), object(1)\n",
      "memory usage: 2.8+ MB\n",
      "None\n"
     ]
    },
    {
     "data": {
      "text/html": [
       "<div>\n",
       "<style scoped>\n",
       "    .dataframe tbody tr th:only-of-type {\n",
       "        vertical-align: middle;\n",
       "    }\n",
       "\n",
       "    .dataframe tbody tr th {\n",
       "        vertical-align: top;\n",
       "    }\n",
       "\n",
       "    .dataframe thead th {\n",
       "        text-align: right;\n",
       "    }\n",
       "</style>\n",
       "<table border=\"1\" class=\"dataframe\">\n",
       "  <thead>\n",
       "    <tr style=\"text-align: right;\">\n",
       "      <th></th>\n",
       "      <th>id</th>\n",
       "      <th>message_date</th>\n",
       "      <th>user_id</th>\n",
       "    </tr>\n",
       "  </thead>\n",
       "  <tbody>\n",
       "    <tr>\n",
       "      <td>0</td>\n",
       "      <td>1000_0</td>\n",
       "      <td>2018-06-27</td>\n",
       "      <td>1000</td>\n",
       "    </tr>\n",
       "    <tr>\n",
       "      <td>1</td>\n",
       "      <td>1000_1</td>\n",
       "      <td>2018-10-08</td>\n",
       "      <td>1000</td>\n",
       "    </tr>\n",
       "    <tr>\n",
       "      <td>2</td>\n",
       "      <td>1000_2</td>\n",
       "      <td>2018-08-04</td>\n",
       "      <td>1000</td>\n",
       "    </tr>\n",
       "    <tr>\n",
       "      <td>3</td>\n",
       "      <td>1000_3</td>\n",
       "      <td>2018-06-16</td>\n",
       "      <td>1000</td>\n",
       "    </tr>\n",
       "    <tr>\n",
       "      <td>4</td>\n",
       "      <td>1000_4</td>\n",
       "      <td>2018-12-05</td>\n",
       "      <td>1000</td>\n",
       "    </tr>\n",
       "  </tbody>\n",
       "</table>\n",
       "</div>"
      ],
      "text/plain": [
       "       id message_date  user_id\n",
       "0  1000_0   2018-06-27     1000\n",
       "1  1000_1   2018-10-08     1000\n",
       "2  1000_2   2018-08-04     1000\n",
       "3  1000_3   2018-06-16     1000\n",
       "4  1000_4   2018-12-05     1000"
      ]
     },
     "execution_count": 10,
     "metadata": {},
     "output_type": "execute_result"
    }
   ],
   "source": [
    "print(messages_data.info())\n",
    "messages_data.head() "
   ]
  },
  {
   "cell_type": "markdown",
   "metadata": {},
   "source": [
    "Посчитаем количество абонентов отправляющих сообщения:"
   ]
  },
  {
   "cell_type": "code",
   "execution_count": 11,
   "metadata": {},
   "outputs": [
    {
     "data": {
      "text/plain": [
       "426"
      ]
     },
     "execution_count": 11,
     "metadata": {},
     "output_type": "execute_result"
    }
   ],
   "source": [
    "len(messages_data['user_id'].unique())"
   ]
  },
  {
   "cell_type": "markdown",
   "metadata": {},
   "source": [
    "Сообщения самый непопулярный тип активности у абонентов из выборки: 74 абонента из 500 не пользуются сообщениями"
   ]
  },
  {
   "cell_type": "markdown",
   "metadata": {},
   "source": [
    "### Данные о пользователях"
   ]
  },
  {
   "cell_type": "markdown",
   "metadata": {},
   "source": [
    "Получим общую информацию о таблице users_data и выведем первые пять строк:"
   ]
  },
  {
   "cell_type": "code",
   "execution_count": 12,
   "metadata": {
    "scrolled": true
   },
   "outputs": [
    {
     "name": "stdout",
     "output_type": "stream",
     "text": [
      "<class 'pandas.core.frame.DataFrame'>\n",
      "RangeIndex: 500 entries, 0 to 499\n",
      "Data columns (total 8 columns):\n",
      "user_id       500 non-null int64\n",
      "age           500 non-null int64\n",
      "churn_date    38 non-null datetime64[ns]\n",
      "city          500 non-null object\n",
      "first_name    500 non-null object\n",
      "last_name     500 non-null object\n",
      "reg_date      500 non-null datetime64[ns]\n",
      "tariff        500 non-null object\n",
      "dtypes: datetime64[ns](2), int64(2), object(4)\n",
      "memory usage: 31.4+ KB\n",
      "None\n"
     ]
    },
    {
     "data": {
      "text/html": [
       "<div>\n",
       "<style scoped>\n",
       "    .dataframe tbody tr th:only-of-type {\n",
       "        vertical-align: middle;\n",
       "    }\n",
       "\n",
       "    .dataframe tbody tr th {\n",
       "        vertical-align: top;\n",
       "    }\n",
       "\n",
       "    .dataframe thead th {\n",
       "        text-align: right;\n",
       "    }\n",
       "</style>\n",
       "<table border=\"1\" class=\"dataframe\">\n",
       "  <thead>\n",
       "    <tr style=\"text-align: right;\">\n",
       "      <th></th>\n",
       "      <th>user_id</th>\n",
       "      <th>age</th>\n",
       "      <th>churn_date</th>\n",
       "      <th>city</th>\n",
       "      <th>first_name</th>\n",
       "      <th>last_name</th>\n",
       "      <th>reg_date</th>\n",
       "      <th>tariff</th>\n",
       "    </tr>\n",
       "  </thead>\n",
       "  <tbody>\n",
       "    <tr>\n",
       "      <td>0</td>\n",
       "      <td>1000</td>\n",
       "      <td>52</td>\n",
       "      <td>NaT</td>\n",
       "      <td>Краснодар</td>\n",
       "      <td>Рафаил</td>\n",
       "      <td>Верещагин</td>\n",
       "      <td>2018-05-25</td>\n",
       "      <td>ultra</td>\n",
       "    </tr>\n",
       "    <tr>\n",
       "      <td>1</td>\n",
       "      <td>1001</td>\n",
       "      <td>41</td>\n",
       "      <td>NaT</td>\n",
       "      <td>Москва</td>\n",
       "      <td>Иван</td>\n",
       "      <td>Ежов</td>\n",
       "      <td>2018-11-01</td>\n",
       "      <td>smart</td>\n",
       "    </tr>\n",
       "    <tr>\n",
       "      <td>2</td>\n",
       "      <td>1002</td>\n",
       "      <td>59</td>\n",
       "      <td>NaT</td>\n",
       "      <td>Стерлитамак</td>\n",
       "      <td>Евгений</td>\n",
       "      <td>Абрамович</td>\n",
       "      <td>2018-06-17</td>\n",
       "      <td>smart</td>\n",
       "    </tr>\n",
       "    <tr>\n",
       "      <td>3</td>\n",
       "      <td>1003</td>\n",
       "      <td>23</td>\n",
       "      <td>NaT</td>\n",
       "      <td>Москва</td>\n",
       "      <td>Белла</td>\n",
       "      <td>Белякова</td>\n",
       "      <td>2018-08-17</td>\n",
       "      <td>ultra</td>\n",
       "    </tr>\n",
       "    <tr>\n",
       "      <td>4</td>\n",
       "      <td>1004</td>\n",
       "      <td>68</td>\n",
       "      <td>NaT</td>\n",
       "      <td>Новокузнецк</td>\n",
       "      <td>Татьяна</td>\n",
       "      <td>Авдеенко</td>\n",
       "      <td>2018-05-14</td>\n",
       "      <td>ultra</td>\n",
       "    </tr>\n",
       "  </tbody>\n",
       "</table>\n",
       "</div>"
      ],
      "text/plain": [
       "   user_id  age churn_date         city first_name  last_name   reg_date  \\\n",
       "0     1000   52        NaT    Краснодар     Рафаил  Верещагин 2018-05-25   \n",
       "1     1001   41        NaT       Москва       Иван       Ежов 2018-11-01   \n",
       "2     1002   59        NaT  Стерлитамак    Евгений  Абрамович 2018-06-17   \n",
       "3     1003   23        NaT       Москва      Белла   Белякова 2018-08-17   \n",
       "4     1004   68        NaT  Новокузнецк    Татьяна   Авдеенко 2018-05-14   \n",
       "\n",
       "  tariff  \n",
       "0  ultra  \n",
       "1  smart  \n",
       "2  smart  \n",
       "3  ultra  \n",
       "4  ultra  "
      ]
     },
     "execution_count": 12,
     "metadata": {},
     "output_type": "execute_result"
    }
   ],
   "source": [
    "print(users_data.info())\n",
    "users_data.head()"
   ]
  },
  {
   "cell_type": "markdown",
   "metadata": {},
   "source": [
    "Есть пустые знаения в столбце `churn_date`(дата прекращения пользования тарифом). Если значения пустые, то на момент выгрузки данных тариф еще действовал."
   ]
  },
  {
   "cell_type": "markdown",
   "metadata": {},
   "source": [
    "### Информация о тарифах"
   ]
  },
  {
   "cell_type": "markdown",
   "metadata": {},
   "source": [
    "Выведем таблицу `tariffs_data`"
   ]
  },
  {
   "cell_type": "code",
   "execution_count": 13,
   "metadata": {},
   "outputs": [
    {
     "name": "stdout",
     "output_type": "stream",
     "text": [
      "<class 'pandas.core.frame.DataFrame'>\n",
      "RangeIndex: 2 entries, 0 to 1\n",
      "Data columns (total 8 columns):\n",
      "messages_included        2 non-null int64\n",
      "mb_per_month_included    2 non-null int64\n",
      "minutes_included         2 non-null int64\n",
      "rub_monthly_fee          2 non-null int64\n",
      "rub_per_gb               2 non-null int64\n",
      "rub_per_message          2 non-null int64\n",
      "rub_per_minute           2 non-null int64\n",
      "tariff_name              2 non-null object\n",
      "dtypes: int64(7), object(1)\n",
      "memory usage: 256.0+ bytes\n",
      "None\n"
     ]
    },
    {
     "data": {
      "text/html": [
       "<div>\n",
       "<style scoped>\n",
       "    .dataframe tbody tr th:only-of-type {\n",
       "        vertical-align: middle;\n",
       "    }\n",
       "\n",
       "    .dataframe tbody tr th {\n",
       "        vertical-align: top;\n",
       "    }\n",
       "\n",
       "    .dataframe thead th {\n",
       "        text-align: right;\n",
       "    }\n",
       "</style>\n",
       "<table border=\"1\" class=\"dataframe\">\n",
       "  <thead>\n",
       "    <tr style=\"text-align: right;\">\n",
       "      <th></th>\n",
       "      <th>messages_included</th>\n",
       "      <th>mb_per_month_included</th>\n",
       "      <th>minutes_included</th>\n",
       "      <th>rub_monthly_fee</th>\n",
       "      <th>rub_per_gb</th>\n",
       "      <th>rub_per_message</th>\n",
       "      <th>rub_per_minute</th>\n",
       "      <th>tariff_name</th>\n",
       "    </tr>\n",
       "  </thead>\n",
       "  <tbody>\n",
       "    <tr>\n",
       "      <td>0</td>\n",
       "      <td>50</td>\n",
       "      <td>15360</td>\n",
       "      <td>500</td>\n",
       "      <td>550</td>\n",
       "      <td>200</td>\n",
       "      <td>3</td>\n",
       "      <td>3</td>\n",
       "      <td>smart</td>\n",
       "    </tr>\n",
       "    <tr>\n",
       "      <td>1</td>\n",
       "      <td>1000</td>\n",
       "      <td>30720</td>\n",
       "      <td>3000</td>\n",
       "      <td>1950</td>\n",
       "      <td>150</td>\n",
       "      <td>1</td>\n",
       "      <td>1</td>\n",
       "      <td>ultra</td>\n",
       "    </tr>\n",
       "  </tbody>\n",
       "</table>\n",
       "</div>"
      ],
      "text/plain": [
       "   messages_included  mb_per_month_included  minutes_included  \\\n",
       "0                 50                  15360               500   \n",
       "1               1000                  30720              3000   \n",
       "\n",
       "   rub_monthly_fee  rub_per_gb  rub_per_message  rub_per_minute tariff_name  \n",
       "0              550         200                3               3       smart  \n",
       "1             1950         150                1               1       ultra  "
      ]
     },
     "execution_count": 13,
     "metadata": {},
     "output_type": "execute_result"
    }
   ],
   "source": [
    "print(tariffs_data.info())\n",
    "tariffs_data "
   ]
  },
  {
   "cell_type": "markdown",
   "metadata": {},
   "source": [
    "**Вывод:**"
   ]
  },
  {
   "cell_type": "markdown",
   "metadata": {},
   "source": [
    "В нашем распоряжении данные об активности 500 абонентов Мегалайн и информация о тарифах этих пользователей. Абоненты могут использовать один из двух тарифов.\n",
    "\n",
    "Данные о пользователях содержат пустые значения в столбце churn_date для абонентов, чей тариф активен. Всего прекративших использовать тариф абонентов - 38.\n",
    "\n",
    "Данные о звонках, сообщениях и трафике находятся в отдельных таблицах. Согласно политике Мегалайн, данные о продолжительности звонков (в минутах) округлены вверх до целого. Обнаружены звонки с нулевой продолжительностью и интернет-сессии с нулевым трафиком. Обнаружено, что есть абоненты, которые не пользуются звонками (3 человека), интернетом (8 человек) или сообщениями (74 человека).\n",
    "\n",
    "Для дальнейшего исследовательского анализа, необходимо оптимизировать типы данных и произвести дополнительные расчеты."
   ]
  },
  {
   "cell_type": "markdown",
   "metadata": {},
   "source": [
    "## Подготовка данных"
   ]
  },
  {
   "cell_type": "markdown",
   "metadata": {},
   "source": [
    "### Приведение данных к нужным типам"
   ]
  },
  {
   "cell_type": "markdown",
   "metadata": {},
   "source": [
    "Так как данные о пользователях охватывают весь 2018 год, присвоим пустым значениям в столбце `churn_date` ближайшую дату из 2019 года:"
   ]
  },
  {
   "cell_type": "code",
   "execution_count": 14,
   "metadata": {},
   "outputs": [
    {
     "data": {
      "text/html": [
       "<div>\n",
       "<style scoped>\n",
       "    .dataframe tbody tr th:only-of-type {\n",
       "        vertical-align: middle;\n",
       "    }\n",
       "\n",
       "    .dataframe tbody tr th {\n",
       "        vertical-align: top;\n",
       "    }\n",
       "\n",
       "    .dataframe thead th {\n",
       "        text-align: right;\n",
       "    }\n",
       "</style>\n",
       "<table border=\"1\" class=\"dataframe\">\n",
       "  <thead>\n",
       "    <tr style=\"text-align: right;\">\n",
       "      <th></th>\n",
       "      <th>user_id</th>\n",
       "      <th>age</th>\n",
       "      <th>churn_date</th>\n",
       "      <th>city</th>\n",
       "      <th>first_name</th>\n",
       "      <th>last_name</th>\n",
       "      <th>reg_date</th>\n",
       "      <th>tariff</th>\n",
       "    </tr>\n",
       "  </thead>\n",
       "  <tbody>\n",
       "    <tr>\n",
       "      <td>0</td>\n",
       "      <td>1000</td>\n",
       "      <td>52</td>\n",
       "      <td>2019-01-01</td>\n",
       "      <td>Краснодар</td>\n",
       "      <td>Рафаил</td>\n",
       "      <td>Верещагин</td>\n",
       "      <td>2018-05-25</td>\n",
       "      <td>ultra</td>\n",
       "    </tr>\n",
       "    <tr>\n",
       "      <td>1</td>\n",
       "      <td>1001</td>\n",
       "      <td>41</td>\n",
       "      <td>2019-01-01</td>\n",
       "      <td>Москва</td>\n",
       "      <td>Иван</td>\n",
       "      <td>Ежов</td>\n",
       "      <td>2018-11-01</td>\n",
       "      <td>smart</td>\n",
       "    </tr>\n",
       "    <tr>\n",
       "      <td>2</td>\n",
       "      <td>1002</td>\n",
       "      <td>59</td>\n",
       "      <td>2019-01-01</td>\n",
       "      <td>Стерлитамак</td>\n",
       "      <td>Евгений</td>\n",
       "      <td>Абрамович</td>\n",
       "      <td>2018-06-17</td>\n",
       "      <td>smart</td>\n",
       "    </tr>\n",
       "    <tr>\n",
       "      <td>3</td>\n",
       "      <td>1003</td>\n",
       "      <td>23</td>\n",
       "      <td>2019-01-01</td>\n",
       "      <td>Москва</td>\n",
       "      <td>Белла</td>\n",
       "      <td>Белякова</td>\n",
       "      <td>2018-08-17</td>\n",
       "      <td>ultra</td>\n",
       "    </tr>\n",
       "    <tr>\n",
       "      <td>4</td>\n",
       "      <td>1004</td>\n",
       "      <td>68</td>\n",
       "      <td>2019-01-01</td>\n",
       "      <td>Новокузнецк</td>\n",
       "      <td>Татьяна</td>\n",
       "      <td>Авдеенко</td>\n",
       "      <td>2018-05-14</td>\n",
       "      <td>ultra</td>\n",
       "    </tr>\n",
       "    <tr>\n",
       "      <td>...</td>\n",
       "      <td>...</td>\n",
       "      <td>...</td>\n",
       "      <td>...</td>\n",
       "      <td>...</td>\n",
       "      <td>...</td>\n",
       "      <td>...</td>\n",
       "      <td>...</td>\n",
       "      <td>...</td>\n",
       "    </tr>\n",
       "    <tr>\n",
       "      <td>495</td>\n",
       "      <td>1495</td>\n",
       "      <td>65</td>\n",
       "      <td>2019-01-01</td>\n",
       "      <td>Иркутск</td>\n",
       "      <td>Авксентий</td>\n",
       "      <td>Фокин</td>\n",
       "      <td>2018-08-28</td>\n",
       "      <td>ultra</td>\n",
       "    </tr>\n",
       "    <tr>\n",
       "      <td>496</td>\n",
       "      <td>1496</td>\n",
       "      <td>36</td>\n",
       "      <td>2019-01-01</td>\n",
       "      <td>Вологда</td>\n",
       "      <td>Трифон</td>\n",
       "      <td>Блохин</td>\n",
       "      <td>2018-01-27</td>\n",
       "      <td>smart</td>\n",
       "    </tr>\n",
       "    <tr>\n",
       "      <td>497</td>\n",
       "      <td>1497</td>\n",
       "      <td>32</td>\n",
       "      <td>2019-01-01</td>\n",
       "      <td>Челябинск</td>\n",
       "      <td>Каролина</td>\n",
       "      <td>Агеева</td>\n",
       "      <td>2018-10-09</td>\n",
       "      <td>smart</td>\n",
       "    </tr>\n",
       "    <tr>\n",
       "      <td>498</td>\n",
       "      <td>1498</td>\n",
       "      <td>68</td>\n",
       "      <td>2018-10-25</td>\n",
       "      <td>Владикавказ</td>\n",
       "      <td>Всеволод</td>\n",
       "      <td>Акимчин</td>\n",
       "      <td>2018-07-19</td>\n",
       "      <td>smart</td>\n",
       "    </tr>\n",
       "    <tr>\n",
       "      <td>499</td>\n",
       "      <td>1499</td>\n",
       "      <td>35</td>\n",
       "      <td>2019-01-01</td>\n",
       "      <td>Пермь</td>\n",
       "      <td>Гектор</td>\n",
       "      <td>Корнилов</td>\n",
       "      <td>2018-09-27</td>\n",
       "      <td>smart</td>\n",
       "    </tr>\n",
       "  </tbody>\n",
       "</table>\n",
       "<p>500 rows × 8 columns</p>\n",
       "</div>"
      ],
      "text/plain": [
       "     user_id  age  churn_date         city first_name  last_name   reg_date  \\\n",
       "0       1000   52  2019-01-01    Краснодар     Рафаил  Верещагин 2018-05-25   \n",
       "1       1001   41  2019-01-01       Москва       Иван       Ежов 2018-11-01   \n",
       "2       1002   59  2019-01-01  Стерлитамак    Евгений  Абрамович 2018-06-17   \n",
       "3       1003   23  2019-01-01       Москва      Белла   Белякова 2018-08-17   \n",
       "4       1004   68  2019-01-01  Новокузнецк    Татьяна   Авдеенко 2018-05-14   \n",
       "..       ...  ...         ...          ...        ...        ...        ...   \n",
       "495     1495   65  2019-01-01      Иркутск  Авксентий      Фокин 2018-08-28   \n",
       "496     1496   36  2019-01-01      Вологда     Трифон     Блохин 2018-01-27   \n",
       "497     1497   32  2019-01-01    Челябинск   Каролина     Агеева 2018-10-09   \n",
       "498     1498   68  2018-10-25  Владикавказ   Всеволод    Акимчин 2018-07-19   \n",
       "499     1499   35  2019-01-01        Пермь     Гектор   Корнилов 2018-09-27   \n",
       "\n",
       "    tariff  \n",
       "0    ultra  \n",
       "1    smart  \n",
       "2    smart  \n",
       "3    ultra  \n",
       "4    ultra  \n",
       "..     ...  \n",
       "495  ultra  \n",
       "496  smart  \n",
       "497  smart  \n",
       "498  smart  \n",
       "499  smart  \n",
       "\n",
       "[500 rows x 8 columns]"
      ]
     },
     "execution_count": 14,
     "metadata": {},
     "output_type": "execute_result"
    }
   ],
   "source": [
    "users_data['churn_date'] = users_data['churn_date'].fillna('2019-01-01')\n",
    "users_data['churn_date'] = pd.to_datetime(users_data['churn_date']).dt.date\n",
    "users_data"
   ]
  },
  {
   "cell_type": "markdown",
   "metadata": {},
   "source": [
    "Найдем максимальную продолжительность звонков:"
   ]
  },
  {
   "cell_type": "code",
   "execution_count": 15,
   "metadata": {},
   "outputs": [
    {
     "data": {
      "text/plain": [
       "38"
      ]
     },
     "execution_count": 15,
     "metadata": {},
     "output_type": "execute_result"
    }
   ],
   "source": [
    "calls_data['duration'].max()"
   ]
  },
  {
   "cell_type": "markdown",
   "metadata": {},
   "source": [
    "Максимальная продолжительность звонка 38 минут, так что изменим тип данных на uint8:"
   ]
  },
  {
   "cell_type": "code",
   "execution_count": 16,
   "metadata": {},
   "outputs": [],
   "source": [
    "calls_data['duration'] = calls_data['duration'].astype(np.uint8)"
   ]
  },
  {
   "cell_type": "markdown",
   "metadata": {},
   "source": [
    "Найдем максимальный объем использованного интернет трафика:"
   ]
  },
  {
   "cell_type": "code",
   "execution_count": 17,
   "metadata": {},
   "outputs": [
    {
     "data": {
      "text/plain": [
       "1724.83"
      ]
     },
     "execution_count": 17,
     "metadata": {},
     "output_type": "execute_result"
    }
   ],
   "source": [
    "internet_data['mb_used'].max()"
   ]
  },
  {
   "cell_type": "markdown",
   "metadata": {},
   "source": [
    "изменим тип данных на uint16:"
   ]
  },
  {
   "cell_type": "code",
   "execution_count": 18,
   "metadata": {},
   "outputs": [],
   "source": [
    "internet_data['mb_used'] = internet_data['mb_used'].astype(np.uint16)"
   ]
  },
  {
   "cell_type": "markdown",
   "metadata": {},
   "source": [
    "### Рассчеты и добавление результатов в таблицы"
   ]
  },
  {
   "cell_type": "markdown",
   "metadata": {},
   "source": [
    "Добавим в таблицы data_calls, data_internet, data_messages дополнительный столбец с месяцем:"
   ]
  },
  {
   "cell_type": "code",
   "execution_count": 19,
   "metadata": {},
   "outputs": [],
   "source": [
    "calls_data['month'] = calls_data['call_date'].dt.month\n",
    "internet_data['month'] = internet_data['session_date'].dt.month\n",
    "messages_data['month'] = messages_data['message_date'].dt.month"
   ]
  },
  {
   "cell_type": "markdown",
   "metadata": {},
   "source": [
    "Сгруппируем данные о звонках, найдем их число и продолжительность по месяцам для каждого пользователя:"
   ]
  },
  {
   "cell_type": "code",
   "execution_count": 20,
   "metadata": {},
   "outputs": [
    {
     "data": {
      "text/html": [
       "<div>\n",
       "<style scoped>\n",
       "    .dataframe tbody tr th:only-of-type {\n",
       "        vertical-align: middle;\n",
       "    }\n",
       "\n",
       "    .dataframe tbody tr th {\n",
       "        vertical-align: top;\n",
       "    }\n",
       "\n",
       "    .dataframe thead th {\n",
       "        text-align: right;\n",
       "    }\n",
       "</style>\n",
       "<table border=\"1\" class=\"dataframe\">\n",
       "  <thead>\n",
       "    <tr style=\"text-align: right;\">\n",
       "      <th></th>\n",
       "      <th></th>\n",
       "      <th>calls_duration</th>\n",
       "      <th>calls_amount</th>\n",
       "    </tr>\n",
       "    <tr>\n",
       "      <th>user_id</th>\n",
       "      <th>month</th>\n",
       "      <th></th>\n",
       "      <th></th>\n",
       "    </tr>\n",
       "  </thead>\n",
       "  <tbody>\n",
       "    <tr>\n",
       "      <td rowspan=\"5\" valign=\"top\">1000</td>\n",
       "      <td>5</td>\n",
       "      <td>159.0</td>\n",
       "      <td>22</td>\n",
       "    </tr>\n",
       "    <tr>\n",
       "      <td>6</td>\n",
       "      <td>172.0</td>\n",
       "      <td>43</td>\n",
       "    </tr>\n",
       "    <tr>\n",
       "      <td>7</td>\n",
       "      <td>340.0</td>\n",
       "      <td>47</td>\n",
       "    </tr>\n",
       "    <tr>\n",
       "      <td>8</td>\n",
       "      <td>408.0</td>\n",
       "      <td>52</td>\n",
       "    </tr>\n",
       "    <tr>\n",
       "      <td>9</td>\n",
       "      <td>466.0</td>\n",
       "      <td>58</td>\n",
       "    </tr>\n",
       "    <tr>\n",
       "      <td>...</td>\n",
       "      <td>...</td>\n",
       "      <td>...</td>\n",
       "      <td>...</td>\n",
       "    </tr>\n",
       "    <tr>\n",
       "      <td>1498</td>\n",
       "      <td>10</td>\n",
       "      <td>247.0</td>\n",
       "      <td>41</td>\n",
       "    </tr>\n",
       "    <tr>\n",
       "      <td rowspan=\"4\" valign=\"top\">1499</td>\n",
       "      <td>9</td>\n",
       "      <td>70.0</td>\n",
       "      <td>9</td>\n",
       "    </tr>\n",
       "    <tr>\n",
       "      <td>10</td>\n",
       "      <td>449.0</td>\n",
       "      <td>68</td>\n",
       "    </tr>\n",
       "    <tr>\n",
       "      <td>11</td>\n",
       "      <td>612.0</td>\n",
       "      <td>74</td>\n",
       "    </tr>\n",
       "    <tr>\n",
       "      <td>12</td>\n",
       "      <td>492.0</td>\n",
       "      <td>69</td>\n",
       "    </tr>\n",
       "  </tbody>\n",
       "</table>\n",
       "<p>3174 rows × 2 columns</p>\n",
       "</div>"
      ],
      "text/plain": [
       "               calls_duration  calls_amount\n",
       "user_id month                              \n",
       "1000    5               159.0            22\n",
       "        6               172.0            43\n",
       "        7               340.0            47\n",
       "        8               408.0            52\n",
       "        9               466.0            58\n",
       "...                       ...           ...\n",
       "1498    10              247.0            41\n",
       "1499    9                70.0             9\n",
       "        10              449.0            68\n",
       "        11              612.0            74\n",
       "        12              492.0            69\n",
       "\n",
       "[3174 rows x 2 columns]"
      ]
     },
     "execution_count": 20,
     "metadata": {},
     "output_type": "execute_result"
    }
   ],
   "source": [
    "calls_data_grouped = calls_data.pivot_table(\n",
    "    index=['user_id', 'month'], \n",
    "    values='duration',\n",
    "    aggfunc=['sum', 'count']\n",
    ")\n",
    "calls_data_grouped.reset_index()\n",
    "calls_data_grouped.columns = ['calls_duration', 'calls_amount']\n",
    "calls_data_grouped"
   ]
  },
  {
   "cell_type": "markdown",
   "metadata": {},
   "source": [
    "Сгруппируем данные об объемах использованного веб-трафика по месяцам для каждого пользователя:"
   ]
  },
  {
   "cell_type": "code",
   "execution_count": 21,
   "metadata": {},
   "outputs": [
    {
     "data": {
      "text/html": [
       "<div>\n",
       "<style scoped>\n",
       "    .dataframe tbody tr th:only-of-type {\n",
       "        vertical-align: middle;\n",
       "    }\n",
       "\n",
       "    .dataframe tbody tr th {\n",
       "        vertical-align: top;\n",
       "    }\n",
       "\n",
       "    .dataframe thead th {\n",
       "        text-align: right;\n",
       "    }\n",
       "</style>\n",
       "<table border=\"1\" class=\"dataframe\">\n",
       "  <thead>\n",
       "    <tr style=\"text-align: right;\">\n",
       "      <th></th>\n",
       "      <th></th>\n",
       "      <th>mb_used</th>\n",
       "    </tr>\n",
       "    <tr>\n",
       "      <th>user_id</th>\n",
       "      <th>month</th>\n",
       "      <th></th>\n",
       "    </tr>\n",
       "  </thead>\n",
       "  <tbody>\n",
       "    <tr>\n",
       "      <td rowspan=\"5\" valign=\"top\">1000</td>\n",
       "      <td>5</td>\n",
       "      <td>2252</td>\n",
       "    </tr>\n",
       "    <tr>\n",
       "      <td>6</td>\n",
       "      <td>23213</td>\n",
       "    </tr>\n",
       "    <tr>\n",
       "      <td>7</td>\n",
       "      <td>13988</td>\n",
       "    </tr>\n",
       "    <tr>\n",
       "      <td>8</td>\n",
       "      <td>14043</td>\n",
       "    </tr>\n",
       "    <tr>\n",
       "      <td>9</td>\n",
       "      <td>14556</td>\n",
       "    </tr>\n",
       "    <tr>\n",
       "      <td>...</td>\n",
       "      <td>...</td>\n",
       "      <td>...</td>\n",
       "    </tr>\n",
       "    <tr>\n",
       "      <td>1498</td>\n",
       "      <td>10</td>\n",
       "      <td>20555</td>\n",
       "    </tr>\n",
       "    <tr>\n",
       "      <td rowspan=\"4\" valign=\"top\">1499</td>\n",
       "      <td>9</td>\n",
       "      <td>1844</td>\n",
       "    </tr>\n",
       "    <tr>\n",
       "      <td>10</td>\n",
       "      <td>17766</td>\n",
       "    </tr>\n",
       "    <tr>\n",
       "      <td>11</td>\n",
       "      <td>17945</td>\n",
       "    </tr>\n",
       "    <tr>\n",
       "      <td>12</td>\n",
       "      <td>13037</td>\n",
       "    </tr>\n",
       "  </tbody>\n",
       "</table>\n",
       "<p>3203 rows × 1 columns</p>\n",
       "</div>"
      ],
      "text/plain": [
       "               mb_used\n",
       "user_id month         \n",
       "1000    5         2252\n",
       "        6        23213\n",
       "        7        13988\n",
       "        8        14043\n",
       "        9        14556\n",
       "...                ...\n",
       "1498    10       20555\n",
       "1499    9         1844\n",
       "        10       17766\n",
       "        11       17945\n",
       "        12       13037\n",
       "\n",
       "[3203 rows x 1 columns]"
      ]
     },
     "execution_count": 21,
     "metadata": {},
     "output_type": "execute_result"
    }
   ],
   "source": [
    "internet_data_grouped = internet_data.pivot_table(\n",
    "    index=['user_id', 'month'], \n",
    "    values='mb_used',\n",
    "    aggfunc=['sum']\n",
    ")\n",
    "internet_data_grouped.columns = ['mb_used']\n",
    "internet_data_grouped.reset_index()\n",
    "internet_data_grouped"
   ]
  },
  {
   "cell_type": "markdown",
   "metadata": {},
   "source": [
    "Согласно политике Мегалайна, для веб-трафика отдельные сессии не считаются, вместо этого общая сумма за месяц округляется в большую сторону. Переведём мб в гб, округляя в большую сторону:"
   ]
  },
  {
   "cell_type": "code",
   "execution_count": 22,
   "metadata": {},
   "outputs": [
    {
     "data": {
      "text/html": [
       "<div>\n",
       "<style scoped>\n",
       "    .dataframe tbody tr th:only-of-type {\n",
       "        vertical-align: middle;\n",
       "    }\n",
       "\n",
       "    .dataframe tbody tr th {\n",
       "        vertical-align: top;\n",
       "    }\n",
       "\n",
       "    .dataframe thead th {\n",
       "        text-align: right;\n",
       "    }\n",
       "</style>\n",
       "<table border=\"1\" class=\"dataframe\">\n",
       "  <thead>\n",
       "    <tr style=\"text-align: right;\">\n",
       "      <th></th>\n",
       "      <th></th>\n",
       "      <th>gb_used</th>\n",
       "    </tr>\n",
       "    <tr>\n",
       "      <th>user_id</th>\n",
       "      <th>month</th>\n",
       "      <th></th>\n",
       "    </tr>\n",
       "  </thead>\n",
       "  <tbody>\n",
       "    <tr>\n",
       "      <td rowspan=\"5\" valign=\"top\">1000</td>\n",
       "      <td>5</td>\n",
       "      <td>3</td>\n",
       "    </tr>\n",
       "    <tr>\n",
       "      <td>6</td>\n",
       "      <td>23</td>\n",
       "    </tr>\n",
       "    <tr>\n",
       "      <td>7</td>\n",
       "      <td>14</td>\n",
       "    </tr>\n",
       "    <tr>\n",
       "      <td>8</td>\n",
       "      <td>14</td>\n",
       "    </tr>\n",
       "    <tr>\n",
       "      <td>9</td>\n",
       "      <td>15</td>\n",
       "    </tr>\n",
       "    <tr>\n",
       "      <td>...</td>\n",
       "      <td>...</td>\n",
       "      <td>...</td>\n",
       "    </tr>\n",
       "    <tr>\n",
       "      <td>1498</td>\n",
       "      <td>10</td>\n",
       "      <td>21</td>\n",
       "    </tr>\n",
       "    <tr>\n",
       "      <td rowspan=\"4\" valign=\"top\">1499</td>\n",
       "      <td>9</td>\n",
       "      <td>2</td>\n",
       "    </tr>\n",
       "    <tr>\n",
       "      <td>10</td>\n",
       "      <td>18</td>\n",
       "    </tr>\n",
       "    <tr>\n",
       "      <td>11</td>\n",
       "      <td>18</td>\n",
       "    </tr>\n",
       "    <tr>\n",
       "      <td>12</td>\n",
       "      <td>13</td>\n",
       "    </tr>\n",
       "  </tbody>\n",
       "</table>\n",
       "<p>3203 rows × 1 columns</p>\n",
       "</div>"
      ],
      "text/plain": [
       "               gb_used\n",
       "user_id month         \n",
       "1000    5            3\n",
       "        6           23\n",
       "        7           14\n",
       "        8           14\n",
       "        9           15\n",
       "...                ...\n",
       "1498    10          21\n",
       "1499    9            2\n",
       "        10          18\n",
       "        11          18\n",
       "        12          13\n",
       "\n",
       "[3203 rows x 1 columns]"
      ]
     },
     "execution_count": 22,
     "metadata": {},
     "output_type": "execute_result"
    }
   ],
   "source": [
    "def mb_to_gb(mb):\n",
    "    '''Переводит мегабайты в гигабайты, округляя в большую сторону.'''\n",
    "    gb = ceil(mb / 1024)\n",
    "    return gb\n",
    "\n",
    "internet_data_grouped['mb_used'] = internet_data_grouped['mb_used'].apply(mb_to_gb)\n",
    "internet_data_grouped.columns = ['gb_used']\n",
    "internet_data_grouped"
   ]
  },
  {
   "cell_type": "markdown",
   "metadata": {},
   "source": [
    "Сгруппируем данные о сообщениях по месяцам для каждого пользователя:"
   ]
  },
  {
   "cell_type": "code",
   "execution_count": 23,
   "metadata": {},
   "outputs": [
    {
     "data": {
      "text/html": [
       "<div>\n",
       "<style scoped>\n",
       "    .dataframe tbody tr th:only-of-type {\n",
       "        vertical-align: middle;\n",
       "    }\n",
       "\n",
       "    .dataframe tbody tr th {\n",
       "        vertical-align: top;\n",
       "    }\n",
       "\n",
       "    .dataframe thead th {\n",
       "        text-align: right;\n",
       "    }\n",
       "</style>\n",
       "<table border=\"1\" class=\"dataframe\">\n",
       "  <thead>\n",
       "    <tr style=\"text-align: right;\">\n",
       "      <th></th>\n",
       "      <th></th>\n",
       "      <th>messages_amount</th>\n",
       "    </tr>\n",
       "    <tr>\n",
       "      <th>user_id</th>\n",
       "      <th>month</th>\n",
       "      <th></th>\n",
       "    </tr>\n",
       "  </thead>\n",
       "  <tbody>\n",
       "    <tr>\n",
       "      <td rowspan=\"5\" valign=\"top\">1000</td>\n",
       "      <td>5</td>\n",
       "      <td>22</td>\n",
       "    </tr>\n",
       "    <tr>\n",
       "      <td>6</td>\n",
       "      <td>60</td>\n",
       "    </tr>\n",
       "    <tr>\n",
       "      <td>7</td>\n",
       "      <td>75</td>\n",
       "    </tr>\n",
       "    <tr>\n",
       "      <td>8</td>\n",
       "      <td>81</td>\n",
       "    </tr>\n",
       "    <tr>\n",
       "      <td>9</td>\n",
       "      <td>57</td>\n",
       "    </tr>\n",
       "    <tr>\n",
       "      <td>...</td>\n",
       "      <td>...</td>\n",
       "      <td>...</td>\n",
       "    </tr>\n",
       "    <tr>\n",
       "      <td>1498</td>\n",
       "      <td>10</td>\n",
       "      <td>42</td>\n",
       "    </tr>\n",
       "    <tr>\n",
       "      <td rowspan=\"4\" valign=\"top\">1499</td>\n",
       "      <td>9</td>\n",
       "      <td>11</td>\n",
       "    </tr>\n",
       "    <tr>\n",
       "      <td>10</td>\n",
       "      <td>48</td>\n",
       "    </tr>\n",
       "    <tr>\n",
       "      <td>11</td>\n",
       "      <td>59</td>\n",
       "    </tr>\n",
       "    <tr>\n",
       "      <td>12</td>\n",
       "      <td>66</td>\n",
       "    </tr>\n",
       "  </tbody>\n",
       "</table>\n",
       "<p>2717 rows × 1 columns</p>\n",
       "</div>"
      ],
      "text/plain": [
       "               messages_amount\n",
       "user_id month                 \n",
       "1000    5                   22\n",
       "        6                   60\n",
       "        7                   75\n",
       "        8                   81\n",
       "        9                   57\n",
       "...                        ...\n",
       "1498    10                  42\n",
       "1499    9                   11\n",
       "        10                  48\n",
       "        11                  59\n",
       "        12                  66\n",
       "\n",
       "[2717 rows x 1 columns]"
      ]
     },
     "execution_count": 23,
     "metadata": {},
     "output_type": "execute_result"
    }
   ],
   "source": [
    "messages_data_grouped = messages_data.pivot_table(index=['user_id', 'month'], values='id', aggfunc='count')\n",
    "messages_data_grouped.reset_index()\n",
    "messages_data_grouped.columns=['messages_amount']\n",
    "messages_data_grouped"
   ]
  },
  {
   "cell_type": "markdown",
   "metadata": {},
   "source": [
    "Объединим полученные сводные таблицы:"
   ]
  },
  {
   "cell_type": "code",
   "execution_count": 24,
   "metadata": {},
   "outputs": [
    {
     "data": {
      "text/html": [
       "<div>\n",
       "<style scoped>\n",
       "    .dataframe tbody tr th:only-of-type {\n",
       "        vertical-align: middle;\n",
       "    }\n",
       "\n",
       "    .dataframe tbody tr th {\n",
       "        vertical-align: top;\n",
       "    }\n",
       "\n",
       "    .dataframe thead th {\n",
       "        text-align: right;\n",
       "    }\n",
       "</style>\n",
       "<table border=\"1\" class=\"dataframe\">\n",
       "  <thead>\n",
       "    <tr style=\"text-align: right;\">\n",
       "      <th></th>\n",
       "      <th>user_id</th>\n",
       "      <th>month</th>\n",
       "      <th>calls_amount</th>\n",
       "      <th>calls_duration</th>\n",
       "      <th>gb_used</th>\n",
       "      <th>messages_amount</th>\n",
       "    </tr>\n",
       "  </thead>\n",
       "  <tbody>\n",
       "    <tr>\n",
       "      <td>0</td>\n",
       "      <td>1000</td>\n",
       "      <td>5</td>\n",
       "      <td>22.0</td>\n",
       "      <td>159.0</td>\n",
       "      <td>3.0</td>\n",
       "      <td>22.0</td>\n",
       "    </tr>\n",
       "    <tr>\n",
       "      <td>1</td>\n",
       "      <td>1000</td>\n",
       "      <td>6</td>\n",
       "      <td>43.0</td>\n",
       "      <td>172.0</td>\n",
       "      <td>23.0</td>\n",
       "      <td>60.0</td>\n",
       "    </tr>\n",
       "    <tr>\n",
       "      <td>2</td>\n",
       "      <td>1000</td>\n",
       "      <td>7</td>\n",
       "      <td>47.0</td>\n",
       "      <td>340.0</td>\n",
       "      <td>14.0</td>\n",
       "      <td>75.0</td>\n",
       "    </tr>\n",
       "    <tr>\n",
       "      <td>3</td>\n",
       "      <td>1000</td>\n",
       "      <td>8</td>\n",
       "      <td>52.0</td>\n",
       "      <td>408.0</td>\n",
       "      <td>14.0</td>\n",
       "      <td>81.0</td>\n",
       "    </tr>\n",
       "    <tr>\n",
       "      <td>4</td>\n",
       "      <td>1000</td>\n",
       "      <td>9</td>\n",
       "      <td>58.0</td>\n",
       "      <td>466.0</td>\n",
       "      <td>15.0</td>\n",
       "      <td>57.0</td>\n",
       "    </tr>\n",
       "    <tr>\n",
       "      <td>...</td>\n",
       "      <td>...</td>\n",
       "      <td>...</td>\n",
       "      <td>...</td>\n",
       "      <td>...</td>\n",
       "      <td>...</td>\n",
       "      <td>...</td>\n",
       "    </tr>\n",
       "    <tr>\n",
       "      <td>3209</td>\n",
       "      <td>1498</td>\n",
       "      <td>10</td>\n",
       "      <td>41.0</td>\n",
       "      <td>247.0</td>\n",
       "      <td>21.0</td>\n",
       "      <td>42.0</td>\n",
       "    </tr>\n",
       "    <tr>\n",
       "      <td>3210</td>\n",
       "      <td>1499</td>\n",
       "      <td>9</td>\n",
       "      <td>9.0</td>\n",
       "      <td>70.0</td>\n",
       "      <td>2.0</td>\n",
       "      <td>11.0</td>\n",
       "    </tr>\n",
       "    <tr>\n",
       "      <td>3211</td>\n",
       "      <td>1499</td>\n",
       "      <td>10</td>\n",
       "      <td>68.0</td>\n",
       "      <td>449.0</td>\n",
       "      <td>18.0</td>\n",
       "      <td>48.0</td>\n",
       "    </tr>\n",
       "    <tr>\n",
       "      <td>3212</td>\n",
       "      <td>1499</td>\n",
       "      <td>11</td>\n",
       "      <td>74.0</td>\n",
       "      <td>612.0</td>\n",
       "      <td>18.0</td>\n",
       "      <td>59.0</td>\n",
       "    </tr>\n",
       "    <tr>\n",
       "      <td>3213</td>\n",
       "      <td>1499</td>\n",
       "      <td>12</td>\n",
       "      <td>69.0</td>\n",
       "      <td>492.0</td>\n",
       "      <td>13.0</td>\n",
       "      <td>66.0</td>\n",
       "    </tr>\n",
       "  </tbody>\n",
       "</table>\n",
       "<p>3214 rows × 6 columns</p>\n",
       "</div>"
      ],
      "text/plain": [
       "      user_id  month  calls_amount  calls_duration  gb_used  messages_amount\n",
       "0        1000      5          22.0           159.0      3.0             22.0\n",
       "1        1000      6          43.0           172.0     23.0             60.0\n",
       "2        1000      7          47.0           340.0     14.0             75.0\n",
       "3        1000      8          52.0           408.0     14.0             81.0\n",
       "4        1000      9          58.0           466.0     15.0             57.0\n",
       "...       ...    ...           ...             ...      ...              ...\n",
       "3209     1498     10          41.0           247.0     21.0             42.0\n",
       "3210     1499      9           9.0            70.0      2.0             11.0\n",
       "3211     1499     10          68.0           449.0     18.0             48.0\n",
       "3212     1499     11          74.0           612.0     18.0             59.0\n",
       "3213     1499     12          69.0           492.0     13.0             66.0\n",
       "\n",
       "[3214 rows x 6 columns]"
      ]
     },
     "execution_count": 24,
     "metadata": {},
     "output_type": "execute_result"
    }
   ],
   "source": [
    "calls_internet_merged = calls_data_grouped.merge(internet_data_grouped, on=['user_id', 'month'], how='outer')\n",
    "telecom_data = calls_internet_merged.merge(messages_data_grouped, on=['user_id', 'month'], how='outer')\n",
    "telecom_data_pvt = telecom_data.pivot_table(index=['user_id', 'month'])\n",
    "telecom_data_pvt=telecom_data_pvt.reset_index()\n",
    "telecom_data_pvt"
   ]
  },
  {
   "cell_type": "markdown",
   "metadata": {},
   "source": [
    "Добавим в полученную таблицу информацию о городе и тарифе пользователя:"
   ]
  },
  {
   "cell_type": "code",
   "execution_count": 25,
   "metadata": {
    "scrolled": true
   },
   "outputs": [
    {
     "data": {
      "text/html": [
       "<div>\n",
       "<style scoped>\n",
       "    .dataframe tbody tr th:only-of-type {\n",
       "        vertical-align: middle;\n",
       "    }\n",
       "\n",
       "    .dataframe tbody tr th {\n",
       "        vertical-align: top;\n",
       "    }\n",
       "\n",
       "    .dataframe thead th {\n",
       "        text-align: right;\n",
       "    }\n",
       "</style>\n",
       "<table border=\"1\" class=\"dataframe\">\n",
       "  <thead>\n",
       "    <tr style=\"text-align: right;\">\n",
       "      <th></th>\n",
       "      <th>user_id</th>\n",
       "      <th>month</th>\n",
       "      <th>calls_amount</th>\n",
       "      <th>calls_duration</th>\n",
       "      <th>gb_used</th>\n",
       "      <th>messages_amount</th>\n",
       "      <th>city</th>\n",
       "      <th>tariff</th>\n",
       "    </tr>\n",
       "  </thead>\n",
       "  <tbody>\n",
       "    <tr>\n",
       "      <td>0</td>\n",
       "      <td>1000</td>\n",
       "      <td>5.0</td>\n",
       "      <td>22.0</td>\n",
       "      <td>159.0</td>\n",
       "      <td>3.0</td>\n",
       "      <td>22.0</td>\n",
       "      <td>Краснодар</td>\n",
       "      <td>ultra</td>\n",
       "    </tr>\n",
       "    <tr>\n",
       "      <td>1</td>\n",
       "      <td>1000</td>\n",
       "      <td>6.0</td>\n",
       "      <td>43.0</td>\n",
       "      <td>172.0</td>\n",
       "      <td>23.0</td>\n",
       "      <td>60.0</td>\n",
       "      <td>Краснодар</td>\n",
       "      <td>ultra</td>\n",
       "    </tr>\n",
       "    <tr>\n",
       "      <td>2</td>\n",
       "      <td>1000</td>\n",
       "      <td>7.0</td>\n",
       "      <td>47.0</td>\n",
       "      <td>340.0</td>\n",
       "      <td>14.0</td>\n",
       "      <td>75.0</td>\n",
       "      <td>Краснодар</td>\n",
       "      <td>ultra</td>\n",
       "    </tr>\n",
       "    <tr>\n",
       "      <td>3</td>\n",
       "      <td>1000</td>\n",
       "      <td>8.0</td>\n",
       "      <td>52.0</td>\n",
       "      <td>408.0</td>\n",
       "      <td>14.0</td>\n",
       "      <td>81.0</td>\n",
       "      <td>Краснодар</td>\n",
       "      <td>ultra</td>\n",
       "    </tr>\n",
       "    <tr>\n",
       "      <td>4</td>\n",
       "      <td>1000</td>\n",
       "      <td>9.0</td>\n",
       "      <td>58.0</td>\n",
       "      <td>466.0</td>\n",
       "      <td>15.0</td>\n",
       "      <td>57.0</td>\n",
       "      <td>Краснодар</td>\n",
       "      <td>ultra</td>\n",
       "    </tr>\n",
       "    <tr>\n",
       "      <td>...</td>\n",
       "      <td>...</td>\n",
       "      <td>...</td>\n",
       "      <td>...</td>\n",
       "      <td>...</td>\n",
       "      <td>...</td>\n",
       "      <td>...</td>\n",
       "      <td>...</td>\n",
       "      <td>...</td>\n",
       "    </tr>\n",
       "    <tr>\n",
       "      <td>3211</td>\n",
       "      <td>1499</td>\n",
       "      <td>10.0</td>\n",
       "      <td>68.0</td>\n",
       "      <td>449.0</td>\n",
       "      <td>18.0</td>\n",
       "      <td>48.0</td>\n",
       "      <td>Пермь</td>\n",
       "      <td>smart</td>\n",
       "    </tr>\n",
       "    <tr>\n",
       "      <td>3212</td>\n",
       "      <td>1499</td>\n",
       "      <td>11.0</td>\n",
       "      <td>74.0</td>\n",
       "      <td>612.0</td>\n",
       "      <td>18.0</td>\n",
       "      <td>59.0</td>\n",
       "      <td>Пермь</td>\n",
       "      <td>smart</td>\n",
       "    </tr>\n",
       "    <tr>\n",
       "      <td>3213</td>\n",
       "      <td>1499</td>\n",
       "      <td>12.0</td>\n",
       "      <td>69.0</td>\n",
       "      <td>492.0</td>\n",
       "      <td>13.0</td>\n",
       "      <td>66.0</td>\n",
       "      <td>Пермь</td>\n",
       "      <td>smart</td>\n",
       "    </tr>\n",
       "    <tr>\n",
       "      <td>3214</td>\n",
       "      <td>1128</td>\n",
       "      <td>NaN</td>\n",
       "      <td>NaN</td>\n",
       "      <td>NaN</td>\n",
       "      <td>NaN</td>\n",
       "      <td>NaN</td>\n",
       "      <td>Волжский</td>\n",
       "      <td>ultra</td>\n",
       "    </tr>\n",
       "    <tr>\n",
       "      <td>3215</td>\n",
       "      <td>1371</td>\n",
       "      <td>NaN</td>\n",
       "      <td>NaN</td>\n",
       "      <td>NaN</td>\n",
       "      <td>NaN</td>\n",
       "      <td>NaN</td>\n",
       "      <td>Омск</td>\n",
       "      <td>smart</td>\n",
       "    </tr>\n",
       "  </tbody>\n",
       "</table>\n",
       "<p>3216 rows × 8 columns</p>\n",
       "</div>"
      ],
      "text/plain": [
       "      user_id  month  calls_amount  calls_duration  gb_used  messages_amount  \\\n",
       "0        1000    5.0          22.0           159.0      3.0             22.0   \n",
       "1        1000    6.0          43.0           172.0     23.0             60.0   \n",
       "2        1000    7.0          47.0           340.0     14.0             75.0   \n",
       "3        1000    8.0          52.0           408.0     14.0             81.0   \n",
       "4        1000    9.0          58.0           466.0     15.0             57.0   \n",
       "...       ...    ...           ...             ...      ...              ...   \n",
       "3211     1499   10.0          68.0           449.0     18.0             48.0   \n",
       "3212     1499   11.0          74.0           612.0     18.0             59.0   \n",
       "3213     1499   12.0          69.0           492.0     13.0             66.0   \n",
       "3214     1128    NaN           NaN             NaN      NaN              NaN   \n",
       "3215     1371    NaN           NaN             NaN      NaN              NaN   \n",
       "\n",
       "           city tariff  \n",
       "0     Краснодар  ultra  \n",
       "1     Краснодар  ultra  \n",
       "2     Краснодар  ultra  \n",
       "3     Краснодар  ultra  \n",
       "4     Краснодар  ultra  \n",
       "...         ...    ...  \n",
       "3211      Пермь  smart  \n",
       "3212      Пермь  smart  \n",
       "3213      Пермь  smart  \n",
       "3214   Волжский  ultra  \n",
       "3215       Омск  smart  \n",
       "\n",
       "[3216 rows x 8 columns]"
      ]
     },
     "execution_count": 25,
     "metadata": {},
     "output_type": "execute_result"
    }
   ],
   "source": [
    "total_data = telecom_data_pvt.merge(users_data[['user_id','city', 'tariff']], on='user_id', how='outer').reset_index(drop=True)\n",
    "total_data"
   ]
  },
  {
   "cell_type": "markdown",
   "metadata": {},
   "source": [
    "В обзоре данных мы обнаружили, что абоненты используют не все сервисы Мегалайн, из-за этого в таблице `total_data` возникли пустые значения. Так же обнаружены два пользователя, которые не использовали ни один из сервисов. Выведем информацию о них:"
   ]
  },
  {
   "cell_type": "code",
   "execution_count": 26,
   "metadata": {},
   "outputs": [
    {
     "data": {
      "text/html": [
       "<div>\n",
       "<style scoped>\n",
       "    .dataframe tbody tr th:only-of-type {\n",
       "        vertical-align: middle;\n",
       "    }\n",
       "\n",
       "    .dataframe tbody tr th {\n",
       "        vertical-align: top;\n",
       "    }\n",
       "\n",
       "    .dataframe thead th {\n",
       "        text-align: right;\n",
       "    }\n",
       "</style>\n",
       "<table border=\"1\" class=\"dataframe\">\n",
       "  <thead>\n",
       "    <tr style=\"text-align: right;\">\n",
       "      <th></th>\n",
       "      <th>user_id</th>\n",
       "      <th>age</th>\n",
       "      <th>churn_date</th>\n",
       "      <th>city</th>\n",
       "      <th>first_name</th>\n",
       "      <th>last_name</th>\n",
       "      <th>reg_date</th>\n",
       "      <th>tariff</th>\n",
       "    </tr>\n",
       "  </thead>\n",
       "  <tbody>\n",
       "    <tr>\n",
       "      <td>128</td>\n",
       "      <td>1128</td>\n",
       "      <td>51</td>\n",
       "      <td>2018-12-23</td>\n",
       "      <td>Волжский</td>\n",
       "      <td>Ксения</td>\n",
       "      <td>Агаева</td>\n",
       "      <td>2018-12-15</td>\n",
       "      <td>ultra</td>\n",
       "    </tr>\n",
       "    <tr>\n",
       "      <td>371</td>\n",
       "      <td>1371</td>\n",
       "      <td>50</td>\n",
       "      <td>2018-12-30</td>\n",
       "      <td>Омск</td>\n",
       "      <td>Ириней</td>\n",
       "      <td>Трофимов</td>\n",
       "      <td>2018-12-25</td>\n",
       "      <td>smart</td>\n",
       "    </tr>\n",
       "  </tbody>\n",
       "</table>\n",
       "</div>"
      ],
      "text/plain": [
       "     user_id  age  churn_date      city first_name last_name   reg_date tariff\n",
       "128     1128   51  2018-12-23  Волжский     Ксения    Агаева 2018-12-15  ultra\n",
       "371     1371   50  2018-12-30      Омск     Ириней  Трофимов 2018-12-25  smart"
      ]
     },
     "execution_count": 26,
     "metadata": {},
     "output_type": "execute_result"
    }
   ],
   "source": [
    "users_data.query('user_id in [1128, 1371]')"
   ]
  },
  {
   "cell_type": "markdown",
   "metadata": {},
   "source": [
    "Эти абоненты пользовались тарифами непродолжительное время. Исключим их из сводной таблицы и исследования:"
   ]
  },
  {
   "cell_type": "code",
   "execution_count": 27,
   "metadata": {
    "scrolled": true
   },
   "outputs": [],
   "source": [
    "total_data = total_data.loc[:3213]"
   ]
  },
  {
   "cell_type": "markdown",
   "metadata": {},
   "source": [
    "Так как пустые значения возникают в том случае, если абоненты не использовали сервисы Мегалайн (звонки, сообщения или интернет-доступ), то следовательно объем потраченных ресурсов по этим сервисам равен нулю. Основываясь на этом, заменим пустые значения на 0:"
   ]
  },
  {
   "cell_type": "code",
   "execution_count": 28,
   "metadata": {
    "scrolled": true
   },
   "outputs": [
    {
     "data": {
      "text/html": [
       "<div>\n",
       "<style scoped>\n",
       "    .dataframe tbody tr th:only-of-type {\n",
       "        vertical-align: middle;\n",
       "    }\n",
       "\n",
       "    .dataframe tbody tr th {\n",
       "        vertical-align: top;\n",
       "    }\n",
       "\n",
       "    .dataframe thead th {\n",
       "        text-align: right;\n",
       "    }\n",
       "</style>\n",
       "<table border=\"1\" class=\"dataframe\">\n",
       "  <thead>\n",
       "    <tr style=\"text-align: right;\">\n",
       "      <th></th>\n",
       "      <th>user_id</th>\n",
       "      <th>month</th>\n",
       "      <th>calls_amount</th>\n",
       "      <th>calls_duration</th>\n",
       "      <th>gb_used</th>\n",
       "      <th>messages_amount</th>\n",
       "      <th>city</th>\n",
       "      <th>tariff</th>\n",
       "    </tr>\n",
       "  </thead>\n",
       "  <tbody>\n",
       "    <tr>\n",
       "      <td>0</td>\n",
       "      <td>1000</td>\n",
       "      <td>5.0</td>\n",
       "      <td>22.0</td>\n",
       "      <td>159.0</td>\n",
       "      <td>3.0</td>\n",
       "      <td>22.0</td>\n",
       "      <td>Краснодар</td>\n",
       "      <td>ultra</td>\n",
       "    </tr>\n",
       "    <tr>\n",
       "      <td>1</td>\n",
       "      <td>1000</td>\n",
       "      <td>6.0</td>\n",
       "      <td>43.0</td>\n",
       "      <td>172.0</td>\n",
       "      <td>23.0</td>\n",
       "      <td>60.0</td>\n",
       "      <td>Краснодар</td>\n",
       "      <td>ultra</td>\n",
       "    </tr>\n",
       "    <tr>\n",
       "      <td>2</td>\n",
       "      <td>1000</td>\n",
       "      <td>7.0</td>\n",
       "      <td>47.0</td>\n",
       "      <td>340.0</td>\n",
       "      <td>14.0</td>\n",
       "      <td>75.0</td>\n",
       "      <td>Краснодар</td>\n",
       "      <td>ultra</td>\n",
       "    </tr>\n",
       "    <tr>\n",
       "      <td>3</td>\n",
       "      <td>1000</td>\n",
       "      <td>8.0</td>\n",
       "      <td>52.0</td>\n",
       "      <td>408.0</td>\n",
       "      <td>14.0</td>\n",
       "      <td>81.0</td>\n",
       "      <td>Краснодар</td>\n",
       "      <td>ultra</td>\n",
       "    </tr>\n",
       "    <tr>\n",
       "      <td>4</td>\n",
       "      <td>1000</td>\n",
       "      <td>9.0</td>\n",
       "      <td>58.0</td>\n",
       "      <td>466.0</td>\n",
       "      <td>15.0</td>\n",
       "      <td>57.0</td>\n",
       "      <td>Краснодар</td>\n",
       "      <td>ultra</td>\n",
       "    </tr>\n",
       "    <tr>\n",
       "      <td>...</td>\n",
       "      <td>...</td>\n",
       "      <td>...</td>\n",
       "      <td>...</td>\n",
       "      <td>...</td>\n",
       "      <td>...</td>\n",
       "      <td>...</td>\n",
       "      <td>...</td>\n",
       "      <td>...</td>\n",
       "    </tr>\n",
       "    <tr>\n",
       "      <td>3209</td>\n",
       "      <td>1498</td>\n",
       "      <td>10.0</td>\n",
       "      <td>41.0</td>\n",
       "      <td>247.0</td>\n",
       "      <td>21.0</td>\n",
       "      <td>42.0</td>\n",
       "      <td>Владикавказ</td>\n",
       "      <td>smart</td>\n",
       "    </tr>\n",
       "    <tr>\n",
       "      <td>3210</td>\n",
       "      <td>1499</td>\n",
       "      <td>9.0</td>\n",
       "      <td>9.0</td>\n",
       "      <td>70.0</td>\n",
       "      <td>2.0</td>\n",
       "      <td>11.0</td>\n",
       "      <td>Пермь</td>\n",
       "      <td>smart</td>\n",
       "    </tr>\n",
       "    <tr>\n",
       "      <td>3211</td>\n",
       "      <td>1499</td>\n",
       "      <td>10.0</td>\n",
       "      <td>68.0</td>\n",
       "      <td>449.0</td>\n",
       "      <td>18.0</td>\n",
       "      <td>48.0</td>\n",
       "      <td>Пермь</td>\n",
       "      <td>smart</td>\n",
       "    </tr>\n",
       "    <tr>\n",
       "      <td>3212</td>\n",
       "      <td>1499</td>\n",
       "      <td>11.0</td>\n",
       "      <td>74.0</td>\n",
       "      <td>612.0</td>\n",
       "      <td>18.0</td>\n",
       "      <td>59.0</td>\n",
       "      <td>Пермь</td>\n",
       "      <td>smart</td>\n",
       "    </tr>\n",
       "    <tr>\n",
       "      <td>3213</td>\n",
       "      <td>1499</td>\n",
       "      <td>12.0</td>\n",
       "      <td>69.0</td>\n",
       "      <td>492.0</td>\n",
       "      <td>13.0</td>\n",
       "      <td>66.0</td>\n",
       "      <td>Пермь</td>\n",
       "      <td>smart</td>\n",
       "    </tr>\n",
       "  </tbody>\n",
       "</table>\n",
       "<p>3214 rows × 8 columns</p>\n",
       "</div>"
      ],
      "text/plain": [
       "      user_id  month  calls_amount  calls_duration  gb_used  messages_amount  \\\n",
       "0        1000    5.0          22.0           159.0      3.0             22.0   \n",
       "1        1000    6.0          43.0           172.0     23.0             60.0   \n",
       "2        1000    7.0          47.0           340.0     14.0             75.0   \n",
       "3        1000    8.0          52.0           408.0     14.0             81.0   \n",
       "4        1000    9.0          58.0           466.0     15.0             57.0   \n",
       "...       ...    ...           ...             ...      ...              ...   \n",
       "3209     1498   10.0          41.0           247.0     21.0             42.0   \n",
       "3210     1499    9.0           9.0            70.0      2.0             11.0   \n",
       "3211     1499   10.0          68.0           449.0     18.0             48.0   \n",
       "3212     1499   11.0          74.0           612.0     18.0             59.0   \n",
       "3213     1499   12.0          69.0           492.0     13.0             66.0   \n",
       "\n",
       "             city tariff  \n",
       "0       Краснодар  ultra  \n",
       "1       Краснодар  ultra  \n",
       "2       Краснодар  ultra  \n",
       "3       Краснодар  ultra  \n",
       "4       Краснодар  ultra  \n",
       "...           ...    ...  \n",
       "3209  Владикавказ  smart  \n",
       "3210        Пермь  smart  \n",
       "3211        Пермь  smart  \n",
       "3212        Пермь  smart  \n",
       "3213        Пермь  smart  \n",
       "\n",
       "[3214 rows x 8 columns]"
      ]
     },
     "execution_count": 28,
     "metadata": {},
     "output_type": "execute_result"
    }
   ],
   "source": [
    "total_data = total_data.fillna(0)\n",
    "total_data.reset_index(drop=True)"
   ]
  },
  {
   "cell_type": "markdown",
   "metadata": {},
   "source": [
    "Посчитаем помесячную выручку с каждого пользователя:"
   ]
  },
  {
   "cell_type": "code",
   "execution_count": 29,
   "metadata": {
    "scrolled": true
   },
   "outputs": [
    {
     "data": {
      "text/html": [
       "<div>\n",
       "<style scoped>\n",
       "    .dataframe tbody tr th:only-of-type {\n",
       "        vertical-align: middle;\n",
       "    }\n",
       "\n",
       "    .dataframe tbody tr th {\n",
       "        vertical-align: top;\n",
       "    }\n",
       "\n",
       "    .dataframe thead th {\n",
       "        text-align: right;\n",
       "    }\n",
       "</style>\n",
       "<table border=\"1\" class=\"dataframe\">\n",
       "  <thead>\n",
       "    <tr style=\"text-align: right;\">\n",
       "      <th></th>\n",
       "      <th>user_id</th>\n",
       "      <th>month</th>\n",
       "      <th>calls_amount</th>\n",
       "      <th>calls_duration</th>\n",
       "      <th>gb_used</th>\n",
       "      <th>messages_amount</th>\n",
       "      <th>city</th>\n",
       "      <th>tariff</th>\n",
       "      <th>calls_overrun</th>\n",
       "      <th>gb_overrun</th>\n",
       "      <th>messages_overrun</th>\n",
       "      <th>cost</th>\n",
       "    </tr>\n",
       "  </thead>\n",
       "  <tbody>\n",
       "    <tr>\n",
       "      <td>0</td>\n",
       "      <td>1000</td>\n",
       "      <td>5.0</td>\n",
       "      <td>22.0</td>\n",
       "      <td>159.0</td>\n",
       "      <td>3.0</td>\n",
       "      <td>22.0</td>\n",
       "      <td>Краснодар</td>\n",
       "      <td>ultra</td>\n",
       "      <td>0.0</td>\n",
       "      <td>0.0</td>\n",
       "      <td>0.0</td>\n",
       "      <td>1950.0</td>\n",
       "    </tr>\n",
       "    <tr>\n",
       "      <td>1</td>\n",
       "      <td>1000</td>\n",
       "      <td>6.0</td>\n",
       "      <td>43.0</td>\n",
       "      <td>172.0</td>\n",
       "      <td>23.0</td>\n",
       "      <td>60.0</td>\n",
       "      <td>Краснодар</td>\n",
       "      <td>ultra</td>\n",
       "      <td>0.0</td>\n",
       "      <td>0.0</td>\n",
       "      <td>0.0</td>\n",
       "      <td>1950.0</td>\n",
       "    </tr>\n",
       "    <tr>\n",
       "      <td>2</td>\n",
       "      <td>1000</td>\n",
       "      <td>7.0</td>\n",
       "      <td>47.0</td>\n",
       "      <td>340.0</td>\n",
       "      <td>14.0</td>\n",
       "      <td>75.0</td>\n",
       "      <td>Краснодар</td>\n",
       "      <td>ultra</td>\n",
       "      <td>0.0</td>\n",
       "      <td>0.0</td>\n",
       "      <td>0.0</td>\n",
       "      <td>1950.0</td>\n",
       "    </tr>\n",
       "    <tr>\n",
       "      <td>3</td>\n",
       "      <td>1000</td>\n",
       "      <td>8.0</td>\n",
       "      <td>52.0</td>\n",
       "      <td>408.0</td>\n",
       "      <td>14.0</td>\n",
       "      <td>81.0</td>\n",
       "      <td>Краснодар</td>\n",
       "      <td>ultra</td>\n",
       "      <td>0.0</td>\n",
       "      <td>0.0</td>\n",
       "      <td>0.0</td>\n",
       "      <td>1950.0</td>\n",
       "    </tr>\n",
       "    <tr>\n",
       "      <td>4</td>\n",
       "      <td>1000</td>\n",
       "      <td>9.0</td>\n",
       "      <td>58.0</td>\n",
       "      <td>466.0</td>\n",
       "      <td>15.0</td>\n",
       "      <td>57.0</td>\n",
       "      <td>Краснодар</td>\n",
       "      <td>ultra</td>\n",
       "      <td>0.0</td>\n",
       "      <td>0.0</td>\n",
       "      <td>0.0</td>\n",
       "      <td>1950.0</td>\n",
       "    </tr>\n",
       "    <tr>\n",
       "      <td>...</td>\n",
       "      <td>...</td>\n",
       "      <td>...</td>\n",
       "      <td>...</td>\n",
       "      <td>...</td>\n",
       "      <td>...</td>\n",
       "      <td>...</td>\n",
       "      <td>...</td>\n",
       "      <td>...</td>\n",
       "      <td>...</td>\n",
       "      <td>...</td>\n",
       "      <td>...</td>\n",
       "      <td>...</td>\n",
       "    </tr>\n",
       "    <tr>\n",
       "      <td>3209</td>\n",
       "      <td>1498</td>\n",
       "      <td>10.0</td>\n",
       "      <td>41.0</td>\n",
       "      <td>247.0</td>\n",
       "      <td>21.0</td>\n",
       "      <td>42.0</td>\n",
       "      <td>Владикавказ</td>\n",
       "      <td>smart</td>\n",
       "      <td>0.0</td>\n",
       "      <td>6.0</td>\n",
       "      <td>0.0</td>\n",
       "      <td>1750.0</td>\n",
       "    </tr>\n",
       "    <tr>\n",
       "      <td>3210</td>\n",
       "      <td>1499</td>\n",
       "      <td>9.0</td>\n",
       "      <td>9.0</td>\n",
       "      <td>70.0</td>\n",
       "      <td>2.0</td>\n",
       "      <td>11.0</td>\n",
       "      <td>Пермь</td>\n",
       "      <td>smart</td>\n",
       "      <td>0.0</td>\n",
       "      <td>0.0</td>\n",
       "      <td>0.0</td>\n",
       "      <td>550.0</td>\n",
       "    </tr>\n",
       "    <tr>\n",
       "      <td>3211</td>\n",
       "      <td>1499</td>\n",
       "      <td>10.0</td>\n",
       "      <td>68.0</td>\n",
       "      <td>449.0</td>\n",
       "      <td>18.0</td>\n",
       "      <td>48.0</td>\n",
       "      <td>Пермь</td>\n",
       "      <td>smart</td>\n",
       "      <td>0.0</td>\n",
       "      <td>3.0</td>\n",
       "      <td>0.0</td>\n",
       "      <td>1150.0</td>\n",
       "    </tr>\n",
       "    <tr>\n",
       "      <td>3212</td>\n",
       "      <td>1499</td>\n",
       "      <td>11.0</td>\n",
       "      <td>74.0</td>\n",
       "      <td>612.0</td>\n",
       "      <td>18.0</td>\n",
       "      <td>59.0</td>\n",
       "      <td>Пермь</td>\n",
       "      <td>smart</td>\n",
       "      <td>112.0</td>\n",
       "      <td>3.0</td>\n",
       "      <td>9.0</td>\n",
       "      <td>1513.0</td>\n",
       "    </tr>\n",
       "    <tr>\n",
       "      <td>3213</td>\n",
       "      <td>1499</td>\n",
       "      <td>12.0</td>\n",
       "      <td>69.0</td>\n",
       "      <td>492.0</td>\n",
       "      <td>13.0</td>\n",
       "      <td>66.0</td>\n",
       "      <td>Пермь</td>\n",
       "      <td>smart</td>\n",
       "      <td>0.0</td>\n",
       "      <td>0.0</td>\n",
       "      <td>16.0</td>\n",
       "      <td>598.0</td>\n",
       "    </tr>\n",
       "  </tbody>\n",
       "</table>\n",
       "<p>3214 rows × 12 columns</p>\n",
       "</div>"
      ],
      "text/plain": [
       "      user_id  month  calls_amount  calls_duration  gb_used  messages_amount  \\\n",
       "0        1000    5.0          22.0           159.0      3.0             22.0   \n",
       "1        1000    6.0          43.0           172.0     23.0             60.0   \n",
       "2        1000    7.0          47.0           340.0     14.0             75.0   \n",
       "3        1000    8.0          52.0           408.0     14.0             81.0   \n",
       "4        1000    9.0          58.0           466.0     15.0             57.0   \n",
       "...       ...    ...           ...             ...      ...              ...   \n",
       "3209     1498   10.0          41.0           247.0     21.0             42.0   \n",
       "3210     1499    9.0           9.0            70.0      2.0             11.0   \n",
       "3211     1499   10.0          68.0           449.0     18.0             48.0   \n",
       "3212     1499   11.0          74.0           612.0     18.0             59.0   \n",
       "3213     1499   12.0          69.0           492.0     13.0             66.0   \n",
       "\n",
       "             city tariff  calls_overrun  gb_overrun  messages_overrun    cost  \n",
       "0       Краснодар  ultra            0.0         0.0               0.0  1950.0  \n",
       "1       Краснодар  ultra            0.0         0.0               0.0  1950.0  \n",
       "2       Краснодар  ultra            0.0         0.0               0.0  1950.0  \n",
       "3       Краснодар  ultra            0.0         0.0               0.0  1950.0  \n",
       "4       Краснодар  ultra            0.0         0.0               0.0  1950.0  \n",
       "...           ...    ...            ...         ...               ...     ...  \n",
       "3209  Владикавказ  smart            0.0         6.0               0.0  1750.0  \n",
       "3210        Пермь  smart            0.0         0.0               0.0   550.0  \n",
       "3211        Пермь  smart            0.0         3.0               0.0  1150.0  \n",
       "3212        Пермь  smart          112.0         3.0               9.0  1513.0  \n",
       "3213        Пермь  smart            0.0         0.0              16.0   598.0  \n",
       "\n",
       "[3214 rows x 12 columns]"
      ]
     },
     "execution_count": 29,
     "metadata": {},
     "output_type": "execute_result"
    }
   ],
   "source": [
    "def minus_to_zero(num):\n",
    "    '''Принимает и возвращает число, если число отрицательное - возвращает 0.'''\n",
    "    if num < 0:\n",
    "        num = 0\n",
    "    return num\n",
    "\n",
    "def margin(row):\n",
    "    '''Возвращает выручку и превышения лимитов пакета, согласно тарифу.'''\n",
    "    tariff = row['tariff']\n",
    "    i = int(list(tariffs_data.query('tariff_name == @tariff').index)[0])\n",
    "    tariff_row = tariffs_data.loc[i]\n",
    "    row['calls_overrun'] = minus_to_zero(row['calls_duration'] - tariff_row['minutes_included'])\n",
    "    row['gb_overrun'] = minus_to_zero(row['gb_used'] - tariff_row['mb_per_month_included']/1024)\n",
    "    row['messages_overrun'] = minus_to_zero(row['messages_amount'] - tariff_row['messages_included'])\n",
    "    row['cost'] = (tariff_row['rub_monthly_fee'] \n",
    "            + row['calls_overrun'] * tariff_row['rub_per_minute'] \n",
    "            + row['gb_overrun'] * tariff_row['rub_per_gb'] \n",
    "            + row['messages_overrun'] * tariff_row['rub_per_message'])    \n",
    "    return row\n",
    "\n",
    "total_data = total_data.apply(margin, axis=1)\n",
    "total_data"
   ]
  },
  {
   "cell_type": "markdown",
   "metadata": {},
   "source": [
    "Оптимизируем типы данных в сводной таблице:"
   ]
  },
  {
   "cell_type": "code",
   "execution_count": 30,
   "metadata": {},
   "outputs": [
    {
     "name": "stdout",
     "output_type": "stream",
     "text": [
      "Объем памяти сводной таблицы сокращен до 42.7%\n"
     ]
    }
   ],
   "source": [
    "memory = total_data.memory_usage().sum()\n",
    "total_data['month'] = total_data['month'].astype(np.uint8)\n",
    "total_data[['calls_amount', 'calls_duration', 'gb_used','messages_amount', \n",
    "            'calls_overrun', 'gb_overrun','messages_overrun', 'cost']] = (\n",
    "    total_data[['calls_amount', 'calls_duration', 'gb_used','messages_amount', \n",
    "            'calls_overrun', 'gb_overrun','messages_overrun', 'cost']].astype(np.uint16)\n",
    ")\n",
    "new_memory = total_data.memory_usage().sum() / memory\n",
    "print('Объем памяти сводной таблицы сокращен до {:.1%}'.format(new_memory))"
   ]
  },
  {
   "cell_type": "markdown",
   "metadata": {},
   "source": [
    "**Вывод:**\n",
    "\n",
    "Столбцы с датами приведены к типу datetime, в таблице `users_data` заполнены пропущенные значения. Так как Мегалайн при расчетах использует значения, округленные до целого, данные о продолжительности звонков и объёме веб-траффика приведены к целочисленному типу. \n",
    "Данные об использовании сервисов сгруппированы для каждого абонента по месяцам, расчитана помесячная выручка. Обнаружены и исключены абоненты, не использующие сервисы Мегалайна. \n",
    "Типы данных в сводной таблице оптимизированы, что сократило объём занимаемой ейпамяти до 42.7%."
   ]
  },
  {
   "cell_type": "markdown",
   "metadata": {},
   "source": [
    "## Анализ данных"
   ]
  },
  {
   "cell_type": "markdown",
   "metadata": {},
   "source": [
    "Рассмотрим поведение клиентов Мегалайн по тарифам:"
   ]
  },
  {
   "cell_type": "code",
   "execution_count": 31,
   "metadata": {
    "scrolled": true
   },
   "outputs": [
    {
     "data": {
      "text/html": [
       "<div>\n",
       "<style scoped>\n",
       "    .dataframe tbody tr th:only-of-type {\n",
       "        vertical-align: middle;\n",
       "    }\n",
       "\n",
       "    .dataframe tbody tr th {\n",
       "        vertical-align: top;\n",
       "    }\n",
       "\n",
       "    .dataframe thead th {\n",
       "        text-align: right;\n",
       "    }\n",
       "</style>\n",
       "<table border=\"1\" class=\"dataframe\">\n",
       "  <thead>\n",
       "    <tr style=\"text-align: right;\">\n",
       "      <th></th>\n",
       "      <th>tariff</th>\n",
       "      <th>smart</th>\n",
       "      <th>ultra</th>\n",
       "    </tr>\n",
       "  </thead>\n",
       "  <tbody>\n",
       "    <tr>\n",
       "      <td rowspan=\"3\" valign=\"top\">calls_duration</td>\n",
       "      <td>mean</td>\n",
       "      <td>417.934948</td>\n",
       "      <td>526.623350</td>\n",
       "    </tr>\n",
       "    <tr>\n",
       "      <td>std</td>\n",
       "      <td>190.313730</td>\n",
       "      <td>317.606098</td>\n",
       "    </tr>\n",
       "    <tr>\n",
       "      <td>var</td>\n",
       "      <td>36219.315784</td>\n",
       "      <td>100873.633397</td>\n",
       "    </tr>\n",
       "    <tr>\n",
       "      <td>calls_overrun</td>\n",
       "      <td>mean</td>\n",
       "      <td>41.605653</td>\n",
       "      <td>0.000000</td>\n",
       "    </tr>\n",
       "    <tr>\n",
       "      <td rowspan=\"3\" valign=\"top\">cost</td>\n",
       "      <td>mean</td>\n",
       "      <td>1286.563930</td>\n",
       "      <td>2069.543147</td>\n",
       "    </tr>\n",
       "    <tr>\n",
       "      <td>std</td>\n",
       "      <td>816.522996</td>\n",
       "      <td>374.676411</td>\n",
       "    </tr>\n",
       "    <tr>\n",
       "      <td>var</td>\n",
       "      <td>666709.803474</td>\n",
       "      <td>140382.413025</td>\n",
       "    </tr>\n",
       "    <tr>\n",
       "      <td>gb_overrun</td>\n",
       "      <td>mean</td>\n",
       "      <td>2.971736</td>\n",
       "      <td>0.796954</td>\n",
       "    </tr>\n",
       "    <tr>\n",
       "      <td rowspan=\"3\" valign=\"top\">gb_used</td>\n",
       "      <td>mean</td>\n",
       "      <td>16.308659</td>\n",
       "      <td>19.479188</td>\n",
       "    </tr>\n",
       "    <tr>\n",
       "      <td>std</td>\n",
       "      <td>5.738608</td>\n",
       "      <td>9.847301</td>\n",
       "    </tr>\n",
       "    <tr>\n",
       "      <td>var</td>\n",
       "      <td>32.931617</td>\n",
       "      <td>96.969333</td>\n",
       "    </tr>\n",
       "    <tr>\n",
       "      <td rowspan=\"3\" valign=\"top\">messages_amount</td>\n",
       "      <td>mean</td>\n",
       "      <td>33.384029</td>\n",
       "      <td>49.363452</td>\n",
       "    </tr>\n",
       "    <tr>\n",
       "      <td>std</td>\n",
       "      <td>28.227876</td>\n",
       "      <td>47.804457</td>\n",
       "    </tr>\n",
       "    <tr>\n",
       "      <td>var</td>\n",
       "      <td>796.812958</td>\n",
       "      <td>2285.266143</td>\n",
       "    </tr>\n",
       "    <tr>\n",
       "      <td>messages_overrun</td>\n",
       "      <td>mean</td>\n",
       "      <td>5.799910</td>\n",
       "      <td>0.000000</td>\n",
       "    </tr>\n",
       "  </tbody>\n",
       "</table>\n",
       "</div>"
      ],
      "text/plain": [
       "tariff                         smart          ultra\n",
       "calls_duration   mean     417.934948     526.623350\n",
       "                 std      190.313730     317.606098\n",
       "                 var    36219.315784  100873.633397\n",
       "calls_overrun    mean      41.605653       0.000000\n",
       "cost             mean    1286.563930    2069.543147\n",
       "                 std      816.522996     374.676411\n",
       "                 var   666709.803474  140382.413025\n",
       "gb_overrun       mean       2.971736       0.796954\n",
       "gb_used          mean      16.308659      19.479188\n",
       "                 std        5.738608       9.847301\n",
       "                 var       32.931617      96.969333\n",
       "messages_amount  mean      33.384029      49.363452\n",
       "                 std       28.227876      47.804457\n",
       "                 var      796.812958    2285.266143\n",
       "messages_overrun mean       5.799910       0.000000"
      ]
     },
     "execution_count": 31,
     "metadata": {},
     "output_type": "execute_result"
    }
   ],
   "source": [
    "stat = total_data.pivot_table(\n",
    "    index='tariff', \n",
    "    values=['cost','calls_duration', 'gb_used', \n",
    "            'messages_amount', 'calls_overrun', \n",
    "            'gb_overrun','messages_overrun'],\n",
    "    aggfunc={'cost' : [np.mean, np.std, np.var],\n",
    "             'calls_duration' : [np.mean, np.std, np.var],\n",
    "             'gb_used' : [np.mean, np.std, np.var], \n",
    "             'messages_amount' : [np.mean, np.std, np.var],\n",
    "             'calls_overrun': np.mean, \n",
    "             'gb_overrun' : np.mean,\n",
    "             'messages_overrun': np.mean}\n",
    ")\n",
    "stat.T"
   ]
  },
  {
   "cell_type": "markdown",
   "metadata": {},
   "source": [
    "Средняя выручка с клиентов тарифа Смарт 1295 рублей, при абонентской плате 550 рублей, а с клиентов тарифа Ультра - 2071 рубль, при абонплате 1950 рублей. При этом абоненты тарифа Смарт в среднем превышают пакет тарифа по всем направлениям, в то время как абоненты Ультра не превышают пакет в отношении количества минут звонков и сообщений, а среднее превышение трафика по веб-трафику менее 1гб."
   ]
  },
  {
   "cell_type": "markdown",
   "metadata": {},
   "source": [
    "Разобьём сводную таблицу по тарифам:"
   ]
  },
  {
   "cell_type": "code",
   "execution_count": 32,
   "metadata": {},
   "outputs": [],
   "source": [
    "smart = total_data.query('tariff == \"smart\"')\n",
    "ultra =  total_data.query('tariff == \"ultra\"')"
   ]
  },
  {
   "cell_type": "markdown",
   "metadata": {},
   "source": [
    "Построим диаграммы распределения суммы продолжительности звонков по месяцам, отметив на графике лимиты по тарифному пакету"
   ]
  },
  {
   "cell_type": "code",
   "execution_count": 33,
   "metadata": {},
   "outputs": [
    {
     "data": {
      "image/png": "[encoded data removed]",
      "text/plain": [
       "<Figure size 576x432 with 1 Axes>"
      ]
     },
     "metadata": {
      "needs_background": "light"
     },
     "output_type": "display_data"
    }
   ],
   "source": [
    "plt.figure(figsize=(8, 6))\n",
    "plt.hist(smart['calls_duration'], bins= 30, label='Тариф Смарт', alpha = .6)\n",
    "plt.hist(ultra['calls_duration'], bins= 50, label='Тариф Ультра', alpha = .6)\n",
    "plt.axvline(3000, color = 'r')\n",
    "plt.annotate('Лимит тарифа Ультра', xy=(3000, 150))\n",
    "plt.xlabel('Сумма продолжительности звонков за месяц (мин.)')\n",
    "plt.ylabel('Число событий')\n",
    "plt.axvline(500, color = 'y')\n",
    "plt.annotate('Лимит тарифа Смарт', xy=(500, 150))\n",
    "plt.title(\n",
    "    \"\"\"Распределение суммы продолжительности звонков за месяц,\n",
    "    для абонентов Мегалайн в среднем за 2018 год\"\"\"\n",
    ")\n",
    "plt.legend()\n",
    "plt.show()"
   ]
  },
  {
   "cell_type": "markdown",
   "metadata": {},
   "source": [
    "По гистограммам видно, что дисперсия по показателю продолжительности звонков для абонентов тарифа Смарт ниже, чем для абонентов тарифа Ультра. На гистограмме для тарифа Ультра обнаружен пик на значении 0. "
   ]
  },
  {
   "cell_type": "markdown",
   "metadata": {},
   "source": [
    "Построим диаграммы размаха:"
   ]
  },
  {
   "cell_type": "code",
   "execution_count": 34,
   "metadata": {},
   "outputs": [
    {
     "data": {
      "image/png": "[encoded data removed]",
      "text/plain": [
       "<Figure size 432x288 with 1 Axes>"
      ]
     },
     "metadata": {
      "needs_background": "light"
     },
     "output_type": "display_data"
    }
   ],
   "source": [
    "x1 = smart['calls_duration']\n",
    "x2 = ultra['calls_duration']\n",
    "plt.boxplot([x1, x2])\n",
    "plt.ylabel('Сумма продолжительности звонков за месяц (мин.)')\n",
    "plt.title(\n",
    "    \"\"\"Диаграма размаха продолжительности звонков за месяц,\n",
    "    для абонентов тарифов Смарт и Ультра в среднем за 2018 год\"\"\"\n",
    ")\n",
    "plt.xticks([1,2], ['Тариф Смарт','Тариф Ультра'])\n",
    "plt.show()"
   ]
  },
  {
   "cell_type": "markdown",
   "metadata": {},
   "source": [
    "Выбросы видна диаграммах размаха для обоих тарифов, но для тарифа Смарт их число выше. Медиана для тарифа Ультра смещена в большую сторону, данные имеют положительную скошенность."
   ]
  },
  {
   "cell_type": "markdown",
   "metadata": {},
   "source": [
    "Построим диаграммы распределения объема веб-трафика по месяцам, отметив на графике лимит по тарифному пакету"
   ]
  },
  {
   "cell_type": "code",
   "execution_count": 35,
   "metadata": {},
   "outputs": [
    {
     "data": {
      "image/png": "[encoded data removed]",
      "text/plain": [
       "<Figure size 576x432 with 1 Axes>"
      ]
     },
     "metadata": {
      "needs_background": "light"
     },
     "output_type": "display_data"
    }
   ],
   "source": [
    "plt.figure(figsize=(8, 6))\n",
    "plt.hist(smart['gb_used'], bins= 40, label='Тариф Смарт', alpha = .6)\n",
    "plt.hist(ultra['gb_used'], bins= 30, label='Тариф Ультра', alpha = .6)\n",
    "plt.xlabel('Объем веб-трафика (гб)')\n",
    "plt.ylabel('Число событий')\n",
    "plt.axvline(15, color = 'y')\n",
    "plt.annotate('Лимит тарифа Смарт', xy=(15, 150))\n",
    "plt.axvline(30, color = 'r')\n",
    "plt.annotate('Лимит тарифа Ультра', xy=(30, 150))\n",
    "plt.title(\n",
    "    \"\"\"Распределение объема веб-трафика за месяц,\n",
    "    для абонентов Мегалайн в среднем за 2018 год\"\"\"\n",
    ")\n",
    "plt.legend()\n",
    "plt.show()"
   ]
  },
  {
   "cell_type": "markdown",
   "metadata": {},
   "source": [
    "По гистограммам видно, что дисперсия по показателю объёма веб-трафика для абонентов тарифа Смарт ниже, чем для абонентов тарифа Ультра. "
   ]
  },
  {
   "cell_type": "markdown",
   "metadata": {},
   "source": [
    "Построим диаграммы размаха:"
   ]
  },
  {
   "cell_type": "code",
   "execution_count": 36,
   "metadata": {},
   "outputs": [
    {
     "data": {
      "image/png": "[encoded data removed]",
      "text/plain": [
       "<Figure size 432x288 with 1 Axes>"
      ]
     },
     "metadata": {
      "needs_background": "light"
     },
     "output_type": "display_data"
    }
   ],
   "source": [
    "x1 = smart['gb_used']\n",
    "x2 = ultra['gb_used']\n",
    "plt.boxplot([x1, x2])\n",
    "plt.ylabel('Веб-трафик (гб)')\n",
    "plt.title(\n",
    "    \"\"\"Диаграма размаха объема веб-трафика за месяц,\n",
    "    для абонентов тарифов Смарт и Ультра в среднем за 2018 год\"\"\"\n",
    ")\n",
    "plt.xticks([1,2], ['Тариф Смарт','Тариф Ультра'])\n",
    "plt.show()"
   ]
  },
  {
   "cell_type": "markdown",
   "metadata": {},
   "source": [
    " Для этого параметра распределение данных для абонентов тарифа Ультра не имеет выбросов, в то время как для абонентов тарифа Смарт выбросы возникают с обеих сторон. Для тарифа Ультра характерна положительная скошенность данных. "
   ]
  },
  {
   "cell_type": "markdown",
   "metadata": {},
   "source": [
    "Построим диаграммы распределения числасообщений по месяцам, отметив на графике лимит по тарифному пакету"
   ]
  },
  {
   "cell_type": "code",
   "execution_count": 37,
   "metadata": {},
   "outputs": [
    {
     "data": {
      "image/png": "[encoded data removed]",
      "text/plain": [
       "<Figure size 864x432 with 1 Axes>"
      ]
     },
     "metadata": {
      "needs_background": "light"
     },
     "output_type": "display_data"
    }
   ],
   "source": [
    "plt.figure(figsize=(12, 6))\n",
    "plt.hist(smart['messages_amount'], bins= 30, label='Тариф Смарт', alpha = .6)\n",
    "plt.hist(ultra['messages_amount'], bins= 30, label='Тариф Ультра', alpha = .6)\n",
    "plt.xlabel('Число сообщений (шт)')\n",
    "plt.ylabel('Число событий')\n",
    "plt.axvline(50, color = 'y')\n",
    "plt.annotate('Лимит тарифа Смарт', xy=(50, 300))\n",
    "plt.axvline(1000, color = 'r')\n",
    "plt.annotate('Лимит тарифа Ультра', xy=(1000, 300))\n",
    "plt.title(\n",
    "    \"\"\"Распределение числа сообщений за месяц,\n",
    "    для абонентов Мегалайн в среднем за 2018 год\"\"\"\n",
    ")\n",
    "plt.legend()\n",
    "plt.show()"
   ]
  },
  {
   "cell_type": "markdown",
   "metadata": {},
   "source": [
    "По гистограммам видно, что дисперсия по показателю числа сообщений для абонентов тарифа Смарт ниже, чем для абонентов тарифа Ультра. Пики в значении 0 объясняются обнаруженным нами фактом о том, что 74 человека из выборки не использовали сообщения за 2018 год."
   ]
  },
  {
   "cell_type": "markdown",
   "metadata": {},
   "source": [
    "Построим диаграмму размаха:"
   ]
  },
  {
   "cell_type": "code",
   "execution_count": 38,
   "metadata": {},
   "outputs": [
    {
     "data": {
      "image/png": "[encoded data removed]",
      "text/plain": [
       "<Figure size 432x288 with 1 Axes>"
      ]
     },
     "metadata": {
      "needs_background": "light"
     },
     "output_type": "display_data"
    }
   ],
   "source": [
    "x1 = smart['messages_amount']\n",
    "x2 = ultra['messages_amount']\n",
    "plt.boxplot([x1, x2])\n",
    "plt.ylabel('Сообщения (шт.)')\n",
    "plt.title(\n",
    "    \"\"\"Диаграма размаха числа сообщений за месяц,\n",
    "    для абонентов тарифов Смарт и Ультра в среднем за 2018 год\"\"\"\n",
    ")\n",
    "plt.xticks([1,2], ['Тариф Смарт','Тариф Ультра'])\n",
    "plt.show()"
   ]
  },
  {
   "cell_type": "markdown",
   "metadata": {},
   "source": [
    "Для тарифа Смарт характерно большее число выбросов, оба распределения с положительной скошенностью."
   ]
  },
  {
   "cell_type": "markdown",
   "metadata": {},
   "source": [
    "Построим диаграммы распределения выручки по месяцам сверх абонентской платы по тарифу:"
   ]
  },
  {
   "cell_type": "code",
   "execution_count": 39,
   "metadata": {},
   "outputs": [],
   "source": [
    "smart['margin'] = smart['cost'] - 550\n",
    "ultra['margin'] = ultra['cost'] - 1950"
   ]
  },
  {
   "cell_type": "code",
   "execution_count": 40,
   "metadata": {},
   "outputs": [
    {
     "data": {
      "image/png": "[encoded data removed]",
      "text/plain": [
       "<Figure size 864x432 with 1 Axes>"
      ]
     },
     "metadata": {
      "needs_background": "light"
     },
     "output_type": "display_data"
    }
   ],
   "source": [
    "plt.figure(figsize=(12, 6))\n",
    "plt.hist(smart['margin'], bins= 50, label='Тариф Смарт', alpha = .6)\n",
    "plt.hist(ultra['margin'], bins= 50, label='Тариф Ультра', alpha = .6)\n",
    "plt.xlabel('Месячный платёж (руб.)')\n",
    "plt.ylabel('Число событий')\n",
    "plt.title(\n",
    "    \"\"\"Распределение выручки сверх тарифа,\n",
    "    для абонентов Мегалайн в среднем за 2018 год\"\"\"\n",
    ")\n",
    "plt.legend()\n",
    "plt.show()"
   ]
  },
  {
   "cell_type": "markdown",
   "metadata": {},
   "source": [
    "В среднем, абоненты тарифа Ультра платили за услуги связи сверх абонплаты гороздо реже, чем абоненты тарифа Смарт. При этом, в случае превышения пакета, абоненты тарифа Ультра платят за дополнительные ресурсы меньше, чем абоненты Смарт. Следовательно, если считать абонентскую плату издержками оператора, то для Магелайна выгоднее тариф Смарт."
   ]
  },
  {
   "cell_type": "markdown",
   "metadata": {},
   "source": [
    "**Вывод:**\n",
    "\n",
    "В среднем, абоненты тарифа Ультра платили за услуги связи сверх абонплаты гороздо реже, чем абоненты тарифа Смарт. При этом, в случае превышения пакета, абоненты тарифа Ультра платят за дополнительные ресурсы меньше, чем абоненты Смарт.\n",
    "\n",
    "Следовательно, если считать абонентскую плату издержками оператора, то для Магелайна выгоднее тариф Смарт.\n",
    "\n",
    "Средняя выручка с клиентов тарифа Смарт 1295 рублей, при абонентской плате 550 рублей, а с клиентов тарифа Ультра - 2071 рубль, при абонплате 1950 рублей. При этом абоненты тарифа Смарт в среднем превышают пакет тарифа по всем направлениям. У абонентов тарифа Ультра к концу месяца остаются огромные остатки пакетов сообщений и минут разговора, стоит обратить на этот факт внимание и, возможно, пересмотреть лимиты тарифа для звонков и сообщений. Превышения лимита веб-трафика в среднем менее 1 гб. Вероятно, что пользователи тарифа Ультра предпочитают использовать интернет-мессенджеры.\n",
    "\n",
    "Такие параметры как сумма минут разговора, число сообщений и объем использованного веб-трафика по тарифу Ультра имеют большую дисперсию по сравнению с тарифом Смарт, имеют положительную скошенность, медианы смещены в большую сторону.  Для тарифа Смарт характерно большее число выбросов.\n",
    "\n",
    "Поведение пользователей тарифа Ультра имеет большую вариативность, из-за чего сложнее выделить одну моду в распределении данных. Это можно объяснить тем, что их пакет гораздо больше, чем у тарифа Смарт."
   ]
  },
  {
   "cell_type": "markdown",
   "metadata": {},
   "source": [
    "## Проверка гипотезы"
   ]
  },
  {
   "cell_type": "markdown",
   "metadata": {},
   "source": [
    "### Влияние тарифа на среднюю выручку"
   ]
  },
  {
   "cell_type": "markdown",
   "metadata": {},
   "source": [
    "Сформулируем нулевую гипотезу. Средняя выручка одинакова для абонентов тарифа Смарт  и Ультра.\n",
    "\n",
    "Альтернативная гипотеза - средняя выручка для тарифа Смарт отличается от среднейвыручки для тарифа Ультра.\n",
    "\n",
    "Мы знаем, что дисперсия наших выборок отличается. Зададим уровень критической значимости 5%. Достоверность резальтата- 95%.\n"
   ]
  },
  {
   "cell_type": "code",
   "execution_count": 41,
   "metadata": {},
   "outputs": [
    {
     "name": "stdout",
     "output_type": "stream",
     "text": [
      "P-value: 8.40789217310225e-253\n",
      "Отвергаем нулевую гипотезу\n"
     ]
    }
   ],
   "source": [
    "alpha = 0.05\n",
    "results = st.ttest_ind(smart['cost'], ultra['cost'], equal_var = False)\n",
    "print('P-value:', results.pvalue)\n",
    "\n",
    "if (results.pvalue < alpha):\n",
    "    print(\"Отвергаем нулевую гипотезу\")\n",
    "else:\n",
    "    print(\"Не получилось отвергнуть нулевую гипотезу\")"
   ]
  },
  {
   "cell_type": "markdown",
   "metadata": {},
   "source": [
    "Вероятность случайного совпадения средних значений выручки для тарифов Смарт и Ультра ничтожно мала, следовательно нулевая гипотеза отвергается. \n",
    "\n",
    "**Вывод:**\n",
    "\n",
    "Средняя выручка для тарифа Смарт отличается от среднейвыручки для тарифа Ультра"
   ]
  },
  {
   "cell_type": "markdown",
   "metadata": {},
   "source": [
    "### Влияние региона абонента на среднюю выручку"
   ]
  },
  {
   "cell_type": "markdown",
   "metadata": {},
   "source": [
    "Сформулируем нулевую гипотезу. Средняя выручка одинакова для абонентов из Москвы и других регионов.\n",
    "\n",
    "Альтернативная гипотеза - средняя выручка для абонентов из Москвы отличается от среднейвыручки для для абонентов из других регионов.\n",
    "\n",
    "Сформируем выборки по региону:"
   ]
  },
  {
   "cell_type": "code",
   "execution_count": 42,
   "metadata": {},
   "outputs": [],
   "source": [
    "moscow = total_data.query('city == \"Москва\"')\n",
    "russia =  total_data.query('~(city == \"Москва\")')"
   ]
  },
  {
   "cell_type": "markdown",
   "metadata": {},
   "source": [
    "Посчитаем среднее и дисперсию:"
   ]
  },
  {
   "cell_type": "code",
   "execution_count": 43,
   "metadata": {},
   "outputs": [
    {
     "name": "stdout",
     "output_type": "stream",
     "text": [
      "Среднее значение помесячной выручки для абонентов из Москвы 1544.504091653028\n",
      "Дисперсия 564856.1190503616\n",
      "Среднее значение помесячной выручки для абонентов не из Москвы 1522.3046484825202\n",
      "Дисперсия 651935.9237087028\n"
     ]
    }
   ],
   "source": [
    "print('Среднее значение помесячной выручки для абонентов из Москвы',np.mean(moscow['cost']))\n",
    "print('Дисперсия', np.var(moscow['cost']))\n",
    "print('Среднее значение помесячной выручки для абонентов не из Москвы', np.mean(russia['cost']))\n",
    "print('Дисперсия', np.var(russia['cost']))"
   ]
  },
  {
   "cell_type": "markdown",
   "metadata": {},
   "source": [
    "Дисперсия наших выборок отличается. Зададим уровень критической значимости 5%. Достоверность результата- 95%."
   ]
  },
  {
   "cell_type": "code",
   "execution_count": 44,
   "metadata": {},
   "outputs": [
    {
     "name": "stdout",
     "output_type": "stream",
     "text": [
      "P-value: 0.517656692853026\n",
      "Не получилось отвергнуть нулевую гипотезу\n"
     ]
    }
   ],
   "source": [
    "alpha = 0.05\n",
    "results = st.ttest_ind(moscow['cost'], russia['cost'], equal_var = False)\n",
    "print('P-value:', results.pvalue)\n",
    "\n",
    "if (results.pvalue < alpha):\n",
    "    print(\"Отвергаем нулевую гипотезу\")\n",
    "else:\n",
    "    print(\"Не получилось отвергнуть нулевую гипотезу\")"
   ]
  },
  {
   "cell_type": "markdown",
   "metadata": {},
   "source": [
    "Вероятность того, что среднее значение помесячной привыли наших выборок случайно велика, а значит не получилось отвергнуть нулевую гипотезу.\n",
    "\n",
    "**Вывод:**\n",
    "\n",
    "Средние значения выручки для абонентов из Москвы не отличается для абонентов из других регионов."
   ]
  },
  {
   "cell_type": "markdown",
   "metadata": {},
   "source": [
    "## Общий вывод"
   ]
  },
  {
   "cell_type": "markdown",
   "metadata": {},
   "source": [
    "Был проведен исследовательский анализ данных, предоставленных оператором Мегалайн. \n",
    "\n",
    "В данных обнаружены звонки с нулевой продолжительностью и интернет-сессии с нулевым трафиком. Обнаружено, что в нашей выборке есть абоненты, которые в 2018 году не пользовались звонками (3 человека), интернетом (8 человек) или сообщениями (74 человека). Обнаружены и заполнены пустые значения, тип данных оптимизирован. Обнаружены и исключены 2 абонента, которые не использовали ни один из сервисов Мегалайн. Рассчитаны превышения лимита пакета в соответствии с тарифом и помесячная выручка для абонентов.\n",
    "\n",
    "Сформулированы и проверены гипотезы о влиянии тарифа и региона на среднюю выручку. \n",
    "\n",
    "Средняя выручка для тарифа Смарт отличается от среднейвыручки для тарифа Ультра. \n",
    "\n",
    "Средняя выручка с клиентов тарифа Смарт 1295 рублей, при абонентской плате 550 рублей, а с клиентов тарифа Ультра - 2071 рубль, при абонплате 1950 рублей. При этом абоненты тарифа Смарт в среднем превышают пакет тарифа по всем направлениям. У абонентов тарифа Ультра к концу месяца остаются огромные остатки пакетов сообщений и минут разговора, стоит обратить на этот факт внимание и, возможно, пересмотреть лимиты тарифа для звонков и сообщений. Превышения лимита веб-трафика в среднем менее 1 гб.\n",
    "\n",
    "Следовательно, если считать абонентскую плату издержками оператора, то **для Мегалайна выгоднее тариф Смарт**.\n",
    "\n",
    "Такие параметры как сумма минут разговора, число сообщений и объем использованного веб-трафика по тарифу Ультра имеют большую дисперсию по сравнению с тарифом Смарт, имеют положительную скошенность, медианы смещены в большую сторону.  Для тарифа Смарт характерно большее число выбросов.\n",
    "\n",
    "Поведение пользователей тарифа Ультра имеет большую вариативность, из-за чего сложнее выделить одну моду в распределении данных. Это можно объяснить тем, что их пакет гораздо больше, чем у тарифа Смарт.\n",
    "\n",
    "Средние значения выручки для абонентов из Москвы не отличается не отличается для абонентов из других регионов.\n",
    "\n",
    "Для нашей выборки среднее значение помесячной выручки с абонентов из Москвы 1550 рублей, среднее значение помесячной выручки с абонентов не из Москвы 1528 рублей."
   ]
  }
 ],
 "metadata": {
  "ExecuteTimeLog": [
   {
    "duration": 4,
    "start_time": "2021-09-01T15:26:31.111Z"
   },
   {
    "duration": 597,
    "start_time": "2021-09-01T15:50:26.967Z"
   },
   {
    "duration": 142,
    "start_time": "2021-09-01T15:52:41.262Z"
   },
   {
    "duration": 158,
    "start_time": "2021-09-01T15:52:52.903Z"
   },
   {
    "duration": 133,
    "start_time": "2021-09-01T16:14:22.700Z"
   },
   {
    "duration": 89,
    "start_time": "2021-09-01T16:15:08.565Z"
   },
   {
    "duration": 22,
    "start_time": "2021-09-01T16:15:36.195Z"
   },
   {
    "duration": 37,
    "start_time": "2021-09-01T16:16:31.785Z"
   },
   {
    "duration": 39,
    "start_time": "2021-09-01T16:18:03.569Z"
   },
   {
    "duration": 148,
    "start_time": "2021-09-01T16:18:03.946Z"
   },
   {
    "duration": 135,
    "start_time": "2021-09-01T16:18:04.457Z"
   },
   {
    "duration": 88,
    "start_time": "2021-09-01T16:18:04.753Z"
   },
   {
    "duration": 22,
    "start_time": "2021-09-01T16:18:05.356Z"
   },
   {
    "duration": 896,
    "start_time": "2021-09-02T13:53:20.145Z"
   },
   {
    "duration": 1192,
    "start_time": "2021-09-02T13:53:27.161Z"
   },
   {
    "duration": 67,
    "start_time": "2021-09-02T13:53:28.357Z"
   },
   {
    "duration": 312,
    "start_time": "2021-09-02T13:53:45.352Z"
   },
   {
    "duration": 291,
    "start_time": "2021-09-02T13:54:03.165Z"
   },
   {
    "duration": 125,
    "start_time": "2021-09-02T13:54:13.811Z"
   },
   {
    "duration": 30,
    "start_time": "2021-09-02T13:54:52.501Z"
   },
   {
    "duration": 43,
    "start_time": "2021-09-02T13:55:17.272Z"
   },
   {
    "duration": 45,
    "start_time": "2021-09-02T13:55:24.746Z"
   },
   {
    "duration": 114,
    "start_time": "2021-09-02T13:56:21.264Z"
   },
   {
    "duration": 26,
    "start_time": "2021-09-02T13:56:44.599Z"
   },
   {
    "duration": 126,
    "start_time": "2021-09-02T13:56:50.930Z"
   },
   {
    "duration": 33,
    "start_time": "2021-09-02T13:56:51.979Z"
   },
   {
    "duration": 2109,
    "start_time": "2021-09-02T13:57:44.167Z"
   },
   {
    "duration": 176,
    "start_time": "2021-09-02T13:57:48.322Z"
   },
   {
    "duration": 1821,
    "start_time": "2021-09-02T13:57:49.116Z"
   },
   {
    "duration": 44,
    "start_time": "2021-09-02T13:58:01.011Z"
   },
   {
    "duration": 212,
    "start_time": "2021-09-02T13:59:05.560Z"
   },
   {
    "duration": 42,
    "start_time": "2021-09-02T13:59:23.120Z"
   },
   {
    "duration": 35,
    "start_time": "2021-09-02T14:00:49.872Z"
   },
   {
    "duration": 27,
    "start_time": "2021-09-02T14:01:04.959Z"
   },
   {
    "duration": 785,
    "start_time": "2021-09-02T14:01:40.515Z"
   },
   {
    "duration": 41,
    "start_time": "2021-09-02T14:01:43.882Z"
   },
   {
    "duration": 9,
    "start_time": "2021-09-02T14:01:44.556Z"
   },
   {
    "duration": 211,
    "start_time": "2021-09-02T14:01:47.206Z"
   },
   {
    "duration": 27,
    "start_time": "2021-09-02T14:02:13.701Z"
   },
   {
    "duration": 177,
    "start_time": "2021-09-02T14:03:19.523Z"
   },
   {
    "duration": 25,
    "start_time": "2021-09-02T14:03:30.620Z"
   },
   {
    "duration": 24,
    "start_time": "2021-09-02T14:03:43.612Z"
   },
   {
    "duration": 131,
    "start_time": "2021-09-02T14:04:01.330Z"
   },
   {
    "duration": 29,
    "start_time": "2021-09-02T14:04:18.214Z"
   },
   {
    "duration": 235,
    "start_time": "2021-09-03T11:45:09.394Z"
   },
   {
    "duration": 180,
    "start_time": "2021-09-03T11:45:17.046Z"
   },
   {
    "duration": 602,
    "start_time": "2021-09-03T11:45:23.972Z"
   },
   {
    "duration": 85,
    "start_time": "2021-09-03T11:45:24.576Z"
   },
   {
    "duration": 7,
    "start_time": "2021-09-03T11:45:24.664Z"
   },
   {
    "duration": 164,
    "start_time": "2021-09-03T11:45:24.673Z"
   },
   {
    "duration": 19,
    "start_time": "2021-09-03T11:45:24.839Z"
   },
   {
    "duration": 129,
    "start_time": "2021-09-03T11:45:24.860Z"
   },
   {
    "duration": 17,
    "start_time": "2021-09-03T11:45:24.990Z"
   },
   {
    "duration": 98,
    "start_time": "2021-09-03T11:45:25.009Z"
   },
   {
    "duration": 13,
    "start_time": "2021-09-03T11:45:25.109Z"
   },
   {
    "duration": 21,
    "start_time": "2021-09-03T11:45:25.123Z"
   },
   {
    "duration": 9,
    "start_time": "2021-09-03T11:45:25.145Z"
   },
   {
    "duration": 731,
    "start_time": "2021-09-04T11:41:38.324Z"
   },
   {
    "duration": 49,
    "start_time": "2021-09-04T11:41:39.058Z"
   },
   {
    "duration": 9,
    "start_time": "2021-09-04T11:41:39.110Z"
   },
   {
    "duration": 223,
    "start_time": "2021-09-04T11:41:39.122Z"
   },
   {
    "duration": 32,
    "start_time": "2021-09-04T11:41:39.347Z"
   },
   {
    "duration": 187,
    "start_time": "2021-09-04T11:41:39.381Z"
   },
   {
    "duration": 22,
    "start_time": "2021-09-04T11:41:39.570Z"
   },
   {
    "duration": 151,
    "start_time": "2021-09-04T11:41:39.595Z"
   },
   {
    "duration": 24,
    "start_time": "2021-09-04T11:41:39.748Z"
   },
   {
    "duration": 28,
    "start_time": "2021-09-04T11:41:39.775Z"
   },
   {
    "duration": 11,
    "start_time": "2021-09-04T11:41:39.806Z"
   },
   {
    "duration": 4,
    "start_time": "2021-09-04T11:42:44.174Z"
   },
   {
    "duration": 150,
    "start_time": "2021-09-04T11:49:46.705Z"
   },
   {
    "duration": 3,
    "start_time": "2021-09-04T11:55:10.084Z"
   },
   {
    "duration": 349,
    "start_time": "2021-09-04T11:56:00.767Z"
   },
   {
    "duration": 220,
    "start_time": "2021-09-04T11:57:35.263Z"
   },
   {
    "duration": 106,
    "start_time": "2021-09-04T11:57:46.327Z"
   },
   {
    "duration": 128,
    "start_time": "2021-09-04T11:59:54.434Z"
   },
   {
    "duration": 21,
    "start_time": "2021-09-04T12:00:00.183Z"
   },
   {
    "duration": 5,
    "start_time": "2021-09-04T12:00:40.436Z"
   },
   {
    "duration": 4,
    "start_time": "2021-09-04T12:01:13.374Z"
   },
   {
    "duration": 5,
    "start_time": "2021-09-04T12:01:29.929Z"
   },
   {
    "duration": 90,
    "start_time": "2021-09-04T12:08:36.038Z"
   },
   {
    "duration": 93,
    "start_time": "2021-09-04T12:19:22.055Z"
   },
   {
    "duration": 103,
    "start_time": "2021-09-04T12:19:38.646Z"
   },
   {
    "duration": 86,
    "start_time": "2021-09-04T12:19:45.313Z"
   },
   {
    "duration": 76,
    "start_time": "2021-09-04T12:23:32.087Z"
   },
   {
    "duration": 1154,
    "start_time": "2021-09-04T12:25:03.568Z"
   },
   {
    "duration": 62,
    "start_time": "2021-09-04T12:25:27.383Z"
   },
   {
    "duration": 24,
    "start_time": "2021-09-04T12:32:49.096Z"
   },
   {
    "duration": 27,
    "start_time": "2021-09-04T12:34:53.278Z"
   },
   {
    "duration": 6119,
    "start_time": "2021-09-04T12:35:07.860Z"
   },
   {
    "duration": 4,
    "start_time": "2021-09-04T12:35:27.807Z"
   },
   {
    "duration": 42,
    "start_time": "2021-09-04T12:35:27.814Z"
   },
   {
    "duration": 9,
    "start_time": "2021-09-04T12:35:27.859Z"
   },
   {
    "duration": 211,
    "start_time": "2021-09-04T12:35:27.870Z"
   },
   {
    "duration": 27,
    "start_time": "2021-09-04T12:35:28.084Z"
   },
   {
    "duration": 197,
    "start_time": "2021-09-04T12:35:28.113Z"
   },
   {
    "duration": 24,
    "start_time": "2021-09-04T12:35:28.313Z"
   },
   {
    "duration": 145,
    "start_time": "2021-09-04T12:35:28.340Z"
   },
   {
    "duration": 19,
    "start_time": "2021-09-04T12:35:28.487Z"
   },
   {
    "duration": 31,
    "start_time": "2021-09-04T12:35:28.509Z"
   },
   {
    "duration": 33,
    "start_time": "2021-09-04T12:35:28.543Z"
   },
   {
    "duration": 173,
    "start_time": "2021-09-04T12:35:28.579Z"
   },
   {
    "duration": 198,
    "start_time": "2021-09-04T12:35:28.755Z"
   },
   {
    "duration": 13,
    "start_time": "2021-09-04T12:35:28.956Z"
   },
   {
    "duration": 98,
    "start_time": "2021-09-04T12:35:28.972Z"
   },
   {
    "duration": 127,
    "start_time": "2021-09-04T12:35:29.073Z"
   },
   {
    "duration": 100,
    "start_time": "2021-09-04T12:35:29.203Z"
   },
   {
    "duration": 40,
    "start_time": "2021-09-04T12:35:40.257Z"
   },
   {
    "duration": 45,
    "start_time": "2021-09-04T12:39:06.319Z"
   },
   {
    "duration": 37,
    "start_time": "2021-09-04T12:47:55.332Z"
   },
   {
    "duration": 32,
    "start_time": "2021-09-04T12:59:17.600Z"
   },
   {
    "duration": 38,
    "start_time": "2021-09-04T13:01:27.165Z"
   },
   {
    "duration": 53,
    "start_time": "2021-09-04T13:02:19.257Z"
   },
   {
    "duration": 36,
    "start_time": "2021-09-04T13:04:20.974Z"
   },
   {
    "duration": 30,
    "start_time": "2021-09-04T13:05:48.150Z"
   },
   {
    "duration": 24,
    "start_time": "2021-09-04T13:06:16.308Z"
   },
   {
    "duration": 32,
    "start_time": "2021-09-04T13:07:45.493Z"
   },
   {
    "duration": 242,
    "start_time": "2021-09-04T13:08:58.629Z"
   },
   {
    "duration": 4,
    "start_time": "2021-09-04T13:12:56.694Z"
   },
   {
    "duration": 47,
    "start_time": "2021-09-04T13:12:56.701Z"
   },
   {
    "duration": 9,
    "start_time": "2021-09-04T13:12:56.751Z"
   },
   {
    "duration": 212,
    "start_time": "2021-09-04T13:12:56.763Z"
   },
   {
    "duration": 26,
    "start_time": "2021-09-04T13:12:56.978Z"
   },
   {
    "duration": 189,
    "start_time": "2021-09-04T13:12:57.006Z"
   },
   {
    "duration": 23,
    "start_time": "2021-09-04T13:12:57.198Z"
   },
   {
    "duration": 134,
    "start_time": "2021-09-04T13:12:57.224Z"
   },
   {
    "duration": 29,
    "start_time": "2021-09-04T13:12:57.361Z"
   },
   {
    "duration": 26,
    "start_time": "2021-09-04T13:12:57.392Z"
   },
   {
    "duration": 11,
    "start_time": "2021-09-04T13:12:57.421Z"
   },
   {
    "duration": 134,
    "start_time": "2021-09-04T13:12:57.435Z"
   },
   {
    "duration": 101,
    "start_time": "2021-09-04T13:12:57.572Z"
   },
   {
    "duration": 4,
    "start_time": "2021-09-04T13:12:57.676Z"
   },
   {
    "duration": 87,
    "start_time": "2021-09-04T13:12:57.682Z"
   },
   {
    "duration": 39,
    "start_time": "2021-09-04T13:12:57.771Z"
   },
   {
    "duration": 56,
    "start_time": "2021-09-04T13:12:57.812Z"
   },
   {
    "duration": 23,
    "start_time": "2021-09-04T13:12:57.870Z"
   },
   {
    "duration": 33,
    "start_time": "2021-09-04T13:13:03.192Z"
   },
   {
    "duration": 23,
    "start_time": "2021-09-04T13:13:47.493Z"
   },
   {
    "duration": 51,
    "start_time": "2021-09-04T13:13:55.259Z"
   },
   {
    "duration": 212,
    "start_time": "2021-09-04T13:14:24.562Z"
   },
   {
    "duration": 70,
    "start_time": "2021-09-04T13:15:16.377Z"
   },
   {
    "duration": 69,
    "start_time": "2021-09-04T13:15:24.012Z"
   },
   {
    "duration": 46,
    "start_time": "2021-09-04T13:15:30.446Z"
   },
   {
    "duration": 293,
    "start_time": "2021-09-04T13:19:32.938Z"
   },
   {
    "duration": 68,
    "start_time": "2021-09-04T13:19:43.054Z"
   },
   {
    "duration": 4,
    "start_time": "2021-09-04T13:20:55.577Z"
   },
   {
    "duration": 85,
    "start_time": "2021-09-04T13:20:55.583Z"
   },
   {
    "duration": 22,
    "start_time": "2021-09-04T13:20:55.672Z"
   },
   {
    "duration": 216,
    "start_time": "2021-09-04T13:20:55.697Z"
   },
   {
    "duration": 26,
    "start_time": "2021-09-04T13:20:55.915Z"
   },
   {
    "duration": 190,
    "start_time": "2021-09-04T13:20:55.944Z"
   },
   {
    "duration": 37,
    "start_time": "2021-09-04T13:20:56.137Z"
   },
   {
    "duration": 134,
    "start_time": "2021-09-04T13:20:56.177Z"
   },
   {
    "duration": 21,
    "start_time": "2021-09-04T13:20:56.314Z"
   },
   {
    "duration": 39,
    "start_time": "2021-09-04T13:20:56.338Z"
   },
   {
    "duration": 23,
    "start_time": "2021-09-04T13:20:56.380Z"
   },
   {
    "duration": 110,
    "start_time": "2021-09-04T13:20:56.406Z"
   },
   {
    "duration": 101,
    "start_time": "2021-09-04T13:20:56.518Z"
   },
   {
    "duration": 4,
    "start_time": "2021-09-04T13:20:56.622Z"
   },
   {
    "duration": 90,
    "start_time": "2021-09-04T13:20:56.628Z"
   },
   {
    "duration": 48,
    "start_time": "2021-09-04T13:20:56.721Z"
   },
   {
    "duration": 30,
    "start_time": "2021-09-04T13:20:56.771Z"
   },
   {
    "duration": 21,
    "start_time": "2021-09-04T13:20:56.804Z"
   },
   {
    "duration": 66,
    "start_time": "2021-09-04T13:20:56.829Z"
   },
   {
    "duration": 296,
    "start_time": "2021-09-04T13:21:04.125Z"
   },
   {
    "duration": 59,
    "start_time": "2021-09-04T13:21:46.047Z"
   },
   {
    "duration": 292,
    "start_time": "2021-09-04T13:41:50.015Z"
   },
   {
    "duration": 4975,
    "start_time": "2021-09-04T13:43:38.284Z"
   },
   {
    "duration": 3859,
    "start_time": "2021-09-04T13:47:46.553Z"
   },
   {
    "duration": 54,
    "start_time": "2021-09-04T13:51:23.610Z"
   },
   {
    "duration": 1485,
    "start_time": "2021-09-04T13:51:34.595Z"
   },
   {
    "duration": 54,
    "start_time": "2021-09-04T13:52:05.016Z"
   },
   {
    "duration": 56,
    "start_time": "2021-09-04T13:52:35.342Z"
   },
   {
    "duration": 3183,
    "start_time": "2021-09-04T13:53:38.118Z"
   },
   {
    "duration": 1145,
    "start_time": "2021-09-04T13:55:49.690Z"
   },
   {
    "duration": 1237,
    "start_time": "2021-09-04T13:56:03.860Z"
   },
   {
    "duration": 56,
    "start_time": "2021-09-04T13:56:20.195Z"
   },
   {
    "duration": 3808,
    "start_time": "2021-09-04T13:56:49.499Z"
   },
   {
    "duration": 55,
    "start_time": "2021-09-04T13:57:31.309Z"
   },
   {
    "duration": 436,
    "start_time": "2021-09-04T13:58:25.147Z"
   },
   {
    "duration": 569,
    "start_time": "2021-09-05T15:36:34.460Z"
   },
   {
    "duration": 48,
    "start_time": "2021-09-05T15:36:47.758Z"
   },
   {
    "duration": 172,
    "start_time": "2021-09-05T15:37:08.107Z"
   },
   {
    "duration": 21,
    "start_time": "2021-09-05T15:37:09.331Z"
   },
   {
    "duration": 143,
    "start_time": "2021-09-05T15:37:16.138Z"
   },
   {
    "duration": 18,
    "start_time": "2021-09-05T15:37:16.298Z"
   },
   {
    "duration": 103,
    "start_time": "2021-09-05T15:37:16.757Z"
   },
   {
    "duration": 14,
    "start_time": "2021-09-05T15:37:16.908Z"
   },
   {
    "duration": 26,
    "start_time": "2021-09-05T15:37:17.384Z"
   },
   {
    "duration": 6,
    "start_time": "2021-09-05T15:37:17.536Z"
   },
   {
    "duration": 77,
    "start_time": "2021-09-05T15:37:23.282Z"
   },
   {
    "duration": 76,
    "start_time": "2021-09-05T15:37:25.578Z"
   },
   {
    "duration": 17,
    "start_time": "2021-09-05T15:38:37.041Z"
   },
   {
    "duration": 32,
    "start_time": "2021-09-05T15:38:53.932Z"
   },
   {
    "duration": 33,
    "start_time": "2021-09-05T15:39:12.609Z"
   },
   {
    "duration": 49,
    "start_time": "2021-09-05T15:41:02.014Z"
   },
   {
    "duration": 3,
    "start_time": "2021-09-05T15:41:20.454Z"
   },
   {
    "duration": 37,
    "start_time": "2021-09-05T15:41:20.459Z"
   },
   {
    "duration": 7,
    "start_time": "2021-09-05T15:41:20.498Z"
   },
   {
    "duration": 168,
    "start_time": "2021-09-05T15:41:20.507Z"
   },
   {
    "duration": 32,
    "start_time": "2021-09-05T15:41:20.677Z"
   },
   {
    "duration": 144,
    "start_time": "2021-09-05T15:41:20.711Z"
   },
   {
    "duration": 18,
    "start_time": "2021-09-05T15:41:20.857Z"
   },
   {
    "duration": 107,
    "start_time": "2021-09-05T15:41:20.877Z"
   },
   {
    "duration": 20,
    "start_time": "2021-09-05T15:41:20.986Z"
   },
   {
    "duration": 26,
    "start_time": "2021-09-05T15:41:21.008Z"
   },
   {
    "duration": 8,
    "start_time": "2021-09-05T15:41:21.036Z"
   },
   {
    "duration": 74,
    "start_time": "2021-09-05T15:41:21.045Z"
   },
   {
    "duration": 67,
    "start_time": "2021-09-05T15:41:23.237Z"
   },
   {
    "duration": 5,
    "start_time": "2021-09-05T15:41:24.407Z"
   },
   {
    "duration": 24,
    "start_time": "2021-09-05T15:41:30.593Z"
   },
   {
    "duration": 309,
    "start_time": "2021-09-05T15:42:57.011Z"
   },
   {
    "duration": 15,
    "start_time": "2021-09-05T15:43:22.651Z"
   },
   {
    "duration": 51,
    "start_time": "2021-09-05T15:43:25.463Z"
   },
   {
    "duration": 4,
    "start_time": "2021-09-05T15:43:26.503Z"
   },
   {
    "duration": 49,
    "start_time": "2021-09-05T15:43:28.142Z"
   },
   {
    "duration": 30,
    "start_time": "2021-09-05T15:43:33.539Z"
   },
   {
    "duration": 92,
    "start_time": "2021-09-05T15:45:45.888Z"
   },
   {
    "duration": 240,
    "start_time": "2021-09-05T15:45:57.095Z"
   },
   {
    "duration": 31,
    "start_time": "2021-09-05T15:46:09.774Z"
   },
   {
    "duration": 79,
    "start_time": "2021-09-05T15:46:10.578Z"
   },
   {
    "duration": 249,
    "start_time": "2021-09-05T15:46:16.178Z"
   },
   {
    "duration": 30,
    "start_time": "2021-09-05T15:46:23.574Z"
   },
   {
    "duration": 26,
    "start_time": "2021-09-05T15:46:24.520Z"
   },
   {
    "duration": 15,
    "start_time": "2021-09-05T15:46:25.205Z"
   },
   {
    "duration": 22,
    "start_time": "2021-09-05T15:46:25.945Z"
   },
   {
    "duration": 37,
    "start_time": "2021-09-05T15:46:26.782Z"
   },
   {
    "duration": 403,
    "start_time": "2021-09-05T15:46:27.908Z"
   },
   {
    "duration": 27,
    "start_time": "2021-09-05T15:47:02.560Z"
   },
   {
    "duration": 16,
    "start_time": "2021-09-05T15:50:36.035Z"
   },
   {
    "duration": 11,
    "start_time": "2021-09-05T15:50:37.462Z"
   },
   {
    "duration": 6,
    "start_time": "2021-09-05T15:50:38.533Z"
   },
   {
    "duration": 14,
    "start_time": "2021-09-05T15:50:44.718Z"
   },
   {
    "duration": 35,
    "start_time": "2021-09-05T15:50:47.185Z"
   },
   {
    "duration": 26,
    "start_time": "2021-09-05T15:51:06.244Z"
   },
   {
    "duration": 7,
    "start_time": "2021-09-05T15:54:34.157Z"
   },
   {
    "duration": 25,
    "start_time": "2021-09-05T15:57:50.913Z"
   },
   {
    "duration": 8,
    "start_time": "2021-09-05T15:58:14.002Z"
   },
   {
    "duration": 14,
    "start_time": "2021-09-05T16:08:16.475Z"
   },
   {
    "duration": 51,
    "start_time": "2021-09-05T16:11:20.150Z"
   },
   {
    "duration": 29,
    "start_time": "2021-09-05T16:11:56.143Z"
   },
   {
    "duration": 21,
    "start_time": "2021-09-05T16:13:16.324Z"
   },
   {
    "duration": 24,
    "start_time": "2021-09-05T16:14:04.197Z"
   },
   {
    "duration": 244,
    "start_time": "2021-09-05T16:15:09.762Z"
   },
   {
    "duration": 242,
    "start_time": "2021-09-05T16:15:28.302Z"
   },
   {
    "duration": 236,
    "start_time": "2021-09-05T16:15:58.796Z"
   },
   {
    "duration": 231,
    "start_time": "2021-09-05T16:16:49.934Z"
   },
   {
    "duration": 241,
    "start_time": "2021-09-05T16:16:59.460Z"
   },
   {
    "duration": 6,
    "start_time": "2021-09-05T16:17:14.348Z"
   },
   {
    "duration": 288,
    "start_time": "2021-09-05T16:17:35.406Z"
   },
   {
    "duration": 5,
    "start_time": "2021-09-05T16:17:52.548Z"
   },
   {
    "duration": 4,
    "start_time": "2021-09-05T16:18:53.294Z"
   },
   {
    "duration": 234,
    "start_time": "2021-09-05T16:19:34.761Z"
   },
   {
    "duration": 5,
    "start_time": "2021-09-05T16:19:49.228Z"
   },
   {
    "duration": 249,
    "start_time": "2021-09-05T16:21:43.213Z"
   },
   {
    "duration": 88,
    "start_time": "2021-09-05T16:22:11.250Z"
   },
   {
    "duration": 277,
    "start_time": "2021-09-05T16:22:18.170Z"
   },
   {
    "duration": 5,
    "start_time": "2021-09-05T16:22:46.316Z"
   },
   {
    "duration": 25,
    "start_time": "2021-09-05T16:26:00.183Z"
   },
   {
    "duration": 6,
    "start_time": "2021-09-05T16:32:14.775Z"
   },
   {
    "duration": 122,
    "start_time": "2021-09-05T16:35:15.272Z"
   },
   {
    "duration": 15,
    "start_time": "2021-09-05T16:35:23.396Z"
   },
   {
    "duration": 398,
    "start_time": "2021-09-06T16:37:34.588Z"
   },
   {
    "duration": 766,
    "start_time": "2021-09-06T16:37:43.793Z"
   },
   {
    "duration": 73,
    "start_time": "2021-09-06T16:37:44.561Z"
   },
   {
    "duration": 11,
    "start_time": "2021-09-06T16:37:44.637Z"
   },
   {
    "duration": 21,
    "start_time": "2021-09-06T16:37:44.651Z"
   },
   {
    "duration": 242,
    "start_time": "2021-09-06T16:37:44.675Z"
   },
   {
    "duration": 27,
    "start_time": "2021-09-06T16:37:44.919Z"
   },
   {
    "duration": 288,
    "start_time": "2021-09-06T16:37:44.949Z"
   },
   {
    "duration": -3443,
    "start_time": "2021-09-06T16:37:48.684Z"
   },
   {
    "duration": -3448,
    "start_time": "2021-09-06T16:37:48.690Z"
   },
   {
    "duration": -3453,
    "start_time": "2021-09-06T16:37:48.697Z"
   },
   {
    "duration": -3457,
    "start_time": "2021-09-06T16:37:48.702Z"
   },
   {
    "duration": -3463,
    "start_time": "2021-09-06T16:37:48.710Z"
   },
   {
    "duration": -3489,
    "start_time": "2021-09-06T16:37:48.738Z"
   },
   {
    "duration": -3494,
    "start_time": "2021-09-06T16:37:48.744Z"
   },
   {
    "duration": -3501,
    "start_time": "2021-09-06T16:37:48.753Z"
   },
   {
    "duration": -3506,
    "start_time": "2021-09-06T16:37:48.760Z"
   },
   {
    "duration": -4024,
    "start_time": "2021-09-06T16:37:49.279Z"
   },
   {
    "duration": -4029,
    "start_time": "2021-09-06T16:37:49.285Z"
   },
   {
    "duration": -4031,
    "start_time": "2021-09-06T16:37:49.289Z"
   },
   {
    "duration": -4161,
    "start_time": "2021-09-06T16:37:49.420Z"
   },
   {
    "duration": -4164,
    "start_time": "2021-09-06T16:37:49.425Z"
   },
   {
    "duration": -4168,
    "start_time": "2021-09-06T16:37:49.430Z"
   },
   {
    "duration": -4172,
    "start_time": "2021-09-06T16:37:49.435Z"
   },
   {
    "duration": -4186,
    "start_time": "2021-09-06T16:37:49.451Z"
   },
   {
    "duration": -4189,
    "start_time": "2021-09-06T16:37:49.455Z"
   },
   {
    "duration": 273,
    "start_time": "2021-09-06T16:37:57.064Z"
   },
   {
    "duration": 176,
    "start_time": "2021-09-06T16:41:34.975Z"
   },
   {
    "duration": 23,
    "start_time": "2021-09-06T16:42:11.559Z"
   },
   {
    "duration": 15,
    "start_time": "2021-09-06T16:43:37.936Z"
   },
   {
    "duration": 14,
    "start_time": "2021-09-06T16:44:23.124Z"
   },
   {
    "duration": 15,
    "start_time": "2021-09-06T16:44:46.983Z"
   },
   {
    "duration": 15,
    "start_time": "2021-09-06T16:44:53.782Z"
   },
   {
    "duration": 14,
    "start_time": "2021-09-06T16:45:41.389Z"
   },
   {
    "duration": 232,
    "start_time": "2021-09-06T16:45:43.499Z"
   },
   {
    "duration": 27,
    "start_time": "2021-09-06T16:45:45.625Z"
   },
   {
    "duration": 196,
    "start_time": "2021-09-06T16:45:49.212Z"
   },
   {
    "duration": 10,
    "start_time": "2021-09-06T16:45:49.770Z"
   },
   {
    "duration": 24,
    "start_time": "2021-09-06T16:45:50.442Z"
   },
   {
    "duration": 212,
    "start_time": "2021-09-06T16:46:01.927Z"
   },
   {
    "duration": 7,
    "start_time": "2021-09-06T16:46:02.613Z"
   },
   {
    "duration": 30,
    "start_time": "2021-09-06T16:46:03.365Z"
   },
   {
    "duration": 134,
    "start_time": "2021-09-06T16:46:05.525Z"
   },
   {
    "duration": 6,
    "start_time": "2021-09-06T16:46:06.293Z"
   },
   {
    "duration": 18,
    "start_time": "2021-09-06T16:46:07.017Z"
   },
   {
    "duration": 24,
    "start_time": "2021-09-06T16:46:09.821Z"
   },
   {
    "duration": 9,
    "start_time": "2021-09-06T16:46:10.513Z"
   },
   {
    "duration": 99,
    "start_time": "2021-09-06T16:46:19.572Z"
   },
   {
    "duration": 103,
    "start_time": "2021-09-06T16:46:21.523Z"
   },
   {
    "duration": 6,
    "start_time": "2021-09-06T16:46:22.874Z"
   },
   {
    "duration": 76,
    "start_time": "2021-09-06T16:46:26.247Z"
   },
   {
    "duration": 31,
    "start_time": "2021-09-06T16:46:27.925Z"
   },
   {
    "duration": 26,
    "start_time": "2021-09-06T16:46:29.357Z"
   },
   {
    "duration": 9,
    "start_time": "2021-09-06T16:46:30.703Z"
   },
   {
    "duration": 23,
    "start_time": "2021-09-06T16:46:34.134Z"
   },
   {
    "duration": 32,
    "start_time": "2021-09-06T16:46:36.142Z"
   },
   {
    "duration": 256,
    "start_time": "2021-09-06T16:46:37.832Z"
   },
   {
    "duration": 32,
    "start_time": "2021-09-06T16:47:11.979Z"
   },
   {
    "duration": 24,
    "start_time": "2021-09-06T16:47:27.313Z"
   },
   {
    "duration": 231,
    "start_time": "2021-09-06T16:47:39.259Z"
   },
   {
    "duration": 866,
    "start_time": "2021-09-06T16:48:59.147Z"
   },
   {
    "duration": 4,
    "start_time": "2021-09-06T16:51:37.934Z"
   },
   {
    "duration": 55,
    "start_time": "2021-09-06T16:51:37.941Z"
   },
   {
    "duration": 8,
    "start_time": "2021-09-06T16:51:37.999Z"
   },
   {
    "duration": 17,
    "start_time": "2021-09-06T16:51:38.010Z"
   },
   {
    "duration": 245,
    "start_time": "2021-09-06T16:51:38.030Z"
   },
   {
    "duration": 30,
    "start_time": "2021-09-06T16:51:38.278Z"
   },
   {
    "duration": 208,
    "start_time": "2021-09-06T16:51:38.312Z"
   },
   {
    "duration": 7,
    "start_time": "2021-09-06T16:51:38.523Z"
   },
   {
    "duration": 47,
    "start_time": "2021-09-06T16:51:38.532Z"
   },
   {
    "duration": 138,
    "start_time": "2021-09-06T16:51:38.582Z"
   },
   {
    "duration": 5,
    "start_time": "2021-09-06T16:51:38.722Z"
   },
   {
    "duration": 40,
    "start_time": "2021-09-06T16:51:38.729Z"
   },
   {
    "duration": 25,
    "start_time": "2021-09-06T16:51:38.772Z"
   },
   {
    "duration": 9,
    "start_time": "2021-09-06T16:51:38.800Z"
   },
   {
    "duration": 117,
    "start_time": "2021-09-06T16:51:38.811Z"
   },
   {
    "duration": 97,
    "start_time": "2021-09-06T16:51:38.931Z"
   },
   {
    "duration": 5,
    "start_time": "2021-09-06T16:51:39.030Z"
   },
   {
    "duration": 90,
    "start_time": "2021-09-06T16:51:39.037Z"
   },
   {
    "duration": 38,
    "start_time": "2021-09-06T16:51:39.131Z"
   },
   {
    "duration": 23,
    "start_time": "2021-09-06T16:51:39.172Z"
   },
   {
    "duration": 9,
    "start_time": "2021-09-06T16:51:39.198Z"
   },
   {
    "duration": 24,
    "start_time": "2021-09-06T16:51:39.210Z"
   },
   {
    "duration": 263,
    "start_time": "2021-09-06T16:52:17.431Z"
   },
   {
    "duration": 241,
    "start_time": "2021-09-06T16:52:35.017Z"
   },
   {
    "duration": 15,
    "start_time": "2021-09-06T16:52:41.135Z"
   },
   {
    "duration": 332,
    "start_time": "2021-09-06T16:52:42.739Z"
   },
   {
    "duration": 243,
    "start_time": "2021-09-06T16:53:06.543Z"
   },
   {
    "duration": 263,
    "start_time": "2021-09-06T16:53:36.190Z"
   },
   {
    "duration": 651,
    "start_time": "2021-09-06T16:55:23.708Z"
   },
   {
    "duration": 542,
    "start_time": "2021-09-06T16:57:09.005Z"
   },
   {
    "duration": 38,
    "start_time": "2021-09-06T16:58:20.891Z"
   },
   {
    "duration": 38,
    "start_time": "2021-09-06T16:58:24.955Z"
   },
   {
    "duration": 26,
    "start_time": "2021-09-06T16:58:27.917Z"
   },
   {
    "duration": 21,
    "start_time": "2021-09-06T16:58:31.103Z"
   },
   {
    "duration": 16,
    "start_time": "2021-09-06T16:58:39.062Z"
   },
   {
    "duration": 11,
    "start_time": "2021-09-06T16:58:44.608Z"
   },
   {
    "duration": 23,
    "start_time": "2021-09-06T16:59:11.789Z"
   },
   {
    "duration": 103,
    "start_time": "2021-09-06T17:06:41.403Z"
   },
   {
    "duration": 107,
    "start_time": "2021-09-06T17:07:04.664Z"
   },
   {
    "duration": 5,
    "start_time": "2021-09-06T17:07:27.801Z"
   },
   {
    "duration": 82,
    "start_time": "2021-09-06T17:08:27.047Z"
   },
   {
    "duration": 1437,
    "start_time": "2021-09-06T17:08:37.724Z"
   },
   {
    "duration": 3672,
    "start_time": "2021-09-06T17:10:31.580Z"
   },
   {
    "duration": 1476,
    "start_time": "2021-09-06T17:10:51.238Z"
   },
   {
    "duration": 80,
    "start_time": "2021-09-06T17:14:05.673Z"
   },
   {
    "duration": 325,
    "start_time": "2021-09-06T17:14:26.220Z"
   },
   {
    "duration": 44,
    "start_time": "2021-09-06T17:16:01.091Z"
   },
   {
    "duration": 23,
    "start_time": "2021-09-06T17:16:48.294Z"
   },
   {
    "duration": 39,
    "start_time": "2021-09-06T17:22:57.340Z"
   },
   {
    "duration": 55,
    "start_time": "2021-09-06T17:23:11.766Z"
   },
   {
    "duration": 61,
    "start_time": "2021-09-06T17:24:11.925Z"
   },
   {
    "duration": 52,
    "start_time": "2021-09-06T17:25:15.388Z"
   },
   {
    "duration": 76,
    "start_time": "2021-09-06T17:26:23.643Z"
   },
   {
    "duration": 72,
    "start_time": "2021-09-06T17:26:55.275Z"
   },
   {
    "duration": 46,
    "start_time": "2021-09-06T17:29:29.272Z"
   },
   {
    "duration": 64,
    "start_time": "2021-09-06T17:30:56.650Z"
   },
   {
    "duration": 443,
    "start_time": "2021-09-06T17:33:36.349Z"
   },
   {
    "duration": 49,
    "start_time": "2021-09-06T17:34:47.654Z"
   },
   {
    "duration": 58,
    "start_time": "2021-09-06T17:34:50.000Z"
   },
   {
    "duration": 563,
    "start_time": "2021-09-06T17:34:51.541Z"
   },
   {
    "duration": 43,
    "start_time": "2021-09-06T17:35:27.613Z"
   },
   {
    "duration": 3920,
    "start_time": "2021-09-06T17:35:40.233Z"
   },
   {
    "duration": 52,
    "start_time": "2021-09-06T17:37:51.343Z"
   },
   {
    "duration": 298,
    "start_time": "2021-09-06T17:38:28.942Z"
   },
   {
    "duration": 45,
    "start_time": "2021-09-06T17:38:44.786Z"
   },
   {
    "duration": 48,
    "start_time": "2021-09-06T17:38:55.869Z"
   },
   {
    "duration": 61,
    "start_time": "2021-09-06T17:39:09.145Z"
   },
   {
    "duration": 3431,
    "start_time": "2021-09-06T17:39:12.477Z"
   },
   {
    "duration": 401,
    "start_time": "2021-09-06T17:41:48.714Z"
   },
   {
    "duration": 31,
    "start_time": "2021-09-06T17:42:10.589Z"
   },
   {
    "duration": 30,
    "start_time": "2021-09-06T17:42:22.559Z"
   },
   {
    "duration": 4575,
    "start_time": "2021-09-06T17:42:27.813Z"
   },
   {
    "duration": 33,
    "start_time": "2021-09-06T17:43:16.110Z"
   },
   {
    "duration": 13,
    "start_time": "2021-09-06T17:44:19.623Z"
   },
   {
    "duration": 27,
    "start_time": "2021-09-06T17:44:40.483Z"
   },
   {
    "duration": 3732,
    "start_time": "2021-09-06T17:46:25.325Z"
   },
   {
    "duration": 28,
    "start_time": "2021-09-06T17:46:55.645Z"
   },
   {
    "duration": 30,
    "start_time": "2021-09-06T17:47:00.834Z"
   },
   {
    "duration": 29,
    "start_time": "2021-09-06T17:47:15.166Z"
   },
   {
    "duration": 3796,
    "start_time": "2021-09-06T17:52:53.424Z"
   },
   {
    "duration": 3606,
    "start_time": "2021-09-06T18:05:34.528Z"
   },
   {
    "duration": 3904,
    "start_time": "2021-09-06T18:08:36.618Z"
   },
   {
    "duration": 25,
    "start_time": "2021-09-06T18:09:48.812Z"
   },
   {
    "duration": 100,
    "start_time": "2021-09-06T18:10:43.868Z"
   },
   {
    "duration": 92,
    "start_time": "2021-09-06T18:25:19.627Z"
   },
   {
    "duration": 129,
    "start_time": "2021-09-06T18:25:36.771Z"
   },
   {
    "duration": 216,
    "start_time": "2021-09-06T18:25:45.758Z"
   },
   {
    "duration": 202,
    "start_time": "2021-09-06T18:26:58.202Z"
   },
   {
    "duration": 7950,
    "start_time": "2021-09-06T18:28:10.494Z"
   },
   {
    "duration": 244,
    "start_time": "2021-09-06T18:28:31.421Z"
   },
   {
    "duration": 1646,
    "start_time": "2021-09-07T09:33:17.938Z"
   },
   {
    "duration": 573,
    "start_time": "2021-09-07T09:33:19.827Z"
   },
   {
    "duration": 41,
    "start_time": "2021-09-07T09:33:23.058Z"
   },
   {
    "duration": 903,
    "start_time": "2021-09-07T09:33:30.038Z"
   },
   {
    "duration": 23,
    "start_time": "2021-09-07T09:33:39.298Z"
   },
   {
    "duration": 10,
    "start_time": "2021-09-07T09:35:44.451Z"
   },
   {
    "duration": 11,
    "start_time": "2021-09-07T09:35:57.506Z"
   },
   {
    "duration": 10,
    "start_time": "2021-09-07T09:36:44.649Z"
   },
   {
    "duration": 9,
    "start_time": "2021-09-07T09:36:54.464Z"
   },
   {
    "duration": 4,
    "start_time": "2021-09-07T09:39:15.083Z"
   },
   {
    "duration": 513,
    "start_time": "2021-09-07T09:40:49.428Z"
   },
   {
    "duration": 4,
    "start_time": "2021-09-07T09:41:35.391Z"
   },
   {
    "duration": 100,
    "start_time": "2021-09-07T09:41:40.093Z"
   },
   {
    "duration": 8,
    "start_time": "2021-09-07T09:41:43.045Z"
   },
   {
    "duration": 4,
    "start_time": "2021-09-07T09:41:44.282Z"
   },
   {
    "duration": 71,
    "start_time": "2021-09-07T09:46:46.846Z"
   },
   {
    "duration": 6,
    "start_time": "2021-09-07T09:47:14.000Z"
   },
   {
    "duration": 16,
    "start_time": "2021-09-07T09:48:33.142Z"
   },
   {
    "duration": 144,
    "start_time": "2021-09-07T09:53:56.103Z"
   },
   {
    "duration": 6,
    "start_time": "2021-09-07T09:58:33.036Z"
   },
   {
    "duration": 21,
    "start_time": "2021-09-07T10:02:17.074Z"
   },
   {
    "duration": 18,
    "start_time": "2021-09-07T10:07:28.482Z"
   },
   {
    "duration": 94,
    "start_time": "2021-09-07T10:22:59.880Z"
   },
   {
    "duration": 6,
    "start_time": "2021-09-07T10:23:56.362Z"
   },
   {
    "duration": 6,
    "start_time": "2021-09-07T10:25:17.660Z"
   },
   {
    "duration": 6,
    "start_time": "2021-09-07T10:27:52.333Z"
   },
   {
    "duration": 73,
    "start_time": "2021-09-07T10:28:01.550Z"
   },
   {
    "duration": 1440,
    "start_time": "2021-09-07T10:28:12.121Z"
   },
   {
    "duration": 27,
    "start_time": "2021-09-07T10:31:52.988Z"
   },
   {
    "duration": 27,
    "start_time": "2021-09-07T10:32:31.270Z"
   },
   {
    "duration": 24,
    "start_time": "2021-09-07T10:32:35.838Z"
   },
   {
    "duration": 4,
    "start_time": "2021-09-07T10:32:45.411Z"
   },
   {
    "duration": 587,
    "start_time": "2021-09-07T10:32:45.417Z"
   },
   {
    "duration": 38,
    "start_time": "2021-09-07T10:32:46.007Z"
   },
   {
    "duration": 14,
    "start_time": "2021-09-07T10:32:46.047Z"
   },
   {
    "duration": 116,
    "start_time": "2021-09-07T10:32:46.064Z"
   },
   {
    "duration": 6,
    "start_time": "2021-09-07T10:32:46.183Z"
   },
   {
    "duration": 48,
    "start_time": "2021-09-07T10:32:46.192Z"
   },
   {
    "duration": 89,
    "start_time": "2021-09-07T10:32:46.242Z"
   },
   {
    "duration": 14,
    "start_time": "2021-09-07T10:32:46.333Z"
   },
   {
    "duration": 16,
    "start_time": "2021-09-07T10:32:46.350Z"
   },
   {
    "duration": 27,
    "start_time": "2021-09-07T10:32:46.368Z"
   },
   {
    "duration": 24,
    "start_time": "2021-09-07T10:32:46.397Z"
   },
   {
    "duration": 26,
    "start_time": "2021-09-07T10:32:46.423Z"
   },
   {
    "duration": 21,
    "start_time": "2021-09-07T10:32:46.451Z"
   },
   {
    "duration": 20,
    "start_time": "2021-09-07T10:32:49.436Z"
   },
   {
    "duration": 92,
    "start_time": "2021-09-07T10:35:08.843Z"
   },
   {
    "duration": 5,
    "start_time": "2021-09-07T10:35:15.423Z"
   },
   {
    "duration": 5,
    "start_time": "2021-09-07T10:35:17.005Z"
   },
   {
    "duration": 6,
    "start_time": "2021-09-07T10:35:19.265Z"
   },
   {
    "duration": 489,
    "start_time": "2021-09-07T10:35:20.306Z"
   },
   {
    "duration": 6,
    "start_time": "2021-09-07T10:35:21.015Z"
   },
   {
    "duration": 5,
    "start_time": "2021-09-07T10:35:32.729Z"
   },
   {
    "duration": 73,
    "start_time": "2021-09-07T10:35:34.642Z"
   },
   {
    "duration": 77,
    "start_time": "2021-09-07T10:35:36.539Z"
   },
   {
    "duration": 1446,
    "start_time": "2021-09-07T10:35:37.804Z"
   },
   {
    "duration": 47,
    "start_time": "2021-09-07T10:41:07.446Z"
   },
   {
    "duration": 401,
    "start_time": "2021-09-07T10:42:31.794Z"
   },
   {
    "duration": 624,
    "start_time": "2021-09-07T10:43:31.767Z"
   },
   {
    "duration": 44,
    "start_time": "2021-09-07T10:45:42.801Z"
   },
   {
    "duration": 22,
    "start_time": "2021-09-07T10:45:47.488Z"
   },
   {
    "duration": 49,
    "start_time": "2021-09-07T10:47:14.296Z"
   },
   {
    "duration": 29,
    "start_time": "2021-09-07T10:48:07.260Z"
   },
   {
    "duration": 400,
    "start_time": "2021-09-07T10:53:37.126Z"
   },
   {
    "duration": 19,
    "start_time": "2021-09-07T10:53:46.092Z"
   },
   {
    "duration": 11,
    "start_time": "2021-09-07T11:03:08.069Z"
   },
   {
    "duration": 10,
    "start_time": "2021-09-07T11:03:18.153Z"
   },
   {
    "duration": 11,
    "start_time": "2021-09-07T11:03:21.186Z"
   },
   {
    "duration": 28,
    "start_time": "2021-09-07T11:03:41.549Z"
   },
   {
    "duration": 19,
    "start_time": "2021-09-07T11:03:48.016Z"
   },
   {
    "duration": 21,
    "start_time": "2021-09-07T11:04:36.536Z"
   },
   {
    "duration": 24,
    "start_time": "2021-09-07T11:04:36.724Z"
   },
   {
    "duration": 22,
    "start_time": "2021-09-07T11:05:00.556Z"
   },
   {
    "duration": 24,
    "start_time": "2021-09-07T11:05:02.475Z"
   },
   {
    "duration": 5,
    "start_time": "2021-09-07T11:05:46.765Z"
   },
   {
    "duration": 24,
    "start_time": "2021-09-07T11:06:14.585Z"
   },
   {
    "duration": 187,
    "start_time": "2021-09-07T11:10:27.631Z"
   },
   {
    "duration": 10,
    "start_time": "2021-09-07T11:12:29.055Z"
   },
   {
    "duration": 12,
    "start_time": "2021-09-07T11:16:02.353Z"
   },
   {
    "duration": 14887,
    "start_time": "2021-09-07T11:19:27.628Z"
   },
   {
    "duration": 5,
    "start_time": "2021-09-07T11:19:50.115Z"
   },
   {
    "duration": 18,
    "start_time": "2021-09-07T11:20:58.289Z"
   },
   {
    "duration": 12,
    "start_time": "2021-09-07T11:23:03.514Z"
   },
   {
    "duration": 4,
    "start_time": "2021-09-07T11:23:09.644Z"
   },
   {
    "duration": 2552,
    "start_time": "2021-09-07T11:23:09.652Z"
   },
   {
    "duration": 36,
    "start_time": "2021-09-07T11:23:12.207Z"
   },
   {
    "duration": 14,
    "start_time": "2021-09-07T11:23:12.245Z"
   },
   {
    "duration": 110,
    "start_time": "2021-09-07T11:23:12.262Z"
   },
   {
    "duration": 6,
    "start_time": "2021-09-07T11:23:12.375Z"
   },
   {
    "duration": 44,
    "start_time": "2021-09-07T11:23:12.384Z"
   },
   {
    "duration": 70,
    "start_time": "2021-09-07T11:23:12.432Z"
   },
   {
    "duration": 14,
    "start_time": "2021-09-07T11:23:12.504Z"
   },
   {
    "duration": 14,
    "start_time": "2021-09-07T11:23:12.521Z"
   },
   {
    "duration": 26,
    "start_time": "2021-09-07T11:23:12.537Z"
   },
   {
    "duration": 5,
    "start_time": "2021-09-07T11:23:12.565Z"
   },
   {
    "duration": 20,
    "start_time": "2021-09-07T11:23:12.572Z"
   },
   {
    "duration": 29,
    "start_time": "2021-09-07T11:23:12.594Z"
   },
   {
    "duration": 19,
    "start_time": "2021-09-07T11:23:12.626Z"
   },
   {
    "duration": 152,
    "start_time": "2021-09-07T11:23:12.648Z"
   },
   {
    "duration": 19,
    "start_time": "2021-09-07T11:23:12.802Z"
   },
   {
    "duration": 6,
    "start_time": "2021-09-07T11:23:12.824Z"
   },
   {
    "duration": 7,
    "start_time": "2021-09-07T11:23:12.832Z"
   },
   {
    "duration": 8,
    "start_time": "2021-09-07T11:23:12.841Z"
   },
   {
    "duration": 88,
    "start_time": "2021-09-07T11:23:12.851Z"
   },
   {
    "duration": 174,
    "start_time": "2021-09-07T11:23:12.941Z"
   },
   {
    "duration": 98,
    "start_time": "2021-09-07T11:23:13.120Z"
   },
   {
    "duration": 23,
    "start_time": "2021-09-07T11:23:13.221Z"
   },
   {
    "duration": 99,
    "start_time": "2021-09-07T11:23:13.246Z"
   },
   {
    "duration": 51,
    "start_time": "2021-09-07T11:23:13.348Z"
   },
   {
    "duration": 29,
    "start_time": "2021-09-07T11:23:13.417Z"
   },
   {
    "duration": 19,
    "start_time": "2021-09-07T11:23:13.449Z"
   },
   {
    "duration": 8,
    "start_time": "2021-09-07T11:23:13.471Z"
   },
   {
    "duration": 54,
    "start_time": "2021-09-07T11:23:13.482Z"
   },
   {
    "duration": 230,
    "start_time": "2021-09-07T11:23:13.539Z"
   },
   {
    "duration": 16,
    "start_time": "2021-09-07T11:23:52.766Z"
   },
   {
    "duration": 140,
    "start_time": "2021-09-07T11:28:36.924Z"
   },
   {
    "duration": 16,
    "start_time": "2021-09-07T11:28:52.177Z"
   },
   {
    "duration": 26,
    "start_time": "2021-09-07T11:29:56.977Z"
   },
   {
    "duration": 12,
    "start_time": "2021-09-07T11:43:17.098Z"
   },
   {
    "duration": 4,
    "start_time": "2021-09-07T12:04:04.811Z"
   },
   {
    "duration": 600,
    "start_time": "2021-09-07T12:04:04.818Z"
   },
   {
    "duration": 35,
    "start_time": "2021-09-07T12:04:05.420Z"
   },
   {
    "duration": 16,
    "start_time": "2021-09-07T12:04:05.458Z"
   },
   {
    "duration": 120,
    "start_time": "2021-09-07T12:04:05.477Z"
   },
   {
    "duration": 21,
    "start_time": "2021-09-07T12:04:05.600Z"
   },
   {
    "duration": 34,
    "start_time": "2021-09-07T12:04:05.627Z"
   },
   {
    "duration": 108,
    "start_time": "2021-09-07T12:04:05.665Z"
   },
   {
    "duration": 8,
    "start_time": "2021-09-07T12:04:05.776Z"
   },
   {
    "duration": 41,
    "start_time": "2021-09-07T12:04:05.787Z"
   },
   {
    "duration": 29,
    "start_time": "2021-09-07T12:04:05.830Z"
   },
   {
    "duration": 10,
    "start_time": "2021-09-07T12:04:05.862Z"
   },
   {
    "duration": 58,
    "start_time": "2021-09-07T12:04:05.875Z"
   },
   {
    "duration": 17,
    "start_time": "2021-09-07T12:04:05.936Z"
   },
   {
    "duration": 30,
    "start_time": "2021-09-07T12:04:05.955Z"
   },
   {
    "duration": 117,
    "start_time": "2021-09-07T12:04:05.987Z"
   },
   {
    "duration": 6,
    "start_time": "2021-09-07T12:04:06.117Z"
   },
   {
    "duration": 6,
    "start_time": "2021-09-07T12:04:06.126Z"
   },
   {
    "duration": 10,
    "start_time": "2021-09-07T12:04:06.136Z"
   },
   {
    "duration": 9,
    "start_time": "2021-09-07T12:04:06.148Z"
   },
   {
    "duration": 105,
    "start_time": "2021-09-07T12:04:06.159Z"
   },
   {
    "duration": 85,
    "start_time": "2021-09-07T12:04:06.266Z"
   },
   {
    "duration": 45,
    "start_time": "2021-09-07T12:04:06.353Z"
   },
   {
    "duration": 24,
    "start_time": "2021-09-07T12:04:06.416Z"
   },
   {
    "duration": 51,
    "start_time": "2021-09-07T12:04:06.443Z"
   },
   {
    "duration": 68,
    "start_time": "2021-09-07T12:04:06.496Z"
   },
   {
    "duration": 53,
    "start_time": "2021-09-07T12:04:06.566Z"
   },
   {
    "duration": 17,
    "start_time": "2021-09-07T12:04:06.622Z"
   },
   {
    "duration": 5,
    "start_time": "2021-09-07T12:04:06.641Z"
   },
   {
    "duration": 24,
    "start_time": "2021-09-07T12:04:06.648Z"
   },
   {
    "duration": 141,
    "start_time": "2021-09-07T12:04:11.746Z"
   },
   {
    "duration": 17005,
    "start_time": "2021-09-07T12:04:19.187Z"
   },
   {
    "duration": 193,
    "start_time": "2021-09-07T12:07:40.783Z"
   },
   {
    "duration": 16,
    "start_time": "2021-09-07T12:07:47.707Z"
   },
   {
    "duration": 12,
    "start_time": "2021-09-07T12:07:52.739Z"
   },
   {
    "duration": 43,
    "start_time": "2021-09-07T12:09:49.770Z"
   },
   {
    "duration": 45,
    "start_time": "2021-09-07T12:10:25.622Z"
   },
   {
    "duration": 50,
    "start_time": "2021-09-07T12:11:09.800Z"
   },
   {
    "duration": 300,
    "start_time": "2021-09-07T12:12:01.653Z"
   },
   {
    "duration": 549,
    "start_time": "2021-09-07T12:14:27.606Z"
   },
   {
    "duration": 929,
    "start_time": "2021-09-07T12:47:35.450Z"
   },
   {
    "duration": 13551,
    "start_time": "2021-09-07T12:49:56.837Z"
   },
   {
    "duration": 5,
    "start_time": "2021-09-07T12:50:59.153Z"
   },
   {
    "duration": 578,
    "start_time": "2021-09-07T12:50:59.162Z"
   },
   {
    "duration": 40,
    "start_time": "2021-09-07T12:50:59.743Z"
   },
   {
    "duration": 15,
    "start_time": "2021-09-07T12:50:59.786Z"
   },
   {
    "duration": 98,
    "start_time": "2021-09-07T12:50:59.804Z"
   },
   {
    "duration": 12,
    "start_time": "2021-09-07T12:50:59.905Z"
   },
   {
    "duration": 31,
    "start_time": "2021-09-07T12:50:59.919Z"
   },
   {
    "duration": 93,
    "start_time": "2021-09-07T12:50:59.953Z"
   },
   {
    "duration": 7,
    "start_time": "2021-09-07T12:51:00.050Z"
   },
   {
    "duration": 28,
    "start_time": "2021-09-07T12:51:00.060Z"
   },
   {
    "duration": 47,
    "start_time": "2021-09-07T12:51:00.090Z"
   },
   {
    "duration": 8,
    "start_time": "2021-09-07T12:51:00.139Z"
   },
   {
    "duration": 26,
    "start_time": "2021-09-07T12:51:00.150Z"
   },
   {
    "duration": 53,
    "start_time": "2021-09-07T12:51:00.179Z"
   },
   {
    "duration": 29,
    "start_time": "2021-09-07T12:51:00.234Z"
   },
   {
    "duration": 112,
    "start_time": "2021-09-07T12:51:00.265Z"
   },
   {
    "duration": 6,
    "start_time": "2021-09-07T12:51:00.379Z"
   },
   {
    "duration": 13,
    "start_time": "2021-09-07T12:51:00.387Z"
   },
   {
    "duration": 19,
    "start_time": "2021-09-07T12:51:00.402Z"
   },
   {
    "duration": 12,
    "start_time": "2021-09-07T12:51:00.423Z"
   },
   {
    "duration": 87,
    "start_time": "2021-09-07T12:51:00.437Z"
   },
   {
    "duration": 92,
    "start_time": "2021-09-07T12:51:00.527Z"
   },
   {
    "duration": 46,
    "start_time": "2021-09-07T12:51:00.622Z"
   },
   {
    "duration": 44,
    "start_time": "2021-09-07T12:51:00.672Z"
   },
   {
    "duration": 54,
    "start_time": "2021-09-07T12:51:00.719Z"
   },
   {
    "duration": 76,
    "start_time": "2021-09-07T12:51:00.775Z"
   },
   {
    "duration": 30,
    "start_time": "2021-09-07T12:51:00.854Z"
   },
   {
    "duration": 40,
    "start_time": "2021-09-07T12:51:00.886Z"
   },
   {
    "duration": 12,
    "start_time": "2021-09-07T12:51:00.929Z"
   },
   {
    "duration": 35,
    "start_time": "2021-09-07T12:51:00.944Z"
   },
   {
    "duration": 13565,
    "start_time": "2021-09-07T12:51:08.110Z"
   },
   {
    "duration": 5,
    "start_time": "2021-09-07T12:52:10.479Z"
   },
   {
    "duration": 18,
    "start_time": "2021-09-07T12:53:47.966Z"
   },
   {
    "duration": 12,
    "start_time": "2021-09-07T12:55:28.272Z"
   },
   {
    "duration": 52,
    "start_time": "2021-09-07T12:55:28.992Z"
   },
   {
    "duration": 53,
    "start_time": "2021-09-07T12:55:35.391Z"
   },
   {
    "duration": 6,
    "start_time": "2021-09-07T12:56:10.535Z"
   },
   {
    "duration": 63,
    "start_time": "2021-09-07T12:56:40.030Z"
   },
   {
    "duration": 32,
    "start_time": "2021-09-07T13:16:56.441Z"
   },
   {
    "duration": 22,
    "start_time": "2021-09-07T13:19:26.704Z"
   },
   {
    "duration": 523,
    "start_time": "2021-09-07T13:21:00.702Z"
   },
   {
    "duration": 24,
    "start_time": "2021-09-07T13:26:14.733Z"
   },
   {
    "duration": 22,
    "start_time": "2021-09-07T13:28:10.896Z"
   },
   {
    "duration": 23,
    "start_time": "2021-09-07T13:28:23.663Z"
   },
   {
    "duration": 17,
    "start_time": "2021-09-07T13:35:02.241Z"
   },
   {
    "duration": 507,
    "start_time": "2021-09-07T13:36:41.361Z"
   },
   {
    "duration": 395,
    "start_time": "2021-09-07T13:47:46.341Z"
   },
   {
    "duration": 34,
    "start_time": "2021-09-07T13:48:25.795Z"
   },
   {
    "duration": 51,
    "start_time": "2021-09-07T13:48:35.269Z"
   },
   {
    "duration": 58,
    "start_time": "2021-09-07T13:50:47.354Z"
   },
   {
    "duration": 48,
    "start_time": "2021-09-07T13:51:06.673Z"
   },
   {
    "duration": 76,
    "start_time": "2021-09-07T13:54:14.800Z"
   },
   {
    "duration": 68,
    "start_time": "2021-09-07T13:55:22.183Z"
   },
   {
    "duration": 74,
    "start_time": "2021-09-07T13:56:54.405Z"
   },
   {
    "duration": 13,
    "start_time": "2021-09-07T14:10:07.949Z"
   },
   {
    "duration": 277,
    "start_time": "2021-09-07T14:20:36.144Z"
   },
   {
    "duration": 1046,
    "start_time": "2021-09-07T14:27:13.470Z"
   },
   {
    "duration": 268,
    "start_time": "2021-09-07T14:27:43.948Z"
   },
   {
    "duration": 271,
    "start_time": "2021-09-07T14:35:41.177Z"
   },
   {
    "duration": 264,
    "start_time": "2021-09-07T14:36:08.321Z"
   },
   {
    "duration": 353,
    "start_time": "2021-09-07T14:36:58.529Z"
   },
   {
    "duration": 680,
    "start_time": "2021-09-07T14:37:06.483Z"
   },
   {
    "duration": 675,
    "start_time": "2021-09-07T14:46:10.032Z"
   },
   {
    "duration": 662,
    "start_time": "2021-09-07T14:47:00.324Z"
   },
   {
    "duration": 643,
    "start_time": "2021-09-07T14:47:13.003Z"
   },
   {
    "duration": 679,
    "start_time": "2021-09-07T14:47:19.964Z"
   },
   {
    "duration": 283,
    "start_time": "2021-09-07T14:47:30.572Z"
   },
   {
    "duration": 691,
    "start_time": "2021-09-07T14:48:42.468Z"
   },
   {
    "duration": 365,
    "start_time": "2021-09-07T14:51:13.675Z"
   },
   {
    "duration": 463,
    "start_time": "2021-09-07T16:08:37.977Z"
   },
   {
    "duration": 1231,
    "start_time": "2021-09-07T16:08:44.424Z"
   },
   {
    "duration": 466,
    "start_time": "2021-09-07T16:08:45.658Z"
   },
   {
    "duration": 43,
    "start_time": "2021-09-07T16:08:46.127Z"
   },
   {
    "duration": 16,
    "start_time": "2021-09-07T16:08:46.173Z"
   },
   {
    "duration": 101,
    "start_time": "2021-09-07T16:08:46.192Z"
   },
   {
    "duration": 7,
    "start_time": "2021-09-07T16:08:46.296Z"
   },
   {
    "duration": 30,
    "start_time": "2021-09-07T16:08:46.305Z"
   },
   {
    "duration": 91,
    "start_time": "2021-09-07T16:08:46.340Z"
   },
   {
    "duration": 6,
    "start_time": "2021-09-07T16:08:46.434Z"
   },
   {
    "duration": 16,
    "start_time": "2021-09-07T16:08:46.442Z"
   },
   {
    "duration": 46,
    "start_time": "2021-09-07T16:08:46.460Z"
   },
   {
    "duration": 5,
    "start_time": "2021-09-07T16:08:46.508Z"
   },
   {
    "duration": 20,
    "start_time": "2021-09-07T16:08:46.516Z"
   },
   {
    "duration": 55,
    "start_time": "2021-09-07T16:08:46.538Z"
   },
   {
    "duration": 29,
    "start_time": "2021-09-07T16:08:46.596Z"
   },
   {
    "duration": 130,
    "start_time": "2021-09-07T16:08:46.628Z"
   },
   {
    "duration": 6,
    "start_time": "2021-09-07T16:08:46.761Z"
   },
   {
    "duration": 17,
    "start_time": "2021-09-07T16:08:46.769Z"
   },
   {
    "duration": 8,
    "start_time": "2021-09-07T16:08:46.788Z"
   },
   {
    "duration": 6,
    "start_time": "2021-09-07T16:08:46.799Z"
   },
   {
    "duration": 97,
    "start_time": "2021-09-07T16:08:46.808Z"
   },
   {
    "duration": 93,
    "start_time": "2021-09-07T16:08:46.907Z"
   },
   {
    "duration": 45,
    "start_time": "2021-09-07T16:08:47.004Z"
   },
   {
    "duration": 38,
    "start_time": "2021-09-07T16:08:47.052Z"
   },
   {
    "duration": 44,
    "start_time": "2021-09-07T16:08:47.093Z"
   },
   {
    "duration": 68,
    "start_time": "2021-09-07T16:08:47.139Z"
   },
   {
    "duration": 28,
    "start_time": "2021-09-07T16:08:47.210Z"
   },
   {
    "duration": 16,
    "start_time": "2021-09-07T16:08:47.241Z"
   },
   {
    "duration": 4,
    "start_time": "2021-09-07T16:08:47.283Z"
   },
   {
    "duration": 24,
    "start_time": "2021-09-07T16:08:47.289Z"
   },
   {
    "duration": 12870,
    "start_time": "2021-09-07T16:08:47.315Z"
   },
   {
    "duration": 19,
    "start_time": "2021-09-07T16:09:00.188Z"
   },
   {
    "duration": 113,
    "start_time": "2021-09-07T16:09:00.211Z"
   },
   {
    "duration": 10,
    "start_time": "2021-09-07T16:09:00.326Z"
   },
   {
    "duration": 62,
    "start_time": "2021-09-07T16:09:43.102Z"
   },
   {
    "duration": 67,
    "start_time": "2021-09-07T16:09:45.118Z"
   },
   {
    "duration": 42,
    "start_time": "2021-09-07T16:09:48.061Z"
   },
   {
    "duration": 63,
    "start_time": "2021-09-07T16:09:52.735Z"
   },
   {
    "duration": 66,
    "start_time": "2021-09-07T16:09:55.002Z"
   },
   {
    "duration": 57,
    "start_time": "2021-09-07T16:10:10.795Z"
   },
   {
    "duration": 10,
    "start_time": "2021-09-07T16:10:21.623Z"
   },
   {
    "duration": 273,
    "start_time": "2021-09-07T16:10:23.264Z"
   },
   {
    "duration": 239,
    "start_time": "2021-09-07T16:12:49.911Z"
   },
   {
    "duration": 230,
    "start_time": "2021-09-07T16:13:48.755Z"
   },
   {
    "duration": 389,
    "start_time": "2021-09-07T16:16:06.454Z"
   },
   {
    "duration": 789,
    "start_time": "2021-09-07T16:16:33.500Z"
   },
   {
    "duration": 254,
    "start_time": "2021-09-07T16:17:10.974Z"
   },
   {
    "duration": 779,
    "start_time": "2021-09-07T16:17:16.149Z"
   },
   {
    "duration": 869,
    "start_time": "2021-09-07T16:19:49.813Z"
   },
   {
    "duration": 532,
    "start_time": "2021-09-07T16:20:03.507Z"
   },
   {
    "duration": 569,
    "start_time": "2021-09-07T16:20:28.593Z"
   },
   {
    "duration": 498,
    "start_time": "2021-09-07T16:20:43.177Z"
   },
   {
    "duration": 327,
    "start_time": "2021-09-07T16:23:14.825Z"
   },
   {
    "duration": 478,
    "start_time": "2021-09-07T16:24:47.649Z"
   },
   {
    "duration": 299,
    "start_time": "2021-09-07T16:28:53.776Z"
   },
   {
    "duration": 345,
    "start_time": "2021-09-07T16:29:17.666Z"
   },
   {
    "duration": 463,
    "start_time": "2021-09-07T16:31:18.404Z"
   },
   {
    "duration": 618,
    "start_time": "2021-09-07T16:32:49.656Z"
   },
   {
    "duration": 585,
    "start_time": "2021-09-07T16:33:07.634Z"
   },
   {
    "duration": 474,
    "start_time": "2021-09-07T16:36:02.716Z"
   },
   {
    "duration": 445,
    "start_time": "2021-09-07T16:40:31.889Z"
   },
   {
    "duration": 444,
    "start_time": "2021-09-07T16:40:39.607Z"
   },
   {
    "duration": 485,
    "start_time": "2021-09-07T16:42:11.823Z"
   },
   {
    "duration": 488,
    "start_time": "2021-09-07T16:42:42.923Z"
   },
   {
    "duration": 472,
    "start_time": "2021-09-07T16:44:57.614Z"
   },
   {
    "duration": 462,
    "start_time": "2021-09-07T16:45:09.173Z"
   },
   {
    "duration": 466,
    "start_time": "2021-09-07T16:45:14.649Z"
   },
   {
    "duration": 476,
    "start_time": "2021-09-07T16:45:33.256Z"
   },
   {
    "duration": 464,
    "start_time": "2021-09-07T16:45:43.830Z"
   },
   {
    "duration": 594,
    "start_time": "2021-09-07T17:07:55.672Z"
   },
   {
    "duration": 494,
    "start_time": "2021-09-07T17:08:09.345Z"
   },
   {
    "duration": 489,
    "start_time": "2021-09-07T17:13:41.965Z"
   },
   {
    "duration": 547,
    "start_time": "2021-09-07T17:13:57.210Z"
   },
   {
    "duration": 449,
    "start_time": "2021-09-07T17:14:08.786Z"
   },
   {
    "duration": 4,
    "start_time": "2021-09-07T17:33:18.416Z"
   },
   {
    "duration": 8,
    "start_time": "2021-09-07T17:39:35.465Z"
   },
   {
    "duration": 87,
    "start_time": "2021-09-07T17:46:18.359Z"
   },
   {
    "duration": 306,
    "start_time": "2021-09-07T17:48:18.204Z"
   },
   {
    "duration": 11,
    "start_time": "2021-09-07T17:48:35.367Z"
   },
   {
    "duration": 6,
    "start_time": "2021-09-07T17:50:12.431Z"
   },
   {
    "duration": 7,
    "start_time": "2021-09-07T17:50:55.562Z"
   },
   {
    "duration": 339,
    "start_time": "2021-09-07T17:53:04.916Z"
   },
   {
    "duration": 14,
    "start_time": "2021-09-07T17:53:32.705Z"
   },
   {
    "duration": 8,
    "start_time": "2021-09-07T17:53:33.718Z"
   },
   {
    "duration": 8,
    "start_time": "2021-09-07T17:53:36.977Z"
   },
   {
    "duration": 72,
    "start_time": "2021-09-07T17:55:53.889Z"
   },
   {
    "duration": 8,
    "start_time": "2021-09-07T17:56:03.201Z"
   },
   {
    "duration": 4,
    "start_time": "2021-09-07T18:17:27.303Z"
   },
   {
    "duration": 479,
    "start_time": "2021-09-07T18:17:27.309Z"
   },
   {
    "duration": 32,
    "start_time": "2021-09-07T18:17:27.791Z"
   },
   {
    "duration": 13,
    "start_time": "2021-09-07T18:17:27.826Z"
   },
   {
    "duration": 167,
    "start_time": "2021-09-07T18:17:27.841Z"
   },
   {
    "duration": 8,
    "start_time": "2021-09-07T18:17:28.011Z"
   },
   {
    "duration": 64,
    "start_time": "2021-09-07T18:17:28.024Z"
   },
   {
    "duration": 63,
    "start_time": "2021-09-07T18:17:28.091Z"
   },
   {
    "duration": 28,
    "start_time": "2021-09-07T18:17:28.157Z"
   },
   {
    "duration": 17,
    "start_time": "2021-09-07T18:17:28.188Z"
   },
   {
    "duration": 24,
    "start_time": "2021-09-07T18:17:28.208Z"
   },
   {
    "duration": 50,
    "start_time": "2021-09-07T18:17:28.234Z"
   },
   {
    "duration": 29,
    "start_time": "2021-09-07T18:17:28.287Z"
   },
   {
    "duration": 19,
    "start_time": "2021-09-07T18:17:28.319Z"
   },
   {
    "duration": 50,
    "start_time": "2021-09-07T18:17:28.341Z"
   },
   {
    "duration": 101,
    "start_time": "2021-09-07T18:17:28.394Z"
   },
   {
    "duration": 7,
    "start_time": "2021-09-07T18:17:28.497Z"
   },
   {
    "duration": 8,
    "start_time": "2021-09-07T18:17:28.506Z"
   },
   {
    "duration": 6,
    "start_time": "2021-09-07T18:17:28.520Z"
   },
   {
    "duration": 7,
    "start_time": "2021-09-07T18:17:28.529Z"
   },
   {
    "duration": 116,
    "start_time": "2021-09-07T18:17:28.538Z"
   },
   {
    "duration": 131,
    "start_time": "2021-09-07T18:17:28.657Z"
   },
   {
    "duration": 63,
    "start_time": "2021-09-07T18:17:28.791Z"
   },
   {
    "duration": 55,
    "start_time": "2021-09-07T18:17:28.857Z"
   },
   {
    "duration": 84,
    "start_time": "2021-09-07T18:17:28.915Z"
   },
   {
    "duration": 85,
    "start_time": "2021-09-07T18:17:29.002Z"
   },
   {
    "duration": 42,
    "start_time": "2021-09-07T18:17:29.090Z"
   },
   {
    "duration": 47,
    "start_time": "2021-09-07T18:17:29.135Z"
   },
   {
    "duration": 4,
    "start_time": "2021-09-07T18:17:29.185Z"
   },
   {
    "duration": 26,
    "start_time": "2021-09-07T18:17:29.192Z"
   },
   {
    "duration": 12583,
    "start_time": "2021-09-07T18:17:29.220Z"
   },
   {
    "duration": 18,
    "start_time": "2021-09-07T18:17:41.805Z"
   },
   {
    "duration": 90,
    "start_time": "2021-09-07T18:17:41.826Z"
   },
   {
    "duration": 11,
    "start_time": "2021-09-07T18:17:41.918Z"
   },
   {
    "duration": 562,
    "start_time": "2021-09-07T18:17:41.932Z"
   },
   {
    "duration": 540,
    "start_time": "2021-09-07T18:17:42.497Z"
   },
   {
    "duration": 275,
    "start_time": "2021-09-07T18:17:43.040Z"
   },
   {
    "duration": 76,
    "start_time": "2021-09-07T18:17:43.318Z"
   },
   {
    "duration": -382,
    "start_time": "2021-09-07T18:17:43.778Z"
   },
   {
    "duration": -429,
    "start_time": "2021-09-07T18:17:43.827Z"
   },
   {
    "duration": -441,
    "start_time": "2021-09-07T18:17:43.841Z"
   },
   {
    "duration": -452,
    "start_time": "2021-09-07T18:17:43.853Z"
   },
   {
    "duration": -464,
    "start_time": "2021-09-07T18:17:43.867Z"
   },
   {
    "duration": -474,
    "start_time": "2021-09-07T18:17:43.878Z"
   },
   {
    "duration": -509,
    "start_time": "2021-09-07T18:17:43.915Z"
   },
   {
    "duration": -515,
    "start_time": "2021-09-07T18:17:43.923Z"
   },
   {
    "duration": -521,
    "start_time": "2021-09-07T18:17:43.930Z"
   },
   {
    "duration": -527,
    "start_time": "2021-09-07T18:17:43.938Z"
   },
   {
    "duration": 391,
    "start_time": "2021-09-08T05:59:05.185Z"
   },
   {
    "duration": 1233,
    "start_time": "2021-09-08T05:59:11.168Z"
   },
   {
    "duration": 451,
    "start_time": "2021-09-08T05:59:12.404Z"
   },
   {
    "duration": 35,
    "start_time": "2021-09-08T05:59:12.858Z"
   },
   {
    "duration": 16,
    "start_time": "2021-09-08T05:59:12.895Z"
   },
   {
    "duration": 92,
    "start_time": "2021-09-08T05:59:12.913Z"
   },
   {
    "duration": 6,
    "start_time": "2021-09-08T05:59:13.007Z"
   },
   {
    "duration": 26,
    "start_time": "2021-09-08T05:59:13.015Z"
   },
   {
    "duration": 77,
    "start_time": "2021-09-08T05:59:13.044Z"
   },
   {
    "duration": 6,
    "start_time": "2021-09-08T05:59:13.124Z"
   },
   {
    "duration": 15,
    "start_time": "2021-09-08T05:59:13.132Z"
   },
   {
    "duration": 40,
    "start_time": "2021-09-08T05:59:13.149Z"
   },
   {
    "duration": 4,
    "start_time": "2021-09-08T05:59:13.191Z"
   },
   {
    "duration": 15,
    "start_time": "2021-09-08T05:59:13.196Z"
   },
   {
    "duration": 13,
    "start_time": "2021-09-08T05:59:13.213Z"
   },
   {
    "duration": 56,
    "start_time": "2021-09-08T05:59:13.228Z"
   },
   {
    "duration": 76,
    "start_time": "2021-09-08T05:59:13.286Z"
   },
   {
    "duration": 5,
    "start_time": "2021-09-08T05:59:13.376Z"
   },
   {
    "duration": 5,
    "start_time": "2021-09-08T05:59:13.383Z"
   },
   {
    "duration": 5,
    "start_time": "2021-09-08T05:59:13.390Z"
   },
   {
    "duration": 6,
    "start_time": "2021-09-08T05:59:13.397Z"
   },
   {
    "duration": 81,
    "start_time": "2021-09-08T05:59:13.405Z"
   },
   {
    "duration": 77,
    "start_time": "2021-09-08T05:59:13.488Z"
   },
   {
    "duration": 39,
    "start_time": "2021-09-08T05:59:13.577Z"
   },
   {
    "duration": 18,
    "start_time": "2021-09-08T05:59:13.618Z"
   },
   {
    "duration": 61,
    "start_time": "2021-09-08T05:59:13.638Z"
   },
   {
    "duration": 36,
    "start_time": "2021-09-08T05:59:13.701Z"
   },
   {
    "duration": 41,
    "start_time": "2021-09-08T05:59:13.739Z"
   },
   {
    "duration": 13,
    "start_time": "2021-09-08T05:59:13.783Z"
   },
   {
    "duration": 4,
    "start_time": "2021-09-08T05:59:13.798Z"
   },
   {
    "duration": 18,
    "start_time": "2021-09-08T05:59:13.804Z"
   },
   {
    "duration": 8331,
    "start_time": "2021-09-08T05:59:13.824Z"
   },
   {
    "duration": 21,
    "start_time": "2021-09-08T05:59:22.157Z"
   },
   {
    "duration": 43,
    "start_time": "2021-09-08T05:59:22.180Z"
   },
   {
    "duration": 8,
    "start_time": "2021-09-08T05:59:22.225Z"
   },
   {
    "duration": 401,
    "start_time": "2021-09-08T05:59:22.235Z"
   },
   {
    "duration": 417,
    "start_time": "2021-09-08T05:59:22.638Z"
   },
   {
    "duration": 197,
    "start_time": "2021-09-08T05:59:23.057Z"
   },
   {
    "duration": 502,
    "start_time": "2021-09-08T05:59:23.256Z"
   },
   {
    "duration": 396,
    "start_time": "2021-09-08T05:59:23.760Z"
   },
   {
    "duration": 185,
    "start_time": "2021-09-08T05:59:24.159Z"
   },
   {
    "duration": 392,
    "start_time": "2021-09-08T05:59:24.346Z"
   },
   {
    "duration": 380,
    "start_time": "2021-09-08T05:59:24.740Z"
   },
   {
    "duration": 187,
    "start_time": "2021-09-08T05:59:25.122Z"
   },
   {
    "duration": 6,
    "start_time": "2021-09-08T05:59:25.311Z"
   },
   {
    "duration": 11,
    "start_time": "2021-09-08T05:59:25.318Z"
   },
   {
    "duration": 6,
    "start_time": "2021-09-08T05:59:25.332Z"
   },
   {
    "duration": 7,
    "start_time": "2021-09-08T05:59:25.340Z"
   },
   {
    "duration": 1405,
    "start_time": "2021-09-08T06:29:20.978Z"
   },
   {
    "duration": 594,
    "start_time": "2021-09-08T06:29:22.385Z"
   },
   {
    "duration": 42,
    "start_time": "2021-09-08T06:29:22.982Z"
   },
   {
    "duration": 29,
    "start_time": "2021-09-08T06:29:23.028Z"
   },
   {
    "duration": 118,
    "start_time": "2021-09-08T06:29:23.060Z"
   },
   {
    "duration": 8,
    "start_time": "2021-09-08T06:29:23.180Z"
   },
   {
    "duration": 55,
    "start_time": "2021-09-08T06:29:23.191Z"
   },
   {
    "duration": 96,
    "start_time": "2021-09-08T06:29:23.249Z"
   },
   {
    "duration": 7,
    "start_time": "2021-09-08T06:29:23.349Z"
   },
   {
    "duration": 16,
    "start_time": "2021-09-08T06:29:23.359Z"
   },
   {
    "duration": 59,
    "start_time": "2021-09-08T06:29:23.377Z"
   },
   {
    "duration": 5,
    "start_time": "2021-09-08T06:29:23.439Z"
   },
   {
    "duration": 21,
    "start_time": "2021-09-08T06:29:23.446Z"
   },
   {
    "duration": 66,
    "start_time": "2021-09-08T06:29:23.470Z"
   },
   {
    "duration": 20,
    "start_time": "2021-09-08T06:29:23.538Z"
   },
   {
    "duration": 129,
    "start_time": "2021-09-08T06:29:23.561Z"
   },
   {
    "duration": 6,
    "start_time": "2021-09-08T06:29:23.693Z"
   },
   {
    "duration": 17,
    "start_time": "2021-09-08T06:29:23.702Z"
   },
   {
    "duration": 11,
    "start_time": "2021-09-08T06:29:23.721Z"
   },
   {
    "duration": 21,
    "start_time": "2021-09-08T06:29:23.734Z"
   },
   {
    "duration": 96,
    "start_time": "2021-09-08T06:29:23.757Z"
   },
   {
    "duration": 101,
    "start_time": "2021-09-08T06:29:23.856Z"
   },
   {
    "duration": 68,
    "start_time": "2021-09-08T06:29:23.959Z"
   },
   {
    "duration": 25,
    "start_time": "2021-09-08T06:29:24.030Z"
   },
   {
    "duration": 84,
    "start_time": "2021-09-08T06:29:24.058Z"
   },
   {
    "duration": 74,
    "start_time": "2021-09-08T06:29:24.146Z"
   },
   {
    "duration": 34,
    "start_time": "2021-09-08T06:29:24.228Z"
   },
   {
    "duration": 19,
    "start_time": "2021-09-08T06:29:24.265Z"
   },
   {
    "duration": 33,
    "start_time": "2021-09-08T06:29:24.286Z"
   },
   {
    "duration": 31,
    "start_time": "2021-09-08T06:29:24.322Z"
   },
   {
    "duration": 14313,
    "start_time": "2021-09-08T06:29:24.356Z"
   },
   {
    "duration": 17,
    "start_time": "2021-09-08T06:29:38.671Z"
   },
   {
    "duration": 89,
    "start_time": "2021-09-08T06:29:38.690Z"
   },
   {
    "duration": 10,
    "start_time": "2021-09-08T06:29:38.781Z"
   },
   {
    "duration": 529,
    "start_time": "2021-09-08T06:29:38.793Z"
   },
   {
    "duration": 633,
    "start_time": "2021-09-08T06:29:39.326Z"
   },
   {
    "duration": 340,
    "start_time": "2021-09-08T06:29:39.963Z"
   },
   {
    "duration": 663,
    "start_time": "2021-09-08T06:29:40.306Z"
   },
   {
    "duration": 581,
    "start_time": "2021-09-08T06:29:40.972Z"
   },
   {
    "duration": 299,
    "start_time": "2021-09-08T06:29:41.556Z"
   },
   {
    "duration": 520,
    "start_time": "2021-09-08T06:29:41.858Z"
   },
   {
    "duration": 527,
    "start_time": "2021-09-08T06:29:42.381Z"
   },
   {
    "duration": 272,
    "start_time": "2021-09-08T06:29:42.911Z"
   },
   {
    "duration": 8,
    "start_time": "2021-09-08T06:29:43.185Z"
   },
   {
    "duration": 28,
    "start_time": "2021-09-08T06:29:43.196Z"
   },
   {
    "duration": 10,
    "start_time": "2021-09-08T06:29:43.230Z"
   },
   {
    "duration": 11,
    "start_time": "2021-09-08T06:29:43.242Z"
   },
   {
    "duration": 3,
    "start_time": "2021-09-08T07:10:19.009Z"
   },
   {
    "duration": 460,
    "start_time": "2021-09-08T07:10:21.452Z"
   },
   {
    "duration": 29,
    "start_time": "2021-09-08T07:10:25.732Z"
   },
   {
    "duration": 12,
    "start_time": "2021-09-08T07:10:30.913Z"
   },
   {
    "duration": 67,
    "start_time": "2021-09-08T07:10:32.406Z"
   },
   {
    "duration": 6,
    "start_time": "2021-09-08T07:10:37.914Z"
   },
   {
    "duration": 28,
    "start_time": "2021-09-08T07:10:45.180Z"
   },
   {
    "duration": 436,
    "start_time": "2021-09-08T07:25:15.836Z"
   },
   {
    "duration": 516,
    "start_time": "2021-09-08T07:25:35.930Z"
   },
   {
    "duration": 26,
    "start_time": "2021-09-08T07:25:39.560Z"
   },
   {
    "duration": 564,
    "start_time": "2021-09-08T07:27:38.340Z"
   },
   {
    "duration": 23,
    "start_time": "2021-09-08T07:27:42.514Z"
   },
   {
    "duration": 18,
    "start_time": "2021-09-08T07:27:43.678Z"
   },
   {
    "duration": 117,
    "start_time": "2021-09-08T07:27:45.083Z"
   },
   {
    "duration": 6,
    "start_time": "2021-09-08T07:27:48.197Z"
   },
   {
    "duration": 21,
    "start_time": "2021-09-08T07:27:50.250Z"
   },
   {
    "duration": 5,
    "start_time": "2021-09-08T07:27:57.033Z"
   },
   {
    "duration": 10,
    "start_time": "2021-09-08T07:27:57.794Z"
   },
   {
    "duration": 18,
    "start_time": "2021-09-08T07:28:05.603Z"
   },
   {
    "duration": 6,
    "start_time": "2021-09-08T07:28:10.919Z"
   },
   {
    "duration": 15,
    "start_time": "2021-09-08T07:29:14.399Z"
   },
   {
    "duration": 16,
    "start_time": "2021-09-08T07:29:30.472Z"
   },
   {
    "duration": 20,
    "start_time": "2021-09-08T07:30:22.402Z"
   },
   {
    "duration": 20,
    "start_time": "2021-09-08T07:32:38.741Z"
   },
   {
    "duration": 141,
    "start_time": "2021-09-08T07:54:53.616Z"
   },
   {
    "duration": 2209,
    "start_time": "2021-09-08T07:55:19.541Z"
   },
   {
    "duration": 649,
    "start_time": "2021-09-08T07:56:06.059Z"
   },
   {
    "duration": 645,
    "start_time": "2021-09-08T07:58:09.897Z"
   },
   {
    "duration": 742,
    "start_time": "2021-09-08T08:01:36.239Z"
   },
   {
    "duration": 647,
    "start_time": "2021-09-08T08:02:17.688Z"
   },
   {
    "duration": 567,
    "start_time": "2021-09-08T08:03:40.036Z"
   },
   {
    "duration": 657,
    "start_time": "2021-09-08T08:04:06.962Z"
   },
   {
    "duration": 559,
    "start_time": "2021-09-08T08:04:20.676Z"
   },
   {
    "duration": 618,
    "start_time": "2021-09-08T08:04:45.121Z"
   },
   {
    "duration": 6,
    "start_time": "2021-09-08T08:05:54.999Z"
   },
   {
    "duration": 869,
    "start_time": "2021-09-08T08:06:14.494Z"
   },
   {
    "duration": 850,
    "start_time": "2021-09-08T08:10:45.825Z"
   },
   {
    "duration": 136,
    "start_time": "2021-09-08T08:11:26.220Z"
   },
   {
    "duration": 5,
    "start_time": "2021-09-08T08:11:44.844Z"
   },
   {
    "duration": 10362,
    "start_time": "2021-09-08T08:11:58.484Z"
   },
   {
    "duration": 9301,
    "start_time": "2021-09-08T08:12:53.359Z"
   },
   {
    "duration": 3,
    "start_time": "2021-09-08T08:13:22.161Z"
   },
   {
    "duration": 542,
    "start_time": "2021-09-08T08:13:22.166Z"
   },
   {
    "duration": 26,
    "start_time": "2021-09-08T08:13:22.710Z"
   },
   {
    "duration": 14,
    "start_time": "2021-09-08T08:13:22.738Z"
   },
   {
    "duration": 74,
    "start_time": "2021-09-08T08:13:22.755Z"
   },
   {
    "duration": 7,
    "start_time": "2021-09-08T08:13:22.831Z"
   },
   {
    "duration": 36,
    "start_time": "2021-09-08T08:13:22.842Z"
   },
   {
    "duration": 8,
    "start_time": "2021-09-08T08:13:22.881Z"
   },
   {
    "duration": 16,
    "start_time": "2021-09-08T08:13:22.891Z"
   },
   {
    "duration": 32,
    "start_time": "2021-09-08T08:13:22.910Z"
   },
   {
    "duration": 5,
    "start_time": "2021-09-08T08:13:22.944Z"
   },
   {
    "duration": 38,
    "start_time": "2021-09-08T08:13:22.951Z"
   },
   {
    "duration": 18,
    "start_time": "2021-09-08T08:13:22.991Z"
   },
   {
    "duration": 29,
    "start_time": "2021-09-08T08:13:23.011Z"
   },
   {
    "duration": 4,
    "start_time": "2021-09-08T08:13:23.042Z"
   },
   {
    "duration": 32,
    "start_time": "2021-09-08T08:13:23.048Z"
   },
   {
    "duration": 8,
    "start_time": "2021-09-08T08:13:23.082Z"
   },
   {
    "duration": 4,
    "start_time": "2021-09-08T08:13:23.093Z"
   },
   {
    "duration": 81,
    "start_time": "2021-09-08T08:13:23.101Z"
   },
   {
    "duration": 69,
    "start_time": "2021-09-08T08:13:23.185Z"
   },
   {
    "duration": 48,
    "start_time": "2021-09-08T08:13:23.256Z"
   },
   {
    "duration": 17,
    "start_time": "2021-09-08T08:13:23.306Z"
   },
   {
    "duration": 54,
    "start_time": "2021-09-08T08:13:23.325Z"
   },
   {
    "duration": 40,
    "start_time": "2021-09-08T08:13:23.381Z"
   },
   {
    "duration": 22,
    "start_time": "2021-09-08T08:13:23.423Z"
   },
   {
    "duration": 34,
    "start_time": "2021-09-08T08:13:23.447Z"
   },
   {
    "duration": 8,
    "start_time": "2021-09-08T08:13:23.483Z"
   },
   {
    "duration": 20,
    "start_time": "2021-09-08T08:13:23.493Z"
   },
   {
    "duration": 9437,
    "start_time": "2021-09-08T08:13:28.605Z"
   },
   {
    "duration": 127,
    "start_time": "2021-09-08T08:14:29.206Z"
   },
   {
    "duration": 843,
    "start_time": "2021-09-08T08:14:42.358Z"
   },
   {
    "duration": 835,
    "start_time": "2021-09-08T08:15:06.436Z"
   },
   {
    "duration": 1272,
    "start_time": "2021-09-08T08:15:44.914Z"
   },
   {
    "duration": 122,
    "start_time": "2021-09-08T08:18:08.842Z"
   },
   {
    "duration": 655,
    "start_time": "2021-09-08T08:18:26.400Z"
   },
   {
    "duration": 1874,
    "start_time": "2021-09-08T08:20:35.868Z"
   },
   {
    "duration": 658,
    "start_time": "2021-09-08T08:23:18.707Z"
   },
   {
    "duration": 9292,
    "start_time": "2021-09-08T08:26:50.245Z"
   },
   {
    "duration": 636,
    "start_time": "2021-09-08T08:28:53.676Z"
   },
   {
    "duration": 530,
    "start_time": "2021-09-08T08:29:10.511Z"
   },
   {
    "duration": 388,
    "start_time": "2021-09-08T08:30:51.094Z"
   },
   {
    "duration": 436,
    "start_time": "2021-09-08T08:31:06.450Z"
   },
   {
    "duration": 394,
    "start_time": "2021-09-08T08:31:21.556Z"
   },
   {
    "duration": 11,
    "start_time": "2021-09-08T08:32:16.036Z"
   },
   {
    "duration": 11,
    "start_time": "2021-09-08T08:32:25.375Z"
   },
   {
    "duration": 7,
    "start_time": "2021-09-08T08:33:19.355Z"
   },
   {
    "duration": 12,
    "start_time": "2021-09-08T08:33:28.883Z"
   },
   {
    "duration": 618,
    "start_time": "2021-09-08T08:33:49.116Z"
   },
   {
    "duration": 1041,
    "start_time": "2021-09-08T08:34:31.297Z"
   },
   {
    "duration": 375,
    "start_time": "2021-09-08T08:38:04.833Z"
   },
   {
    "duration": 7,
    "start_time": "2021-09-08T08:38:30.932Z"
   },
   {
    "duration": 377,
    "start_time": "2021-09-08T08:38:41.228Z"
   },
   {
    "duration": 7,
    "start_time": "2021-09-08T08:39:18.210Z"
   },
   {
    "duration": 7,
    "start_time": "2021-09-08T08:39:31.723Z"
   },
   {
    "duration": 763,
    "start_time": "2021-09-08T08:40:31.074Z"
   },
   {
    "duration": 392,
    "start_time": "2021-09-08T08:41:10.006Z"
   },
   {
    "duration": 7,
    "start_time": "2021-09-08T08:41:27.785Z"
   },
   {
    "duration": 5839,
    "start_time": "2021-09-08T08:41:46.493Z"
   },
   {
    "duration": 125,
    "start_time": "2021-09-08T08:42:46.747Z"
   },
   {
    "duration": 670,
    "start_time": "2021-09-08T08:45:52.428Z"
   },
   {
    "duration": 5936,
    "start_time": "2021-09-08T08:46:43.001Z"
   },
   {
    "duration": 13,
    "start_time": "2021-09-08T08:46:57.121Z"
   },
   {
    "duration": 446,
    "start_time": "2021-09-08T08:49:13.847Z"
   },
   {
    "duration": 693,
    "start_time": "2021-09-08T08:52:15.421Z"
   },
   {
    "duration": 571,
    "start_time": "2021-09-08T08:54:05.627Z"
   },
   {
    "duration": 552,
    "start_time": "2021-09-08T08:54:45.954Z"
   },
   {
    "duration": 497,
    "start_time": "2021-09-08T08:55:19.721Z"
   },
   {
    "duration": 475,
    "start_time": "2021-09-08T08:55:36.456Z"
   },
   {
    "duration": 710,
    "start_time": "2021-09-08T08:56:41.277Z"
   },
   {
    "duration": 755,
    "start_time": "2021-09-08T08:57:20.833Z"
   },
   {
    "duration": 725,
    "start_time": "2021-09-08T08:57:30.834Z"
   },
   {
    "duration": 521,
    "start_time": "2021-09-08T08:59:04.565Z"
   },
   {
    "duration": 545,
    "start_time": "2021-09-08T08:59:51.337Z"
   },
   {
    "duration": 543,
    "start_time": "2021-09-08T08:59:59.800Z"
   },
   {
    "duration": 186,
    "start_time": "2021-09-08T09:00:53.435Z"
   },
   {
    "duration": 654,
    "start_time": "2021-09-08T09:01:03.490Z"
   },
   {
    "duration": 582,
    "start_time": "2021-09-08T09:01:27.202Z"
   },
   {
    "duration": 882,
    "start_time": "2021-09-08T09:04:39.176Z"
   },
   {
    "duration": 581,
    "start_time": "2021-09-08T09:05:57.511Z"
   },
   {
    "duration": 554,
    "start_time": "2021-09-08T09:07:46.379Z"
   },
   {
    "duration": 3,
    "start_time": "2021-09-08T09:22:25.142Z"
   },
   {
    "duration": 191,
    "start_time": "2021-09-08T09:22:31.177Z"
   },
   {
    "duration": 577,
    "start_time": "2021-09-08T09:27:15.605Z"
   },
   {
    "duration": 619,
    "start_time": "2021-09-08T09:29:24.610Z"
   },
   {
    "duration": 654,
    "start_time": "2021-09-08T09:29:35.408Z"
   },
   {
    "duration": 537,
    "start_time": "2021-09-08T09:29:50.332Z"
   },
   {
    "duration": 535,
    "start_time": "2021-09-08T09:30:07.305Z"
   },
   {
    "duration": 554,
    "start_time": "2021-09-08T09:30:24.024Z"
   },
   {
    "duration": 170,
    "start_time": "2021-09-08T09:30:38.845Z"
   },
   {
    "duration": 527,
    "start_time": "2021-09-08T09:33:56.032Z"
   },
   {
    "duration": 756,
    "start_time": "2021-09-08T09:34:07.865Z"
   },
   {
    "duration": 552,
    "start_time": "2021-09-08T09:34:21.174Z"
   },
   {
    "duration": 583,
    "start_time": "2021-09-08T09:34:30.447Z"
   },
   {
    "duration": 171,
    "start_time": "2021-09-08T09:34:45.396Z"
   },
   {
    "duration": 543,
    "start_time": "2021-09-08T09:38:53.868Z"
   },
   {
    "duration": 478,
    "start_time": "2021-09-08T09:39:59.768Z"
   },
   {
    "duration": -56,
    "start_time": "2021-09-08T09:48:32.463Z"
   },
   {
    "duration": -67,
    "start_time": "2021-09-08T09:48:32.475Z"
   },
   {
    "duration": 7,
    "start_time": "2021-09-08T09:48:43.316Z"
   },
   {
    "duration": 926,
    "start_time": "2021-09-08T09:48:44.138Z"
   },
   {
    "duration": 1021,
    "start_time": "2021-09-08T09:49:33.246Z"
   },
   {
    "duration": 18,
    "start_time": "2021-09-08T09:50:34.385Z"
   },
   {
    "duration": 5,
    "start_time": "2021-09-08T09:51:09.120Z"
   },
   {
    "duration": 17,
    "start_time": "2021-09-08T09:51:11.155Z"
   },
   {
    "duration": 406,
    "start_time": "2021-09-08T09:51:18.207Z"
   },
   {
    "duration": 483,
    "start_time": "2021-09-08T09:55:55.406Z"
   },
   {
    "duration": 158,
    "start_time": "2021-09-08T10:09:33.675Z"
   },
   {
    "duration": 118,
    "start_time": "2021-09-08T10:23:13.995Z"
   },
   {
    "duration": 1103,
    "start_time": "2021-09-09T04:38:14.388Z"
   },
   {
    "duration": 488,
    "start_time": "2021-09-09T04:38:15.493Z"
   },
   {
    "duration": 23,
    "start_time": "2021-09-09T04:38:15.983Z"
   },
   {
    "duration": 17,
    "start_time": "2021-09-09T04:38:16.007Z"
   },
   {
    "duration": 76,
    "start_time": "2021-09-09T04:38:16.026Z"
   },
   {
    "duration": 6,
    "start_time": "2021-09-09T04:38:16.103Z"
   },
   {
    "duration": 18,
    "start_time": "2021-09-09T04:38:16.110Z"
   },
   {
    "duration": 4,
    "start_time": "2021-09-09T04:38:16.131Z"
   },
   {
    "duration": 12,
    "start_time": "2021-09-09T04:38:16.137Z"
   },
   {
    "duration": 46,
    "start_time": "2021-09-09T04:38:16.150Z"
   },
   {
    "duration": 4,
    "start_time": "2021-09-09T04:38:16.197Z"
   },
   {
    "duration": 15,
    "start_time": "2021-09-09T04:38:16.203Z"
   },
   {
    "duration": 11,
    "start_time": "2021-09-09T04:38:16.219Z"
   },
   {
    "duration": 20,
    "start_time": "2021-09-09T04:38:16.231Z"
   },
   {
    "duration": 4,
    "start_time": "2021-09-09T04:38:16.252Z"
   },
   {
    "duration": 4,
    "start_time": "2021-09-09T04:38:16.292Z"
   },
   {
    "duration": 7,
    "start_time": "2021-09-09T04:38:16.298Z"
   },
   {
    "duration": 4,
    "start_time": "2021-09-09T04:38:16.307Z"
   },
   {
    "duration": 53,
    "start_time": "2021-09-09T04:38:16.312Z"
   },
   {
    "duration": 93,
    "start_time": "2021-09-09T04:38:16.366Z"
   },
   {
    "duration": 49,
    "start_time": "2021-09-09T04:38:16.462Z"
   },
   {
    "duration": 17,
    "start_time": "2021-09-09T04:38:16.513Z"
   },
   {
    "duration": 64,
    "start_time": "2021-09-09T04:38:16.534Z"
   },
   {
    "duration": 33,
    "start_time": "2021-09-09T04:38:16.601Z"
   },
   {
    "duration": 21,
    "start_time": "2021-09-09T04:38:16.636Z"
   },
   {
    "duration": 38,
    "start_time": "2021-09-09T04:38:16.659Z"
   },
   {
    "duration": 7,
    "start_time": "2021-09-09T04:38:16.699Z"
   },
   {
    "duration": 15,
    "start_time": "2021-09-09T04:38:16.708Z"
   },
   {
    "duration": 12097,
    "start_time": "2021-09-09T04:38:16.725Z"
   },
   {
    "duration": 13,
    "start_time": "2021-09-09T04:38:28.825Z"
   },
   {
    "duration": 56,
    "start_time": "2021-09-09T04:38:28.840Z"
   },
   {
    "duration": 9,
    "start_time": "2021-09-09T04:38:28.898Z"
   },
   {
    "duration": 519,
    "start_time": "2021-09-09T04:38:28.909Z"
   },
   {
    "duration": 237,
    "start_time": "2021-09-09T04:38:29.429Z"
   },
   {
    "duration": 470,
    "start_time": "2021-09-09T04:38:29.668Z"
   },
   {
    "duration": 172,
    "start_time": "2021-09-09T04:38:30.140Z"
   },
   {
    "duration": 483,
    "start_time": "2021-09-09T04:38:30.314Z"
   },
   {
    "duration": 161,
    "start_time": "2021-09-09T04:38:30.799Z"
   },
   {
    "duration": 5,
    "start_time": "2021-09-09T04:38:30.962Z"
   },
   {
    "duration": 599,
    "start_time": "2021-09-09T04:38:30.968Z"
   },
   {
    "duration": 5,
    "start_time": "2021-09-09T04:38:31.569Z"
   },
   {
    "duration": 19,
    "start_time": "2021-09-09T04:38:31.575Z"
   },
   {
    "duration": 9,
    "start_time": "2021-09-09T04:38:31.596Z"
   },
   {
    "duration": 7,
    "start_time": "2021-09-09T04:38:31.607Z"
   }
  ],
  "kernelspec": {
   "display_name": "Python 3",
   "language": "python",
   "name": "python3"
  },
  "language_info": {
   "codemirror_mode": {
    "name": "ipython",
    "version": 3
   },
   "file_extension": ".py",
   "mimetype": "text/x-python",
   "name": "python",
   "nbconvert_exporter": "python",
   "pygments_lexer": "ipython3",
   "version": "3.8.8"
  },
  "toc": {
   "base_numbering": 1,
   "nav_menu": {
    "height": "489px",
    "width": "485px"
   },
   "number_sections": true,
   "sideBar": true,
   "skip_h1_title": true,
   "title_cell": "Table of Contents",
   "title_sidebar": "Contents",
   "toc_cell": false,
   "toc_position": {
    "height": "calc(100% - 180px)",
    "left": "10px",
    "top": "150px",
    "width": "286.225px"
   },
   "toc_section_display": true,
   "toc_window_display": true
  }
 },
 "nbformat": 4,
 "nbformat_minor": 4
}
