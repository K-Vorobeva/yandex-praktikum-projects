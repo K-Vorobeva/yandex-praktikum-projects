{
 "cells": [
  {
   "cell_type": "markdown",
   "metadata": {},
   "source": [
    "# Исследование надёжности заёмщиков\n",
    "\n",
    "Заказчик — кредитный отдел банка. Нужно разобраться, влияет ли цель получения кредита, уровень дохода, семейное положение и количество детей клиента на факт погашения кредита в срок. Входные данные от банка — статистика о платёжеспособности клиентов.\n",
    "\n",
    "Исследовательский анализ данных ввключает в себя:\n",
    "\n",
    "- обзор данных и поиск аномалий\n",
    "- обработку пропусков\n",
    "- обработку  дубликатов\n",
    "- лемматизацию значений\n",
    "- категоризацию данных\n",
    "- поиск завизисимостей\n",
    "\n",
    "Результаты исследования будут учтены при построении модели **кредитного скоринга** — специальной системы, которая оценивает способность потенциального заёмщика вернуть кредит банку."
   ]
  },
  {
   "cell_type": "markdown",
   "metadata": {},
   "source": [
    "## Шаг 1. Откройте файл с данными и изучите общую информацию"
   ]
  },
  {
   "cell_type": "markdown",
   "metadata": {},
   "source": [
    "Загрузка необходимых библиотек"
   ]
  },
  {
   "cell_type": "code",
   "execution_count": 1,
   "metadata": {},
   "outputs": [],
   "source": [
    "import pandas as pd\n",
    "import numpy as np\n",
    "from pymystem3 import Mystem\n",
    "m = Mystem()\n",
    "from collections import Counter"
   ]
  },
  {
   "cell_type": "markdown",
   "metadata": {},
   "source": [
    "Загрузка данных и изучение общей информации"
   ]
  },
  {
   "cell_type": "code",
   "execution_count": 2,
   "metadata": {},
   "outputs": [
    {
     "name": "stdout",
     "output_type": "stream",
     "text": [
      "<class 'pandas.core.frame.DataFrame'>\n",
      "RangeIndex: 21525 entries, 0 to 21524\n",
      "Data columns (total 12 columns):\n",
      "children            21525 non-null int64\n",
      "days_employed       19351 non-null float64\n",
      "dob_years           21525 non-null int64\n",
      "education           21525 non-null object\n",
      "education_id        21525 non-null int64\n",
      "family_status       21525 non-null object\n",
      "family_status_id    21525 non-null int64\n",
      "gender              21525 non-null object\n",
      "income_type         21525 non-null object\n",
      "debt                21525 non-null int64\n",
      "total_income        19351 non-null float64\n",
      "purpose             21525 non-null object\n",
      "dtypes: float64(2), int64(5), object(5)\n",
      "memory usage: 2.0+ MB\n"
     ]
    }
   ],
   "source": [
    "data = pd.read_csv('/datasets/data.csv')\n",
    "data.info()"
   ]
  },
  {
   "cell_type": "code",
   "execution_count": 3,
   "metadata": {},
   "outputs": [
    {
     "data": {
      "text/html": [
       "<div>\n",
       "<style scoped>\n",
       "    .dataframe tbody tr th:only-of-type {\n",
       "        vertical-align: middle;\n",
       "    }\n",
       "\n",
       "    .dataframe tbody tr th {\n",
       "        vertical-align: top;\n",
       "    }\n",
       "\n",
       "    .dataframe thead th {\n",
       "        text-align: right;\n",
       "    }\n",
       "</style>\n",
       "<table border=\"1\" class=\"dataframe\">\n",
       "  <thead>\n",
       "    <tr style=\"text-align: right;\">\n",
       "      <th></th>\n",
       "      <th>count</th>\n",
       "      <th>mean</th>\n",
       "      <th>std</th>\n",
       "      <th>min</th>\n",
       "      <th>25%</th>\n",
       "      <th>50%</th>\n",
       "      <th>75%</th>\n",
       "      <th>max</th>\n",
       "    </tr>\n",
       "  </thead>\n",
       "  <tbody>\n",
       "    <tr>\n",
       "      <td>children</td>\n",
       "      <td>21525.0</td>\n",
       "      <td>0.538908</td>\n",
       "      <td>1.381587</td>\n",
       "      <td>-1.000000</td>\n",
       "      <td>0.000000</td>\n",
       "      <td>0.000000</td>\n",
       "      <td>1.000000</td>\n",
       "      <td>2.000000e+01</td>\n",
       "    </tr>\n",
       "    <tr>\n",
       "      <td>days_employed</td>\n",
       "      <td>19351.0</td>\n",
       "      <td>63046.497661</td>\n",
       "      <td>140827.311974</td>\n",
       "      <td>-18388.949901</td>\n",
       "      <td>-2747.423625</td>\n",
       "      <td>-1203.369529</td>\n",
       "      <td>-291.095954</td>\n",
       "      <td>4.017554e+05</td>\n",
       "    </tr>\n",
       "    <tr>\n",
       "      <td>dob_years</td>\n",
       "      <td>21525.0</td>\n",
       "      <td>43.293380</td>\n",
       "      <td>12.574584</td>\n",
       "      <td>0.000000</td>\n",
       "      <td>33.000000</td>\n",
       "      <td>42.000000</td>\n",
       "      <td>53.000000</td>\n",
       "      <td>7.500000e+01</td>\n",
       "    </tr>\n",
       "    <tr>\n",
       "      <td>education_id</td>\n",
       "      <td>21525.0</td>\n",
       "      <td>0.817236</td>\n",
       "      <td>0.548138</td>\n",
       "      <td>0.000000</td>\n",
       "      <td>1.000000</td>\n",
       "      <td>1.000000</td>\n",
       "      <td>1.000000</td>\n",
       "      <td>4.000000e+00</td>\n",
       "    </tr>\n",
       "    <tr>\n",
       "      <td>family_status_id</td>\n",
       "      <td>21525.0</td>\n",
       "      <td>0.972544</td>\n",
       "      <td>1.420324</td>\n",
       "      <td>0.000000</td>\n",
       "      <td>0.000000</td>\n",
       "      <td>0.000000</td>\n",
       "      <td>1.000000</td>\n",
       "      <td>4.000000e+00</td>\n",
       "    </tr>\n",
       "    <tr>\n",
       "      <td>debt</td>\n",
       "      <td>21525.0</td>\n",
       "      <td>0.080883</td>\n",
       "      <td>0.272661</td>\n",
       "      <td>0.000000</td>\n",
       "      <td>0.000000</td>\n",
       "      <td>0.000000</td>\n",
       "      <td>0.000000</td>\n",
       "      <td>1.000000e+00</td>\n",
       "    </tr>\n",
       "    <tr>\n",
       "      <td>total_income</td>\n",
       "      <td>19351.0</td>\n",
       "      <td>167422.302208</td>\n",
       "      <td>102971.566448</td>\n",
       "      <td>20667.263793</td>\n",
       "      <td>103053.152913</td>\n",
       "      <td>145017.937533</td>\n",
       "      <td>203435.067663</td>\n",
       "      <td>2.265604e+06</td>\n",
       "    </tr>\n",
       "  </tbody>\n",
       "</table>\n",
       "</div>"
      ],
      "text/plain": [
       "                    count           mean            std           min  \\\n",
       "children          21525.0       0.538908       1.381587     -1.000000   \n",
       "days_employed     19351.0   63046.497661  140827.311974 -18388.949901   \n",
       "dob_years         21525.0      43.293380      12.574584      0.000000   \n",
       "education_id      21525.0       0.817236       0.548138      0.000000   \n",
       "family_status_id  21525.0       0.972544       1.420324      0.000000   \n",
       "debt              21525.0       0.080883       0.272661      0.000000   \n",
       "total_income      19351.0  167422.302208  102971.566448  20667.263793   \n",
       "\n",
       "                            25%            50%            75%           max  \n",
       "children               0.000000       0.000000       1.000000  2.000000e+01  \n",
       "days_employed      -2747.423625   -1203.369529    -291.095954  4.017554e+05  \n",
       "dob_years             33.000000      42.000000      53.000000  7.500000e+01  \n",
       "education_id           1.000000       1.000000       1.000000  4.000000e+00  \n",
       "family_status_id       0.000000       0.000000       1.000000  4.000000e+00  \n",
       "debt                   0.000000       0.000000       0.000000  1.000000e+00  \n",
       "total_income      103053.152913  145017.937533  203435.067663  2.265604e+06  "
      ]
     },
     "execution_count": 3,
     "metadata": {},
     "output_type": "execute_result"
    }
   ],
   "source": [
    "data.describe().T"
   ]
  },
  {
   "cell_type": "markdown",
   "metadata": {},
   "source": [
    "\n",
    "Таблица состоит из 12 столбцов и включает в себя 21525 строк. Количество значений в столбцах различается, это говорит о том, что в столбцах `days_employed` и `total_income` по 2174 пропущенных значения.\n",
    "\n",
    "По типу данных, столбцы можно разделить на три категории:\n",
    "- int64: `children`, `dob_years`, `education_id`, `family_status_id`, `debt`\n",
    "- float64: `days_employed`, `total_income`\n",
    "- object: `education`, `family_status`, `gender`, `income_type`, `purpose`"
   ]
  },
  {
   "cell_type": "markdown",
   "metadata": {},
   "source": [
    "Выведем 10 случайных строк таблицы"
   ]
  },
  {
   "cell_type": "code",
   "execution_count": 4,
   "metadata": {
    "scrolled": true
   },
   "outputs": [
    {
     "data": {
      "text/html": [
       "<div>\n",
       "<style scoped>\n",
       "    .dataframe tbody tr th:only-of-type {\n",
       "        vertical-align: middle;\n",
       "    }\n",
       "\n",
       "    .dataframe tbody tr th {\n",
       "        vertical-align: top;\n",
       "    }\n",
       "\n",
       "    .dataframe thead th {\n",
       "        text-align: right;\n",
       "    }\n",
       "</style>\n",
       "<table border=\"1\" class=\"dataframe\">\n",
       "  <thead>\n",
       "    <tr style=\"text-align: right;\">\n",
       "      <th></th>\n",
       "      <th>children</th>\n",
       "      <th>days_employed</th>\n",
       "      <th>dob_years</th>\n",
       "      <th>education</th>\n",
       "      <th>education_id</th>\n",
       "      <th>family_status</th>\n",
       "      <th>family_status_id</th>\n",
       "      <th>gender</th>\n",
       "      <th>income_type</th>\n",
       "      <th>debt</th>\n",
       "      <th>total_income</th>\n",
       "      <th>purpose</th>\n",
       "    </tr>\n",
       "  </thead>\n",
       "  <tbody>\n",
       "    <tr>\n",
       "      <td>8666</td>\n",
       "      <td>2</td>\n",
       "      <td>-1152.019631</td>\n",
       "      <td>42</td>\n",
       "      <td>среднее</td>\n",
       "      <td>1</td>\n",
       "      <td>женат / замужем</td>\n",
       "      <td>0</td>\n",
       "      <td>M</td>\n",
       "      <td>сотрудник</td>\n",
       "      <td>0</td>\n",
       "      <td>259048.825619</td>\n",
       "      <td>операции с недвижимостью</td>\n",
       "    </tr>\n",
       "    <tr>\n",
       "      <td>12020</td>\n",
       "      <td>0</td>\n",
       "      <td>-980.887522</td>\n",
       "      <td>56</td>\n",
       "      <td>высшее</td>\n",
       "      <td>0</td>\n",
       "      <td>женат / замужем</td>\n",
       "      <td>0</td>\n",
       "      <td>F</td>\n",
       "      <td>сотрудник</td>\n",
       "      <td>0</td>\n",
       "      <td>105294.302465</td>\n",
       "      <td>покупка недвижимости</td>\n",
       "    </tr>\n",
       "    <tr>\n",
       "      <td>14688</td>\n",
       "      <td>1</td>\n",
       "      <td>-148.516486</td>\n",
       "      <td>48</td>\n",
       "      <td>среднее</td>\n",
       "      <td>1</td>\n",
       "      <td>женат / замужем</td>\n",
       "      <td>0</td>\n",
       "      <td>F</td>\n",
       "      <td>сотрудник</td>\n",
       "      <td>0</td>\n",
       "      <td>50160.795209</td>\n",
       "      <td>получение высшего образования</td>\n",
       "    </tr>\n",
       "    <tr>\n",
       "      <td>19455</td>\n",
       "      <td>0</td>\n",
       "      <td>-2394.069195</td>\n",
       "      <td>45</td>\n",
       "      <td>среднее</td>\n",
       "      <td>1</td>\n",
       "      <td>женат / замужем</td>\n",
       "      <td>0</td>\n",
       "      <td>F</td>\n",
       "      <td>компаньон</td>\n",
       "      <td>0</td>\n",
       "      <td>491886.433062</td>\n",
       "      <td>на покупку автомобиля</td>\n",
       "    </tr>\n",
       "    <tr>\n",
       "      <td>17417</td>\n",
       "      <td>2</td>\n",
       "      <td>-2576.727516</td>\n",
       "      <td>29</td>\n",
       "      <td>Высшее</td>\n",
       "      <td>0</td>\n",
       "      <td>женат / замужем</td>\n",
       "      <td>0</td>\n",
       "      <td>F</td>\n",
       "      <td>сотрудник</td>\n",
       "      <td>0</td>\n",
       "      <td>213057.678703</td>\n",
       "      <td>дополнительное образование</td>\n",
       "    </tr>\n",
       "    <tr>\n",
       "      <td>18477</td>\n",
       "      <td>0</td>\n",
       "      <td>-1573.326646</td>\n",
       "      <td>25</td>\n",
       "      <td>неоконченное высшее</td>\n",
       "      <td>2</td>\n",
       "      <td>Не женат / не замужем</td>\n",
       "      <td>4</td>\n",
       "      <td>F</td>\n",
       "      <td>компаньон</td>\n",
       "      <td>0</td>\n",
       "      <td>134120.398957</td>\n",
       "      <td>покупка коммерческой недвижимости</td>\n",
       "    </tr>\n",
       "    <tr>\n",
       "      <td>20140</td>\n",
       "      <td>0</td>\n",
       "      <td>NaN</td>\n",
       "      <td>36</td>\n",
       "      <td>высшее</td>\n",
       "      <td>0</td>\n",
       "      <td>гражданский брак</td>\n",
       "      <td>1</td>\n",
       "      <td>F</td>\n",
       "      <td>компаньон</td>\n",
       "      <td>0</td>\n",
       "      <td>NaN</td>\n",
       "      <td>сыграть свадьбу</td>\n",
       "    </tr>\n",
       "    <tr>\n",
       "      <td>17864</td>\n",
       "      <td>0</td>\n",
       "      <td>371113.904423</td>\n",
       "      <td>57</td>\n",
       "      <td>среднее</td>\n",
       "      <td>1</td>\n",
       "      <td>вдовец / вдова</td>\n",
       "      <td>2</td>\n",
       "      <td>F</td>\n",
       "      <td>пенсионер</td>\n",
       "      <td>0</td>\n",
       "      <td>257369.340734</td>\n",
       "      <td>заняться образованием</td>\n",
       "    </tr>\n",
       "    <tr>\n",
       "      <td>3376</td>\n",
       "      <td>2</td>\n",
       "      <td>-3675.321201</td>\n",
       "      <td>32</td>\n",
       "      <td>среднее</td>\n",
       "      <td>1</td>\n",
       "      <td>Не женат / не замужем</td>\n",
       "      <td>4</td>\n",
       "      <td>F</td>\n",
       "      <td>сотрудник</td>\n",
       "      <td>0</td>\n",
       "      <td>97778.008403</td>\n",
       "      <td>операции с коммерческой недвижимостью</td>\n",
       "    </tr>\n",
       "    <tr>\n",
       "      <td>5645</td>\n",
       "      <td>0</td>\n",
       "      <td>362122.455370</td>\n",
       "      <td>65</td>\n",
       "      <td>среднее</td>\n",
       "      <td>1</td>\n",
       "      <td>женат / замужем</td>\n",
       "      <td>0</td>\n",
       "      <td>F</td>\n",
       "      <td>пенсионер</td>\n",
       "      <td>0</td>\n",
       "      <td>82137.734574</td>\n",
       "      <td>на покупку подержанного автомобиля</td>\n",
       "    </tr>\n",
       "  </tbody>\n",
       "</table>\n",
       "</div>"
      ],
      "text/plain": [
       "       children  days_employed  dob_years            education  education_id  \\\n",
       "8666          2   -1152.019631         42              среднее             1   \n",
       "12020         0    -980.887522         56               высшее             0   \n",
       "14688         1    -148.516486         48              среднее             1   \n",
       "19455         0   -2394.069195         45              среднее             1   \n",
       "17417         2   -2576.727516         29               Высшее             0   \n",
       "18477         0   -1573.326646         25  неоконченное высшее             2   \n",
       "20140         0            NaN         36               высшее             0   \n",
       "17864         0  371113.904423         57              среднее             1   \n",
       "3376          2   -3675.321201         32              среднее             1   \n",
       "5645          0  362122.455370         65              среднее             1   \n",
       "\n",
       "               family_status  family_status_id gender income_type  debt  \\\n",
       "8666         женат / замужем                 0      M   сотрудник     0   \n",
       "12020        женат / замужем                 0      F   сотрудник     0   \n",
       "14688        женат / замужем                 0      F   сотрудник     0   \n",
       "19455        женат / замужем                 0      F   компаньон     0   \n",
       "17417        женат / замужем                 0      F   сотрудник     0   \n",
       "18477  Не женат / не замужем                 4      F   компаньон     0   \n",
       "20140       гражданский брак                 1      F   компаньон     0   \n",
       "17864         вдовец / вдова                 2      F   пенсионер     0   \n",
       "3376   Не женат / не замужем                 4      F   сотрудник     0   \n",
       "5645         женат / замужем                 0      F   пенсионер     0   \n",
       "\n",
       "        total_income                                purpose  \n",
       "8666   259048.825619               операции с недвижимостью  \n",
       "12020  105294.302465                   покупка недвижимости  \n",
       "14688   50160.795209          получение высшего образования  \n",
       "19455  491886.433062                  на покупку автомобиля  \n",
       "17417  213057.678703             дополнительное образование  \n",
       "18477  134120.398957      покупка коммерческой недвижимости  \n",
       "20140            NaN                        сыграть свадьбу  \n",
       "17864  257369.340734                  заняться образованием  \n",
       "3376    97778.008403  операции с коммерческой недвижимостью  \n",
       "5645    82137.734574     на покупку подержанного автомобиля  "
      ]
     },
     "execution_count": 4,
     "metadata": {},
     "output_type": "execute_result"
    }
   ],
   "source": [
    "data.sample(10)"
   ]
  },
  {
   "cell_type": "markdown",
   "metadata": {},
   "source": [
    "\n",
    "Разберём, какую информацию содержат столбцы:\n",
    "\n",
    "- children — количество детей в семье\n",
    "- days_employed — общий трудовой стаж в днях\n",
    "- dob_years — возраст клиента в годах\n",
    "- education — уровень образования клиента\n",
    "- education_id — идентификатор уровня образования\n",
    "- family_status — семейное положение\n",
    "- family_status_id — идентификатор семейного положения\n",
    "- gender — пол клиента\n",
    "- income_type — тип занятости\n",
    "- debt — имел ли задолженность по возврату кредитов\n",
    "- total_income — ежемесячный доход\n",
    "- purpose — цель получения кредита\n",
    " "
   ]
  },
  {
   "cell_type": "markdown",
   "metadata": {},
   "source": [
    "**Вывод**"
   ]
  },
  {
   "cell_type": "markdown",
   "metadata": {},
   "source": [
    "Каждая строка таблицы содержит информацию о заёмщике. Для дальнейшего анализа необходимо решить проблему пропусков в столбцах `days_employed` и `total_income`, проверить корректность формата данных и избавиться от дупликатов. Для оценки способности потенциального заёмщика вернуть кредит особенно ценны столбцы `debt`, `children`, `family_status`, `total_income`."
   ]
  },
  {
   "cell_type": "markdown",
   "metadata": {},
   "source": [
    "## Шаг 2. Предобработка данных"
   ]
  },
  {
   "cell_type": "markdown",
   "metadata": {},
   "source": [
    "### Обработка пропусков"
   ]
  },
  {
   "cell_type": "markdown",
   "metadata": {},
   "source": [
    "Перед удалением пропусков и дубликатов необходимо проверить, все ли данные предствленны в корректном виде."
   ]
  },
  {
   "cell_type": "markdown",
   "metadata": {},
   "source": [
    "Получим уникальные значения и их количество для столбца 'children':"
   ]
  },
  {
   "cell_type": "code",
   "execution_count": 5,
   "metadata": {},
   "outputs": [
    {
     "data": {
      "text/plain": [
       " 0     14149\n",
       " 1      4818\n",
       " 2      2055\n",
       " 3       330\n",
       " 20       76\n",
       "-1        47\n",
       " 4        41\n",
       " 5         9\n",
       "Name: children, dtype: int64"
      ]
     },
     "execution_count": 5,
     "metadata": {},
     "output_type": "execute_result"
    }
   ],
   "source": [
    "data['children'].value_counts()"
   ]
  },
  {
   "cell_type": "markdown",
   "metadata": {},
   "source": [
    "Число детей не может быть отрицательным, поэтому перезапишем эти значения равными нулю. Слишком большое для количество детей число 20, вероятно, явлеется ошибкой ввода и соответствует 2. Методом replace() изменим некорректные значения:"
   ]
  },
  {
   "cell_type": "code",
   "execution_count": 6,
   "metadata": {},
   "outputs": [
    {
     "data": {
      "text/plain": [
       "0    14196\n",
       "1     4818\n",
       "2     2131\n",
       "3      330\n",
       "4       41\n",
       "5        9\n",
       "Name: children, dtype: int64"
      ]
     },
     "execution_count": 6,
     "metadata": {},
     "output_type": "execute_result"
    }
   ],
   "source": [
    "data['children'] = data['children'].replace(-1, 0)\n",
    "data['children'] = data['children'].replace(20, 2)\n",
    "\n",
    "data['children'].value_counts()"
   ]
  },
  {
   "cell_type": "markdown",
   "metadata": {},
   "source": [
    "На первый взгляд в столбце `days_employed` положительные значения слишком большие, чтобы быть днями трудового стажа. А значения, которые могут соответствовать реальным значениям трудового стажа в днях - отрицательные. Проверим, вызвав минимальное положительное значение, и минимальное отрицательное значение(соответствующее максимальному общему трудовому стажу):"
   ]
  },
  {
   "cell_type": "code",
   "execution_count": 7,
   "metadata": {},
   "outputs": [
    {
     "name": "stdout",
     "output_type": "stream",
     "text": [
      "Минимальное положительное значение в столбце \"days_employed\":  328728.72060451825\n",
      "Минимальное отрицательное значение в столбце \"days_employed\":  -18388.949900568383\n"
     ]
    }
   ],
   "source": [
    "print('Минимальное положительное значение в столбце \"days_employed\": ', data.loc[(data['days_employed'] > 0) & (data['days_employed'].isnull() == False)]['days_employed'].min())\n",
    "print('Минимальное отрицательное значение в столбце \"days_employed\": ', data.loc[(data['days_employed'] < 0) & (data['days_employed'].isnull() == False)]['days_employed'].min())"
   ]
  },
  {
   "cell_type": "markdown",
   "metadata": {},
   "source": [
    "Проверим, есть ли связь между форматом данных в столбце `days_employed` и типом занятости заёмщика"
   ]
  },
  {
   "cell_type": "code",
   "execution_count": 8,
   "metadata": {},
   "outputs": [
    {
     "data": {
      "text/plain": [
       "пенсионер      3443\n",
       "безработный       2\n",
       "Name: income_type, dtype: int64"
      ]
     },
     "execution_count": 8,
     "metadata": {},
     "output_type": "execute_result"
    }
   ],
   "source": [
    "data[data['days_employed'] > 0]['income_type'].value_counts()"
   ]
  },
  {
   "cell_type": "code",
   "execution_count": 9,
   "metadata": {},
   "outputs": [
    {
     "data": {
      "text/plain": [
       "сотрудник          10014\n",
       "компаньон           4577\n",
       "госслужащий         1312\n",
       "предприниматель        1\n",
       "студент                1\n",
       "в декрете              1\n",
       "Name: income_type, dtype: int64"
      ]
     },
     "execution_count": 9,
     "metadata": {},
     "output_type": "execute_result"
    }
   ],
   "source": [
    "data[data['days_employed'] < 0]['income_type'].value_counts()"
   ]
  },
  {
   "cell_type": "markdown",
   "metadata": {},
   "source": [
    "Наблюдается зависимость, между типом занятости заёмщика и форматом данных в столбце `days_employed`. Трудовой стаж пенсионеров и безработных выражен в часах и имеет положительное значение, для остальных категорий стаж выражен в днях и имеет отрицательное значение.\n",
    "\n",
    "Приведём данные к единому формату:"
   ]
  },
  {
   "cell_type": "code",
   "execution_count": 10,
   "metadata": {},
   "outputs": [],
   "source": [
    "def day_employed_to_correct(days):\n",
    "    \"\"\"\n",
    "    Принимает величину трудового стажа, возвращает модуль числа дней трудового стажа.\n",
    "    Если значение положительное, то оно выражено в часах и функция делит число на 24.\n",
    "    \"\"\"\n",
    "    if days > 0:\n",
    "        # \n",
    "        days /= 24\n",
    "    return abs(days)\n",
    "\n",
    "data['days_employed'] = abs(data['days_employed'].apply(day_employed_to_correct))\n"
   ]
  },
  {
   "cell_type": "markdown",
   "metadata": {},
   "source": [
    "Проверим, существуют ли в таблице заёмщики, возраст которых меньше 18 лет."
   ]
  },
  {
   "cell_type": "code",
   "execution_count": 11,
   "metadata": {},
   "outputs": [
    {
     "data": {
      "text/plain": [
       "0    101\n",
       "Name: dob_years, dtype: int64"
      ]
     },
     "execution_count": 11,
     "metadata": {},
     "output_type": "execute_result"
    }
   ],
   "source": [
    "data[data['dob_years'] < 18]['dob_years'].value_counts()"
   ]
  },
  {
   "cell_type": "markdown",
   "metadata": {},
   "source": [
    "101 Заёмщик имеет в столбце возраст имеет значение 0. Заменим его медианным значением по столбцу `dob_years`"
   ]
  },
  {
   "cell_type": "code",
   "execution_count": 12,
   "metadata": {},
   "outputs": [],
   "source": [
    "def to_median_value(column, value):\n",
    "    \"\"\"Принимает столбец и значение, возвращает ячейкам с совпадающим значением медиану по столбцу.\"\"\"\n",
    "    column_median = column.median()\n",
    "    return column.replace(value, column_median)\n",
    "\n",
    "\n",
    "data['dob_years'] = to_median_value(data['dob_years'], 0)"
   ]
  },
  {
   "cell_type": "markdown",
   "metadata": {},
   "source": [
    "Проверим, существуют ли некорректные значения в столбце `gender`"
   ]
  },
  {
   "cell_type": "code",
   "execution_count": 13,
   "metadata": {},
   "outputs": [
    {
     "data": {
      "text/plain": [
       "F      14236\n",
       "M       7288\n",
       "XNA        1\n",
       "Name: gender, dtype: int64"
      ]
     },
     "execution_count": 13,
     "metadata": {},
     "output_type": "execute_result"
    }
   ],
   "source": [
    "data['gender'].value_counts()"
   ]
  },
  {
   "cell_type": "markdown",
   "metadata": {},
   "source": [
    "Изменим значение XNA на то, что встречается чаще."
   ]
  },
  {
   "cell_type": "code",
   "execution_count": 14,
   "metadata": {},
   "outputs": [],
   "source": [
    "data.loc[data['gender'] == 'XNA', 'gender'] = 'F'"
   ]
  },
  {
   "cell_type": "markdown",
   "metadata": {},
   "source": [
    "Проверим уникальные значения в столбце `debt`:"
   ]
  },
  {
   "cell_type": "code",
   "execution_count": 15,
   "metadata": {},
   "outputs": [
    {
     "data": {
      "text/plain": [
       "array([0, 1])"
      ]
     },
     "execution_count": 15,
     "metadata": {},
     "output_type": "execute_result"
    }
   ],
   "source": [
    "data['debt'].unique()"
   ]
  },
  {
   "cell_type": "markdown",
   "metadata": {},
   "source": [
    "Количество пропусков в столбцах `days_employed` и `total_income` совпадает. Посчитаем количество строк, содержащих пропуски в этих столбцах."
   ]
  },
  {
   "cell_type": "code",
   "execution_count": 16,
   "metadata": {},
   "outputs": [
    {
     "data": {
      "text/plain": [
       "2174"
      ]
     },
     "execution_count": 16,
     "metadata": {},
     "output_type": "execute_result"
    }
   ],
   "source": [
    "data.loc[data['days_employed'].isnull() & data['total_income'].isnull()]['children'].count()"
   ]
  },
  {
   "cell_type": "markdown",
   "metadata": {},
   "source": [
    "Количество строк, содержащих пропуски в столбцах `days_employed` и `total_income` совпадает с числом пропусков, обнаруженным вызовом метода info(). Выведем 10 строк, содержащих пропуски, для  поиска закономерности."
   ]
  },
  {
   "cell_type": "code",
   "execution_count": 17,
   "metadata": {
    "scrolled": true
   },
   "outputs": [
    {
     "data": {
      "text/html": [
       "<div>\n",
       "<style scoped>\n",
       "    .dataframe tbody tr th:only-of-type {\n",
       "        vertical-align: middle;\n",
       "    }\n",
       "\n",
       "    .dataframe tbody tr th {\n",
       "        vertical-align: top;\n",
       "    }\n",
       "\n",
       "    .dataframe thead th {\n",
       "        text-align: right;\n",
       "    }\n",
       "</style>\n",
       "<table border=\"1\" class=\"dataframe\">\n",
       "  <thead>\n",
       "    <tr style=\"text-align: right;\">\n",
       "      <th></th>\n",
       "      <th>children</th>\n",
       "      <th>days_employed</th>\n",
       "      <th>dob_years</th>\n",
       "      <th>education</th>\n",
       "      <th>education_id</th>\n",
       "      <th>family_status</th>\n",
       "      <th>family_status_id</th>\n",
       "      <th>gender</th>\n",
       "      <th>income_type</th>\n",
       "      <th>debt</th>\n",
       "      <th>total_income</th>\n",
       "      <th>purpose</th>\n",
       "    </tr>\n",
       "  </thead>\n",
       "  <tbody>\n",
       "    <tr>\n",
       "      <td>19470</td>\n",
       "      <td>0</td>\n",
       "      <td>NaN</td>\n",
       "      <td>48</td>\n",
       "      <td>среднее</td>\n",
       "      <td>1</td>\n",
       "      <td>женат / замужем</td>\n",
       "      <td>0</td>\n",
       "      <td>F</td>\n",
       "      <td>госслужащий</td>\n",
       "      <td>0</td>\n",
       "      <td>NaN</td>\n",
       "      <td>жилье</td>\n",
       "    </tr>\n",
       "    <tr>\n",
       "      <td>16019</td>\n",
       "      <td>3</td>\n",
       "      <td>NaN</td>\n",
       "      <td>29</td>\n",
       "      <td>среднее</td>\n",
       "      <td>1</td>\n",
       "      <td>гражданский брак</td>\n",
       "      <td>1</td>\n",
       "      <td>M</td>\n",
       "      <td>сотрудник</td>\n",
       "      <td>0</td>\n",
       "      <td>NaN</td>\n",
       "      <td>покупка недвижимости</td>\n",
       "    </tr>\n",
       "    <tr>\n",
       "      <td>10413</td>\n",
       "      <td>1</td>\n",
       "      <td>NaN</td>\n",
       "      <td>51</td>\n",
       "      <td>среднее</td>\n",
       "      <td>1</td>\n",
       "      <td>женат / замужем</td>\n",
       "      <td>0</td>\n",
       "      <td>F</td>\n",
       "      <td>компаньон</td>\n",
       "      <td>0</td>\n",
       "      <td>NaN</td>\n",
       "      <td>покупка жилой недвижимости</td>\n",
       "    </tr>\n",
       "    <tr>\n",
       "      <td>1725</td>\n",
       "      <td>0</td>\n",
       "      <td>NaN</td>\n",
       "      <td>52</td>\n",
       "      <td>среднее</td>\n",
       "      <td>1</td>\n",
       "      <td>женат / замужем</td>\n",
       "      <td>0</td>\n",
       "      <td>F</td>\n",
       "      <td>пенсионер</td>\n",
       "      <td>0</td>\n",
       "      <td>NaN</td>\n",
       "      <td>операции со своей недвижимостью</td>\n",
       "    </tr>\n",
       "    <tr>\n",
       "      <td>16410</td>\n",
       "      <td>0</td>\n",
       "      <td>NaN</td>\n",
       "      <td>58</td>\n",
       "      <td>среднее</td>\n",
       "      <td>1</td>\n",
       "      <td>Не женат / не замужем</td>\n",
       "      <td>4</td>\n",
       "      <td>F</td>\n",
       "      <td>пенсионер</td>\n",
       "      <td>0</td>\n",
       "      <td>NaN</td>\n",
       "      <td>строительство жилой недвижимости</td>\n",
       "    </tr>\n",
       "    <tr>\n",
       "      <td>5617</td>\n",
       "      <td>0</td>\n",
       "      <td>NaN</td>\n",
       "      <td>56</td>\n",
       "      <td>среднее</td>\n",
       "      <td>1</td>\n",
       "      <td>вдовец / вдова</td>\n",
       "      <td>2</td>\n",
       "      <td>F</td>\n",
       "      <td>пенсионер</td>\n",
       "      <td>0</td>\n",
       "      <td>NaN</td>\n",
       "      <td>строительство собственной недвижимости</td>\n",
       "    </tr>\n",
       "    <tr>\n",
       "      <td>18715</td>\n",
       "      <td>0</td>\n",
       "      <td>NaN</td>\n",
       "      <td>41</td>\n",
       "      <td>среднее</td>\n",
       "      <td>1</td>\n",
       "      <td>женат / замужем</td>\n",
       "      <td>0</td>\n",
       "      <td>M</td>\n",
       "      <td>сотрудник</td>\n",
       "      <td>0</td>\n",
       "      <td>NaN</td>\n",
       "      <td>покупка жилья для сдачи</td>\n",
       "    </tr>\n",
       "    <tr>\n",
       "      <td>14933</td>\n",
       "      <td>2</td>\n",
       "      <td>NaN</td>\n",
       "      <td>36</td>\n",
       "      <td>среднее</td>\n",
       "      <td>1</td>\n",
       "      <td>женат / замужем</td>\n",
       "      <td>0</td>\n",
       "      <td>M</td>\n",
       "      <td>сотрудник</td>\n",
       "      <td>0</td>\n",
       "      <td>NaN</td>\n",
       "      <td>получение высшего образования</td>\n",
       "    </tr>\n",
       "    <tr>\n",
       "      <td>4182</td>\n",
       "      <td>1</td>\n",
       "      <td>NaN</td>\n",
       "      <td>34</td>\n",
       "      <td>ВЫСШЕЕ</td>\n",
       "      <td>0</td>\n",
       "      <td>гражданский брак</td>\n",
       "      <td>1</td>\n",
       "      <td>F</td>\n",
       "      <td>сотрудник</td>\n",
       "      <td>0</td>\n",
       "      <td>NaN</td>\n",
       "      <td>свадьба</td>\n",
       "    </tr>\n",
       "    <tr>\n",
       "      <td>6541</td>\n",
       "      <td>0</td>\n",
       "      <td>NaN</td>\n",
       "      <td>29</td>\n",
       "      <td>высшее</td>\n",
       "      <td>0</td>\n",
       "      <td>женат / замужем</td>\n",
       "      <td>0</td>\n",
       "      <td>F</td>\n",
       "      <td>госслужащий</td>\n",
       "      <td>0</td>\n",
       "      <td>NaN</td>\n",
       "      <td>операции с недвижимостью</td>\n",
       "    </tr>\n",
       "  </tbody>\n",
       "</table>\n",
       "</div>"
      ],
      "text/plain": [
       "       children  days_employed  dob_years education  education_id  \\\n",
       "19470         0            NaN         48   среднее             1   \n",
       "16019         3            NaN         29   среднее             1   \n",
       "10413         1            NaN         51   среднее             1   \n",
       "1725          0            NaN         52   среднее             1   \n",
       "16410         0            NaN         58   среднее             1   \n",
       "5617          0            NaN         56   среднее             1   \n",
       "18715         0            NaN         41   среднее             1   \n",
       "14933         2            NaN         36   среднее             1   \n",
       "4182          1            NaN         34    ВЫСШЕЕ             0   \n",
       "6541          0            NaN         29    высшее             0   \n",
       "\n",
       "               family_status  family_status_id gender  income_type  debt  \\\n",
       "19470        женат / замужем                 0      F  госслужащий     0   \n",
       "16019       гражданский брак                 1      M    сотрудник     0   \n",
       "10413        женат / замужем                 0      F    компаньон     0   \n",
       "1725         женат / замужем                 0      F    пенсионер     0   \n",
       "16410  Не женат / не замужем                 4      F    пенсионер     0   \n",
       "5617          вдовец / вдова                 2      F    пенсионер     0   \n",
       "18715        женат / замужем                 0      M    сотрудник     0   \n",
       "14933        женат / замужем                 0      M    сотрудник     0   \n",
       "4182        гражданский брак                 1      F    сотрудник     0   \n",
       "6541         женат / замужем                 0      F  госслужащий     0   \n",
       "\n",
       "       total_income                                 purpose  \n",
       "19470           NaN                                   жилье  \n",
       "16019           NaN                    покупка недвижимости  \n",
       "10413           NaN              покупка жилой недвижимости  \n",
       "1725            NaN         операции со своей недвижимостью  \n",
       "16410           NaN        строительство жилой недвижимости  \n",
       "5617            NaN  строительство собственной недвижимости  \n",
       "18715           NaN                 покупка жилья для сдачи  \n",
       "14933           NaN           получение высшего образования  \n",
       "4182            NaN                                 свадьба  \n",
       "6541            NaN                операции с недвижимостью  "
      ]
     },
     "execution_count": 17,
     "metadata": {},
     "output_type": "execute_result"
    }
   ],
   "source": [
    "data.loc[data['days_employed'].isnull() & data['total_income'].isnull()].sample(10)"
   ]
  },
  {
   "cell_type": "markdown",
   "metadata": {},
   "source": [
    "Помимо пропусков в столбцах о доходе и трудовом стаже, заёмщики не имеют ничего общего - они разных возрастов, имеют разный тип занятости и уровень образования, пол, возраст, семейное положение и количество детей. Вероятно, пропуски возникли из-за ошибки заполнения данных о заемщиках."
   ]
  },
  {
   "cell_type": "markdown",
   "metadata": {},
   "source": [
    "Пропущенным значениям в столбцах `days_employed` и `total_income` присвоим медианное значение по столбцу:"
   ]
  },
  {
   "cell_type": "code",
   "execution_count": 18,
   "metadata": {},
   "outputs": [],
   "source": [
    "def null_to_median_value(column):\n",
    "    '''Принимает столбец, возвращает пропущенным значениям медиану по столбцу'''\n",
    "    column_median = column.median()\n",
    "    return column.fillna(column_median)\n",
    "\n",
    "data['days_employed'] = null_to_median_value(data['days_employed'])\n",
    "data['total_income'] = null_to_median_value(data['total_income'])"
   ]
  },
  {
   "cell_type": "markdown",
   "metadata": {},
   "source": [
    "Получим общую информацию о таблице:"
   ]
  },
  {
   "cell_type": "code",
   "execution_count": 19,
   "metadata": {},
   "outputs": [
    {
     "name": "stdout",
     "output_type": "stream",
     "text": [
      "<class 'pandas.core.frame.DataFrame'>\n",
      "RangeIndex: 21525 entries, 0 to 21524\n",
      "Data columns (total 12 columns):\n",
      "children            21525 non-null int64\n",
      "days_employed       21525 non-null float64\n",
      "dob_years           21525 non-null int64\n",
      "education           21525 non-null object\n",
      "education_id        21525 non-null int64\n",
      "family_status       21525 non-null object\n",
      "family_status_id    21525 non-null int64\n",
      "gender              21525 non-null object\n",
      "income_type         21525 non-null object\n",
      "debt                21525 non-null int64\n",
      "total_income        21525 non-null float64\n",
      "purpose             21525 non-null object\n",
      "dtypes: float64(2), int64(5), object(5)\n",
      "memory usage: 2.0+ MB\n"
     ]
    }
   ],
   "source": [
    "data.info()"
   ]
  },
  {
   "cell_type": "markdown",
   "metadata": {},
   "source": [
    "**Вывод**"
   ]
  },
  {
   "cell_type": "markdown",
   "metadata": {},
   "source": [
    "Представление данных в столбце `days_employed` приведено к единому формату. Примечательно, что формат данных отличался для заёмщиков с типом занятости \"пенсионер\" и \"безработный\".  Пропуски в столбцах `days_employed`, `total_income` и `dob_years` заполнены медианными значениями. Пропуск в столбце `gender` заполнен наиболее часто встречаемым значением. Исправлены значения в столбцах `children` и `family_status`."
   ]
  },
  {
   "cell_type": "markdown",
   "metadata": {},
   "source": [
    "### Замена типа данных"
   ]
  },
  {
   "cell_type": "markdown",
   "metadata": {},
   "source": [
    "Определим, сколько памяти занимает датасет и максимальные значения по столбцам, чтобы определить, как изменить тип данных:"
   ]
  },
  {
   "cell_type": "code",
   "execution_count": 20,
   "metadata": {},
   "outputs": [
    {
     "name": "stdout",
     "output_type": "stream",
     "text": [
      "2066528\n"
     ]
    },
    {
     "data": {
      "text/plain": [
       "children                          5\n",
       "days_employed               18388.9\n",
       "dob_years                        75\n",
       "education            ученая степень\n",
       "education_id                      4\n",
       "family_status       женат / замужем\n",
       "family_status_id                  4\n",
       "gender                            M\n",
       "income_type                 студент\n",
       "debt                              1\n",
       "total_income             2.2656e+06\n",
       "purpose             сыграть свадьбу\n",
       "dtype: object"
      ]
     },
     "execution_count": 20,
     "metadata": {},
     "output_type": "execute_result"
    }
   ],
   "source": [
    "memory_usage = data.memory_usage().sum()\n",
    "print(memory_usage)\n",
    "data.max()"
   ]
  },
  {
   "cell_type": "markdown",
   "metadata": {},
   "source": [
    "Количество детей, возрат заёмщиков, индексы уровня образования и семейного положений не имеют отрицательных значений и не превышают 255, поэтому целесообразно присвоить этим значениям тип `uint8`. Количество дней трудового стажа не превышает 65535 и должно быть представлено натуральным числом, следует заменить его тип на `uint16`.\n",
    "  \n",
    "Ежемесячный доход, судя по максимальному значению, можно представить типом `float32`.\n",
    "  \n",
    "Значения в столбце `debt` принимают значения 1 или 0, а следовательно их можно представить типом `bool`."
   ]
  },
  {
   "cell_type": "markdown",
   "metadata": {},
   "source": [
    "Изменим тип данных для обозначенных столбцов и определим, какой объем памятти используют данные:"
   ]
  },
  {
   "cell_type": "code",
   "execution_count": 21,
   "metadata": {},
   "outputs": [],
   "source": [
    "data[['children', 'dob_years', 'education_id', 'family_status_id']] = data[['children', 'dob_years', 'education_id', 'family_status_id']].astype(np.uint8)\n",
    "data['days_employed'] = data['days_employed'].astype(np.uint16)\n",
    "data['total_income'] = data['total_income'].astype(np.float32)\n",
    "data['debt'] = data['debt'].astype(np.bool)"
   ]
  },
  {
   "cell_type": "markdown",
   "metadata": {},
   "source": [
    "Узнаем, удалось ли оптимизировать хранение данных и сколько памяти удалось сэкономить:"
   ]
  },
  {
   "cell_type": "code",
   "execution_count": 22,
   "metadata": {},
   "outputs": [
    {
     "name": "stdout",
     "output_type": "stream",
     "text": [
      "46.9%\n"
     ]
    }
   ],
   "source": [
    "memory_usage = 1 - data.memory_usage().sum() / memory_usage\n",
    "print('{:.1%}'.format(memory_usage))"
   ]
  },
  {
   "cell_type": "code",
   "execution_count": 23,
   "metadata": {},
   "outputs": [
    {
     "name": "stdout",
     "output_type": "stream",
     "text": [
      "<class 'pandas.core.frame.DataFrame'>\n",
      "RangeIndex: 21525 entries, 0 to 21524\n",
      "Data columns (total 12 columns):\n",
      "children            21525 non-null uint8\n",
      "days_employed       21525 non-null uint16\n",
      "dob_years           21525 non-null uint8\n",
      "education           21525 non-null object\n",
      "education_id        21525 non-null uint8\n",
      "family_status       21525 non-null object\n",
      "family_status_id    21525 non-null uint8\n",
      "gender              21525 non-null object\n",
      "income_type         21525 non-null object\n",
      "debt                21525 non-null bool\n",
      "total_income        21525 non-null float32\n",
      "purpose             21525 non-null object\n",
      "dtypes: bool(1), float32(1), object(5), uint16(1), uint8(4)\n",
      "memory usage: 1.0+ MB\n"
     ]
    }
   ],
   "source": [
    "data.info()"
   ]
  },
  {
   "cell_type": "markdown",
   "metadata": {},
   "source": [
    "**Вывод**"
   ]
  },
  {
   "cell_type": "markdown",
   "metadata": {},
   "source": [
    "При замене типов данных следует обращать внимание на то, какие значения эти данные принимают и какой смысл несут. Замена первоначальных типов данных происходила в зависимости от их характера позволила сэкономить почти 47% от первоначального объёма памяти. "
   ]
  },
  {
   "cell_type": "markdown",
   "metadata": {},
   "source": [
    "### Обработка дубликатов"
   ]
  },
  {
   "cell_type": "markdown",
   "metadata": {},
   "source": [
    "Дубликаты в таблице могут выглядеть как строки с идентичной информацией, такая проблема возникает при ошибочном повторном копировании данных. Ещё дубликаты могут быть неявными, из-за одинаковых по смыслу, но разных по названию категорий. Такая проблема возникает при работе нескольких пользователей с одной таблицей и отсутствия ограничений для значений категорий."
   ]
  },
  {
   "cell_type": "markdown",
   "metadata": {},
   "source": [
    "Поиск количества дублирующихся строк в таблице:"
   ]
  },
  {
   "cell_type": "code",
   "execution_count": 24,
   "metadata": {
    "scrolled": true
   },
   "outputs": [
    {
     "name": "stdout",
     "output_type": "stream",
     "text": [
      "Дубликатов в таблице:  55\n"
     ]
    }
   ],
   "source": [
    "print('Дубликатов в таблице: ', data.duplicated().sum())"
   ]
  },
  {
   "cell_type": "markdown",
   "metadata": {},
   "source": [
    "Для пар столбцов со строковыми значениями и индексами (`education` и `education_id`, `family_status` и `family_status_id`) проверим сооответствие числа уникальных значений."
   ]
  },
  {
   "cell_type": "code",
   "execution_count": 25,
   "metadata": {},
   "outputs": [],
   "source": [
    "def unique_values_unique_id(series_values, series_id):\n",
    "    \"\"\"\n",
    "    Принимает два столбца и сравненивает количество уникальных значений в столбцах.\n",
    "    Возвраащает сообщение о соответствии/несоответствии и списо значений столбца series_values.\n",
    "    \"\"\"   \n",
    "    if len(series_values.unique()) == len(series_id.unique()):\n",
    "        return print('количество индексов соответствует количеству значений', series_values.unique(), sep='\\n')\n",
    "    else:\n",
    "        return print('количество индексов не соответствует количеству значений', series_values.unique(), sep='\\n')   \n"
   ]
  },
  {
   "cell_type": "markdown",
   "metadata": {},
   "source": [
    "Проверка сответствия числа уникальных значений в столбце 'education' числу значений в столбце 'education_id'"
   ]
  },
  {
   "cell_type": "code",
   "execution_count": 26,
   "metadata": {
    "scrolled": true
   },
   "outputs": [
    {
     "name": "stdout",
     "output_type": "stream",
     "text": [
      "количество индексов не соответствует количеству значений\n",
      "['высшее' 'среднее' 'Среднее' 'СРЕДНЕЕ' 'ВЫСШЕЕ' 'неоконченное высшее'\n",
      " 'начальное' 'Высшее' 'НЕОКОНЧЕННОЕ ВЫСШЕЕ' 'Неоконченное высшее'\n",
      " 'НАЧАЛЬНОЕ' 'Начальное' 'Ученая степень' 'УЧЕНАЯ СТЕПЕНЬ'\n",
      " 'ученая степень']\n"
     ]
    }
   ],
   "source": [
    "unique_values_unique_id(data['education'], data['education_id'])"
   ]
  },
  {
   "cell_type": "markdown",
   "metadata": {},
   "source": [
    "Из-за написания данных об уровне образования в разном регистре могут возникнуть замаскированные повторы. Необходимо привести данные к единому формату - в нижнем регистре."
   ]
  },
  {
   "cell_type": "code",
   "execution_count": 27,
   "metadata": {},
   "outputs": [],
   "source": [
    "data['education'] = data['education'].str.lower()"
   ]
  },
  {
   "cell_type": "markdown",
   "metadata": {},
   "source": [
    "Проверка сответствия числа уникальных значений в столбце 'education' числу значений в столбце 'education_id'"
   ]
  },
  {
   "cell_type": "code",
   "execution_count": 28,
   "metadata": {},
   "outputs": [
    {
     "name": "stdout",
     "output_type": "stream",
     "text": [
      "количество индексов соответствует количеству значений\n",
      "['высшее' 'среднее' 'неоконченное высшее' 'начальное' 'ученая степень']\n"
     ]
    }
   ],
   "source": [
    "unique_values_unique_id(data['education'], data['education_id'])"
   ]
  },
  {
   "cell_type": "markdown",
   "metadata": {},
   "source": [
    "Проверка сответствия числа уникальных значений в столбце 'family_status' числу значений в столбце 'family_status_id'"
   ]
  },
  {
   "cell_type": "code",
   "execution_count": 29,
   "metadata": {
    "scrolled": true
   },
   "outputs": [
    {
     "name": "stdout",
     "output_type": "stream",
     "text": [
      "количество индексов соответствует количеству значений\n",
      "['женат / замужем' 'гражданский брак' 'вдовец / вдова' 'в разводе'\n",
      " 'Не женат / не замужем']\n"
     ]
    }
   ],
   "source": [
    "unique_values_unique_id(data['family_status'], data['family_status'])"
   ]
  },
  {
   "cell_type": "markdown",
   "metadata": {},
   "source": [
    "В столбце о семейном положении нет дублирующихся категорий, но следует привести данные к единому формату - в нижнем регистре"
   ]
  },
  {
   "cell_type": "code",
   "execution_count": 30,
   "metadata": {},
   "outputs": [],
   "source": [
    "data['family_status'] = data['family_status'].str.lower()"
   ]
  },
  {
   "cell_type": "markdown",
   "metadata": {},
   "source": [
    "Проверим количество дубликатов в таблице"
   ]
  },
  {
   "cell_type": "code",
   "execution_count": 31,
   "metadata": {},
   "outputs": [
    {
     "name": "stdout",
     "output_type": "stream",
     "text": [
      "Дубликатов в таблице:  72\n"
     ]
    }
   ],
   "source": [
    "print('Дубликатов в таблице: ', data.duplicated().sum())"
   ]
  },
  {
   "cell_type": "markdown",
   "metadata": {},
   "source": [
    "Количество дубликатов, найденных связкой методов duplicated().sum() увеличилось, так как в столбце `education` значения были записаны в разном регистре. Удалим дубликаты с методом reset_index():"
   ]
  },
  {
   "cell_type": "code",
   "execution_count": 32,
   "metadata": {},
   "outputs": [],
   "source": [
    "data = data.drop_duplicates().reset_index(drop = True)"
   ]
  },
  {
   "cell_type": "markdown",
   "metadata": {},
   "source": [
    "**Вывод**"
   ]
  },
  {
   "cell_type": "markdown",
   "metadata": {},
   "source": [
    "Дубликаты могут возникать из-за работы нескольких пользователей с одной таблицей, отсутствия ограничений для значений категорий, создания составной таблицы из других таблиц. В таблице с информацией о заёмщиках удалено 72 дубликата. Из-за написания уровня образования в разном регистре, первоначально методами duplicated().sum() удалось обнаружить только 55 повторяющихся строк. Данные в столбцах `education` и `family_status` приведены к нижнему регистру."
   ]
  },
  {
   "cell_type": "markdown",
   "metadata": {},
   "source": [
    "### Лемматизация"
   ]
  },
  {
   "cell_type": "markdown",
   "metadata": {},
   "source": [
    "Для того, чтобы определить категории для столбца `purpose`, необходимо произвести лемматизацию данных."
   ]
  },
  {
   "cell_type": "code",
   "execution_count": 33,
   "metadata": {},
   "outputs": [],
   "source": [
    "def lemma(text):\n",
    "    \"\"\"Принимает в качестве параметра текст и возвращает список лемм.\"\"\"\n",
    "    lemma = m.lemmatize(text)\n",
    "    return lemma"
   ]
  },
  {
   "cell_type": "markdown",
   "metadata": {},
   "source": [
    "Создание столбца, содержащего список лемм для данных из столбца о целях получения кредита"
   ]
  },
  {
   "cell_type": "code",
   "execution_count": 34,
   "metadata": {},
   "outputs": [],
   "source": [
    "data['purpose_lemma'] = data['purpose'].apply(lemma)"
   ]
  },
  {
   "cell_type": "markdown",
   "metadata": {},
   "source": [
    "Вызов метода Counter для подсчета частоты значений"
   ]
  },
  {
   "cell_type": "code",
   "execution_count": 35,
   "metadata": {
    "scrolled": true
   },
   "outputs": [
    {
     "data": {
      "text/plain": [
       "[(' ', 33568),\n",
       " ('\\n', 21453),\n",
       " ('недвижимость', 6351),\n",
       " ('покупка', 5897),\n",
       " ('жилье', 4460),\n",
       " ('автомобиль', 4306),\n",
       " ('образование', 4013),\n",
       " ('с', 2918),\n",
       " ('операция', 2604),\n",
       " ('свадьба', 2323),\n",
       " ('свой', 2230),\n",
       " ('на', 2221),\n",
       " ('строительство', 1878),\n",
       " ('высокий', 1374),\n",
       " ('получение', 1314),\n",
       " ('коммерческий', 1311),\n",
       " ('для', 1289),\n",
       " ('жилой', 1230),\n",
       " ('сделка', 941),\n",
       " ('дополнительный', 906),\n",
       " ('заниматься', 904),\n",
       " ('проведение', 767),\n",
       " ('сыграть', 765),\n",
       " ('сдача', 651),\n",
       " ('семья', 638),\n",
       " ('собственный', 635),\n",
       " ('со', 627),\n",
       " ('ремонт', 607),\n",
       " ('подержанный', 486),\n",
       " ('подержать', 478),\n",
       " ('приобретение', 461),\n",
       " ('профильный', 436)]"
      ]
     },
     "execution_count": 35,
     "metadata": {},
     "output_type": "execute_result"
    }
   ],
   "source": [
    "Counter(data['purpose_lemma'].sum()).most_common()"
   ]
  },
  {
   "cell_type": "markdown",
   "metadata": {},
   "source": [
    "**Вывод**"
   ]
  },
  {
   "cell_type": "markdown",
   "metadata": {},
   "source": [
    "Чтобы категоризировать столбец `purpose`, необходимо выделить часто встречающиеся цели получения кредита. Решить эту задачу может метод лемматизации и последующий подсчет частоты использования лемм. Полученные леммы позволяют выделить следующие категории: недвижимость(недвижимость, жильё), автомобиль, образование, свадьба. Цели, которые не попадают в обозначенные категории отнесём в общую категорию \"другое\"."
   ]
  },
  {
   "cell_type": "markdown",
   "metadata": {},
   "source": [
    "### Категоризация данных"
   ]
  },
  {
   "cell_type": "markdown",
   "metadata": {},
   "source": [
    "Сформируем категории для количества детей, месячного дохода и цели полувчения кредита:"
   ]
  },
  {
   "cell_type": "code",
   "execution_count": 36,
   "metadata": {
    "scrolled": true
   },
   "outputs": [],
   "source": [
    "def children_category(children):\n",
    "    \"\"\"Возвращает категорию, в зависимости от количества детей.\"\"\"\n",
    "    if children < 3:\n",
    "        return str(children)\n",
    "    return 'многодетный'"
   ]
  },
  {
   "cell_type": "markdown",
   "metadata": {},
   "source": [
    "Формирование столбца с категориями количества детей:"
   ]
  },
  {
   "cell_type": "code",
   "execution_count": 37,
   "metadata": {},
   "outputs": [],
   "source": [
    "data['children_category'] = data['children'].apply(children_category)"
   ]
  },
  {
   "cell_type": "code",
   "execution_count": 38,
   "metadata": {},
   "outputs": [],
   "source": [
    "def income_category(total_income):\n",
    "    \"\"\"Возвращает категорию, в зависимости от месячного дохода\"\"\"\n",
    "    if total_income < 100000:\n",
    "        return 'до 100000'\n",
    "    elif total_income < 200000:\n",
    "        return 'от 100000 до 200000'\n",
    "    elif total_income < 300000:\n",
    "        return 'от 200000 до 300000'\n",
    "    elif total_income < 400000:\n",
    "        return 'от 300000 до 400000'\n",
    "    return 'более 400000'"
   ]
  },
  {
   "cell_type": "markdown",
   "metadata": {},
   "source": [
    "Формирование столбца с категориями месячного дохода:"
   ]
  },
  {
   "cell_type": "code",
   "execution_count": 39,
   "metadata": {},
   "outputs": [],
   "source": [
    "data['income_category'] = data['total_income'].apply(income_category)"
   ]
  },
  {
   "cell_type": "code",
   "execution_count": 40,
   "metadata": {},
   "outputs": [],
   "source": [
    "def purpose_category(purpose_lemma):\n",
    "    \"\"\"Принимает спиок лемм, возвращает категорию в зависимости от соответствия условиям.\"\"\"\n",
    "    if 'жилье' in purpose_lemma or 'недвижимость' in purpose_lemma:\n",
    "        return 'недвижимость'\n",
    "    elif 'автомобиль' in purpose_lemma:\n",
    "        return 'автомобиль'\n",
    "    elif 'образование' in purpose_lemma:\n",
    "        return 'образование'\n",
    "    elif 'свадьба' in purpose_lemma:\n",
    "        return 'свадьба'\n",
    "    else:\n",
    "        return 'другое'"
   ]
  },
  {
   "cell_type": "markdown",
   "metadata": {},
   "source": [
    "Формирование столбца с категориями целей получения кредита:"
   ]
  },
  {
   "cell_type": "code",
   "execution_count": 41,
   "metadata": {},
   "outputs": [],
   "source": [
    "data['purpose_category'] = data['purpose_lemma'].apply(purpose_category)"
   ]
  },
  {
   "cell_type": "markdown",
   "metadata": {},
   "source": [
    "Создадим справочники для категориальных переменных:"
   ]
  },
  {
   "cell_type": "code",
   "execution_count": 42,
   "metadata": {},
   "outputs": [
    {
     "data": {
      "text/html": [
       "<div>\n",
       "<style scoped>\n",
       "    .dataframe tbody tr th:only-of-type {\n",
       "        vertical-align: middle;\n",
       "    }\n",
       "\n",
       "    .dataframe tbody tr th {\n",
       "        vertical-align: top;\n",
       "    }\n",
       "\n",
       "    .dataframe thead th {\n",
       "        text-align: right;\n",
       "    }\n",
       "</style>\n",
       "<table border=\"1\" class=\"dataframe\">\n",
       "  <thead>\n",
       "    <tr style=\"text-align: right;\">\n",
       "      <th></th>\n",
       "      <th>children_category</th>\n",
       "    </tr>\n",
       "  </thead>\n",
       "  <tbody>\n",
       "    <tr>\n",
       "      <td>0</td>\n",
       "      <td>1</td>\n",
       "    </tr>\n",
       "    <tr>\n",
       "      <td>1</td>\n",
       "      <td>0</td>\n",
       "    </tr>\n",
       "    <tr>\n",
       "      <td>2</td>\n",
       "      <td>многодетный</td>\n",
       "    </tr>\n",
       "    <tr>\n",
       "      <td>3</td>\n",
       "      <td>2</td>\n",
       "    </tr>\n",
       "  </tbody>\n",
       "</table>\n",
       "</div>"
      ],
      "text/plain": [
       "  children_category\n",
       "0                 1\n",
       "1                 0\n",
       "2       многодетный\n",
       "3                 2"
      ]
     },
     "execution_count": 42,
     "metadata": {},
     "output_type": "execute_result"
    }
   ],
   "source": [
    "children_dict = data[['children_category']].drop_duplicates().reset_index(drop = True)   \n",
    "children_dict"
   ]
  },
  {
   "cell_type": "markdown",
   "metadata": {},
   "source": [
    "Создадим справочник для категорий уровня образования:"
   ]
  },
  {
   "cell_type": "code",
   "execution_count": 43,
   "metadata": {
    "scrolled": true
   },
   "outputs": [
    {
     "data": {
      "text/html": [
       "<div>\n",
       "<style scoped>\n",
       "    .dataframe tbody tr th:only-of-type {\n",
       "        vertical-align: middle;\n",
       "    }\n",
       "\n",
       "    .dataframe tbody tr th {\n",
       "        vertical-align: top;\n",
       "    }\n",
       "\n",
       "    .dataframe thead th {\n",
       "        text-align: right;\n",
       "    }\n",
       "</style>\n",
       "<table border=\"1\" class=\"dataframe\">\n",
       "  <thead>\n",
       "    <tr style=\"text-align: right;\">\n",
       "      <th></th>\n",
       "      <th>education</th>\n",
       "      <th>education_id</th>\n",
       "    </tr>\n",
       "  </thead>\n",
       "  <tbody>\n",
       "    <tr>\n",
       "      <td>0</td>\n",
       "      <td>высшее</td>\n",
       "      <td>0</td>\n",
       "    </tr>\n",
       "    <tr>\n",
       "      <td>1</td>\n",
       "      <td>среднее</td>\n",
       "      <td>1</td>\n",
       "    </tr>\n",
       "    <tr>\n",
       "      <td>2</td>\n",
       "      <td>неоконченное высшее</td>\n",
       "      <td>2</td>\n",
       "    </tr>\n",
       "    <tr>\n",
       "      <td>3</td>\n",
       "      <td>начальное</td>\n",
       "      <td>3</td>\n",
       "    </tr>\n",
       "    <tr>\n",
       "      <td>4</td>\n",
       "      <td>ученая степень</td>\n",
       "      <td>4</td>\n",
       "    </tr>\n",
       "  </tbody>\n",
       "</table>\n",
       "</div>"
      ],
      "text/plain": [
       "             education  education_id\n",
       "0               высшее             0\n",
       "1              среднее             1\n",
       "2  неоконченное высшее             2\n",
       "3            начальное             3\n",
       "4       ученая степень             4"
      ]
     },
     "execution_count": 43,
     "metadata": {},
     "output_type": "execute_result"
    }
   ],
   "source": [
    "education_dict = data[['education', 'education_id']].drop_duplicates().reset_index(drop = True)\n",
    "education_dict"
   ]
  },
  {
   "cell_type": "markdown",
   "metadata": {},
   "source": [
    "Создадим справочник для категорий семейного статуса:"
   ]
  },
  {
   "cell_type": "code",
   "execution_count": 44,
   "metadata": {},
   "outputs": [
    {
     "data": {
      "text/html": [
       "<div>\n",
       "<style scoped>\n",
       "    .dataframe tbody tr th:only-of-type {\n",
       "        vertical-align: middle;\n",
       "    }\n",
       "\n",
       "    .dataframe tbody tr th {\n",
       "        vertical-align: top;\n",
       "    }\n",
       "\n",
       "    .dataframe thead th {\n",
       "        text-align: right;\n",
       "    }\n",
       "</style>\n",
       "<table border=\"1\" class=\"dataframe\">\n",
       "  <thead>\n",
       "    <tr style=\"text-align: right;\">\n",
       "      <th></th>\n",
       "      <th>family_status</th>\n",
       "      <th>family_status_id</th>\n",
       "    </tr>\n",
       "  </thead>\n",
       "  <tbody>\n",
       "    <tr>\n",
       "      <td>0</td>\n",
       "      <td>женат / замужем</td>\n",
       "      <td>0</td>\n",
       "    </tr>\n",
       "    <tr>\n",
       "      <td>1</td>\n",
       "      <td>гражданский брак</td>\n",
       "      <td>1</td>\n",
       "    </tr>\n",
       "    <tr>\n",
       "      <td>2</td>\n",
       "      <td>вдовец / вдова</td>\n",
       "      <td>2</td>\n",
       "    </tr>\n",
       "    <tr>\n",
       "      <td>3</td>\n",
       "      <td>в разводе</td>\n",
       "      <td>3</td>\n",
       "    </tr>\n",
       "    <tr>\n",
       "      <td>4</td>\n",
       "      <td>не женат / не замужем</td>\n",
       "      <td>4</td>\n",
       "    </tr>\n",
       "  </tbody>\n",
       "</table>\n",
       "</div>"
      ],
      "text/plain": [
       "           family_status  family_status_id\n",
       "0        женат / замужем                 0\n",
       "1       гражданский брак                 1\n",
       "2         вдовец / вдова                 2\n",
       "3              в разводе                 3\n",
       "4  не женат / не замужем                 4"
      ]
     },
     "execution_count": 44,
     "metadata": {},
     "output_type": "execute_result"
    }
   ],
   "source": [
    "family_status_dict = data[['family_status', 'family_status_id']].drop_duplicates().reset_index(drop = True)\n",
    "family_status_dict"
   ]
  },
  {
   "cell_type": "markdown",
   "metadata": {},
   "source": [
    "Создадим справочник справочник для категорий пола:"
   ]
  },
  {
   "cell_type": "code",
   "execution_count": 45,
   "metadata": {
    "scrolled": true
   },
   "outputs": [
    {
     "data": {
      "text/html": [
       "<div>\n",
       "<style scoped>\n",
       "    .dataframe tbody tr th:only-of-type {\n",
       "        vertical-align: middle;\n",
       "    }\n",
       "\n",
       "    .dataframe tbody tr th {\n",
       "        vertical-align: top;\n",
       "    }\n",
       "\n",
       "    .dataframe thead th {\n",
       "        text-align: right;\n",
       "    }\n",
       "</style>\n",
       "<table border=\"1\" class=\"dataframe\">\n",
       "  <thead>\n",
       "    <tr style=\"text-align: right;\">\n",
       "      <th></th>\n",
       "      <th>gender</th>\n",
       "    </tr>\n",
       "  </thead>\n",
       "  <tbody>\n",
       "    <tr>\n",
       "      <td>0</td>\n",
       "      <td>F</td>\n",
       "    </tr>\n",
       "    <tr>\n",
       "      <td>1</td>\n",
       "      <td>M</td>\n",
       "    </tr>\n",
       "  </tbody>\n",
       "</table>\n",
       "</div>"
      ],
      "text/plain": [
       "  gender\n",
       "0      F\n",
       "1      M"
      ]
     },
     "execution_count": 45,
     "metadata": {},
     "output_type": "execute_result"
    }
   ],
   "source": [
    "gender_dict = data[['gender']].drop_duplicates().reset_index(drop = True)\n",
    "gender_dict"
   ]
  },
  {
   "cell_type": "markdown",
   "metadata": {},
   "source": [
    "Создадим справочник для категорий типа занятости:"
   ]
  },
  {
   "cell_type": "code",
   "execution_count": 46,
   "metadata": {},
   "outputs": [
    {
     "data": {
      "text/html": [
       "<div>\n",
       "<style scoped>\n",
       "    .dataframe tbody tr th:only-of-type {\n",
       "        vertical-align: middle;\n",
       "    }\n",
       "\n",
       "    .dataframe tbody tr th {\n",
       "        vertical-align: top;\n",
       "    }\n",
       "\n",
       "    .dataframe thead th {\n",
       "        text-align: right;\n",
       "    }\n",
       "</style>\n",
       "<table border=\"1\" class=\"dataframe\">\n",
       "  <thead>\n",
       "    <tr style=\"text-align: right;\">\n",
       "      <th></th>\n",
       "      <th>income_type</th>\n",
       "    </tr>\n",
       "  </thead>\n",
       "  <tbody>\n",
       "    <tr>\n",
       "      <td>0</td>\n",
       "      <td>сотрудник</td>\n",
       "    </tr>\n",
       "    <tr>\n",
       "      <td>1</td>\n",
       "      <td>пенсионер</td>\n",
       "    </tr>\n",
       "    <tr>\n",
       "      <td>2</td>\n",
       "      <td>компаньон</td>\n",
       "    </tr>\n",
       "    <tr>\n",
       "      <td>3</td>\n",
       "      <td>госслужащий</td>\n",
       "    </tr>\n",
       "    <tr>\n",
       "      <td>4</td>\n",
       "      <td>безработный</td>\n",
       "    </tr>\n",
       "    <tr>\n",
       "      <td>5</td>\n",
       "      <td>предприниматель</td>\n",
       "    </tr>\n",
       "    <tr>\n",
       "      <td>6</td>\n",
       "      <td>студент</td>\n",
       "    </tr>\n",
       "    <tr>\n",
       "      <td>7</td>\n",
       "      <td>в декрете</td>\n",
       "    </tr>\n",
       "  </tbody>\n",
       "</table>\n",
       "</div>"
      ],
      "text/plain": [
       "       income_type\n",
       "0        сотрудник\n",
       "1        пенсионер\n",
       "2        компаньон\n",
       "3      госслужащий\n",
       "4      безработный\n",
       "5  предприниматель\n",
       "6          студент\n",
       "7        в декрете"
      ]
     },
     "execution_count": 46,
     "metadata": {},
     "output_type": "execute_result"
    }
   ],
   "source": [
    "income_type_dict = data[['income_type']].drop_duplicates().reset_index(drop = True)\n",
    "income_type_dict"
   ]
  },
  {
   "cell_type": "markdown",
   "metadata": {},
   "source": [
    "Создадим справочник для категорий целей получения кредита:"
   ]
  },
  {
   "cell_type": "code",
   "execution_count": 47,
   "metadata": {},
   "outputs": [
    {
     "data": {
      "text/html": [
       "<div>\n",
       "<style scoped>\n",
       "    .dataframe tbody tr th:only-of-type {\n",
       "        vertical-align: middle;\n",
       "    }\n",
       "\n",
       "    .dataframe tbody tr th {\n",
       "        vertical-align: top;\n",
       "    }\n",
       "\n",
       "    .dataframe thead th {\n",
       "        text-align: right;\n",
       "    }\n",
       "</style>\n",
       "<table border=\"1\" class=\"dataframe\">\n",
       "  <thead>\n",
       "    <tr style=\"text-align: right;\">\n",
       "      <th></th>\n",
       "      <th>purpose_category</th>\n",
       "    </tr>\n",
       "  </thead>\n",
       "  <tbody>\n",
       "    <tr>\n",
       "      <td>0</td>\n",
       "      <td>недвижимость</td>\n",
       "    </tr>\n",
       "    <tr>\n",
       "      <td>1</td>\n",
       "      <td>автомобиль</td>\n",
       "    </tr>\n",
       "    <tr>\n",
       "      <td>2</td>\n",
       "      <td>образование</td>\n",
       "    </tr>\n",
       "    <tr>\n",
       "      <td>3</td>\n",
       "      <td>свадьба</td>\n",
       "    </tr>\n",
       "  </tbody>\n",
       "</table>\n",
       "</div>"
      ],
      "text/plain": [
       "  purpose_category\n",
       "0     недвижимость\n",
       "1       автомобиль\n",
       "2      образование\n",
       "3          свадьба"
      ]
     },
     "execution_count": 47,
     "metadata": {},
     "output_type": "execute_result"
    }
   ],
   "source": [
    "purpose_dict = data[['purpose_category']].drop_duplicates().reset_index(drop = True)\n",
    "purpose_dict"
   ]
  },
  {
   "cell_type": "markdown",
   "metadata": {},
   "source": [
    "**Вывод**"
   ]
  },
  {
   "cell_type": "markdown",
   "metadata": {},
   "source": [
    "Для анализа зависимости задолженности по кредиту, для данных о количестве детей, ежемесячном доходе и цели получения кредита сформированы категории. Для всех столбцов с категориальными значениями созданы таблицы-справочники."
   ]
  },
  {
   "cell_type": "markdown",
   "metadata": {},
   "source": [
    "## Шаг 3. Ответьте на вопросы"
   ]
  },
  {
   "cell_type": "markdown",
   "metadata": {},
   "source": [
    "- Есть ли зависимость между наличием детей и возвратом кредита в срок?"
   ]
  },
  {
   "cell_type": "markdown",
   "metadata": {},
   "source": [
    "Формирование сводной таблицы, с группировкой по столбцу `children_category`:"
   ]
  },
  {
   "cell_type": "code",
   "execution_count": 48,
   "metadata": {},
   "outputs": [
    {
     "data": {
      "text/html": [
       "<style  type=\"text/css\" >\n",
       "</style><table id=\"T_478e708a_72b0_11ec_8192_02420a39f3d3\" ><thead>    <tr>        <th class=\"blank level0\" ></th>        <th class=\"col_heading level0 col0\" >count</th>        <th class=\"col_heading level0 col1\" >%</th>    </tr>    <tr>        <th class=\"index_name level0\" >children_category</th>        <th class=\"blank\" ></th>        <th class=\"blank\" ></th>    </tr></thead><tbody>\n",
       "                <tr>\n",
       "                        <th id=\"T_478e708a_72b0_11ec_8192_02420a39f3d3level0_row0\" class=\"row_heading level0 row0\" >0</th>\n",
       "                        <td id=\"T_478e708a_72b0_11ec_8192_02420a39f3d3row0_col0\" class=\"data row0 col0\" >14137</td>\n",
       "                        <td id=\"T_478e708a_72b0_11ec_8192_02420a39f3d3row0_col1\" class=\"data row0 col1\" >7.53%</td>\n",
       "            </tr>\n",
       "            <tr>\n",
       "                        <th id=\"T_478e708a_72b0_11ec_8192_02420a39f3d3level0_row1\" class=\"row_heading level0 row1\" >1</th>\n",
       "                        <td id=\"T_478e708a_72b0_11ec_8192_02420a39f3d3row1_col0\" class=\"data row1 col0\" >4808</td>\n",
       "                        <td id=\"T_478e708a_72b0_11ec_8192_02420a39f3d3row1_col1\" class=\"data row1 col1\" >9.23%</td>\n",
       "            </tr>\n",
       "            <tr>\n",
       "                        <th id=\"T_478e708a_72b0_11ec_8192_02420a39f3d3level0_row2\" class=\"row_heading level0 row2\" >2</th>\n",
       "                        <td id=\"T_478e708a_72b0_11ec_8192_02420a39f3d3row2_col0\" class=\"data row2 col0\" >2128</td>\n",
       "                        <td id=\"T_478e708a_72b0_11ec_8192_02420a39f3d3row2_col1\" class=\"data row2 col1\" >9.49%</td>\n",
       "            </tr>\n",
       "            <tr>\n",
       "                        <th id=\"T_478e708a_72b0_11ec_8192_02420a39f3d3level0_row3\" class=\"row_heading level0 row3\" >многодетный</th>\n",
       "                        <td id=\"T_478e708a_72b0_11ec_8192_02420a39f3d3row3_col0\" class=\"data row3 col0\" >380</td>\n",
       "                        <td id=\"T_478e708a_72b0_11ec_8192_02420a39f3d3row3_col1\" class=\"data row3 col1\" >8.16%</td>\n",
       "            </tr>\n",
       "    </tbody></table>"
      ],
      "text/plain": [
       "<pandas.io.formats.style.Styler at 0x7f57840a0110>"
      ]
     },
     "execution_count": 48,
     "metadata": {},
     "output_type": "execute_result"
    }
   ],
   "source": [
    "children = data.pivot_table(index = 'children_category', values = 'debt', aggfunc = ['count', 'mean'])\n",
    "children.columns = ['count', '%']\n",
    "children = children.style.format({'%': '{:.2%}'})\n",
    "children"
   ]
  },
  {
   "cell_type": "markdown",
   "metadata": {},
   "source": [
    "**Вывод**"
   ]
  },
  {
   "cell_type": "markdown",
   "metadata": {},
   "source": [
    "Заёмщики с детьми чаще имеют задолженность по кредиту, по сравнению с бездетными. Многодетные заёмщики имеют меньший процент задолженности по сравнению с теми, у кого 1 или 2 ребенка, что можно объяснить дополнительными льготами для семей с тремя и более детей. Чаще всего просрочивали выплату по кредиту заёмщики с двумя детьми, так как они имеют меньше льгот по сравнению с категорией \"многодетные\", но больше непрогнозируемых трат, чем заёмщики с одним ребёнком. "
   ]
  },
  {
   "cell_type": "markdown",
   "metadata": {},
   "source": [
    "- Есть ли зависимость между семейным положением и возвратом кредита в срок?"
   ]
  },
  {
   "cell_type": "markdown",
   "metadata": {},
   "source": [
    "Формирование сводной таблицы, с группировкой по столбцу `family_status`:"
   ]
  },
  {
   "cell_type": "code",
   "execution_count": 49,
   "metadata": {},
   "outputs": [
    {
     "data": {
      "text/html": [
       "<style  type=\"text/css\" >\n",
       "</style><table id=\"T_4792af42_72b0_11ec_8192_02420a39f3d3\" ><thead>    <tr>        <th class=\"blank level0\" ></th>        <th class=\"col_heading level0 col0\" >count</th>        <th class=\"col_heading level0 col1\" >%</th>    </tr>    <tr>        <th class=\"index_name level0\" >family_status</th>        <th class=\"blank\" ></th>        <th class=\"blank\" ></th>    </tr></thead><tbody>\n",
       "                <tr>\n",
       "                        <th id=\"T_4792af42_72b0_11ec_8192_02420a39f3d3level0_row0\" class=\"row_heading level0 row0\" >в разводе</th>\n",
       "                        <td id=\"T_4792af42_72b0_11ec_8192_02420a39f3d3row0_col0\" class=\"data row0 col0\" >1195</td>\n",
       "                        <td id=\"T_4792af42_72b0_11ec_8192_02420a39f3d3row0_col1\" class=\"data row0 col1\" >7.11%</td>\n",
       "            </tr>\n",
       "            <tr>\n",
       "                        <th id=\"T_4792af42_72b0_11ec_8192_02420a39f3d3level0_row1\" class=\"row_heading level0 row1\" >вдовец / вдова</th>\n",
       "                        <td id=\"T_4792af42_72b0_11ec_8192_02420a39f3d3row1_col0\" class=\"data row1 col0\" >959</td>\n",
       "                        <td id=\"T_4792af42_72b0_11ec_8192_02420a39f3d3row1_col1\" class=\"data row1 col1\" >6.57%</td>\n",
       "            </tr>\n",
       "            <tr>\n",
       "                        <th id=\"T_4792af42_72b0_11ec_8192_02420a39f3d3level0_row2\" class=\"row_heading level0 row2\" >гражданский брак</th>\n",
       "                        <td id=\"T_4792af42_72b0_11ec_8192_02420a39f3d3row2_col0\" class=\"data row2 col0\" >4150</td>\n",
       "                        <td id=\"T_4792af42_72b0_11ec_8192_02420a39f3d3row2_col1\" class=\"data row2 col1\" >9.35%</td>\n",
       "            </tr>\n",
       "            <tr>\n",
       "                        <th id=\"T_4792af42_72b0_11ec_8192_02420a39f3d3level0_row3\" class=\"row_heading level0 row3\" >женат / замужем</th>\n",
       "                        <td id=\"T_4792af42_72b0_11ec_8192_02420a39f3d3row3_col0\" class=\"data row3 col0\" >12339</td>\n",
       "                        <td id=\"T_4792af42_72b0_11ec_8192_02420a39f3d3row3_col1\" class=\"data row3 col1\" >7.55%</td>\n",
       "            </tr>\n",
       "            <tr>\n",
       "                        <th id=\"T_4792af42_72b0_11ec_8192_02420a39f3d3level0_row4\" class=\"row_heading level0 row4\" >не женат / не замужем</th>\n",
       "                        <td id=\"T_4792af42_72b0_11ec_8192_02420a39f3d3row4_col0\" class=\"data row4 col0\" >2810</td>\n",
       "                        <td id=\"T_4792af42_72b0_11ec_8192_02420a39f3d3row4_col1\" class=\"data row4 col1\" >9.75%</td>\n",
       "            </tr>\n",
       "    </tbody></table>"
      ],
      "text/plain": [
       "<pandas.io.formats.style.Styler at 0x7f57ccd0f8d0>"
      ]
     },
     "execution_count": 49,
     "metadata": {},
     "output_type": "execute_result"
    }
   ],
   "source": [
    "family_status = data.pivot_table(index = 'family_status', values = 'debt', aggfunc = ['count', 'mean'])\n",
    "family_status.columns = ['count', '%']\n",
    "famyly = family_status.style.format({'%': '{:.2%}'})\n",
    "famyly"
   ]
  },
  {
   "cell_type": "markdown",
   "metadata": {},
   "source": [
    "**Вывод**"
   ]
  },
  {
   "cell_type": "markdown",
   "metadata": {},
   "source": [
    "Чаще остальных имеют задолженность по кредиту заёмщики, не состоящие сейчас и ранее в зарегистрированных отношениях. Заёмщики, состоящие в браке, чаще ведут общий бюджет и благодаря этому реже имеют задолженность в случае непредвиденных трат.     "
   ]
  },
  {
   "cell_type": "markdown",
   "metadata": {},
   "source": [
    "- Есть ли зависимость между уровнем дохода и возвратом кредита в срок?"
   ]
  },
  {
   "cell_type": "markdown",
   "metadata": {},
   "source": [
    "Формирование сводной таблицы, с группировкой по столбцу `income_category`:"
   ]
  },
  {
   "cell_type": "code",
   "execution_count": 50,
   "metadata": {},
   "outputs": [
    {
     "data": {
      "text/html": [
       "<style  type=\"text/css\" >\n",
       "</style><table id=\"T_4795c0a6_72b0_11ec_8192_02420a39f3d3\" ><thead>    <tr>        <th class=\"blank level0\" ></th>        <th class=\"col_heading level0 col0\" >count</th>        <th class=\"col_heading level0 col1\" >%</th>    </tr>    <tr>        <th class=\"index_name level0\" >income_category</th>        <th class=\"blank\" ></th>        <th class=\"blank\" ></th>    </tr></thead><tbody>\n",
       "                <tr>\n",
       "                        <th id=\"T_4795c0a6_72b0_11ec_8192_02420a39f3d3level0_row0\" class=\"row_heading level0 row0\" >более 400000</th>\n",
       "                        <td id=\"T_4795c0a6_72b0_11ec_8192_02420a39f3d3row0_col0\" class=\"data row0 col0\" >528</td>\n",
       "                        <td id=\"T_4795c0a6_72b0_11ec_8192_02420a39f3d3row0_col1\" class=\"data row0 col1\" >5.87%</td>\n",
       "            </tr>\n",
       "            <tr>\n",
       "                        <th id=\"T_4795c0a6_72b0_11ec_8192_02420a39f3d3level0_row1\" class=\"row_heading level0 row1\" >от 200000 до 300000</th>\n",
       "                        <td id=\"T_4795c0a6_72b0_11ec_8192_02420a39f3d3row1_col0\" class=\"data row1 col0\" >3584</td>\n",
       "                        <td id=\"T_4795c0a6_72b0_11ec_8192_02420a39f3d3row1_col1\" class=\"data row1 col1\" >7.03%</td>\n",
       "            </tr>\n",
       "            <tr>\n",
       "                        <th id=\"T_4795c0a6_72b0_11ec_8192_02420a39f3d3level0_row2\" class=\"row_heading level0 row2\" >от 300000 до 400000</th>\n",
       "                        <td id=\"T_4795c0a6_72b0_11ec_8192_02420a39f3d3row2_col0\" class=\"data row2 col0\" >954</td>\n",
       "                        <td id=\"T_4795c0a6_72b0_11ec_8192_02420a39f3d3row2_col1\" class=\"data row2 col1\" >7.86%</td>\n",
       "            </tr>\n",
       "            <tr>\n",
       "                        <th id=\"T_4795c0a6_72b0_11ec_8192_02420a39f3d3level0_row3\" class=\"row_heading level0 row3\" >до 100000</th>\n",
       "                        <td id=\"T_4795c0a6_72b0_11ec_8192_02420a39f3d3row3_col0\" class=\"data row3 col0\" >4463</td>\n",
       "                        <td id=\"T_4795c0a6_72b0_11ec_8192_02420a39f3d3row3_col1\" class=\"data row3 col1\" >7.93%</td>\n",
       "            </tr>\n",
       "            <tr>\n",
       "                        <th id=\"T_4795c0a6_72b0_11ec_8192_02420a39f3d3level0_row4\" class=\"row_heading level0 row4\" >от 100000 до 200000</th>\n",
       "                        <td id=\"T_4795c0a6_72b0_11ec_8192_02420a39f3d3row4_col0\" class=\"data row4 col0\" >11924</td>\n",
       "                        <td id=\"T_4795c0a6_72b0_11ec_8192_02420a39f3d3row4_col1\" class=\"data row4 col1\" >8.63%</td>\n",
       "            </tr>\n",
       "    </tbody></table>"
      ],
      "text/plain": [
       "<pandas.io.formats.style.Styler at 0x7f57cc2e6c50>"
      ]
     },
     "execution_count": 50,
     "metadata": {},
     "output_type": "execute_result"
    }
   ],
   "source": [
    "income = data.pivot_table(index = 'income_category', values = 'debt', aggfunc = ['count', 'mean'])\n",
    "income.columns = ['count', '%']\n",
    "income = income.sort_values(by = '%').style.format({'%': '{:.2%}'})\n",
    "income"
   ]
  },
  {
   "cell_type": "markdown",
   "metadata": {},
   "source": [
    "**Вывод**"
   ]
  },
  {
   "cell_type": "markdown",
   "metadata": {},
   "source": [
    "Из полученных от банка данных не ясно, как соотносится размер кредита, ежемесячный платеж и ежемесячный доход. Заёмщики с высоким уровнем дохода чаще остальных выплачивали кредит в срок, а большинство должников имеют месячный доход от 100000 до 200000. Для остальных категорий процент задолженностей не сильно отличается."
   ]
  },
  {
   "cell_type": "markdown",
   "metadata": {},
   "source": [
    "- Как разные цели кредита влияют на его возврат в срок?"
   ]
  },
  {
   "cell_type": "markdown",
   "metadata": {},
   "source": [
    "Формирование сводной таблицы, с группировкой по столбцу `purpose_category`:"
   ]
  },
  {
   "cell_type": "code",
   "execution_count": 51,
   "metadata": {},
   "outputs": [
    {
     "data": {
      "text/html": [
       "<style  type=\"text/css\" >\n",
       "</style><table id=\"T_4798d6ce_72b0_11ec_8192_02420a39f3d3\" ><thead>    <tr>        <th class=\"blank level0\" ></th>        <th class=\"col_heading level0 col0\" >count</th>        <th class=\"col_heading level0 col1\" >%</th>    </tr>    <tr>        <th class=\"index_name level0\" >purpose_category</th>        <th class=\"blank\" ></th>        <th class=\"blank\" ></th>    </tr></thead><tbody>\n",
       "                <tr>\n",
       "                        <th id=\"T_4798d6ce_72b0_11ec_8192_02420a39f3d3level0_row0\" class=\"row_heading level0 row0\" >автомобиль</th>\n",
       "                        <td id=\"T_4798d6ce_72b0_11ec_8192_02420a39f3d3row0_col0\" class=\"data row0 col0\" >4306</td>\n",
       "                        <td id=\"T_4798d6ce_72b0_11ec_8192_02420a39f3d3row0_col1\" class=\"data row0 col1\" >9.36%</td>\n",
       "            </tr>\n",
       "            <tr>\n",
       "                        <th id=\"T_4798d6ce_72b0_11ec_8192_02420a39f3d3level0_row1\" class=\"row_heading level0 row1\" >недвижимость</th>\n",
       "                        <td id=\"T_4798d6ce_72b0_11ec_8192_02420a39f3d3row1_col0\" class=\"data row1 col0\" >10811</td>\n",
       "                        <td id=\"T_4798d6ce_72b0_11ec_8192_02420a39f3d3row1_col1\" class=\"data row1 col1\" >7.23%</td>\n",
       "            </tr>\n",
       "            <tr>\n",
       "                        <th id=\"T_4798d6ce_72b0_11ec_8192_02420a39f3d3level0_row2\" class=\"row_heading level0 row2\" >образование</th>\n",
       "                        <td id=\"T_4798d6ce_72b0_11ec_8192_02420a39f3d3row2_col0\" class=\"data row2 col0\" >4013</td>\n",
       "                        <td id=\"T_4798d6ce_72b0_11ec_8192_02420a39f3d3row2_col1\" class=\"data row2 col1\" >9.22%</td>\n",
       "            </tr>\n",
       "            <tr>\n",
       "                        <th id=\"T_4798d6ce_72b0_11ec_8192_02420a39f3d3level0_row3\" class=\"row_heading level0 row3\" >свадьба</th>\n",
       "                        <td id=\"T_4798d6ce_72b0_11ec_8192_02420a39f3d3row3_col0\" class=\"data row3 col0\" >2323</td>\n",
       "                        <td id=\"T_4798d6ce_72b0_11ec_8192_02420a39f3d3row3_col1\" class=\"data row3 col1\" >8.01%</td>\n",
       "            </tr>\n",
       "    </tbody></table>"
      ],
      "text/plain": [
       "<pandas.io.formats.style.Styler at 0x7f57ccd0f910>"
      ]
     },
     "execution_count": 51,
     "metadata": {},
     "output_type": "execute_result"
    }
   ],
   "source": [
    "purpose = data.pivot_table(index = 'purpose_category', values = 'debt', aggfunc = ['count', 'mean'])\n",
    "purpose.columns = ['count', '%']\n",
    "purpose = purpose.style.format({'%': '{:.2%}'})\n",
    "purpose"
   ]
  },
  {
   "cell_type": "markdown",
   "metadata": {},
   "source": [
    "**Вывод**"
   ]
  },
  {
   "cell_type": "markdown",
   "metadata": {},
   "source": [
    "Самой частой целью получения кредита являются операции с недвижемостью, заемщики из этой категории чаще возвращают кредит в срок. Заёмщики, чьей целью получения кредита были операции с автомобилем и получение образования, чаще остальных имели задолженность по кредиту. Если автомобиль приобретался как средство заработка, то в случае поломки заёмщик несёт не только затраты на ремонт, но и не имеет средств к выплате кредита. Получение образования не гарантирует трудоустройсво, а значит заемщик может не иметь средств выплачивать кредит в срок. Заемщики, берущие кредит на проведение свадьбы, обычно планирует выплачивать кредит из подаренных средств. Вероятно, что эта стратегия работает в ~92% случаев."
   ]
  },
  {
   "cell_type": "markdown",
   "metadata": {},
   "source": [
    "## Шаг 4. Общий вывод"
   ]
  },
  {
   "cell_type": "markdown",
   "metadata": {},
   "source": [
    "***Рабочая гипотеза:*** На возврат кредитав в срок влияют количество детей заёмщика, семейное положение, ежемесячный доход, цель получения кредита.\n",
    "\n",
    "Был проведен исследовательский анализ данных о платежеспособности заёмщиков, полученных от банка. \n",
    "В предоставленных данных обнаружены и обработаны пропуски. Некорректные значения исправлены, выявлены и удалены дубликаты. Для поиска зависимости того, как на возврат кредита без задолженности влияют количество детей,  семейное положение, доход и цель получения была проведена категоризация данных. Так как цели получения кредита имеют широкий спектр значений, для категоризации этого фактора была проведена лемматиация, что позволило выделить следующие категории: недвижимость, автомобиль, образование, свадьба.\n",
    "\n",
    "Влияние количества детей на возврат кредита в срок:\n",
    "\n",
    "- реже остальных задерживали выплату заёмщики без детей - в 7.53% случаев\n",
    "- заёмщики с одним ребенком оказывались в должниках в 9.23% случаев, с двумя детьми - в 9.49%\n",
    "- многодетные заёмщики просрочивали выплаты в 8.16% случаев\n",
    "\n",
    "Влияние семейного положения:\n",
    "\n",
    "- не состоящие в браке заёмщики опыздывали с платежом в 9.75% случаев\n",
    "- состоящие в гражданском браке - в 9.35 % случаев\n",
    "- состоящие в зарегистрированном браке становились должниками в 7.55% случаев\n",
    "- среди заёмщиков в разводе должников 7.11%\n",
    "- овдовевшие заёмщики не возвращили кредит в рок лишь в 6.75% случаев\n",
    "\n",
    "Влияние уровня дохода:\n",
    "\n",
    "- чаще остальных оказывались в должниках заёмщики с ежемесячным доходом от 100000 до 200000 - 8.63%\n",
    "- меньше всего должников среди заёмщиков с доходом выше 400000 - 5.87%\n",
    "- должники среди заёмщиков с доходом до 100000 - 7.93%\n",
    "- должники среди заёмщиков с доходом от 200000 до 300000 - 7.03%\n",
    "- должники среди заёмщиков с доходом от 300000 до 400000 - 7.86%\n",
    "\n",
    "Влияние цели получения кредита на задолженность:\n",
    "\n",
    "- чаще остальных задерживали выплату по кредиту те заёмщики, чьей целью были операции с атовомобилем - 9.36% и образование - 9.22%\n",
    "- заёмщики, оформляющие получение кредита на проведение свадьбы, оказывались в должникав в 8.01% случаев\n",
    "- заёмщики, оформляющие кредит на проведение операций с недвижимостью, задерживали выплату по кредиту лишь в 7.23% случаев.\n",
    "\n",
    "Наибольшую разницу между максимальным и минимальным числом должников по категориям имеет фактор семейного положения - 3%. В этом факторе выделена категорияс наибольшим числом должников:  \"не женат / не замужем\" - 9.75%."
   ]
  }
 ],
 "metadata": {
  "ExecuteTimeLog": [
   {
    "duration": 931,
    "start_time": "2021-07-29T12:42:14.762Z"
   },
   {
    "duration": 80,
    "start_time": "2021-07-29T12:48:36.778Z"
   },
   {
    "duration": 75,
    "start_time": "2021-07-29T12:49:18.418Z"
   },
   {
    "duration": 3,
    "start_time": "2021-07-29T12:57:13.718Z"
   },
   {
    "duration": 72,
    "start_time": "2021-07-29T12:59:51.744Z"
   },
   {
    "duration": 46,
    "start_time": "2021-07-29T13:41:34.006Z"
   },
   {
    "duration": 29,
    "start_time": "2021-07-29T13:43:25.874Z"
   },
   {
    "duration": 31,
    "start_time": "2021-07-29T13:48:55.509Z"
   },
   {
    "duration": 465,
    "start_time": "2021-07-29T14:09:26.914Z"
   },
   {
    "duration": 393,
    "start_time": "2021-07-29T14:09:41.946Z"
   },
   {
    "duration": 13,
    "start_time": "2021-07-29T14:10:30.061Z"
   },
   {
    "duration": 15,
    "start_time": "2021-07-29T14:11:19.210Z"
   },
   {
    "duration": 13,
    "start_time": "2021-07-29T14:11:37.465Z"
   },
   {
    "duration": 8,
    "start_time": "2021-07-29T14:12:56.379Z"
   },
   {
    "duration": 35,
    "start_time": "2021-07-29T14:14:03.478Z"
   },
   {
    "duration": 44,
    "start_time": "2021-07-29T14:14:36.082Z"
   },
   {
    "duration": 12,
    "start_time": "2021-07-29T14:14:48.154Z"
   },
   {
    "duration": 34,
    "start_time": "2021-07-29T14:14:57.808Z"
   },
   {
    "duration": 9,
    "start_time": "2021-07-29T14:15:23.466Z"
   },
   {
    "duration": 306,
    "start_time": "2021-07-29T18:49:44.061Z"
   },
   {
    "duration": 256,
    "start_time": "2021-07-29T18:50:05.038Z"
   },
   {
    "duration": 745,
    "start_time": "2021-07-29T18:50:13.665Z"
   },
   {
    "duration": 77,
    "start_time": "2021-07-29T18:50:14.413Z"
   },
   {
    "duration": 42,
    "start_time": "2021-07-29T18:50:18.719Z"
   },
   {
    "duration": 9,
    "start_time": "2021-07-29T18:50:28.195Z"
   },
   {
    "duration": 34,
    "start_time": "2021-07-29T18:50:46.725Z"
   },
   {
    "duration": 11,
    "start_time": "2021-07-29T18:53:28.003Z"
   },
   {
    "duration": 89,
    "start_time": "2021-07-29T18:55:13.373Z"
   },
   {
    "duration": 12,
    "start_time": "2021-07-29T18:55:21.988Z"
   },
   {
    "duration": 80,
    "start_time": "2021-07-29T19:02:17.145Z"
   },
   {
    "duration": 40,
    "start_time": "2021-07-29T19:02:49.944Z"
   },
   {
    "duration": 37,
    "start_time": "2021-07-29T19:05:10.867Z"
   },
   {
    "duration": 35,
    "start_time": "2021-07-29T19:05:25.131Z"
   },
   {
    "duration": 12,
    "start_time": "2021-07-29T19:06:04.167Z"
   },
   {
    "duration": 11,
    "start_time": "2021-07-29T19:08:03.536Z"
   },
   {
    "duration": 14,
    "start_time": "2021-07-29T19:08:38.023Z"
   },
   {
    "duration": 11,
    "start_time": "2021-07-29T19:08:53.519Z"
   },
   {
    "duration": 9,
    "start_time": "2021-07-29T19:09:29.468Z"
   },
   {
    "duration": 10,
    "start_time": "2021-07-29T19:10:28.186Z"
   },
   {
    "duration": 10,
    "start_time": "2021-07-29T19:10:46.934Z"
   },
   {
    "duration": 10,
    "start_time": "2021-07-29T19:15:14.474Z"
   },
   {
    "duration": 10,
    "start_time": "2021-07-29T19:15:54.341Z"
   },
   {
    "duration": 43,
    "start_time": "2021-07-29T19:23:32.020Z"
   },
   {
    "duration": 314,
    "start_time": "2021-07-30T06:14:01.235Z"
   },
   {
    "duration": 1145,
    "start_time": "2021-07-30T06:14:04.390Z"
   },
   {
    "duration": 686,
    "start_time": "2021-07-30T06:14:10.603Z"
   },
   {
    "duration": 74,
    "start_time": "2021-07-30T06:14:11.292Z"
   },
   {
    "duration": 29,
    "start_time": "2021-07-30T06:14:13.771Z"
   },
   {
    "duration": 21,
    "start_time": "2021-07-30T06:21:07.615Z"
   },
   {
    "duration": 92,
    "start_time": "2021-07-30T07:02:46.080Z"
   },
   {
    "duration": 3017,
    "start_time": "2021-07-30T07:03:05.073Z"
   },
   {
    "duration": 284,
    "start_time": "2021-07-30T07:06:54.895Z"
   },
   {
    "duration": 3,
    "start_time": "2021-07-30T07:07:03.911Z"
   },
   {
    "duration": 72,
    "start_time": "2021-07-30T07:07:04.403Z"
   },
   {
    "duration": 21,
    "start_time": "2021-07-30T07:07:09.878Z"
   },
   {
    "duration": 301,
    "start_time": "2021-07-30T07:07:19.053Z"
   },
   {
    "duration": 83,
    "start_time": "2021-07-30T07:11:37.358Z"
   },
   {
    "duration": 353,
    "start_time": "2021-07-30T07:11:52.198Z"
   },
   {
    "duration": 333,
    "start_time": "2021-07-30T07:15:00.366Z"
   },
   {
    "duration": 4,
    "start_time": "2021-07-30T07:19:04.827Z"
   },
   {
    "duration": 2926,
    "start_time": "2021-07-30T07:19:28.184Z"
   },
   {
    "duration": 34,
    "start_time": "2021-07-30T07:19:45.782Z"
   },
   {
    "duration": 23,
    "start_time": "2021-07-30T07:20:30.418Z"
   },
   {
    "duration": 283,
    "start_time": "2021-07-30T07:23:41.226Z"
   },
   {
    "duration": 97,
    "start_time": "2021-07-30T07:25:08.045Z"
   },
   {
    "duration": 90,
    "start_time": "2021-07-30T07:25:22.932Z"
   },
   {
    "duration": 96,
    "start_time": "2021-07-30T07:25:30.285Z"
   },
   {
    "duration": 102,
    "start_time": "2021-07-30T07:25:35.907Z"
   },
   {
    "duration": 266,
    "start_time": "2021-07-30T07:25:46.009Z"
   },
   {
    "duration": 285,
    "start_time": "2021-07-30T07:26:17.184Z"
   },
   {
    "duration": 319,
    "start_time": "2021-07-30T07:26:40.078Z"
   },
   {
    "duration": 34,
    "start_time": "2021-07-30T07:28:48.915Z"
   },
   {
    "duration": 35,
    "start_time": "2021-07-30T07:29:13.610Z"
   },
   {
    "duration": 281,
    "start_time": "2021-07-30T07:30:00.822Z"
   },
   {
    "duration": 270,
    "start_time": "2021-07-30T07:36:52.077Z"
   },
   {
    "duration": 282,
    "start_time": "2021-07-30T07:39:18.457Z"
   },
   {
    "duration": 3020,
    "start_time": "2021-07-30T07:39:31.734Z"
   },
   {
    "duration": 2954,
    "start_time": "2021-07-30T07:40:11.582Z"
   },
   {
    "duration": 19,
    "start_time": "2021-07-30T07:42:30.738Z"
   },
   {
    "duration": 19,
    "start_time": "2021-07-30T07:43:30.035Z"
   },
   {
    "duration": 12,
    "start_time": "2021-07-30T07:43:51.726Z"
   },
   {
    "duration": 16,
    "start_time": "2021-07-30T07:44:17.187Z"
   },
   {
    "duration": 24,
    "start_time": "2021-07-30T07:44:37.077Z"
   },
   {
    "duration": 3,
    "start_time": "2021-07-30T07:44:45.459Z"
   },
   {
    "duration": 74,
    "start_time": "2021-07-30T07:44:46.064Z"
   },
   {
    "duration": 22,
    "start_time": "2021-07-30T07:44:51.879Z"
   },
   {
    "duration": 12,
    "start_time": "2021-07-30T07:44:58.474Z"
   },
   {
    "duration": 16,
    "start_time": "2021-07-30T07:45:56.847Z"
   },
   {
    "duration": 10,
    "start_time": "2021-07-30T07:46:07.320Z"
   },
   {
    "duration": 35,
    "start_time": "2021-07-30T07:47:34.883Z"
   },
   {
    "duration": 273,
    "start_time": "2021-07-30T07:47:43.512Z"
   },
   {
    "duration": 298,
    "start_time": "2021-07-30T07:48:19.689Z"
   },
   {
    "duration": 283,
    "start_time": "2021-07-30T07:49:05.813Z"
   },
   {
    "duration": 260,
    "start_time": "2021-07-30T07:51:56.974Z"
   },
   {
    "duration": 267,
    "start_time": "2021-07-30T07:52:07.806Z"
   },
   {
    "duration": 7,
    "start_time": "2021-07-30T07:53:36.964Z"
   },
   {
    "duration": 8,
    "start_time": "2021-07-30T07:55:01.622Z"
   },
   {
    "duration": 7,
    "start_time": "2021-07-30T07:55:57.842Z"
   },
   {
    "duration": 7,
    "start_time": "2021-07-30T07:56:20.057Z"
   },
   {
    "duration": 8,
    "start_time": "2021-07-30T07:56:30.600Z"
   },
   {
    "duration": 7,
    "start_time": "2021-07-30T07:56:31.883Z"
   },
   {
    "duration": 6,
    "start_time": "2021-07-30T07:56:47.669Z"
   },
   {
    "duration": 8,
    "start_time": "2021-07-30T07:57:19.844Z"
   },
   {
    "duration": 22,
    "start_time": "2021-07-30T07:57:52.991Z"
   },
   {
    "duration": 8,
    "start_time": "2021-07-30T07:58:13.499Z"
   },
   {
    "duration": 3280,
    "start_time": "2021-07-30T07:58:15.947Z"
   },
   {
    "duration": 4730,
    "start_time": "2021-07-30T07:58:33.848Z"
   },
   {
    "duration": -545,
    "start_time": "2021-07-30T07:58:39.125Z"
   },
   {
    "duration": 3,
    "start_time": "2021-07-30T07:58:47.952Z"
   },
   {
    "duration": 73,
    "start_time": "2021-07-30T07:58:48.473Z"
   },
   {
    "duration": 24,
    "start_time": "2021-07-30T07:58:54.735Z"
   },
   {
    "duration": 8,
    "start_time": "2021-07-30T07:59:01.603Z"
   },
   {
    "duration": 22,
    "start_time": "2021-07-30T07:59:04.536Z"
   },
   {
    "duration": 7,
    "start_time": "2021-07-30T07:59:12.315Z"
   },
   {
    "duration": 7,
    "start_time": "2021-07-30T07:59:40.617Z"
   },
   {
    "duration": 9,
    "start_time": "2021-07-30T08:00:48.259Z"
   },
   {
    "duration": 10,
    "start_time": "2021-07-30T08:01:00.820Z"
   },
   {
    "duration": 20,
    "start_time": "2021-07-30T08:01:21.191Z"
   },
   {
    "duration": 16,
    "start_time": "2021-07-30T08:01:27.628Z"
   },
   {
    "duration": 14,
    "start_time": "2021-07-30T08:01:52.544Z"
   },
   {
    "duration": 255,
    "start_time": "2021-07-30T08:02:10.617Z"
   },
   {
    "duration": 3920,
    "start_time": "2021-07-30T08:02:18.436Z"
   },
   {
    "duration": 3415,
    "start_time": "2021-07-30T08:02:38.748Z"
   },
   {
    "duration": 3401,
    "start_time": "2021-07-30T08:03:14.668Z"
   },
   {
    "duration": 5413,
    "start_time": "2021-07-30T08:03:43.525Z"
   },
   {
    "duration": 7,
    "start_time": "2021-07-30T08:04:20.898Z"
   },
   {
    "duration": 3,
    "start_time": "2021-07-30T08:04:27.007Z"
   },
   {
    "duration": 72,
    "start_time": "2021-07-30T08:04:27.379Z"
   },
   {
    "duration": 21,
    "start_time": "2021-07-30T08:04:29.017Z"
   },
   {
    "duration": 8,
    "start_time": "2021-07-30T08:04:35.203Z"
   },
   {
    "duration": 23,
    "start_time": "2021-07-30T08:04:44.126Z"
   },
   {
    "duration": 5,
    "start_time": "2021-07-30T08:05:32.617Z"
   },
   {
    "duration": 16,
    "start_time": "2021-07-30T08:05:47.919Z"
   },
   {
    "duration": 33,
    "start_time": "2021-07-30T08:07:31.659Z"
   },
   {
    "duration": 297,
    "start_time": "2021-07-30T08:09:19.662Z"
   },
   {
    "duration": 264,
    "start_time": "2021-07-30T08:09:50.394Z"
   },
   {
    "duration": 385,
    "start_time": "2021-07-30T08:10:09.812Z"
   },
   {
    "duration": 46,
    "start_time": "2021-07-30T08:12:13.339Z"
   },
   {
    "duration": 336,
    "start_time": "2021-07-30T08:13:15.484Z"
   },
   {
    "duration": 338,
    "start_time": "2021-07-30T08:13:28.358Z"
   },
   {
    "duration": 273,
    "start_time": "2021-07-30T08:13:52.541Z"
   },
   {
    "duration": 36,
    "start_time": "2021-07-30T08:15:48.865Z"
   },
   {
    "duration": 3,
    "start_time": "2021-07-30T08:19:34.750Z"
   },
   {
    "duration": 71,
    "start_time": "2021-07-30T08:19:35.277Z"
   },
   {
    "duration": 21,
    "start_time": "2021-07-30T08:19:37.844Z"
   },
   {
    "duration": 7,
    "start_time": "2021-07-30T08:19:48.889Z"
   },
   {
    "duration": 23,
    "start_time": "2021-07-30T08:23:05.730Z"
   },
   {
    "duration": 107,
    "start_time": "2021-07-30T08:25:14.672Z"
   },
   {
    "duration": 105,
    "start_time": "2021-07-30T08:26:10.231Z"
   },
   {
    "duration": 67,
    "start_time": "2021-07-30T08:26:25.059Z"
   },
   {
    "duration": 313,
    "start_time": "2021-07-30T08:27:02.173Z"
   },
   {
    "duration": 293,
    "start_time": "2021-07-30T08:28:27.150Z"
   },
   {
    "duration": 6230,
    "start_time": "2021-07-30T08:32:06.784Z"
   },
   {
    "duration": 7,
    "start_time": "2021-07-30T08:32:33.645Z"
   },
   {
    "duration": 3108,
    "start_time": "2021-07-30T08:38:06.238Z"
   },
   {
    "duration": 266,
    "start_time": "2021-07-30T08:39:02.196Z"
   },
   {
    "duration": 14,
    "start_time": "2021-07-30T08:39:19.112Z"
   },
   {
    "duration": 34,
    "start_time": "2021-07-30T08:39:32.501Z"
   },
   {
    "duration": 47,
    "start_time": "2021-07-30T08:47:14.000Z"
   },
   {
    "duration": 13,
    "start_time": "2021-07-30T08:47:45.982Z"
   },
   {
    "duration": 258,
    "start_time": "2021-07-30T08:50:15.777Z"
   },
   {
    "duration": 47,
    "start_time": "2021-07-30T08:50:50.169Z"
   },
   {
    "duration": 102,
    "start_time": "2021-07-30T08:51:06.586Z"
   },
   {
    "duration": 19,
    "start_time": "2021-07-30T08:51:13.359Z"
   },
   {
    "duration": 16,
    "start_time": "2021-07-30T08:51:26.472Z"
   },
   {
    "duration": 20,
    "start_time": "2021-07-30T08:51:49.268Z"
   },
   {
    "duration": 3,
    "start_time": "2021-07-30T08:52:08.653Z"
   },
   {
    "duration": 108,
    "start_time": "2021-07-30T08:52:09.261Z"
   },
   {
    "duration": 22,
    "start_time": "2021-07-30T08:52:13.231Z"
   },
   {
    "duration": 15,
    "start_time": "2021-07-30T08:52:17.866Z"
   },
   {
    "duration": 15,
    "start_time": "2021-07-30T08:54:03.458Z"
   },
   {
    "duration": 16,
    "start_time": "2021-07-30T08:57:01.537Z"
   },
   {
    "duration": 12,
    "start_time": "2021-07-30T09:09:29.668Z"
   },
   {
    "duration": 13,
    "start_time": "2021-07-30T09:10:41.809Z"
   },
   {
    "duration": 13,
    "start_time": "2021-07-30T09:18:19.946Z"
   },
   {
    "duration": 44,
    "start_time": "2021-07-30T09:18:35.943Z"
   },
   {
    "duration": 3,
    "start_time": "2021-07-30T09:20:56.441Z"
   },
   {
    "duration": 103,
    "start_time": "2021-07-30T09:20:56.950Z"
   },
   {
    "duration": 23,
    "start_time": "2021-07-30T09:20:59.382Z"
   },
   {
    "duration": 17,
    "start_time": "2021-07-30T09:21:05.181Z"
   },
   {
    "duration": 11,
    "start_time": "2021-07-30T09:21:10.375Z"
   },
   {
    "duration": 13,
    "start_time": "2021-07-30T09:21:15.113Z"
   },
   {
    "duration": 91,
    "start_time": "2021-07-30T09:22:02.770Z"
   },
   {
    "duration": 41,
    "start_time": "2021-07-30T09:22:28.392Z"
   },
   {
    "duration": 5,
    "start_time": "2021-07-30T09:27:16.215Z"
   },
   {
    "duration": 7,
    "start_time": "2021-07-30T09:27:31.714Z"
   },
   {
    "duration": 84,
    "start_time": "2021-07-30T09:28:06.099Z"
   },
   {
    "duration": 11,
    "start_time": "2021-07-30T09:28:23.539Z"
   },
   {
    "duration": 7,
    "start_time": "2021-07-30T09:28:45.103Z"
   },
   {
    "duration": 6,
    "start_time": "2021-07-30T09:29:55.751Z"
   },
   {
    "duration": 9,
    "start_time": "2021-07-30T09:31:49.048Z"
   },
   {
    "duration": 4,
    "start_time": "2021-07-30T09:32:45.127Z"
   },
   {
    "duration": 36,
    "start_time": "2021-07-30T09:32:54.560Z"
   },
   {
    "duration": 25,
    "start_time": "2021-07-30T09:33:07.249Z"
   },
   {
    "duration": 5,
    "start_time": "2021-07-30T09:33:39.366Z"
   },
   {
    "duration": 6,
    "start_time": "2021-07-30T09:37:22.006Z"
   },
   {
    "duration": 5,
    "start_time": "2021-07-30T09:38:47.745Z"
   },
   {
    "duration": 15,
    "start_time": "2021-07-30T09:40:07.131Z"
   },
   {
    "duration": 95,
    "start_time": "2021-07-30T09:40:09.714Z"
   },
   {
    "duration": 6,
    "start_time": "2021-07-30T09:40:17.310Z"
   },
   {
    "duration": 4,
    "start_time": "2021-07-30T09:40:18.770Z"
   },
   {
    "duration": 6,
    "start_time": "2021-07-30T09:40:32.838Z"
   },
   {
    "duration": 5,
    "start_time": "2021-07-30T09:40:35.001Z"
   },
   {
    "duration": 7,
    "start_time": "2021-07-30T09:41:03.369Z"
   },
   {
    "duration": 5,
    "start_time": "2021-07-30T09:41:10.366Z"
   },
   {
    "duration": 15,
    "start_time": "2021-07-30T09:42:12.430Z"
   },
   {
    "duration": 6,
    "start_time": "2021-07-30T09:42:28.597Z"
   },
   {
    "duration": 5,
    "start_time": "2021-07-30T09:42:29.489Z"
   },
   {
    "duration": 16,
    "start_time": "2021-07-30T09:42:31.236Z"
   },
   {
    "duration": 73,
    "start_time": "2021-07-30T09:43:09.594Z"
   },
   {
    "duration": 23,
    "start_time": "2021-07-30T09:43:10.842Z"
   },
   {
    "duration": 16,
    "start_time": "2021-07-30T09:43:13.622Z"
   },
   {
    "duration": 11,
    "start_time": "2021-07-30T09:43:17.154Z"
   },
   {
    "duration": 13,
    "start_time": "2021-07-30T09:43:18.501Z"
   },
   {
    "duration": 13,
    "start_time": "2021-07-30T09:43:20.855Z"
   },
   {
    "duration": 7,
    "start_time": "2021-07-30T09:43:25.024Z"
   },
   {
    "duration": 5,
    "start_time": "2021-07-30T09:43:25.689Z"
   },
   {
    "duration": 7,
    "start_time": "2021-07-30T09:43:28.406Z"
   },
   {
    "duration": 5,
    "start_time": "2021-07-30T09:43:30.687Z"
   },
   {
    "duration": 16,
    "start_time": "2021-07-30T09:43:37.386Z"
   },
   {
    "duration": 11,
    "start_time": "2021-07-30T09:49:31.337Z"
   },
   {
    "duration": 12,
    "start_time": "2021-07-30T09:52:24.212Z"
   },
   {
    "duration": 10,
    "start_time": "2021-07-30T09:55:58.297Z"
   },
   {
    "duration": 281,
    "start_time": "2021-07-30T09:58:45.207Z"
   },
   {
    "duration": 263,
    "start_time": "2021-07-30T09:59:24.419Z"
   },
   {
    "duration": 12,
    "start_time": "2021-07-30T09:59:37.714Z"
   },
   {
    "duration": 12,
    "start_time": "2021-07-30T09:59:59.892Z"
   },
   {
    "duration": 11,
    "start_time": "2021-07-30T10:00:29.919Z"
   },
   {
    "duration": 7,
    "start_time": "2021-07-30T10:00:54.591Z"
   },
   {
    "duration": 6,
    "start_time": "2021-07-30T10:01:34.762Z"
   },
   {
    "duration": 10,
    "start_time": "2021-07-30T10:03:27.620Z"
   },
   {
    "duration": 13,
    "start_time": "2021-07-30T10:06:38.070Z"
   },
   {
    "duration": 18,
    "start_time": "2021-07-30T10:07:50.704Z"
   },
   {
    "duration": 12,
    "start_time": "2021-07-30T10:10:07.005Z"
   },
   {
    "duration": 10,
    "start_time": "2021-07-30T10:10:21.492Z"
   },
   {
    "duration": 28,
    "start_time": "2021-07-30T10:14:17.516Z"
   },
   {
    "duration": 44,
    "start_time": "2021-07-30T10:14:27.565Z"
   },
   {
    "duration": 257,
    "start_time": "2021-07-30T10:14:50.942Z"
   },
   {
    "duration": 10,
    "start_time": "2021-07-30T10:15:26.205Z"
   },
   {
    "duration": 1302,
    "start_time": "2021-07-30T10:28:04.222Z"
   },
   {
    "duration": 33,
    "start_time": "2021-07-30T10:28:35.580Z"
   },
   {
    "duration": 8,
    "start_time": "2021-07-30T10:29:54.222Z"
   },
   {
    "duration": 80,
    "start_time": "2021-07-30T10:29:54.412Z"
   },
   {
    "duration": 21,
    "start_time": "2021-07-30T10:29:54.727Z"
   },
   {
    "duration": 18,
    "start_time": "2021-07-30T10:29:56.974Z"
   },
   {
    "duration": 14,
    "start_time": "2021-07-30T10:29:57.448Z"
   },
   {
    "duration": 14,
    "start_time": "2021-07-30T10:29:57.664Z"
   },
   {
    "duration": 13,
    "start_time": "2021-07-30T10:29:59.378Z"
   },
   {
    "duration": 6,
    "start_time": "2021-07-30T10:30:02.150Z"
   },
   {
    "duration": 8,
    "start_time": "2021-07-30T10:30:02.860Z"
   },
   {
    "duration": 7,
    "start_time": "2021-07-30T10:30:03.736Z"
   },
   {
    "duration": 6,
    "start_time": "2021-07-30T10:30:04.155Z"
   },
   {
    "duration": 15,
    "start_time": "2021-07-30T10:30:05.633Z"
   },
   {
    "duration": 11,
    "start_time": "2021-07-30T10:30:08.631Z"
   },
   {
    "duration": 5,
    "start_time": "2021-07-30T10:30:09.886Z"
   },
   {
    "duration": 11,
    "start_time": "2021-07-30T10:30:12.057Z"
   },
   {
    "duration": 7,
    "start_time": "2021-07-30T10:30:16.637Z"
   },
   {
    "duration": 8,
    "start_time": "2021-07-30T10:30:39.862Z"
   },
   {
    "duration": 16,
    "start_time": "2021-07-30T10:31:12.642Z"
   },
   {
    "duration": 6,
    "start_time": "2021-07-30T10:31:28.238Z"
   },
   {
    "duration": 23,
    "start_time": "2021-07-30T10:31:41.623Z"
   },
   {
    "duration": 9,
    "start_time": "2021-07-30T10:34:16.803Z"
   },
   {
    "duration": 4,
    "start_time": "2021-07-30T10:34:23.584Z"
   },
   {
    "duration": 15,
    "start_time": "2021-07-30T10:34:24.473Z"
   },
   {
    "duration": 10,
    "start_time": "2021-07-30T10:35:41.648Z"
   },
   {
    "duration": 271,
    "start_time": "2021-07-30T10:41:04.051Z"
   },
   {
    "duration": 23,
    "start_time": "2021-07-30T10:41:21.961Z"
   },
   {
    "duration": 27,
    "start_time": "2021-07-30T10:42:00.249Z"
   },
   {
    "duration": 738,
    "start_time": "2021-08-02T12:52:09.344Z"
   },
   {
    "duration": 73,
    "start_time": "2021-08-02T12:52:10.085Z"
   },
   {
    "duration": 29,
    "start_time": "2021-08-02T12:52:14.089Z"
   },
   {
    "duration": 344,
    "start_time": "2021-08-02T13:01:38.761Z"
   },
   {
    "duration": 302,
    "start_time": "2021-08-02T13:01:55.273Z"
   },
   {
    "duration": 17,
    "start_time": "2021-08-02T13:02:09.165Z"
   },
   {
    "duration": 15,
    "start_time": "2021-08-02T13:08:18.117Z"
   },
   {
    "duration": 1133,
    "start_time": "2021-08-02T13:23:17.456Z"
   },
   {
    "duration": 982,
    "start_time": "2021-08-02T13:23:48.829Z"
   },
   {
    "duration": 1256,
    "start_time": "2021-08-02T13:29:06.683Z"
   },
   {
    "duration": 269,
    "start_time": "2021-08-02T13:31:27.015Z"
   },
   {
    "duration": 233,
    "start_time": "2021-08-02T13:31:37.256Z"
   },
   {
    "duration": 246,
    "start_time": "2021-08-02T13:31:56.892Z"
   },
   {
    "duration": 268,
    "start_time": "2021-08-02T13:32:12.440Z"
   },
   {
    "duration": 4,
    "start_time": "2021-08-02T13:32:35.095Z"
   },
   {
    "duration": 72,
    "start_time": "2021-08-02T13:32:35.595Z"
   },
   {
    "duration": 21,
    "start_time": "2021-08-02T13:32:37.936Z"
   },
   {
    "duration": 15,
    "start_time": "2021-08-02T13:32:49.009Z"
   },
   {
    "duration": 10,
    "start_time": "2021-08-02T13:32:51.094Z"
   },
   {
    "duration": 14,
    "start_time": "2021-08-02T13:32:54.173Z"
   },
   {
    "duration": 13,
    "start_time": "2021-08-02T13:32:57.507Z"
   },
   {
    "duration": 10,
    "start_time": "2021-08-02T13:33:03.792Z"
   },
   {
    "duration": 1215,
    "start_time": "2021-08-02T13:33:07.992Z"
   },
   {
    "duration": 466,
    "start_time": "2021-08-02T13:35:02.212Z"
   },
   {
    "duration": 6,
    "start_time": "2021-08-02T13:35:36.723Z"
   },
   {
    "duration": 10,
    "start_time": "2021-08-02T13:35:57.502Z"
   },
   {
    "duration": 9,
    "start_time": "2021-08-02T13:36:00.695Z"
   },
   {
    "duration": 288,
    "start_time": "2021-08-02T13:37:02.915Z"
   },
   {
    "duration": 16,
    "start_time": "2021-08-02T13:38:01.537Z"
   },
   {
    "duration": 16,
    "start_time": "2021-08-02T13:38:22.981Z"
   },
   {
    "duration": 9,
    "start_time": "2021-08-02T13:38:55.488Z"
   },
   {
    "duration": 9,
    "start_time": "2021-08-02T13:38:57.223Z"
   },
   {
    "duration": 9,
    "start_time": "2021-08-02T13:38:58.366Z"
   },
   {
    "duration": 601,
    "start_time": "2021-08-02T13:39:02.115Z"
   },
   {
    "duration": 1422,
    "start_time": "2021-08-02T13:41:55.433Z"
   },
   {
    "duration": 17,
    "start_time": "2021-08-02T13:43:06.489Z"
   },
   {
    "duration": 19,
    "start_time": "2021-08-02T13:46:45.512Z"
   },
   {
    "duration": 90,
    "start_time": "2021-08-02T13:50:35.666Z"
   },
   {
    "duration": 24,
    "start_time": "2021-08-02T13:54:15.953Z"
   },
   {
    "duration": 33,
    "start_time": "2021-08-02T13:56:04.354Z"
   },
   {
    "duration": 21,
    "start_time": "2021-08-02T13:56:57.088Z"
   },
   {
    "duration": 23,
    "start_time": "2021-08-02T13:57:43.252Z"
   },
   {
    "duration": 22,
    "start_time": "2021-08-02T13:58:57.694Z"
   },
   {
    "duration": 324,
    "start_time": "2021-08-02T13:59:06.649Z"
   },
   {
    "duration": 21,
    "start_time": "2021-08-02T13:59:35.982Z"
   },
   {
    "duration": 748,
    "start_time": "2021-08-03T10:47:20.871Z"
   },
   {
    "duration": 74,
    "start_time": "2021-08-03T10:47:21.621Z"
   },
   {
    "duration": 31,
    "start_time": "2021-08-03T10:47:23.404Z"
   },
   {
    "duration": 17,
    "start_time": "2021-08-03T10:47:29.082Z"
   },
   {
    "duration": 14,
    "start_time": "2021-08-03T10:47:32.963Z"
   },
   {
    "duration": 13,
    "start_time": "2021-08-03T10:47:33.915Z"
   },
   {
    "duration": 14,
    "start_time": "2021-08-03T10:47:36.114Z"
   },
   {
    "duration": 11,
    "start_time": "2021-08-03T10:47:41.199Z"
   },
   {
    "duration": 7,
    "start_time": "2021-08-03T10:47:42.843Z"
   },
   {
    "duration": 10,
    "start_time": "2021-08-03T10:47:44.341Z"
   },
   {
    "duration": 10,
    "start_time": "2021-08-03T10:47:49.037Z"
   },
   {
    "duration": 21,
    "start_time": "2021-08-03T10:47:51.758Z"
   },
   {
    "duration": 22,
    "start_time": "2021-08-03T10:51:52.805Z"
   },
   {
    "duration": 72,
    "start_time": "2021-08-03T11:09:39.951Z"
   },
   {
    "duration": 22,
    "start_time": "2021-08-03T11:09:41.521Z"
   },
   {
    "duration": 16,
    "start_time": "2021-08-03T11:09:44.642Z"
   },
   {
    "duration": 11,
    "start_time": "2021-08-03T11:09:47.037Z"
   },
   {
    "duration": 12,
    "start_time": "2021-08-03T11:09:47.851Z"
   },
   {
    "duration": 15,
    "start_time": "2021-08-03T11:09:58.137Z"
   },
   {
    "duration": 10,
    "start_time": "2021-08-03T11:10:01.922Z"
   },
   {
    "duration": 7,
    "start_time": "2021-08-03T11:10:08.565Z"
   },
   {
    "duration": 9,
    "start_time": "2021-08-03T11:10:14.674Z"
   },
   {
    "duration": 10,
    "start_time": "2021-08-03T11:10:21.421Z"
   },
   {
    "duration": 4,
    "start_time": "2021-08-03T11:10:38.318Z"
   },
   {
    "duration": 703,
    "start_time": "2021-08-03T11:10:39.411Z"
   },
   {
    "duration": 5,
    "start_time": "2021-08-03T11:11:17.466Z"
   },
   {
    "duration": 9,
    "start_time": "2021-08-03T11:11:22.372Z"
   },
   {
    "duration": 5,
    "start_time": "2021-08-03T11:11:33.600Z"
   },
   {
    "duration": 8,
    "start_time": "2021-08-03T11:11:34.143Z"
   },
   {
    "duration": 92,
    "start_time": "2021-08-03T11:11:45.166Z"
   },
   {
    "duration": 5,
    "start_time": "2021-08-03T11:12:01.289Z"
   },
   {
    "duration": 7,
    "start_time": "2021-08-03T11:12:02.069Z"
   },
   {
    "duration": 4,
    "start_time": "2021-08-03T11:12:46.597Z"
   },
   {
    "duration": 8,
    "start_time": "2021-08-03T11:12:47.492Z"
   },
   {
    "duration": 21,
    "start_time": "2021-08-03T11:15:39.184Z"
   },
   {
    "duration": 8,
    "start_time": "2021-08-03T11:16:16.812Z"
   },
   {
    "duration": 244,
    "start_time": "2021-08-03T11:17:00.752Z"
   },
   {
    "duration": 8,
    "start_time": "2021-08-03T11:17:13.650Z"
   },
   {
    "duration": 4,
    "start_time": "2021-08-03T11:18:07.180Z"
   },
   {
    "duration": 6,
    "start_time": "2021-08-03T11:18:07.696Z"
   },
   {
    "duration": 22,
    "start_time": "2021-08-03T11:18:09.133Z"
   },
   {
    "duration": 8,
    "start_time": "2021-08-03T11:18:10.690Z"
   },
   {
    "duration": 72,
    "start_time": "2021-08-03T11:18:22.827Z"
   },
   {
    "duration": 6,
    "start_time": "2021-08-03T11:18:23.231Z"
   },
   {
    "duration": 5,
    "start_time": "2021-08-03T11:18:35.645Z"
   },
   {
    "duration": 8,
    "start_time": "2021-08-03T11:18:36.521Z"
   },
   {
    "duration": 23,
    "start_time": "2021-08-03T11:18:39.325Z"
   },
   {
    "duration": 10,
    "start_time": "2021-08-03T11:18:41.243Z"
   },
   {
    "duration": 19,
    "start_time": "2021-08-03T11:19:17.486Z"
   },
   {
    "duration": 6,
    "start_time": "2021-08-03T11:22:44.619Z"
   },
   {
    "duration": 21,
    "start_time": "2021-08-03T11:23:24.211Z"
   },
   {
    "duration": 129,
    "start_time": "2021-08-03T11:26:36.205Z"
   },
   {
    "duration": 5,
    "start_time": "2021-08-03T11:28:04.529Z"
   },
   {
    "duration": 6,
    "start_time": "2021-08-03T11:28:35.572Z"
   },
   {
    "duration": 285,
    "start_time": "2021-08-03T11:29:25.460Z"
   },
   {
    "duration": 9,
    "start_time": "2021-08-03T11:29:38.582Z"
   },
   {
    "duration": 11,
    "start_time": "2021-08-03T11:35:32.162Z"
   },
   {
    "duration": 15,
    "start_time": "2021-08-03T11:36:19.969Z"
   },
   {
    "duration": 16,
    "start_time": "2021-08-03T11:36:39.276Z"
   },
   {
    "duration": 15,
    "start_time": "2021-08-03T11:37:19.977Z"
   },
   {
    "duration": 3,
    "start_time": "2021-08-03T11:37:26.297Z"
   },
   {
    "duration": 72,
    "start_time": "2021-08-03T11:37:26.816Z"
   },
   {
    "duration": 25,
    "start_time": "2021-08-03T11:37:28.309Z"
   },
   {
    "duration": 8,
    "start_time": "2021-08-03T11:37:33.343Z"
   },
   {
    "duration": 11,
    "start_time": "2021-08-03T11:37:40.998Z"
   },
   {
    "duration": 15,
    "start_time": "2021-08-03T11:37:44.403Z"
   },
   {
    "duration": 11,
    "start_time": "2021-08-03T11:37:50.414Z"
   },
   {
    "duration": 12,
    "start_time": "2021-08-03T11:37:51.488Z"
   },
   {
    "duration": 15,
    "start_time": "2021-08-03T11:38:11.543Z"
   },
   {
    "duration": 10,
    "start_time": "2021-08-03T11:38:25.330Z"
   },
   {
    "duration": 7,
    "start_time": "2021-08-03T11:38:38.777Z"
   },
   {
    "duration": 9,
    "start_time": "2021-08-03T11:38:44.427Z"
   },
   {
    "duration": 9,
    "start_time": "2021-08-03T11:38:46.598Z"
   },
   {
    "duration": 9,
    "start_time": "2021-08-03T11:38:56.676Z"
   },
   {
    "duration": 5,
    "start_time": "2021-08-03T11:39:25.591Z"
   },
   {
    "duration": 10,
    "start_time": "2021-08-03T11:39:28.485Z"
   },
   {
    "duration": 23,
    "start_time": "2021-08-03T11:39:35.038Z"
   },
   {
    "duration": 11,
    "start_time": "2021-08-03T11:39:39.306Z"
   },
   {
    "duration": 18,
    "start_time": "2021-08-03T11:39:44.913Z"
   },
   {
    "duration": 6,
    "start_time": "2021-08-03T11:39:47.763Z"
   },
   {
    "duration": 83,
    "start_time": "2021-08-03T11:39:58.819Z"
   },
   {
    "duration": 19,
    "start_time": "2021-08-03T11:40:08.963Z"
   },
   {
    "duration": 6,
    "start_time": "2021-08-03T11:43:25.014Z"
   },
   {
    "duration": 17,
    "start_time": "2021-08-03T11:43:26.121Z"
   },
   {
    "duration": 62,
    "start_time": "2021-08-03T11:49:39.767Z"
   },
   {
    "duration": 60,
    "start_time": "2021-08-03T11:49:52.458Z"
   },
   {
    "duration": 69,
    "start_time": "2021-08-03T11:50:59.200Z"
   },
   {
    "duration": 63,
    "start_time": "2021-08-03T11:51:04.533Z"
   },
   {
    "duration": 45,
    "start_time": "2021-08-03T11:51:27.349Z"
   },
   {
    "duration": 3,
    "start_time": "2021-08-03T11:52:49.613Z"
   },
   {
    "duration": 81,
    "start_time": "2021-08-03T11:52:49.619Z"
   },
   {
    "duration": 22,
    "start_time": "2021-08-03T11:52:49.704Z"
   },
   {
    "duration": 9,
    "start_time": "2021-08-03T11:52:49.728Z"
   },
   {
    "duration": 33,
    "start_time": "2021-08-03T11:52:49.740Z"
   },
   {
    "duration": 15,
    "start_time": "2021-08-03T11:52:49.775Z"
   },
   {
    "duration": 11,
    "start_time": "2021-08-03T11:52:49.793Z"
   },
   {
    "duration": 12,
    "start_time": "2021-08-03T11:52:49.806Z"
   },
   {
    "duration": 55,
    "start_time": "2021-08-03T11:52:49.820Z"
   },
   {
    "duration": 15,
    "start_time": "2021-08-03T11:52:49.877Z"
   },
   {
    "duration": 9,
    "start_time": "2021-08-03T11:52:49.894Z"
   },
   {
    "duration": 11,
    "start_time": "2021-08-03T11:52:49.905Z"
   },
   {
    "duration": 9,
    "start_time": "2021-08-03T11:52:49.919Z"
   },
   {
    "duration": 5,
    "start_time": "2021-08-03T11:52:49.967Z"
   },
   {
    "duration": 14,
    "start_time": "2021-08-03T11:52:49.974Z"
   },
   {
    "duration": 35,
    "start_time": "2021-08-03T11:52:49.992Z"
   },
   {
    "duration": 47,
    "start_time": "2021-08-03T11:52:50.030Z"
   },
   {
    "duration": 30,
    "start_time": "2021-08-03T11:52:50.080Z"
   },
   {
    "duration": 7,
    "start_time": "2021-08-03T11:52:50.116Z"
   },
   {
    "duration": 53,
    "start_time": "2021-08-03T11:52:50.127Z"
   },
   {
    "duration": 5,
    "start_time": "2021-08-03T11:52:50.183Z"
   },
   {
    "duration": 19,
    "start_time": "2021-08-03T11:52:50.191Z"
   },
   {
    "duration": 78,
    "start_time": "2021-08-03T11:52:50.213Z"
   },
   {
    "duration": 4,
    "start_time": "2021-08-03T11:55:58.969Z"
   },
   {
    "duration": 93,
    "start_time": "2021-08-03T11:55:58.975Z"
   },
   {
    "duration": 22,
    "start_time": "2021-08-03T11:55:59.071Z"
   },
   {
    "duration": 10,
    "start_time": "2021-08-03T11:55:59.096Z"
   },
   {
    "duration": 11,
    "start_time": "2021-08-03T11:55:59.108Z"
   },
   {
    "duration": 54,
    "start_time": "2021-08-03T11:55:59.122Z"
   },
   {
    "duration": 11,
    "start_time": "2021-08-03T11:55:59.180Z"
   },
   {
    "duration": 14,
    "start_time": "2021-08-03T11:55:59.194Z"
   },
   {
    "duration": 15,
    "start_time": "2021-08-03T11:55:59.210Z"
   },
   {
    "duration": 9,
    "start_time": "2021-08-03T11:55:59.268Z"
   },
   {
    "duration": 7,
    "start_time": "2021-08-03T11:55:59.279Z"
   },
   {
    "duration": 10,
    "start_time": "2021-08-03T11:55:59.288Z"
   },
   {
    "duration": 14,
    "start_time": "2021-08-03T11:55:59.300Z"
   },
   {
    "duration": 7,
    "start_time": "2021-08-03T11:55:59.317Z"
   },
   {
    "duration": 44,
    "start_time": "2021-08-03T11:55:59.326Z"
   },
   {
    "duration": 23,
    "start_time": "2021-08-03T11:55:59.372Z"
   },
   {
    "duration": 11,
    "start_time": "2021-08-03T11:55:59.397Z"
   },
   {
    "duration": 17,
    "start_time": "2021-08-03T11:55:59.410Z"
   },
   {
    "duration": 39,
    "start_time": "2021-08-03T11:55:59.431Z"
   },
   {
    "duration": 24,
    "start_time": "2021-08-03T11:55:59.472Z"
   },
   {
    "duration": 5,
    "start_time": "2021-08-03T11:55:59.498Z"
   },
   {
    "duration": 18,
    "start_time": "2021-08-03T11:55:59.505Z"
   },
   {
    "duration": 3367,
    "start_time": "2021-08-03T11:56:10.051Z"
   },
   {
    "duration": 65,
    "start_time": "2021-08-03T11:56:57.546Z"
   },
   {
    "duration": 3,
    "start_time": "2021-08-03T11:57:29.452Z"
   },
   {
    "duration": 82,
    "start_time": "2021-08-03T11:57:29.458Z"
   },
   {
    "duration": 29,
    "start_time": "2021-08-03T11:57:29.543Z"
   },
   {
    "duration": 11,
    "start_time": "2021-08-03T11:57:29.575Z"
   },
   {
    "duration": 20,
    "start_time": "2021-08-03T11:57:29.589Z"
   },
   {
    "duration": 23,
    "start_time": "2021-08-03T11:57:29.612Z"
   },
   {
    "duration": 35,
    "start_time": "2021-08-03T11:57:29.639Z"
   },
   {
    "duration": 13,
    "start_time": "2021-08-03T11:57:29.678Z"
   },
   {
    "duration": 16,
    "start_time": "2021-08-03T11:57:29.693Z"
   },
   {
    "duration": 15,
    "start_time": "2021-08-03T11:57:29.711Z"
   },
   {
    "duration": 44,
    "start_time": "2021-08-03T11:57:29.728Z"
   },
   {
    "duration": 12,
    "start_time": "2021-08-03T11:57:29.775Z"
   },
   {
    "duration": 13,
    "start_time": "2021-08-03T11:57:29.790Z"
   },
   {
    "duration": 8,
    "start_time": "2021-08-03T11:57:29.806Z"
   },
   {
    "duration": 15,
    "start_time": "2021-08-03T11:57:29.816Z"
   },
   {
    "duration": 47,
    "start_time": "2021-08-03T11:57:29.834Z"
   },
   {
    "duration": 21,
    "start_time": "2021-08-03T11:57:29.883Z"
   },
   {
    "duration": 25,
    "start_time": "2021-08-03T11:57:29.907Z"
   },
   {
    "duration": 6,
    "start_time": "2021-08-03T11:57:29.936Z"
   },
   {
    "duration": 23,
    "start_time": "2021-08-03T11:57:29.968Z"
   },
   {
    "duration": 5,
    "start_time": "2021-08-03T11:57:29.994Z"
   },
   {
    "duration": 22,
    "start_time": "2021-08-03T11:57:30.001Z"
   },
   {
    "duration": 55,
    "start_time": "2021-08-03T11:57:33.885Z"
   },
   {
    "duration": 245,
    "start_time": "2021-08-03T12:06:20.363Z"
   },
   {
    "duration": 597,
    "start_time": "2021-08-03T12:06:20.015Z"
   },
   {
    "duration": 594,
    "start_time": "2021-08-03T12:06:20.020Z"
   },
   {
    "duration": 567,
    "start_time": "2021-08-03T12:06:20.049Z"
   },
   {
    "duration": 566,
    "start_time": "2021-08-03T12:06:20.052Z"
   },
   {
    "duration": 566,
    "start_time": "2021-08-03T12:06:20.054Z"
   },
   {
    "duration": 565,
    "start_time": "2021-08-03T12:06:20.057Z"
   },
   {
    "duration": 565,
    "start_time": "2021-08-03T12:06:20.059Z"
   },
   {
    "duration": 565,
    "start_time": "2021-08-03T12:06:20.061Z"
   },
   {
    "duration": 565,
    "start_time": "2021-08-03T12:06:20.063Z"
   },
   {
    "duration": 565,
    "start_time": "2021-08-03T12:06:20.065Z"
   },
   {
    "duration": 563,
    "start_time": "2021-08-03T12:06:20.068Z"
   },
   {
    "duration": 564,
    "start_time": "2021-08-03T12:06:20.070Z"
   },
   {
    "duration": 558,
    "start_time": "2021-08-03T12:06:20.078Z"
   },
   {
    "duration": 558,
    "start_time": "2021-08-03T12:06:20.080Z"
   },
   {
    "duration": 544,
    "start_time": "2021-08-03T12:06:20.096Z"
   },
   {
    "duration": 544,
    "start_time": "2021-08-03T12:06:20.098Z"
   },
   {
    "duration": 544,
    "start_time": "2021-08-03T12:06:20.100Z"
   },
   {
    "duration": 537,
    "start_time": "2021-08-03T12:06:20.109Z"
   },
   {
    "duration": 534,
    "start_time": "2021-08-03T12:06:20.114Z"
   },
   {
    "duration": 548,
    "start_time": "2021-08-03T12:06:20.118Z"
   },
   {
    "duration": 547,
    "start_time": "2021-08-03T12:06:20.122Z"
   },
   {
    "duration": 546,
    "start_time": "2021-08-03T12:06:20.125Z"
   },
   {
    "duration": 221,
    "start_time": "2021-08-03T12:07:18.335Z"
   },
   {
    "duration": 8,
    "start_time": "2021-08-03T12:07:47.539Z"
   },
   {
    "duration": 75,
    "start_time": "2021-08-03T12:07:49.324Z"
   },
   {
    "duration": 22,
    "start_time": "2021-08-03T12:07:49.965Z"
   },
   {
    "duration": 8,
    "start_time": "2021-08-03T12:07:51.041Z"
   },
   {
    "duration": 11,
    "start_time": "2021-08-03T12:07:51.326Z"
   },
   {
    "duration": 16,
    "start_time": "2021-08-03T12:07:51.628Z"
   },
   {
    "duration": 11,
    "start_time": "2021-08-03T12:07:51.961Z"
   },
   {
    "duration": 13,
    "start_time": "2021-08-03T12:07:52.124Z"
   },
   {
    "duration": 15,
    "start_time": "2021-08-03T12:07:52.488Z"
   },
   {
    "duration": 9,
    "start_time": "2021-08-03T12:07:53.246Z"
   },
   {
    "duration": 7,
    "start_time": "2021-08-03T12:07:54.097Z"
   },
   {
    "duration": 10,
    "start_time": "2021-08-03T12:07:55.002Z"
   },
   {
    "duration": 9,
    "start_time": "2021-08-03T12:07:55.986Z"
   },
   {
    "duration": 5,
    "start_time": "2021-08-03T12:07:57.014Z"
   },
   {
    "duration": 8,
    "start_time": "2021-08-03T12:07:57.807Z"
   },
   {
    "duration": 23,
    "start_time": "2021-08-03T12:07:59.646Z"
   },
   {
    "duration": 12,
    "start_time": "2021-08-03T12:08:00.054Z"
   },
   {
    "duration": 18,
    "start_time": "2021-08-03T12:08:00.633Z"
   },
   {
    "duration": 7,
    "start_time": "2021-08-03T12:08:02.098Z"
   },
   {
    "duration": 19,
    "start_time": "2021-08-03T12:08:03.759Z"
   },
   {
    "duration": 5,
    "start_time": "2021-08-03T12:08:07.492Z"
   },
   {
    "duration": 16,
    "start_time": "2021-08-03T12:08:08.599Z"
   },
   {
    "duration": 47,
    "start_time": "2021-08-03T12:08:18.700Z"
   },
   {
    "duration": 218,
    "start_time": "2021-08-03T12:08:27.742Z"
   },
   {
    "duration": 1196,
    "start_time": "2021-08-03T12:08:47.752Z"
   },
   {
    "duration": 919,
    "start_time": "2021-08-03T12:09:26.316Z"
   },
   {
    "duration": 919,
    "start_time": "2021-08-03T12:09:32.793Z"
   },
   {
    "duration": 938,
    "start_time": "2021-08-03T12:09:44.682Z"
   },
   {
    "duration": 935,
    "start_time": "2021-08-03T12:10:57.886Z"
   },
   {
    "duration": 379,
    "start_time": "2021-08-03T12:17:24.142Z"
   },
   {
    "duration": 388,
    "start_time": "2021-08-03T12:18:15.667Z"
   },
   {
    "duration": 306,
    "start_time": "2021-08-03T12:19:34.416Z"
   },
   {
    "duration": 6843,
    "start_time": "2021-08-03T12:20:02.101Z"
   },
   {
    "duration": 923,
    "start_time": "2021-08-03T12:20:43.027Z"
   },
   {
    "duration": 371,
    "start_time": "2021-08-03T12:21:18.298Z"
   },
   {
    "duration": 257,
    "start_time": "2021-08-03T12:21:30.680Z"
   },
   {
    "duration": 6773,
    "start_time": "2021-08-03T12:22:22.096Z"
   },
   {
    "duration": 280,
    "start_time": "2021-08-03T12:22:40.677Z"
   },
   {
    "duration": 473,
    "start_time": "2021-08-03T12:23:32.675Z"
   },
   {
    "duration": 578,
    "start_time": "2021-08-03T12:24:11.004Z"
   },
   {
    "duration": 248,
    "start_time": "2021-08-03T12:25:21.040Z"
   },
   {
    "duration": 262,
    "start_time": "2021-08-03T12:26:58.191Z"
   },
   {
    "duration": 224,
    "start_time": "2021-08-03T12:27:28.566Z"
   },
   {
    "duration": 242,
    "start_time": "2021-08-03T12:27:41.348Z"
   },
   {
    "duration": 517,
    "start_time": "2021-08-03T12:27:45.351Z"
   },
   {
    "duration": 3,
    "start_time": "2021-08-03T12:32:10.925Z"
   },
   {
    "duration": 76,
    "start_time": "2021-08-03T12:32:10.931Z"
   },
   {
    "duration": 21,
    "start_time": "2021-08-03T12:32:11.010Z"
   },
   {
    "duration": 12,
    "start_time": "2021-08-03T12:32:11.033Z"
   },
   {
    "duration": 25,
    "start_time": "2021-08-03T12:32:11.047Z"
   },
   {
    "duration": 23,
    "start_time": "2021-08-03T12:32:11.074Z"
   },
   {
    "duration": 14,
    "start_time": "2021-08-03T12:32:11.101Z"
   },
   {
    "duration": 22,
    "start_time": "2021-08-03T12:32:11.117Z"
   },
   {
    "duration": 32,
    "start_time": "2021-08-03T12:32:11.141Z"
   },
   {
    "duration": 10,
    "start_time": "2021-08-03T12:32:11.176Z"
   },
   {
    "duration": 7,
    "start_time": "2021-08-03T12:32:11.188Z"
   },
   {
    "duration": 12,
    "start_time": "2021-08-03T12:32:11.197Z"
   },
   {
    "duration": 9,
    "start_time": "2021-08-03T12:32:11.211Z"
   },
   {
    "duration": 46,
    "start_time": "2021-08-03T12:32:11.223Z"
   },
   {
    "duration": 28,
    "start_time": "2021-08-03T12:32:11.271Z"
   },
   {
    "duration": 23,
    "start_time": "2021-08-03T12:32:11.301Z"
   },
   {
    "duration": 11,
    "start_time": "2021-08-03T12:32:11.326Z"
   },
   {
    "duration": 38,
    "start_time": "2021-08-03T12:32:11.339Z"
   },
   {
    "duration": 6,
    "start_time": "2021-08-03T12:32:11.382Z"
   },
   {
    "duration": 22,
    "start_time": "2021-08-03T12:32:11.390Z"
   },
   {
    "duration": 4,
    "start_time": "2021-08-03T12:32:11.414Z"
   },
   {
    "duration": 54,
    "start_time": "2021-08-03T12:32:11.421Z"
   },
   {
    "duration": 45,
    "start_time": "2021-08-03T12:32:11.478Z"
   },
   {
    "duration": 258,
    "start_time": "2021-08-03T12:32:11.526Z"
   },
   {
    "duration": 279,
    "start_time": "2021-08-03T12:32:18.492Z"
   },
   {
    "duration": 236,
    "start_time": "2021-08-03T12:37:51.847Z"
   },
   {
    "duration": 275,
    "start_time": "2021-08-03T12:38:09.467Z"
   },
   {
    "duration": 7188,
    "start_time": "2021-08-03T12:39:28.343Z"
   },
   {
    "duration": 259,
    "start_time": "2021-08-03T12:40:38.918Z"
   },
   {
    "duration": 4,
    "start_time": "2021-08-03T12:41:03.207Z"
   },
   {
    "duration": 78,
    "start_time": "2021-08-03T12:41:03.592Z"
   },
   {
    "duration": 27,
    "start_time": "2021-08-03T12:41:05.595Z"
   },
   {
    "duration": 10,
    "start_time": "2021-08-03T12:41:08.586Z"
   },
   {
    "duration": 13,
    "start_time": "2021-08-03T12:41:09.730Z"
   },
   {
    "duration": 19,
    "start_time": "2021-08-03T12:41:10.660Z"
   },
   {
    "duration": 13,
    "start_time": "2021-08-03T12:41:11.552Z"
   },
   {
    "duration": 13,
    "start_time": "2021-08-03T12:41:12.036Z"
   },
   {
    "duration": 16,
    "start_time": "2021-08-03T12:41:13.248Z"
   },
   {
    "duration": 10,
    "start_time": "2021-08-03T12:41:14.248Z"
   },
   {
    "duration": 6,
    "start_time": "2021-08-03T12:41:20.892Z"
   },
   {
    "duration": 10,
    "start_time": "2021-08-03T12:41:22.002Z"
   },
   {
    "duration": 8,
    "start_time": "2021-08-03T12:41:22.815Z"
   },
   {
    "duration": 5,
    "start_time": "2021-08-03T12:41:23.588Z"
   },
   {
    "duration": 8,
    "start_time": "2021-08-03T12:41:24.060Z"
   },
   {
    "duration": 22,
    "start_time": "2021-08-03T12:41:24.558Z"
   },
   {
    "duration": 10,
    "start_time": "2021-08-03T12:41:25.080Z"
   },
   {
    "duration": 18,
    "start_time": "2021-08-03T12:41:25.604Z"
   },
   {
    "duration": 5,
    "start_time": "2021-08-03T12:41:26.372Z"
   },
   {
    "duration": 19,
    "start_time": "2021-08-03T12:41:27.548Z"
   },
   {
    "duration": 5,
    "start_time": "2021-08-03T12:41:31.359Z"
   },
   {
    "duration": 16,
    "start_time": "2021-08-03T12:41:32.234Z"
   },
   {
    "duration": 46,
    "start_time": "2021-08-03T12:41:34.776Z"
   },
   {
    "duration": 307,
    "start_time": "2021-08-03T12:41:41.842Z"
   },
   {
    "duration": 276,
    "start_time": "2021-08-03T12:42:19.925Z"
   },
   {
    "duration": 249,
    "start_time": "2021-08-03T12:42:47.667Z"
   },
   {
    "duration": 270,
    "start_time": "2021-08-03T12:43:13.846Z"
   },
   {
    "duration": 23,
    "start_time": "2021-08-03T12:43:26.695Z"
   },
   {
    "duration": 255,
    "start_time": "2021-08-03T12:43:54.499Z"
   },
   {
    "duration": 21,
    "start_time": "2021-08-03T12:44:35.014Z"
   },
   {
    "duration": 276,
    "start_time": "2021-08-03T12:46:10.099Z"
   },
   {
    "duration": 305,
    "start_time": "2021-08-03T12:59:27.015Z"
   },
   {
    "duration": 4,
    "start_time": "2021-08-03T12:59:41.559Z"
   },
   {
    "duration": 82,
    "start_time": "2021-08-03T12:59:41.567Z"
   },
   {
    "duration": 21,
    "start_time": "2021-08-03T12:59:41.668Z"
   },
   {
    "duration": 12,
    "start_time": "2021-08-03T12:59:41.691Z"
   },
   {
    "duration": 13,
    "start_time": "2021-08-03T12:59:41.706Z"
   },
   {
    "duration": 47,
    "start_time": "2021-08-03T12:59:41.722Z"
   },
   {
    "duration": 11,
    "start_time": "2021-08-03T12:59:41.773Z"
   },
   {
    "duration": 16,
    "start_time": "2021-08-03T12:59:41.787Z"
   },
   {
    "duration": 14,
    "start_time": "2021-08-03T12:59:41.806Z"
   },
   {
    "duration": 49,
    "start_time": "2021-08-03T12:59:41.823Z"
   },
   {
    "duration": 7,
    "start_time": "2021-08-03T12:59:41.874Z"
   },
   {
    "duration": 10,
    "start_time": "2021-08-03T12:59:41.883Z"
   },
   {
    "duration": 13,
    "start_time": "2021-08-03T12:59:41.896Z"
   },
   {
    "duration": 6,
    "start_time": "2021-08-03T12:59:41.911Z"
   },
   {
    "duration": 48,
    "start_time": "2021-08-03T12:59:41.919Z"
   },
   {
    "duration": 26,
    "start_time": "2021-08-03T12:59:41.969Z"
   },
   {
    "duration": 10,
    "start_time": "2021-08-03T12:59:41.997Z"
   },
   {
    "duration": 18,
    "start_time": "2021-08-03T12:59:42.009Z"
   },
   {
    "duration": 39,
    "start_time": "2021-08-03T12:59:42.031Z"
   },
   {
    "duration": 21,
    "start_time": "2021-08-03T12:59:42.073Z"
   },
   {
    "duration": 4,
    "start_time": "2021-08-03T12:59:42.097Z"
   },
   {
    "duration": 18,
    "start_time": "2021-08-03T12:59:42.104Z"
   },
   {
    "duration": 81,
    "start_time": "2021-08-03T12:59:42.124Z"
   },
   {
    "duration": 235,
    "start_time": "2021-08-03T12:59:48.660Z"
   },
   {
    "duration": 3398,
    "start_time": "2021-08-03T13:00:00.249Z"
   },
   {
    "duration": 3570,
    "start_time": "2021-08-03T13:00:19.700Z"
   },
   {
    "duration": 332,
    "start_time": "2021-08-03T13:04:32.455Z"
   },
   {
    "duration": 252,
    "start_time": "2021-08-03T13:04:41.187Z"
   },
   {
    "duration": 3430,
    "start_time": "2021-08-03T13:05:37.177Z"
   },
   {
    "duration": 4810,
    "start_time": "2021-08-03T13:05:50.401Z"
   },
   {
    "duration": 3451,
    "start_time": "2021-08-03T13:06:06.470Z"
   },
   {
    "duration": 4675,
    "start_time": "2021-08-03T13:44:15.417Z"
   },
   {
    "duration": 4722,
    "start_time": "2021-08-03T13:45:04.847Z"
   },
   {
    "duration": 14493,
    "start_time": "2021-08-03T13:48:13.835Z"
   },
   {
    "duration": 11,
    "start_time": "2021-08-03T13:50:48.102Z"
   },
   {
    "duration": 3,
    "start_time": "2021-08-03T15:13:48.245Z"
   },
   {
    "duration": 93,
    "start_time": "2021-08-03T15:13:48.250Z"
   },
   {
    "duration": 25,
    "start_time": "2021-08-03T15:13:48.367Z"
   },
   {
    "duration": 11,
    "start_time": "2021-08-03T15:13:48.396Z"
   },
   {
    "duration": 55,
    "start_time": "2021-08-03T15:13:48.411Z"
   },
   {
    "duration": 25,
    "start_time": "2021-08-03T15:13:48.468Z"
   },
   {
    "duration": 11,
    "start_time": "2021-08-03T15:13:48.496Z"
   },
   {
    "duration": 12,
    "start_time": "2021-08-03T15:13:48.509Z"
   },
   {
    "duration": 56,
    "start_time": "2021-08-03T15:13:48.524Z"
   },
   {
    "duration": 11,
    "start_time": "2021-08-03T15:13:48.584Z"
   },
   {
    "duration": 8,
    "start_time": "2021-08-03T15:13:48.597Z"
   },
   {
    "duration": 14,
    "start_time": "2021-08-03T15:13:48.607Z"
   },
   {
    "duration": 43,
    "start_time": "2021-08-03T15:13:48.623Z"
   },
   {
    "duration": 6,
    "start_time": "2021-08-03T15:13:48.672Z"
   },
   {
    "duration": 23,
    "start_time": "2021-08-03T15:13:48.681Z"
   },
   {
    "duration": 25,
    "start_time": "2021-08-03T15:13:48.707Z"
   },
   {
    "duration": 9,
    "start_time": "2021-08-03T15:13:48.735Z"
   },
   {
    "duration": 19,
    "start_time": "2021-08-03T15:13:48.776Z"
   },
   {
    "duration": 13,
    "start_time": "2021-08-03T15:13:48.799Z"
   },
   {
    "duration": 26,
    "start_time": "2021-08-03T15:13:48.814Z"
   },
   {
    "duration": 4,
    "start_time": "2021-08-03T15:13:48.842Z"
   },
   {
    "duration": 24,
    "start_time": "2021-08-03T15:13:48.871Z"
   },
   {
    "duration": 77,
    "start_time": "2021-08-03T15:13:48.897Z"
   },
   {
    "duration": 5306,
    "start_time": "2021-08-03T15:13:48.977Z"
   },
   {
    "duration": 5166,
    "start_time": "2021-08-03T15:13:57.861Z"
   },
   {
    "duration": 9497,
    "start_time": "2021-08-03T15:14:03.030Z"
   },
   {
    "duration": 14,
    "start_time": "2021-08-03T15:14:34.769Z"
   },
   {
    "duration": 94,
    "start_time": "2021-08-03T15:35:50.797Z"
   },
   {
    "duration": 103,
    "start_time": "2021-08-03T15:36:45.744Z"
   },
   {
    "duration": 173,
    "start_time": "2021-08-03T15:36:58.293Z"
   },
   {
    "duration": 4,
    "start_time": "2021-08-03T15:37:05.512Z"
   },
   {
    "duration": 134,
    "start_time": "2021-08-03T15:37:05.518Z"
   },
   {
    "duration": 36,
    "start_time": "2021-08-03T15:37:05.667Z"
   },
   {
    "duration": 9,
    "start_time": "2021-08-03T15:37:05.705Z"
   },
   {
    "duration": 11,
    "start_time": "2021-08-03T15:37:05.717Z"
   },
   {
    "duration": 54,
    "start_time": "2021-08-03T15:37:05.731Z"
   },
   {
    "duration": 11,
    "start_time": "2021-08-03T15:37:05.788Z"
   },
   {
    "duration": 28,
    "start_time": "2021-08-03T15:37:05.802Z"
   },
   {
    "duration": 41,
    "start_time": "2021-08-03T15:37:05.833Z"
   },
   {
    "duration": 12,
    "start_time": "2021-08-03T15:37:05.877Z"
   },
   {
    "duration": 8,
    "start_time": "2021-08-03T15:37:05.892Z"
   },
   {
    "duration": 13,
    "start_time": "2021-08-03T15:37:05.903Z"
   },
   {
    "duration": 51,
    "start_time": "2021-08-03T15:37:05.918Z"
   },
   {
    "duration": 9,
    "start_time": "2021-08-03T15:37:05.972Z"
   },
   {
    "duration": 16,
    "start_time": "2021-08-03T15:37:05.984Z"
   },
   {
    "duration": 30,
    "start_time": "2021-08-03T15:37:06.002Z"
   },
   {
    "duration": 42,
    "start_time": "2021-08-03T15:37:06.035Z"
   },
   {
    "duration": 32,
    "start_time": "2021-08-03T15:37:06.080Z"
   },
   {
    "duration": 7,
    "start_time": "2021-08-03T15:37:06.118Z"
   },
   {
    "duration": 55,
    "start_time": "2021-08-03T15:37:06.128Z"
   },
   {
    "duration": 4,
    "start_time": "2021-08-03T15:37:06.185Z"
   },
   {
    "duration": 21,
    "start_time": "2021-08-03T15:37:06.192Z"
   },
   {
    "duration": 79,
    "start_time": "2021-08-03T15:37:06.215Z"
   },
   {
    "duration": 5133,
    "start_time": "2021-08-03T15:37:06.296Z"
   },
   {
    "duration": 84,
    "start_time": "2021-08-03T15:37:11.432Z"
   },
   {
    "duration": 8883,
    "start_time": "2021-08-03T15:38:55.220Z"
   },
   {
    "duration": 9022,
    "start_time": "2021-08-03T15:40:12.008Z"
   },
   {
    "duration": 9227,
    "start_time": "2021-08-03T15:40:45.571Z"
   },
   {
    "duration": 8863,
    "start_time": "2021-08-03T15:42:21.022Z"
   },
   {
    "duration": 8899,
    "start_time": "2021-08-03T15:44:05.596Z"
   },
   {
    "duration": 11,
    "start_time": "2021-08-03T15:46:48.827Z"
   },
   {
    "duration": 10,
    "start_time": "2021-08-03T15:47:14.452Z"
   },
   {
    "duration": 10,
    "start_time": "2021-08-03T15:47:37.975Z"
   },
   {
    "duration": 288,
    "start_time": "2021-08-03T16:47:00.089Z"
   },
   {
    "duration": 23,
    "start_time": "2021-08-03T16:47:15.026Z"
   },
   {
    "duration": 7014,
    "start_time": "2021-08-03T16:48:07.010Z"
   },
   {
    "duration": 41,
    "start_time": "2021-08-03T16:49:01.358Z"
   },
   {
    "duration": 31,
    "start_time": "2021-08-03T16:49:51.590Z"
   },
   {
    "duration": 317,
    "start_time": "2021-08-03T16:52:35.930Z"
   },
   {
    "duration": 8,
    "start_time": "2021-08-03T16:53:12.438Z"
   },
   {
    "duration": 10,
    "start_time": "2021-08-03T16:53:37.619Z"
   },
   {
    "duration": 6,
    "start_time": "2021-08-03T16:53:53.023Z"
   },
   {
    "duration": 9,
    "start_time": "2021-08-03T16:54:19.006Z"
   },
   {
    "duration": 32,
    "start_time": "2021-08-03T16:54:39.416Z"
   },
   {
    "duration": 9,
    "start_time": "2021-08-03T16:55:05.634Z"
   },
   {
    "duration": 34,
    "start_time": "2021-08-03T16:55:18.816Z"
   },
   {
    "duration": 32,
    "start_time": "2021-08-03T16:55:49.223Z"
   },
   {
    "duration": 35,
    "start_time": "2021-08-03T16:55:52.337Z"
   },
   {
    "duration": 36,
    "start_time": "2021-08-03T16:56:25.861Z"
   },
   {
    "duration": 39,
    "start_time": "2021-08-03T16:56:57.084Z"
   },
   {
    "duration": 4,
    "start_time": "2021-08-03T16:57:25.298Z"
   },
   {
    "duration": 81,
    "start_time": "2021-08-03T16:57:25.304Z"
   },
   {
    "duration": 20,
    "start_time": "2021-08-03T16:57:25.388Z"
   },
   {
    "duration": 11,
    "start_time": "2021-08-03T16:57:25.410Z"
   },
   {
    "duration": 13,
    "start_time": "2021-08-03T16:57:25.423Z"
   },
   {
    "duration": 15,
    "start_time": "2021-08-03T16:57:25.466Z"
   },
   {
    "duration": 11,
    "start_time": "2021-08-03T16:57:25.484Z"
   },
   {
    "duration": 12,
    "start_time": "2021-08-03T16:57:25.497Z"
   },
   {
    "duration": 14,
    "start_time": "2021-08-03T16:57:25.511Z"
   },
   {
    "duration": 48,
    "start_time": "2021-08-03T16:57:25.527Z"
   },
   {
    "duration": 7,
    "start_time": "2021-08-03T16:57:25.577Z"
   },
   {
    "duration": 9,
    "start_time": "2021-08-03T16:57:25.586Z"
   },
   {
    "duration": 11,
    "start_time": "2021-08-03T16:57:25.597Z"
   },
   {
    "duration": 9,
    "start_time": "2021-08-03T16:57:25.610Z"
   },
   {
    "duration": 49,
    "start_time": "2021-08-03T16:57:25.622Z"
   },
   {
    "duration": 22,
    "start_time": "2021-08-03T16:57:25.673Z"
   },
   {
    "duration": 10,
    "start_time": "2021-08-03T16:57:25.698Z"
   },
   {
    "duration": 17,
    "start_time": "2021-08-03T16:57:25.711Z"
   },
   {
    "duration": 39,
    "start_time": "2021-08-03T16:57:25.732Z"
   },
   {
    "duration": 20,
    "start_time": "2021-08-03T16:57:25.773Z"
   },
   {
    "duration": 4,
    "start_time": "2021-08-03T16:57:25.796Z"
   },
   {
    "duration": 16,
    "start_time": "2021-08-03T16:57:25.803Z"
   },
   {
    "duration": 86,
    "start_time": "2021-08-03T16:57:25.822Z"
   },
   {
    "duration": 4540,
    "start_time": "2021-08-03T16:57:25.911Z"
   },
   {
    "duration": 10055,
    "start_time": "2021-08-03T16:57:30.453Z"
   },
   {
    "duration": 40,
    "start_time": "2021-08-03T16:57:42.127Z"
   },
   {
    "duration": 38,
    "start_time": "2021-08-03T16:57:54.668Z"
   },
   {
    "duration": 20,
    "start_time": "2021-08-03T16:59:37.190Z"
   },
   {
    "duration": 27,
    "start_time": "2021-08-03T16:59:48.158Z"
   },
   {
    "duration": 26,
    "start_time": "2021-08-03T17:00:01.994Z"
   },
   {
    "duration": 14,
    "start_time": "2021-08-03T17:00:22.102Z"
   },
   {
    "duration": 98,
    "start_time": "2021-08-03T17:01:48.704Z"
   },
   {
    "duration": 14,
    "start_time": "2021-08-03T17:01:59.867Z"
   },
   {
    "duration": 22,
    "start_time": "2021-08-03T17:02:10.592Z"
   },
   {
    "duration": 22,
    "start_time": "2021-08-03T17:04:40.277Z"
   },
   {
    "duration": 94,
    "start_time": "2021-08-03T17:05:26.429Z"
   },
   {
    "duration": 249,
    "start_time": "2021-08-03T17:06:13.900Z"
   },
   {
    "duration": 302,
    "start_time": "2021-08-03T17:08:35.757Z"
   },
   {
    "duration": 23,
    "start_time": "2021-08-03T17:08:55.512Z"
   },
   {
    "duration": 89,
    "start_time": "2021-08-03T17:09:44.562Z"
   },
   {
    "duration": 7512,
    "start_time": "2021-08-03T17:12:12.867Z"
   },
   {
    "duration": 24,
    "start_time": "2021-08-03T17:13:41.767Z"
   },
   {
    "duration": 27,
    "start_time": "2021-08-03T17:13:49.509Z"
   },
   {
    "duration": 48,
    "start_time": "2021-08-04T07:03:01.257Z"
   },
   {
    "duration": 5,
    "start_time": "2021-08-04T07:06:01.410Z"
   },
   {
    "duration": 16,
    "start_time": "2021-08-04T07:08:43.265Z"
   },
   {
    "duration": 17,
    "start_time": "2021-08-04T07:12:09.090Z"
   },
   {
    "duration": 11,
    "start_time": "2021-08-04T07:15:43.882Z"
   },
   {
    "duration": 261,
    "start_time": "2021-08-04T07:18:16.874Z"
   },
   {
    "duration": 21,
    "start_time": "2021-08-04T07:18:22.877Z"
   },
   {
    "duration": 38,
    "start_time": "2021-08-04T07:25:12.011Z"
   },
   {
    "duration": 804,
    "start_time": "2021-08-04T07:27:26.984Z"
   },
   {
    "duration": 16,
    "start_time": "2021-08-04T07:39:03.561Z"
   },
   {
    "duration": 31,
    "start_time": "2021-08-04T07:39:48.066Z"
   },
   {
    "duration": 66,
    "start_time": "2021-08-04T07:43:23.809Z"
   },
   {
    "duration": 316,
    "start_time": "2021-08-04T07:44:20.578Z"
   },
   {
    "duration": 43,
    "start_time": "2021-08-04T07:44:44.407Z"
   },
   {
    "duration": 38,
    "start_time": "2021-08-04T07:45:12.745Z"
   },
   {
    "duration": 40,
    "start_time": "2021-08-04T07:53:25.794Z"
   },
   {
    "duration": 36,
    "start_time": "2021-08-04T07:53:56.915Z"
   },
   {
    "duration": 90,
    "start_time": "2021-08-04T07:54:13.046Z"
   },
   {
    "duration": 101,
    "start_time": "2021-08-04T07:54:24.391Z"
   },
   {
    "duration": 13,
    "start_time": "2021-08-04T07:55:00.338Z"
   },
   {
    "duration": 84,
    "start_time": "2021-08-04T07:55:33.225Z"
   },
   {
    "duration": 92,
    "start_time": "2021-08-04T07:55:48.201Z"
   },
   {
    "duration": 88,
    "start_time": "2021-08-04T07:56:11.309Z"
   },
   {
    "duration": 54,
    "start_time": "2021-08-04T07:56:25.135Z"
   },
   {
    "duration": 72,
    "start_time": "2021-08-04T07:56:35.568Z"
   },
   {
    "duration": 40,
    "start_time": "2021-08-04T07:56:44.184Z"
   },
   {
    "duration": 55,
    "start_time": "2021-08-04T07:57:05.560Z"
   },
   {
    "duration": 290,
    "start_time": "2021-08-04T07:57:20.108Z"
   },
   {
    "duration": 329,
    "start_time": "2021-08-04T07:57:27.893Z"
   },
   {
    "duration": 54,
    "start_time": "2021-08-04T07:57:42.227Z"
   },
   {
    "duration": 214,
    "start_time": "2021-08-04T07:59:05.985Z"
   },
   {
    "duration": 279,
    "start_time": "2021-08-04T07:59:38.163Z"
   },
   {
    "duration": 93,
    "start_time": "2021-08-04T08:00:51.220Z"
   },
   {
    "duration": 295,
    "start_time": "2021-08-04T08:00:59.503Z"
   },
   {
    "duration": 38,
    "start_time": "2021-08-04T08:01:41.984Z"
   },
   {
    "duration": 37,
    "start_time": "2021-08-04T08:01:58.748Z"
   },
   {
    "duration": 32,
    "start_time": "2021-08-04T08:05:08.420Z"
   },
   {
    "duration": 39,
    "start_time": "2021-08-04T08:05:15.481Z"
   },
   {
    "duration": 89,
    "start_time": "2021-08-04T08:05:49.406Z"
   },
   {
    "duration": 34,
    "start_time": "2021-08-04T08:05:54.567Z"
   },
   {
    "duration": 39,
    "start_time": "2021-08-04T08:06:21.164Z"
   },
   {
    "duration": 35,
    "start_time": "2021-08-04T08:06:47.717Z"
   },
   {
    "duration": 30,
    "start_time": "2021-08-04T08:08:05.273Z"
   },
   {
    "duration": 11,
    "start_time": "2021-08-04T08:12:03.322Z"
   },
   {
    "duration": 16,
    "start_time": "2021-08-04T08:12:14.069Z"
   },
   {
    "duration": 31,
    "start_time": "2021-08-04T08:12:57.555Z"
   },
   {
    "duration": 81,
    "start_time": "2021-08-04T08:14:17.524Z"
   },
   {
    "duration": 36,
    "start_time": "2021-08-04T08:14:22.064Z"
   },
   {
    "duration": 328,
    "start_time": "2021-08-04T08:15:21.782Z"
   },
   {
    "duration": 34,
    "start_time": "2021-08-04T08:15:29.890Z"
   },
   {
    "duration": 6,
    "start_time": "2021-08-04T08:19:13.330Z"
   },
   {
    "duration": 13,
    "start_time": "2021-08-04T08:20:31.593Z"
   },
   {
    "duration": 9,
    "start_time": "2021-08-04T08:20:52.146Z"
   },
   {
    "duration": 10,
    "start_time": "2021-08-04T08:20:56.852Z"
   },
   {
    "duration": 12,
    "start_time": "2021-08-04T08:21:10.222Z"
   },
   {
    "duration": 12,
    "start_time": "2021-08-04T08:21:25.288Z"
   },
   {
    "duration": 14,
    "start_time": "2021-08-04T08:21:29.908Z"
   },
   {
    "duration": 14,
    "start_time": "2021-08-04T08:23:01.962Z"
   },
   {
    "duration": 260,
    "start_time": "2021-08-04T08:23:22.292Z"
   },
   {
    "duration": 20,
    "start_time": "2021-08-04T08:23:42.606Z"
   },
   {
    "duration": 17,
    "start_time": "2021-08-04T08:23:51.507Z"
   },
   {
    "duration": 280,
    "start_time": "2021-08-04T08:30:19.783Z"
   },
   {
    "duration": 264,
    "start_time": "2021-08-04T08:30:29.052Z"
   },
   {
    "duration": 79,
    "start_time": "2021-08-04T08:30:39.085Z"
   },
   {
    "duration": 14,
    "start_time": "2021-08-04T08:30:53.463Z"
   },
   {
    "duration": 287,
    "start_time": "2021-08-04T08:32:20.159Z"
   },
   {
    "duration": 27,
    "start_time": "2021-08-04T08:32:34.577Z"
   },
   {
    "duration": 294,
    "start_time": "2021-08-04T08:32:48.313Z"
   },
   {
    "duration": 30,
    "start_time": "2021-08-04T08:33:10.945Z"
   },
   {
    "duration": 31,
    "start_time": "2021-08-04T08:34:21.296Z"
   },
   {
    "duration": 26,
    "start_time": "2021-08-04T08:34:21.330Z"
   },
   {
    "duration": 16,
    "start_time": "2021-08-04T08:34:21.359Z"
   },
   {
    "duration": 28,
    "start_time": "2021-08-04T08:34:21.379Z"
   },
   {
    "duration": 5,
    "start_time": "2021-08-04T08:34:21.410Z"
   },
   {
    "duration": 55,
    "start_time": "2021-08-04T08:34:21.417Z"
   },
   {
    "duration": 27,
    "start_time": "2021-08-04T08:34:21.474Z"
   },
   {
    "duration": 9,
    "start_time": "2021-08-04T08:34:41.765Z"
   },
   {
    "duration": 51,
    "start_time": "2021-08-04T08:37:16.692Z"
   },
   {
    "duration": 8,
    "start_time": "2021-08-04T08:37:21.887Z"
   },
   {
    "duration": 8,
    "start_time": "2021-08-04T08:43:32.037Z"
   },
   {
    "duration": 249,
    "start_time": "2021-08-04T08:52:17.138Z"
   },
   {
    "duration": 7,
    "start_time": "2021-08-04T08:52:20.610Z"
   },
   {
    "duration": 7,
    "start_time": "2021-08-04T08:55:19.886Z"
   },
   {
    "duration": 23,
    "start_time": "2021-08-04T09:18:19.430Z"
   },
   {
    "duration": 51,
    "start_time": "2021-08-04T09:19:18.072Z"
   },
   {
    "duration": 51,
    "start_time": "2021-08-04T09:19:38.383Z"
   },
   {
    "duration": 53,
    "start_time": "2021-08-04T09:20:13.147Z"
   },
   {
    "duration": 29,
    "start_time": "2021-08-04T09:20:32.886Z"
   },
   {
    "duration": 7,
    "start_time": "2021-08-04T09:20:36.803Z"
   },
   {
    "duration": 77,
    "start_time": "2021-08-04T09:21:16.729Z"
   },
   {
    "duration": 25,
    "start_time": "2021-08-04T09:21:17.502Z"
   },
   {
    "duration": 29,
    "start_time": "2021-08-04T09:21:20.449Z"
   },
   {
    "duration": 6,
    "start_time": "2021-08-04T09:21:21.654Z"
   },
   {
    "duration": 7,
    "start_time": "2021-08-04T09:21:22.292Z"
   },
   {
    "duration": 7,
    "start_time": "2021-08-04T09:21:23.053Z"
   },
   {
    "duration": 392,
    "start_time": "2021-08-04T11:13:25.471Z"
   },
   {
    "duration": 33,
    "start_time": "2021-08-04T11:13:52.465Z"
   },
   {
    "duration": 8,
    "start_time": "2021-08-04T11:14:02.758Z"
   },
   {
    "duration": 31,
    "start_time": "2021-08-04T11:14:22.021Z"
   },
   {
    "duration": 31,
    "start_time": "2021-08-04T11:14:43.221Z"
   },
   {
    "duration": 325,
    "start_time": "2021-08-04T11:15:12.160Z"
   },
   {
    "duration": 32,
    "start_time": "2021-08-04T11:15:26.034Z"
   },
   {
    "duration": 29,
    "start_time": "2021-08-04T11:15:43.484Z"
   },
   {
    "duration": 7,
    "start_time": "2021-08-04T11:15:56.251Z"
   },
   {
    "duration": 17,
    "start_time": "2021-08-04T11:19:00.899Z"
   },
   {
    "duration": 10,
    "start_time": "2021-08-04T11:26:47.207Z"
   },
   {
    "duration": 10,
    "start_time": "2021-08-04T11:27:16.642Z"
   },
   {
    "duration": 16,
    "start_time": "2021-08-04T11:27:30.737Z"
   },
   {
    "duration": 13,
    "start_time": "2021-08-04T11:27:41.602Z"
   },
   {
    "duration": 16,
    "start_time": "2021-08-04T11:27:46.665Z"
   },
   {
    "duration": 24,
    "start_time": "2021-08-04T11:28:08.157Z"
   },
   {
    "duration": 14,
    "start_time": "2021-08-04T11:28:17.235Z"
   },
   {
    "duration": 14,
    "start_time": "2021-08-04T11:28:39.112Z"
   },
   {
    "duration": 14,
    "start_time": "2021-08-04T11:28:52.336Z"
   },
   {
    "duration": 4,
    "start_time": "2021-08-04T11:29:13.364Z"
   },
   {
    "duration": 103,
    "start_time": "2021-08-04T11:29:13.371Z"
   },
   {
    "duration": 24,
    "start_time": "2021-08-04T11:29:13.477Z"
   },
   {
    "duration": 10,
    "start_time": "2021-08-04T11:29:13.504Z"
   },
   {
    "duration": 50,
    "start_time": "2021-08-04T11:29:13.516Z"
   },
   {
    "duration": 20,
    "start_time": "2021-08-04T11:29:13.569Z"
   },
   {
    "duration": 10,
    "start_time": "2021-08-04T11:29:13.593Z"
   },
   {
    "duration": 15,
    "start_time": "2021-08-04T11:29:13.606Z"
   },
   {
    "duration": 24,
    "start_time": "2021-08-04T11:29:13.667Z"
   },
   {
    "duration": 21,
    "start_time": "2021-08-04T11:29:13.693Z"
   },
   {
    "duration": 11,
    "start_time": "2021-08-04T11:29:13.717Z"
   },
   {
    "duration": 15,
    "start_time": "2021-08-04T11:29:13.731Z"
   },
   {
    "duration": 12,
    "start_time": "2021-08-04T11:29:13.772Z"
   },
   {
    "duration": 8,
    "start_time": "2021-08-04T11:29:13.787Z"
   },
   {
    "duration": 16,
    "start_time": "2021-08-04T11:29:13.798Z"
   },
   {
    "duration": 72,
    "start_time": "2021-08-04T11:29:13.817Z"
   },
   {
    "duration": 82,
    "start_time": "2021-08-04T11:29:13.891Z"
   },
   {
    "duration": 45,
    "start_time": "2021-08-04T11:29:13.975Z"
   },
   {
    "duration": 8,
    "start_time": "2021-08-04T11:29:14.024Z"
   },
   {
    "duration": 20,
    "start_time": "2021-08-04T11:29:19.161Z"
   },
   {
    "duration": 10,
    "start_time": "2021-08-04T11:29:42.645Z"
   },
   {
    "duration": 25,
    "start_time": "2021-08-04T11:31:37.143Z"
   },
   {
    "duration": 23,
    "start_time": "2021-08-04T11:35:48.312Z"
   },
   {
    "duration": 37,
    "start_time": "2021-08-04T11:37:52.617Z"
   },
   {
    "duration": 24,
    "start_time": "2021-08-04T11:38:06.105Z"
   },
   {
    "duration": 19,
    "start_time": "2021-08-04T11:40:56.796Z"
   },
   {
    "duration": 6,
    "start_time": "2021-08-04T11:41:03.960Z"
   },
   {
    "duration": 17,
    "start_time": "2021-08-04T11:41:05.341Z"
   },
   {
    "duration": 3,
    "start_time": "2021-08-04T11:44:15.789Z"
   },
   {
    "duration": 79,
    "start_time": "2021-08-04T11:44:15.796Z"
   },
   {
    "duration": 22,
    "start_time": "2021-08-04T11:44:15.878Z"
   },
   {
    "duration": 8,
    "start_time": "2021-08-04T11:44:15.903Z"
   },
   {
    "duration": 56,
    "start_time": "2021-08-04T11:44:15.913Z"
   },
   {
    "duration": 16,
    "start_time": "2021-08-04T11:44:15.971Z"
   },
   {
    "duration": 11,
    "start_time": "2021-08-04T11:44:15.989Z"
   },
   {
    "duration": 15,
    "start_time": "2021-08-04T11:44:16.003Z"
   },
   {
    "duration": 18,
    "start_time": "2021-08-04T11:44:16.071Z"
   },
   {
    "duration": 13,
    "start_time": "2021-08-04T11:44:16.092Z"
   },
   {
    "duration": 9,
    "start_time": "2021-08-04T11:44:16.109Z"
   },
   {
    "duration": 58,
    "start_time": "2021-08-04T11:44:16.120Z"
   },
   {
    "duration": 13,
    "start_time": "2021-08-04T11:44:16.181Z"
   },
   {
    "duration": 9,
    "start_time": "2021-08-04T11:44:16.197Z"
   },
   {
    "duration": 60,
    "start_time": "2021-08-04T11:44:16.209Z"
   },
   {
    "duration": 26,
    "start_time": "2021-08-04T11:44:16.272Z"
   },
   {
    "duration": 19,
    "start_time": "2021-08-04T11:44:16.301Z"
   },
   {
    "duration": 47,
    "start_time": "2021-08-04T11:44:16.322Z"
   },
   {
    "duration": 19,
    "start_time": "2021-08-04T11:44:16.371Z"
   },
   {
    "duration": 45,
    "start_time": "2021-08-04T11:44:18.894Z"
   },
   {
    "duration": 22,
    "start_time": "2021-08-04T11:56:36.415Z"
   },
   {
    "duration": 3,
    "start_time": "2021-08-04T11:56:47.431Z"
   },
   {
    "duration": 83,
    "start_time": "2021-08-04T11:56:47.436Z"
   },
   {
    "duration": 22,
    "start_time": "2021-08-04T11:56:47.522Z"
   },
   {
    "duration": 29,
    "start_time": "2021-08-04T11:56:47.547Z"
   },
   {
    "duration": 13,
    "start_time": "2021-08-04T11:56:47.579Z"
   },
   {
    "duration": 17,
    "start_time": "2021-08-04T11:56:47.594Z"
   },
   {
    "duration": 63,
    "start_time": "2021-08-04T11:56:47.613Z"
   },
   {
    "duration": 14,
    "start_time": "2021-08-04T11:56:47.679Z"
   },
   {
    "duration": 15,
    "start_time": "2021-08-04T11:56:47.697Z"
   },
   {
    "duration": 13,
    "start_time": "2021-08-04T11:56:47.715Z"
   },
   {
    "duration": 10,
    "start_time": "2021-08-04T11:56:47.775Z"
   },
   {
    "duration": 13,
    "start_time": "2021-08-04T11:56:47.787Z"
   },
   {
    "duration": 10,
    "start_time": "2021-08-04T11:56:47.803Z"
   },
   {
    "duration": 10,
    "start_time": "2021-08-04T11:56:47.815Z"
   },
   {
    "duration": 50,
    "start_time": "2021-08-04T11:56:47.828Z"
   },
   {
    "duration": 24,
    "start_time": "2021-08-04T11:56:47.880Z"
   },
   {
    "duration": 23,
    "start_time": "2021-08-04T11:56:47.906Z"
   },
   {
    "duration": 44,
    "start_time": "2021-08-04T11:56:47.931Z"
   },
   {
    "duration": 18,
    "start_time": "2021-08-04T11:56:47.978Z"
   },
   {
    "duration": 21,
    "start_time": "2021-08-04T11:56:47.999Z"
   },
   {
    "duration": 5,
    "start_time": "2021-08-04T11:56:48.022Z"
   },
   {
    "duration": 13,
    "start_time": "2021-08-04T11:56:48.066Z"
   },
   {
    "duration": 22,
    "start_time": "2021-08-04T11:56:48.083Z"
   },
   {
    "duration": 10,
    "start_time": "2021-08-04T11:56:48.107Z"
   },
   {
    "duration": 24,
    "start_time": "2021-08-04T11:56:48.167Z"
   },
   {
    "duration": 27,
    "start_time": "2021-08-04T11:56:51.932Z"
   },
   {
    "duration": 97,
    "start_time": "2021-08-04T12:14:59.484Z"
   },
   {
    "duration": 23,
    "start_time": "2021-08-04T12:15:26.304Z"
   },
   {
    "duration": 7016,
    "start_time": "2021-08-04T13:38:44.550Z"
   },
   {
    "duration": 18,
    "start_time": "2021-08-04T13:41:44.734Z"
   },
   {
    "duration": 17,
    "start_time": "2021-08-04T13:42:47.132Z"
   },
   {
    "duration": 230,
    "start_time": "2021-08-04T13:44:36.947Z"
   },
   {
    "duration": 250,
    "start_time": "2021-08-04T13:45:02.296Z"
   },
   {
    "duration": 17,
    "start_time": "2021-08-04T13:45:37.376Z"
   },
   {
    "duration": 14,
    "start_time": "2021-08-04T13:45:39.747Z"
   },
   {
    "duration": 14,
    "start_time": "2021-08-04T13:47:00.801Z"
   },
   {
    "duration": 4,
    "start_time": "2021-08-04T13:48:18.446Z"
   },
   {
    "duration": 70,
    "start_time": "2021-08-04T13:48:18.453Z"
   },
   {
    "duration": 55,
    "start_time": "2021-08-04T13:48:18.526Z"
   },
   {
    "duration": 10,
    "start_time": "2021-08-04T13:48:18.585Z"
   },
   {
    "duration": 15,
    "start_time": "2021-08-04T13:48:18.598Z"
   },
   {
    "duration": 19,
    "start_time": "2021-08-04T13:48:18.668Z"
   },
   {
    "duration": 13,
    "start_time": "2021-08-04T13:48:18.693Z"
   },
   {
    "duration": 64,
    "start_time": "2021-08-04T13:48:18.710Z"
   },
   {
    "duration": 18,
    "start_time": "2021-08-04T13:48:18.777Z"
   },
   {
    "duration": 16,
    "start_time": "2021-08-04T13:48:18.798Z"
   },
   {
    "duration": 50,
    "start_time": "2021-08-04T13:48:18.817Z"
   },
   {
    "duration": 11,
    "start_time": "2021-08-04T13:48:18.870Z"
   },
   {
    "duration": 12,
    "start_time": "2021-08-04T13:48:18.885Z"
   },
   {
    "duration": 10,
    "start_time": "2021-08-04T13:48:18.900Z"
   },
   {
    "duration": 61,
    "start_time": "2021-08-04T13:48:18.912Z"
   },
   {
    "duration": 23,
    "start_time": "2021-08-04T13:48:18.976Z"
   },
   {
    "duration": 18,
    "start_time": "2021-08-04T13:48:19.001Z"
   },
   {
    "duration": 45,
    "start_time": "2021-08-04T13:48:19.022Z"
   },
   {
    "duration": 15,
    "start_time": "2021-08-04T13:48:19.072Z"
   },
   {
    "duration": 21,
    "start_time": "2021-08-04T13:48:19.090Z"
   },
   {
    "duration": 4,
    "start_time": "2021-08-04T13:48:19.114Z"
   },
   {
    "duration": 52,
    "start_time": "2021-08-04T13:48:19.120Z"
   },
   {
    "duration": 24,
    "start_time": "2021-08-04T13:48:19.174Z"
   },
   {
    "duration": 11,
    "start_time": "2021-08-04T13:48:19.200Z"
   },
   {
    "duration": 64,
    "start_time": "2021-08-04T13:48:19.213Z"
   },
   {
    "duration": 26,
    "start_time": "2021-08-04T13:48:19.280Z"
   },
   {
    "duration": 29,
    "start_time": "2021-08-04T13:48:19.309Z"
   },
   {
    "duration": 4457,
    "start_time": "2021-08-04T13:48:19.368Z"
   },
   {
    "duration": 9223,
    "start_time": "2021-08-04T13:48:23.828Z"
   },
   {
    "duration": 59,
    "start_time": "2021-08-04T13:48:33.054Z"
   },
   {
    "duration": 63,
    "start_time": "2021-08-04T13:48:33.115Z"
   },
   {
    "duration": 45,
    "start_time": "2021-08-04T13:48:33.180Z"
   },
   {
    "duration": 41,
    "start_time": "2021-08-04T13:48:33.227Z"
   },
   {
    "duration": 27,
    "start_time": "2021-08-04T13:48:33.271Z"
   },
   {
    "duration": 7,
    "start_time": "2021-08-04T13:48:33.300Z"
   },
   {
    "duration": 18,
    "start_time": "2021-08-04T13:48:33.310Z"
   },
   {
    "duration": 68,
    "start_time": "2021-08-04T13:48:33.330Z"
   },
   {
    "duration": 9,
    "start_time": "2021-08-04T13:48:33.400Z"
   },
   {
    "duration": 20,
    "start_time": "2021-08-04T13:48:33.412Z"
   },
   {
    "duration": 45,
    "start_time": "2021-08-04T13:48:33.435Z"
   },
   {
    "duration": 12,
    "start_time": "2021-08-04T13:48:33.482Z"
   },
   {
    "duration": 12,
    "start_time": "2021-08-04T13:48:33.497Z"
   },
   {
    "duration": 16,
    "start_time": "2021-08-04T13:48:43.090Z"
   },
   {
    "duration": 19,
    "start_time": "2021-08-04T13:49:54.646Z"
   },
   {
    "duration": 50,
    "start_time": "2021-08-04T13:51:33.714Z"
   },
   {
    "duration": 3,
    "start_time": "2021-08-04T14:09:28.507Z"
   },
   {
    "duration": 81,
    "start_time": "2021-08-04T14:09:28.519Z"
   },
   {
    "duration": 22,
    "start_time": "2021-08-04T14:09:28.603Z"
   },
   {
    "duration": 43,
    "start_time": "2021-08-04T14:09:28.628Z"
   },
   {
    "duration": 11,
    "start_time": "2021-08-04T14:09:28.674Z"
   },
   {
    "duration": 14,
    "start_time": "2021-08-04T14:09:28.688Z"
   },
   {
    "duration": 61,
    "start_time": "2021-08-04T14:09:28.705Z"
   },
   {
    "duration": 13,
    "start_time": "2021-08-04T14:09:28.769Z"
   },
   {
    "duration": 14,
    "start_time": "2021-08-04T14:09:28.785Z"
   },
   {
    "duration": 12,
    "start_time": "2021-08-04T14:09:28.801Z"
   },
   {
    "duration": 53,
    "start_time": "2021-08-04T14:09:28.816Z"
   },
   {
    "duration": 12,
    "start_time": "2021-08-04T14:09:28.872Z"
   },
   {
    "duration": 13,
    "start_time": "2021-08-04T14:09:28.887Z"
   },
   {
    "duration": 10,
    "start_time": "2021-08-04T14:09:28.903Z"
   },
   {
    "duration": 13,
    "start_time": "2021-08-04T14:09:28.967Z"
   },
   {
    "duration": 28,
    "start_time": "2021-08-04T14:09:28.982Z"
   },
   {
    "duration": 66,
    "start_time": "2021-08-04T14:09:29.013Z"
   },
   {
    "duration": 6,
    "start_time": "2021-08-04T14:09:29.082Z"
   },
   {
    "duration": 20,
    "start_time": "2021-08-04T14:09:29.091Z"
   },
   {
    "duration": 68,
    "start_time": "2021-08-04T14:09:29.115Z"
   },
   {
    "duration": 6,
    "start_time": "2021-08-04T14:09:29.186Z"
   },
   {
    "duration": 14,
    "start_time": "2021-08-04T14:09:29.196Z"
   },
   {
    "duration": 60,
    "start_time": "2021-08-04T14:09:29.213Z"
   },
   {
    "duration": 10,
    "start_time": "2021-08-04T14:09:29.279Z"
   },
   {
    "duration": 22,
    "start_time": "2021-08-04T14:09:29.292Z"
   },
   {
    "duration": 72,
    "start_time": "2021-08-04T14:09:29.316Z"
   },
   {
    "duration": 26,
    "start_time": "2021-08-04T14:09:29.390Z"
   },
   {
    "duration": 4811,
    "start_time": "2021-08-04T14:09:29.418Z"
   },
   {
    "duration": 8501,
    "start_time": "2021-08-04T14:09:34.232Z"
   },
   {
    "duration": 92,
    "start_time": "2021-08-04T14:09:42.735Z"
   },
   {
    "duration": 72,
    "start_time": "2021-08-04T14:09:42.758Z"
   },
   {
    "duration": 70,
    "start_time": "2021-08-04T14:09:42.761Z"
   },
   {
    "duration": 70,
    "start_time": "2021-08-04T14:09:42.763Z"
   },
   {
    "duration": 68,
    "start_time": "2021-08-04T14:09:42.766Z"
   },
   {
    "duration": 67,
    "start_time": "2021-08-04T14:09:42.768Z"
   },
   {
    "duration": 67,
    "start_time": "2021-08-04T14:09:42.770Z"
   },
   {
    "duration": 65,
    "start_time": "2021-08-04T14:09:42.773Z"
   },
   {
    "duration": 65,
    "start_time": "2021-08-04T14:09:42.775Z"
   },
   {
    "duration": 64,
    "start_time": "2021-08-04T14:09:42.778Z"
   },
   {
    "duration": 63,
    "start_time": "2021-08-04T14:09:42.780Z"
   },
   {
    "duration": 61,
    "start_time": "2021-08-04T14:09:42.783Z"
   },
   {
    "duration": 55,
    "start_time": "2021-08-04T14:09:42.791Z"
   },
   {
    "duration": 53,
    "start_time": "2021-08-04T14:09:42.794Z"
   },
   {
    "duration": 3,
    "start_time": "2021-08-04T14:10:47.541Z"
   },
   {
    "duration": 120,
    "start_time": "2021-08-04T14:10:47.547Z"
   },
   {
    "duration": 21,
    "start_time": "2021-08-04T14:10:47.670Z"
   },
   {
    "duration": 13,
    "start_time": "2021-08-04T14:10:47.694Z"
   },
   {
    "duration": 17,
    "start_time": "2021-08-04T14:10:47.710Z"
   },
   {
    "duration": 48,
    "start_time": "2021-08-04T14:10:47.729Z"
   },
   {
    "duration": 11,
    "start_time": "2021-08-04T14:10:47.780Z"
   },
   {
    "duration": 13,
    "start_time": "2021-08-04T14:10:47.794Z"
   },
   {
    "duration": 58,
    "start_time": "2021-08-04T14:10:47.810Z"
   },
   {
    "duration": 13,
    "start_time": "2021-08-04T14:10:47.871Z"
   },
   {
    "duration": 9,
    "start_time": "2021-08-04T14:10:47.886Z"
   },
   {
    "duration": 13,
    "start_time": "2021-08-04T14:10:47.897Z"
   },
   {
    "duration": 54,
    "start_time": "2021-08-04T14:10:47.913Z"
   },
   {
    "duration": 9,
    "start_time": "2021-08-04T14:10:47.970Z"
   },
   {
    "duration": 9,
    "start_time": "2021-08-04T14:10:47.981Z"
   },
   {
    "duration": 22,
    "start_time": "2021-08-04T14:10:47.992Z"
   },
   {
    "duration": 63,
    "start_time": "2021-08-04T14:10:48.016Z"
   },
   {
    "duration": 4,
    "start_time": "2021-08-04T14:10:48.082Z"
   },
   {
    "duration": 17,
    "start_time": "2021-08-04T14:10:48.090Z"
   },
   {
    "duration": 20,
    "start_time": "2021-08-04T14:10:48.109Z"
   },
   {
    "duration": 4,
    "start_time": "2021-08-04T14:10:48.168Z"
   },
   {
    "duration": 13,
    "start_time": "2021-08-04T14:10:48.175Z"
   },
   {
    "duration": 24,
    "start_time": "2021-08-04T14:10:48.191Z"
   },
   {
    "duration": 10,
    "start_time": "2021-08-04T14:10:48.217Z"
   },
   {
    "duration": 18,
    "start_time": "2021-08-04T14:10:48.268Z"
   },
   {
    "duration": 31,
    "start_time": "2021-08-04T14:10:48.288Z"
   },
   {
    "duration": 59,
    "start_time": "2021-08-04T14:10:48.321Z"
   },
   {
    "duration": 4620,
    "start_time": "2021-08-04T14:10:48.383Z"
   },
   {
    "duration": 9611,
    "start_time": "2021-08-04T14:10:53.005Z"
   },
   {
    "duration": 48,
    "start_time": "2021-08-04T14:11:02.619Z"
   },
   {
    "duration": 14,
    "start_time": "2021-08-04T14:11:02.670Z"
   },
   {
    "duration": 30,
    "start_time": "2021-08-04T14:11:02.686Z"
   },
   {
    "duration": 56,
    "start_time": "2021-08-04T14:11:02.719Z"
   },
   {
    "duration": 27,
    "start_time": "2021-08-04T14:11:02.778Z"
   },
   {
    "duration": 69,
    "start_time": "2021-08-04T14:11:02.807Z"
   },
   {
    "duration": 13,
    "start_time": "2021-08-04T14:11:02.879Z"
   },
   {
    "duration": 14,
    "start_time": "2021-08-04T14:11:02.894Z"
   },
   {
    "duration": 66,
    "start_time": "2021-08-04T14:11:02.911Z"
   },
   {
    "duration": 30,
    "start_time": "2021-08-04T14:11:02.979Z"
   },
   {
    "duration": 84,
    "start_time": "2021-08-04T14:11:03.011Z"
   },
   {
    "duration": 83,
    "start_time": "2021-08-04T14:11:03.097Z"
   },
   {
    "duration": 86,
    "start_time": "2021-08-04T14:11:03.183Z"
   },
   {
    "duration": 10,
    "start_time": "2021-08-04T14:12:18.068Z"
   },
   {
    "duration": 13,
    "start_time": "2021-08-04T14:12:47.024Z"
   },
   {
    "duration": 108,
    "start_time": "2021-08-04T14:33:38.877Z"
   },
   {
    "duration": 91,
    "start_time": "2021-08-04T14:35:07.181Z"
   },
   {
    "duration": 69,
    "start_time": "2021-08-04T14:35:29.042Z"
   },
   {
    "duration": 3,
    "start_time": "2021-08-04T14:37:19.882Z"
   },
   {
    "duration": 100,
    "start_time": "2021-08-04T14:37:19.887Z"
   },
   {
    "duration": 22,
    "start_time": "2021-08-04T14:37:19.990Z"
   },
   {
    "duration": 15,
    "start_time": "2021-08-04T14:37:20.015Z"
   },
   {
    "duration": 44,
    "start_time": "2021-08-04T14:37:20.033Z"
   },
   {
    "duration": 25,
    "start_time": "2021-08-04T14:37:20.080Z"
   },
   {
    "duration": 19,
    "start_time": "2021-08-04T14:37:20.109Z"
   },
   {
    "duration": 42,
    "start_time": "2021-08-04T14:37:20.131Z"
   },
   {
    "duration": 21,
    "start_time": "2021-08-04T14:37:20.176Z"
   },
   {
    "duration": 10,
    "start_time": "2021-08-04T14:37:20.199Z"
   },
   {
    "duration": 21,
    "start_time": "2021-08-04T14:37:20.211Z"
   },
   {
    "duration": 38,
    "start_time": "2021-08-04T14:37:20.235Z"
   },
   {
    "duration": 17,
    "start_time": "2021-08-04T14:37:20.275Z"
   },
   {
    "duration": 12,
    "start_time": "2021-08-04T14:37:20.294Z"
   },
   {
    "duration": 16,
    "start_time": "2021-08-04T14:37:20.309Z"
   },
   {
    "duration": 50,
    "start_time": "2021-08-04T14:37:20.328Z"
   },
   {
    "duration": 19,
    "start_time": "2021-08-04T14:37:20.380Z"
   },
   {
    "duration": 6,
    "start_time": "2021-08-04T14:37:20.402Z"
   },
   {
    "duration": 59,
    "start_time": "2021-08-04T14:37:20.416Z"
   },
   {
    "duration": 23,
    "start_time": "2021-08-04T14:37:20.480Z"
   },
   {
    "duration": 6,
    "start_time": "2021-08-04T14:37:20.506Z"
   },
   {
    "duration": 55,
    "start_time": "2021-08-04T14:37:20.515Z"
   },
   {
    "duration": 23,
    "start_time": "2021-08-04T14:37:20.572Z"
   },
   {
    "duration": 22,
    "start_time": "2021-08-04T14:37:20.598Z"
   },
   {
    "duration": 47,
    "start_time": "2021-08-04T14:37:20.622Z"
   },
   {
    "duration": 27,
    "start_time": "2021-08-04T14:37:20.671Z"
   },
   {
    "duration": 25,
    "start_time": "2021-08-04T14:37:20.701Z"
   },
   {
    "duration": 4597,
    "start_time": "2021-08-04T14:37:20.728Z"
   },
   {
    "duration": 8516,
    "start_time": "2021-08-04T14:37:25.327Z"
   },
   {
    "duration": 34,
    "start_time": "2021-08-04T14:37:33.846Z"
   },
   {
    "duration": 19,
    "start_time": "2021-08-04T14:37:33.883Z"
   },
   {
    "duration": 27,
    "start_time": "2021-08-04T14:37:33.905Z"
   },
   {
    "duration": 55,
    "start_time": "2021-08-04T14:37:33.934Z"
   },
   {
    "duration": 20,
    "start_time": "2021-08-04T14:37:33.993Z"
   },
   {
    "duration": 63,
    "start_time": "2021-08-04T14:37:34.016Z"
   },
   {
    "duration": 17,
    "start_time": "2021-08-04T14:37:34.082Z"
   },
   {
    "duration": 18,
    "start_time": "2021-08-04T14:37:34.102Z"
   },
   {
    "duration": 59,
    "start_time": "2021-08-04T14:37:34.122Z"
   },
   {
    "duration": 34,
    "start_time": "2021-08-04T14:37:34.184Z"
   },
   {
    "duration": 78,
    "start_time": "2021-08-04T14:37:34.222Z"
   },
   {
    "duration": 65,
    "start_time": "2021-08-04T14:37:34.303Z"
   },
   {
    "duration": 30,
    "start_time": "2021-08-04T14:37:34.371Z"
   },
   {
    "duration": 938,
    "start_time": "2021-08-05T11:52:52.554Z"
   },
   {
    "duration": 80,
    "start_time": "2021-08-05T11:52:53.495Z"
   },
   {
    "duration": 35,
    "start_time": "2021-08-05T11:52:53.578Z"
   },
   {
    "duration": 7,
    "start_time": "2021-08-05T11:52:53.615Z"
   },
   {
    "duration": 17,
    "start_time": "2021-08-05T11:52:53.625Z"
   },
   {
    "duration": 30,
    "start_time": "2021-08-05T11:52:53.668Z"
   },
   {
    "duration": 11,
    "start_time": "2021-08-05T11:52:53.701Z"
   },
   {
    "duration": 14,
    "start_time": "2021-08-05T11:52:53.718Z"
   },
   {
    "duration": 53,
    "start_time": "2021-08-05T11:52:53.736Z"
   },
   {
    "duration": 11,
    "start_time": "2021-08-05T11:52:53.792Z"
   },
   {
    "duration": 6,
    "start_time": "2021-08-05T11:52:53.805Z"
   },
   {
    "duration": 18,
    "start_time": "2021-08-05T11:52:53.813Z"
   },
   {
    "duration": 11,
    "start_time": "2021-08-05T11:52:53.833Z"
   },
   {
    "duration": 39,
    "start_time": "2021-08-05T11:52:53.846Z"
   },
   {
    "duration": 14,
    "start_time": "2021-08-05T11:52:53.888Z"
   },
   {
    "duration": 23,
    "start_time": "2021-08-05T11:52:53.904Z"
   },
   {
    "duration": 55,
    "start_time": "2021-08-05T11:52:53.929Z"
   },
   {
    "duration": 6,
    "start_time": "2021-08-05T11:52:53.991Z"
   },
   {
    "duration": 21,
    "start_time": "2021-08-05T11:52:53.999Z"
   },
   {
    "duration": 22,
    "start_time": "2021-08-05T11:52:54.022Z"
   },
   {
    "duration": 5,
    "start_time": "2021-08-05T11:52:54.046Z"
   },
   {
    "duration": 10,
    "start_time": "2021-08-05T11:52:54.073Z"
   },
   {
    "duration": 26,
    "start_time": "2021-08-05T11:52:54.088Z"
   },
   {
    "duration": 9,
    "start_time": "2021-08-05T11:52:54.117Z"
   },
   {
    "duration": 63,
    "start_time": "2021-08-05T11:52:54.129Z"
   },
   {
    "duration": 28,
    "start_time": "2021-08-05T11:52:54.195Z"
   },
   {
    "duration": 47,
    "start_time": "2021-08-05T11:52:54.225Z"
   },
   {
    "duration": 4760,
    "start_time": "2021-08-05T11:52:54.274Z"
   },
   {
    "duration": 8616,
    "start_time": "2021-08-05T11:52:59.036Z"
   },
   {
    "duration": 32,
    "start_time": "2021-08-05T11:53:07.655Z"
   },
   {
    "duration": 15,
    "start_time": "2021-08-05T11:53:07.691Z"
   },
   {
    "duration": 25,
    "start_time": "2021-08-05T11:53:07.708Z"
   },
   {
    "duration": 55,
    "start_time": "2021-08-05T11:53:07.736Z"
   },
   {
    "duration": 17,
    "start_time": "2021-08-05T11:53:07.794Z"
   },
   {
    "duration": 19,
    "start_time": "2021-08-05T11:53:07.814Z"
   },
   {
    "duration": 46,
    "start_time": "2021-08-05T11:53:07.835Z"
   },
   {
    "duration": 15,
    "start_time": "2021-08-05T11:53:07.883Z"
   },
   {
    "duration": 13,
    "start_time": "2021-08-05T11:53:07.901Z"
   },
   {
    "duration": 1226,
    "start_time": "2021-08-05T11:53:07.916Z"
   },
   {
    "duration": 58,
    "start_time": "2021-08-05T11:53:09.145Z"
   },
   {
    "duration": 31,
    "start_time": "2021-08-05T11:53:09.206Z"
   },
   {
    "duration": 56,
    "start_time": "2021-08-05T11:53:09.240Z"
   },
   {
    "duration": 36,
    "start_time": "2021-08-05T13:16:35.183Z"
   },
   {
    "duration": 21,
    "start_time": "2021-08-05T13:16:43.141Z"
   },
   {
    "duration": 30,
    "start_time": "2021-08-05T13:16:49.093Z"
   },
   {
    "duration": 38,
    "start_time": "2021-08-07T16:29:46.735Z"
   },
   {
    "duration": 98,
    "start_time": "2021-08-07T16:29:46.776Z"
   },
   {
    "duration": 25,
    "start_time": "2021-08-07T16:29:46.878Z"
   },
   {
    "duration": 9,
    "start_time": "2021-08-07T16:29:46.907Z"
   },
   {
    "duration": 59,
    "start_time": "2021-08-07T16:29:46.918Z"
   },
   {
    "duration": 19,
    "start_time": "2021-08-07T16:29:46.981Z"
   },
   {
    "duration": 11,
    "start_time": "2021-08-07T16:29:47.003Z"
   },
   {
    "duration": 52,
    "start_time": "2021-08-07T16:29:47.018Z"
   },
   {
    "duration": 19,
    "start_time": "2021-08-07T16:29:47.073Z"
   },
   {
    "duration": 10,
    "start_time": "2021-08-07T16:29:47.095Z"
   },
   {
    "duration": 8,
    "start_time": "2021-08-07T16:29:47.108Z"
   },
   {
    "duration": 12,
    "start_time": "2021-08-07T16:29:47.119Z"
   },
   {
    "duration": 49,
    "start_time": "2021-08-07T16:29:47.133Z"
   },
   {
    "duration": 9,
    "start_time": "2021-08-07T16:29:47.184Z"
   },
   {
    "duration": 14,
    "start_time": "2021-08-07T16:29:47.195Z"
   },
   {
    "duration": 24,
    "start_time": "2021-08-07T16:29:47.212Z"
   },
   {
    "duration": 51,
    "start_time": "2021-08-07T16:29:47.239Z"
   },
   {
    "duration": 5,
    "start_time": "2021-08-07T16:29:47.292Z"
   },
   {
    "duration": 20,
    "start_time": "2021-08-07T16:29:47.299Z"
   },
   {
    "duration": 58,
    "start_time": "2021-08-07T16:29:47.322Z"
   },
   {
    "duration": 6,
    "start_time": "2021-08-07T16:29:47.384Z"
   },
   {
    "duration": 17,
    "start_time": "2021-08-07T16:29:47.393Z"
   },
   {
    "duration": 55,
    "start_time": "2021-08-07T16:29:47.415Z"
   },
   {
    "duration": 12,
    "start_time": "2021-08-07T16:29:47.475Z"
   },
   {
    "duration": 16,
    "start_time": "2021-08-07T16:29:47.490Z"
   },
   {
    "duration": 26,
    "start_time": "2021-08-07T16:29:47.508Z"
   },
   {
    "duration": 63,
    "start_time": "2021-08-07T16:29:47.536Z"
   },
   {
    "duration": 4778,
    "start_time": "2021-08-07T16:29:47.601Z"
   },
   {
    "duration": 8890,
    "start_time": "2021-08-07T16:29:52.383Z"
   },
   {
    "duration": 27,
    "start_time": "2021-08-07T16:30:01.281Z"
   },
   {
    "duration": 23,
    "start_time": "2021-08-07T16:30:01.311Z"
   },
   {
    "duration": 34,
    "start_time": "2021-08-07T16:30:01.337Z"
   },
   {
    "duration": 31,
    "start_time": "2021-08-07T16:30:01.373Z"
   },
   {
    "duration": 14,
    "start_time": "2021-08-07T16:30:01.407Z"
   },
   {
    "duration": 37,
    "start_time": "2021-08-07T16:30:01.423Z"
   },
   {
    "duration": 42,
    "start_time": "2021-08-07T16:30:01.463Z"
   },
   {
    "duration": 37,
    "start_time": "2021-08-07T16:30:01.508Z"
   },
   {
    "duration": 38,
    "start_time": "2021-08-07T16:30:01.548Z"
   },
   {
    "duration": 52,
    "start_time": "2021-08-07T16:30:01.588Z"
   },
   {
    "duration": 47,
    "start_time": "2021-08-07T16:30:01.643Z"
   },
   {
    "duration": 34,
    "start_time": "2021-08-07T16:30:01.693Z"
   },
   {
    "duration": 55,
    "start_time": "2021-08-07T16:30:01.729Z"
   },
   {
    "duration": 75,
    "start_time": "2021-08-07T16:33:09.696Z"
   },
   {
    "duration": 130,
    "start_time": "2021-08-07T16:34:08.940Z"
   },
   {
    "duration": 33,
    "start_time": "2021-08-07T16:36:17.256Z"
   },
   {
    "duration": 23,
    "start_time": "2021-08-07T16:37:27.922Z"
   },
   {
    "duration": 21,
    "start_time": "2021-08-07T16:45:43.619Z"
   },
   {
    "duration": 10,
    "start_time": "2021-08-07T16:47:55.454Z"
   },
   {
    "duration": 11,
    "start_time": "2021-08-07T16:48:37.138Z"
   },
   {
    "duration": 7,
    "start_time": "2021-08-07T17:09:38.374Z"
   },
   {
    "duration": 293,
    "start_time": "2021-08-07T17:10:31.193Z"
   },
   {
    "duration": 25,
    "start_time": "2021-08-07T17:10:43.725Z"
   },
   {
    "duration": 21,
    "start_time": "2021-08-07T17:12:21.513Z"
   },
   {
    "duration": 16,
    "start_time": "2021-08-07T17:13:04.844Z"
   },
   {
    "duration": 9,
    "start_time": "2021-08-07T17:13:08.377Z"
   },
   {
    "duration": 6,
    "start_time": "2021-08-07T17:38:04.141Z"
   },
   {
    "duration": 8,
    "start_time": "2021-08-07T17:38:10.432Z"
   },
   {
    "duration": 8,
    "start_time": "2021-08-07T17:38:16.801Z"
   },
   {
    "duration": 45,
    "start_time": "2021-08-07T17:39:38.030Z"
   },
   {
    "duration": 30,
    "start_time": "2021-08-07T17:43:08.173Z"
   },
   {
    "duration": 133,
    "start_time": "2021-08-07T17:43:08.207Z"
   },
   {
    "duration": 44,
    "start_time": "2021-08-07T17:43:08.343Z"
   },
   {
    "duration": 10,
    "start_time": "2021-08-07T17:43:08.391Z"
   },
   {
    "duration": 12,
    "start_time": "2021-08-07T17:43:08.403Z"
   },
   {
    "duration": 65,
    "start_time": "2021-08-07T17:43:08.418Z"
   },
   {
    "duration": 11,
    "start_time": "2021-08-07T17:43:08.485Z"
   },
   {
    "duration": 13,
    "start_time": "2021-08-07T17:43:08.500Z"
   },
   {
    "duration": 14,
    "start_time": "2021-08-07T17:43:08.515Z"
   },
   {
    "duration": 45,
    "start_time": "2021-08-07T17:43:08.532Z"
   },
   {
    "duration": 7,
    "start_time": "2021-08-07T17:43:08.580Z"
   },
   {
    "duration": 10,
    "start_time": "2021-08-07T17:43:08.589Z"
   },
   {
    "duration": 10,
    "start_time": "2021-08-07T17:43:08.601Z"
   },
   {
    "duration": 8,
    "start_time": "2021-08-07T17:43:08.613Z"
   },
   {
    "duration": 57,
    "start_time": "2021-08-07T17:43:08.623Z"
   },
   {
    "duration": 26,
    "start_time": "2021-08-07T17:43:08.683Z"
   },
   {
    "duration": 8,
    "start_time": "2021-08-07T17:43:08.711Z"
   },
   {
    "duration": 61,
    "start_time": "2021-08-07T17:43:08.721Z"
   },
   {
    "duration": 42,
    "start_time": "2021-08-07T17:43:08.785Z"
   },
   {
    "duration": 95,
    "start_time": "2021-08-07T17:55:58.132Z"
   },
   {
    "duration": 6460,
    "start_time": "2021-08-07T18:01:31.463Z"
   },
   {
    "duration": 257,
    "start_time": "2021-08-07T18:02:37.957Z"
   },
   {
    "duration": 5,
    "start_time": "2021-08-07T18:15:00.088Z"
   },
   {
    "duration": 284,
    "start_time": "2021-08-07T18:15:31.202Z"
   },
   {
    "duration": 14,
    "start_time": "2021-08-07T18:15:43.391Z"
   },
   {
    "duration": 17,
    "start_time": "2021-08-07T18:16:03.772Z"
   },
   {
    "duration": 24,
    "start_time": "2021-08-07T18:16:21.520Z"
   },
   {
    "duration": 299,
    "start_time": "2021-08-07T18:16:56.831Z"
   },
   {
    "duration": 232,
    "start_time": "2021-08-07T18:17:22.041Z"
   },
   {
    "duration": 6131,
    "start_time": "2021-08-07T18:17:56.108Z"
   },
   {
    "duration": 111,
    "start_time": "2021-08-07T18:19:14.048Z"
   },
   {
    "duration": 286,
    "start_time": "2021-08-07T18:19:31.699Z"
   },
   {
    "duration": 295,
    "start_time": "2021-08-07T18:20:47.385Z"
   },
   {
    "duration": 300,
    "start_time": "2021-08-07T18:21:18.201Z"
   },
   {
    "duration": 93,
    "start_time": "2021-08-07T18:22:10.053Z"
   },
   {
    "duration": 265,
    "start_time": "2021-08-07T18:22:15.873Z"
   },
   {
    "duration": 272,
    "start_time": "2021-08-07T18:22:47.085Z"
   },
   {
    "duration": 28,
    "start_time": "2021-08-07T18:23:48.357Z"
   },
   {
    "duration": 27,
    "start_time": "2021-08-07T18:24:38.492Z"
   },
   {
    "duration": 10,
    "start_time": "2021-08-07T18:29:22.499Z"
   },
   {
    "duration": 4,
    "start_time": "2021-08-07T18:29:58.056Z"
   },
   {
    "duration": 176,
    "start_time": "2021-08-07T18:29:58.069Z"
   },
   {
    "duration": 43,
    "start_time": "2021-08-07T18:29:58.248Z"
   },
   {
    "duration": 16,
    "start_time": "2021-08-07T18:29:58.295Z"
   },
   {
    "duration": 14,
    "start_time": "2021-08-07T18:29:58.315Z"
   },
   {
    "duration": 48,
    "start_time": "2021-08-07T18:29:58.332Z"
   },
   {
    "duration": 11,
    "start_time": "2021-08-07T18:29:58.388Z"
   },
   {
    "duration": 13,
    "start_time": "2021-08-07T18:29:58.402Z"
   },
   {
    "duration": 14,
    "start_time": "2021-08-07T18:29:58.418Z"
   },
   {
    "duration": 52,
    "start_time": "2021-08-07T18:29:58.436Z"
   },
   {
    "duration": 7,
    "start_time": "2021-08-07T18:29:58.495Z"
   },
   {
    "duration": 10,
    "start_time": "2021-08-07T18:29:58.505Z"
   },
   {
    "duration": 18,
    "start_time": "2021-08-07T18:29:58.518Z"
   },
   {
    "duration": 12,
    "start_time": "2021-08-07T18:29:58.539Z"
   },
   {
    "duration": 21,
    "start_time": "2021-08-07T18:29:58.568Z"
   },
   {
    "duration": 36,
    "start_time": "2021-08-07T18:29:58.592Z"
   },
   {
    "duration": 48,
    "start_time": "2021-08-07T18:29:58.631Z"
   },
   {
    "duration": 15,
    "start_time": "2021-08-07T18:29:58.681Z"
   },
   {
    "duration": 53,
    "start_time": "2021-08-07T18:29:58.699Z"
   },
   {
    "duration": 29,
    "start_time": "2021-08-07T18:29:58.755Z"
   },
   {
    "duration": 11,
    "start_time": "2021-08-07T18:30:03.435Z"
   },
   {
    "duration": 11,
    "start_time": "2021-08-07T18:34:13.096Z"
   },
   {
    "duration": 4,
    "start_time": "2021-08-07T18:36:02.726Z"
   },
   {
    "duration": 122,
    "start_time": "2021-08-07T18:36:02.734Z"
   },
   {
    "duration": 27,
    "start_time": "2021-08-07T18:36:02.870Z"
   },
   {
    "duration": 26,
    "start_time": "2021-08-07T18:36:02.900Z"
   },
   {
    "duration": 24,
    "start_time": "2021-08-07T18:36:02.929Z"
   },
   {
    "duration": 40,
    "start_time": "2021-08-07T18:36:02.955Z"
   },
   {
    "duration": 11,
    "start_time": "2021-08-07T18:36:02.997Z"
   },
   {
    "duration": 25,
    "start_time": "2021-08-07T18:36:03.011Z"
   },
   {
    "duration": 31,
    "start_time": "2021-08-07T18:36:03.039Z"
   },
   {
    "duration": 14,
    "start_time": "2021-08-07T18:36:03.075Z"
   },
   {
    "duration": 7,
    "start_time": "2021-08-07T18:36:03.092Z"
   },
   {
    "duration": 20,
    "start_time": "2021-08-07T18:36:03.102Z"
   },
   {
    "duration": 19,
    "start_time": "2021-08-07T18:36:03.125Z"
   },
   {
    "duration": 22,
    "start_time": "2021-08-07T18:36:03.147Z"
   },
   {
    "duration": 32,
    "start_time": "2021-08-07T18:36:03.173Z"
   },
   {
    "duration": 29,
    "start_time": "2021-08-07T18:36:03.208Z"
   },
   {
    "duration": 16,
    "start_time": "2021-08-07T18:36:03.239Z"
   },
   {
    "duration": 31,
    "start_time": "2021-08-07T18:36:03.258Z"
   },
   {
    "duration": 50,
    "start_time": "2021-08-07T18:36:03.291Z"
   },
   {
    "duration": 12,
    "start_time": "2021-08-07T18:36:03.343Z"
   },
   {
    "duration": 15,
    "start_time": "2021-08-07T18:36:07.893Z"
   },
   {
    "duration": 11,
    "start_time": "2021-08-07T18:38:01.629Z"
   },
   {
    "duration": 20,
    "start_time": "2021-08-07T18:38:08.217Z"
   },
   {
    "duration": 5,
    "start_time": "2021-08-07T18:38:16.157Z"
   },
   {
    "duration": 7,
    "start_time": "2021-08-07T18:42:08.316Z"
   },
   {
    "duration": 22,
    "start_time": "2021-08-07T18:43:04.036Z"
   },
   {
    "duration": 287,
    "start_time": "2021-08-07T18:57:03.002Z"
   },
   {
    "duration": 362,
    "start_time": "2021-08-07T18:57:35.038Z"
   },
   {
    "duration": 13,
    "start_time": "2021-08-07T18:59:21.114Z"
   },
   {
    "duration": 245,
    "start_time": "2021-08-07T18:59:29.370Z"
   },
   {
    "duration": 308,
    "start_time": "2021-08-07T19:00:18.378Z"
   },
   {
    "duration": 11,
    "start_time": "2021-08-07T19:00:53.908Z"
   },
   {
    "duration": 4,
    "start_time": "2021-08-07T19:01:10.656Z"
   },
   {
    "duration": 133,
    "start_time": "2021-08-07T19:01:10.663Z"
   },
   {
    "duration": 21,
    "start_time": "2021-08-07T19:01:10.799Z"
   },
   {
    "duration": 21,
    "start_time": "2021-08-07T19:01:10.823Z"
   },
   {
    "duration": 32,
    "start_time": "2021-08-07T19:01:10.847Z"
   },
   {
    "duration": 25,
    "start_time": "2021-08-07T19:01:10.882Z"
   },
   {
    "duration": 13,
    "start_time": "2021-08-07T19:01:10.912Z"
   },
   {
    "duration": 47,
    "start_time": "2021-08-07T19:01:10.929Z"
   },
   {
    "duration": 16,
    "start_time": "2021-08-07T19:01:10.980Z"
   },
   {
    "duration": 16,
    "start_time": "2021-08-07T19:01:10.998Z"
   },
   {
    "duration": 19,
    "start_time": "2021-08-07T19:01:11.016Z"
   },
   {
    "duration": 34,
    "start_time": "2021-08-07T19:01:11.038Z"
   },
   {
    "duration": 12,
    "start_time": "2021-08-07T19:01:11.075Z"
   },
   {
    "duration": 8,
    "start_time": "2021-08-07T19:01:11.090Z"
   },
   {
    "duration": 11,
    "start_time": "2021-08-07T19:01:11.100Z"
   },
   {
    "duration": 63,
    "start_time": "2021-08-07T19:01:11.113Z"
   },
   {
    "duration": 8,
    "start_time": "2021-08-07T19:01:11.179Z"
   },
   {
    "duration": 18,
    "start_time": "2021-08-07T19:01:11.189Z"
   },
   {
    "duration": 71,
    "start_time": "2021-08-07T19:01:11.211Z"
   },
   {
    "duration": 11,
    "start_time": "2021-08-07T19:01:11.285Z"
   },
   {
    "duration": 12,
    "start_time": "2021-08-07T19:01:18.715Z"
   },
   {
    "duration": 13,
    "start_time": "2021-08-07T19:01:54.389Z"
   },
   {
    "duration": 16,
    "start_time": "2021-08-07T19:02:00.460Z"
   },
   {
    "duration": 16,
    "start_time": "2021-08-07T19:44:03.819Z"
   },
   {
    "duration": 19,
    "start_time": "2021-08-07T19:44:12.995Z"
   },
   {
    "duration": 29,
    "start_time": "2021-08-07T19:44:59.908Z"
   },
   {
    "duration": 120,
    "start_time": "2021-08-08T04:04:48.860Z"
   },
   {
    "duration": 400,
    "start_time": "2021-08-08T04:10:19.994Z"
   },
   {
    "duration": 868,
    "start_time": "2021-08-08T04:26:22.053Z"
   },
   {
    "duration": 119,
    "start_time": "2021-08-08T04:26:22.924Z"
   },
   {
    "duration": 20,
    "start_time": "2021-08-08T04:26:23.055Z"
   },
   {
    "duration": 11,
    "start_time": "2021-08-08T04:26:23.077Z"
   },
   {
    "duration": 10,
    "start_time": "2021-08-08T04:26:23.090Z"
   },
   {
    "duration": 14,
    "start_time": "2021-08-08T04:26:23.102Z"
   },
   {
    "duration": 44,
    "start_time": "2021-08-08T04:26:23.118Z"
   },
   {
    "duration": 12,
    "start_time": "2021-08-08T04:26:23.166Z"
   },
   {
    "duration": 14,
    "start_time": "2021-08-08T04:26:23.180Z"
   },
   {
    "duration": 11,
    "start_time": "2021-08-08T04:26:23.196Z"
   },
   {
    "duration": 48,
    "start_time": "2021-08-08T04:26:23.209Z"
   },
   {
    "duration": 9,
    "start_time": "2021-08-08T04:26:23.259Z"
   },
   {
    "duration": 10,
    "start_time": "2021-08-08T04:26:23.271Z"
   },
   {
    "duration": 10,
    "start_time": "2021-08-08T04:26:23.283Z"
   },
   {
    "duration": 12,
    "start_time": "2021-08-08T04:26:23.296Z"
   },
   {
    "duration": 58,
    "start_time": "2021-08-08T04:26:23.310Z"
   },
   {
    "duration": 8,
    "start_time": "2021-08-08T04:26:23.370Z"
   },
   {
    "duration": 23,
    "start_time": "2021-08-08T04:26:23.380Z"
   },
   {
    "duration": 63,
    "start_time": "2021-08-08T04:26:23.406Z"
   },
   {
    "duration": 10,
    "start_time": "2021-08-08T04:26:23.471Z"
   },
   {
    "duration": 23,
    "start_time": "2021-08-08T04:26:23.483Z"
   },
   {
    "duration": 9,
    "start_time": "2021-08-08T04:26:23.509Z"
   },
   {
    "duration": 33,
    "start_time": "2021-08-08T04:26:23.523Z"
   },
   {
    "duration": 26,
    "start_time": "2021-08-08T04:26:23.559Z"
   },
   {
    "duration": 19,
    "start_time": "2021-08-08T04:26:23.587Z"
   },
   {
    "duration": 4,
    "start_time": "2021-08-08T04:26:23.609Z"
   },
   {
    "duration": 25,
    "start_time": "2021-08-08T04:26:23.615Z"
   },
   {
    "duration": 19,
    "start_time": "2021-08-08T04:26:23.643Z"
   },
   {
    "duration": 15,
    "start_time": "2021-08-08T04:26:23.664Z"
   },
   {
    "duration": 10,
    "start_time": "2021-08-08T04:26:23.681Z"
   },
   {
    "duration": 20,
    "start_time": "2021-08-08T04:26:23.693Z"
   },
   {
    "duration": 53,
    "start_time": "2021-08-08T04:26:23.716Z"
   },
   {
    "duration": 23,
    "start_time": "2021-08-08T04:26:23.771Z"
   },
   {
    "duration": 3,
    "start_time": "2021-08-08T04:26:23.796Z"
   },
   {
    "duration": 4429,
    "start_time": "2021-08-08T04:26:23.801Z"
   },
   {
    "duration": 116,
    "start_time": "2021-08-08T04:26:28.233Z"
   },
   {
    "duration": -57,
    "start_time": "2021-08-08T04:26:28.409Z"
   },
   {
    "duration": -58,
    "start_time": "2021-08-08T04:26:28.412Z"
   },
   {
    "duration": -72,
    "start_time": "2021-08-08T04:26:28.427Z"
   },
   {
    "duration": -85,
    "start_time": "2021-08-08T04:26:28.442Z"
   },
   {
    "duration": -87,
    "start_time": "2021-08-08T04:26:28.445Z"
   },
   {
    "duration": -89,
    "start_time": "2021-08-08T04:26:28.449Z"
   },
   {
    "duration": -90,
    "start_time": "2021-08-08T04:26:28.452Z"
   },
   {
    "duration": -92,
    "start_time": "2021-08-08T04:26:28.455Z"
   },
   {
    "duration": -94,
    "start_time": "2021-08-08T04:26:28.458Z"
   },
   {
    "duration": -96,
    "start_time": "2021-08-08T04:26:28.462Z"
   },
   {
    "duration": -98,
    "start_time": "2021-08-08T04:26:28.465Z"
   },
   {
    "duration": -100,
    "start_time": "2021-08-08T04:26:28.468Z"
   },
   {
    "duration": -102,
    "start_time": "2021-08-08T04:26:28.471Z"
   },
   {
    "duration": -103,
    "start_time": "2021-08-08T04:26:28.474Z"
   },
   {
    "duration": -113,
    "start_time": "2021-08-08T04:26:28.485Z"
   },
   {
    "duration": -115,
    "start_time": "2021-08-08T04:26:28.488Z"
   },
   {
    "duration": -119,
    "start_time": "2021-08-08T04:26:28.493Z"
   },
   {
    "duration": -123,
    "start_time": "2021-08-08T04:26:28.498Z"
   },
   {
    "duration": -124,
    "start_time": "2021-08-08T04:26:28.501Z"
   },
   {
    "duration": -126,
    "start_time": "2021-08-08T04:26:28.504Z"
   },
   {
    "duration": -129,
    "start_time": "2021-08-08T04:26:28.508Z"
   },
   {
    "duration": -139,
    "start_time": "2021-08-08T04:26:28.520Z"
   },
   {
    "duration": -141,
    "start_time": "2021-08-08T04:26:28.523Z"
   },
   {
    "duration": -148,
    "start_time": "2021-08-08T04:26:28.531Z"
   },
   {
    "duration": -149,
    "start_time": "2021-08-08T04:26:28.534Z"
   },
   {
    "duration": -151,
    "start_time": "2021-08-08T04:26:28.537Z"
   },
   {
    "duration": 37,
    "start_time": "2021-08-08T04:31:07.822Z"
   },
   {
    "duration": 145,
    "start_time": "2021-08-08T04:31:07.862Z"
   },
   {
    "duration": 46,
    "start_time": "2021-08-08T04:31:08.009Z"
   },
   {
    "duration": 8,
    "start_time": "2021-08-08T04:31:08.058Z"
   },
   {
    "duration": 12,
    "start_time": "2021-08-08T04:31:08.068Z"
   },
   {
    "duration": 14,
    "start_time": "2021-08-08T04:31:08.083Z"
   },
   {
    "duration": 11,
    "start_time": "2021-08-08T04:31:08.100Z"
   },
   {
    "duration": 12,
    "start_time": "2021-08-08T04:31:08.156Z"
   },
   {
    "duration": 13,
    "start_time": "2021-08-08T04:31:08.171Z"
   },
   {
    "duration": 13,
    "start_time": "2021-08-08T04:31:08.187Z"
   },
   {
    "duration": 7,
    "start_time": "2021-08-08T04:31:08.203Z"
   },
   {
    "duration": 47,
    "start_time": "2021-08-08T04:31:08.213Z"
   },
   {
    "duration": 12,
    "start_time": "2021-08-08T04:31:08.262Z"
   },
   {
    "duration": 9,
    "start_time": "2021-08-08T04:31:08.276Z"
   },
   {
    "duration": 10,
    "start_time": "2021-08-08T04:31:08.287Z"
   },
   {
    "duration": 56,
    "start_time": "2021-08-08T04:31:08.299Z"
   },
   {
    "duration": 8,
    "start_time": "2021-08-08T04:31:08.358Z"
   },
   {
    "duration": 20,
    "start_time": "2021-08-08T04:31:08.369Z"
   },
   {
    "duration": 42,
    "start_time": "2021-08-08T04:31:08.391Z"
   },
   {
    "duration": 10,
    "start_time": "2021-08-08T04:31:08.457Z"
   },
   {
    "duration": 14,
    "start_time": "2021-08-08T04:31:08.469Z"
   },
   {
    "duration": 8,
    "start_time": "2021-08-08T04:31:08.486Z"
   },
   {
    "duration": 7,
    "start_time": "2021-08-08T04:31:08.501Z"
   },
   {
    "duration": 54,
    "start_time": "2021-08-08T04:31:08.512Z"
   },
   {
    "duration": 20,
    "start_time": "2021-08-08T04:31:08.569Z"
   },
   {
    "duration": 4,
    "start_time": "2021-08-08T04:31:08.591Z"
   },
   {
    "duration": 19,
    "start_time": "2021-08-08T04:31:08.598Z"
   },
   {
    "duration": 39,
    "start_time": "2021-08-08T04:31:08.620Z"
   },
   {
    "duration": 9,
    "start_time": "2021-08-08T04:31:08.662Z"
   },
   {
    "duration": 10,
    "start_time": "2021-08-08T04:31:08.674Z"
   },
   {
    "duration": 16,
    "start_time": "2021-08-08T04:31:08.686Z"
   },
   {
    "duration": 61,
    "start_time": "2021-08-08T04:31:08.705Z"
   },
   {
    "duration": 26,
    "start_time": "2021-08-08T04:31:08.769Z"
   },
   {
    "duration": 5,
    "start_time": "2021-08-08T04:31:08.798Z"
   },
   {
    "duration": 4390,
    "start_time": "2021-08-08T04:31:08.806Z"
   },
   {
    "duration": 114,
    "start_time": "2021-08-08T04:31:13.198Z"
   },
   {
    "duration": -80,
    "start_time": "2021-08-08T04:31:13.394Z"
   },
   {
    "duration": -81,
    "start_time": "2021-08-08T04:31:13.397Z"
   },
   {
    "duration": -84,
    "start_time": "2021-08-08T04:31:13.401Z"
   },
   {
    "duration": -92,
    "start_time": "2021-08-08T04:31:13.411Z"
   },
   {
    "duration": -95,
    "start_time": "2021-08-08T04:31:13.415Z"
   },
   {
    "duration": -97,
    "start_time": "2021-08-08T04:31:13.418Z"
   },
   {
    "duration": -100,
    "start_time": "2021-08-08T04:31:13.422Z"
   },
   {
    "duration": -101,
    "start_time": "2021-08-08T04:31:13.425Z"
   },
   {
    "duration": -104,
    "start_time": "2021-08-08T04:31:13.429Z"
   },
   {
    "duration": -107,
    "start_time": "2021-08-08T04:31:13.433Z"
   },
   {
    "duration": -116,
    "start_time": "2021-08-08T04:31:13.443Z"
   },
   {
    "duration": -117,
    "start_time": "2021-08-08T04:31:13.446Z"
   },
   {
    "duration": -119,
    "start_time": "2021-08-08T04:31:13.449Z"
   },
   {
    "duration": -122,
    "start_time": "2021-08-08T04:31:13.453Z"
   },
   {
    "duration": -125,
    "start_time": "2021-08-08T04:31:13.457Z"
   },
   {
    "duration": -126,
    "start_time": "2021-08-08T04:31:13.460Z"
   },
   {
    "duration": -128,
    "start_time": "2021-08-08T04:31:13.463Z"
   },
   {
    "duration": -130,
    "start_time": "2021-08-08T04:31:13.466Z"
   },
   {
    "duration": -133,
    "start_time": "2021-08-08T04:31:13.470Z"
   },
   {
    "duration": -135,
    "start_time": "2021-08-08T04:31:13.474Z"
   },
   {
    "duration": -143,
    "start_time": "2021-08-08T04:31:13.483Z"
   },
   {
    "duration": -145,
    "start_time": "2021-08-08T04:31:13.486Z"
   },
   {
    "duration": -148,
    "start_time": "2021-08-08T04:31:13.490Z"
   },
   {
    "duration": -149,
    "start_time": "2021-08-08T04:31:13.493Z"
   },
   {
    "duration": -151,
    "start_time": "2021-08-08T04:31:13.496Z"
   },
   {
    "duration": -153,
    "start_time": "2021-08-08T04:31:13.499Z"
   },
   {
    "duration": -156,
    "start_time": "2021-08-08T04:31:13.503Z"
   },
   {
    "duration": 2425,
    "start_time": "2021-08-08T04:33:41.718Z"
   },
   {
    "duration": 32,
    "start_time": "2021-08-08T04:50:45.707Z"
   },
   {
    "duration": 121,
    "start_time": "2021-08-08T04:50:45.742Z"
   },
   {
    "duration": 20,
    "start_time": "2021-08-08T04:50:45.865Z"
   },
   {
    "duration": 10,
    "start_time": "2021-08-08T04:50:45.888Z"
   },
   {
    "duration": 13,
    "start_time": "2021-08-08T04:50:45.900Z"
   },
   {
    "duration": 51,
    "start_time": "2021-08-08T04:50:45.916Z"
   },
   {
    "duration": 10,
    "start_time": "2021-08-08T04:50:45.969Z"
   },
   {
    "duration": 11,
    "start_time": "2021-08-08T04:50:45.983Z"
   },
   {
    "duration": 18,
    "start_time": "2021-08-08T04:50:45.997Z"
   },
   {
    "duration": 40,
    "start_time": "2021-08-08T04:50:46.017Z"
   },
   {
    "duration": 7,
    "start_time": "2021-08-08T04:50:46.060Z"
   },
   {
    "duration": 10,
    "start_time": "2021-08-08T04:50:46.070Z"
   },
   {
    "duration": 9,
    "start_time": "2021-08-08T04:50:46.082Z"
   },
   {
    "duration": 8,
    "start_time": "2021-08-08T04:50:46.093Z"
   },
   {
    "duration": 9,
    "start_time": "2021-08-08T04:50:46.104Z"
   },
   {
    "duration": 22,
    "start_time": "2021-08-08T04:50:46.155Z"
   },
   {
    "duration": 8,
    "start_time": "2021-08-08T04:50:46.179Z"
   },
   {
    "duration": 23,
    "start_time": "2021-08-08T04:50:46.189Z"
   },
   {
    "duration": 75,
    "start_time": "2021-08-08T04:50:46.214Z"
   },
   {
    "duration": 11,
    "start_time": "2021-08-08T04:50:46.291Z"
   },
   {
    "duration": 15,
    "start_time": "2021-08-08T04:50:46.305Z"
   },
   {
    "duration": 35,
    "start_time": "2021-08-08T04:50:46.322Z"
   },
   {
    "duration": 8,
    "start_time": "2021-08-08T04:50:46.363Z"
   },
   {
    "duration": 15,
    "start_time": "2021-08-08T04:50:46.373Z"
   },
   {
    "duration": 20,
    "start_time": "2021-08-08T04:50:49.216Z"
   },
   {
    "duration": 5,
    "start_time": "2021-08-08T04:52:29.118Z"
   },
   {
    "duration": 132,
    "start_time": "2021-08-08T04:52:29.125Z"
   },
   {
    "duration": 21,
    "start_time": "2021-08-08T04:52:29.260Z"
   },
   {
    "duration": 10,
    "start_time": "2021-08-08T04:52:29.285Z"
   },
   {
    "duration": 12,
    "start_time": "2021-08-08T04:52:29.298Z"
   },
   {
    "duration": 17,
    "start_time": "2021-08-08T04:52:29.357Z"
   },
   {
    "duration": 11,
    "start_time": "2021-08-08T04:52:29.379Z"
   },
   {
    "duration": 14,
    "start_time": "2021-08-08T04:52:29.394Z"
   },
   {
    "duration": 56,
    "start_time": "2021-08-08T04:52:29.411Z"
   },
   {
    "duration": 12,
    "start_time": "2021-08-08T04:52:29.469Z"
   },
   {
    "duration": 8,
    "start_time": "2021-08-08T04:52:29.484Z"
   },
   {
    "duration": 12,
    "start_time": "2021-08-08T04:52:29.495Z"
   },
   {
    "duration": 10,
    "start_time": "2021-08-08T04:52:29.555Z"
   },
   {
    "duration": 9,
    "start_time": "2021-08-08T04:52:29.568Z"
   },
   {
    "duration": 10,
    "start_time": "2021-08-08T04:52:29.579Z"
   },
   {
    "duration": 23,
    "start_time": "2021-08-08T04:52:29.591Z"
   },
   {
    "duration": 44,
    "start_time": "2021-08-08T04:52:29.617Z"
   },
   {
    "duration": 16,
    "start_time": "2021-08-08T04:52:29.664Z"
   },
   {
    "duration": 72,
    "start_time": "2021-08-08T04:52:29.686Z"
   },
   {
    "duration": 13,
    "start_time": "2021-08-08T04:52:29.762Z"
   },
   {
    "duration": 9,
    "start_time": "2021-08-08T04:52:29.777Z"
   },
   {
    "duration": 14,
    "start_time": "2021-08-08T04:52:37.802Z"
   },
   {
    "duration": 22,
    "start_time": "2021-08-08T04:52:45.159Z"
   },
   {
    "duration": 21,
    "start_time": "2021-08-08T04:55:57.810Z"
   },
   {
    "duration": 4,
    "start_time": "2021-08-08T04:56:07.129Z"
   },
   {
    "duration": 131,
    "start_time": "2021-08-08T04:56:07.136Z"
   },
   {
    "duration": 23,
    "start_time": "2021-08-08T04:56:07.270Z"
   },
   {
    "duration": 10,
    "start_time": "2021-08-08T04:56:07.296Z"
   },
   {
    "duration": 11,
    "start_time": "2021-08-08T04:56:07.308Z"
   },
   {
    "duration": 47,
    "start_time": "2021-08-08T04:56:07.321Z"
   },
   {
    "duration": 10,
    "start_time": "2021-08-08T04:56:07.372Z"
   },
   {
    "duration": 12,
    "start_time": "2021-08-08T04:56:07.385Z"
   },
   {
    "duration": 13,
    "start_time": "2021-08-08T04:56:07.400Z"
   },
   {
    "duration": 46,
    "start_time": "2021-08-08T04:56:07.416Z"
   },
   {
    "duration": 7,
    "start_time": "2021-08-08T04:56:07.464Z"
   },
   {
    "duration": 10,
    "start_time": "2021-08-08T04:56:07.473Z"
   },
   {
    "duration": 12,
    "start_time": "2021-08-08T04:56:07.485Z"
   },
   {
    "duration": 14,
    "start_time": "2021-08-08T04:56:07.499Z"
   },
   {
    "duration": 53,
    "start_time": "2021-08-08T04:56:07.515Z"
   },
   {
    "duration": 23,
    "start_time": "2021-08-08T04:56:07.570Z"
   },
   {
    "duration": 8,
    "start_time": "2021-08-08T04:56:07.595Z"
   },
   {
    "duration": 20,
    "start_time": "2021-08-08T04:56:07.606Z"
   },
   {
    "duration": 59,
    "start_time": "2021-08-08T04:56:07.630Z"
   },
   {
    "duration": 12,
    "start_time": "2021-08-08T04:56:07.692Z"
   },
   {
    "duration": 13,
    "start_time": "2021-08-08T04:56:07.706Z"
   },
   {
    "duration": 42,
    "start_time": "2021-08-08T04:56:07.722Z"
   },
   {
    "duration": 22,
    "start_time": "2021-08-08T04:56:13.391Z"
   },
   {
    "duration": 22,
    "start_time": "2021-08-08T05:11:35.589Z"
   },
   {
    "duration": 5,
    "start_time": "2021-08-08T05:11:37.973Z"
   },
   {
    "duration": 9,
    "start_time": "2021-08-08T05:11:40.352Z"
   },
   {
    "duration": 16,
    "start_time": "2021-08-08T05:11:42.963Z"
   },
   {
    "duration": 11,
    "start_time": "2021-08-08T05:11:45.536Z"
   },
   {
    "duration": 11,
    "start_time": "2021-08-08T05:11:47.986Z"
   },
   {
    "duration": 18,
    "start_time": "2021-08-08T05:11:51.745Z"
   },
   {
    "duration": 26,
    "start_time": "2021-08-08T05:11:53.981Z"
   },
   {
    "duration": 28,
    "start_time": "2021-08-08T05:11:59.103Z"
   },
   {
    "duration": 3,
    "start_time": "2021-08-08T05:12:03.713Z"
   },
   {
    "duration": 4325,
    "start_time": "2021-08-08T05:12:05.832Z"
   },
   {
    "duration": 8223,
    "start_time": "2021-08-08T05:12:13.404Z"
   },
   {
    "duration": 3,
    "start_time": "2021-08-08T05:12:25.976Z"
   },
   {
    "duration": 15,
    "start_time": "2021-08-08T05:12:31.992Z"
   },
   {
    "duration": 5,
    "start_time": "2021-08-08T05:12:35.556Z"
   },
   {
    "duration": 13,
    "start_time": "2021-08-08T05:12:41.636Z"
   },
   {
    "duration": 5,
    "start_time": "2021-08-08T05:12:43.784Z"
   },
   {
    "duration": 17,
    "start_time": "2021-08-08T05:12:48.316Z"
   },
   {
    "duration": 20,
    "start_time": "2021-08-08T05:12:52.163Z"
   },
   {
    "duration": 16,
    "start_time": "2021-08-08T05:12:56.058Z"
   },
   {
    "duration": 112,
    "start_time": "2021-08-08T05:12:58.573Z"
   },
   {
    "duration": 18,
    "start_time": "2021-08-08T05:12:59.035Z"
   },
   {
    "duration": 13,
    "start_time": "2021-08-08T05:13:44.329Z"
   },
   {
    "duration": 126,
    "start_time": "2021-08-08T05:14:15.286Z"
   },
   {
    "duration": 14,
    "start_time": "2021-08-08T05:14:21.126Z"
   },
   {
    "duration": 14,
    "start_time": "2021-08-08T05:14:26.136Z"
   },
   {
    "duration": 726,
    "start_time": "2021-08-08T05:14:32.423Z"
   },
   {
    "duration": 35,
    "start_time": "2021-08-08T05:14:43.060Z"
   },
   {
    "duration": 35,
    "start_time": "2021-08-08T05:15:00.619Z"
   },
   {
    "duration": 109,
    "start_time": "2021-08-08T05:15:06.340Z"
   },
   {
    "duration": 30,
    "start_time": "2021-08-08T05:15:12.850Z"
   },
   {
    "duration": 129,
    "start_time": "2021-08-08T05:31:47.097Z"
   },
   {
    "duration": 114,
    "start_time": "2021-08-08T05:37:14.140Z"
   },
   {
    "duration": 34,
    "start_time": "2021-08-08T06:38:17.108Z"
   },
   {
    "duration": 113,
    "start_time": "2021-08-08T06:38:17.145Z"
   },
   {
    "duration": 53,
    "start_time": "2021-08-08T06:38:17.261Z"
   },
   {
    "duration": 21,
    "start_time": "2021-08-08T06:38:17.357Z"
   },
   {
    "duration": 11,
    "start_time": "2021-08-08T06:38:17.382Z"
   },
   {
    "duration": 14,
    "start_time": "2021-08-08T06:38:17.396Z"
   },
   {
    "duration": 61,
    "start_time": "2021-08-08T06:38:17.413Z"
   },
   {
    "duration": 14,
    "start_time": "2021-08-08T06:38:17.478Z"
   },
   {
    "duration": 18,
    "start_time": "2021-08-08T06:38:17.495Z"
   },
   {
    "duration": 14,
    "start_time": "2021-08-08T06:38:17.515Z"
   },
   {
    "duration": 10,
    "start_time": "2021-08-08T06:38:17.555Z"
   },
   {
    "duration": 12,
    "start_time": "2021-08-08T06:38:17.568Z"
   },
   {
    "duration": 16,
    "start_time": "2021-08-08T06:38:17.582Z"
   },
   {
    "duration": 15,
    "start_time": "2021-08-08T06:38:17.601Z"
   },
   {
    "duration": 8,
    "start_time": "2021-08-08T06:38:17.618Z"
   },
   {
    "duration": 10,
    "start_time": "2021-08-08T06:38:17.660Z"
   },
   {
    "duration": 25,
    "start_time": "2021-08-08T06:38:17.672Z"
   },
   {
    "duration": 7,
    "start_time": "2021-08-08T06:38:17.699Z"
   },
   {
    "duration": 50,
    "start_time": "2021-08-08T06:38:17.709Z"
   },
   {
    "duration": 43,
    "start_time": "2021-08-08T06:38:17.761Z"
   },
   {
    "duration": 12,
    "start_time": "2021-08-08T06:38:17.806Z"
   },
   {
    "duration": 40,
    "start_time": "2021-08-08T06:38:17.820Z"
   },
   {
    "duration": 21,
    "start_time": "2021-08-08T06:38:17.865Z"
   },
   {
    "duration": 27,
    "start_time": "2021-08-08T06:38:17.889Z"
   },
   {
    "duration": 5,
    "start_time": "2021-08-08T06:38:17.919Z"
   },
   {
    "duration": 30,
    "start_time": "2021-08-08T06:38:17.927Z"
   },
   {
    "duration": 15,
    "start_time": "2021-08-08T06:38:17.959Z"
   },
   {
    "duration": 21,
    "start_time": "2021-08-08T06:38:17.976Z"
   },
   {
    "duration": 11,
    "start_time": "2021-08-08T06:38:18.000Z"
   },
   {
    "duration": 49,
    "start_time": "2021-08-08T06:38:18.014Z"
   },
   {
    "duration": 38,
    "start_time": "2021-08-08T06:38:18.065Z"
   },
   {
    "duration": 27,
    "start_time": "2021-08-08T06:38:18.106Z"
   },
   {
    "duration": 20,
    "start_time": "2021-08-08T06:38:18.136Z"
   },
   {
    "duration": 5055,
    "start_time": "2021-08-08T06:38:18.158Z"
   },
   {
    "duration": 9196,
    "start_time": "2021-08-08T06:38:23.216Z"
   },
   {
    "duration": 15,
    "start_time": "2021-08-08T06:38:32.415Z"
   },
   {
    "duration": 27,
    "start_time": "2021-08-08T06:38:32.432Z"
   },
   {
    "duration": 6,
    "start_time": "2021-08-08T06:38:32.462Z"
   },
   {
    "duration": 20,
    "start_time": "2021-08-08T06:38:32.471Z"
   },
   {
    "duration": 6,
    "start_time": "2021-08-08T06:38:32.494Z"
   },
   {
    "duration": 21,
    "start_time": "2021-08-08T06:38:32.503Z"
   },
   {
    "duration": 49,
    "start_time": "2021-08-08T06:38:32.527Z"
   },
   {
    "duration": 17,
    "start_time": "2021-08-08T06:38:32.579Z"
   },
   {
    "duration": 15,
    "start_time": "2021-08-08T06:38:32.599Z"
   },
   {
    "duration": 51,
    "start_time": "2021-08-08T06:38:32.617Z"
   },
   {
    "duration": 15,
    "start_time": "2021-08-08T06:38:32.671Z"
   },
   {
    "duration": 16,
    "start_time": "2021-08-08T06:38:32.689Z"
   },
   {
    "duration": 74,
    "start_time": "2021-08-08T06:38:32.708Z"
   },
   {
    "duration": 30,
    "start_time": "2021-08-08T06:38:32.785Z"
   },
   {
    "duration": 58,
    "start_time": "2021-08-08T06:38:32.817Z"
   },
   {
    "duration": 30,
    "start_time": "2021-08-08T06:38:32.878Z"
   },
   {
    "duration": 563,
    "start_time": "2022-01-11T07:29:47.208Z"
   },
   {
    "duration": 57,
    "start_time": "2022-01-11T07:29:47.773Z"
   },
   {
    "duration": 37,
    "start_time": "2022-01-11T07:29:47.831Z"
   },
   {
    "duration": 22,
    "start_time": "2022-01-11T07:29:47.870Z"
   },
   {
    "duration": 5,
    "start_time": "2022-01-11T07:29:47.894Z"
   },
   {
    "duration": 7,
    "start_time": "2022-01-11T07:29:47.900Z"
   },
   {
    "duration": 9,
    "start_time": "2022-01-11T07:29:47.909Z"
   },
   {
    "duration": 7,
    "start_time": "2022-01-11T07:29:47.920Z"
   },
   {
    "duration": 7,
    "start_time": "2022-01-11T07:29:47.929Z"
   },
   {
    "duration": 10,
    "start_time": "2022-01-11T07:29:47.938Z"
   },
   {
    "duration": 48,
    "start_time": "2022-01-11T07:29:47.949Z"
   },
   {
    "duration": 5,
    "start_time": "2022-01-11T07:29:47.999Z"
   },
   {
    "duration": 7,
    "start_time": "2022-01-11T07:29:48.005Z"
   },
   {
    "duration": 8,
    "start_time": "2022-01-11T07:29:48.014Z"
   },
   {
    "duration": 7,
    "start_time": "2022-01-11T07:29:48.023Z"
   },
   {
    "duration": 6,
    "start_time": "2022-01-11T07:29:48.032Z"
   },
   {
    "duration": 58,
    "start_time": "2022-01-11T07:29:48.040Z"
   },
   {
    "duration": 6,
    "start_time": "2022-01-11T07:29:48.100Z"
   },
   {
    "duration": 13,
    "start_time": "2022-01-11T07:29:48.108Z"
   },
   {
    "duration": 33,
    "start_time": "2022-01-11T07:29:48.123Z"
   },
   {
    "duration": 36,
    "start_time": "2022-01-11T07:29:48.158Z"
   },
   {
    "duration": 6,
    "start_time": "2022-01-11T07:29:48.196Z"
   },
   {
    "duration": 16,
    "start_time": "2022-01-11T07:29:48.206Z"
   },
   {
    "duration": 17,
    "start_time": "2022-01-11T07:29:48.224Z"
   },
   {
    "duration": 3,
    "start_time": "2022-01-11T07:29:48.243Z"
   },
   {
    "duration": 8,
    "start_time": "2022-01-11T07:29:48.247Z"
   },
   {
    "duration": 43,
    "start_time": "2022-01-11T07:29:48.257Z"
   },
   {
    "duration": 9,
    "start_time": "2022-01-11T07:29:48.302Z"
   },
   {
    "duration": 8,
    "start_time": "2022-01-11T07:29:48.312Z"
   },
   {
    "duration": 12,
    "start_time": "2022-01-11T07:29:48.321Z"
   },
   {
    "duration": 20,
    "start_time": "2022-01-11T07:29:48.334Z"
   },
   {
    "duration": 48,
    "start_time": "2022-01-11T07:29:48.356Z"
   },
   {
    "duration": 2,
    "start_time": "2022-01-11T07:29:48.406Z"
   },
   {
    "duration": 3727,
    "start_time": "2022-01-11T07:29:48.410Z"
   },
   {
    "duration": 5452,
    "start_time": "2022-01-11T07:29:52.139Z"
   },
   {
    "duration": 3,
    "start_time": "2022-01-11T07:29:57.593Z"
   },
   {
    "duration": 13,
    "start_time": "2022-01-11T07:29:57.598Z"
   },
   {
    "duration": 6,
    "start_time": "2022-01-11T07:29:57.613Z"
   },
   {
    "duration": 12,
    "start_time": "2022-01-11T07:29:57.621Z"
   },
   {
    "duration": 3,
    "start_time": "2022-01-11T07:29:57.635Z"
   },
   {
    "duration": 17,
    "start_time": "2022-01-11T07:29:57.639Z"
   },
   {
    "duration": 36,
    "start_time": "2022-01-11T07:29:57.657Z"
   },
   {
    "duration": 11,
    "start_time": "2022-01-11T07:29:57.695Z"
   },
   {
    "duration": 11,
    "start_time": "2022-01-11T07:29:57.708Z"
   },
   {
    "duration": 8,
    "start_time": "2022-01-11T07:29:57.721Z"
   },
   {
    "duration": 9,
    "start_time": "2022-01-11T07:29:57.731Z"
   },
   {
    "duration": 8,
    "start_time": "2022-01-11T07:29:57.741Z"
   },
   {
    "duration": 451,
    "start_time": "2022-01-11T07:29:57.751Z"
   },
   {
    "duration": 24,
    "start_time": "2022-01-11T07:29:58.204Z"
   },
   {
    "duration": 19,
    "start_time": "2022-01-11T07:29:58.229Z"
   },
   {
    "duration": 19,
    "start_time": "2022-01-11T07:29:58.249Z"
   }
  ],
  "kernelspec": {
   "display_name": "Python 3",
   "language": "python",
   "name": "python3"
  },
  "language_info": {
   "codemirror_mode": {
    "name": "ipython",
    "version": 3
   },
   "file_extension": ".py",
   "mimetype": "text/x-python",
   "name": "python",
   "nbconvert_exporter": "python",
   "pygments_lexer": "ipython3",
   "version": "3.8.8"
  },
  "toc": {
   "base_numbering": 1,
   "nav_menu": {
    "height": "12px",
    "width": "160px"
   },
   "number_sections": true,
   "sideBar": true,
   "skip_h1_title": true,
   "title_cell": "Table of Contents",
   "title_sidebar": "Contents",
   "toc_cell": false,
   "toc_position": {
    "height": "calc(100% - 180px)",
    "left": "10px",
    "top": "150px",
    "width": "177px"
   },
   "toc_section_display": true,
   "toc_window_display": true
  }
 },
 "nbformat": 4,
 "nbformat_minor": 4
}
