{
 "cells": [
  {
   "cell_type": "markdown",
   "id": "6fbfcc5f-428b-49e2-be41-3048a8061ed4",
   "metadata": {},
   "source": [
    "# Анализ взаимодействия пользователей Яндекс.Дзен с карточками статей"
   ]
  },
  {
   "cell_type": "markdown",
   "id": "af8f63b0-2d11-4908-99cb-0061a35d885d",
   "metadata": {},
   "source": [
    "На основе данных о взаимодействии пользователей Яндекс.Дзен с карточками статей необходимо построить дашборд и ответить на вопросы:\n",
    "- Cколько взаимодействий пользователей с карточками происходит в системе с разбивкой по темам карточек?\n",
    "- Как много карточек генерируют источники с разными темами?\n",
    "- Как соотносятся темы карточек и темы источников?\n",
    "\n",
    "Дашборд основывается на пайплайне, который берет данные из таблиц, в которых хранятся сырые данные, трансформирует данные и укладывает их в агрегирующую таблицу. Пайплайн разработан дата-инженерами."
   ]
  },
  {
   "cell_type": "markdown",
   "id": "60b4e162-38ce-4a10-a13f-17ffea06e564",
   "metadata": {},
   "source": [
    "[**Дашборд**](https://public.tableau.com/app/profile/kseniya.vorobeva/viz/AnalysisofuserinteractionwithYandex_Zenarticlecards/Dashboard1?publish=yes)"
   ]
  },
  {
   "cell_type": "markdown",
   "id": "8003140a-6349-41f2-a90d-83aef87b48e3",
   "metadata": {},
   "source": [
    "## Коннекция к базе"
   ]
  },
  {
   "cell_type": "markdown",
   "id": "e8795c39-3614-4f6d-a477-2362dbf6a53f",
   "metadata": {},
   "source": [
    "Загрузка необходимых библиотек"
   ]
  },
  {
   "cell_type": "code",
   "execution_count": 1,
   "id": "5628a853-b4c7-4301-96ef-64951c6a7cf7",
   "metadata": {},
   "outputs": [
    {
     "name": "stdout",
     "output_type": "stream",
     "text": [
      "Requirement already satisfied: psycopg2 in c:\\users\\vorobiev\\anaconda3\\lib\\site-packages (2.9.2)\n",
      "Note: you may need to restart the kernel to use updated packages.\n"
     ]
    }
   ],
   "source": [
    "pip install psycopg2"
   ]
  },
  {
   "cell_type": "code",
   "execution_count": 2,
   "id": "46fe7cfe-5938-4d18-b7b0-eb61ab39ae00",
   "metadata": {},
   "outputs": [],
   "source": [
    "import pandas as pd\n",
    "from sqlalchemy import create_engine"
   ]
  },
  {
   "cell_type": "markdown",
   "id": "70c8e57e-d4ac-479a-83fd-c9e1e3cf67f5",
   "metadata": {},
   "source": [
    "Коннекция к базе"
   ]
  },
  {
   "cell_type": "code",
   "execution_count": 3,
   "id": "75fd3f52-1adb-4a19-9d2f-995b9f243dd4",
   "metadata": {},
   "outputs": [],
   "source": [
    "db_config = {'user': 'praktikum_student', # имя пользователя\n",
    "            'pwd': 'Sdf4$2;d-d30pp', # пароль\n",
    "            'host': 'rc1b-wcoijxj3yxfsf3fs.mdb.yandexcloud.net',\n",
    "            'port': 6432, # порт подключения\n",
    "            'db': 'data-analyst-zen-project-db'} # название базы данных\n",
    "\n",
    "connection_string = 'postgresql://{}:{}@{}:{}/{}'.format(db_config['user'],\n",
    "                                                db_config['pwd'],\n",
    "                                                db_config['host'],\n",
    "                                                db_config['port'],\n",
    "                                                db_config['db'])\n",
    "engine = create_engine(connection_string)"
   ]
  },
  {
   "cell_type": "markdown",
   "id": "7a2c830a-6746-4cc1-b7db-d9d31e50d1a3",
   "metadata": {},
   "source": [
    "Создание SQL-запроса"
   ]
  },
  {
   "cell_type": "code",
   "execution_count": 4,
   "id": "9ccc90fc-f44a-49a8-9702-0de29d5f068a",
   "metadata": {},
   "outputs": [],
   "source": [
    "query = 'SELECT * FROM dash_visits'"
   ]
  },
  {
   "cell_type": "markdown",
   "id": "216c96e8-9012-44cb-adb8-1597ebde5589",
   "metadata": {},
   "source": [
    "Выгрузка данныхиз таблицы"
   ]
  },
  {
   "cell_type": "code",
   "execution_count": 5,
   "id": "f66c0e5f-73ad-4c19-941e-14a370493d34",
   "metadata": {},
   "outputs": [],
   "source": [
    "data = pd.io.sql.read_sql(query, con = engine)\n",
    "data.to_csv('dash_visits.csv')"
   ]
  },
  {
   "cell_type": "code",
   "execution_count": 6,
   "id": "8d06e7aa-90e4-4a5f-ad20-123a0c9143b8",
   "metadata": {},
   "outputs": [
    {
     "name": "stdout",
     "output_type": "stream",
     "text": [
      "<class 'pandas.core.frame.DataFrame'>\n",
      "RangeIndex: 30745 entries, 0 to 30744\n",
      "Data columns (total 6 columns):\n",
      " #   Column        Non-Null Count  Dtype         \n",
      "---  ------        --------------  -----         \n",
      " 0   record_id     30745 non-null  int64         \n",
      " 1   item_topic    30745 non-null  object        \n",
      " 2   source_topic  30745 non-null  object        \n",
      " 3   age_segment   30745 non-null  object        \n",
      " 4   dt            30745 non-null  datetime64[ns]\n",
      " 5   visits        30745 non-null  int64         \n",
      "dtypes: datetime64[ns](1), int64(2), object(3)\n",
      "memory usage: 1.4+ MB\n"
     ]
    }
   ],
   "source": [
    "data.info()"
   ]
  },
  {
   "cell_type": "markdown",
   "id": "50483b9f-1a97-4f8f-9ac9-0962c2dde38f",
   "metadata": {},
   "source": [
    "Агрегированные данные разбиты на 6 столбцов:\n",
    "- record_id - идентификатор\n",
    "- item_topic - Тема карточки\n",
    "- source_topic - Тема источника\n",
    "- age_segment - возрастной сегмент пользователей\n",
    "- dt - дата и время\n",
    "- visits - число взаимодействий"
   ]
  },
  {
   "cell_type": "markdown",
   "id": "79f4f6c0-6525-4411-a4d2-6e7646cbf11f",
   "metadata": {},
   "source": [
    "## Выводы"
   ]
  },
  {
   "cell_type": "markdown",
   "id": "93e76388-5822-456a-9eb9-7d858163707f",
   "metadata": {},
   "source": [
    "- Из 25 тем карточек, 50% событий приходится на 9 тем: «Наука», «Отношения», «Интересные факты», «Общество», «Подборки», «Россия», «Полезные советы», «История»  и «Семья». При этом в пике генерации наибольшее число событий у карточек с темами «Наука», «Отношения», «Интересные факты».\n",
    "- Наибольшее число событий генерируют источники с темами «Семейные отношения» - 10.7%, «Россия» - 9.6%, «Полезные советы» - 8.8%. Меньше всего генерируют источники с темами «Финансы» - 0.8%, «Музыка» - 0.9% и «Строительство» - 1%\n",
    "- Что касается соотношения тем карточек и источников, Наибольшее число событий сгенерировали  карточки с темой «Рассказы» и источником «Путешествия» - 4587.  Высокие показатели генерации событий у карточек с темой «Общество» и источником «Россия» - 3471 и карточек с темой «Наука» и источником «Кино» - 3279. Для большинства тем карточек и источников существуют сгенерированные события, но есть темы, не имеющие «точек соприкосновения»: карточки с темой «Шоу» не имели среди источников тем «Сад и дача», «Сделай сам» и «Технологии», карточки с темой «Женская психология» не имели источников с темой «Строительство» и «Интерьеры», карточки с темой «Скандалы» не имели среди источников тему «Строительство»"
   ]
  }
 ],
 "metadata": {
  "kernelspec": {
   "display_name": "Python 3",
   "language": "python",
   "name": "python3"
  },
  "language_info": {
   "codemirror_mode": {
    "name": "ipython",
    "version": 3
   },
   "file_extension": ".py",
   "mimetype": "text/x-python",
   "name": "python",
   "nbconvert_exporter": "python",
   "pygments_lexer": "ipython3",
   "version": "3.8.8"
  }
 },
 "nbformat": 4,
 "nbformat_minor": 5
}
